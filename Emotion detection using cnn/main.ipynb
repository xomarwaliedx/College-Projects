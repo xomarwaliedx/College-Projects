{
  "cells": [
    {
      "cell_type": "code",
      "execution_count": 1,
      "metadata": {
        "id": "UVOhiWvwx7ou",
        "colab": {
          "base_uri": "https://localhost:8080/"
        },
        "outputId": "83d71f29-87c7-4447-b125-fabe782c1c1f"
      },
      "outputs": [
        {
          "output_type": "stream",
          "name": "stdout",
          "text": [
            "Mounted at /content/drive/\n"
          ]
        }
      ],
      "source": [
        "from google.colab import drive\n",
        "drive.mount('/content/drive/')"
      ]
    },
    {
      "cell_type": "code",
      "execution_count": null,
      "metadata": {
        "id": "HH_VjROMyQ3F"
      },
      "outputs": [],
      "source": [
        "!pip install kaggle\n",
        "!mkdir ~/.kaggle\n",
        "!cp \"/content/drive/My Drive/kaggle.json\" ~/.kaggle/\n",
        "!kaggle datasets download -d dmitrybabko/speech-emotion-recognition-en -p /content/drive/MyDrive/assignment3"
      ]
    },
    {
      "cell_type": "code",
      "execution_count": null,
      "metadata": {
        "id": "aun9PK2z0SWs"
      },
      "outputs": [],
      "source": [
        "!unzip '/content/drive/MyDrive/assignment3/speech-emotion-recognition-en.zip' -d '/content/drive/MyDrive/assignment3'"
      ]
    },
    {
      "cell_type": "code",
      "execution_count": 17,
      "metadata": {
        "id": "RiFpytzv4hgA"
      },
      "outputs": [],
      "source": [
        "import os\n",
        "import librosa\n",
        "import librosa.display\n",
        "import matplotlib.pyplot as plt\n",
        "import numpy as np\n",
        "import pandas as pd\n",
        "from sklearn.model_selection import train_test_split\n",
        "from sklearn.preprocessing import MinMaxScaler\n",
        "import tensorflow as tf\n",
        "from tensorflow.keras import layers, models\n",
        "from tensorflow import keras\n",
        "from PIL import Image\n",
        "from numpy import asarray\n",
        "from tensorflow.keras.utils import img_to_array\n",
        "from tensorflow.keras.utils import array_to_img\n",
        "from tensorflow.keras.models import Sequential\n",
        "from tensorflow.keras.layers import Dense\n",
        "from sklearn.preprocessing import LabelEncoder\n",
        "from tensorflow.keras.layers import Conv1D, MaxPool1D, Input, Dropout, GlobalMaxPooling1D, MaxPooling1D, Dense\n",
        "from tensorflow.keras import activations, optimizers, losses\n",
        "from sklearn.metrics import accuracy_score, f1_score, confusion_matrix\n",
        "from tensorflow.keras.callbacks import ModelCheckpoint"
      ]
    },
    {
      "cell_type": "code",
      "execution_count": 3,
      "metadata": {
        "colab": {
          "base_uri": "https://localhost:8080/"
        },
        "id": "egChQFZK3bMD",
        "outputId": "f71eb14b-409f-40e0-d46c-d25cc6cbf37f"
      },
      "outputs": [
        {
          "output_type": "stream",
          "name": "stdout",
          "text": [
            "ANG: 1271\n",
            "DIS: 1271\n",
            "FEA: 1271\n",
            "HAP: 1271\n",
            "NEU: 1087\n",
            "SAD: 1271\n"
          ]
        }
      ],
      "source": [
        "#classifying according to emotion\n",
        "\n",
        "\n",
        "# Define a list of emotions\n",
        "emotions = ['ANG', 'DIS', 'FEA', 'HAP', 'NEU', 'SAD']\n",
        "\n",
        "# Path to directory containing audio files\n",
        "audio_path = '/content/drive/MyDrive/assignment3/Crema'\n",
        "\n",
        "# Create a dictionary to store the file paths for each emotion\n",
        "emotion_files = {e: [] for e in emotions}\n",
        "# Loop over each audio file in directory\n",
        "for audio_file_name in os.listdir(audio_path):\n",
        "    # Check if file is a WAV file\n",
        "    if audio_file_name.endswith('.wav'):\n",
        "        # Extract the emotion from file name\n",
        "        file_parts = audio_file_name.split('_')\n",
        "        emotion = file_parts[2]\n",
        "\n",
        "        # Check if the emotion is valid\n",
        "        if emotion in emotions:\n",
        "            # Construct path to audio file\n",
        "            audio_file_path = os.path.join(audio_path, audio_file_name)\n",
        "            \n",
        "            # Add the file path to the list of files for this emotion\n",
        "            emotion_files[emotion].append(audio_file_path)\n",
        "            \n",
        "# Print the number of files for each emotion\n",
        "for emotion, files in emotion_files.items():\n",
        "    print(f'{emotion}: {len(files)}')\n"
      ]
    },
    {
      "cell_type": "code",
      "execution_count": 4,
      "metadata": {
        "id": "qDSJiHHAO0J3"
      },
      "outputs": [],
      "source": [
        "def calculate_energy(audio_array, frame_length):\n",
        "    squared_values = np.square(audio_array)\n",
        "    sum_of_squares = np.sum(squared_values)\n",
        "    normalized_energy = sum_of_squares / frame_length\n",
        "    return normalized_energy"
      ]
    },
    {
      "cell_type": "code",
      "execution_count": null,
      "metadata": {
        "id": "MMmfiiBqqExb"
      },
      "outputs": [],
      "source": [
        "# for emotion in emotions:\n",
        "#     # Get the file paths for this emotion\n",
        "#     emotion_file = [os.path.join(audio_path, f) for f in os.listdir(audio_path) if f.endswith('.wav') and f.split('_')[2] == emotion]\n",
        "    \n",
        "#     # Load and plot the audio for this emotion\n",
        "#     for file_path in emotion_file:\n",
        "#         # Load audio file\n",
        "#         audio, sr = librosa.load(file_path, sr=None)\n",
        "\n",
        "\n",
        "#         mfcc = librosa.feature.mfcc(y=audio,sr=sr)\n",
        "#         stft = np.abs(librosa.stft(audio))\n",
        "#         zcr = librosa.feature.zero_crossing_rate(audio)\n",
        "#         f0 = librosa.yin(audio, fmin=80, fmax=400, sr=sr)\n",
        "#         f0=f0.reshape(1,f0.shape[0])\n",
        "#         spectral_centroids = librosa.feature.spectral_centroid(y=audio, sr=sr)\n",
        "\n",
        "#         print(\"STFT shape:\", stft.shape)\n",
        "#         print(\"MFCC shape:\", mfcc.shape)\n",
        "#         print(\"ZCR shape:\", zcr.shape)\n",
        "#         print(\"Pitch shape:\", f0.shape)\n",
        "#         print(\"Spectral Centroid shape:\", spectral_centroids.shape)\n",
        "\n",
        "#         # max_length = max(mfcc.shape[1], stft.shape[1], zcr.shape[1], f0.shape[1], spectral_centroids.shape[1])\n",
        "#         max_length =158\n",
        "#         mfcc = np.pad(mfcc, ((0, 0), (0, max_length - mfcc.shape[1])), mode='constant')\n",
        "#         stft = np.pad(stft, ((0, 0), (0, max_length - stft.shape[1])), mode='constant')\n",
        "#         zcr = np.pad(zcr, ((0, 0), (0, max_length - zcr.shape[1])), mode='constant')\n",
        "#         f0 = np.pad(f0, ((0, 0), (0, max_length - f0.shape[1])), mode='constant')\n",
        "\n",
        "#         # print(f'aaaaaaaaaaaa{max_length}aaaaaaa{f0.shape[0]}')\n",
        "#         # if f0.shape[0] < max_length:\n",
        "#         #   f0 = np.pad(f0, ((0, 0), (0, max_length - f0.shape[1])) , mode='constant')\n",
        "#         # elif f0.shape[0] > max_length:\n",
        "#         #   f0 = f0[:, :max_length]\n",
        "#         spectral_centroids = np.pad(spectral_centroids, ((0, 0), (0, max_length - spectral_centroids.shape[1])), mode='constant')\n",
        "\n",
        "\n",
        "#         print(\"STFT shape:\", stft.shape)\n",
        "#         print(\"MFCC shape:\", mfcc.shape)\n",
        "#         print(\"ZCR shape:\", zcr.shape)\n",
        "#         print(\"Pitch shape:\", f0.shape)\n",
        "#         print(\"Spectral Centroid shape:\", spectral_centroids.shape)\n",
        "\n",
        "\n",
        "#         mfcc_normalized = (mfcc - np.mean(mfcc)) / np.std(mfcc)\n",
        "#         stft_normalized = (stft - np.mean(stft)) / np.std(stft)\n",
        "#         zcr_normalized = (zcr - np.mean(zcr)) / np.std(zcr)\n",
        "#         f0_normalized = (f0 - np.mean(f0)) / np.std(f0)\n",
        "#         spectral_centroids_normalized = (spectral_centroids - np.mean(spectral_centroids)) / np.std(spectral_centroids)\n",
        "\n",
        "\n",
        "#         # features = np.vstack((np.transpose(mfcc_normalized), zcr_normalized, stft_normalized, f0_normalized,spectral_centroids_normalized)).transpose()\n",
        "#         features1 = np.vstack((mfcc_normalized, zcr_normalized, stft_normalized, f0_normalized, spectral_centroids_normalized)).T\n",
        "#         print(features1.shape)"
      ]
    },
    {
      "cell_type": "code",
      "execution_count": 11,
      "metadata": {
        "colab": {
          "base_uri": "https://localhost:8080/"
        },
        "id": "QkmXURl64dlL",
        "outputId": "94f4f400-7f63-4ebd-ec6d-da0d4af5ee29"
      },
      "outputs": [
        {
          "output_type": "stream",
          "name": "stdout",
          "text": [
            "feature1 shape:(41920,)\n",
            "feature1 shape:(41920,)\n"
          ]
        },
        {
          "output_type": "stream",
          "name": "stderr",
          "text": [
            "<ipython-input-11-0bbfc9674b69>:93: FutureWarning: The frame.append method is deprecated and will be removed from pandas in a future version. Use pandas.concat instead.\n",
            "  data = data.append({'emotion': temp, 'mel_spec_db': mel_spec_db, 'features1': np.array2string(features1, separator=',',threshold=np.inf, prefix='[', suffix=']')}, ignore_index=True)\n"
          ]
        },
        {
          "output_type": "stream",
          "name": "stdout",
          "text": [
            "feature1 shape:(41920,)\n",
            "feature1 shape:(41920,)\n"
          ]
        },
        {
          "output_type": "stream",
          "name": "stderr",
          "text": [
            "<ipython-input-11-0bbfc9674b69>:93: FutureWarning: The frame.append method is deprecated and will be removed from pandas in a future version. Use pandas.concat instead.\n",
            "  data = data.append({'emotion': temp, 'mel_spec_db': mel_spec_db, 'features1': np.array2string(features1, separator=',',threshold=np.inf, prefix='[', suffix=']')}, ignore_index=True)\n"
          ]
        },
        {
          "output_type": "stream",
          "name": "stdout",
          "text": [
            "feature1 shape:(41920,)\n",
            "feature1 shape:(41920,)\n"
          ]
        },
        {
          "output_type": "stream",
          "name": "stderr",
          "text": [
            "<ipython-input-11-0bbfc9674b69>:93: FutureWarning: The frame.append method is deprecated and will be removed from pandas in a future version. Use pandas.concat instead.\n",
            "  data = data.append({'emotion': temp, 'mel_spec_db': mel_spec_db, 'features1': np.array2string(features1, separator=',',threshold=np.inf, prefix='[', suffix=']')}, ignore_index=True)\n"
          ]
        },
        {
          "output_type": "stream",
          "name": "stdout",
          "text": [
            "feature1 shape:(41920,)\n",
            "feature1 shape:(41920,)\n"
          ]
        },
        {
          "output_type": "stream",
          "name": "stderr",
          "text": [
            "<ipython-input-11-0bbfc9674b69>:93: FutureWarning: The frame.append method is deprecated and will be removed from pandas in a future version. Use pandas.concat instead.\n",
            "  data = data.append({'emotion': temp, 'mel_spec_db': mel_spec_db, 'features1': np.array2string(features1, separator=',',threshold=np.inf, prefix='[', suffix=']')}, ignore_index=True)\n"
          ]
        },
        {
          "output_type": "stream",
          "name": "stdout",
          "text": [
            "feature1 shape:(41920,)\n",
            "feature1 shape:(41920,)\n"
          ]
        },
        {
          "output_type": "stream",
          "name": "stderr",
          "text": [
            "<ipython-input-11-0bbfc9674b69>:93: FutureWarning: The frame.append method is deprecated and will be removed from pandas in a future version. Use pandas.concat instead.\n",
            "  data = data.append({'emotion': temp, 'mel_spec_db': mel_spec_db, 'features1': np.array2string(features1, separator=',',threshold=np.inf, prefix='[', suffix=']')}, ignore_index=True)\n"
          ]
        },
        {
          "output_type": "stream",
          "name": "stdout",
          "text": [
            "feature1 shape:(41920,)\n",
            "feature1 shape:(41920,)\n"
          ]
        },
        {
          "output_type": "stream",
          "name": "stderr",
          "text": [
            "<ipython-input-11-0bbfc9674b69>:93: FutureWarning: The frame.append method is deprecated and will be removed from pandas in a future version. Use pandas.concat instead.\n",
            "  data = data.append({'emotion': temp, 'mel_spec_db': mel_spec_db, 'features1': np.array2string(features1, separator=',',threshold=np.inf, prefix='[', suffix=']')}, ignore_index=True)\n"
          ]
        },
        {
          "output_type": "stream",
          "name": "stdout",
          "text": [
            "feature1 shape:(41920,)\n",
            "feature1 shape:(41920,)\n"
          ]
        },
        {
          "output_type": "stream",
          "name": "stderr",
          "text": [
            "<ipython-input-11-0bbfc9674b69>:93: FutureWarning: The frame.append method is deprecated and will be removed from pandas in a future version. Use pandas.concat instead.\n",
            "  data = data.append({'emotion': temp, 'mel_spec_db': mel_spec_db, 'features1': np.array2string(features1, separator=',',threshold=np.inf, prefix='[', suffix=']')}, ignore_index=True)\n"
          ]
        },
        {
          "output_type": "stream",
          "name": "stdout",
          "text": [
            "feature1 shape:(41920,)\n",
            "feature1 shape:(41920,)\n"
          ]
        },
        {
          "output_type": "stream",
          "name": "stderr",
          "text": [
            "<ipython-input-11-0bbfc9674b69>:93: FutureWarning: The frame.append method is deprecated and will be removed from pandas in a future version. Use pandas.concat instead.\n",
            "  data = data.append({'emotion': temp, 'mel_spec_db': mel_spec_db, 'features1': np.array2string(features1, separator=',',threshold=np.inf, prefix='[', suffix=']')}, ignore_index=True)\n"
          ]
        },
        {
          "output_type": "stream",
          "name": "stdout",
          "text": [
            "feature1 shape:(41920,)\n",
            "feature1 shape:(41920,)\n"
          ]
        },
        {
          "output_type": "stream",
          "name": "stderr",
          "text": [
            "<ipython-input-11-0bbfc9674b69>:93: FutureWarning: The frame.append method is deprecated and will be removed from pandas in a future version. Use pandas.concat instead.\n",
            "  data = data.append({'emotion': temp, 'mel_spec_db': mel_spec_db, 'features1': np.array2string(features1, separator=',',threshold=np.inf, prefix='[', suffix=']')}, ignore_index=True)\n"
          ]
        },
        {
          "output_type": "stream",
          "name": "stdout",
          "text": [
            "feature1 shape:(41920,)\n",
            "feature1 shape:(41920,)\n"
          ]
        },
        {
          "output_type": "stream",
          "name": "stderr",
          "text": [
            "<ipython-input-11-0bbfc9674b69>:93: FutureWarning: The frame.append method is deprecated and will be removed from pandas in a future version. Use pandas.concat instead.\n",
            "  data = data.append({'emotion': temp, 'mel_spec_db': mel_spec_db, 'features1': np.array2string(features1, separator=',',threshold=np.inf, prefix='[', suffix=']')}, ignore_index=True)\n"
          ]
        },
        {
          "output_type": "stream",
          "name": "stdout",
          "text": [
            "feature1 shape:(41920,)\n",
            "feature1 shape:(41920,)\n"
          ]
        },
        {
          "output_type": "stream",
          "name": "stderr",
          "text": [
            "<ipython-input-11-0bbfc9674b69>:93: FutureWarning: The frame.append method is deprecated and will be removed from pandas in a future version. Use pandas.concat instead.\n",
            "  data = data.append({'emotion': temp, 'mel_spec_db': mel_spec_db, 'features1': np.array2string(features1, separator=',',threshold=np.inf, prefix='[', suffix=']')}, ignore_index=True)\n"
          ]
        },
        {
          "output_type": "stream",
          "name": "stdout",
          "text": [
            "feature1 shape:(41920,)\n",
            "feature1 shape:(41920,)\n"
          ]
        },
        {
          "output_type": "stream",
          "name": "stderr",
          "text": [
            "<ipython-input-11-0bbfc9674b69>:93: FutureWarning: The frame.append method is deprecated and will be removed from pandas in a future version. Use pandas.concat instead.\n",
            "  data = data.append({'emotion': temp, 'mel_spec_db': mel_spec_db, 'features1': np.array2string(features1, separator=',',threshold=np.inf, prefix='[', suffix=']')}, ignore_index=True)\n"
          ]
        },
        {
          "output_type": "stream",
          "name": "stdout",
          "text": [
            "feature1 shape:(41920,)\n",
            "feature1 shape:(41920,)\n"
          ]
        },
        {
          "output_type": "stream",
          "name": "stderr",
          "text": [
            "<ipython-input-11-0bbfc9674b69>:93: FutureWarning: The frame.append method is deprecated and will be removed from pandas in a future version. Use pandas.concat instead.\n",
            "  data = data.append({'emotion': temp, 'mel_spec_db': mel_spec_db, 'features1': np.array2string(features1, separator=',',threshold=np.inf, prefix='[', suffix=']')}, ignore_index=True)\n"
          ]
        },
        {
          "output_type": "stream",
          "name": "stdout",
          "text": [
            "feature1 shape:(41920,)\n",
            "feature1 shape:(41920,)\n"
          ]
        },
        {
          "output_type": "stream",
          "name": "stderr",
          "text": [
            "<ipython-input-11-0bbfc9674b69>:93: FutureWarning: The frame.append method is deprecated and will be removed from pandas in a future version. Use pandas.concat instead.\n",
            "  data = data.append({'emotion': temp, 'mel_spec_db': mel_spec_db, 'features1': np.array2string(features1, separator=',',threshold=np.inf, prefix='[', suffix=']')}, ignore_index=True)\n"
          ]
        },
        {
          "output_type": "stream",
          "name": "stdout",
          "text": [
            "feature1 shape:(41920,)\n",
            "feature1 shape:(41920,)\n"
          ]
        },
        {
          "output_type": "stream",
          "name": "stderr",
          "text": [
            "<ipython-input-11-0bbfc9674b69>:93: FutureWarning: The frame.append method is deprecated and will be removed from pandas in a future version. Use pandas.concat instead.\n",
            "  data = data.append({'emotion': temp, 'mel_spec_db': mel_spec_db, 'features1': np.array2string(features1, separator=',',threshold=np.inf, prefix='[', suffix=']')}, ignore_index=True)\n"
          ]
        },
        {
          "output_type": "stream",
          "name": "stdout",
          "text": [
            "feature1 shape:(41920,)\n",
            "feature1 shape:(41920,)\n"
          ]
        },
        {
          "output_type": "stream",
          "name": "stderr",
          "text": [
            "<ipython-input-11-0bbfc9674b69>:93: FutureWarning: The frame.append method is deprecated and will be removed from pandas in a future version. Use pandas.concat instead.\n",
            "  data = data.append({'emotion': temp, 'mel_spec_db': mel_spec_db, 'features1': np.array2string(features1, separator=',',threshold=np.inf, prefix='[', suffix=']')}, ignore_index=True)\n"
          ]
        },
        {
          "output_type": "stream",
          "name": "stdout",
          "text": [
            "feature1 shape:(41920,)\n",
            "feature1 shape:(41920,)\n"
          ]
        },
        {
          "output_type": "stream",
          "name": "stderr",
          "text": [
            "<ipython-input-11-0bbfc9674b69>:93: FutureWarning: The frame.append method is deprecated and will be removed from pandas in a future version. Use pandas.concat instead.\n",
            "  data = data.append({'emotion': temp, 'mel_spec_db': mel_spec_db, 'features1': np.array2string(features1, separator=',',threshold=np.inf, prefix='[', suffix=']')}, ignore_index=True)\n"
          ]
        },
        {
          "output_type": "stream",
          "name": "stdout",
          "text": [
            "feature1 shape:(41920,)\n",
            "feature1 shape:(41920,)\n"
          ]
        },
        {
          "output_type": "stream",
          "name": "stderr",
          "text": [
            "<ipython-input-11-0bbfc9674b69>:93: FutureWarning: The frame.append method is deprecated and will be removed from pandas in a future version. Use pandas.concat instead.\n",
            "  data = data.append({'emotion': temp, 'mel_spec_db': mel_spec_db, 'features1': np.array2string(features1, separator=',',threshold=np.inf, prefix='[', suffix=']')}, ignore_index=True)\n"
          ]
        },
        {
          "output_type": "stream",
          "name": "stdout",
          "text": [
            "feature1 shape:(41920,)\n",
            "feature1 shape:(41920,)\n"
          ]
        },
        {
          "output_type": "stream",
          "name": "stderr",
          "text": [
            "<ipython-input-11-0bbfc9674b69>:93: FutureWarning: The frame.append method is deprecated and will be removed from pandas in a future version. Use pandas.concat instead.\n",
            "  data = data.append({'emotion': temp, 'mel_spec_db': mel_spec_db, 'features1': np.array2string(features1, separator=',',threshold=np.inf, prefix='[', suffix=']')}, ignore_index=True)\n"
          ]
        },
        {
          "output_type": "stream",
          "name": "stdout",
          "text": [
            "feature1 shape:(41920,)\n",
            "feature1 shape:(41920,)\n"
          ]
        },
        {
          "output_type": "stream",
          "name": "stderr",
          "text": [
            "<ipython-input-11-0bbfc9674b69>:93: FutureWarning: The frame.append method is deprecated and will be removed from pandas in a future version. Use pandas.concat instead.\n",
            "  data = data.append({'emotion': temp, 'mel_spec_db': mel_spec_db, 'features1': np.array2string(features1, separator=',',threshold=np.inf, prefix='[', suffix=']')}, ignore_index=True)\n"
          ]
        },
        {
          "output_type": "stream",
          "name": "stdout",
          "text": [
            "feature1 shape:(41920,)\n",
            "feature1 shape:(41920,)\n"
          ]
        },
        {
          "output_type": "stream",
          "name": "stderr",
          "text": [
            "<ipython-input-11-0bbfc9674b69>:93: FutureWarning: The frame.append method is deprecated and will be removed from pandas in a future version. Use pandas.concat instead.\n",
            "  data = data.append({'emotion': temp, 'mel_spec_db': mel_spec_db, 'features1': np.array2string(features1, separator=',',threshold=np.inf, prefix='[', suffix=']')}, ignore_index=True)\n"
          ]
        },
        {
          "output_type": "stream",
          "name": "stdout",
          "text": [
            "feature1 shape:(41920,)\n",
            "feature1 shape:(41920,)\n"
          ]
        },
        {
          "output_type": "stream",
          "name": "stderr",
          "text": [
            "<ipython-input-11-0bbfc9674b69>:93: FutureWarning: The frame.append method is deprecated and will be removed from pandas in a future version. Use pandas.concat instead.\n",
            "  data = data.append({'emotion': temp, 'mel_spec_db': mel_spec_db, 'features1': np.array2string(features1, separator=',',threshold=np.inf, prefix='[', suffix=']')}, ignore_index=True)\n"
          ]
        },
        {
          "output_type": "stream",
          "name": "stdout",
          "text": [
            "feature1 shape:(41920,)\n",
            "feature1 shape:(41920,)\n"
          ]
        },
        {
          "output_type": "stream",
          "name": "stderr",
          "text": [
            "<ipython-input-11-0bbfc9674b69>:93: FutureWarning: The frame.append method is deprecated and will be removed from pandas in a future version. Use pandas.concat instead.\n",
            "  data = data.append({'emotion': temp, 'mel_spec_db': mel_spec_db, 'features1': np.array2string(features1, separator=',',threshold=np.inf, prefix='[', suffix=']')}, ignore_index=True)\n"
          ]
        },
        {
          "output_type": "stream",
          "name": "stdout",
          "text": [
            "feature1 shape:(41920,)\n",
            "feature1 shape:(41920,)\n"
          ]
        },
        {
          "output_type": "stream",
          "name": "stderr",
          "text": [
            "<ipython-input-11-0bbfc9674b69>:93: FutureWarning: The frame.append method is deprecated and will be removed from pandas in a future version. Use pandas.concat instead.\n",
            "  data = data.append({'emotion': temp, 'mel_spec_db': mel_spec_db, 'features1': np.array2string(features1, separator=',',threshold=np.inf, prefix='[', suffix=']')}, ignore_index=True)\n"
          ]
        },
        {
          "output_type": "stream",
          "name": "stdout",
          "text": [
            "feature1 shape:(41920,)\n",
            "feature1 shape:(41920,)\n"
          ]
        },
        {
          "output_type": "stream",
          "name": "stderr",
          "text": [
            "<ipython-input-11-0bbfc9674b69>:93: FutureWarning: The frame.append method is deprecated and will be removed from pandas in a future version. Use pandas.concat instead.\n",
            "  data = data.append({'emotion': temp, 'mel_spec_db': mel_spec_db, 'features1': np.array2string(features1, separator=',',threshold=np.inf, prefix='[', suffix=']')}, ignore_index=True)\n"
          ]
        },
        {
          "output_type": "stream",
          "name": "stdout",
          "text": [
            "feature1 shape:(41920,)\n",
            "feature1 shape:(41920,)\n"
          ]
        },
        {
          "output_type": "stream",
          "name": "stderr",
          "text": [
            "<ipython-input-11-0bbfc9674b69>:93: FutureWarning: The frame.append method is deprecated and will be removed from pandas in a future version. Use pandas.concat instead.\n",
            "  data = data.append({'emotion': temp, 'mel_spec_db': mel_spec_db, 'features1': np.array2string(features1, separator=',',threshold=np.inf, prefix='[', suffix=']')}, ignore_index=True)\n"
          ]
        },
        {
          "output_type": "stream",
          "name": "stdout",
          "text": [
            "feature1 shape:(41920,)\n",
            "feature1 shape:(41920,)\n"
          ]
        },
        {
          "output_type": "stream",
          "name": "stderr",
          "text": [
            "<ipython-input-11-0bbfc9674b69>:93: FutureWarning: The frame.append method is deprecated and will be removed from pandas in a future version. Use pandas.concat instead.\n",
            "  data = data.append({'emotion': temp, 'mel_spec_db': mel_spec_db, 'features1': np.array2string(features1, separator=',',threshold=np.inf, prefix='[', suffix=']')}, ignore_index=True)\n"
          ]
        },
        {
          "output_type": "stream",
          "name": "stdout",
          "text": [
            "feature1 shape:(41920,)\n",
            "feature1 shape:(41920,)\n"
          ]
        },
        {
          "output_type": "stream",
          "name": "stderr",
          "text": [
            "<ipython-input-11-0bbfc9674b69>:93: FutureWarning: The frame.append method is deprecated and will be removed from pandas in a future version. Use pandas.concat instead.\n",
            "  data = data.append({'emotion': temp, 'mel_spec_db': mel_spec_db, 'features1': np.array2string(features1, separator=',',threshold=np.inf, prefix='[', suffix=']')}, ignore_index=True)\n"
          ]
        },
        {
          "output_type": "stream",
          "name": "stdout",
          "text": [
            "feature1 shape:(41920,)\n",
            "feature1 shape:(41920,)\n"
          ]
        },
        {
          "output_type": "stream",
          "name": "stderr",
          "text": [
            "<ipython-input-11-0bbfc9674b69>:93: FutureWarning: The frame.append method is deprecated and will be removed from pandas in a future version. Use pandas.concat instead.\n",
            "  data = data.append({'emotion': temp, 'mel_spec_db': mel_spec_db, 'features1': np.array2string(features1, separator=',',threshold=np.inf, prefix='[', suffix=']')}, ignore_index=True)\n"
          ]
        },
        {
          "output_type": "stream",
          "name": "stdout",
          "text": [
            "feature1 shape:(41920,)\n",
            "feature1 shape:(41920,)\n"
          ]
        },
        {
          "output_type": "stream",
          "name": "stderr",
          "text": [
            "<ipython-input-11-0bbfc9674b69>:93: FutureWarning: The frame.append method is deprecated and will be removed from pandas in a future version. Use pandas.concat instead.\n",
            "  data = data.append({'emotion': temp, 'mel_spec_db': mel_spec_db, 'features1': np.array2string(features1, separator=',',threshold=np.inf, prefix='[', suffix=']')}, ignore_index=True)\n"
          ]
        },
        {
          "output_type": "stream",
          "name": "stdout",
          "text": [
            "feature1 shape:(41920,)\n",
            "feature1 shape:(41920,)\n"
          ]
        },
        {
          "output_type": "stream",
          "name": "stderr",
          "text": [
            "<ipython-input-11-0bbfc9674b69>:93: FutureWarning: The frame.append method is deprecated and will be removed from pandas in a future version. Use pandas.concat instead.\n",
            "  data = data.append({'emotion': temp, 'mel_spec_db': mel_spec_db, 'features1': np.array2string(features1, separator=',',threshold=np.inf, prefix='[', suffix=']')}, ignore_index=True)\n"
          ]
        },
        {
          "output_type": "stream",
          "name": "stdout",
          "text": [
            "feature1 shape:(41920,)\n",
            "feature1 shape:(41920,)\n"
          ]
        },
        {
          "output_type": "stream",
          "name": "stderr",
          "text": [
            "<ipython-input-11-0bbfc9674b69>:93: FutureWarning: The frame.append method is deprecated and will be removed from pandas in a future version. Use pandas.concat instead.\n",
            "  data = data.append({'emotion': temp, 'mel_spec_db': mel_spec_db, 'features1': np.array2string(features1, separator=',',threshold=np.inf, prefix='[', suffix=']')}, ignore_index=True)\n"
          ]
        },
        {
          "output_type": "stream",
          "name": "stdout",
          "text": [
            "feature1 shape:(41920,)\n",
            "feature1 shape:(41920,)\n"
          ]
        },
        {
          "output_type": "stream",
          "name": "stderr",
          "text": [
            "<ipython-input-11-0bbfc9674b69>:93: FutureWarning: The frame.append method is deprecated and will be removed from pandas in a future version. Use pandas.concat instead.\n",
            "  data = data.append({'emotion': temp, 'mel_spec_db': mel_spec_db, 'features1': np.array2string(features1, separator=',',threshold=np.inf, prefix='[', suffix=']')}, ignore_index=True)\n"
          ]
        },
        {
          "output_type": "stream",
          "name": "stdout",
          "text": [
            "feature1 shape:(41920,)\n",
            "feature1 shape:(41920,)\n"
          ]
        },
        {
          "output_type": "stream",
          "name": "stderr",
          "text": [
            "<ipython-input-11-0bbfc9674b69>:93: FutureWarning: The frame.append method is deprecated and will be removed from pandas in a future version. Use pandas.concat instead.\n",
            "  data = data.append({'emotion': temp, 'mel_spec_db': mel_spec_db, 'features1': np.array2string(features1, separator=',',threshold=np.inf, prefix='[', suffix=']')}, ignore_index=True)\n"
          ]
        },
        {
          "output_type": "stream",
          "name": "stdout",
          "text": [
            "feature1 shape:(41920,)\n",
            "feature1 shape:(41920,)\n"
          ]
        },
        {
          "output_type": "stream",
          "name": "stderr",
          "text": [
            "<ipython-input-11-0bbfc9674b69>:93: FutureWarning: The frame.append method is deprecated and will be removed from pandas in a future version. Use pandas.concat instead.\n",
            "  data = data.append({'emotion': temp, 'mel_spec_db': mel_spec_db, 'features1': np.array2string(features1, separator=',',threshold=np.inf, prefix='[', suffix=']')}, ignore_index=True)\n"
          ]
        },
        {
          "output_type": "stream",
          "name": "stdout",
          "text": [
            "feature1 shape:(41920,)\n",
            "feature1 shape:(41920,)\n"
          ]
        },
        {
          "output_type": "stream",
          "name": "stderr",
          "text": [
            "<ipython-input-11-0bbfc9674b69>:93: FutureWarning: The frame.append method is deprecated and will be removed from pandas in a future version. Use pandas.concat instead.\n",
            "  data = data.append({'emotion': temp, 'mel_spec_db': mel_spec_db, 'features1': np.array2string(features1, separator=',',threshold=np.inf, prefix='[', suffix=']')}, ignore_index=True)\n"
          ]
        },
        {
          "output_type": "stream",
          "name": "stdout",
          "text": [
            "feature1 shape:(41920,)\n",
            "feature1 shape:(41920,)\n"
          ]
        },
        {
          "output_type": "stream",
          "name": "stderr",
          "text": [
            "<ipython-input-11-0bbfc9674b69>:93: FutureWarning: The frame.append method is deprecated and will be removed from pandas in a future version. Use pandas.concat instead.\n",
            "  data = data.append({'emotion': temp, 'mel_spec_db': mel_spec_db, 'features1': np.array2string(features1, separator=',',threshold=np.inf, prefix='[', suffix=']')}, ignore_index=True)\n"
          ]
        },
        {
          "output_type": "stream",
          "name": "stdout",
          "text": [
            "feature1 shape:(41920,)\n",
            "feature1 shape:(41920,)\n"
          ]
        },
        {
          "output_type": "stream",
          "name": "stderr",
          "text": [
            "<ipython-input-11-0bbfc9674b69>:93: FutureWarning: The frame.append method is deprecated and will be removed from pandas in a future version. Use pandas.concat instead.\n",
            "  data = data.append({'emotion': temp, 'mel_spec_db': mel_spec_db, 'features1': np.array2string(features1, separator=',',threshold=np.inf, prefix='[', suffix=']')}, ignore_index=True)\n"
          ]
        },
        {
          "output_type": "stream",
          "name": "stdout",
          "text": [
            "feature1 shape:(41920,)\n",
            "feature1 shape:(41920,)\n"
          ]
        },
        {
          "output_type": "stream",
          "name": "stderr",
          "text": [
            "<ipython-input-11-0bbfc9674b69>:93: FutureWarning: The frame.append method is deprecated and will be removed from pandas in a future version. Use pandas.concat instead.\n",
            "  data = data.append({'emotion': temp, 'mel_spec_db': mel_spec_db, 'features1': np.array2string(features1, separator=',',threshold=np.inf, prefix='[', suffix=']')}, ignore_index=True)\n"
          ]
        },
        {
          "output_type": "stream",
          "name": "stdout",
          "text": [
            "feature1 shape:(41920,)\n",
            "feature1 shape:(41920,)\n"
          ]
        },
        {
          "output_type": "stream",
          "name": "stderr",
          "text": [
            "<ipython-input-11-0bbfc9674b69>:93: FutureWarning: The frame.append method is deprecated and will be removed from pandas in a future version. Use pandas.concat instead.\n",
            "  data = data.append({'emotion': temp, 'mel_spec_db': mel_spec_db, 'features1': np.array2string(features1, separator=',',threshold=np.inf, prefix='[', suffix=']')}, ignore_index=True)\n"
          ]
        },
        {
          "output_type": "stream",
          "name": "stdout",
          "text": [
            "feature1 shape:(41920,)\n",
            "feature1 shape:(41920,)\n"
          ]
        },
        {
          "output_type": "stream",
          "name": "stderr",
          "text": [
            "<ipython-input-11-0bbfc9674b69>:93: FutureWarning: The frame.append method is deprecated and will be removed from pandas in a future version. Use pandas.concat instead.\n",
            "  data = data.append({'emotion': temp, 'mel_spec_db': mel_spec_db, 'features1': np.array2string(features1, separator=',',threshold=np.inf, prefix='[', suffix=']')}, ignore_index=True)\n"
          ]
        },
        {
          "output_type": "stream",
          "name": "stdout",
          "text": [
            "feature1 shape:(41920,)\n",
            "feature1 shape:(41920,)\n"
          ]
        },
        {
          "output_type": "stream",
          "name": "stderr",
          "text": [
            "<ipython-input-11-0bbfc9674b69>:93: FutureWarning: The frame.append method is deprecated and will be removed from pandas in a future version. Use pandas.concat instead.\n",
            "  data = data.append({'emotion': temp, 'mel_spec_db': mel_spec_db, 'features1': np.array2string(features1, separator=',',threshold=np.inf, prefix='[', suffix=']')}, ignore_index=True)\n"
          ]
        },
        {
          "output_type": "stream",
          "name": "stdout",
          "text": [
            "feature1 shape:(41920,)\n",
            "feature1 shape:(41920,)\n"
          ]
        },
        {
          "output_type": "stream",
          "name": "stderr",
          "text": [
            "<ipython-input-11-0bbfc9674b69>:93: FutureWarning: The frame.append method is deprecated and will be removed from pandas in a future version. Use pandas.concat instead.\n",
            "  data = data.append({'emotion': temp, 'mel_spec_db': mel_spec_db, 'features1': np.array2string(features1, separator=',',threshold=np.inf, prefix='[', suffix=']')}, ignore_index=True)\n"
          ]
        },
        {
          "output_type": "stream",
          "name": "stdout",
          "text": [
            "feature1 shape:(41920,)\n",
            "feature1 shape:(41920,)\n"
          ]
        },
        {
          "output_type": "stream",
          "name": "stderr",
          "text": [
            "<ipython-input-11-0bbfc9674b69>:93: FutureWarning: The frame.append method is deprecated and will be removed from pandas in a future version. Use pandas.concat instead.\n",
            "  data = data.append({'emotion': temp, 'mel_spec_db': mel_spec_db, 'features1': np.array2string(features1, separator=',',threshold=np.inf, prefix='[', suffix=']')}, ignore_index=True)\n"
          ]
        },
        {
          "output_type": "stream",
          "name": "stdout",
          "text": [
            "feature1 shape:(41920,)\n",
            "feature1 shape:(41920,)\n"
          ]
        },
        {
          "output_type": "stream",
          "name": "stderr",
          "text": [
            "<ipython-input-11-0bbfc9674b69>:93: FutureWarning: The frame.append method is deprecated and will be removed from pandas in a future version. Use pandas.concat instead.\n",
            "  data = data.append({'emotion': temp, 'mel_spec_db': mel_spec_db, 'features1': np.array2string(features1, separator=',',threshold=np.inf, prefix='[', suffix=']')}, ignore_index=True)\n"
          ]
        },
        {
          "output_type": "stream",
          "name": "stdout",
          "text": [
            "feature1 shape:(41920,)\n",
            "feature1 shape:(41920,)\n"
          ]
        },
        {
          "output_type": "stream",
          "name": "stderr",
          "text": [
            "<ipython-input-11-0bbfc9674b69>:93: FutureWarning: The frame.append method is deprecated and will be removed from pandas in a future version. Use pandas.concat instead.\n",
            "  data = data.append({'emotion': temp, 'mel_spec_db': mel_spec_db, 'features1': np.array2string(features1, separator=',',threshold=np.inf, prefix='[', suffix=']')}, ignore_index=True)\n"
          ]
        },
        {
          "output_type": "stream",
          "name": "stdout",
          "text": [
            "feature1 shape:(41920,)\n",
            "feature1 shape:(41920,)\n"
          ]
        },
        {
          "output_type": "stream",
          "name": "stderr",
          "text": [
            "<ipython-input-11-0bbfc9674b69>:93: FutureWarning: The frame.append method is deprecated and will be removed from pandas in a future version. Use pandas.concat instead.\n",
            "  data = data.append({'emotion': temp, 'mel_spec_db': mel_spec_db, 'features1': np.array2string(features1, separator=',',threshold=np.inf, prefix='[', suffix=']')}, ignore_index=True)\n"
          ]
        },
        {
          "output_type": "stream",
          "name": "stdout",
          "text": [
            "feature1 shape:(41920,)\n",
            "feature1 shape:(41920,)\n"
          ]
        },
        {
          "output_type": "stream",
          "name": "stderr",
          "text": [
            "<ipython-input-11-0bbfc9674b69>:93: FutureWarning: The frame.append method is deprecated and will be removed from pandas in a future version. Use pandas.concat instead.\n",
            "  data = data.append({'emotion': temp, 'mel_spec_db': mel_spec_db, 'features1': np.array2string(features1, separator=',',threshold=np.inf, prefix='[', suffix=']')}, ignore_index=True)\n"
          ]
        },
        {
          "output_type": "stream",
          "name": "stdout",
          "text": [
            "feature1 shape:(41920,)\n",
            "feature1 shape:(41920,)\n"
          ]
        },
        {
          "output_type": "stream",
          "name": "stderr",
          "text": [
            "<ipython-input-11-0bbfc9674b69>:93: FutureWarning: The frame.append method is deprecated and will be removed from pandas in a future version. Use pandas.concat instead.\n",
            "  data = data.append({'emotion': temp, 'mel_spec_db': mel_spec_db, 'features1': np.array2string(features1, separator=',',threshold=np.inf, prefix='[', suffix=']')}, ignore_index=True)\n"
          ]
        },
        {
          "output_type": "stream",
          "name": "stdout",
          "text": [
            "feature1 shape:(41920,)\n",
            "feature1 shape:(41920,)\n"
          ]
        },
        {
          "output_type": "stream",
          "name": "stderr",
          "text": [
            "<ipython-input-11-0bbfc9674b69>:93: FutureWarning: The frame.append method is deprecated and will be removed from pandas in a future version. Use pandas.concat instead.\n",
            "  data = data.append({'emotion': temp, 'mel_spec_db': mel_spec_db, 'features1': np.array2string(features1, separator=',',threshold=np.inf, prefix='[', suffix=']')}, ignore_index=True)\n"
          ]
        },
        {
          "output_type": "stream",
          "name": "stdout",
          "text": [
            "feature1 shape:(41920,)\n",
            "feature1 shape:(41920,)\n"
          ]
        },
        {
          "output_type": "stream",
          "name": "stderr",
          "text": [
            "<ipython-input-11-0bbfc9674b69>:93: FutureWarning: The frame.append method is deprecated and will be removed from pandas in a future version. Use pandas.concat instead.\n",
            "  data = data.append({'emotion': temp, 'mel_spec_db': mel_spec_db, 'features1': np.array2string(features1, separator=',',threshold=np.inf, prefix='[', suffix=']')}, ignore_index=True)\n"
          ]
        },
        {
          "output_type": "stream",
          "name": "stdout",
          "text": [
            "feature1 shape:(41920,)\n",
            "feature1 shape:(41920,)\n"
          ]
        },
        {
          "output_type": "stream",
          "name": "stderr",
          "text": [
            "<ipython-input-11-0bbfc9674b69>:93: FutureWarning: The frame.append method is deprecated and will be removed from pandas in a future version. Use pandas.concat instead.\n",
            "  data = data.append({'emotion': temp, 'mel_spec_db': mel_spec_db, 'features1': np.array2string(features1, separator=',',threshold=np.inf, prefix='[', suffix=']')}, ignore_index=True)\n"
          ]
        },
        {
          "output_type": "stream",
          "name": "stdout",
          "text": [
            "feature1 shape:(41920,)\n",
            "feature1 shape:(41920,)\n"
          ]
        },
        {
          "output_type": "stream",
          "name": "stderr",
          "text": [
            "<ipython-input-11-0bbfc9674b69>:93: FutureWarning: The frame.append method is deprecated and will be removed from pandas in a future version. Use pandas.concat instead.\n",
            "  data = data.append({'emotion': temp, 'mel_spec_db': mel_spec_db, 'features1': np.array2string(features1, separator=',',threshold=np.inf, prefix='[', suffix=']')}, ignore_index=True)\n"
          ]
        },
        {
          "output_type": "stream",
          "name": "stdout",
          "text": [
            "feature1 shape:(41920,)\n",
            "feature1 shape:(41920,)\n"
          ]
        },
        {
          "output_type": "stream",
          "name": "stderr",
          "text": [
            "<ipython-input-11-0bbfc9674b69>:93: FutureWarning: The frame.append method is deprecated and will be removed from pandas in a future version. Use pandas.concat instead.\n",
            "  data = data.append({'emotion': temp, 'mel_spec_db': mel_spec_db, 'features1': np.array2string(features1, separator=',',threshold=np.inf, prefix='[', suffix=']')}, ignore_index=True)\n"
          ]
        },
        {
          "output_type": "stream",
          "name": "stdout",
          "text": [
            "feature1 shape:(41920,)\n",
            "feature1 shape:(41920,)\n"
          ]
        },
        {
          "output_type": "stream",
          "name": "stderr",
          "text": [
            "<ipython-input-11-0bbfc9674b69>:93: FutureWarning: The frame.append method is deprecated and will be removed from pandas in a future version. Use pandas.concat instead.\n",
            "  data = data.append({'emotion': temp, 'mel_spec_db': mel_spec_db, 'features1': np.array2string(features1, separator=',',threshold=np.inf, prefix='[', suffix=']')}, ignore_index=True)\n"
          ]
        },
        {
          "output_type": "stream",
          "name": "stdout",
          "text": [
            "feature1 shape:(41920,)\n",
            "feature1 shape:(41920,)\n"
          ]
        },
        {
          "output_type": "stream",
          "name": "stderr",
          "text": [
            "<ipython-input-11-0bbfc9674b69>:93: FutureWarning: The frame.append method is deprecated and will be removed from pandas in a future version. Use pandas.concat instead.\n",
            "  data = data.append({'emotion': temp, 'mel_spec_db': mel_spec_db, 'features1': np.array2string(features1, separator=',',threshold=np.inf, prefix='[', suffix=']')}, ignore_index=True)\n"
          ]
        },
        {
          "output_type": "stream",
          "name": "stdout",
          "text": [
            "feature1 shape:(41920,)\n",
            "feature1 shape:(41920,)\n"
          ]
        },
        {
          "output_type": "stream",
          "name": "stderr",
          "text": [
            "<ipython-input-11-0bbfc9674b69>:93: FutureWarning: The frame.append method is deprecated and will be removed from pandas in a future version. Use pandas.concat instead.\n",
            "  data = data.append({'emotion': temp, 'mel_spec_db': mel_spec_db, 'features1': np.array2string(features1, separator=',',threshold=np.inf, prefix='[', suffix=']')}, ignore_index=True)\n"
          ]
        },
        {
          "output_type": "stream",
          "name": "stdout",
          "text": [
            "feature1 shape:(41920,)\n",
            "feature1 shape:(41920,)\n"
          ]
        },
        {
          "output_type": "stream",
          "name": "stderr",
          "text": [
            "<ipython-input-11-0bbfc9674b69>:93: FutureWarning: The frame.append method is deprecated and will be removed from pandas in a future version. Use pandas.concat instead.\n",
            "  data = data.append({'emotion': temp, 'mel_spec_db': mel_spec_db, 'features1': np.array2string(features1, separator=',',threshold=np.inf, prefix='[', suffix=']')}, ignore_index=True)\n"
          ]
        },
        {
          "output_type": "stream",
          "name": "stdout",
          "text": [
            "feature1 shape:(41920,)\n",
            "feature1 shape:(41920,)\n"
          ]
        },
        {
          "output_type": "stream",
          "name": "stderr",
          "text": [
            "<ipython-input-11-0bbfc9674b69>:93: FutureWarning: The frame.append method is deprecated and will be removed from pandas in a future version. Use pandas.concat instead.\n",
            "  data = data.append({'emotion': temp, 'mel_spec_db': mel_spec_db, 'features1': np.array2string(features1, separator=',',threshold=np.inf, prefix='[', suffix=']')}, ignore_index=True)\n"
          ]
        },
        {
          "output_type": "stream",
          "name": "stdout",
          "text": [
            "feature1 shape:(41920,)\n",
            "feature1 shape:(41920,)\n"
          ]
        },
        {
          "output_type": "stream",
          "name": "stderr",
          "text": [
            "<ipython-input-11-0bbfc9674b69>:93: FutureWarning: The frame.append method is deprecated and will be removed from pandas in a future version. Use pandas.concat instead.\n",
            "  data = data.append({'emotion': temp, 'mel_spec_db': mel_spec_db, 'features1': np.array2string(features1, separator=',',threshold=np.inf, prefix='[', suffix=']')}, ignore_index=True)\n"
          ]
        },
        {
          "output_type": "stream",
          "name": "stdout",
          "text": [
            "feature1 shape:(41920,)\n",
            "feature1 shape:(41920,)\n"
          ]
        },
        {
          "output_type": "stream",
          "name": "stderr",
          "text": [
            "<ipython-input-11-0bbfc9674b69>:93: FutureWarning: The frame.append method is deprecated and will be removed from pandas in a future version. Use pandas.concat instead.\n",
            "  data = data.append({'emotion': temp, 'mel_spec_db': mel_spec_db, 'features1': np.array2string(features1, separator=',',threshold=np.inf, prefix='[', suffix=']')}, ignore_index=True)\n"
          ]
        },
        {
          "output_type": "stream",
          "name": "stdout",
          "text": [
            "feature1 shape:(41920,)\n",
            "feature1 shape:(41920,)\n"
          ]
        },
        {
          "output_type": "stream",
          "name": "stderr",
          "text": [
            "<ipython-input-11-0bbfc9674b69>:93: FutureWarning: The frame.append method is deprecated and will be removed from pandas in a future version. Use pandas.concat instead.\n",
            "  data = data.append({'emotion': temp, 'mel_spec_db': mel_spec_db, 'features1': np.array2string(features1, separator=',',threshold=np.inf, prefix='[', suffix=']')}, ignore_index=True)\n"
          ]
        },
        {
          "output_type": "stream",
          "name": "stdout",
          "text": [
            "feature1 shape:(41920,)\n",
            "feature1 shape:(41920,)\n"
          ]
        },
        {
          "output_type": "stream",
          "name": "stderr",
          "text": [
            "<ipython-input-11-0bbfc9674b69>:93: FutureWarning: The frame.append method is deprecated and will be removed from pandas in a future version. Use pandas.concat instead.\n",
            "  data = data.append({'emotion': temp, 'mel_spec_db': mel_spec_db, 'features1': np.array2string(features1, separator=',',threshold=np.inf, prefix='[', suffix=']')}, ignore_index=True)\n"
          ]
        },
        {
          "output_type": "stream",
          "name": "stdout",
          "text": [
            "feature1 shape:(41920,)\n",
            "feature1 shape:(41920,)\n"
          ]
        },
        {
          "output_type": "stream",
          "name": "stderr",
          "text": [
            "<ipython-input-11-0bbfc9674b69>:93: FutureWarning: The frame.append method is deprecated and will be removed from pandas in a future version. Use pandas.concat instead.\n",
            "  data = data.append({'emotion': temp, 'mel_spec_db': mel_spec_db, 'features1': np.array2string(features1, separator=',',threshold=np.inf, prefix='[', suffix=']')}, ignore_index=True)\n"
          ]
        },
        {
          "output_type": "stream",
          "name": "stdout",
          "text": [
            "feature1 shape:(41920,)\n",
            "feature1 shape:(41920,)\n"
          ]
        },
        {
          "output_type": "stream",
          "name": "stderr",
          "text": [
            "<ipython-input-11-0bbfc9674b69>:93: FutureWarning: The frame.append method is deprecated and will be removed from pandas in a future version. Use pandas.concat instead.\n",
            "  data = data.append({'emotion': temp, 'mel_spec_db': mel_spec_db, 'features1': np.array2string(features1, separator=',',threshold=np.inf, prefix='[', suffix=']')}, ignore_index=True)\n"
          ]
        },
        {
          "output_type": "stream",
          "name": "stdout",
          "text": [
            "feature1 shape:(41920,)\n",
            "feature1 shape:(41920,)\n"
          ]
        },
        {
          "output_type": "stream",
          "name": "stderr",
          "text": [
            "<ipython-input-11-0bbfc9674b69>:93: FutureWarning: The frame.append method is deprecated and will be removed from pandas in a future version. Use pandas.concat instead.\n",
            "  data = data.append({'emotion': temp, 'mel_spec_db': mel_spec_db, 'features1': np.array2string(features1, separator=',',threshold=np.inf, prefix='[', suffix=']')}, ignore_index=True)\n"
          ]
        },
        {
          "output_type": "stream",
          "name": "stdout",
          "text": [
            "feature1 shape:(41920,)\n",
            "feature1 shape:(41920,)\n"
          ]
        },
        {
          "output_type": "stream",
          "name": "stderr",
          "text": [
            "<ipython-input-11-0bbfc9674b69>:93: FutureWarning: The frame.append method is deprecated and will be removed from pandas in a future version. Use pandas.concat instead.\n",
            "  data = data.append({'emotion': temp, 'mel_spec_db': mel_spec_db, 'features1': np.array2string(features1, separator=',',threshold=np.inf, prefix='[', suffix=']')}, ignore_index=True)\n"
          ]
        },
        {
          "output_type": "stream",
          "name": "stdout",
          "text": [
            "feature1 shape:(41920,)\n",
            "feature1 shape:(41920,)\n"
          ]
        },
        {
          "output_type": "stream",
          "name": "stderr",
          "text": [
            "<ipython-input-11-0bbfc9674b69>:93: FutureWarning: The frame.append method is deprecated and will be removed from pandas in a future version. Use pandas.concat instead.\n",
            "  data = data.append({'emotion': temp, 'mel_spec_db': mel_spec_db, 'features1': np.array2string(features1, separator=',',threshold=np.inf, prefix='[', suffix=']')}, ignore_index=True)\n"
          ]
        },
        {
          "output_type": "stream",
          "name": "stdout",
          "text": [
            "feature1 shape:(41920,)\n",
            "feature1 shape:(41920,)\n"
          ]
        },
        {
          "output_type": "stream",
          "name": "stderr",
          "text": [
            "<ipython-input-11-0bbfc9674b69>:93: FutureWarning: The frame.append method is deprecated and will be removed from pandas in a future version. Use pandas.concat instead.\n",
            "  data = data.append({'emotion': temp, 'mel_spec_db': mel_spec_db, 'features1': np.array2string(features1, separator=',',threshold=np.inf, prefix='[', suffix=']')}, ignore_index=True)\n"
          ]
        },
        {
          "output_type": "stream",
          "name": "stdout",
          "text": [
            "feature1 shape:(41920,)\n",
            "feature1 shape:(41920,)\n"
          ]
        },
        {
          "output_type": "stream",
          "name": "stderr",
          "text": [
            "<ipython-input-11-0bbfc9674b69>:93: FutureWarning: The frame.append method is deprecated and will be removed from pandas in a future version. Use pandas.concat instead.\n",
            "  data = data.append({'emotion': temp, 'mel_spec_db': mel_spec_db, 'features1': np.array2string(features1, separator=',',threshold=np.inf, prefix='[', suffix=']')}, ignore_index=True)\n"
          ]
        },
        {
          "output_type": "stream",
          "name": "stdout",
          "text": [
            "feature1 shape:(41920,)\n",
            "feature1 shape:(41920,)\n"
          ]
        },
        {
          "output_type": "stream",
          "name": "stderr",
          "text": [
            "<ipython-input-11-0bbfc9674b69>:93: FutureWarning: The frame.append method is deprecated and will be removed from pandas in a future version. Use pandas.concat instead.\n",
            "  data = data.append({'emotion': temp, 'mel_spec_db': mel_spec_db, 'features1': np.array2string(features1, separator=',',threshold=np.inf, prefix='[', suffix=']')}, ignore_index=True)\n"
          ]
        },
        {
          "output_type": "stream",
          "name": "stdout",
          "text": [
            "feature1 shape:(41920,)\n",
            "feature1 shape:(41920,)\n"
          ]
        },
        {
          "output_type": "stream",
          "name": "stderr",
          "text": [
            "<ipython-input-11-0bbfc9674b69>:93: FutureWarning: The frame.append method is deprecated and will be removed from pandas in a future version. Use pandas.concat instead.\n",
            "  data = data.append({'emotion': temp, 'mel_spec_db': mel_spec_db, 'features1': np.array2string(features1, separator=',',threshold=np.inf, prefix='[', suffix=']')}, ignore_index=True)\n"
          ]
        },
        {
          "output_type": "stream",
          "name": "stdout",
          "text": [
            "feature1 shape:(41920,)\n",
            "feature1 shape:(41920,)\n"
          ]
        },
        {
          "output_type": "stream",
          "name": "stderr",
          "text": [
            "<ipython-input-11-0bbfc9674b69>:93: FutureWarning: The frame.append method is deprecated and will be removed from pandas in a future version. Use pandas.concat instead.\n",
            "  data = data.append({'emotion': temp, 'mel_spec_db': mel_spec_db, 'features1': np.array2string(features1, separator=',',threshold=np.inf, prefix='[', suffix=']')}, ignore_index=True)\n"
          ]
        },
        {
          "output_type": "stream",
          "name": "stdout",
          "text": [
            "feature1 shape:(41920,)\n",
            "feature1 shape:(41920,)\n"
          ]
        },
        {
          "output_type": "stream",
          "name": "stderr",
          "text": [
            "<ipython-input-11-0bbfc9674b69>:93: FutureWarning: The frame.append method is deprecated and will be removed from pandas in a future version. Use pandas.concat instead.\n",
            "  data = data.append({'emotion': temp, 'mel_spec_db': mel_spec_db, 'features1': np.array2string(features1, separator=',',threshold=np.inf, prefix='[', suffix=']')}, ignore_index=True)\n"
          ]
        },
        {
          "output_type": "stream",
          "name": "stdout",
          "text": [
            "feature1 shape:(41920,)\n",
            "feature1 shape:(41920,)\n"
          ]
        },
        {
          "output_type": "stream",
          "name": "stderr",
          "text": [
            "<ipython-input-11-0bbfc9674b69>:93: FutureWarning: The frame.append method is deprecated and will be removed from pandas in a future version. Use pandas.concat instead.\n",
            "  data = data.append({'emotion': temp, 'mel_spec_db': mel_spec_db, 'features1': np.array2string(features1, separator=',',threshold=np.inf, prefix='[', suffix=']')}, ignore_index=True)\n"
          ]
        },
        {
          "output_type": "stream",
          "name": "stdout",
          "text": [
            "feature1 shape:(41920,)\n",
            "feature1 shape:(41920,)\n"
          ]
        },
        {
          "output_type": "stream",
          "name": "stderr",
          "text": [
            "<ipython-input-11-0bbfc9674b69>:93: FutureWarning: The frame.append method is deprecated and will be removed from pandas in a future version. Use pandas.concat instead.\n",
            "  data = data.append({'emotion': temp, 'mel_spec_db': mel_spec_db, 'features1': np.array2string(features1, separator=',',threshold=np.inf, prefix='[', suffix=']')}, ignore_index=True)\n"
          ]
        },
        {
          "output_type": "stream",
          "name": "stdout",
          "text": [
            "feature1 shape:(41920,)\n",
            "feature1 shape:(41920,)\n"
          ]
        },
        {
          "output_type": "stream",
          "name": "stderr",
          "text": [
            "<ipython-input-11-0bbfc9674b69>:93: FutureWarning: The frame.append method is deprecated and will be removed from pandas in a future version. Use pandas.concat instead.\n",
            "  data = data.append({'emotion': temp, 'mel_spec_db': mel_spec_db, 'features1': np.array2string(features1, separator=',',threshold=np.inf, prefix='[', suffix=']')}, ignore_index=True)\n"
          ]
        },
        {
          "output_type": "stream",
          "name": "stdout",
          "text": [
            "feature1 shape:(41920,)\n",
            "feature1 shape:(41920,)\n"
          ]
        },
        {
          "output_type": "stream",
          "name": "stderr",
          "text": [
            "<ipython-input-11-0bbfc9674b69>:93: FutureWarning: The frame.append method is deprecated and will be removed from pandas in a future version. Use pandas.concat instead.\n",
            "  data = data.append({'emotion': temp, 'mel_spec_db': mel_spec_db, 'features1': np.array2string(features1, separator=',',threshold=np.inf, prefix='[', suffix=']')}, ignore_index=True)\n"
          ]
        },
        {
          "output_type": "stream",
          "name": "stdout",
          "text": [
            "feature1 shape:(41920,)\n",
            "feature1 shape:(41920,)\n"
          ]
        },
        {
          "output_type": "stream",
          "name": "stderr",
          "text": [
            "<ipython-input-11-0bbfc9674b69>:93: FutureWarning: The frame.append method is deprecated and will be removed from pandas in a future version. Use pandas.concat instead.\n",
            "  data = data.append({'emotion': temp, 'mel_spec_db': mel_spec_db, 'features1': np.array2string(features1, separator=',',threshold=np.inf, prefix='[', suffix=']')}, ignore_index=True)\n"
          ]
        },
        {
          "output_type": "stream",
          "name": "stdout",
          "text": [
            "feature1 shape:(41920,)\n",
            "feature1 shape:(41920,)\n"
          ]
        },
        {
          "output_type": "stream",
          "name": "stderr",
          "text": [
            "<ipython-input-11-0bbfc9674b69>:93: FutureWarning: The frame.append method is deprecated and will be removed from pandas in a future version. Use pandas.concat instead.\n",
            "  data = data.append({'emotion': temp, 'mel_spec_db': mel_spec_db, 'features1': np.array2string(features1, separator=',',threshold=np.inf, prefix='[', suffix=']')}, ignore_index=True)\n"
          ]
        },
        {
          "output_type": "stream",
          "name": "stdout",
          "text": [
            "feature1 shape:(41920,)\n",
            "feature1 shape:(41920,)\n"
          ]
        },
        {
          "output_type": "stream",
          "name": "stderr",
          "text": [
            "<ipython-input-11-0bbfc9674b69>:93: FutureWarning: The frame.append method is deprecated and will be removed from pandas in a future version. Use pandas.concat instead.\n",
            "  data = data.append({'emotion': temp, 'mel_spec_db': mel_spec_db, 'features1': np.array2string(features1, separator=',',threshold=np.inf, prefix='[', suffix=']')}, ignore_index=True)\n"
          ]
        },
        {
          "output_type": "stream",
          "name": "stdout",
          "text": [
            "feature1 shape:(41920,)\n",
            "feature1 shape:(41920,)\n"
          ]
        },
        {
          "output_type": "stream",
          "name": "stderr",
          "text": [
            "<ipython-input-11-0bbfc9674b69>:93: FutureWarning: The frame.append method is deprecated and will be removed from pandas in a future version. Use pandas.concat instead.\n",
            "  data = data.append({'emotion': temp, 'mel_spec_db': mel_spec_db, 'features1': np.array2string(features1, separator=',',threshold=np.inf, prefix='[', suffix=']')}, ignore_index=True)\n"
          ]
        },
        {
          "output_type": "stream",
          "name": "stdout",
          "text": [
            "feature1 shape:(41920,)\n",
            "feature1 shape:(41920,)\n"
          ]
        },
        {
          "output_type": "stream",
          "name": "stderr",
          "text": [
            "<ipython-input-11-0bbfc9674b69>:93: FutureWarning: The frame.append method is deprecated and will be removed from pandas in a future version. Use pandas.concat instead.\n",
            "  data = data.append({'emotion': temp, 'mel_spec_db': mel_spec_db, 'features1': np.array2string(features1, separator=',',threshold=np.inf, prefix='[', suffix=']')}, ignore_index=True)\n"
          ]
        },
        {
          "output_type": "stream",
          "name": "stdout",
          "text": [
            "feature1 shape:(41920,)\n",
            "feature1 shape:(41920,)\n"
          ]
        },
        {
          "output_type": "stream",
          "name": "stderr",
          "text": [
            "<ipython-input-11-0bbfc9674b69>:93: FutureWarning: The frame.append method is deprecated and will be removed from pandas in a future version. Use pandas.concat instead.\n",
            "  data = data.append({'emotion': temp, 'mel_spec_db': mel_spec_db, 'features1': np.array2string(features1, separator=',',threshold=np.inf, prefix='[', suffix=']')}, ignore_index=True)\n"
          ]
        },
        {
          "output_type": "stream",
          "name": "stdout",
          "text": [
            "feature1 shape:(41920,)\n",
            "feature1 shape:(41920,)\n"
          ]
        },
        {
          "output_type": "stream",
          "name": "stderr",
          "text": [
            "<ipython-input-11-0bbfc9674b69>:93: FutureWarning: The frame.append method is deprecated and will be removed from pandas in a future version. Use pandas.concat instead.\n",
            "  data = data.append({'emotion': temp, 'mel_spec_db': mel_spec_db, 'features1': np.array2string(features1, separator=',',threshold=np.inf, prefix='[', suffix=']')}, ignore_index=True)\n"
          ]
        },
        {
          "output_type": "stream",
          "name": "stdout",
          "text": [
            "feature1 shape:(41920,)\n",
            "feature1 shape:(41920,)\n"
          ]
        },
        {
          "output_type": "stream",
          "name": "stderr",
          "text": [
            "<ipython-input-11-0bbfc9674b69>:93: FutureWarning: The frame.append method is deprecated and will be removed from pandas in a future version. Use pandas.concat instead.\n",
            "  data = data.append({'emotion': temp, 'mel_spec_db': mel_spec_db, 'features1': np.array2string(features1, separator=',',threshold=np.inf, prefix='[', suffix=']')}, ignore_index=True)\n"
          ]
        },
        {
          "output_type": "stream",
          "name": "stdout",
          "text": [
            "feature1 shape:(41920,)\n",
            "feature1 shape:(41920,)\n"
          ]
        },
        {
          "output_type": "stream",
          "name": "stderr",
          "text": [
            "<ipython-input-11-0bbfc9674b69>:93: FutureWarning: The frame.append method is deprecated and will be removed from pandas in a future version. Use pandas.concat instead.\n",
            "  data = data.append({'emotion': temp, 'mel_spec_db': mel_spec_db, 'features1': np.array2string(features1, separator=',',threshold=np.inf, prefix='[', suffix=']')}, ignore_index=True)\n"
          ]
        },
        {
          "output_type": "stream",
          "name": "stdout",
          "text": [
            "feature1 shape:(41920,)\n",
            "feature1 shape:(41920,)\n"
          ]
        },
        {
          "output_type": "stream",
          "name": "stderr",
          "text": [
            "<ipython-input-11-0bbfc9674b69>:93: FutureWarning: The frame.append method is deprecated and will be removed from pandas in a future version. Use pandas.concat instead.\n",
            "  data = data.append({'emotion': temp, 'mel_spec_db': mel_spec_db, 'features1': np.array2string(features1, separator=',',threshold=np.inf, prefix='[', suffix=']')}, ignore_index=True)\n"
          ]
        },
        {
          "output_type": "stream",
          "name": "stdout",
          "text": [
            "feature1 shape:(41920,)\n",
            "feature1 shape:(41920,)\n"
          ]
        },
        {
          "output_type": "stream",
          "name": "stderr",
          "text": [
            "<ipython-input-11-0bbfc9674b69>:93: FutureWarning: The frame.append method is deprecated and will be removed from pandas in a future version. Use pandas.concat instead.\n",
            "  data = data.append({'emotion': temp, 'mel_spec_db': mel_spec_db, 'features1': np.array2string(features1, separator=',',threshold=np.inf, prefix='[', suffix=']')}, ignore_index=True)\n"
          ]
        },
        {
          "output_type": "stream",
          "name": "stdout",
          "text": [
            "feature1 shape:(41920,)\n",
            "feature1 shape:(41920,)\n"
          ]
        },
        {
          "output_type": "stream",
          "name": "stderr",
          "text": [
            "<ipython-input-11-0bbfc9674b69>:93: FutureWarning: The frame.append method is deprecated and will be removed from pandas in a future version. Use pandas.concat instead.\n",
            "  data = data.append({'emotion': temp, 'mel_spec_db': mel_spec_db, 'features1': np.array2string(features1, separator=',',threshold=np.inf, prefix='[', suffix=']')}, ignore_index=True)\n"
          ]
        },
        {
          "output_type": "stream",
          "name": "stdout",
          "text": [
            "feature1 shape:(41920,)\n",
            "feature1 shape:(41920,)\n"
          ]
        },
        {
          "output_type": "stream",
          "name": "stderr",
          "text": [
            "<ipython-input-11-0bbfc9674b69>:93: FutureWarning: The frame.append method is deprecated and will be removed from pandas in a future version. Use pandas.concat instead.\n",
            "  data = data.append({'emotion': temp, 'mel_spec_db': mel_spec_db, 'features1': np.array2string(features1, separator=',',threshold=np.inf, prefix='[', suffix=']')}, ignore_index=True)\n"
          ]
        },
        {
          "output_type": "stream",
          "name": "stdout",
          "text": [
            "feature1 shape:(41920,)\n",
            "feature1 shape:(41920,)\n"
          ]
        },
        {
          "output_type": "stream",
          "name": "stderr",
          "text": [
            "<ipython-input-11-0bbfc9674b69>:93: FutureWarning: The frame.append method is deprecated and will be removed from pandas in a future version. Use pandas.concat instead.\n",
            "  data = data.append({'emotion': temp, 'mel_spec_db': mel_spec_db, 'features1': np.array2string(features1, separator=',',threshold=np.inf, prefix='[', suffix=']')}, ignore_index=True)\n"
          ]
        },
        {
          "output_type": "stream",
          "name": "stdout",
          "text": [
            "feature1 shape:(41920,)\n",
            "feature1 shape:(41920,)\n"
          ]
        },
        {
          "output_type": "stream",
          "name": "stderr",
          "text": [
            "<ipython-input-11-0bbfc9674b69>:93: FutureWarning: The frame.append method is deprecated and will be removed from pandas in a future version. Use pandas.concat instead.\n",
            "  data = data.append({'emotion': temp, 'mel_spec_db': mel_spec_db, 'features1': np.array2string(features1, separator=',',threshold=np.inf, prefix='[', suffix=']')}, ignore_index=True)\n"
          ]
        },
        {
          "output_type": "stream",
          "name": "stdout",
          "text": [
            "feature1 shape:(41920,)\n",
            "feature1 shape:(41920,)\n"
          ]
        },
        {
          "output_type": "stream",
          "name": "stderr",
          "text": [
            "<ipython-input-11-0bbfc9674b69>:93: FutureWarning: The frame.append method is deprecated and will be removed from pandas in a future version. Use pandas.concat instead.\n",
            "  data = data.append({'emotion': temp, 'mel_spec_db': mel_spec_db, 'features1': np.array2string(features1, separator=',',threshold=np.inf, prefix='[', suffix=']')}, ignore_index=True)\n"
          ]
        },
        {
          "output_type": "stream",
          "name": "stdout",
          "text": [
            "feature1 shape:(41920,)\n",
            "feature1 shape:(41920,)\n"
          ]
        },
        {
          "output_type": "stream",
          "name": "stderr",
          "text": [
            "<ipython-input-11-0bbfc9674b69>:93: FutureWarning: The frame.append method is deprecated and will be removed from pandas in a future version. Use pandas.concat instead.\n",
            "  data = data.append({'emotion': temp, 'mel_spec_db': mel_spec_db, 'features1': np.array2string(features1, separator=',',threshold=np.inf, prefix='[', suffix=']')}, ignore_index=True)\n"
          ]
        },
        {
          "output_type": "stream",
          "name": "stdout",
          "text": [
            "feature1 shape:(41920,)\n",
            "feature1 shape:(41920,)\n"
          ]
        },
        {
          "output_type": "stream",
          "name": "stderr",
          "text": [
            "<ipython-input-11-0bbfc9674b69>:93: FutureWarning: The frame.append method is deprecated and will be removed from pandas in a future version. Use pandas.concat instead.\n",
            "  data = data.append({'emotion': temp, 'mel_spec_db': mel_spec_db, 'features1': np.array2string(features1, separator=',',threshold=np.inf, prefix='[', suffix=']')}, ignore_index=True)\n"
          ]
        },
        {
          "output_type": "stream",
          "name": "stdout",
          "text": [
            "feature1 shape:(41920,)\n",
            "feature1 shape:(41920,)\n"
          ]
        },
        {
          "output_type": "stream",
          "name": "stderr",
          "text": [
            "<ipython-input-11-0bbfc9674b69>:93: FutureWarning: The frame.append method is deprecated and will be removed from pandas in a future version. Use pandas.concat instead.\n",
            "  data = data.append({'emotion': temp, 'mel_spec_db': mel_spec_db, 'features1': np.array2string(features1, separator=',',threshold=np.inf, prefix='[', suffix=']')}, ignore_index=True)\n"
          ]
        },
        {
          "output_type": "stream",
          "name": "stdout",
          "text": [
            "feature1 shape:(41920,)\n",
            "feature1 shape:(41920,)\n"
          ]
        },
        {
          "output_type": "stream",
          "name": "stderr",
          "text": [
            "<ipython-input-11-0bbfc9674b69>:93: FutureWarning: The frame.append method is deprecated and will be removed from pandas in a future version. Use pandas.concat instead.\n",
            "  data = data.append({'emotion': temp, 'mel_spec_db': mel_spec_db, 'features1': np.array2string(features1, separator=',',threshold=np.inf, prefix='[', suffix=']')}, ignore_index=True)\n"
          ]
        },
        {
          "output_type": "stream",
          "name": "stdout",
          "text": [
            "feature1 shape:(41920,)\n",
            "feature1 shape:(41920,)\n"
          ]
        },
        {
          "output_type": "stream",
          "name": "stderr",
          "text": [
            "<ipython-input-11-0bbfc9674b69>:93: FutureWarning: The frame.append method is deprecated and will be removed from pandas in a future version. Use pandas.concat instead.\n",
            "  data = data.append({'emotion': temp, 'mel_spec_db': mel_spec_db, 'features1': np.array2string(features1, separator=',',threshold=np.inf, prefix='[', suffix=']')}, ignore_index=True)\n"
          ]
        },
        {
          "output_type": "stream",
          "name": "stdout",
          "text": [
            "feature1 shape:(41920,)\n",
            "feature1 shape:(41920,)\n"
          ]
        },
        {
          "output_type": "stream",
          "name": "stderr",
          "text": [
            "<ipython-input-11-0bbfc9674b69>:93: FutureWarning: The frame.append method is deprecated and will be removed from pandas in a future version. Use pandas.concat instead.\n",
            "  data = data.append({'emotion': temp, 'mel_spec_db': mel_spec_db, 'features1': np.array2string(features1, separator=',',threshold=np.inf, prefix='[', suffix=']')}, ignore_index=True)\n"
          ]
        },
        {
          "output_type": "stream",
          "name": "stdout",
          "text": [
            "feature1 shape:(41920,)\n",
            "feature1 shape:(41920,)\n"
          ]
        },
        {
          "output_type": "stream",
          "name": "stderr",
          "text": [
            "<ipython-input-11-0bbfc9674b69>:93: FutureWarning: The frame.append method is deprecated and will be removed from pandas in a future version. Use pandas.concat instead.\n",
            "  data = data.append({'emotion': temp, 'mel_spec_db': mel_spec_db, 'features1': np.array2string(features1, separator=',',threshold=np.inf, prefix='[', suffix=']')}, ignore_index=True)\n"
          ]
        },
        {
          "output_type": "stream",
          "name": "stdout",
          "text": [
            "feature1 shape:(41920,)\n",
            "feature1 shape:(41920,)\n"
          ]
        },
        {
          "output_type": "stream",
          "name": "stderr",
          "text": [
            "<ipython-input-11-0bbfc9674b69>:93: FutureWarning: The frame.append method is deprecated and will be removed from pandas in a future version. Use pandas.concat instead.\n",
            "  data = data.append({'emotion': temp, 'mel_spec_db': mel_spec_db, 'features1': np.array2string(features1, separator=',',threshold=np.inf, prefix='[', suffix=']')}, ignore_index=True)\n"
          ]
        },
        {
          "output_type": "stream",
          "name": "stdout",
          "text": [
            "feature1 shape:(41920,)\n",
            "feature1 shape:(41920,)\n"
          ]
        },
        {
          "output_type": "stream",
          "name": "stderr",
          "text": [
            "<ipython-input-11-0bbfc9674b69>:93: FutureWarning: The frame.append method is deprecated and will be removed from pandas in a future version. Use pandas.concat instead.\n",
            "  data = data.append({'emotion': temp, 'mel_spec_db': mel_spec_db, 'features1': np.array2string(features1, separator=',',threshold=np.inf, prefix='[', suffix=']')}, ignore_index=True)\n"
          ]
        },
        {
          "output_type": "stream",
          "name": "stdout",
          "text": [
            "feature1 shape:(41920,)\n",
            "feature1 shape:(41920,)\n"
          ]
        },
        {
          "output_type": "stream",
          "name": "stderr",
          "text": [
            "<ipython-input-11-0bbfc9674b69>:93: FutureWarning: The frame.append method is deprecated and will be removed from pandas in a future version. Use pandas.concat instead.\n",
            "  data = data.append({'emotion': temp, 'mel_spec_db': mel_spec_db, 'features1': np.array2string(features1, separator=',',threshold=np.inf, prefix='[', suffix=']')}, ignore_index=True)\n"
          ]
        },
        {
          "output_type": "stream",
          "name": "stdout",
          "text": [
            "feature1 shape:(41920,)\n",
            "feature1 shape:(41920,)\n"
          ]
        },
        {
          "output_type": "stream",
          "name": "stderr",
          "text": [
            "<ipython-input-11-0bbfc9674b69>:93: FutureWarning: The frame.append method is deprecated and will be removed from pandas in a future version. Use pandas.concat instead.\n",
            "  data = data.append({'emotion': temp, 'mel_spec_db': mel_spec_db, 'features1': np.array2string(features1, separator=',',threshold=np.inf, prefix='[', suffix=']')}, ignore_index=True)\n"
          ]
        },
        {
          "output_type": "stream",
          "name": "stdout",
          "text": [
            "feature1 shape:(41920,)\n",
            "feature1 shape:(41920,)\n"
          ]
        },
        {
          "output_type": "stream",
          "name": "stderr",
          "text": [
            "<ipython-input-11-0bbfc9674b69>:93: FutureWarning: The frame.append method is deprecated and will be removed from pandas in a future version. Use pandas.concat instead.\n",
            "  data = data.append({'emotion': temp, 'mel_spec_db': mel_spec_db, 'features1': np.array2string(features1, separator=',',threshold=np.inf, prefix='[', suffix=']')}, ignore_index=True)\n"
          ]
        },
        {
          "output_type": "stream",
          "name": "stdout",
          "text": [
            "feature1 shape:(41920,)\n",
            "feature1 shape:(41920,)\n"
          ]
        },
        {
          "output_type": "stream",
          "name": "stderr",
          "text": [
            "<ipython-input-11-0bbfc9674b69>:93: FutureWarning: The frame.append method is deprecated and will be removed from pandas in a future version. Use pandas.concat instead.\n",
            "  data = data.append({'emotion': temp, 'mel_spec_db': mel_spec_db, 'features1': np.array2string(features1, separator=',',threshold=np.inf, prefix='[', suffix=']')}, ignore_index=True)\n"
          ]
        },
        {
          "output_type": "stream",
          "name": "stdout",
          "text": [
            "feature1 shape:(41920,)\n",
            "feature1 shape:(41920,)\n"
          ]
        },
        {
          "output_type": "stream",
          "name": "stderr",
          "text": [
            "<ipython-input-11-0bbfc9674b69>:93: FutureWarning: The frame.append method is deprecated and will be removed from pandas in a future version. Use pandas.concat instead.\n",
            "  data = data.append({'emotion': temp, 'mel_spec_db': mel_spec_db, 'features1': np.array2string(features1, separator=',',threshold=np.inf, prefix='[', suffix=']')}, ignore_index=True)\n"
          ]
        },
        {
          "output_type": "stream",
          "name": "stdout",
          "text": [
            "feature1 shape:(41920,)\n",
            "feature1 shape:(41920,)\n"
          ]
        },
        {
          "output_type": "stream",
          "name": "stderr",
          "text": [
            "<ipython-input-11-0bbfc9674b69>:93: FutureWarning: The frame.append method is deprecated and will be removed from pandas in a future version. Use pandas.concat instead.\n",
            "  data = data.append({'emotion': temp, 'mel_spec_db': mel_spec_db, 'features1': np.array2string(features1, separator=',',threshold=np.inf, prefix='[', suffix=']')}, ignore_index=True)\n"
          ]
        },
        {
          "output_type": "stream",
          "name": "stdout",
          "text": [
            "feature1 shape:(41920,)\n",
            "feature1 shape:(41920,)\n"
          ]
        },
        {
          "output_type": "stream",
          "name": "stderr",
          "text": [
            "<ipython-input-11-0bbfc9674b69>:93: FutureWarning: The frame.append method is deprecated and will be removed from pandas in a future version. Use pandas.concat instead.\n",
            "  data = data.append({'emotion': temp, 'mel_spec_db': mel_spec_db, 'features1': np.array2string(features1, separator=',',threshold=np.inf, prefix='[', suffix=']')}, ignore_index=True)\n"
          ]
        },
        {
          "output_type": "stream",
          "name": "stdout",
          "text": [
            "feature1 shape:(41920,)\n",
            "feature1 shape:(41920,)\n"
          ]
        },
        {
          "output_type": "stream",
          "name": "stderr",
          "text": [
            "<ipython-input-11-0bbfc9674b69>:93: FutureWarning: The frame.append method is deprecated and will be removed from pandas in a future version. Use pandas.concat instead.\n",
            "  data = data.append({'emotion': temp, 'mel_spec_db': mel_spec_db, 'features1': np.array2string(features1, separator=',',threshold=np.inf, prefix='[', suffix=']')}, ignore_index=True)\n"
          ]
        },
        {
          "output_type": "stream",
          "name": "stdout",
          "text": [
            "feature1 shape:(41920,)\n",
            "feature1 shape:(41920,)\n"
          ]
        },
        {
          "output_type": "stream",
          "name": "stderr",
          "text": [
            "<ipython-input-11-0bbfc9674b69>:93: FutureWarning: The frame.append method is deprecated and will be removed from pandas in a future version. Use pandas.concat instead.\n",
            "  data = data.append({'emotion': temp, 'mel_spec_db': mel_spec_db, 'features1': np.array2string(features1, separator=',',threshold=np.inf, prefix='[', suffix=']')}, ignore_index=True)\n"
          ]
        },
        {
          "output_type": "stream",
          "name": "stdout",
          "text": [
            "feature1 shape:(41920,)\n",
            "feature1 shape:(41920,)\n"
          ]
        },
        {
          "output_type": "stream",
          "name": "stderr",
          "text": [
            "<ipython-input-11-0bbfc9674b69>:93: FutureWarning: The frame.append method is deprecated and will be removed from pandas in a future version. Use pandas.concat instead.\n",
            "  data = data.append({'emotion': temp, 'mel_spec_db': mel_spec_db, 'features1': np.array2string(features1, separator=',',threshold=np.inf, prefix='[', suffix=']')}, ignore_index=True)\n"
          ]
        },
        {
          "output_type": "stream",
          "name": "stdout",
          "text": [
            "feature1 shape:(41920,)\n",
            "feature1 shape:(41920,)\n"
          ]
        },
        {
          "output_type": "stream",
          "name": "stderr",
          "text": [
            "<ipython-input-11-0bbfc9674b69>:93: FutureWarning: The frame.append method is deprecated and will be removed from pandas in a future version. Use pandas.concat instead.\n",
            "  data = data.append({'emotion': temp, 'mel_spec_db': mel_spec_db, 'features1': np.array2string(features1, separator=',',threshold=np.inf, prefix='[', suffix=']')}, ignore_index=True)\n"
          ]
        },
        {
          "output_type": "stream",
          "name": "stdout",
          "text": [
            "feature1 shape:(41920,)\n",
            "feature1 shape:(41920,)\n"
          ]
        },
        {
          "output_type": "stream",
          "name": "stderr",
          "text": [
            "<ipython-input-11-0bbfc9674b69>:93: FutureWarning: The frame.append method is deprecated and will be removed from pandas in a future version. Use pandas.concat instead.\n",
            "  data = data.append({'emotion': temp, 'mel_spec_db': mel_spec_db, 'features1': np.array2string(features1, separator=',',threshold=np.inf, prefix='[', suffix=']')}, ignore_index=True)\n"
          ]
        },
        {
          "output_type": "stream",
          "name": "stdout",
          "text": [
            "feature1 shape:(41920,)\n",
            "feature1 shape:(41920,)\n"
          ]
        },
        {
          "output_type": "stream",
          "name": "stderr",
          "text": [
            "<ipython-input-11-0bbfc9674b69>:93: FutureWarning: The frame.append method is deprecated and will be removed from pandas in a future version. Use pandas.concat instead.\n",
            "  data = data.append({'emotion': temp, 'mel_spec_db': mel_spec_db, 'features1': np.array2string(features1, separator=',',threshold=np.inf, prefix='[', suffix=']')}, ignore_index=True)\n"
          ]
        },
        {
          "output_type": "stream",
          "name": "stdout",
          "text": [
            "feature1 shape:(41920,)\n",
            "feature1 shape:(41920,)\n"
          ]
        },
        {
          "output_type": "stream",
          "name": "stderr",
          "text": [
            "<ipython-input-11-0bbfc9674b69>:93: FutureWarning: The frame.append method is deprecated and will be removed from pandas in a future version. Use pandas.concat instead.\n",
            "  data = data.append({'emotion': temp, 'mel_spec_db': mel_spec_db, 'features1': np.array2string(features1, separator=',',threshold=np.inf, prefix='[', suffix=']')}, ignore_index=True)\n"
          ]
        },
        {
          "output_type": "stream",
          "name": "stdout",
          "text": [
            "feature1 shape:(41920,)\n",
            "feature1 shape:(41920,)\n"
          ]
        },
        {
          "output_type": "stream",
          "name": "stderr",
          "text": [
            "<ipython-input-11-0bbfc9674b69>:93: FutureWarning: The frame.append method is deprecated and will be removed from pandas in a future version. Use pandas.concat instead.\n",
            "  data = data.append({'emotion': temp, 'mel_spec_db': mel_spec_db, 'features1': np.array2string(features1, separator=',',threshold=np.inf, prefix='[', suffix=']')}, ignore_index=True)\n"
          ]
        },
        {
          "output_type": "stream",
          "name": "stdout",
          "text": [
            "feature1 shape:(41920,)\n",
            "feature1 shape:(41920,)\n"
          ]
        },
        {
          "output_type": "stream",
          "name": "stderr",
          "text": [
            "<ipython-input-11-0bbfc9674b69>:93: FutureWarning: The frame.append method is deprecated and will be removed from pandas in a future version. Use pandas.concat instead.\n",
            "  data = data.append({'emotion': temp, 'mel_spec_db': mel_spec_db, 'features1': np.array2string(features1, separator=',',threshold=np.inf, prefix='[', suffix=']')}, ignore_index=True)\n"
          ]
        },
        {
          "output_type": "stream",
          "name": "stdout",
          "text": [
            "feature1 shape:(41920,)\n",
            "feature1 shape:(41920,)\n"
          ]
        },
        {
          "output_type": "stream",
          "name": "stderr",
          "text": [
            "<ipython-input-11-0bbfc9674b69>:93: FutureWarning: The frame.append method is deprecated and will be removed from pandas in a future version. Use pandas.concat instead.\n",
            "  data = data.append({'emotion': temp, 'mel_spec_db': mel_spec_db, 'features1': np.array2string(features1, separator=',',threshold=np.inf, prefix='[', suffix=']')}, ignore_index=True)\n"
          ]
        },
        {
          "output_type": "stream",
          "name": "stdout",
          "text": [
            "feature1 shape:(41920,)\n",
            "feature1 shape:(41920,)\n"
          ]
        },
        {
          "output_type": "stream",
          "name": "stderr",
          "text": [
            "<ipython-input-11-0bbfc9674b69>:93: FutureWarning: The frame.append method is deprecated and will be removed from pandas in a future version. Use pandas.concat instead.\n",
            "  data = data.append({'emotion': temp, 'mel_spec_db': mel_spec_db, 'features1': np.array2string(features1, separator=',',threshold=np.inf, prefix='[', suffix=']')}, ignore_index=True)\n"
          ]
        },
        {
          "output_type": "stream",
          "name": "stdout",
          "text": [
            "feature1 shape:(41920,)\n",
            "feature1 shape:(41920,)\n"
          ]
        },
        {
          "output_type": "stream",
          "name": "stderr",
          "text": [
            "<ipython-input-11-0bbfc9674b69>:93: FutureWarning: The frame.append method is deprecated and will be removed from pandas in a future version. Use pandas.concat instead.\n",
            "  data = data.append({'emotion': temp, 'mel_spec_db': mel_spec_db, 'features1': np.array2string(features1, separator=',',threshold=np.inf, prefix='[', suffix=']')}, ignore_index=True)\n"
          ]
        },
        {
          "output_type": "stream",
          "name": "stdout",
          "text": [
            "feature1 shape:(41920,)\n",
            "feature1 shape:(41920,)\n"
          ]
        },
        {
          "output_type": "stream",
          "name": "stderr",
          "text": [
            "<ipython-input-11-0bbfc9674b69>:93: FutureWarning: The frame.append method is deprecated and will be removed from pandas in a future version. Use pandas.concat instead.\n",
            "  data = data.append({'emotion': temp, 'mel_spec_db': mel_spec_db, 'features1': np.array2string(features1, separator=',',threshold=np.inf, prefix='[', suffix=']')}, ignore_index=True)\n"
          ]
        },
        {
          "output_type": "stream",
          "name": "stdout",
          "text": [
            "feature1 shape:(41920,)\n",
            "feature1 shape:(41920,)\n"
          ]
        },
        {
          "output_type": "stream",
          "name": "stderr",
          "text": [
            "<ipython-input-11-0bbfc9674b69>:93: FutureWarning: The frame.append method is deprecated and will be removed from pandas in a future version. Use pandas.concat instead.\n",
            "  data = data.append({'emotion': temp, 'mel_spec_db': mel_spec_db, 'features1': np.array2string(features1, separator=',',threshold=np.inf, prefix='[', suffix=']')}, ignore_index=True)\n"
          ]
        },
        {
          "output_type": "stream",
          "name": "stdout",
          "text": [
            "feature1 shape:(41920,)\n",
            "feature1 shape:(41920,)\n"
          ]
        },
        {
          "output_type": "stream",
          "name": "stderr",
          "text": [
            "<ipython-input-11-0bbfc9674b69>:93: FutureWarning: The frame.append method is deprecated and will be removed from pandas in a future version. Use pandas.concat instead.\n",
            "  data = data.append({'emotion': temp, 'mel_spec_db': mel_spec_db, 'features1': np.array2string(features1, separator=',',threshold=np.inf, prefix='[', suffix=']')}, ignore_index=True)\n"
          ]
        },
        {
          "output_type": "stream",
          "name": "stdout",
          "text": [
            "feature1 shape:(41920,)\n",
            "feature1 shape:(41920,)\n"
          ]
        },
        {
          "output_type": "stream",
          "name": "stderr",
          "text": [
            "<ipython-input-11-0bbfc9674b69>:93: FutureWarning: The frame.append method is deprecated and will be removed from pandas in a future version. Use pandas.concat instead.\n",
            "  data = data.append({'emotion': temp, 'mel_spec_db': mel_spec_db, 'features1': np.array2string(features1, separator=',',threshold=np.inf, prefix='[', suffix=']')}, ignore_index=True)\n"
          ]
        },
        {
          "output_type": "stream",
          "name": "stdout",
          "text": [
            "feature1 shape:(41920,)\n",
            "feature1 shape:(41920,)\n"
          ]
        },
        {
          "output_type": "stream",
          "name": "stderr",
          "text": [
            "<ipython-input-11-0bbfc9674b69>:93: FutureWarning: The frame.append method is deprecated and will be removed from pandas in a future version. Use pandas.concat instead.\n",
            "  data = data.append({'emotion': temp, 'mel_spec_db': mel_spec_db, 'features1': np.array2string(features1, separator=',',threshold=np.inf, prefix='[', suffix=']')}, ignore_index=True)\n"
          ]
        },
        {
          "output_type": "stream",
          "name": "stdout",
          "text": [
            "feature1 shape:(41920,)\n",
            "feature1 shape:(41920,)\n"
          ]
        },
        {
          "output_type": "stream",
          "name": "stderr",
          "text": [
            "<ipython-input-11-0bbfc9674b69>:93: FutureWarning: The frame.append method is deprecated and will be removed from pandas in a future version. Use pandas.concat instead.\n",
            "  data = data.append({'emotion': temp, 'mel_spec_db': mel_spec_db, 'features1': np.array2string(features1, separator=',',threshold=np.inf, prefix='[', suffix=']')}, ignore_index=True)\n"
          ]
        },
        {
          "output_type": "stream",
          "name": "stdout",
          "text": [
            "feature1 shape:(41920,)\n",
            "feature1 shape:(41920,)\n"
          ]
        },
        {
          "output_type": "stream",
          "name": "stderr",
          "text": [
            "<ipython-input-11-0bbfc9674b69>:93: FutureWarning: The frame.append method is deprecated and will be removed from pandas in a future version. Use pandas.concat instead.\n",
            "  data = data.append({'emotion': temp, 'mel_spec_db': mel_spec_db, 'features1': np.array2string(features1, separator=',',threshold=np.inf, prefix='[', suffix=']')}, ignore_index=True)\n"
          ]
        },
        {
          "output_type": "stream",
          "name": "stdout",
          "text": [
            "feature1 shape:(41920,)\n",
            "feature1 shape:(41920,)\n"
          ]
        },
        {
          "output_type": "stream",
          "name": "stderr",
          "text": [
            "<ipython-input-11-0bbfc9674b69>:93: FutureWarning: The frame.append method is deprecated and will be removed from pandas in a future version. Use pandas.concat instead.\n",
            "  data = data.append({'emotion': temp, 'mel_spec_db': mel_spec_db, 'features1': np.array2string(features1, separator=',',threshold=np.inf, prefix='[', suffix=']')}, ignore_index=True)\n"
          ]
        },
        {
          "output_type": "stream",
          "name": "stdout",
          "text": [
            "feature1 shape:(41920,)\n",
            "feature1 shape:(41920,)\n"
          ]
        },
        {
          "output_type": "stream",
          "name": "stderr",
          "text": [
            "<ipython-input-11-0bbfc9674b69>:93: FutureWarning: The frame.append method is deprecated and will be removed from pandas in a future version. Use pandas.concat instead.\n",
            "  data = data.append({'emotion': temp, 'mel_spec_db': mel_spec_db, 'features1': np.array2string(features1, separator=',',threshold=np.inf, prefix='[', suffix=']')}, ignore_index=True)\n"
          ]
        },
        {
          "output_type": "stream",
          "name": "stdout",
          "text": [
            "feature1 shape:(41920,)\n",
            "feature1 shape:(41920,)\n"
          ]
        },
        {
          "output_type": "stream",
          "name": "stderr",
          "text": [
            "<ipython-input-11-0bbfc9674b69>:93: FutureWarning: The frame.append method is deprecated and will be removed from pandas in a future version. Use pandas.concat instead.\n",
            "  data = data.append({'emotion': temp, 'mel_spec_db': mel_spec_db, 'features1': np.array2string(features1, separator=',',threshold=np.inf, prefix='[', suffix=']')}, ignore_index=True)\n"
          ]
        },
        {
          "output_type": "stream",
          "name": "stdout",
          "text": [
            "feature1 shape:(41920,)\n",
            "feature1 shape:(41920,)\n"
          ]
        },
        {
          "output_type": "stream",
          "name": "stderr",
          "text": [
            "<ipython-input-11-0bbfc9674b69>:93: FutureWarning: The frame.append method is deprecated and will be removed from pandas in a future version. Use pandas.concat instead.\n",
            "  data = data.append({'emotion': temp, 'mel_spec_db': mel_spec_db, 'features1': np.array2string(features1, separator=',',threshold=np.inf, prefix='[', suffix=']')}, ignore_index=True)\n"
          ]
        },
        {
          "output_type": "stream",
          "name": "stdout",
          "text": [
            "feature1 shape:(41920,)\n",
            "feature1 shape:(41920,)\n"
          ]
        },
        {
          "output_type": "stream",
          "name": "stderr",
          "text": [
            "<ipython-input-11-0bbfc9674b69>:93: FutureWarning: The frame.append method is deprecated and will be removed from pandas in a future version. Use pandas.concat instead.\n",
            "  data = data.append({'emotion': temp, 'mel_spec_db': mel_spec_db, 'features1': np.array2string(features1, separator=',',threshold=np.inf, prefix='[', suffix=']')}, ignore_index=True)\n"
          ]
        },
        {
          "output_type": "stream",
          "name": "stdout",
          "text": [
            "feature1 shape:(41920,)\n",
            "feature1 shape:(41920,)\n"
          ]
        },
        {
          "output_type": "stream",
          "name": "stderr",
          "text": [
            "<ipython-input-11-0bbfc9674b69>:93: FutureWarning: The frame.append method is deprecated and will be removed from pandas in a future version. Use pandas.concat instead.\n",
            "  data = data.append({'emotion': temp, 'mel_spec_db': mel_spec_db, 'features1': np.array2string(features1, separator=',',threshold=np.inf, prefix='[', suffix=']')}, ignore_index=True)\n"
          ]
        },
        {
          "output_type": "stream",
          "name": "stdout",
          "text": [
            "feature1 shape:(41920,)\n",
            "feature1 shape:(41920,)\n"
          ]
        },
        {
          "output_type": "stream",
          "name": "stderr",
          "text": [
            "<ipython-input-11-0bbfc9674b69>:93: FutureWarning: The frame.append method is deprecated and will be removed from pandas in a future version. Use pandas.concat instead.\n",
            "  data = data.append({'emotion': temp, 'mel_spec_db': mel_spec_db, 'features1': np.array2string(features1, separator=',',threshold=np.inf, prefix='[', suffix=']')}, ignore_index=True)\n"
          ]
        },
        {
          "output_type": "stream",
          "name": "stdout",
          "text": [
            "feature1 shape:(41920,)\n",
            "feature1 shape:(41920,)\n"
          ]
        },
        {
          "output_type": "stream",
          "name": "stderr",
          "text": [
            "<ipython-input-11-0bbfc9674b69>:93: FutureWarning: The frame.append method is deprecated and will be removed from pandas in a future version. Use pandas.concat instead.\n",
            "  data = data.append({'emotion': temp, 'mel_spec_db': mel_spec_db, 'features1': np.array2string(features1, separator=',',threshold=np.inf, prefix='[', suffix=']')}, ignore_index=True)\n"
          ]
        },
        {
          "output_type": "stream",
          "name": "stdout",
          "text": [
            "feature1 shape:(41920,)\n",
            "feature1 shape:(41920,)\n"
          ]
        },
        {
          "output_type": "stream",
          "name": "stderr",
          "text": [
            "<ipython-input-11-0bbfc9674b69>:93: FutureWarning: The frame.append method is deprecated and will be removed from pandas in a future version. Use pandas.concat instead.\n",
            "  data = data.append({'emotion': temp, 'mel_spec_db': mel_spec_db, 'features1': np.array2string(features1, separator=',',threshold=np.inf, prefix='[', suffix=']')}, ignore_index=True)\n"
          ]
        },
        {
          "output_type": "stream",
          "name": "stdout",
          "text": [
            "feature1 shape:(41920,)\n",
            "feature1 shape:(41920,)\n"
          ]
        },
        {
          "output_type": "stream",
          "name": "stderr",
          "text": [
            "<ipython-input-11-0bbfc9674b69>:93: FutureWarning: The frame.append method is deprecated and will be removed from pandas in a future version. Use pandas.concat instead.\n",
            "  data = data.append({'emotion': temp, 'mel_spec_db': mel_spec_db, 'features1': np.array2string(features1, separator=',',threshold=np.inf, prefix='[', suffix=']')}, ignore_index=True)\n"
          ]
        },
        {
          "output_type": "stream",
          "name": "stdout",
          "text": [
            "feature1 shape:(41920,)\n",
            "feature1 shape:(41920,)\n"
          ]
        },
        {
          "output_type": "stream",
          "name": "stderr",
          "text": [
            "<ipython-input-11-0bbfc9674b69>:93: FutureWarning: The frame.append method is deprecated and will be removed from pandas in a future version. Use pandas.concat instead.\n",
            "  data = data.append({'emotion': temp, 'mel_spec_db': mel_spec_db, 'features1': np.array2string(features1, separator=',',threshold=np.inf, prefix='[', suffix=']')}, ignore_index=True)\n"
          ]
        },
        {
          "output_type": "stream",
          "name": "stdout",
          "text": [
            "feature1 shape:(41920,)\n",
            "feature1 shape:(41920,)\n"
          ]
        },
        {
          "output_type": "stream",
          "name": "stderr",
          "text": [
            "<ipython-input-11-0bbfc9674b69>:93: FutureWarning: The frame.append method is deprecated and will be removed from pandas in a future version. Use pandas.concat instead.\n",
            "  data = data.append({'emotion': temp, 'mel_spec_db': mel_spec_db, 'features1': np.array2string(features1, separator=',',threshold=np.inf, prefix='[', suffix=']')}, ignore_index=True)\n"
          ]
        },
        {
          "output_type": "stream",
          "name": "stdout",
          "text": [
            "feature1 shape:(41920,)\n",
            "feature1 shape:(41920,)\n"
          ]
        },
        {
          "output_type": "stream",
          "name": "stderr",
          "text": [
            "<ipython-input-11-0bbfc9674b69>:93: FutureWarning: The frame.append method is deprecated and will be removed from pandas in a future version. Use pandas.concat instead.\n",
            "  data = data.append({'emotion': temp, 'mel_spec_db': mel_spec_db, 'features1': np.array2string(features1, separator=',',threshold=np.inf, prefix='[', suffix=']')}, ignore_index=True)\n"
          ]
        },
        {
          "output_type": "stream",
          "name": "stdout",
          "text": [
            "feature1 shape:(41920,)\n",
            "feature1 shape:(41920,)\n"
          ]
        },
        {
          "output_type": "stream",
          "name": "stderr",
          "text": [
            "<ipython-input-11-0bbfc9674b69>:93: FutureWarning: The frame.append method is deprecated and will be removed from pandas in a future version. Use pandas.concat instead.\n",
            "  data = data.append({'emotion': temp, 'mel_spec_db': mel_spec_db, 'features1': np.array2string(features1, separator=',',threshold=np.inf, prefix='[', suffix=']')}, ignore_index=True)\n"
          ]
        },
        {
          "output_type": "stream",
          "name": "stdout",
          "text": [
            "feature1 shape:(41920,)\n",
            "feature1 shape:(41920,)\n"
          ]
        },
        {
          "output_type": "stream",
          "name": "stderr",
          "text": [
            "<ipython-input-11-0bbfc9674b69>:93: FutureWarning: The frame.append method is deprecated and will be removed from pandas in a future version. Use pandas.concat instead.\n",
            "  data = data.append({'emotion': temp, 'mel_spec_db': mel_spec_db, 'features1': np.array2string(features1, separator=',',threshold=np.inf, prefix='[', suffix=']')}, ignore_index=True)\n"
          ]
        },
        {
          "output_type": "stream",
          "name": "stdout",
          "text": [
            "feature1 shape:(41920,)\n",
            "feature1 shape:(41920,)\n"
          ]
        },
        {
          "output_type": "stream",
          "name": "stderr",
          "text": [
            "<ipython-input-11-0bbfc9674b69>:93: FutureWarning: The frame.append method is deprecated and will be removed from pandas in a future version. Use pandas.concat instead.\n",
            "  data = data.append({'emotion': temp, 'mel_spec_db': mel_spec_db, 'features1': np.array2string(features1, separator=',',threshold=np.inf, prefix='[', suffix=']')}, ignore_index=True)\n"
          ]
        },
        {
          "output_type": "stream",
          "name": "stdout",
          "text": [
            "feature1 shape:(41920,)\n",
            "feature1 shape:(41920,)\n"
          ]
        },
        {
          "output_type": "stream",
          "name": "stderr",
          "text": [
            "<ipython-input-11-0bbfc9674b69>:93: FutureWarning: The frame.append method is deprecated and will be removed from pandas in a future version. Use pandas.concat instead.\n",
            "  data = data.append({'emotion': temp, 'mel_spec_db': mel_spec_db, 'features1': np.array2string(features1, separator=',',threshold=np.inf, prefix='[', suffix=']')}, ignore_index=True)\n"
          ]
        },
        {
          "output_type": "stream",
          "name": "stdout",
          "text": [
            "feature1 shape:(41920,)\n",
            "feature1 shape:(41920,)\n"
          ]
        },
        {
          "output_type": "stream",
          "name": "stderr",
          "text": [
            "<ipython-input-11-0bbfc9674b69>:93: FutureWarning: The frame.append method is deprecated and will be removed from pandas in a future version. Use pandas.concat instead.\n",
            "  data = data.append({'emotion': temp, 'mel_spec_db': mel_spec_db, 'features1': np.array2string(features1, separator=',',threshold=np.inf, prefix='[', suffix=']')}, ignore_index=True)\n"
          ]
        },
        {
          "output_type": "stream",
          "name": "stdout",
          "text": [
            "feature1 shape:(41920,)\n",
            "feature1 shape:(41920,)\n"
          ]
        },
        {
          "output_type": "stream",
          "name": "stderr",
          "text": [
            "<ipython-input-11-0bbfc9674b69>:93: FutureWarning: The frame.append method is deprecated and will be removed from pandas in a future version. Use pandas.concat instead.\n",
            "  data = data.append({'emotion': temp, 'mel_spec_db': mel_spec_db, 'features1': np.array2string(features1, separator=',',threshold=np.inf, prefix='[', suffix=']')}, ignore_index=True)\n"
          ]
        },
        {
          "output_type": "stream",
          "name": "stdout",
          "text": [
            "feature1 shape:(41920,)\n",
            "feature1 shape:(41920,)\n"
          ]
        },
        {
          "output_type": "stream",
          "name": "stderr",
          "text": [
            "<ipython-input-11-0bbfc9674b69>:93: FutureWarning: The frame.append method is deprecated and will be removed from pandas in a future version. Use pandas.concat instead.\n",
            "  data = data.append({'emotion': temp, 'mel_spec_db': mel_spec_db, 'features1': np.array2string(features1, separator=',',threshold=np.inf, prefix='[', suffix=']')}, ignore_index=True)\n"
          ]
        },
        {
          "output_type": "stream",
          "name": "stdout",
          "text": [
            "feature1 shape:(41920,)\n",
            "feature1 shape:(41920,)\n"
          ]
        },
        {
          "output_type": "stream",
          "name": "stderr",
          "text": [
            "<ipython-input-11-0bbfc9674b69>:93: FutureWarning: The frame.append method is deprecated and will be removed from pandas in a future version. Use pandas.concat instead.\n",
            "  data = data.append({'emotion': temp, 'mel_spec_db': mel_spec_db, 'features1': np.array2string(features1, separator=',',threshold=np.inf, prefix='[', suffix=']')}, ignore_index=True)\n"
          ]
        },
        {
          "output_type": "stream",
          "name": "stdout",
          "text": [
            "feature1 shape:(41920,)\n",
            "feature1 shape:(41920,)\n"
          ]
        },
        {
          "output_type": "stream",
          "name": "stderr",
          "text": [
            "<ipython-input-11-0bbfc9674b69>:93: FutureWarning: The frame.append method is deprecated and will be removed from pandas in a future version. Use pandas.concat instead.\n",
            "  data = data.append({'emotion': temp, 'mel_spec_db': mel_spec_db, 'features1': np.array2string(features1, separator=',',threshold=np.inf, prefix='[', suffix=']')}, ignore_index=True)\n"
          ]
        },
        {
          "output_type": "stream",
          "name": "stdout",
          "text": [
            "feature1 shape:(41920,)\n",
            "feature1 shape:(41920,)\n"
          ]
        },
        {
          "output_type": "stream",
          "name": "stderr",
          "text": [
            "<ipython-input-11-0bbfc9674b69>:93: FutureWarning: The frame.append method is deprecated and will be removed from pandas in a future version. Use pandas.concat instead.\n",
            "  data = data.append({'emotion': temp, 'mel_spec_db': mel_spec_db, 'features1': np.array2string(features1, separator=',',threshold=np.inf, prefix='[', suffix=']')}, ignore_index=True)\n"
          ]
        },
        {
          "output_type": "stream",
          "name": "stdout",
          "text": [
            "feature1 shape:(41920,)\n",
            "feature1 shape:(41920,)\n"
          ]
        },
        {
          "output_type": "stream",
          "name": "stderr",
          "text": [
            "<ipython-input-11-0bbfc9674b69>:93: FutureWarning: The frame.append method is deprecated and will be removed from pandas in a future version. Use pandas.concat instead.\n",
            "  data = data.append({'emotion': temp, 'mel_spec_db': mel_spec_db, 'features1': np.array2string(features1, separator=',',threshold=np.inf, prefix='[', suffix=']')}, ignore_index=True)\n"
          ]
        },
        {
          "output_type": "stream",
          "name": "stdout",
          "text": [
            "feature1 shape:(41920,)\n",
            "feature1 shape:(41920,)\n"
          ]
        },
        {
          "output_type": "stream",
          "name": "stderr",
          "text": [
            "<ipython-input-11-0bbfc9674b69>:93: FutureWarning: The frame.append method is deprecated and will be removed from pandas in a future version. Use pandas.concat instead.\n",
            "  data = data.append({'emotion': temp, 'mel_spec_db': mel_spec_db, 'features1': np.array2string(features1, separator=',',threshold=np.inf, prefix='[', suffix=']')}, ignore_index=True)\n"
          ]
        },
        {
          "output_type": "stream",
          "name": "stdout",
          "text": [
            "feature1 shape:(41920,)\n",
            "feature1 shape:(41920,)\n"
          ]
        },
        {
          "output_type": "stream",
          "name": "stderr",
          "text": [
            "<ipython-input-11-0bbfc9674b69>:93: FutureWarning: The frame.append method is deprecated and will be removed from pandas in a future version. Use pandas.concat instead.\n",
            "  data = data.append({'emotion': temp, 'mel_spec_db': mel_spec_db, 'features1': np.array2string(features1, separator=',',threshold=np.inf, prefix='[', suffix=']')}, ignore_index=True)\n"
          ]
        },
        {
          "output_type": "stream",
          "name": "stdout",
          "text": [
            "feature1 shape:(41920,)\n",
            "feature1 shape:(41920,)\n"
          ]
        },
        {
          "output_type": "stream",
          "name": "stderr",
          "text": [
            "<ipython-input-11-0bbfc9674b69>:93: FutureWarning: The frame.append method is deprecated and will be removed from pandas in a future version. Use pandas.concat instead.\n",
            "  data = data.append({'emotion': temp, 'mel_spec_db': mel_spec_db, 'features1': np.array2string(features1, separator=',',threshold=np.inf, prefix='[', suffix=']')}, ignore_index=True)\n"
          ]
        },
        {
          "output_type": "stream",
          "name": "stdout",
          "text": [
            "feature1 shape:(41920,)\n",
            "feature1 shape:(41920,)\n"
          ]
        },
        {
          "output_type": "stream",
          "name": "stderr",
          "text": [
            "<ipython-input-11-0bbfc9674b69>:93: FutureWarning: The frame.append method is deprecated and will be removed from pandas in a future version. Use pandas.concat instead.\n",
            "  data = data.append({'emotion': temp, 'mel_spec_db': mel_spec_db, 'features1': np.array2string(features1, separator=',',threshold=np.inf, prefix='[', suffix=']')}, ignore_index=True)\n"
          ]
        },
        {
          "output_type": "stream",
          "name": "stdout",
          "text": [
            "feature1 shape:(41920,)\n",
            "feature1 shape:(41920,)\n"
          ]
        },
        {
          "output_type": "stream",
          "name": "stderr",
          "text": [
            "<ipython-input-11-0bbfc9674b69>:93: FutureWarning: The frame.append method is deprecated and will be removed from pandas in a future version. Use pandas.concat instead.\n",
            "  data = data.append({'emotion': temp, 'mel_spec_db': mel_spec_db, 'features1': np.array2string(features1, separator=',',threshold=np.inf, prefix='[', suffix=']')}, ignore_index=True)\n"
          ]
        },
        {
          "output_type": "stream",
          "name": "stdout",
          "text": [
            "feature1 shape:(41920,)\n",
            "feature1 shape:(41920,)\n"
          ]
        },
        {
          "output_type": "stream",
          "name": "stderr",
          "text": [
            "<ipython-input-11-0bbfc9674b69>:93: FutureWarning: The frame.append method is deprecated and will be removed from pandas in a future version. Use pandas.concat instead.\n",
            "  data = data.append({'emotion': temp, 'mel_spec_db': mel_spec_db, 'features1': np.array2string(features1, separator=',',threshold=np.inf, prefix='[', suffix=']')}, ignore_index=True)\n"
          ]
        },
        {
          "output_type": "stream",
          "name": "stdout",
          "text": [
            "feature1 shape:(41920,)\n",
            "feature1 shape:(41920,)\n"
          ]
        },
        {
          "output_type": "stream",
          "name": "stderr",
          "text": [
            "<ipython-input-11-0bbfc9674b69>:93: FutureWarning: The frame.append method is deprecated and will be removed from pandas in a future version. Use pandas.concat instead.\n",
            "  data = data.append({'emotion': temp, 'mel_spec_db': mel_spec_db, 'features1': np.array2string(features1, separator=',',threshold=np.inf, prefix='[', suffix=']')}, ignore_index=True)\n"
          ]
        },
        {
          "output_type": "stream",
          "name": "stdout",
          "text": [
            "feature1 shape:(41920,)\n",
            "feature1 shape:(41920,)\n"
          ]
        },
        {
          "output_type": "stream",
          "name": "stderr",
          "text": [
            "<ipython-input-11-0bbfc9674b69>:93: FutureWarning: The frame.append method is deprecated and will be removed from pandas in a future version. Use pandas.concat instead.\n",
            "  data = data.append({'emotion': temp, 'mel_spec_db': mel_spec_db, 'features1': np.array2string(features1, separator=',',threshold=np.inf, prefix='[', suffix=']')}, ignore_index=True)\n"
          ]
        },
        {
          "output_type": "stream",
          "name": "stdout",
          "text": [
            "feature1 shape:(41920,)\n",
            "feature1 shape:(41920,)\n"
          ]
        },
        {
          "output_type": "stream",
          "name": "stderr",
          "text": [
            "<ipython-input-11-0bbfc9674b69>:93: FutureWarning: The frame.append method is deprecated and will be removed from pandas in a future version. Use pandas.concat instead.\n",
            "  data = data.append({'emotion': temp, 'mel_spec_db': mel_spec_db, 'features1': np.array2string(features1, separator=',',threshold=np.inf, prefix='[', suffix=']')}, ignore_index=True)\n"
          ]
        },
        {
          "output_type": "stream",
          "name": "stdout",
          "text": [
            "feature1 shape:(41920,)\n",
            "feature1 shape:(41920,)\n"
          ]
        },
        {
          "output_type": "stream",
          "name": "stderr",
          "text": [
            "<ipython-input-11-0bbfc9674b69>:93: FutureWarning: The frame.append method is deprecated and will be removed from pandas in a future version. Use pandas.concat instead.\n",
            "  data = data.append({'emotion': temp, 'mel_spec_db': mel_spec_db, 'features1': np.array2string(features1, separator=',',threshold=np.inf, prefix='[', suffix=']')}, ignore_index=True)\n"
          ]
        },
        {
          "output_type": "stream",
          "name": "stdout",
          "text": [
            "feature1 shape:(41920,)\n",
            "feature1 shape:(41920,)\n"
          ]
        },
        {
          "output_type": "stream",
          "name": "stderr",
          "text": [
            "<ipython-input-11-0bbfc9674b69>:93: FutureWarning: The frame.append method is deprecated and will be removed from pandas in a future version. Use pandas.concat instead.\n",
            "  data = data.append({'emotion': temp, 'mel_spec_db': mel_spec_db, 'features1': np.array2string(features1, separator=',',threshold=np.inf, prefix='[', suffix=']')}, ignore_index=True)\n"
          ]
        },
        {
          "output_type": "stream",
          "name": "stdout",
          "text": [
            "feature1 shape:(41920,)\n",
            "feature1 shape:(41920,)\n"
          ]
        },
        {
          "output_type": "stream",
          "name": "stderr",
          "text": [
            "<ipython-input-11-0bbfc9674b69>:93: FutureWarning: The frame.append method is deprecated and will be removed from pandas in a future version. Use pandas.concat instead.\n",
            "  data = data.append({'emotion': temp, 'mel_spec_db': mel_spec_db, 'features1': np.array2string(features1, separator=',',threshold=np.inf, prefix='[', suffix=']')}, ignore_index=True)\n"
          ]
        },
        {
          "output_type": "stream",
          "name": "stdout",
          "text": [
            "feature1 shape:(41920,)\n",
            "feature1 shape:(41920,)\n"
          ]
        },
        {
          "output_type": "stream",
          "name": "stderr",
          "text": [
            "<ipython-input-11-0bbfc9674b69>:93: FutureWarning: The frame.append method is deprecated and will be removed from pandas in a future version. Use pandas.concat instead.\n",
            "  data = data.append({'emotion': temp, 'mel_spec_db': mel_spec_db, 'features1': np.array2string(features1, separator=',',threshold=np.inf, prefix='[', suffix=']')}, ignore_index=True)\n"
          ]
        },
        {
          "output_type": "stream",
          "name": "stdout",
          "text": [
            "feature1 shape:(41920,)\n",
            "feature1 shape:(41920,)\n"
          ]
        },
        {
          "output_type": "stream",
          "name": "stderr",
          "text": [
            "<ipython-input-11-0bbfc9674b69>:93: FutureWarning: The frame.append method is deprecated and will be removed from pandas in a future version. Use pandas.concat instead.\n",
            "  data = data.append({'emotion': temp, 'mel_spec_db': mel_spec_db, 'features1': np.array2string(features1, separator=',',threshold=np.inf, prefix='[', suffix=']')}, ignore_index=True)\n"
          ]
        },
        {
          "output_type": "stream",
          "name": "stdout",
          "text": [
            "feature1 shape:(41920,)\n",
            "feature1 shape:(41920,)\n"
          ]
        },
        {
          "output_type": "stream",
          "name": "stderr",
          "text": [
            "<ipython-input-11-0bbfc9674b69>:93: FutureWarning: The frame.append method is deprecated and will be removed from pandas in a future version. Use pandas.concat instead.\n",
            "  data = data.append({'emotion': temp, 'mel_spec_db': mel_spec_db, 'features1': np.array2string(features1, separator=',',threshold=np.inf, prefix='[', suffix=']')}, ignore_index=True)\n"
          ]
        },
        {
          "output_type": "stream",
          "name": "stdout",
          "text": [
            "feature1 shape:(41920,)\n",
            "feature1 shape:(41920,)\n"
          ]
        },
        {
          "output_type": "stream",
          "name": "stderr",
          "text": [
            "<ipython-input-11-0bbfc9674b69>:93: FutureWarning: The frame.append method is deprecated and will be removed from pandas in a future version. Use pandas.concat instead.\n",
            "  data = data.append({'emotion': temp, 'mel_spec_db': mel_spec_db, 'features1': np.array2string(features1, separator=',',threshold=np.inf, prefix='[', suffix=']')}, ignore_index=True)\n"
          ]
        },
        {
          "output_type": "stream",
          "name": "stdout",
          "text": [
            "feature1 shape:(41920,)\n",
            "feature1 shape:(41920,)\n"
          ]
        },
        {
          "output_type": "stream",
          "name": "stderr",
          "text": [
            "<ipython-input-11-0bbfc9674b69>:93: FutureWarning: The frame.append method is deprecated and will be removed from pandas in a future version. Use pandas.concat instead.\n",
            "  data = data.append({'emotion': temp, 'mel_spec_db': mel_spec_db, 'features1': np.array2string(features1, separator=',',threshold=np.inf, prefix='[', suffix=']')}, ignore_index=True)\n"
          ]
        },
        {
          "output_type": "stream",
          "name": "stdout",
          "text": [
            "feature1 shape:(41920,)\n",
            "feature1 shape:(41920,)\n"
          ]
        },
        {
          "output_type": "stream",
          "name": "stderr",
          "text": [
            "<ipython-input-11-0bbfc9674b69>:93: FutureWarning: The frame.append method is deprecated and will be removed from pandas in a future version. Use pandas.concat instead.\n",
            "  data = data.append({'emotion': temp, 'mel_spec_db': mel_spec_db, 'features1': np.array2string(features1, separator=',',threshold=np.inf, prefix='[', suffix=']')}, ignore_index=True)\n"
          ]
        },
        {
          "output_type": "stream",
          "name": "stdout",
          "text": [
            "feature1 shape:(41920,)\n",
            "feature1 shape:(41920,)\n"
          ]
        },
        {
          "output_type": "stream",
          "name": "stderr",
          "text": [
            "<ipython-input-11-0bbfc9674b69>:93: FutureWarning: The frame.append method is deprecated and will be removed from pandas in a future version. Use pandas.concat instead.\n",
            "  data = data.append({'emotion': temp, 'mel_spec_db': mel_spec_db, 'features1': np.array2string(features1, separator=',',threshold=np.inf, prefix='[', suffix=']')}, ignore_index=True)\n"
          ]
        },
        {
          "output_type": "stream",
          "name": "stdout",
          "text": [
            "feature1 shape:(41920,)\n",
            "feature1 shape:(41920,)\n"
          ]
        },
        {
          "output_type": "stream",
          "name": "stderr",
          "text": [
            "<ipython-input-11-0bbfc9674b69>:93: FutureWarning: The frame.append method is deprecated and will be removed from pandas in a future version. Use pandas.concat instead.\n",
            "  data = data.append({'emotion': temp, 'mel_spec_db': mel_spec_db, 'features1': np.array2string(features1, separator=',',threshold=np.inf, prefix='[', suffix=']')}, ignore_index=True)\n"
          ]
        },
        {
          "output_type": "stream",
          "name": "stdout",
          "text": [
            "feature1 shape:(41920,)\n",
            "feature1 shape:(41920,)\n"
          ]
        },
        {
          "output_type": "stream",
          "name": "stderr",
          "text": [
            "<ipython-input-11-0bbfc9674b69>:93: FutureWarning: The frame.append method is deprecated and will be removed from pandas in a future version. Use pandas.concat instead.\n",
            "  data = data.append({'emotion': temp, 'mel_spec_db': mel_spec_db, 'features1': np.array2string(features1, separator=',',threshold=np.inf, prefix='[', suffix=']')}, ignore_index=True)\n"
          ]
        },
        {
          "output_type": "stream",
          "name": "stdout",
          "text": [
            "feature1 shape:(41920,)\n",
            "feature1 shape:(41920,)\n"
          ]
        },
        {
          "output_type": "stream",
          "name": "stderr",
          "text": [
            "<ipython-input-11-0bbfc9674b69>:93: FutureWarning: The frame.append method is deprecated and will be removed from pandas in a future version. Use pandas.concat instead.\n",
            "  data = data.append({'emotion': temp, 'mel_spec_db': mel_spec_db, 'features1': np.array2string(features1, separator=',',threshold=np.inf, prefix='[', suffix=']')}, ignore_index=True)\n"
          ]
        },
        {
          "output_type": "stream",
          "name": "stdout",
          "text": [
            "feature1 shape:(41920,)\n",
            "feature1 shape:(41920,)\n"
          ]
        },
        {
          "output_type": "stream",
          "name": "stderr",
          "text": [
            "<ipython-input-11-0bbfc9674b69>:93: FutureWarning: The frame.append method is deprecated and will be removed from pandas in a future version. Use pandas.concat instead.\n",
            "  data = data.append({'emotion': temp, 'mel_spec_db': mel_spec_db, 'features1': np.array2string(features1, separator=',',threshold=np.inf, prefix='[', suffix=']')}, ignore_index=True)\n"
          ]
        },
        {
          "output_type": "stream",
          "name": "stdout",
          "text": [
            "feature1 shape:(41920,)\n",
            "feature1 shape:(41920,)\n"
          ]
        },
        {
          "output_type": "stream",
          "name": "stderr",
          "text": [
            "<ipython-input-11-0bbfc9674b69>:93: FutureWarning: The frame.append method is deprecated and will be removed from pandas in a future version. Use pandas.concat instead.\n",
            "  data = data.append({'emotion': temp, 'mel_spec_db': mel_spec_db, 'features1': np.array2string(features1, separator=',',threshold=np.inf, prefix='[', suffix=']')}, ignore_index=True)\n"
          ]
        },
        {
          "output_type": "stream",
          "name": "stdout",
          "text": [
            "feature1 shape:(41920,)\n",
            "feature1 shape:(41920,)\n"
          ]
        },
        {
          "output_type": "stream",
          "name": "stderr",
          "text": [
            "<ipython-input-11-0bbfc9674b69>:93: FutureWarning: The frame.append method is deprecated and will be removed from pandas in a future version. Use pandas.concat instead.\n",
            "  data = data.append({'emotion': temp, 'mel_spec_db': mel_spec_db, 'features1': np.array2string(features1, separator=',',threshold=np.inf, prefix='[', suffix=']')}, ignore_index=True)\n"
          ]
        },
        {
          "output_type": "stream",
          "name": "stdout",
          "text": [
            "feature1 shape:(41920,)\n",
            "feature1 shape:(41920,)\n"
          ]
        },
        {
          "output_type": "stream",
          "name": "stderr",
          "text": [
            "<ipython-input-11-0bbfc9674b69>:93: FutureWarning: The frame.append method is deprecated and will be removed from pandas in a future version. Use pandas.concat instead.\n",
            "  data = data.append({'emotion': temp, 'mel_spec_db': mel_spec_db, 'features1': np.array2string(features1, separator=',',threshold=np.inf, prefix='[', suffix=']')}, ignore_index=True)\n"
          ]
        },
        {
          "output_type": "stream",
          "name": "stdout",
          "text": [
            "feature1 shape:(41920,)\n",
            "feature1 shape:(41920,)\n"
          ]
        },
        {
          "output_type": "stream",
          "name": "stderr",
          "text": [
            "<ipython-input-11-0bbfc9674b69>:93: FutureWarning: The frame.append method is deprecated and will be removed from pandas in a future version. Use pandas.concat instead.\n",
            "  data = data.append({'emotion': temp, 'mel_spec_db': mel_spec_db, 'features1': np.array2string(features1, separator=',',threshold=np.inf, prefix='[', suffix=']')}, ignore_index=True)\n"
          ]
        },
        {
          "output_type": "stream",
          "name": "stdout",
          "text": [
            "feature1 shape:(41920,)\n",
            "feature1 shape:(41920,)\n"
          ]
        },
        {
          "output_type": "stream",
          "name": "stderr",
          "text": [
            "<ipython-input-11-0bbfc9674b69>:93: FutureWarning: The frame.append method is deprecated and will be removed from pandas in a future version. Use pandas.concat instead.\n",
            "  data = data.append({'emotion': temp, 'mel_spec_db': mel_spec_db, 'features1': np.array2string(features1, separator=',',threshold=np.inf, prefix='[', suffix=']')}, ignore_index=True)\n"
          ]
        },
        {
          "output_type": "stream",
          "name": "stdout",
          "text": [
            "feature1 shape:(41920,)\n",
            "feature1 shape:(41920,)\n"
          ]
        },
        {
          "output_type": "stream",
          "name": "stderr",
          "text": [
            "<ipython-input-11-0bbfc9674b69>:93: FutureWarning: The frame.append method is deprecated and will be removed from pandas in a future version. Use pandas.concat instead.\n",
            "  data = data.append({'emotion': temp, 'mel_spec_db': mel_spec_db, 'features1': np.array2string(features1, separator=',',threshold=np.inf, prefix='[', suffix=']')}, ignore_index=True)\n"
          ]
        },
        {
          "output_type": "stream",
          "name": "stdout",
          "text": [
            "feature1 shape:(41920,)\n",
            "feature1 shape:(41920,)\n"
          ]
        },
        {
          "output_type": "stream",
          "name": "stderr",
          "text": [
            "<ipython-input-11-0bbfc9674b69>:93: FutureWarning: The frame.append method is deprecated and will be removed from pandas in a future version. Use pandas.concat instead.\n",
            "  data = data.append({'emotion': temp, 'mel_spec_db': mel_spec_db, 'features1': np.array2string(features1, separator=',',threshold=np.inf, prefix='[', suffix=']')}, ignore_index=True)\n"
          ]
        },
        {
          "output_type": "stream",
          "name": "stdout",
          "text": [
            "feature1 shape:(41920,)\n",
            "feature1 shape:(41920,)\n"
          ]
        },
        {
          "output_type": "stream",
          "name": "stderr",
          "text": [
            "<ipython-input-11-0bbfc9674b69>:93: FutureWarning: The frame.append method is deprecated and will be removed from pandas in a future version. Use pandas.concat instead.\n",
            "  data = data.append({'emotion': temp, 'mel_spec_db': mel_spec_db, 'features1': np.array2string(features1, separator=',',threshold=np.inf, prefix='[', suffix=']')}, ignore_index=True)\n"
          ]
        },
        {
          "output_type": "stream",
          "name": "stdout",
          "text": [
            "feature1 shape:(41920,)\n",
            "feature1 shape:(41920,)\n"
          ]
        },
        {
          "output_type": "stream",
          "name": "stderr",
          "text": [
            "<ipython-input-11-0bbfc9674b69>:93: FutureWarning: The frame.append method is deprecated and will be removed from pandas in a future version. Use pandas.concat instead.\n",
            "  data = data.append({'emotion': temp, 'mel_spec_db': mel_spec_db, 'features1': np.array2string(features1, separator=',',threshold=np.inf, prefix='[', suffix=']')}, ignore_index=True)\n"
          ]
        },
        {
          "output_type": "stream",
          "name": "stdout",
          "text": [
            "feature1 shape:(41920,)\n",
            "feature1 shape:(41920,)\n"
          ]
        },
        {
          "output_type": "stream",
          "name": "stderr",
          "text": [
            "<ipython-input-11-0bbfc9674b69>:93: FutureWarning: The frame.append method is deprecated and will be removed from pandas in a future version. Use pandas.concat instead.\n",
            "  data = data.append({'emotion': temp, 'mel_spec_db': mel_spec_db, 'features1': np.array2string(features1, separator=',',threshold=np.inf, prefix='[', suffix=']')}, ignore_index=True)\n"
          ]
        },
        {
          "output_type": "stream",
          "name": "stdout",
          "text": [
            "feature1 shape:(41920,)\n",
            "feature1 shape:(41920,)\n"
          ]
        },
        {
          "output_type": "stream",
          "name": "stderr",
          "text": [
            "<ipython-input-11-0bbfc9674b69>:93: FutureWarning: The frame.append method is deprecated and will be removed from pandas in a future version. Use pandas.concat instead.\n",
            "  data = data.append({'emotion': temp, 'mel_spec_db': mel_spec_db, 'features1': np.array2string(features1, separator=',',threshold=np.inf, prefix='[', suffix=']')}, ignore_index=True)\n"
          ]
        },
        {
          "output_type": "stream",
          "name": "stdout",
          "text": [
            "feature1 shape:(41920,)\n",
            "feature1 shape:(41920,)\n"
          ]
        },
        {
          "output_type": "stream",
          "name": "stderr",
          "text": [
            "<ipython-input-11-0bbfc9674b69>:93: FutureWarning: The frame.append method is deprecated and will be removed from pandas in a future version. Use pandas.concat instead.\n",
            "  data = data.append({'emotion': temp, 'mel_spec_db': mel_spec_db, 'features1': np.array2string(features1, separator=',',threshold=np.inf, prefix='[', suffix=']')}, ignore_index=True)\n"
          ]
        },
        {
          "output_type": "stream",
          "name": "stdout",
          "text": [
            "feature1 shape:(41920,)\n",
            "feature1 shape:(41920,)\n"
          ]
        },
        {
          "output_type": "stream",
          "name": "stderr",
          "text": [
            "<ipython-input-11-0bbfc9674b69>:93: FutureWarning: The frame.append method is deprecated and will be removed from pandas in a future version. Use pandas.concat instead.\n",
            "  data = data.append({'emotion': temp, 'mel_spec_db': mel_spec_db, 'features1': np.array2string(features1, separator=',',threshold=np.inf, prefix='[', suffix=']')}, ignore_index=True)\n"
          ]
        },
        {
          "output_type": "stream",
          "name": "stdout",
          "text": [
            "feature1 shape:(41920,)\n",
            "feature1 shape:(41920,)\n"
          ]
        },
        {
          "output_type": "stream",
          "name": "stderr",
          "text": [
            "<ipython-input-11-0bbfc9674b69>:93: FutureWarning: The frame.append method is deprecated and will be removed from pandas in a future version. Use pandas.concat instead.\n",
            "  data = data.append({'emotion': temp, 'mel_spec_db': mel_spec_db, 'features1': np.array2string(features1, separator=',',threshold=np.inf, prefix='[', suffix=']')}, ignore_index=True)\n"
          ]
        },
        {
          "output_type": "stream",
          "name": "stdout",
          "text": [
            "feature1 shape:(41920,)\n",
            "feature1 shape:(41920,)\n"
          ]
        },
        {
          "output_type": "stream",
          "name": "stderr",
          "text": [
            "<ipython-input-11-0bbfc9674b69>:93: FutureWarning: The frame.append method is deprecated and will be removed from pandas in a future version. Use pandas.concat instead.\n",
            "  data = data.append({'emotion': temp, 'mel_spec_db': mel_spec_db, 'features1': np.array2string(features1, separator=',',threshold=np.inf, prefix='[', suffix=']')}, ignore_index=True)\n"
          ]
        },
        {
          "output_type": "stream",
          "name": "stdout",
          "text": [
            "feature1 shape:(41920,)\n",
            "feature1 shape:(41920,)\n"
          ]
        },
        {
          "output_type": "stream",
          "name": "stderr",
          "text": [
            "<ipython-input-11-0bbfc9674b69>:93: FutureWarning: The frame.append method is deprecated and will be removed from pandas in a future version. Use pandas.concat instead.\n",
            "  data = data.append({'emotion': temp, 'mel_spec_db': mel_spec_db, 'features1': np.array2string(features1, separator=',',threshold=np.inf, prefix='[', suffix=']')}, ignore_index=True)\n"
          ]
        },
        {
          "output_type": "stream",
          "name": "stdout",
          "text": [
            "feature1 shape:(41920,)\n",
            "feature1 shape:(41920,)\n"
          ]
        },
        {
          "output_type": "stream",
          "name": "stderr",
          "text": [
            "<ipython-input-11-0bbfc9674b69>:93: FutureWarning: The frame.append method is deprecated and will be removed from pandas in a future version. Use pandas.concat instead.\n",
            "  data = data.append({'emotion': temp, 'mel_spec_db': mel_spec_db, 'features1': np.array2string(features1, separator=',',threshold=np.inf, prefix='[', suffix=']')}, ignore_index=True)\n"
          ]
        },
        {
          "output_type": "stream",
          "name": "stdout",
          "text": [
            "feature1 shape:(41920,)\n",
            "feature1 shape:(41920,)\n"
          ]
        },
        {
          "output_type": "stream",
          "name": "stderr",
          "text": [
            "<ipython-input-11-0bbfc9674b69>:93: FutureWarning: The frame.append method is deprecated and will be removed from pandas in a future version. Use pandas.concat instead.\n",
            "  data = data.append({'emotion': temp, 'mel_spec_db': mel_spec_db, 'features1': np.array2string(features1, separator=',',threshold=np.inf, prefix='[', suffix=']')}, ignore_index=True)\n"
          ]
        },
        {
          "output_type": "stream",
          "name": "stdout",
          "text": [
            "feature1 shape:(41920,)\n",
            "feature1 shape:(41920,)\n"
          ]
        },
        {
          "output_type": "stream",
          "name": "stderr",
          "text": [
            "<ipython-input-11-0bbfc9674b69>:93: FutureWarning: The frame.append method is deprecated and will be removed from pandas in a future version. Use pandas.concat instead.\n",
            "  data = data.append({'emotion': temp, 'mel_spec_db': mel_spec_db, 'features1': np.array2string(features1, separator=',',threshold=np.inf, prefix='[', suffix=']')}, ignore_index=True)\n"
          ]
        },
        {
          "output_type": "stream",
          "name": "stdout",
          "text": [
            "feature1 shape:(41920,)\n",
            "feature1 shape:(41920,)\n"
          ]
        },
        {
          "output_type": "stream",
          "name": "stderr",
          "text": [
            "<ipython-input-11-0bbfc9674b69>:93: FutureWarning: The frame.append method is deprecated and will be removed from pandas in a future version. Use pandas.concat instead.\n",
            "  data = data.append({'emotion': temp, 'mel_spec_db': mel_spec_db, 'features1': np.array2string(features1, separator=',',threshold=np.inf, prefix='[', suffix=']')}, ignore_index=True)\n"
          ]
        },
        {
          "output_type": "stream",
          "name": "stdout",
          "text": [
            "feature1 shape:(41920,)\n",
            "feature1 shape:(41920,)\n"
          ]
        },
        {
          "output_type": "stream",
          "name": "stderr",
          "text": [
            "<ipython-input-11-0bbfc9674b69>:93: FutureWarning: The frame.append method is deprecated and will be removed from pandas in a future version. Use pandas.concat instead.\n",
            "  data = data.append({'emotion': temp, 'mel_spec_db': mel_spec_db, 'features1': np.array2string(features1, separator=',',threshold=np.inf, prefix='[', suffix=']')}, ignore_index=True)\n"
          ]
        },
        {
          "output_type": "stream",
          "name": "stdout",
          "text": [
            "feature1 shape:(41920,)\n",
            "feature1 shape:(41920,)\n"
          ]
        },
        {
          "output_type": "stream",
          "name": "stderr",
          "text": [
            "<ipython-input-11-0bbfc9674b69>:93: FutureWarning: The frame.append method is deprecated and will be removed from pandas in a future version. Use pandas.concat instead.\n",
            "  data = data.append({'emotion': temp, 'mel_spec_db': mel_spec_db, 'features1': np.array2string(features1, separator=',',threshold=np.inf, prefix='[', suffix=']')}, ignore_index=True)\n"
          ]
        },
        {
          "output_type": "stream",
          "name": "stdout",
          "text": [
            "feature1 shape:(41920,)\n",
            "feature1 shape:(41920,)\n"
          ]
        },
        {
          "output_type": "stream",
          "name": "stderr",
          "text": [
            "<ipython-input-11-0bbfc9674b69>:93: FutureWarning: The frame.append method is deprecated and will be removed from pandas in a future version. Use pandas.concat instead.\n",
            "  data = data.append({'emotion': temp, 'mel_spec_db': mel_spec_db, 'features1': np.array2string(features1, separator=',',threshold=np.inf, prefix='[', suffix=']')}, ignore_index=True)\n"
          ]
        },
        {
          "output_type": "stream",
          "name": "stdout",
          "text": [
            "feature1 shape:(41920,)\n",
            "feature1 shape:(41920,)\n"
          ]
        },
        {
          "output_type": "stream",
          "name": "stderr",
          "text": [
            "<ipython-input-11-0bbfc9674b69>:93: FutureWarning: The frame.append method is deprecated and will be removed from pandas in a future version. Use pandas.concat instead.\n",
            "  data = data.append({'emotion': temp, 'mel_spec_db': mel_spec_db, 'features1': np.array2string(features1, separator=',',threshold=np.inf, prefix='[', suffix=']')}, ignore_index=True)\n"
          ]
        },
        {
          "output_type": "stream",
          "name": "stdout",
          "text": [
            "feature1 shape:(41920,)\n",
            "feature1 shape:(41920,)\n"
          ]
        },
        {
          "output_type": "stream",
          "name": "stderr",
          "text": [
            "<ipython-input-11-0bbfc9674b69>:93: FutureWarning: The frame.append method is deprecated and will be removed from pandas in a future version. Use pandas.concat instead.\n",
            "  data = data.append({'emotion': temp, 'mel_spec_db': mel_spec_db, 'features1': np.array2string(features1, separator=',',threshold=np.inf, prefix='[', suffix=']')}, ignore_index=True)\n"
          ]
        },
        {
          "output_type": "stream",
          "name": "stdout",
          "text": [
            "feature1 shape:(41920,)\n",
            "feature1 shape:(41920,)\n"
          ]
        },
        {
          "output_type": "stream",
          "name": "stderr",
          "text": [
            "<ipython-input-11-0bbfc9674b69>:93: FutureWarning: The frame.append method is deprecated and will be removed from pandas in a future version. Use pandas.concat instead.\n",
            "  data = data.append({'emotion': temp, 'mel_spec_db': mel_spec_db, 'features1': np.array2string(features1, separator=',',threshold=np.inf, prefix='[', suffix=']')}, ignore_index=True)\n"
          ]
        },
        {
          "output_type": "stream",
          "name": "stdout",
          "text": [
            "feature1 shape:(41920,)\n",
            "feature1 shape:(41920,)\n"
          ]
        },
        {
          "output_type": "stream",
          "name": "stderr",
          "text": [
            "<ipython-input-11-0bbfc9674b69>:93: FutureWarning: The frame.append method is deprecated and will be removed from pandas in a future version. Use pandas.concat instead.\n",
            "  data = data.append({'emotion': temp, 'mel_spec_db': mel_spec_db, 'features1': np.array2string(features1, separator=',',threshold=np.inf, prefix='[', suffix=']')}, ignore_index=True)\n"
          ]
        },
        {
          "output_type": "stream",
          "name": "stdout",
          "text": [
            "feature1 shape:(41920,)\n",
            "feature1 shape:(41920,)\n"
          ]
        },
        {
          "output_type": "stream",
          "name": "stderr",
          "text": [
            "<ipython-input-11-0bbfc9674b69>:93: FutureWarning: The frame.append method is deprecated and will be removed from pandas in a future version. Use pandas.concat instead.\n",
            "  data = data.append({'emotion': temp, 'mel_spec_db': mel_spec_db, 'features1': np.array2string(features1, separator=',',threshold=np.inf, prefix='[', suffix=']')}, ignore_index=True)\n"
          ]
        },
        {
          "output_type": "stream",
          "name": "stdout",
          "text": [
            "feature1 shape:(41920,)\n",
            "feature1 shape:(41920,)\n"
          ]
        },
        {
          "output_type": "stream",
          "name": "stderr",
          "text": [
            "<ipython-input-11-0bbfc9674b69>:93: FutureWarning: The frame.append method is deprecated and will be removed from pandas in a future version. Use pandas.concat instead.\n",
            "  data = data.append({'emotion': temp, 'mel_spec_db': mel_spec_db, 'features1': np.array2string(features1, separator=',',threshold=np.inf, prefix='[', suffix=']')}, ignore_index=True)\n"
          ]
        },
        {
          "output_type": "stream",
          "name": "stdout",
          "text": [
            "feature1 shape:(41920,)\n",
            "feature1 shape:(41920,)\n"
          ]
        },
        {
          "output_type": "stream",
          "name": "stderr",
          "text": [
            "<ipython-input-11-0bbfc9674b69>:93: FutureWarning: The frame.append method is deprecated and will be removed from pandas in a future version. Use pandas.concat instead.\n",
            "  data = data.append({'emotion': temp, 'mel_spec_db': mel_spec_db, 'features1': np.array2string(features1, separator=',',threshold=np.inf, prefix='[', suffix=']')}, ignore_index=True)\n"
          ]
        },
        {
          "output_type": "stream",
          "name": "stdout",
          "text": [
            "feature1 shape:(41920,)\n",
            "feature1 shape:(41920,)\n"
          ]
        },
        {
          "output_type": "stream",
          "name": "stderr",
          "text": [
            "<ipython-input-11-0bbfc9674b69>:93: FutureWarning: The frame.append method is deprecated and will be removed from pandas in a future version. Use pandas.concat instead.\n",
            "  data = data.append({'emotion': temp, 'mel_spec_db': mel_spec_db, 'features1': np.array2string(features1, separator=',',threshold=np.inf, prefix='[', suffix=']')}, ignore_index=True)\n"
          ]
        },
        {
          "output_type": "stream",
          "name": "stdout",
          "text": [
            "feature1 shape:(41920,)\n",
            "feature1 shape:(41920,)\n"
          ]
        },
        {
          "output_type": "stream",
          "name": "stderr",
          "text": [
            "<ipython-input-11-0bbfc9674b69>:93: FutureWarning: The frame.append method is deprecated and will be removed from pandas in a future version. Use pandas.concat instead.\n",
            "  data = data.append({'emotion': temp, 'mel_spec_db': mel_spec_db, 'features1': np.array2string(features1, separator=',',threshold=np.inf, prefix='[', suffix=']')}, ignore_index=True)\n"
          ]
        },
        {
          "output_type": "stream",
          "name": "stdout",
          "text": [
            "feature1 shape:(41920,)\n",
            "feature1 shape:(41920,)\n"
          ]
        },
        {
          "output_type": "stream",
          "name": "stderr",
          "text": [
            "<ipython-input-11-0bbfc9674b69>:93: FutureWarning: The frame.append method is deprecated and will be removed from pandas in a future version. Use pandas.concat instead.\n",
            "  data = data.append({'emotion': temp, 'mel_spec_db': mel_spec_db, 'features1': np.array2string(features1, separator=',',threshold=np.inf, prefix='[', suffix=']')}, ignore_index=True)\n"
          ]
        },
        {
          "output_type": "stream",
          "name": "stdout",
          "text": [
            "feature1 shape:(41920,)\n",
            "feature1 shape:(41920,)\n"
          ]
        },
        {
          "output_type": "stream",
          "name": "stderr",
          "text": [
            "<ipython-input-11-0bbfc9674b69>:93: FutureWarning: The frame.append method is deprecated and will be removed from pandas in a future version. Use pandas.concat instead.\n",
            "  data = data.append({'emotion': temp, 'mel_spec_db': mel_spec_db, 'features1': np.array2string(features1, separator=',',threshold=np.inf, prefix='[', suffix=']')}, ignore_index=True)\n"
          ]
        },
        {
          "output_type": "stream",
          "name": "stdout",
          "text": [
            "feature1 shape:(41920,)\n",
            "feature1 shape:(41920,)\n"
          ]
        },
        {
          "output_type": "stream",
          "name": "stderr",
          "text": [
            "<ipython-input-11-0bbfc9674b69>:93: FutureWarning: The frame.append method is deprecated and will be removed from pandas in a future version. Use pandas.concat instead.\n",
            "  data = data.append({'emotion': temp, 'mel_spec_db': mel_spec_db, 'features1': np.array2string(features1, separator=',',threshold=np.inf, prefix='[', suffix=']')}, ignore_index=True)\n"
          ]
        },
        {
          "output_type": "stream",
          "name": "stdout",
          "text": [
            "feature1 shape:(41920,)\n",
            "feature1 shape:(41920,)\n"
          ]
        },
        {
          "output_type": "stream",
          "name": "stderr",
          "text": [
            "<ipython-input-11-0bbfc9674b69>:93: FutureWarning: The frame.append method is deprecated and will be removed from pandas in a future version. Use pandas.concat instead.\n",
            "  data = data.append({'emotion': temp, 'mel_spec_db': mel_spec_db, 'features1': np.array2string(features1, separator=',',threshold=np.inf, prefix='[', suffix=']')}, ignore_index=True)\n"
          ]
        },
        {
          "output_type": "stream",
          "name": "stdout",
          "text": [
            "feature1 shape:(41920,)\n",
            "feature1 shape:(41920,)\n"
          ]
        },
        {
          "output_type": "stream",
          "name": "stderr",
          "text": [
            "<ipython-input-11-0bbfc9674b69>:93: FutureWarning: The frame.append method is deprecated and will be removed from pandas in a future version. Use pandas.concat instead.\n",
            "  data = data.append({'emotion': temp, 'mel_spec_db': mel_spec_db, 'features1': np.array2string(features1, separator=',',threshold=np.inf, prefix='[', suffix=']')}, ignore_index=True)\n"
          ]
        },
        {
          "output_type": "stream",
          "name": "stdout",
          "text": [
            "feature1 shape:(41920,)\n",
            "feature1 shape:(41920,)\n"
          ]
        },
        {
          "output_type": "stream",
          "name": "stderr",
          "text": [
            "<ipython-input-11-0bbfc9674b69>:93: FutureWarning: The frame.append method is deprecated and will be removed from pandas in a future version. Use pandas.concat instead.\n",
            "  data = data.append({'emotion': temp, 'mel_spec_db': mel_spec_db, 'features1': np.array2string(features1, separator=',',threshold=np.inf, prefix='[', suffix=']')}, ignore_index=True)\n"
          ]
        },
        {
          "output_type": "stream",
          "name": "stdout",
          "text": [
            "feature1 shape:(41920,)\n",
            "feature1 shape:(41920,)\n"
          ]
        },
        {
          "output_type": "stream",
          "name": "stderr",
          "text": [
            "<ipython-input-11-0bbfc9674b69>:93: FutureWarning: The frame.append method is deprecated and will be removed from pandas in a future version. Use pandas.concat instead.\n",
            "  data = data.append({'emotion': temp, 'mel_spec_db': mel_spec_db, 'features1': np.array2string(features1, separator=',',threshold=np.inf, prefix='[', suffix=']')}, ignore_index=True)\n"
          ]
        },
        {
          "output_type": "stream",
          "name": "stdout",
          "text": [
            "feature1 shape:(41920,)\n",
            "feature1 shape:(41920,)\n"
          ]
        },
        {
          "output_type": "stream",
          "name": "stderr",
          "text": [
            "<ipython-input-11-0bbfc9674b69>:93: FutureWarning: The frame.append method is deprecated and will be removed from pandas in a future version. Use pandas.concat instead.\n",
            "  data = data.append({'emotion': temp, 'mel_spec_db': mel_spec_db, 'features1': np.array2string(features1, separator=',',threshold=np.inf, prefix='[', suffix=']')}, ignore_index=True)\n"
          ]
        },
        {
          "output_type": "stream",
          "name": "stdout",
          "text": [
            "feature1 shape:(41920,)\n",
            "feature1 shape:(41920,)\n"
          ]
        },
        {
          "output_type": "stream",
          "name": "stderr",
          "text": [
            "<ipython-input-11-0bbfc9674b69>:93: FutureWarning: The frame.append method is deprecated and will be removed from pandas in a future version. Use pandas.concat instead.\n",
            "  data = data.append({'emotion': temp, 'mel_spec_db': mel_spec_db, 'features1': np.array2string(features1, separator=',',threshold=np.inf, prefix='[', suffix=']')}, ignore_index=True)\n"
          ]
        },
        {
          "output_type": "stream",
          "name": "stdout",
          "text": [
            "feature1 shape:(41920,)\n",
            "feature1 shape:(41920,)\n"
          ]
        },
        {
          "output_type": "stream",
          "name": "stderr",
          "text": [
            "<ipython-input-11-0bbfc9674b69>:93: FutureWarning: The frame.append method is deprecated and will be removed from pandas in a future version. Use pandas.concat instead.\n",
            "  data = data.append({'emotion': temp, 'mel_spec_db': mel_spec_db, 'features1': np.array2string(features1, separator=',',threshold=np.inf, prefix='[', suffix=']')}, ignore_index=True)\n"
          ]
        },
        {
          "output_type": "stream",
          "name": "stdout",
          "text": [
            "feature1 shape:(41920,)\n",
            "feature1 shape:(41920,)\n"
          ]
        },
        {
          "output_type": "stream",
          "name": "stderr",
          "text": [
            "<ipython-input-11-0bbfc9674b69>:93: FutureWarning: The frame.append method is deprecated and will be removed from pandas in a future version. Use pandas.concat instead.\n",
            "  data = data.append({'emotion': temp, 'mel_spec_db': mel_spec_db, 'features1': np.array2string(features1, separator=',',threshold=np.inf, prefix='[', suffix=']')}, ignore_index=True)\n"
          ]
        },
        {
          "output_type": "stream",
          "name": "stdout",
          "text": [
            "feature1 shape:(41920,)\n",
            "feature1 shape:(41920,)\n"
          ]
        },
        {
          "output_type": "stream",
          "name": "stderr",
          "text": [
            "<ipython-input-11-0bbfc9674b69>:93: FutureWarning: The frame.append method is deprecated and will be removed from pandas in a future version. Use pandas.concat instead.\n",
            "  data = data.append({'emotion': temp, 'mel_spec_db': mel_spec_db, 'features1': np.array2string(features1, separator=',',threshold=np.inf, prefix='[', suffix=']')}, ignore_index=True)\n"
          ]
        },
        {
          "output_type": "stream",
          "name": "stdout",
          "text": [
            "feature1 shape:(41920,)\n",
            "feature1 shape:(41920,)\n"
          ]
        },
        {
          "output_type": "stream",
          "name": "stderr",
          "text": [
            "<ipython-input-11-0bbfc9674b69>:93: FutureWarning: The frame.append method is deprecated and will be removed from pandas in a future version. Use pandas.concat instead.\n",
            "  data = data.append({'emotion': temp, 'mel_spec_db': mel_spec_db, 'features1': np.array2string(features1, separator=',',threshold=np.inf, prefix='[', suffix=']')}, ignore_index=True)\n"
          ]
        },
        {
          "output_type": "stream",
          "name": "stdout",
          "text": [
            "feature1 shape:(41920,)\n",
            "feature1 shape:(41920,)\n"
          ]
        },
        {
          "output_type": "stream",
          "name": "stderr",
          "text": [
            "<ipython-input-11-0bbfc9674b69>:93: FutureWarning: The frame.append method is deprecated and will be removed from pandas in a future version. Use pandas.concat instead.\n",
            "  data = data.append({'emotion': temp, 'mel_spec_db': mel_spec_db, 'features1': np.array2string(features1, separator=',',threshold=np.inf, prefix='[', suffix=']')}, ignore_index=True)\n"
          ]
        },
        {
          "output_type": "stream",
          "name": "stdout",
          "text": [
            "feature1 shape:(41920,)\n",
            "feature1 shape:(41920,)\n"
          ]
        },
        {
          "output_type": "stream",
          "name": "stderr",
          "text": [
            "<ipython-input-11-0bbfc9674b69>:93: FutureWarning: The frame.append method is deprecated and will be removed from pandas in a future version. Use pandas.concat instead.\n",
            "  data = data.append({'emotion': temp, 'mel_spec_db': mel_spec_db, 'features1': np.array2string(features1, separator=',',threshold=np.inf, prefix='[', suffix=']')}, ignore_index=True)\n"
          ]
        },
        {
          "output_type": "stream",
          "name": "stdout",
          "text": [
            "feature1 shape:(41920,)\n",
            "feature1 shape:(41920,)\n"
          ]
        },
        {
          "output_type": "stream",
          "name": "stderr",
          "text": [
            "<ipython-input-11-0bbfc9674b69>:93: FutureWarning: The frame.append method is deprecated and will be removed from pandas in a future version. Use pandas.concat instead.\n",
            "  data = data.append({'emotion': temp, 'mel_spec_db': mel_spec_db, 'features1': np.array2string(features1, separator=',',threshold=np.inf, prefix='[', suffix=']')}, ignore_index=True)\n"
          ]
        },
        {
          "output_type": "stream",
          "name": "stdout",
          "text": [
            "feature1 shape:(41920,)\n",
            "feature1 shape:(41920,)\n"
          ]
        },
        {
          "output_type": "stream",
          "name": "stderr",
          "text": [
            "<ipython-input-11-0bbfc9674b69>:93: FutureWarning: The frame.append method is deprecated and will be removed from pandas in a future version. Use pandas.concat instead.\n",
            "  data = data.append({'emotion': temp, 'mel_spec_db': mel_spec_db, 'features1': np.array2string(features1, separator=',',threshold=np.inf, prefix='[', suffix=']')}, ignore_index=True)\n"
          ]
        },
        {
          "output_type": "stream",
          "name": "stdout",
          "text": [
            "feature1 shape:(41920,)\n",
            "feature1 shape:(41920,)\n"
          ]
        },
        {
          "output_type": "stream",
          "name": "stderr",
          "text": [
            "<ipython-input-11-0bbfc9674b69>:93: FutureWarning: The frame.append method is deprecated and will be removed from pandas in a future version. Use pandas.concat instead.\n",
            "  data = data.append({'emotion': temp, 'mel_spec_db': mel_spec_db, 'features1': np.array2string(features1, separator=',',threshold=np.inf, prefix='[', suffix=']')}, ignore_index=True)\n"
          ]
        },
        {
          "output_type": "stream",
          "name": "stdout",
          "text": [
            "feature1 shape:(41920,)\n",
            "feature1 shape:(41920,)\n"
          ]
        },
        {
          "output_type": "stream",
          "name": "stderr",
          "text": [
            "<ipython-input-11-0bbfc9674b69>:93: FutureWarning: The frame.append method is deprecated and will be removed from pandas in a future version. Use pandas.concat instead.\n",
            "  data = data.append({'emotion': temp, 'mel_spec_db': mel_spec_db, 'features1': np.array2string(features1, separator=',',threshold=np.inf, prefix='[', suffix=']')}, ignore_index=True)\n"
          ]
        },
        {
          "output_type": "stream",
          "name": "stdout",
          "text": [
            "feature1 shape:(41920,)\n",
            "feature1 shape:(41920,)\n"
          ]
        },
        {
          "output_type": "stream",
          "name": "stderr",
          "text": [
            "<ipython-input-11-0bbfc9674b69>:93: FutureWarning: The frame.append method is deprecated and will be removed from pandas in a future version. Use pandas.concat instead.\n",
            "  data = data.append({'emotion': temp, 'mel_spec_db': mel_spec_db, 'features1': np.array2string(features1, separator=',',threshold=np.inf, prefix='[', suffix=']')}, ignore_index=True)\n"
          ]
        },
        {
          "output_type": "stream",
          "name": "stdout",
          "text": [
            "feature1 shape:(41920,)\n",
            "feature1 shape:(41920,)\n"
          ]
        },
        {
          "output_type": "stream",
          "name": "stderr",
          "text": [
            "<ipython-input-11-0bbfc9674b69>:93: FutureWarning: The frame.append method is deprecated and will be removed from pandas in a future version. Use pandas.concat instead.\n",
            "  data = data.append({'emotion': temp, 'mel_spec_db': mel_spec_db, 'features1': np.array2string(features1, separator=',',threshold=np.inf, prefix='[', suffix=']')}, ignore_index=True)\n"
          ]
        },
        {
          "output_type": "stream",
          "name": "stdout",
          "text": [
            "feature1 shape:(41920,)\n",
            "feature1 shape:(41920,)\n"
          ]
        },
        {
          "output_type": "stream",
          "name": "stderr",
          "text": [
            "<ipython-input-11-0bbfc9674b69>:93: FutureWarning: The frame.append method is deprecated and will be removed from pandas in a future version. Use pandas.concat instead.\n",
            "  data = data.append({'emotion': temp, 'mel_spec_db': mel_spec_db, 'features1': np.array2string(features1, separator=',',threshold=np.inf, prefix='[', suffix=']')}, ignore_index=True)\n"
          ]
        },
        {
          "output_type": "stream",
          "name": "stdout",
          "text": [
            "feature1 shape:(41920,)\n",
            "feature1 shape:(41920,)\n"
          ]
        },
        {
          "output_type": "stream",
          "name": "stderr",
          "text": [
            "<ipython-input-11-0bbfc9674b69>:93: FutureWarning: The frame.append method is deprecated and will be removed from pandas in a future version. Use pandas.concat instead.\n",
            "  data = data.append({'emotion': temp, 'mel_spec_db': mel_spec_db, 'features1': np.array2string(features1, separator=',',threshold=np.inf, prefix='[', suffix=']')}, ignore_index=True)\n"
          ]
        },
        {
          "output_type": "stream",
          "name": "stdout",
          "text": [
            "feature1 shape:(41920,)\n",
            "feature1 shape:(41920,)\n"
          ]
        },
        {
          "output_type": "stream",
          "name": "stderr",
          "text": [
            "<ipython-input-11-0bbfc9674b69>:93: FutureWarning: The frame.append method is deprecated and will be removed from pandas in a future version. Use pandas.concat instead.\n",
            "  data = data.append({'emotion': temp, 'mel_spec_db': mel_spec_db, 'features1': np.array2string(features1, separator=',',threshold=np.inf, prefix='[', suffix=']')}, ignore_index=True)\n"
          ]
        },
        {
          "output_type": "stream",
          "name": "stdout",
          "text": [
            "feature1 shape:(41920,)\n",
            "feature1 shape:(41920,)\n"
          ]
        },
        {
          "output_type": "stream",
          "name": "stderr",
          "text": [
            "<ipython-input-11-0bbfc9674b69>:93: FutureWarning: The frame.append method is deprecated and will be removed from pandas in a future version. Use pandas.concat instead.\n",
            "  data = data.append({'emotion': temp, 'mel_spec_db': mel_spec_db, 'features1': np.array2string(features1, separator=',',threshold=np.inf, prefix='[', suffix=']')}, ignore_index=True)\n"
          ]
        },
        {
          "output_type": "stream",
          "name": "stdout",
          "text": [
            "feature1 shape:(41920,)\n",
            "feature1 shape:(41920,)\n"
          ]
        },
        {
          "output_type": "stream",
          "name": "stderr",
          "text": [
            "<ipython-input-11-0bbfc9674b69>:93: FutureWarning: The frame.append method is deprecated and will be removed from pandas in a future version. Use pandas.concat instead.\n",
            "  data = data.append({'emotion': temp, 'mel_spec_db': mel_spec_db, 'features1': np.array2string(features1, separator=',',threshold=np.inf, prefix='[', suffix=']')}, ignore_index=True)\n"
          ]
        },
        {
          "output_type": "stream",
          "name": "stdout",
          "text": [
            "feature1 shape:(41920,)\n",
            "feature1 shape:(41920,)\n"
          ]
        },
        {
          "output_type": "stream",
          "name": "stderr",
          "text": [
            "<ipython-input-11-0bbfc9674b69>:93: FutureWarning: The frame.append method is deprecated and will be removed from pandas in a future version. Use pandas.concat instead.\n",
            "  data = data.append({'emotion': temp, 'mel_spec_db': mel_spec_db, 'features1': np.array2string(features1, separator=',',threshold=np.inf, prefix='[', suffix=']')}, ignore_index=True)\n"
          ]
        },
        {
          "output_type": "stream",
          "name": "stdout",
          "text": [
            "feature1 shape:(41920,)\n",
            "feature1 shape:(41920,)\n"
          ]
        },
        {
          "output_type": "stream",
          "name": "stderr",
          "text": [
            "<ipython-input-11-0bbfc9674b69>:93: FutureWarning: The frame.append method is deprecated and will be removed from pandas in a future version. Use pandas.concat instead.\n",
            "  data = data.append({'emotion': temp, 'mel_spec_db': mel_spec_db, 'features1': np.array2string(features1, separator=',',threshold=np.inf, prefix='[', suffix=']')}, ignore_index=True)\n"
          ]
        },
        {
          "output_type": "stream",
          "name": "stdout",
          "text": [
            "feature1 shape:(41920,)\n",
            "feature1 shape:(41920,)\n"
          ]
        },
        {
          "output_type": "stream",
          "name": "stderr",
          "text": [
            "<ipython-input-11-0bbfc9674b69>:93: FutureWarning: The frame.append method is deprecated and will be removed from pandas in a future version. Use pandas.concat instead.\n",
            "  data = data.append({'emotion': temp, 'mel_spec_db': mel_spec_db, 'features1': np.array2string(features1, separator=',',threshold=np.inf, prefix='[', suffix=']')}, ignore_index=True)\n"
          ]
        },
        {
          "output_type": "stream",
          "name": "stdout",
          "text": [
            "feature1 shape:(41920,)\n",
            "feature1 shape:(41920,)\n"
          ]
        },
        {
          "output_type": "stream",
          "name": "stderr",
          "text": [
            "<ipython-input-11-0bbfc9674b69>:93: FutureWarning: The frame.append method is deprecated and will be removed from pandas in a future version. Use pandas.concat instead.\n",
            "  data = data.append({'emotion': temp, 'mel_spec_db': mel_spec_db, 'features1': np.array2string(features1, separator=',',threshold=np.inf, prefix='[', suffix=']')}, ignore_index=True)\n"
          ]
        },
        {
          "output_type": "stream",
          "name": "stdout",
          "text": [
            "feature1 shape:(41920,)\n",
            "feature1 shape:(41920,)\n"
          ]
        },
        {
          "output_type": "stream",
          "name": "stderr",
          "text": [
            "<ipython-input-11-0bbfc9674b69>:93: FutureWarning: The frame.append method is deprecated and will be removed from pandas in a future version. Use pandas.concat instead.\n",
            "  data = data.append({'emotion': temp, 'mel_spec_db': mel_spec_db, 'features1': np.array2string(features1, separator=',',threshold=np.inf, prefix='[', suffix=']')}, ignore_index=True)\n"
          ]
        },
        {
          "output_type": "stream",
          "name": "stdout",
          "text": [
            "feature1 shape:(41920,)\n",
            "feature1 shape:(41920,)\n"
          ]
        },
        {
          "output_type": "stream",
          "name": "stderr",
          "text": [
            "<ipython-input-11-0bbfc9674b69>:93: FutureWarning: The frame.append method is deprecated and will be removed from pandas in a future version. Use pandas.concat instead.\n",
            "  data = data.append({'emotion': temp, 'mel_spec_db': mel_spec_db, 'features1': np.array2string(features1, separator=',',threshold=np.inf, prefix='[', suffix=']')}, ignore_index=True)\n"
          ]
        },
        {
          "output_type": "stream",
          "name": "stdout",
          "text": [
            "feature1 shape:(41920,)\n",
            "feature1 shape:(41920,)\n"
          ]
        },
        {
          "output_type": "stream",
          "name": "stderr",
          "text": [
            "<ipython-input-11-0bbfc9674b69>:93: FutureWarning: The frame.append method is deprecated and will be removed from pandas in a future version. Use pandas.concat instead.\n",
            "  data = data.append({'emotion': temp, 'mel_spec_db': mel_spec_db, 'features1': np.array2string(features1, separator=',',threshold=np.inf, prefix='[', suffix=']')}, ignore_index=True)\n"
          ]
        },
        {
          "output_type": "stream",
          "name": "stdout",
          "text": [
            "feature1 shape:(41920,)\n",
            "feature1 shape:(41920,)\n"
          ]
        },
        {
          "output_type": "stream",
          "name": "stderr",
          "text": [
            "<ipython-input-11-0bbfc9674b69>:93: FutureWarning: The frame.append method is deprecated and will be removed from pandas in a future version. Use pandas.concat instead.\n",
            "  data = data.append({'emotion': temp, 'mel_spec_db': mel_spec_db, 'features1': np.array2string(features1, separator=',',threshold=np.inf, prefix='[', suffix=']')}, ignore_index=True)\n"
          ]
        },
        {
          "output_type": "stream",
          "name": "stdout",
          "text": [
            "feature1 shape:(41920,)\n",
            "feature1 shape:(41920,)\n"
          ]
        },
        {
          "output_type": "stream",
          "name": "stderr",
          "text": [
            "<ipython-input-11-0bbfc9674b69>:93: FutureWarning: The frame.append method is deprecated and will be removed from pandas in a future version. Use pandas.concat instead.\n",
            "  data = data.append({'emotion': temp, 'mel_spec_db': mel_spec_db, 'features1': np.array2string(features1, separator=',',threshold=np.inf, prefix='[', suffix=']')}, ignore_index=True)\n"
          ]
        },
        {
          "output_type": "stream",
          "name": "stdout",
          "text": [
            "feature1 shape:(41920,)\n",
            "feature1 shape:(41920,)\n"
          ]
        },
        {
          "output_type": "stream",
          "name": "stderr",
          "text": [
            "<ipython-input-11-0bbfc9674b69>:93: FutureWarning: The frame.append method is deprecated and will be removed from pandas in a future version. Use pandas.concat instead.\n",
            "  data = data.append({'emotion': temp, 'mel_spec_db': mel_spec_db, 'features1': np.array2string(features1, separator=',',threshold=np.inf, prefix='[', suffix=']')}, ignore_index=True)\n"
          ]
        },
        {
          "output_type": "stream",
          "name": "stdout",
          "text": [
            "feature1 shape:(41920,)\n",
            "feature1 shape:(41920,)\n"
          ]
        },
        {
          "output_type": "stream",
          "name": "stderr",
          "text": [
            "<ipython-input-11-0bbfc9674b69>:93: FutureWarning: The frame.append method is deprecated and will be removed from pandas in a future version. Use pandas.concat instead.\n",
            "  data = data.append({'emotion': temp, 'mel_spec_db': mel_spec_db, 'features1': np.array2string(features1, separator=',',threshold=np.inf, prefix='[', suffix=']')}, ignore_index=True)\n"
          ]
        },
        {
          "output_type": "stream",
          "name": "stdout",
          "text": [
            "feature1 shape:(41920,)\n",
            "feature1 shape:(41920,)\n"
          ]
        },
        {
          "output_type": "stream",
          "name": "stderr",
          "text": [
            "<ipython-input-11-0bbfc9674b69>:93: FutureWarning: The frame.append method is deprecated and will be removed from pandas in a future version. Use pandas.concat instead.\n",
            "  data = data.append({'emotion': temp, 'mel_spec_db': mel_spec_db, 'features1': np.array2string(features1, separator=',',threshold=np.inf, prefix='[', suffix=']')}, ignore_index=True)\n"
          ]
        },
        {
          "output_type": "stream",
          "name": "stdout",
          "text": [
            "feature1 shape:(41920,)\n",
            "feature1 shape:(41920,)\n"
          ]
        },
        {
          "output_type": "stream",
          "name": "stderr",
          "text": [
            "<ipython-input-11-0bbfc9674b69>:93: FutureWarning: The frame.append method is deprecated and will be removed from pandas in a future version. Use pandas.concat instead.\n",
            "  data = data.append({'emotion': temp, 'mel_spec_db': mel_spec_db, 'features1': np.array2string(features1, separator=',',threshold=np.inf, prefix='[', suffix=']')}, ignore_index=True)\n"
          ]
        },
        {
          "output_type": "stream",
          "name": "stdout",
          "text": [
            "feature1 shape:(41920,)\n",
            "feature1 shape:(41920,)\n"
          ]
        },
        {
          "output_type": "stream",
          "name": "stderr",
          "text": [
            "<ipython-input-11-0bbfc9674b69>:93: FutureWarning: The frame.append method is deprecated and will be removed from pandas in a future version. Use pandas.concat instead.\n",
            "  data = data.append({'emotion': temp, 'mel_spec_db': mel_spec_db, 'features1': np.array2string(features1, separator=',',threshold=np.inf, prefix='[', suffix=']')}, ignore_index=True)\n"
          ]
        },
        {
          "output_type": "stream",
          "name": "stdout",
          "text": [
            "feature1 shape:(41920,)\n",
            "feature1 shape:(41920,)\n"
          ]
        },
        {
          "output_type": "stream",
          "name": "stderr",
          "text": [
            "<ipython-input-11-0bbfc9674b69>:93: FutureWarning: The frame.append method is deprecated and will be removed from pandas in a future version. Use pandas.concat instead.\n",
            "  data = data.append({'emotion': temp, 'mel_spec_db': mel_spec_db, 'features1': np.array2string(features1, separator=',',threshold=np.inf, prefix='[', suffix=']')}, ignore_index=True)\n"
          ]
        },
        {
          "output_type": "stream",
          "name": "stdout",
          "text": [
            "feature1 shape:(41920,)\n",
            "feature1 shape:(41920,)\n"
          ]
        },
        {
          "output_type": "stream",
          "name": "stderr",
          "text": [
            "<ipython-input-11-0bbfc9674b69>:93: FutureWarning: The frame.append method is deprecated and will be removed from pandas in a future version. Use pandas.concat instead.\n",
            "  data = data.append({'emotion': temp, 'mel_spec_db': mel_spec_db, 'features1': np.array2string(features1, separator=',',threshold=np.inf, prefix='[', suffix=']')}, ignore_index=True)\n"
          ]
        },
        {
          "output_type": "stream",
          "name": "stdout",
          "text": [
            "feature1 shape:(41920,)\n",
            "feature1 shape:(41920,)\n"
          ]
        },
        {
          "output_type": "stream",
          "name": "stderr",
          "text": [
            "<ipython-input-11-0bbfc9674b69>:93: FutureWarning: The frame.append method is deprecated and will be removed from pandas in a future version. Use pandas.concat instead.\n",
            "  data = data.append({'emotion': temp, 'mel_spec_db': mel_spec_db, 'features1': np.array2string(features1, separator=',',threshold=np.inf, prefix='[', suffix=']')}, ignore_index=True)\n"
          ]
        },
        {
          "output_type": "stream",
          "name": "stdout",
          "text": [
            "feature1 shape:(41920,)\n",
            "feature1 shape:(41920,)\n"
          ]
        },
        {
          "output_type": "stream",
          "name": "stderr",
          "text": [
            "<ipython-input-11-0bbfc9674b69>:93: FutureWarning: The frame.append method is deprecated and will be removed from pandas in a future version. Use pandas.concat instead.\n",
            "  data = data.append({'emotion': temp, 'mel_spec_db': mel_spec_db, 'features1': np.array2string(features1, separator=',',threshold=np.inf, prefix='[', suffix=']')}, ignore_index=True)\n"
          ]
        },
        {
          "output_type": "stream",
          "name": "stdout",
          "text": [
            "feature1 shape:(41920,)\n",
            "feature1 shape:(41920,)\n"
          ]
        },
        {
          "output_type": "stream",
          "name": "stderr",
          "text": [
            "<ipython-input-11-0bbfc9674b69>:93: FutureWarning: The frame.append method is deprecated and will be removed from pandas in a future version. Use pandas.concat instead.\n",
            "  data = data.append({'emotion': temp, 'mel_spec_db': mel_spec_db, 'features1': np.array2string(features1, separator=',',threshold=np.inf, prefix='[', suffix=']')}, ignore_index=True)\n"
          ]
        },
        {
          "output_type": "stream",
          "name": "stdout",
          "text": [
            "feature1 shape:(41920,)\n",
            "feature1 shape:(41920,)\n"
          ]
        },
        {
          "output_type": "stream",
          "name": "stderr",
          "text": [
            "<ipython-input-11-0bbfc9674b69>:93: FutureWarning: The frame.append method is deprecated and will be removed from pandas in a future version. Use pandas.concat instead.\n",
            "  data = data.append({'emotion': temp, 'mel_spec_db': mel_spec_db, 'features1': np.array2string(features1, separator=',',threshold=np.inf, prefix='[', suffix=']')}, ignore_index=True)\n"
          ]
        },
        {
          "output_type": "stream",
          "name": "stdout",
          "text": [
            "feature1 shape:(41920,)\n",
            "feature1 shape:(41920,)\n"
          ]
        },
        {
          "output_type": "stream",
          "name": "stderr",
          "text": [
            "<ipython-input-11-0bbfc9674b69>:93: FutureWarning: The frame.append method is deprecated and will be removed from pandas in a future version. Use pandas.concat instead.\n",
            "  data = data.append({'emotion': temp, 'mel_spec_db': mel_spec_db, 'features1': np.array2string(features1, separator=',',threshold=np.inf, prefix='[', suffix=']')}, ignore_index=True)\n"
          ]
        },
        {
          "output_type": "stream",
          "name": "stdout",
          "text": [
            "feature1 shape:(41920,)\n",
            "feature1 shape:(41920,)\n"
          ]
        },
        {
          "output_type": "stream",
          "name": "stderr",
          "text": [
            "<ipython-input-11-0bbfc9674b69>:93: FutureWarning: The frame.append method is deprecated and will be removed from pandas in a future version. Use pandas.concat instead.\n",
            "  data = data.append({'emotion': temp, 'mel_spec_db': mel_spec_db, 'features1': np.array2string(features1, separator=',',threshold=np.inf, prefix='[', suffix=']')}, ignore_index=True)\n"
          ]
        },
        {
          "output_type": "stream",
          "name": "stdout",
          "text": [
            "feature1 shape:(41920,)\n",
            "feature1 shape:(41920,)\n"
          ]
        },
        {
          "output_type": "stream",
          "name": "stderr",
          "text": [
            "<ipython-input-11-0bbfc9674b69>:93: FutureWarning: The frame.append method is deprecated and will be removed from pandas in a future version. Use pandas.concat instead.\n",
            "  data = data.append({'emotion': temp, 'mel_spec_db': mel_spec_db, 'features1': np.array2string(features1, separator=',',threshold=np.inf, prefix='[', suffix=']')}, ignore_index=True)\n"
          ]
        },
        {
          "output_type": "stream",
          "name": "stdout",
          "text": [
            "feature1 shape:(41920,)\n",
            "feature1 shape:(41920,)\n"
          ]
        },
        {
          "output_type": "stream",
          "name": "stderr",
          "text": [
            "<ipython-input-11-0bbfc9674b69>:93: FutureWarning: The frame.append method is deprecated and will be removed from pandas in a future version. Use pandas.concat instead.\n",
            "  data = data.append({'emotion': temp, 'mel_spec_db': mel_spec_db, 'features1': np.array2string(features1, separator=',',threshold=np.inf, prefix='[', suffix=']')}, ignore_index=True)\n"
          ]
        },
        {
          "output_type": "stream",
          "name": "stdout",
          "text": [
            "feature1 shape:(41920,)\n",
            "feature1 shape:(41920,)\n"
          ]
        },
        {
          "output_type": "stream",
          "name": "stderr",
          "text": [
            "<ipython-input-11-0bbfc9674b69>:93: FutureWarning: The frame.append method is deprecated and will be removed from pandas in a future version. Use pandas.concat instead.\n",
            "  data = data.append({'emotion': temp, 'mel_spec_db': mel_spec_db, 'features1': np.array2string(features1, separator=',',threshold=np.inf, prefix='[', suffix=']')}, ignore_index=True)\n"
          ]
        },
        {
          "output_type": "stream",
          "name": "stdout",
          "text": [
            "feature1 shape:(41920,)\n",
            "feature1 shape:(41920,)\n"
          ]
        },
        {
          "output_type": "stream",
          "name": "stderr",
          "text": [
            "<ipython-input-11-0bbfc9674b69>:93: FutureWarning: The frame.append method is deprecated and will be removed from pandas in a future version. Use pandas.concat instead.\n",
            "  data = data.append({'emotion': temp, 'mel_spec_db': mel_spec_db, 'features1': np.array2string(features1, separator=',',threshold=np.inf, prefix='[', suffix=']')}, ignore_index=True)\n"
          ]
        },
        {
          "output_type": "stream",
          "name": "stdout",
          "text": [
            "feature1 shape:(41920,)\n",
            "feature1 shape:(41920,)\n"
          ]
        },
        {
          "output_type": "stream",
          "name": "stderr",
          "text": [
            "<ipython-input-11-0bbfc9674b69>:93: FutureWarning: The frame.append method is deprecated and will be removed from pandas in a future version. Use pandas.concat instead.\n",
            "  data = data.append({'emotion': temp, 'mel_spec_db': mel_spec_db, 'features1': np.array2string(features1, separator=',',threshold=np.inf, prefix='[', suffix=']')}, ignore_index=True)\n"
          ]
        },
        {
          "output_type": "stream",
          "name": "stdout",
          "text": [
            "feature1 shape:(41920,)\n",
            "feature1 shape:(41920,)\n"
          ]
        },
        {
          "output_type": "stream",
          "name": "stderr",
          "text": [
            "<ipython-input-11-0bbfc9674b69>:93: FutureWarning: The frame.append method is deprecated and will be removed from pandas in a future version. Use pandas.concat instead.\n",
            "  data = data.append({'emotion': temp, 'mel_spec_db': mel_spec_db, 'features1': np.array2string(features1, separator=',',threshold=np.inf, prefix='[', suffix=']')}, ignore_index=True)\n"
          ]
        },
        {
          "output_type": "stream",
          "name": "stdout",
          "text": [
            "feature1 shape:(41920,)\n",
            "feature1 shape:(41920,)\n"
          ]
        },
        {
          "output_type": "stream",
          "name": "stderr",
          "text": [
            "<ipython-input-11-0bbfc9674b69>:93: FutureWarning: The frame.append method is deprecated and will be removed from pandas in a future version. Use pandas.concat instead.\n",
            "  data = data.append({'emotion': temp, 'mel_spec_db': mel_spec_db, 'features1': np.array2string(features1, separator=',',threshold=np.inf, prefix='[', suffix=']')}, ignore_index=True)\n"
          ]
        },
        {
          "output_type": "stream",
          "name": "stdout",
          "text": [
            "feature1 shape:(41920,)\n",
            "feature1 shape:(41920,)\n"
          ]
        },
        {
          "output_type": "stream",
          "name": "stderr",
          "text": [
            "<ipython-input-11-0bbfc9674b69>:93: FutureWarning: The frame.append method is deprecated and will be removed from pandas in a future version. Use pandas.concat instead.\n",
            "  data = data.append({'emotion': temp, 'mel_spec_db': mel_spec_db, 'features1': np.array2string(features1, separator=',',threshold=np.inf, prefix='[', suffix=']')}, ignore_index=True)\n"
          ]
        },
        {
          "output_type": "stream",
          "name": "stdout",
          "text": [
            "feature1 shape:(41920,)\n",
            "feature1 shape:(41920,)\n"
          ]
        },
        {
          "output_type": "stream",
          "name": "stderr",
          "text": [
            "<ipython-input-11-0bbfc9674b69>:93: FutureWarning: The frame.append method is deprecated and will be removed from pandas in a future version. Use pandas.concat instead.\n",
            "  data = data.append({'emotion': temp, 'mel_spec_db': mel_spec_db, 'features1': np.array2string(features1, separator=',',threshold=np.inf, prefix='[', suffix=']')}, ignore_index=True)\n"
          ]
        },
        {
          "output_type": "stream",
          "name": "stdout",
          "text": [
            "feature1 shape:(41920,)\n",
            "feature1 shape:(41920,)\n"
          ]
        },
        {
          "output_type": "stream",
          "name": "stderr",
          "text": [
            "<ipython-input-11-0bbfc9674b69>:93: FutureWarning: The frame.append method is deprecated and will be removed from pandas in a future version. Use pandas.concat instead.\n",
            "  data = data.append({'emotion': temp, 'mel_spec_db': mel_spec_db, 'features1': np.array2string(features1, separator=',',threshold=np.inf, prefix='[', suffix=']')}, ignore_index=True)\n"
          ]
        },
        {
          "output_type": "stream",
          "name": "stdout",
          "text": [
            "feature1 shape:(41920,)\n",
            "feature1 shape:(41920,)\n"
          ]
        },
        {
          "output_type": "stream",
          "name": "stderr",
          "text": [
            "<ipython-input-11-0bbfc9674b69>:93: FutureWarning: The frame.append method is deprecated and will be removed from pandas in a future version. Use pandas.concat instead.\n",
            "  data = data.append({'emotion': temp, 'mel_spec_db': mel_spec_db, 'features1': np.array2string(features1, separator=',',threshold=np.inf, prefix='[', suffix=']')}, ignore_index=True)\n"
          ]
        },
        {
          "output_type": "stream",
          "name": "stdout",
          "text": [
            "feature1 shape:(41920,)\n",
            "feature1 shape:(41920,)\n"
          ]
        },
        {
          "output_type": "stream",
          "name": "stderr",
          "text": [
            "<ipython-input-11-0bbfc9674b69>:93: FutureWarning: The frame.append method is deprecated and will be removed from pandas in a future version. Use pandas.concat instead.\n",
            "  data = data.append({'emotion': temp, 'mel_spec_db': mel_spec_db, 'features1': np.array2string(features1, separator=',',threshold=np.inf, prefix='[', suffix=']')}, ignore_index=True)\n"
          ]
        },
        {
          "output_type": "stream",
          "name": "stdout",
          "text": [
            "feature1 shape:(41920,)\n",
            "feature1 shape:(41920,)\n"
          ]
        },
        {
          "output_type": "stream",
          "name": "stderr",
          "text": [
            "<ipython-input-11-0bbfc9674b69>:93: FutureWarning: The frame.append method is deprecated and will be removed from pandas in a future version. Use pandas.concat instead.\n",
            "  data = data.append({'emotion': temp, 'mel_spec_db': mel_spec_db, 'features1': np.array2string(features1, separator=',',threshold=np.inf, prefix='[', suffix=']')}, ignore_index=True)\n"
          ]
        },
        {
          "output_type": "stream",
          "name": "stdout",
          "text": [
            "feature1 shape:(41920,)\n",
            "feature1 shape:(41920,)\n"
          ]
        },
        {
          "output_type": "stream",
          "name": "stderr",
          "text": [
            "<ipython-input-11-0bbfc9674b69>:93: FutureWarning: The frame.append method is deprecated and will be removed from pandas in a future version. Use pandas.concat instead.\n",
            "  data = data.append({'emotion': temp, 'mel_spec_db': mel_spec_db, 'features1': np.array2string(features1, separator=',',threshold=np.inf, prefix='[', suffix=']')}, ignore_index=True)\n"
          ]
        },
        {
          "output_type": "stream",
          "name": "stdout",
          "text": [
            "feature1 shape:(41920,)\n",
            "feature1 shape:(41920,)\n"
          ]
        },
        {
          "output_type": "stream",
          "name": "stderr",
          "text": [
            "<ipython-input-11-0bbfc9674b69>:93: FutureWarning: The frame.append method is deprecated and will be removed from pandas in a future version. Use pandas.concat instead.\n",
            "  data = data.append({'emotion': temp, 'mel_spec_db': mel_spec_db, 'features1': np.array2string(features1, separator=',',threshold=np.inf, prefix='[', suffix=']')}, ignore_index=True)\n"
          ]
        },
        {
          "output_type": "stream",
          "name": "stdout",
          "text": [
            "feature1 shape:(41920,)\n",
            "feature1 shape:(41920,)\n"
          ]
        },
        {
          "output_type": "stream",
          "name": "stderr",
          "text": [
            "<ipython-input-11-0bbfc9674b69>:93: FutureWarning: The frame.append method is deprecated and will be removed from pandas in a future version. Use pandas.concat instead.\n",
            "  data = data.append({'emotion': temp, 'mel_spec_db': mel_spec_db, 'features1': np.array2string(features1, separator=',',threshold=np.inf, prefix='[', suffix=']')}, ignore_index=True)\n"
          ]
        },
        {
          "output_type": "stream",
          "name": "stdout",
          "text": [
            "feature1 shape:(41920,)\n",
            "feature1 shape:(41920,)\n"
          ]
        },
        {
          "output_type": "stream",
          "name": "stderr",
          "text": [
            "<ipython-input-11-0bbfc9674b69>:93: FutureWarning: The frame.append method is deprecated and will be removed from pandas in a future version. Use pandas.concat instead.\n",
            "  data = data.append({'emotion': temp, 'mel_spec_db': mel_spec_db, 'features1': np.array2string(features1, separator=',',threshold=np.inf, prefix='[', suffix=']')}, ignore_index=True)\n"
          ]
        },
        {
          "output_type": "stream",
          "name": "stdout",
          "text": [
            "feature1 shape:(41920,)\n",
            "feature1 shape:(41920,)\n"
          ]
        },
        {
          "output_type": "stream",
          "name": "stderr",
          "text": [
            "<ipython-input-11-0bbfc9674b69>:93: FutureWarning: The frame.append method is deprecated and will be removed from pandas in a future version. Use pandas.concat instead.\n",
            "  data = data.append({'emotion': temp, 'mel_spec_db': mel_spec_db, 'features1': np.array2string(features1, separator=',',threshold=np.inf, prefix='[', suffix=']')}, ignore_index=True)\n"
          ]
        },
        {
          "output_type": "stream",
          "name": "stdout",
          "text": [
            "feature1 shape:(41920,)\n",
            "feature1 shape:(41920,)\n"
          ]
        },
        {
          "output_type": "stream",
          "name": "stderr",
          "text": [
            "<ipython-input-11-0bbfc9674b69>:93: FutureWarning: The frame.append method is deprecated and will be removed from pandas in a future version. Use pandas.concat instead.\n",
            "  data = data.append({'emotion': temp, 'mel_spec_db': mel_spec_db, 'features1': np.array2string(features1, separator=',',threshold=np.inf, prefix='[', suffix=']')}, ignore_index=True)\n"
          ]
        },
        {
          "output_type": "stream",
          "name": "stdout",
          "text": [
            "feature1 shape:(41920,)\n",
            "feature1 shape:(41920,)\n"
          ]
        },
        {
          "output_type": "stream",
          "name": "stderr",
          "text": [
            "<ipython-input-11-0bbfc9674b69>:93: FutureWarning: The frame.append method is deprecated and will be removed from pandas in a future version. Use pandas.concat instead.\n",
            "  data = data.append({'emotion': temp, 'mel_spec_db': mel_spec_db, 'features1': np.array2string(features1, separator=',',threshold=np.inf, prefix='[', suffix=']')}, ignore_index=True)\n"
          ]
        },
        {
          "output_type": "stream",
          "name": "stdout",
          "text": [
            "feature1 shape:(41920,)\n",
            "feature1 shape:(41920,)\n"
          ]
        },
        {
          "output_type": "stream",
          "name": "stderr",
          "text": [
            "<ipython-input-11-0bbfc9674b69>:93: FutureWarning: The frame.append method is deprecated and will be removed from pandas in a future version. Use pandas.concat instead.\n",
            "  data = data.append({'emotion': temp, 'mel_spec_db': mel_spec_db, 'features1': np.array2string(features1, separator=',',threshold=np.inf, prefix='[', suffix=']')}, ignore_index=True)\n"
          ]
        },
        {
          "output_type": "stream",
          "name": "stdout",
          "text": [
            "feature1 shape:(41920,)\n",
            "feature1 shape:(41920,)\n"
          ]
        },
        {
          "output_type": "stream",
          "name": "stderr",
          "text": [
            "<ipython-input-11-0bbfc9674b69>:93: FutureWarning: The frame.append method is deprecated and will be removed from pandas in a future version. Use pandas.concat instead.\n",
            "  data = data.append({'emotion': temp, 'mel_spec_db': mel_spec_db, 'features1': np.array2string(features1, separator=',',threshold=np.inf, prefix='[', suffix=']')}, ignore_index=True)\n"
          ]
        },
        {
          "output_type": "stream",
          "name": "stdout",
          "text": [
            "feature1 shape:(41920,)\n",
            "feature1 shape:(41920,)\n"
          ]
        },
        {
          "output_type": "stream",
          "name": "stderr",
          "text": [
            "<ipython-input-11-0bbfc9674b69>:93: FutureWarning: The frame.append method is deprecated and will be removed from pandas in a future version. Use pandas.concat instead.\n",
            "  data = data.append({'emotion': temp, 'mel_spec_db': mel_spec_db, 'features1': np.array2string(features1, separator=',',threshold=np.inf, prefix='[', suffix=']')}, ignore_index=True)\n"
          ]
        },
        {
          "output_type": "stream",
          "name": "stdout",
          "text": [
            "feature1 shape:(41920,)\n",
            "feature1 shape:(41920,)\n"
          ]
        },
        {
          "output_type": "stream",
          "name": "stderr",
          "text": [
            "<ipython-input-11-0bbfc9674b69>:93: FutureWarning: The frame.append method is deprecated and will be removed from pandas in a future version. Use pandas.concat instead.\n",
            "  data = data.append({'emotion': temp, 'mel_spec_db': mel_spec_db, 'features1': np.array2string(features1, separator=',',threshold=np.inf, prefix='[', suffix=']')}, ignore_index=True)\n"
          ]
        },
        {
          "output_type": "stream",
          "name": "stdout",
          "text": [
            "feature1 shape:(41920,)\n",
            "feature1 shape:(41920,)\n"
          ]
        },
        {
          "output_type": "stream",
          "name": "stderr",
          "text": [
            "<ipython-input-11-0bbfc9674b69>:93: FutureWarning: The frame.append method is deprecated and will be removed from pandas in a future version. Use pandas.concat instead.\n",
            "  data = data.append({'emotion': temp, 'mel_spec_db': mel_spec_db, 'features1': np.array2string(features1, separator=',',threshold=np.inf, prefix='[', suffix=']')}, ignore_index=True)\n"
          ]
        },
        {
          "output_type": "stream",
          "name": "stdout",
          "text": [
            "feature1 shape:(41920,)\n",
            "feature1 shape:(41920,)\n"
          ]
        },
        {
          "output_type": "stream",
          "name": "stderr",
          "text": [
            "<ipython-input-11-0bbfc9674b69>:93: FutureWarning: The frame.append method is deprecated and will be removed from pandas in a future version. Use pandas.concat instead.\n",
            "  data = data.append({'emotion': temp, 'mel_spec_db': mel_spec_db, 'features1': np.array2string(features1, separator=',',threshold=np.inf, prefix='[', suffix=']')}, ignore_index=True)\n"
          ]
        },
        {
          "output_type": "stream",
          "name": "stdout",
          "text": [
            "feature1 shape:(41920,)\n",
            "feature1 shape:(41920,)\n"
          ]
        },
        {
          "output_type": "stream",
          "name": "stderr",
          "text": [
            "<ipython-input-11-0bbfc9674b69>:93: FutureWarning: The frame.append method is deprecated and will be removed from pandas in a future version. Use pandas.concat instead.\n",
            "  data = data.append({'emotion': temp, 'mel_spec_db': mel_spec_db, 'features1': np.array2string(features1, separator=',',threshold=np.inf, prefix='[', suffix=']')}, ignore_index=True)\n"
          ]
        },
        {
          "output_type": "stream",
          "name": "stdout",
          "text": [
            "feature1 shape:(41920,)\n",
            "feature1 shape:(41920,)\n"
          ]
        },
        {
          "output_type": "stream",
          "name": "stderr",
          "text": [
            "<ipython-input-11-0bbfc9674b69>:93: FutureWarning: The frame.append method is deprecated and will be removed from pandas in a future version. Use pandas.concat instead.\n",
            "  data = data.append({'emotion': temp, 'mel_spec_db': mel_spec_db, 'features1': np.array2string(features1, separator=',',threshold=np.inf, prefix='[', suffix=']')}, ignore_index=True)\n"
          ]
        },
        {
          "output_type": "stream",
          "name": "stdout",
          "text": [
            "feature1 shape:(41920,)\n",
            "feature1 shape:(41920,)\n"
          ]
        },
        {
          "output_type": "stream",
          "name": "stderr",
          "text": [
            "<ipython-input-11-0bbfc9674b69>:93: FutureWarning: The frame.append method is deprecated and will be removed from pandas in a future version. Use pandas.concat instead.\n",
            "  data = data.append({'emotion': temp, 'mel_spec_db': mel_spec_db, 'features1': np.array2string(features1, separator=',',threshold=np.inf, prefix='[', suffix=']')}, ignore_index=True)\n"
          ]
        },
        {
          "output_type": "stream",
          "name": "stdout",
          "text": [
            "feature1 shape:(41920,)\n",
            "feature1 shape:(41920,)\n"
          ]
        },
        {
          "output_type": "stream",
          "name": "stderr",
          "text": [
            "<ipython-input-11-0bbfc9674b69>:93: FutureWarning: The frame.append method is deprecated and will be removed from pandas in a future version. Use pandas.concat instead.\n",
            "  data = data.append({'emotion': temp, 'mel_spec_db': mel_spec_db, 'features1': np.array2string(features1, separator=',',threshold=np.inf, prefix='[', suffix=']')}, ignore_index=True)\n"
          ]
        },
        {
          "output_type": "stream",
          "name": "stdout",
          "text": [
            "feature1 shape:(41920,)\n",
            "feature1 shape:(41920,)\n"
          ]
        },
        {
          "output_type": "stream",
          "name": "stderr",
          "text": [
            "<ipython-input-11-0bbfc9674b69>:93: FutureWarning: The frame.append method is deprecated and will be removed from pandas in a future version. Use pandas.concat instead.\n",
            "  data = data.append({'emotion': temp, 'mel_spec_db': mel_spec_db, 'features1': np.array2string(features1, separator=',',threshold=np.inf, prefix='[', suffix=']')}, ignore_index=True)\n"
          ]
        },
        {
          "output_type": "stream",
          "name": "stdout",
          "text": [
            "feature1 shape:(41920,)\n",
            "feature1 shape:(41920,)\n"
          ]
        },
        {
          "output_type": "stream",
          "name": "stderr",
          "text": [
            "<ipython-input-11-0bbfc9674b69>:93: FutureWarning: The frame.append method is deprecated and will be removed from pandas in a future version. Use pandas.concat instead.\n",
            "  data = data.append({'emotion': temp, 'mel_spec_db': mel_spec_db, 'features1': np.array2string(features1, separator=',',threshold=np.inf, prefix='[', suffix=']')}, ignore_index=True)\n"
          ]
        },
        {
          "output_type": "stream",
          "name": "stdout",
          "text": [
            "feature1 shape:(41920,)\n",
            "feature1 shape:(41920,)\n"
          ]
        },
        {
          "output_type": "stream",
          "name": "stderr",
          "text": [
            "<ipython-input-11-0bbfc9674b69>:93: FutureWarning: The frame.append method is deprecated and will be removed from pandas in a future version. Use pandas.concat instead.\n",
            "  data = data.append({'emotion': temp, 'mel_spec_db': mel_spec_db, 'features1': np.array2string(features1, separator=',',threshold=np.inf, prefix='[', suffix=']')}, ignore_index=True)\n"
          ]
        },
        {
          "output_type": "stream",
          "name": "stdout",
          "text": [
            "feature1 shape:(41920,)\n",
            "feature1 shape:(41920,)\n"
          ]
        },
        {
          "output_type": "stream",
          "name": "stderr",
          "text": [
            "<ipython-input-11-0bbfc9674b69>:93: FutureWarning: The frame.append method is deprecated and will be removed from pandas in a future version. Use pandas.concat instead.\n",
            "  data = data.append({'emotion': temp, 'mel_spec_db': mel_spec_db, 'features1': np.array2string(features1, separator=',',threshold=np.inf, prefix='[', suffix=']')}, ignore_index=True)\n"
          ]
        },
        {
          "output_type": "stream",
          "name": "stdout",
          "text": [
            "feature1 shape:(41920,)\n",
            "feature1 shape:(41920,)\n"
          ]
        },
        {
          "output_type": "stream",
          "name": "stderr",
          "text": [
            "<ipython-input-11-0bbfc9674b69>:93: FutureWarning: The frame.append method is deprecated and will be removed from pandas in a future version. Use pandas.concat instead.\n",
            "  data = data.append({'emotion': temp, 'mel_spec_db': mel_spec_db, 'features1': np.array2string(features1, separator=',',threshold=np.inf, prefix='[', suffix=']')}, ignore_index=True)\n"
          ]
        },
        {
          "output_type": "stream",
          "name": "stdout",
          "text": [
            "feature1 shape:(41920,)\n",
            "feature1 shape:(41920,)\n"
          ]
        },
        {
          "output_type": "stream",
          "name": "stderr",
          "text": [
            "<ipython-input-11-0bbfc9674b69>:93: FutureWarning: The frame.append method is deprecated and will be removed from pandas in a future version. Use pandas.concat instead.\n",
            "  data = data.append({'emotion': temp, 'mel_spec_db': mel_spec_db, 'features1': np.array2string(features1, separator=',',threshold=np.inf, prefix='[', suffix=']')}, ignore_index=True)\n"
          ]
        },
        {
          "output_type": "stream",
          "name": "stdout",
          "text": [
            "feature1 shape:(41920,)\n",
            "feature1 shape:(41920,)\n"
          ]
        },
        {
          "output_type": "stream",
          "name": "stderr",
          "text": [
            "<ipython-input-11-0bbfc9674b69>:93: FutureWarning: The frame.append method is deprecated and will be removed from pandas in a future version. Use pandas.concat instead.\n",
            "  data = data.append({'emotion': temp, 'mel_spec_db': mel_spec_db, 'features1': np.array2string(features1, separator=',',threshold=np.inf, prefix='[', suffix=']')}, ignore_index=True)\n"
          ]
        },
        {
          "output_type": "stream",
          "name": "stdout",
          "text": [
            "feature1 shape:(41920,)\n",
            "feature1 shape:(41920,)\n"
          ]
        },
        {
          "output_type": "stream",
          "name": "stderr",
          "text": [
            "<ipython-input-11-0bbfc9674b69>:93: FutureWarning: The frame.append method is deprecated and will be removed from pandas in a future version. Use pandas.concat instead.\n",
            "  data = data.append({'emotion': temp, 'mel_spec_db': mel_spec_db, 'features1': np.array2string(features1, separator=',',threshold=np.inf, prefix='[', suffix=']')}, ignore_index=True)\n"
          ]
        },
        {
          "output_type": "stream",
          "name": "stdout",
          "text": [
            "feature1 shape:(41920,)\n",
            "feature1 shape:(41920,)\n"
          ]
        },
        {
          "output_type": "stream",
          "name": "stderr",
          "text": [
            "<ipython-input-11-0bbfc9674b69>:93: FutureWarning: The frame.append method is deprecated and will be removed from pandas in a future version. Use pandas.concat instead.\n",
            "  data = data.append({'emotion': temp, 'mel_spec_db': mel_spec_db, 'features1': np.array2string(features1, separator=',',threshold=np.inf, prefix='[', suffix=']')}, ignore_index=True)\n"
          ]
        },
        {
          "output_type": "stream",
          "name": "stdout",
          "text": [
            "feature1 shape:(41920,)\n",
            "feature1 shape:(41920,)\n"
          ]
        },
        {
          "output_type": "stream",
          "name": "stderr",
          "text": [
            "<ipython-input-11-0bbfc9674b69>:93: FutureWarning: The frame.append method is deprecated and will be removed from pandas in a future version. Use pandas.concat instead.\n",
            "  data = data.append({'emotion': temp, 'mel_spec_db': mel_spec_db, 'features1': np.array2string(features1, separator=',',threshold=np.inf, prefix='[', suffix=']')}, ignore_index=True)\n"
          ]
        },
        {
          "output_type": "stream",
          "name": "stdout",
          "text": [
            "feature1 shape:(41920,)\n",
            "feature1 shape:(41920,)\n"
          ]
        },
        {
          "output_type": "stream",
          "name": "stderr",
          "text": [
            "<ipython-input-11-0bbfc9674b69>:93: FutureWarning: The frame.append method is deprecated and will be removed from pandas in a future version. Use pandas.concat instead.\n",
            "  data = data.append({'emotion': temp, 'mel_spec_db': mel_spec_db, 'features1': np.array2string(features1, separator=',',threshold=np.inf, prefix='[', suffix=']')}, ignore_index=True)\n"
          ]
        },
        {
          "output_type": "stream",
          "name": "stdout",
          "text": [
            "feature1 shape:(41920,)\n",
            "feature1 shape:(41920,)\n"
          ]
        },
        {
          "output_type": "stream",
          "name": "stderr",
          "text": [
            "<ipython-input-11-0bbfc9674b69>:93: FutureWarning: The frame.append method is deprecated and will be removed from pandas in a future version. Use pandas.concat instead.\n",
            "  data = data.append({'emotion': temp, 'mel_spec_db': mel_spec_db, 'features1': np.array2string(features1, separator=',',threshold=np.inf, prefix='[', suffix=']')}, ignore_index=True)\n"
          ]
        },
        {
          "output_type": "stream",
          "name": "stdout",
          "text": [
            "feature1 shape:(41920,)\n",
            "feature1 shape:(41920,)\n"
          ]
        },
        {
          "output_type": "stream",
          "name": "stderr",
          "text": [
            "<ipython-input-11-0bbfc9674b69>:93: FutureWarning: The frame.append method is deprecated and will be removed from pandas in a future version. Use pandas.concat instead.\n",
            "  data = data.append({'emotion': temp, 'mel_spec_db': mel_spec_db, 'features1': np.array2string(features1, separator=',',threshold=np.inf, prefix='[', suffix=']')}, ignore_index=True)\n"
          ]
        },
        {
          "output_type": "stream",
          "name": "stdout",
          "text": [
            "feature1 shape:(41920,)\n",
            "feature1 shape:(41920,)\n"
          ]
        },
        {
          "output_type": "stream",
          "name": "stderr",
          "text": [
            "<ipython-input-11-0bbfc9674b69>:93: FutureWarning: The frame.append method is deprecated and will be removed from pandas in a future version. Use pandas.concat instead.\n",
            "  data = data.append({'emotion': temp, 'mel_spec_db': mel_spec_db, 'features1': np.array2string(features1, separator=',',threshold=np.inf, prefix='[', suffix=']')}, ignore_index=True)\n"
          ]
        },
        {
          "output_type": "stream",
          "name": "stdout",
          "text": [
            "feature1 shape:(41920,)\n",
            "feature1 shape:(41920,)\n"
          ]
        },
        {
          "output_type": "stream",
          "name": "stderr",
          "text": [
            "<ipython-input-11-0bbfc9674b69>:93: FutureWarning: The frame.append method is deprecated and will be removed from pandas in a future version. Use pandas.concat instead.\n",
            "  data = data.append({'emotion': temp, 'mel_spec_db': mel_spec_db, 'features1': np.array2string(features1, separator=',',threshold=np.inf, prefix='[', suffix=']')}, ignore_index=True)\n"
          ]
        },
        {
          "output_type": "stream",
          "name": "stdout",
          "text": [
            "feature1 shape:(41920,)\n",
            "feature1 shape:(41920,)\n"
          ]
        },
        {
          "output_type": "stream",
          "name": "stderr",
          "text": [
            "<ipython-input-11-0bbfc9674b69>:93: FutureWarning: The frame.append method is deprecated and will be removed from pandas in a future version. Use pandas.concat instead.\n",
            "  data = data.append({'emotion': temp, 'mel_spec_db': mel_spec_db, 'features1': np.array2string(features1, separator=',',threshold=np.inf, prefix='[', suffix=']')}, ignore_index=True)\n"
          ]
        },
        {
          "output_type": "stream",
          "name": "stdout",
          "text": [
            "feature1 shape:(41920,)\n",
            "feature1 shape:(41920,)\n"
          ]
        },
        {
          "output_type": "stream",
          "name": "stderr",
          "text": [
            "<ipython-input-11-0bbfc9674b69>:93: FutureWarning: The frame.append method is deprecated and will be removed from pandas in a future version. Use pandas.concat instead.\n",
            "  data = data.append({'emotion': temp, 'mel_spec_db': mel_spec_db, 'features1': np.array2string(features1, separator=',',threshold=np.inf, prefix='[', suffix=']')}, ignore_index=True)\n"
          ]
        },
        {
          "output_type": "stream",
          "name": "stdout",
          "text": [
            "feature1 shape:(41920,)\n",
            "feature1 shape:(41920,)\n"
          ]
        },
        {
          "output_type": "stream",
          "name": "stderr",
          "text": [
            "<ipython-input-11-0bbfc9674b69>:93: FutureWarning: The frame.append method is deprecated and will be removed from pandas in a future version. Use pandas.concat instead.\n",
            "  data = data.append({'emotion': temp, 'mel_spec_db': mel_spec_db, 'features1': np.array2string(features1, separator=',',threshold=np.inf, prefix='[', suffix=']')}, ignore_index=True)\n"
          ]
        },
        {
          "output_type": "stream",
          "name": "stdout",
          "text": [
            "feature1 shape:(41920,)\n",
            "feature1 shape:(41920,)\n"
          ]
        },
        {
          "output_type": "stream",
          "name": "stderr",
          "text": [
            "<ipython-input-11-0bbfc9674b69>:93: FutureWarning: The frame.append method is deprecated and will be removed from pandas in a future version. Use pandas.concat instead.\n",
            "  data = data.append({'emotion': temp, 'mel_spec_db': mel_spec_db, 'features1': np.array2string(features1, separator=',',threshold=np.inf, prefix='[', suffix=']')}, ignore_index=True)\n"
          ]
        },
        {
          "output_type": "stream",
          "name": "stdout",
          "text": [
            "feature1 shape:(41920,)\n",
            "feature1 shape:(41920,)\n"
          ]
        },
        {
          "output_type": "stream",
          "name": "stderr",
          "text": [
            "<ipython-input-11-0bbfc9674b69>:93: FutureWarning: The frame.append method is deprecated and will be removed from pandas in a future version. Use pandas.concat instead.\n",
            "  data = data.append({'emotion': temp, 'mel_spec_db': mel_spec_db, 'features1': np.array2string(features1, separator=',',threshold=np.inf, prefix='[', suffix=']')}, ignore_index=True)\n"
          ]
        },
        {
          "output_type": "stream",
          "name": "stdout",
          "text": [
            "feature1 shape:(41920,)\n",
            "feature1 shape:(41920,)\n"
          ]
        },
        {
          "output_type": "stream",
          "name": "stderr",
          "text": [
            "<ipython-input-11-0bbfc9674b69>:93: FutureWarning: The frame.append method is deprecated and will be removed from pandas in a future version. Use pandas.concat instead.\n",
            "  data = data.append({'emotion': temp, 'mel_spec_db': mel_spec_db, 'features1': np.array2string(features1, separator=',',threshold=np.inf, prefix='[', suffix=']')}, ignore_index=True)\n"
          ]
        },
        {
          "output_type": "stream",
          "name": "stdout",
          "text": [
            "feature1 shape:(41920,)\n",
            "feature1 shape:(41920,)\n"
          ]
        },
        {
          "output_type": "stream",
          "name": "stderr",
          "text": [
            "<ipython-input-11-0bbfc9674b69>:93: FutureWarning: The frame.append method is deprecated and will be removed from pandas in a future version. Use pandas.concat instead.\n",
            "  data = data.append({'emotion': temp, 'mel_spec_db': mel_spec_db, 'features1': np.array2string(features1, separator=',',threshold=np.inf, prefix='[', suffix=']')}, ignore_index=True)\n"
          ]
        },
        {
          "output_type": "stream",
          "name": "stdout",
          "text": [
            "feature1 shape:(41920,)\n",
            "feature1 shape:(41920,)\n"
          ]
        },
        {
          "output_type": "stream",
          "name": "stderr",
          "text": [
            "<ipython-input-11-0bbfc9674b69>:93: FutureWarning: The frame.append method is deprecated and will be removed from pandas in a future version. Use pandas.concat instead.\n",
            "  data = data.append({'emotion': temp, 'mel_spec_db': mel_spec_db, 'features1': np.array2string(features1, separator=',',threshold=np.inf, prefix='[', suffix=']')}, ignore_index=True)\n"
          ]
        },
        {
          "output_type": "stream",
          "name": "stdout",
          "text": [
            "feature1 shape:(41920,)\n",
            "feature1 shape:(41920,)\n"
          ]
        },
        {
          "output_type": "stream",
          "name": "stderr",
          "text": [
            "<ipython-input-11-0bbfc9674b69>:93: FutureWarning: The frame.append method is deprecated and will be removed from pandas in a future version. Use pandas.concat instead.\n",
            "  data = data.append({'emotion': temp, 'mel_spec_db': mel_spec_db, 'features1': np.array2string(features1, separator=',',threshold=np.inf, prefix='[', suffix=']')}, ignore_index=True)\n"
          ]
        },
        {
          "output_type": "stream",
          "name": "stdout",
          "text": [
            "feature1 shape:(41920,)\n",
            "feature1 shape:(41920,)\n"
          ]
        },
        {
          "output_type": "stream",
          "name": "stderr",
          "text": [
            "<ipython-input-11-0bbfc9674b69>:93: FutureWarning: The frame.append method is deprecated and will be removed from pandas in a future version. Use pandas.concat instead.\n",
            "  data = data.append({'emotion': temp, 'mel_spec_db': mel_spec_db, 'features1': np.array2string(features1, separator=',',threshold=np.inf, prefix='[', suffix=']')}, ignore_index=True)\n"
          ]
        },
        {
          "output_type": "stream",
          "name": "stdout",
          "text": [
            "feature1 shape:(41920,)\n",
            "feature1 shape:(41920,)\n"
          ]
        },
        {
          "output_type": "stream",
          "name": "stderr",
          "text": [
            "<ipython-input-11-0bbfc9674b69>:93: FutureWarning: The frame.append method is deprecated and will be removed from pandas in a future version. Use pandas.concat instead.\n",
            "  data = data.append({'emotion': temp, 'mel_spec_db': mel_spec_db, 'features1': np.array2string(features1, separator=',',threshold=np.inf, prefix='[', suffix=']')}, ignore_index=True)\n"
          ]
        },
        {
          "output_type": "stream",
          "name": "stdout",
          "text": [
            "feature1 shape:(41920,)\n",
            "feature1 shape:(41920,)\n"
          ]
        },
        {
          "output_type": "stream",
          "name": "stderr",
          "text": [
            "<ipython-input-11-0bbfc9674b69>:93: FutureWarning: The frame.append method is deprecated and will be removed from pandas in a future version. Use pandas.concat instead.\n",
            "  data = data.append({'emotion': temp, 'mel_spec_db': mel_spec_db, 'features1': np.array2string(features1, separator=',',threshold=np.inf, prefix='[', suffix=']')}, ignore_index=True)\n"
          ]
        },
        {
          "output_type": "stream",
          "name": "stdout",
          "text": [
            "feature1 shape:(41920,)\n",
            "feature1 shape:(41920,)\n"
          ]
        },
        {
          "output_type": "stream",
          "name": "stderr",
          "text": [
            "<ipython-input-11-0bbfc9674b69>:93: FutureWarning: The frame.append method is deprecated and will be removed from pandas in a future version. Use pandas.concat instead.\n",
            "  data = data.append({'emotion': temp, 'mel_spec_db': mel_spec_db, 'features1': np.array2string(features1, separator=',',threshold=np.inf, prefix='[', suffix=']')}, ignore_index=True)\n"
          ]
        },
        {
          "output_type": "stream",
          "name": "stdout",
          "text": [
            "feature1 shape:(41920,)\n",
            "feature1 shape:(41920,)\n"
          ]
        },
        {
          "output_type": "stream",
          "name": "stderr",
          "text": [
            "<ipython-input-11-0bbfc9674b69>:93: FutureWarning: The frame.append method is deprecated and will be removed from pandas in a future version. Use pandas.concat instead.\n",
            "  data = data.append({'emotion': temp, 'mel_spec_db': mel_spec_db, 'features1': np.array2string(features1, separator=',',threshold=np.inf, prefix='[', suffix=']')}, ignore_index=True)\n"
          ]
        },
        {
          "output_type": "stream",
          "name": "stdout",
          "text": [
            "feature1 shape:(41920,)\n",
            "feature1 shape:(41920,)\n"
          ]
        },
        {
          "output_type": "stream",
          "name": "stderr",
          "text": [
            "<ipython-input-11-0bbfc9674b69>:93: FutureWarning: The frame.append method is deprecated and will be removed from pandas in a future version. Use pandas.concat instead.\n",
            "  data = data.append({'emotion': temp, 'mel_spec_db': mel_spec_db, 'features1': np.array2string(features1, separator=',',threshold=np.inf, prefix='[', suffix=']')}, ignore_index=True)\n"
          ]
        },
        {
          "output_type": "stream",
          "name": "stdout",
          "text": [
            "feature1 shape:(41920,)\n",
            "feature1 shape:(41920,)\n"
          ]
        },
        {
          "output_type": "stream",
          "name": "stderr",
          "text": [
            "<ipython-input-11-0bbfc9674b69>:93: FutureWarning: The frame.append method is deprecated and will be removed from pandas in a future version. Use pandas.concat instead.\n",
            "  data = data.append({'emotion': temp, 'mel_spec_db': mel_spec_db, 'features1': np.array2string(features1, separator=',',threshold=np.inf, prefix='[', suffix=']')}, ignore_index=True)\n"
          ]
        },
        {
          "output_type": "stream",
          "name": "stdout",
          "text": [
            "feature1 shape:(41920,)\n",
            "feature1 shape:(41920,)\n"
          ]
        },
        {
          "output_type": "stream",
          "name": "stderr",
          "text": [
            "<ipython-input-11-0bbfc9674b69>:93: FutureWarning: The frame.append method is deprecated and will be removed from pandas in a future version. Use pandas.concat instead.\n",
            "  data = data.append({'emotion': temp, 'mel_spec_db': mel_spec_db, 'features1': np.array2string(features1, separator=',',threshold=np.inf, prefix='[', suffix=']')}, ignore_index=True)\n"
          ]
        },
        {
          "output_type": "stream",
          "name": "stdout",
          "text": [
            "feature1 shape:(41920,)\n",
            "feature1 shape:(41920,)\n"
          ]
        },
        {
          "output_type": "stream",
          "name": "stderr",
          "text": [
            "<ipython-input-11-0bbfc9674b69>:93: FutureWarning: The frame.append method is deprecated and will be removed from pandas in a future version. Use pandas.concat instead.\n",
            "  data = data.append({'emotion': temp, 'mel_spec_db': mel_spec_db, 'features1': np.array2string(features1, separator=',',threshold=np.inf, prefix='[', suffix=']')}, ignore_index=True)\n"
          ]
        },
        {
          "output_type": "stream",
          "name": "stdout",
          "text": [
            "feature1 shape:(41920,)\n",
            "feature1 shape:(41920,)\n"
          ]
        },
        {
          "output_type": "stream",
          "name": "stderr",
          "text": [
            "<ipython-input-11-0bbfc9674b69>:93: FutureWarning: The frame.append method is deprecated and will be removed from pandas in a future version. Use pandas.concat instead.\n",
            "  data = data.append({'emotion': temp, 'mel_spec_db': mel_spec_db, 'features1': np.array2string(features1, separator=',',threshold=np.inf, prefix='[', suffix=']')}, ignore_index=True)\n"
          ]
        },
        {
          "output_type": "stream",
          "name": "stdout",
          "text": [
            "feature1 shape:(41920,)\n",
            "feature1 shape:(41920,)\n"
          ]
        },
        {
          "output_type": "stream",
          "name": "stderr",
          "text": [
            "<ipython-input-11-0bbfc9674b69>:93: FutureWarning: The frame.append method is deprecated and will be removed from pandas in a future version. Use pandas.concat instead.\n",
            "  data = data.append({'emotion': temp, 'mel_spec_db': mel_spec_db, 'features1': np.array2string(features1, separator=',',threshold=np.inf, prefix='[', suffix=']')}, ignore_index=True)\n"
          ]
        },
        {
          "output_type": "stream",
          "name": "stdout",
          "text": [
            "feature1 shape:(41920,)\n",
            "feature1 shape:(41920,)\n"
          ]
        },
        {
          "output_type": "stream",
          "name": "stderr",
          "text": [
            "<ipython-input-11-0bbfc9674b69>:93: FutureWarning: The frame.append method is deprecated and will be removed from pandas in a future version. Use pandas.concat instead.\n",
            "  data = data.append({'emotion': temp, 'mel_spec_db': mel_spec_db, 'features1': np.array2string(features1, separator=',',threshold=np.inf, prefix='[', suffix=']')}, ignore_index=True)\n"
          ]
        },
        {
          "output_type": "stream",
          "name": "stdout",
          "text": [
            "feature1 shape:(41920,)\n",
            "feature1 shape:(41920,)\n"
          ]
        },
        {
          "output_type": "stream",
          "name": "stderr",
          "text": [
            "<ipython-input-11-0bbfc9674b69>:93: FutureWarning: The frame.append method is deprecated and will be removed from pandas in a future version. Use pandas.concat instead.\n",
            "  data = data.append({'emotion': temp, 'mel_spec_db': mel_spec_db, 'features1': np.array2string(features1, separator=',',threshold=np.inf, prefix='[', suffix=']')}, ignore_index=True)\n"
          ]
        },
        {
          "output_type": "stream",
          "name": "stdout",
          "text": [
            "feature1 shape:(41920,)\n",
            "feature1 shape:(41920,)\n"
          ]
        },
        {
          "output_type": "stream",
          "name": "stderr",
          "text": [
            "<ipython-input-11-0bbfc9674b69>:93: FutureWarning: The frame.append method is deprecated and will be removed from pandas in a future version. Use pandas.concat instead.\n",
            "  data = data.append({'emotion': temp, 'mel_spec_db': mel_spec_db, 'features1': np.array2string(features1, separator=',',threshold=np.inf, prefix='[', suffix=']')}, ignore_index=True)\n"
          ]
        },
        {
          "output_type": "stream",
          "name": "stdout",
          "text": [
            "feature1 shape:(41920,)\n",
            "feature1 shape:(41920,)\n"
          ]
        },
        {
          "output_type": "stream",
          "name": "stderr",
          "text": [
            "<ipython-input-11-0bbfc9674b69>:93: FutureWarning: The frame.append method is deprecated and will be removed from pandas in a future version. Use pandas.concat instead.\n",
            "  data = data.append({'emotion': temp, 'mel_spec_db': mel_spec_db, 'features1': np.array2string(features1, separator=',',threshold=np.inf, prefix='[', suffix=']')}, ignore_index=True)\n"
          ]
        },
        {
          "output_type": "stream",
          "name": "stdout",
          "text": [
            "feature1 shape:(41920,)\n",
            "feature1 shape:(41920,)\n"
          ]
        },
        {
          "output_type": "stream",
          "name": "stderr",
          "text": [
            "<ipython-input-11-0bbfc9674b69>:93: FutureWarning: The frame.append method is deprecated and will be removed from pandas in a future version. Use pandas.concat instead.\n",
            "  data = data.append({'emotion': temp, 'mel_spec_db': mel_spec_db, 'features1': np.array2string(features1, separator=',',threshold=np.inf, prefix='[', suffix=']')}, ignore_index=True)\n"
          ]
        },
        {
          "output_type": "stream",
          "name": "stdout",
          "text": [
            "feature1 shape:(41920,)\n",
            "feature1 shape:(41920,)\n"
          ]
        },
        {
          "output_type": "stream",
          "name": "stderr",
          "text": [
            "<ipython-input-11-0bbfc9674b69>:93: FutureWarning: The frame.append method is deprecated and will be removed from pandas in a future version. Use pandas.concat instead.\n",
            "  data = data.append({'emotion': temp, 'mel_spec_db': mel_spec_db, 'features1': np.array2string(features1, separator=',',threshold=np.inf, prefix='[', suffix=']')}, ignore_index=True)\n"
          ]
        },
        {
          "output_type": "stream",
          "name": "stdout",
          "text": [
            "feature1 shape:(41920,)\n",
            "feature1 shape:(41920,)\n"
          ]
        },
        {
          "output_type": "stream",
          "name": "stderr",
          "text": [
            "<ipython-input-11-0bbfc9674b69>:93: FutureWarning: The frame.append method is deprecated and will be removed from pandas in a future version. Use pandas.concat instead.\n",
            "  data = data.append({'emotion': temp, 'mel_spec_db': mel_spec_db, 'features1': np.array2string(features1, separator=',',threshold=np.inf, prefix='[', suffix=']')}, ignore_index=True)\n"
          ]
        },
        {
          "output_type": "stream",
          "name": "stdout",
          "text": [
            "feature1 shape:(41920,)\n",
            "feature1 shape:(41920,)\n"
          ]
        },
        {
          "output_type": "stream",
          "name": "stderr",
          "text": [
            "<ipython-input-11-0bbfc9674b69>:93: FutureWarning: The frame.append method is deprecated and will be removed from pandas in a future version. Use pandas.concat instead.\n",
            "  data = data.append({'emotion': temp, 'mel_spec_db': mel_spec_db, 'features1': np.array2string(features1, separator=',',threshold=np.inf, prefix='[', suffix=']')}, ignore_index=True)\n"
          ]
        },
        {
          "output_type": "stream",
          "name": "stdout",
          "text": [
            "feature1 shape:(41920,)\n",
            "feature1 shape:(41920,)\n"
          ]
        },
        {
          "output_type": "stream",
          "name": "stderr",
          "text": [
            "<ipython-input-11-0bbfc9674b69>:93: FutureWarning: The frame.append method is deprecated and will be removed from pandas in a future version. Use pandas.concat instead.\n",
            "  data = data.append({'emotion': temp, 'mel_spec_db': mel_spec_db, 'features1': np.array2string(features1, separator=',',threshold=np.inf, prefix='[', suffix=']')}, ignore_index=True)\n"
          ]
        },
        {
          "output_type": "stream",
          "name": "stdout",
          "text": [
            "feature1 shape:(41920,)\n",
            "feature1 shape:(41920,)\n"
          ]
        },
        {
          "output_type": "stream",
          "name": "stderr",
          "text": [
            "<ipython-input-11-0bbfc9674b69>:93: FutureWarning: The frame.append method is deprecated and will be removed from pandas in a future version. Use pandas.concat instead.\n",
            "  data = data.append({'emotion': temp, 'mel_spec_db': mel_spec_db, 'features1': np.array2string(features1, separator=',',threshold=np.inf, prefix='[', suffix=']')}, ignore_index=True)\n"
          ]
        },
        {
          "output_type": "stream",
          "name": "stdout",
          "text": [
            "feature1 shape:(41920,)\n",
            "feature1 shape:(41920,)\n"
          ]
        },
        {
          "output_type": "stream",
          "name": "stderr",
          "text": [
            "<ipython-input-11-0bbfc9674b69>:93: FutureWarning: The frame.append method is deprecated and will be removed from pandas in a future version. Use pandas.concat instead.\n",
            "  data = data.append({'emotion': temp, 'mel_spec_db': mel_spec_db, 'features1': np.array2string(features1, separator=',',threshold=np.inf, prefix='[', suffix=']')}, ignore_index=True)\n"
          ]
        },
        {
          "output_type": "stream",
          "name": "stdout",
          "text": [
            "feature1 shape:(41920,)\n",
            "feature1 shape:(41920,)\n"
          ]
        },
        {
          "output_type": "stream",
          "name": "stderr",
          "text": [
            "<ipython-input-11-0bbfc9674b69>:93: FutureWarning: The frame.append method is deprecated and will be removed from pandas in a future version. Use pandas.concat instead.\n",
            "  data = data.append({'emotion': temp, 'mel_spec_db': mel_spec_db, 'features1': np.array2string(features1, separator=',',threshold=np.inf, prefix='[', suffix=']')}, ignore_index=True)\n"
          ]
        },
        {
          "output_type": "stream",
          "name": "stdout",
          "text": [
            "feature1 shape:(41920,)\n",
            "feature1 shape:(41920,)\n"
          ]
        },
        {
          "output_type": "stream",
          "name": "stderr",
          "text": [
            "<ipython-input-11-0bbfc9674b69>:93: FutureWarning: The frame.append method is deprecated and will be removed from pandas in a future version. Use pandas.concat instead.\n",
            "  data = data.append({'emotion': temp, 'mel_spec_db': mel_spec_db, 'features1': np.array2string(features1, separator=',',threshold=np.inf, prefix='[', suffix=']')}, ignore_index=True)\n"
          ]
        },
        {
          "output_type": "stream",
          "name": "stdout",
          "text": [
            "feature1 shape:(41920,)\n",
            "feature1 shape:(41920,)\n"
          ]
        },
        {
          "output_type": "stream",
          "name": "stderr",
          "text": [
            "<ipython-input-11-0bbfc9674b69>:93: FutureWarning: The frame.append method is deprecated and will be removed from pandas in a future version. Use pandas.concat instead.\n",
            "  data = data.append({'emotion': temp, 'mel_spec_db': mel_spec_db, 'features1': np.array2string(features1, separator=',',threshold=np.inf, prefix='[', suffix=']')}, ignore_index=True)\n"
          ]
        },
        {
          "output_type": "stream",
          "name": "stdout",
          "text": [
            "feature1 shape:(41920,)\n",
            "feature1 shape:(41920,)\n"
          ]
        },
        {
          "output_type": "stream",
          "name": "stderr",
          "text": [
            "<ipython-input-11-0bbfc9674b69>:93: FutureWarning: The frame.append method is deprecated and will be removed from pandas in a future version. Use pandas.concat instead.\n",
            "  data = data.append({'emotion': temp, 'mel_spec_db': mel_spec_db, 'features1': np.array2string(features1, separator=',',threshold=np.inf, prefix='[', suffix=']')}, ignore_index=True)\n"
          ]
        },
        {
          "output_type": "stream",
          "name": "stdout",
          "text": [
            "feature1 shape:(41920,)\n",
            "feature1 shape:(41920,)\n"
          ]
        },
        {
          "output_type": "stream",
          "name": "stderr",
          "text": [
            "<ipython-input-11-0bbfc9674b69>:93: FutureWarning: The frame.append method is deprecated and will be removed from pandas in a future version. Use pandas.concat instead.\n",
            "  data = data.append({'emotion': temp, 'mel_spec_db': mel_spec_db, 'features1': np.array2string(features1, separator=',',threshold=np.inf, prefix='[', suffix=']')}, ignore_index=True)\n"
          ]
        },
        {
          "output_type": "stream",
          "name": "stdout",
          "text": [
            "feature1 shape:(41920,)\n",
            "feature1 shape:(41920,)\n"
          ]
        },
        {
          "output_type": "stream",
          "name": "stderr",
          "text": [
            "<ipython-input-11-0bbfc9674b69>:93: FutureWarning: The frame.append method is deprecated and will be removed from pandas in a future version. Use pandas.concat instead.\n",
            "  data = data.append({'emotion': temp, 'mel_spec_db': mel_spec_db, 'features1': np.array2string(features1, separator=',',threshold=np.inf, prefix='[', suffix=']')}, ignore_index=True)\n"
          ]
        },
        {
          "output_type": "stream",
          "name": "stdout",
          "text": [
            "feature1 shape:(41920,)\n",
            "feature1 shape:(41920,)\n"
          ]
        },
        {
          "output_type": "stream",
          "name": "stderr",
          "text": [
            "<ipython-input-11-0bbfc9674b69>:93: FutureWarning: The frame.append method is deprecated and will be removed from pandas in a future version. Use pandas.concat instead.\n",
            "  data = data.append({'emotion': temp, 'mel_spec_db': mel_spec_db, 'features1': np.array2string(features1, separator=',',threshold=np.inf, prefix='[', suffix=']')}, ignore_index=True)\n"
          ]
        },
        {
          "output_type": "stream",
          "name": "stdout",
          "text": [
            "feature1 shape:(41920,)\n",
            "feature1 shape:(41920,)\n"
          ]
        },
        {
          "output_type": "stream",
          "name": "stderr",
          "text": [
            "<ipython-input-11-0bbfc9674b69>:93: FutureWarning: The frame.append method is deprecated and will be removed from pandas in a future version. Use pandas.concat instead.\n",
            "  data = data.append({'emotion': temp, 'mel_spec_db': mel_spec_db, 'features1': np.array2string(features1, separator=',',threshold=np.inf, prefix='[', suffix=']')}, ignore_index=True)\n"
          ]
        },
        {
          "output_type": "stream",
          "name": "stdout",
          "text": [
            "feature1 shape:(41920,)\n",
            "feature1 shape:(41920,)\n"
          ]
        },
        {
          "output_type": "stream",
          "name": "stderr",
          "text": [
            "<ipython-input-11-0bbfc9674b69>:93: FutureWarning: The frame.append method is deprecated and will be removed from pandas in a future version. Use pandas.concat instead.\n",
            "  data = data.append({'emotion': temp, 'mel_spec_db': mel_spec_db, 'features1': np.array2string(features1, separator=',',threshold=np.inf, prefix='[', suffix=']')}, ignore_index=True)\n"
          ]
        },
        {
          "output_type": "stream",
          "name": "stdout",
          "text": [
            "feature1 shape:(41920,)\n",
            "feature1 shape:(41920,)\n"
          ]
        },
        {
          "output_type": "stream",
          "name": "stderr",
          "text": [
            "<ipython-input-11-0bbfc9674b69>:93: FutureWarning: The frame.append method is deprecated and will be removed from pandas in a future version. Use pandas.concat instead.\n",
            "  data = data.append({'emotion': temp, 'mel_spec_db': mel_spec_db, 'features1': np.array2string(features1, separator=',',threshold=np.inf, prefix='[', suffix=']')}, ignore_index=True)\n"
          ]
        },
        {
          "output_type": "stream",
          "name": "stdout",
          "text": [
            "feature1 shape:(41920,)\n",
            "feature1 shape:(41920,)\n"
          ]
        },
        {
          "output_type": "stream",
          "name": "stderr",
          "text": [
            "<ipython-input-11-0bbfc9674b69>:93: FutureWarning: The frame.append method is deprecated and will be removed from pandas in a future version. Use pandas.concat instead.\n",
            "  data = data.append({'emotion': temp, 'mel_spec_db': mel_spec_db, 'features1': np.array2string(features1, separator=',',threshold=np.inf, prefix='[', suffix=']')}, ignore_index=True)\n"
          ]
        },
        {
          "output_type": "stream",
          "name": "stdout",
          "text": [
            "feature1 shape:(41920,)\n",
            "feature1 shape:(41920,)\n"
          ]
        },
        {
          "output_type": "stream",
          "name": "stderr",
          "text": [
            "<ipython-input-11-0bbfc9674b69>:93: FutureWarning: The frame.append method is deprecated and will be removed from pandas in a future version. Use pandas.concat instead.\n",
            "  data = data.append({'emotion': temp, 'mel_spec_db': mel_spec_db, 'features1': np.array2string(features1, separator=',',threshold=np.inf, prefix='[', suffix=']')}, ignore_index=True)\n"
          ]
        },
        {
          "output_type": "stream",
          "name": "stdout",
          "text": [
            "feature1 shape:(41920,)\n",
            "feature1 shape:(41920,)\n"
          ]
        },
        {
          "output_type": "stream",
          "name": "stderr",
          "text": [
            "<ipython-input-11-0bbfc9674b69>:93: FutureWarning: The frame.append method is deprecated and will be removed from pandas in a future version. Use pandas.concat instead.\n",
            "  data = data.append({'emotion': temp, 'mel_spec_db': mel_spec_db, 'features1': np.array2string(features1, separator=',',threshold=np.inf, prefix='[', suffix=']')}, ignore_index=True)\n"
          ]
        },
        {
          "output_type": "stream",
          "name": "stdout",
          "text": [
            "feature1 shape:(41920,)\n",
            "feature1 shape:(41920,)\n"
          ]
        },
        {
          "output_type": "stream",
          "name": "stderr",
          "text": [
            "<ipython-input-11-0bbfc9674b69>:93: FutureWarning: The frame.append method is deprecated and will be removed from pandas in a future version. Use pandas.concat instead.\n",
            "  data = data.append({'emotion': temp, 'mel_spec_db': mel_spec_db, 'features1': np.array2string(features1, separator=',',threshold=np.inf, prefix='[', suffix=']')}, ignore_index=True)\n"
          ]
        },
        {
          "output_type": "stream",
          "name": "stdout",
          "text": [
            "feature1 shape:(41920,)\n",
            "feature1 shape:(41920,)\n"
          ]
        },
        {
          "output_type": "stream",
          "name": "stderr",
          "text": [
            "<ipython-input-11-0bbfc9674b69>:93: FutureWarning: The frame.append method is deprecated and will be removed from pandas in a future version. Use pandas.concat instead.\n",
            "  data = data.append({'emotion': temp, 'mel_spec_db': mel_spec_db, 'features1': np.array2string(features1, separator=',',threshold=np.inf, prefix='[', suffix=']')}, ignore_index=True)\n"
          ]
        },
        {
          "output_type": "stream",
          "name": "stdout",
          "text": [
            "feature1 shape:(41920,)\n",
            "feature1 shape:(41920,)\n"
          ]
        },
        {
          "output_type": "stream",
          "name": "stderr",
          "text": [
            "<ipython-input-11-0bbfc9674b69>:93: FutureWarning: The frame.append method is deprecated and will be removed from pandas in a future version. Use pandas.concat instead.\n",
            "  data = data.append({'emotion': temp, 'mel_spec_db': mel_spec_db, 'features1': np.array2string(features1, separator=',',threshold=np.inf, prefix='[', suffix=']')}, ignore_index=True)\n"
          ]
        },
        {
          "output_type": "stream",
          "name": "stdout",
          "text": [
            "feature1 shape:(41920,)\n",
            "feature1 shape:(41920,)\n"
          ]
        },
        {
          "output_type": "stream",
          "name": "stderr",
          "text": [
            "<ipython-input-11-0bbfc9674b69>:93: FutureWarning: The frame.append method is deprecated and will be removed from pandas in a future version. Use pandas.concat instead.\n",
            "  data = data.append({'emotion': temp, 'mel_spec_db': mel_spec_db, 'features1': np.array2string(features1, separator=',',threshold=np.inf, prefix='[', suffix=']')}, ignore_index=True)\n"
          ]
        },
        {
          "output_type": "stream",
          "name": "stdout",
          "text": [
            "feature1 shape:(41920,)\n",
            "feature1 shape:(41920,)\n"
          ]
        },
        {
          "output_type": "stream",
          "name": "stderr",
          "text": [
            "<ipython-input-11-0bbfc9674b69>:93: FutureWarning: The frame.append method is deprecated and will be removed from pandas in a future version. Use pandas.concat instead.\n",
            "  data = data.append({'emotion': temp, 'mel_spec_db': mel_spec_db, 'features1': np.array2string(features1, separator=',',threshold=np.inf, prefix='[', suffix=']')}, ignore_index=True)\n"
          ]
        },
        {
          "output_type": "stream",
          "name": "stdout",
          "text": [
            "feature1 shape:(41920,)\n",
            "feature1 shape:(41920,)\n"
          ]
        },
        {
          "output_type": "stream",
          "name": "stderr",
          "text": [
            "<ipython-input-11-0bbfc9674b69>:93: FutureWarning: The frame.append method is deprecated and will be removed from pandas in a future version. Use pandas.concat instead.\n",
            "  data = data.append({'emotion': temp, 'mel_spec_db': mel_spec_db, 'features1': np.array2string(features1, separator=',',threshold=np.inf, prefix='[', suffix=']')}, ignore_index=True)\n"
          ]
        },
        {
          "output_type": "stream",
          "name": "stdout",
          "text": [
            "feature1 shape:(41920,)\n",
            "feature1 shape:(41920,)\n"
          ]
        },
        {
          "output_type": "stream",
          "name": "stderr",
          "text": [
            "<ipython-input-11-0bbfc9674b69>:93: FutureWarning: The frame.append method is deprecated and will be removed from pandas in a future version. Use pandas.concat instead.\n",
            "  data = data.append({'emotion': temp, 'mel_spec_db': mel_spec_db, 'features1': np.array2string(features1, separator=',',threshold=np.inf, prefix='[', suffix=']')}, ignore_index=True)\n"
          ]
        },
        {
          "output_type": "stream",
          "name": "stdout",
          "text": [
            "feature1 shape:(41920,)\n",
            "feature1 shape:(41920,)\n"
          ]
        },
        {
          "output_type": "stream",
          "name": "stderr",
          "text": [
            "<ipython-input-11-0bbfc9674b69>:93: FutureWarning: The frame.append method is deprecated and will be removed from pandas in a future version. Use pandas.concat instead.\n",
            "  data = data.append({'emotion': temp, 'mel_spec_db': mel_spec_db, 'features1': np.array2string(features1, separator=',',threshold=np.inf, prefix='[', suffix=']')}, ignore_index=True)\n"
          ]
        },
        {
          "output_type": "stream",
          "name": "stdout",
          "text": [
            "feature1 shape:(41920,)\n",
            "feature1 shape:(41920,)\n"
          ]
        },
        {
          "output_type": "stream",
          "name": "stderr",
          "text": [
            "<ipython-input-11-0bbfc9674b69>:93: FutureWarning: The frame.append method is deprecated and will be removed from pandas in a future version. Use pandas.concat instead.\n",
            "  data = data.append({'emotion': temp, 'mel_spec_db': mel_spec_db, 'features1': np.array2string(features1, separator=',',threshold=np.inf, prefix='[', suffix=']')}, ignore_index=True)\n"
          ]
        },
        {
          "output_type": "stream",
          "name": "stdout",
          "text": [
            "feature1 shape:(41920,)\n",
            "feature1 shape:(41920,)\n"
          ]
        },
        {
          "output_type": "stream",
          "name": "stderr",
          "text": [
            "<ipython-input-11-0bbfc9674b69>:93: FutureWarning: The frame.append method is deprecated and will be removed from pandas in a future version. Use pandas.concat instead.\n",
            "  data = data.append({'emotion': temp, 'mel_spec_db': mel_spec_db, 'features1': np.array2string(features1, separator=',',threshold=np.inf, prefix='[', suffix=']')}, ignore_index=True)\n"
          ]
        },
        {
          "output_type": "stream",
          "name": "stdout",
          "text": [
            "feature1 shape:(41920,)\n",
            "feature1 shape:(41920,)\n"
          ]
        },
        {
          "output_type": "stream",
          "name": "stderr",
          "text": [
            "<ipython-input-11-0bbfc9674b69>:93: FutureWarning: The frame.append method is deprecated and will be removed from pandas in a future version. Use pandas.concat instead.\n",
            "  data = data.append({'emotion': temp, 'mel_spec_db': mel_spec_db, 'features1': np.array2string(features1, separator=',',threshold=np.inf, prefix='[', suffix=']')}, ignore_index=True)\n"
          ]
        },
        {
          "output_type": "stream",
          "name": "stdout",
          "text": [
            "feature1 shape:(41920,)\n",
            "feature1 shape:(41920,)\n"
          ]
        },
        {
          "output_type": "stream",
          "name": "stderr",
          "text": [
            "<ipython-input-11-0bbfc9674b69>:93: FutureWarning: The frame.append method is deprecated and will be removed from pandas in a future version. Use pandas.concat instead.\n",
            "  data = data.append({'emotion': temp, 'mel_spec_db': mel_spec_db, 'features1': np.array2string(features1, separator=',',threshold=np.inf, prefix='[', suffix=']')}, ignore_index=True)\n"
          ]
        },
        {
          "output_type": "stream",
          "name": "stdout",
          "text": [
            "feature1 shape:(41920,)\n",
            "feature1 shape:(41920,)\n"
          ]
        },
        {
          "output_type": "stream",
          "name": "stderr",
          "text": [
            "<ipython-input-11-0bbfc9674b69>:93: FutureWarning: The frame.append method is deprecated and will be removed from pandas in a future version. Use pandas.concat instead.\n",
            "  data = data.append({'emotion': temp, 'mel_spec_db': mel_spec_db, 'features1': np.array2string(features1, separator=',',threshold=np.inf, prefix='[', suffix=']')}, ignore_index=True)\n"
          ]
        },
        {
          "output_type": "stream",
          "name": "stdout",
          "text": [
            "feature1 shape:(41920,)\n",
            "feature1 shape:(41920,)\n"
          ]
        },
        {
          "output_type": "stream",
          "name": "stderr",
          "text": [
            "<ipython-input-11-0bbfc9674b69>:93: FutureWarning: The frame.append method is deprecated and will be removed from pandas in a future version. Use pandas.concat instead.\n",
            "  data = data.append({'emotion': temp, 'mel_spec_db': mel_spec_db, 'features1': np.array2string(features1, separator=',',threshold=np.inf, prefix='[', suffix=']')}, ignore_index=True)\n"
          ]
        },
        {
          "output_type": "stream",
          "name": "stdout",
          "text": [
            "feature1 shape:(41920,)\n",
            "feature1 shape:(41920,)\n"
          ]
        },
        {
          "output_type": "stream",
          "name": "stderr",
          "text": [
            "<ipython-input-11-0bbfc9674b69>:93: FutureWarning: The frame.append method is deprecated and will be removed from pandas in a future version. Use pandas.concat instead.\n",
            "  data = data.append({'emotion': temp, 'mel_spec_db': mel_spec_db, 'features1': np.array2string(features1, separator=',',threshold=np.inf, prefix='[', suffix=']')}, ignore_index=True)\n"
          ]
        },
        {
          "output_type": "stream",
          "name": "stdout",
          "text": [
            "feature1 shape:(41920,)\n",
            "feature1 shape:(41920,)\n"
          ]
        },
        {
          "output_type": "stream",
          "name": "stderr",
          "text": [
            "<ipython-input-11-0bbfc9674b69>:93: FutureWarning: The frame.append method is deprecated and will be removed from pandas in a future version. Use pandas.concat instead.\n",
            "  data = data.append({'emotion': temp, 'mel_spec_db': mel_spec_db, 'features1': np.array2string(features1, separator=',',threshold=np.inf, prefix='[', suffix=']')}, ignore_index=True)\n"
          ]
        },
        {
          "output_type": "stream",
          "name": "stdout",
          "text": [
            "feature1 shape:(41920,)\n",
            "feature1 shape:(41920,)\n"
          ]
        },
        {
          "output_type": "stream",
          "name": "stderr",
          "text": [
            "<ipython-input-11-0bbfc9674b69>:93: FutureWarning: The frame.append method is deprecated and will be removed from pandas in a future version. Use pandas.concat instead.\n",
            "  data = data.append({'emotion': temp, 'mel_spec_db': mel_spec_db, 'features1': np.array2string(features1, separator=',',threshold=np.inf, prefix='[', suffix=']')}, ignore_index=True)\n"
          ]
        },
        {
          "output_type": "stream",
          "name": "stdout",
          "text": [
            "feature1 shape:(41920,)\n",
            "feature1 shape:(41920,)\n"
          ]
        },
        {
          "output_type": "stream",
          "name": "stderr",
          "text": [
            "<ipython-input-11-0bbfc9674b69>:93: FutureWarning: The frame.append method is deprecated and will be removed from pandas in a future version. Use pandas.concat instead.\n",
            "  data = data.append({'emotion': temp, 'mel_spec_db': mel_spec_db, 'features1': np.array2string(features1, separator=',',threshold=np.inf, prefix='[', suffix=']')}, ignore_index=True)\n"
          ]
        },
        {
          "output_type": "stream",
          "name": "stdout",
          "text": [
            "feature1 shape:(41920,)\n",
            "feature1 shape:(41920,)\n"
          ]
        },
        {
          "output_type": "stream",
          "name": "stderr",
          "text": [
            "<ipython-input-11-0bbfc9674b69>:93: FutureWarning: The frame.append method is deprecated and will be removed from pandas in a future version. Use pandas.concat instead.\n",
            "  data = data.append({'emotion': temp, 'mel_spec_db': mel_spec_db, 'features1': np.array2string(features1, separator=',',threshold=np.inf, prefix='[', suffix=']')}, ignore_index=True)\n"
          ]
        },
        {
          "output_type": "stream",
          "name": "stdout",
          "text": [
            "feature1 shape:(41920,)\n",
            "feature1 shape:(41920,)\n"
          ]
        },
        {
          "output_type": "stream",
          "name": "stderr",
          "text": [
            "<ipython-input-11-0bbfc9674b69>:93: FutureWarning: The frame.append method is deprecated and will be removed from pandas in a future version. Use pandas.concat instead.\n",
            "  data = data.append({'emotion': temp, 'mel_spec_db': mel_spec_db, 'features1': np.array2string(features1, separator=',',threshold=np.inf, prefix='[', suffix=']')}, ignore_index=True)\n"
          ]
        },
        {
          "output_type": "stream",
          "name": "stdout",
          "text": [
            "feature1 shape:(41920,)\n",
            "feature1 shape:(41920,)\n"
          ]
        },
        {
          "output_type": "stream",
          "name": "stderr",
          "text": [
            "<ipython-input-11-0bbfc9674b69>:93: FutureWarning: The frame.append method is deprecated and will be removed from pandas in a future version. Use pandas.concat instead.\n",
            "  data = data.append({'emotion': temp, 'mel_spec_db': mel_spec_db, 'features1': np.array2string(features1, separator=',',threshold=np.inf, prefix='[', suffix=']')}, ignore_index=True)\n"
          ]
        },
        {
          "output_type": "stream",
          "name": "stdout",
          "text": [
            "feature1 shape:(41920,)\n",
            "feature1 shape:(41920,)\n"
          ]
        },
        {
          "output_type": "stream",
          "name": "stderr",
          "text": [
            "<ipython-input-11-0bbfc9674b69>:93: FutureWarning: The frame.append method is deprecated and will be removed from pandas in a future version. Use pandas.concat instead.\n",
            "  data = data.append({'emotion': temp, 'mel_spec_db': mel_spec_db, 'features1': np.array2string(features1, separator=',',threshold=np.inf, prefix='[', suffix=']')}, ignore_index=True)\n"
          ]
        },
        {
          "output_type": "stream",
          "name": "stdout",
          "text": [
            "feature1 shape:(41920,)\n",
            "feature1 shape:(41920,)\n"
          ]
        },
        {
          "output_type": "stream",
          "name": "stderr",
          "text": [
            "<ipython-input-11-0bbfc9674b69>:93: FutureWarning: The frame.append method is deprecated and will be removed from pandas in a future version. Use pandas.concat instead.\n",
            "  data = data.append({'emotion': temp, 'mel_spec_db': mel_spec_db, 'features1': np.array2string(features1, separator=',',threshold=np.inf, prefix='[', suffix=']')}, ignore_index=True)\n"
          ]
        },
        {
          "output_type": "stream",
          "name": "stdout",
          "text": [
            "feature1 shape:(41920,)\n",
            "feature1 shape:(41920,)\n"
          ]
        },
        {
          "output_type": "stream",
          "name": "stderr",
          "text": [
            "<ipython-input-11-0bbfc9674b69>:93: FutureWarning: The frame.append method is deprecated and will be removed from pandas in a future version. Use pandas.concat instead.\n",
            "  data = data.append({'emotion': temp, 'mel_spec_db': mel_spec_db, 'features1': np.array2string(features1, separator=',',threshold=np.inf, prefix='[', suffix=']')}, ignore_index=True)\n"
          ]
        },
        {
          "output_type": "stream",
          "name": "stdout",
          "text": [
            "feature1 shape:(41920,)\n",
            "feature1 shape:(41920,)\n"
          ]
        },
        {
          "output_type": "stream",
          "name": "stderr",
          "text": [
            "<ipython-input-11-0bbfc9674b69>:93: FutureWarning: The frame.append method is deprecated and will be removed from pandas in a future version. Use pandas.concat instead.\n",
            "  data = data.append({'emotion': temp, 'mel_spec_db': mel_spec_db, 'features1': np.array2string(features1, separator=',',threshold=np.inf, prefix='[', suffix=']')}, ignore_index=True)\n"
          ]
        },
        {
          "output_type": "stream",
          "name": "stdout",
          "text": [
            "feature1 shape:(41920,)\n",
            "feature1 shape:(41920,)\n"
          ]
        },
        {
          "output_type": "stream",
          "name": "stderr",
          "text": [
            "<ipython-input-11-0bbfc9674b69>:93: FutureWarning: The frame.append method is deprecated and will be removed from pandas in a future version. Use pandas.concat instead.\n",
            "  data = data.append({'emotion': temp, 'mel_spec_db': mel_spec_db, 'features1': np.array2string(features1, separator=',',threshold=np.inf, prefix='[', suffix=']')}, ignore_index=True)\n"
          ]
        },
        {
          "output_type": "stream",
          "name": "stdout",
          "text": [
            "feature1 shape:(41920,)\n",
            "feature1 shape:(41920,)\n"
          ]
        },
        {
          "output_type": "stream",
          "name": "stderr",
          "text": [
            "<ipython-input-11-0bbfc9674b69>:93: FutureWarning: The frame.append method is deprecated and will be removed from pandas in a future version. Use pandas.concat instead.\n",
            "  data = data.append({'emotion': temp, 'mel_spec_db': mel_spec_db, 'features1': np.array2string(features1, separator=',',threshold=np.inf, prefix='[', suffix=']')}, ignore_index=True)\n"
          ]
        },
        {
          "output_type": "stream",
          "name": "stdout",
          "text": [
            "feature1 shape:(41920,)\n",
            "feature1 shape:(41920,)\n"
          ]
        },
        {
          "output_type": "stream",
          "name": "stderr",
          "text": [
            "<ipython-input-11-0bbfc9674b69>:93: FutureWarning: The frame.append method is deprecated and will be removed from pandas in a future version. Use pandas.concat instead.\n",
            "  data = data.append({'emotion': temp, 'mel_spec_db': mel_spec_db, 'features1': np.array2string(features1, separator=',',threshold=np.inf, prefix='[', suffix=']')}, ignore_index=True)\n"
          ]
        },
        {
          "output_type": "stream",
          "name": "stdout",
          "text": [
            "feature1 shape:(41920,)\n",
            "feature1 shape:(41920,)\n"
          ]
        },
        {
          "output_type": "stream",
          "name": "stderr",
          "text": [
            "<ipython-input-11-0bbfc9674b69>:93: FutureWarning: The frame.append method is deprecated and will be removed from pandas in a future version. Use pandas.concat instead.\n",
            "  data = data.append({'emotion': temp, 'mel_spec_db': mel_spec_db, 'features1': np.array2string(features1, separator=',',threshold=np.inf, prefix='[', suffix=']')}, ignore_index=True)\n"
          ]
        },
        {
          "output_type": "stream",
          "name": "stdout",
          "text": [
            "feature1 shape:(41920,)\n",
            "feature1 shape:(41920,)\n"
          ]
        },
        {
          "output_type": "stream",
          "name": "stderr",
          "text": [
            "<ipython-input-11-0bbfc9674b69>:93: FutureWarning: The frame.append method is deprecated and will be removed from pandas in a future version. Use pandas.concat instead.\n",
            "  data = data.append({'emotion': temp, 'mel_spec_db': mel_spec_db, 'features1': np.array2string(features1, separator=',',threshold=np.inf, prefix='[', suffix=']')}, ignore_index=True)\n"
          ]
        },
        {
          "output_type": "stream",
          "name": "stdout",
          "text": [
            "feature1 shape:(41920,)\n",
            "feature1 shape:(41920,)\n"
          ]
        },
        {
          "output_type": "stream",
          "name": "stderr",
          "text": [
            "<ipython-input-11-0bbfc9674b69>:93: FutureWarning: The frame.append method is deprecated and will be removed from pandas in a future version. Use pandas.concat instead.\n",
            "  data = data.append({'emotion': temp, 'mel_spec_db': mel_spec_db, 'features1': np.array2string(features1, separator=',',threshold=np.inf, prefix='[', suffix=']')}, ignore_index=True)\n"
          ]
        },
        {
          "output_type": "stream",
          "name": "stdout",
          "text": [
            "feature1 shape:(41920,)\n",
            "feature1 shape:(41920,)\n"
          ]
        },
        {
          "output_type": "stream",
          "name": "stderr",
          "text": [
            "<ipython-input-11-0bbfc9674b69>:93: FutureWarning: The frame.append method is deprecated and will be removed from pandas in a future version. Use pandas.concat instead.\n",
            "  data = data.append({'emotion': temp, 'mel_spec_db': mel_spec_db, 'features1': np.array2string(features1, separator=',',threshold=np.inf, prefix='[', suffix=']')}, ignore_index=True)\n"
          ]
        },
        {
          "output_type": "stream",
          "name": "stdout",
          "text": [
            "feature1 shape:(41920,)\n",
            "feature1 shape:(41920,)\n"
          ]
        },
        {
          "output_type": "stream",
          "name": "stderr",
          "text": [
            "<ipython-input-11-0bbfc9674b69>:93: FutureWarning: The frame.append method is deprecated and will be removed from pandas in a future version. Use pandas.concat instead.\n",
            "  data = data.append({'emotion': temp, 'mel_spec_db': mel_spec_db, 'features1': np.array2string(features1, separator=',',threshold=np.inf, prefix='[', suffix=']')}, ignore_index=True)\n"
          ]
        },
        {
          "output_type": "stream",
          "name": "stdout",
          "text": [
            "feature1 shape:(41920,)\n",
            "feature1 shape:(41920,)\n"
          ]
        },
        {
          "output_type": "stream",
          "name": "stderr",
          "text": [
            "<ipython-input-11-0bbfc9674b69>:93: FutureWarning: The frame.append method is deprecated and will be removed from pandas in a future version. Use pandas.concat instead.\n",
            "  data = data.append({'emotion': temp, 'mel_spec_db': mel_spec_db, 'features1': np.array2string(features1, separator=',',threshold=np.inf, prefix='[', suffix=']')}, ignore_index=True)\n"
          ]
        },
        {
          "output_type": "stream",
          "name": "stdout",
          "text": [
            "feature1 shape:(41920,)\n",
            "feature1 shape:(41920,)\n"
          ]
        },
        {
          "output_type": "stream",
          "name": "stderr",
          "text": [
            "<ipython-input-11-0bbfc9674b69>:93: FutureWarning: The frame.append method is deprecated and will be removed from pandas in a future version. Use pandas.concat instead.\n",
            "  data = data.append({'emotion': temp, 'mel_spec_db': mel_spec_db, 'features1': np.array2string(features1, separator=',',threshold=np.inf, prefix='[', suffix=']')}, ignore_index=True)\n"
          ]
        },
        {
          "output_type": "stream",
          "name": "stdout",
          "text": [
            "feature1 shape:(41920,)\n",
            "feature1 shape:(41920,)\n"
          ]
        },
        {
          "output_type": "stream",
          "name": "stderr",
          "text": [
            "<ipython-input-11-0bbfc9674b69>:93: FutureWarning: The frame.append method is deprecated and will be removed from pandas in a future version. Use pandas.concat instead.\n",
            "  data = data.append({'emotion': temp, 'mel_spec_db': mel_spec_db, 'features1': np.array2string(features1, separator=',',threshold=np.inf, prefix='[', suffix=']')}, ignore_index=True)\n"
          ]
        },
        {
          "output_type": "stream",
          "name": "stdout",
          "text": [
            "feature1 shape:(41920,)\n",
            "feature1 shape:(41920,)\n"
          ]
        },
        {
          "output_type": "stream",
          "name": "stderr",
          "text": [
            "<ipython-input-11-0bbfc9674b69>:93: FutureWarning: The frame.append method is deprecated and will be removed from pandas in a future version. Use pandas.concat instead.\n",
            "  data = data.append({'emotion': temp, 'mel_spec_db': mel_spec_db, 'features1': np.array2string(features1, separator=',',threshold=np.inf, prefix='[', suffix=']')}, ignore_index=True)\n"
          ]
        },
        {
          "output_type": "stream",
          "name": "stdout",
          "text": [
            "feature1 shape:(41920,)\n",
            "feature1 shape:(41920,)\n"
          ]
        },
        {
          "output_type": "stream",
          "name": "stderr",
          "text": [
            "<ipython-input-11-0bbfc9674b69>:93: FutureWarning: The frame.append method is deprecated and will be removed from pandas in a future version. Use pandas.concat instead.\n",
            "  data = data.append({'emotion': temp, 'mel_spec_db': mel_spec_db, 'features1': np.array2string(features1, separator=',',threshold=np.inf, prefix='[', suffix=']')}, ignore_index=True)\n"
          ]
        },
        {
          "output_type": "stream",
          "name": "stdout",
          "text": [
            "feature1 shape:(41920,)\n",
            "feature1 shape:(41920,)\n"
          ]
        },
        {
          "output_type": "stream",
          "name": "stderr",
          "text": [
            "<ipython-input-11-0bbfc9674b69>:93: FutureWarning: The frame.append method is deprecated and will be removed from pandas in a future version. Use pandas.concat instead.\n",
            "  data = data.append({'emotion': temp, 'mel_spec_db': mel_spec_db, 'features1': np.array2string(features1, separator=',',threshold=np.inf, prefix='[', suffix=']')}, ignore_index=True)\n"
          ]
        },
        {
          "output_type": "stream",
          "name": "stdout",
          "text": [
            "feature1 shape:(41920,)\n",
            "feature1 shape:(41920,)\n"
          ]
        },
        {
          "output_type": "stream",
          "name": "stderr",
          "text": [
            "<ipython-input-11-0bbfc9674b69>:93: FutureWarning: The frame.append method is deprecated and will be removed from pandas in a future version. Use pandas.concat instead.\n",
            "  data = data.append({'emotion': temp, 'mel_spec_db': mel_spec_db, 'features1': np.array2string(features1, separator=',',threshold=np.inf, prefix='[', suffix=']')}, ignore_index=True)\n"
          ]
        },
        {
          "output_type": "stream",
          "name": "stdout",
          "text": [
            "feature1 shape:(41920,)\n",
            "feature1 shape:(41920,)\n"
          ]
        },
        {
          "output_type": "stream",
          "name": "stderr",
          "text": [
            "<ipython-input-11-0bbfc9674b69>:93: FutureWarning: The frame.append method is deprecated and will be removed from pandas in a future version. Use pandas.concat instead.\n",
            "  data = data.append({'emotion': temp, 'mel_spec_db': mel_spec_db, 'features1': np.array2string(features1, separator=',',threshold=np.inf, prefix='[', suffix=']')}, ignore_index=True)\n"
          ]
        },
        {
          "output_type": "stream",
          "name": "stdout",
          "text": [
            "feature1 shape:(41920,)\n",
            "feature1 shape:(41920,)\n"
          ]
        },
        {
          "output_type": "stream",
          "name": "stderr",
          "text": [
            "<ipython-input-11-0bbfc9674b69>:93: FutureWarning: The frame.append method is deprecated and will be removed from pandas in a future version. Use pandas.concat instead.\n",
            "  data = data.append({'emotion': temp, 'mel_spec_db': mel_spec_db, 'features1': np.array2string(features1, separator=',',threshold=np.inf, prefix='[', suffix=']')}, ignore_index=True)\n"
          ]
        },
        {
          "output_type": "stream",
          "name": "stdout",
          "text": [
            "feature1 shape:(41920,)\n",
            "feature1 shape:(41920,)\n"
          ]
        },
        {
          "output_type": "stream",
          "name": "stderr",
          "text": [
            "<ipython-input-11-0bbfc9674b69>:93: FutureWarning: The frame.append method is deprecated and will be removed from pandas in a future version. Use pandas.concat instead.\n",
            "  data = data.append({'emotion': temp, 'mel_spec_db': mel_spec_db, 'features1': np.array2string(features1, separator=',',threshold=np.inf, prefix='[', suffix=']')}, ignore_index=True)\n"
          ]
        },
        {
          "output_type": "stream",
          "name": "stdout",
          "text": [
            "feature1 shape:(41920,)\n",
            "feature1 shape:(41920,)\n"
          ]
        },
        {
          "output_type": "stream",
          "name": "stderr",
          "text": [
            "<ipython-input-11-0bbfc9674b69>:93: FutureWarning: The frame.append method is deprecated and will be removed from pandas in a future version. Use pandas.concat instead.\n",
            "  data = data.append({'emotion': temp, 'mel_spec_db': mel_spec_db, 'features1': np.array2string(features1, separator=',',threshold=np.inf, prefix='[', suffix=']')}, ignore_index=True)\n"
          ]
        },
        {
          "output_type": "stream",
          "name": "stdout",
          "text": [
            "feature1 shape:(41920,)\n",
            "feature1 shape:(41920,)\n"
          ]
        },
        {
          "output_type": "stream",
          "name": "stderr",
          "text": [
            "<ipython-input-11-0bbfc9674b69>:93: FutureWarning: The frame.append method is deprecated and will be removed from pandas in a future version. Use pandas.concat instead.\n",
            "  data = data.append({'emotion': temp, 'mel_spec_db': mel_spec_db, 'features1': np.array2string(features1, separator=',',threshold=np.inf, prefix='[', suffix=']')}, ignore_index=True)\n"
          ]
        },
        {
          "output_type": "stream",
          "name": "stdout",
          "text": [
            "feature1 shape:(41920,)\n",
            "feature1 shape:(41920,)\n"
          ]
        },
        {
          "output_type": "stream",
          "name": "stderr",
          "text": [
            "<ipython-input-11-0bbfc9674b69>:93: FutureWarning: The frame.append method is deprecated and will be removed from pandas in a future version. Use pandas.concat instead.\n",
            "  data = data.append({'emotion': temp, 'mel_spec_db': mel_spec_db, 'features1': np.array2string(features1, separator=',',threshold=np.inf, prefix='[', suffix=']')}, ignore_index=True)\n"
          ]
        },
        {
          "output_type": "stream",
          "name": "stdout",
          "text": [
            "feature1 shape:(41920,)\n",
            "feature1 shape:(41920,)\n"
          ]
        },
        {
          "output_type": "stream",
          "name": "stderr",
          "text": [
            "<ipython-input-11-0bbfc9674b69>:93: FutureWarning: The frame.append method is deprecated and will be removed from pandas in a future version. Use pandas.concat instead.\n",
            "  data = data.append({'emotion': temp, 'mel_spec_db': mel_spec_db, 'features1': np.array2string(features1, separator=',',threshold=np.inf, prefix='[', suffix=']')}, ignore_index=True)\n"
          ]
        },
        {
          "output_type": "stream",
          "name": "stdout",
          "text": [
            "feature1 shape:(41920,)\n",
            "feature1 shape:(41920,)\n"
          ]
        },
        {
          "output_type": "stream",
          "name": "stderr",
          "text": [
            "<ipython-input-11-0bbfc9674b69>:93: FutureWarning: The frame.append method is deprecated and will be removed from pandas in a future version. Use pandas.concat instead.\n",
            "  data = data.append({'emotion': temp, 'mel_spec_db': mel_spec_db, 'features1': np.array2string(features1, separator=',',threshold=np.inf, prefix='[', suffix=']')}, ignore_index=True)\n"
          ]
        },
        {
          "output_type": "stream",
          "name": "stdout",
          "text": [
            "feature1 shape:(41920,)\n",
            "feature1 shape:(41920,)\n"
          ]
        },
        {
          "output_type": "stream",
          "name": "stderr",
          "text": [
            "<ipython-input-11-0bbfc9674b69>:93: FutureWarning: The frame.append method is deprecated and will be removed from pandas in a future version. Use pandas.concat instead.\n",
            "  data = data.append({'emotion': temp, 'mel_spec_db': mel_spec_db, 'features1': np.array2string(features1, separator=',',threshold=np.inf, prefix='[', suffix=']')}, ignore_index=True)\n"
          ]
        },
        {
          "output_type": "stream",
          "name": "stdout",
          "text": [
            "feature1 shape:(41920,)\n",
            "feature1 shape:(41920,)\n"
          ]
        },
        {
          "output_type": "stream",
          "name": "stderr",
          "text": [
            "<ipython-input-11-0bbfc9674b69>:93: FutureWarning: The frame.append method is deprecated and will be removed from pandas in a future version. Use pandas.concat instead.\n",
            "  data = data.append({'emotion': temp, 'mel_spec_db': mel_spec_db, 'features1': np.array2string(features1, separator=',',threshold=np.inf, prefix='[', suffix=']')}, ignore_index=True)\n"
          ]
        },
        {
          "output_type": "stream",
          "name": "stdout",
          "text": [
            "feature1 shape:(41920,)\n",
            "feature1 shape:(41920,)\n"
          ]
        },
        {
          "output_type": "stream",
          "name": "stderr",
          "text": [
            "<ipython-input-11-0bbfc9674b69>:93: FutureWarning: The frame.append method is deprecated and will be removed from pandas in a future version. Use pandas.concat instead.\n",
            "  data = data.append({'emotion': temp, 'mel_spec_db': mel_spec_db, 'features1': np.array2string(features1, separator=',',threshold=np.inf, prefix='[', suffix=']')}, ignore_index=True)\n"
          ]
        },
        {
          "output_type": "stream",
          "name": "stdout",
          "text": [
            "feature1 shape:(41920,)\n",
            "feature1 shape:(41920,)\n"
          ]
        },
        {
          "output_type": "stream",
          "name": "stderr",
          "text": [
            "<ipython-input-11-0bbfc9674b69>:93: FutureWarning: The frame.append method is deprecated and will be removed from pandas in a future version. Use pandas.concat instead.\n",
            "  data = data.append({'emotion': temp, 'mel_spec_db': mel_spec_db, 'features1': np.array2string(features1, separator=',',threshold=np.inf, prefix='[', suffix=']')}, ignore_index=True)\n"
          ]
        },
        {
          "output_type": "stream",
          "name": "stdout",
          "text": [
            "feature1 shape:(41920,)\n",
            "feature1 shape:(41920,)\n"
          ]
        },
        {
          "output_type": "stream",
          "name": "stderr",
          "text": [
            "<ipython-input-11-0bbfc9674b69>:93: FutureWarning: The frame.append method is deprecated and will be removed from pandas in a future version. Use pandas.concat instead.\n",
            "  data = data.append({'emotion': temp, 'mel_spec_db': mel_spec_db, 'features1': np.array2string(features1, separator=',',threshold=np.inf, prefix='[', suffix=']')}, ignore_index=True)\n"
          ]
        },
        {
          "output_type": "stream",
          "name": "stdout",
          "text": [
            "feature1 shape:(41920,)\n",
            "feature1 shape:(41920,)\n"
          ]
        },
        {
          "output_type": "stream",
          "name": "stderr",
          "text": [
            "<ipython-input-11-0bbfc9674b69>:93: FutureWarning: The frame.append method is deprecated and will be removed from pandas in a future version. Use pandas.concat instead.\n",
            "  data = data.append({'emotion': temp, 'mel_spec_db': mel_spec_db, 'features1': np.array2string(features1, separator=',',threshold=np.inf, prefix='[', suffix=']')}, ignore_index=True)\n"
          ]
        },
        {
          "output_type": "stream",
          "name": "stdout",
          "text": [
            "feature1 shape:(41920,)\n",
            "feature1 shape:(41920,)\n"
          ]
        },
        {
          "output_type": "stream",
          "name": "stderr",
          "text": [
            "<ipython-input-11-0bbfc9674b69>:93: FutureWarning: The frame.append method is deprecated and will be removed from pandas in a future version. Use pandas.concat instead.\n",
            "  data = data.append({'emotion': temp, 'mel_spec_db': mel_spec_db, 'features1': np.array2string(features1, separator=',',threshold=np.inf, prefix='[', suffix=']')}, ignore_index=True)\n"
          ]
        },
        {
          "output_type": "stream",
          "name": "stdout",
          "text": [
            "feature1 shape:(41920,)\n",
            "feature1 shape:(41920,)\n"
          ]
        },
        {
          "output_type": "stream",
          "name": "stderr",
          "text": [
            "<ipython-input-11-0bbfc9674b69>:93: FutureWarning: The frame.append method is deprecated and will be removed from pandas in a future version. Use pandas.concat instead.\n",
            "  data = data.append({'emotion': temp, 'mel_spec_db': mel_spec_db, 'features1': np.array2string(features1, separator=',',threshold=np.inf, prefix='[', suffix=']')}, ignore_index=True)\n"
          ]
        },
        {
          "output_type": "stream",
          "name": "stdout",
          "text": [
            "feature1 shape:(41920,)\n",
            "feature1 shape:(41920,)\n"
          ]
        },
        {
          "output_type": "stream",
          "name": "stderr",
          "text": [
            "<ipython-input-11-0bbfc9674b69>:93: FutureWarning: The frame.append method is deprecated and will be removed from pandas in a future version. Use pandas.concat instead.\n",
            "  data = data.append({'emotion': temp, 'mel_spec_db': mel_spec_db, 'features1': np.array2string(features1, separator=',',threshold=np.inf, prefix='[', suffix=']')}, ignore_index=True)\n"
          ]
        },
        {
          "output_type": "stream",
          "name": "stdout",
          "text": [
            "feature1 shape:(41920,)\n",
            "feature1 shape:(41920,)\n"
          ]
        },
        {
          "output_type": "stream",
          "name": "stderr",
          "text": [
            "<ipython-input-11-0bbfc9674b69>:93: FutureWarning: The frame.append method is deprecated and will be removed from pandas in a future version. Use pandas.concat instead.\n",
            "  data = data.append({'emotion': temp, 'mel_spec_db': mel_spec_db, 'features1': np.array2string(features1, separator=',',threshold=np.inf, prefix='[', suffix=']')}, ignore_index=True)\n"
          ]
        },
        {
          "output_type": "stream",
          "name": "stdout",
          "text": [
            "feature1 shape:(41920,)\n",
            "feature1 shape:(41920,)\n"
          ]
        },
        {
          "output_type": "stream",
          "name": "stderr",
          "text": [
            "<ipython-input-11-0bbfc9674b69>:93: FutureWarning: The frame.append method is deprecated and will be removed from pandas in a future version. Use pandas.concat instead.\n",
            "  data = data.append({'emotion': temp, 'mel_spec_db': mel_spec_db, 'features1': np.array2string(features1, separator=',',threshold=np.inf, prefix='[', suffix=']')}, ignore_index=True)\n"
          ]
        },
        {
          "output_type": "stream",
          "name": "stdout",
          "text": [
            "feature1 shape:(41920,)\n",
            "feature1 shape:(41920,)\n"
          ]
        },
        {
          "output_type": "stream",
          "name": "stderr",
          "text": [
            "<ipython-input-11-0bbfc9674b69>:93: FutureWarning: The frame.append method is deprecated and will be removed from pandas in a future version. Use pandas.concat instead.\n",
            "  data = data.append({'emotion': temp, 'mel_spec_db': mel_spec_db, 'features1': np.array2string(features1, separator=',',threshold=np.inf, prefix='[', suffix=']')}, ignore_index=True)\n"
          ]
        },
        {
          "output_type": "stream",
          "name": "stdout",
          "text": [
            "feature1 shape:(41920,)\n",
            "feature1 shape:(41920,)\n"
          ]
        },
        {
          "output_type": "stream",
          "name": "stderr",
          "text": [
            "<ipython-input-11-0bbfc9674b69>:93: FutureWarning: The frame.append method is deprecated and will be removed from pandas in a future version. Use pandas.concat instead.\n",
            "  data = data.append({'emotion': temp, 'mel_spec_db': mel_spec_db, 'features1': np.array2string(features1, separator=',',threshold=np.inf, prefix='[', suffix=']')}, ignore_index=True)\n"
          ]
        },
        {
          "output_type": "stream",
          "name": "stdout",
          "text": [
            "feature1 shape:(41920,)\n",
            "feature1 shape:(41920,)\n"
          ]
        },
        {
          "output_type": "stream",
          "name": "stderr",
          "text": [
            "<ipython-input-11-0bbfc9674b69>:93: FutureWarning: The frame.append method is deprecated and will be removed from pandas in a future version. Use pandas.concat instead.\n",
            "  data = data.append({'emotion': temp, 'mel_spec_db': mel_spec_db, 'features1': np.array2string(features1, separator=',',threshold=np.inf, prefix='[', suffix=']')}, ignore_index=True)\n"
          ]
        },
        {
          "output_type": "stream",
          "name": "stdout",
          "text": [
            "feature1 shape:(41920,)\n",
            "feature1 shape:(41920,)\n"
          ]
        },
        {
          "output_type": "stream",
          "name": "stderr",
          "text": [
            "<ipython-input-11-0bbfc9674b69>:93: FutureWarning: The frame.append method is deprecated and will be removed from pandas in a future version. Use pandas.concat instead.\n",
            "  data = data.append({'emotion': temp, 'mel_spec_db': mel_spec_db, 'features1': np.array2string(features1, separator=',',threshold=np.inf, prefix='[', suffix=']')}, ignore_index=True)\n"
          ]
        },
        {
          "output_type": "stream",
          "name": "stdout",
          "text": [
            "feature1 shape:(41920,)\n",
            "feature1 shape:(41920,)\n"
          ]
        },
        {
          "output_type": "stream",
          "name": "stderr",
          "text": [
            "<ipython-input-11-0bbfc9674b69>:93: FutureWarning: The frame.append method is deprecated and will be removed from pandas in a future version. Use pandas.concat instead.\n",
            "  data = data.append({'emotion': temp, 'mel_spec_db': mel_spec_db, 'features1': np.array2string(features1, separator=',',threshold=np.inf, prefix='[', suffix=']')}, ignore_index=True)\n"
          ]
        },
        {
          "output_type": "stream",
          "name": "stdout",
          "text": [
            "feature1 shape:(41920,)\n",
            "feature1 shape:(41920,)\n"
          ]
        },
        {
          "output_type": "stream",
          "name": "stderr",
          "text": [
            "<ipython-input-11-0bbfc9674b69>:93: FutureWarning: The frame.append method is deprecated and will be removed from pandas in a future version. Use pandas.concat instead.\n",
            "  data = data.append({'emotion': temp, 'mel_spec_db': mel_spec_db, 'features1': np.array2string(features1, separator=',',threshold=np.inf, prefix='[', suffix=']')}, ignore_index=True)\n"
          ]
        },
        {
          "output_type": "stream",
          "name": "stdout",
          "text": [
            "feature1 shape:(41920,)\n",
            "feature1 shape:(41920,)\n"
          ]
        },
        {
          "output_type": "stream",
          "name": "stderr",
          "text": [
            "<ipython-input-11-0bbfc9674b69>:93: FutureWarning: The frame.append method is deprecated and will be removed from pandas in a future version. Use pandas.concat instead.\n",
            "  data = data.append({'emotion': temp, 'mel_spec_db': mel_spec_db, 'features1': np.array2string(features1, separator=',',threshold=np.inf, prefix='[', suffix=']')}, ignore_index=True)\n"
          ]
        },
        {
          "output_type": "stream",
          "name": "stdout",
          "text": [
            "feature1 shape:(41920,)\n",
            "feature1 shape:(41920,)\n"
          ]
        },
        {
          "output_type": "stream",
          "name": "stderr",
          "text": [
            "<ipython-input-11-0bbfc9674b69>:93: FutureWarning: The frame.append method is deprecated and will be removed from pandas in a future version. Use pandas.concat instead.\n",
            "  data = data.append({'emotion': temp, 'mel_spec_db': mel_spec_db, 'features1': np.array2string(features1, separator=',',threshold=np.inf, prefix='[', suffix=']')}, ignore_index=True)\n"
          ]
        },
        {
          "output_type": "stream",
          "name": "stdout",
          "text": [
            "feature1 shape:(41920,)\n",
            "feature1 shape:(41920,)\n"
          ]
        },
        {
          "output_type": "stream",
          "name": "stderr",
          "text": [
            "<ipython-input-11-0bbfc9674b69>:93: FutureWarning: The frame.append method is deprecated and will be removed from pandas in a future version. Use pandas.concat instead.\n",
            "  data = data.append({'emotion': temp, 'mel_spec_db': mel_spec_db, 'features1': np.array2string(features1, separator=',',threshold=np.inf, prefix='[', suffix=']')}, ignore_index=True)\n"
          ]
        },
        {
          "output_type": "stream",
          "name": "stdout",
          "text": [
            "feature1 shape:(41920,)\n",
            "feature1 shape:(41920,)\n"
          ]
        },
        {
          "output_type": "stream",
          "name": "stderr",
          "text": [
            "<ipython-input-11-0bbfc9674b69>:93: FutureWarning: The frame.append method is deprecated and will be removed from pandas in a future version. Use pandas.concat instead.\n",
            "  data = data.append({'emotion': temp, 'mel_spec_db': mel_spec_db, 'features1': np.array2string(features1, separator=',',threshold=np.inf, prefix='[', suffix=']')}, ignore_index=True)\n"
          ]
        },
        {
          "output_type": "stream",
          "name": "stdout",
          "text": [
            "feature1 shape:(41920,)\n",
            "feature1 shape:(41920,)\n"
          ]
        },
        {
          "output_type": "stream",
          "name": "stderr",
          "text": [
            "<ipython-input-11-0bbfc9674b69>:93: FutureWarning: The frame.append method is deprecated and will be removed from pandas in a future version. Use pandas.concat instead.\n",
            "  data = data.append({'emotion': temp, 'mel_spec_db': mel_spec_db, 'features1': np.array2string(features1, separator=',',threshold=np.inf, prefix='[', suffix=']')}, ignore_index=True)\n"
          ]
        },
        {
          "output_type": "stream",
          "name": "stdout",
          "text": [
            "feature1 shape:(41920,)\n",
            "feature1 shape:(41920,)\n"
          ]
        },
        {
          "output_type": "stream",
          "name": "stderr",
          "text": [
            "<ipython-input-11-0bbfc9674b69>:93: FutureWarning: The frame.append method is deprecated and will be removed from pandas in a future version. Use pandas.concat instead.\n",
            "  data = data.append({'emotion': temp, 'mel_spec_db': mel_spec_db, 'features1': np.array2string(features1, separator=',',threshold=np.inf, prefix='[', suffix=']')}, ignore_index=True)\n"
          ]
        },
        {
          "output_type": "stream",
          "name": "stdout",
          "text": [
            "feature1 shape:(41920,)\n",
            "feature1 shape:(41920,)\n"
          ]
        },
        {
          "output_type": "stream",
          "name": "stderr",
          "text": [
            "<ipython-input-11-0bbfc9674b69>:93: FutureWarning: The frame.append method is deprecated and will be removed from pandas in a future version. Use pandas.concat instead.\n",
            "  data = data.append({'emotion': temp, 'mel_spec_db': mel_spec_db, 'features1': np.array2string(features1, separator=',',threshold=np.inf, prefix='[', suffix=']')}, ignore_index=True)\n"
          ]
        },
        {
          "output_type": "stream",
          "name": "stdout",
          "text": [
            "feature1 shape:(41920,)\n",
            "feature1 shape:(41920,)\n"
          ]
        },
        {
          "output_type": "stream",
          "name": "stderr",
          "text": [
            "<ipython-input-11-0bbfc9674b69>:93: FutureWarning: The frame.append method is deprecated and will be removed from pandas in a future version. Use pandas.concat instead.\n",
            "  data = data.append({'emotion': temp, 'mel_spec_db': mel_spec_db, 'features1': np.array2string(features1, separator=',',threshold=np.inf, prefix='[', suffix=']')}, ignore_index=True)\n"
          ]
        },
        {
          "output_type": "stream",
          "name": "stdout",
          "text": [
            "feature1 shape:(41920,)\n",
            "feature1 shape:(41920,)\n"
          ]
        },
        {
          "output_type": "stream",
          "name": "stderr",
          "text": [
            "<ipython-input-11-0bbfc9674b69>:93: FutureWarning: The frame.append method is deprecated and will be removed from pandas in a future version. Use pandas.concat instead.\n",
            "  data = data.append({'emotion': temp, 'mel_spec_db': mel_spec_db, 'features1': np.array2string(features1, separator=',',threshold=np.inf, prefix='[', suffix=']')}, ignore_index=True)\n"
          ]
        },
        {
          "output_type": "stream",
          "name": "stdout",
          "text": [
            "feature1 shape:(41920,)\n",
            "feature1 shape:(41920,)\n"
          ]
        },
        {
          "output_type": "stream",
          "name": "stderr",
          "text": [
            "<ipython-input-11-0bbfc9674b69>:93: FutureWarning: The frame.append method is deprecated and will be removed from pandas in a future version. Use pandas.concat instead.\n",
            "  data = data.append({'emotion': temp, 'mel_spec_db': mel_spec_db, 'features1': np.array2string(features1, separator=',',threshold=np.inf, prefix='[', suffix=']')}, ignore_index=True)\n"
          ]
        },
        {
          "output_type": "stream",
          "name": "stdout",
          "text": [
            "feature1 shape:(41920,)\n",
            "feature1 shape:(41920,)\n"
          ]
        },
        {
          "output_type": "stream",
          "name": "stderr",
          "text": [
            "<ipython-input-11-0bbfc9674b69>:93: FutureWarning: The frame.append method is deprecated and will be removed from pandas in a future version. Use pandas.concat instead.\n",
            "  data = data.append({'emotion': temp, 'mel_spec_db': mel_spec_db, 'features1': np.array2string(features1, separator=',',threshold=np.inf, prefix='[', suffix=']')}, ignore_index=True)\n"
          ]
        },
        {
          "output_type": "stream",
          "name": "stdout",
          "text": [
            "feature1 shape:(41920,)\n",
            "feature1 shape:(41920,)\n"
          ]
        },
        {
          "output_type": "stream",
          "name": "stderr",
          "text": [
            "<ipython-input-11-0bbfc9674b69>:93: FutureWarning: The frame.append method is deprecated and will be removed from pandas in a future version. Use pandas.concat instead.\n",
            "  data = data.append({'emotion': temp, 'mel_spec_db': mel_spec_db, 'features1': np.array2string(features1, separator=',',threshold=np.inf, prefix='[', suffix=']')}, ignore_index=True)\n"
          ]
        },
        {
          "output_type": "stream",
          "name": "stdout",
          "text": [
            "feature1 shape:(41920,)\n",
            "feature1 shape:(41920,)\n"
          ]
        },
        {
          "output_type": "stream",
          "name": "stderr",
          "text": [
            "<ipython-input-11-0bbfc9674b69>:93: FutureWarning: The frame.append method is deprecated and will be removed from pandas in a future version. Use pandas.concat instead.\n",
            "  data = data.append({'emotion': temp, 'mel_spec_db': mel_spec_db, 'features1': np.array2string(features1, separator=',',threshold=np.inf, prefix='[', suffix=']')}, ignore_index=True)\n"
          ]
        },
        {
          "output_type": "stream",
          "name": "stdout",
          "text": [
            "feature1 shape:(41920,)\n",
            "feature1 shape:(41920,)\n"
          ]
        },
        {
          "output_type": "stream",
          "name": "stderr",
          "text": [
            "<ipython-input-11-0bbfc9674b69>:93: FutureWarning: The frame.append method is deprecated and will be removed from pandas in a future version. Use pandas.concat instead.\n",
            "  data = data.append({'emotion': temp, 'mel_spec_db': mel_spec_db, 'features1': np.array2string(features1, separator=',',threshold=np.inf, prefix='[', suffix=']')}, ignore_index=True)\n"
          ]
        },
        {
          "output_type": "stream",
          "name": "stdout",
          "text": [
            "feature1 shape:(41920,)\n",
            "feature1 shape:(41920,)\n"
          ]
        },
        {
          "output_type": "stream",
          "name": "stderr",
          "text": [
            "<ipython-input-11-0bbfc9674b69>:93: FutureWarning: The frame.append method is deprecated and will be removed from pandas in a future version. Use pandas.concat instead.\n",
            "  data = data.append({'emotion': temp, 'mel_spec_db': mel_spec_db, 'features1': np.array2string(features1, separator=',',threshold=np.inf, prefix='[', suffix=']')}, ignore_index=True)\n"
          ]
        },
        {
          "output_type": "stream",
          "name": "stdout",
          "text": [
            "feature1 shape:(41920,)\n",
            "feature1 shape:(41920,)\n"
          ]
        },
        {
          "output_type": "stream",
          "name": "stderr",
          "text": [
            "<ipython-input-11-0bbfc9674b69>:93: FutureWarning: The frame.append method is deprecated and will be removed from pandas in a future version. Use pandas.concat instead.\n",
            "  data = data.append({'emotion': temp, 'mel_spec_db': mel_spec_db, 'features1': np.array2string(features1, separator=',',threshold=np.inf, prefix='[', suffix=']')}, ignore_index=True)\n"
          ]
        },
        {
          "output_type": "stream",
          "name": "stdout",
          "text": [
            "feature1 shape:(41920,)\n",
            "feature1 shape:(41920,)\n"
          ]
        },
        {
          "output_type": "stream",
          "name": "stderr",
          "text": [
            "<ipython-input-11-0bbfc9674b69>:93: FutureWarning: The frame.append method is deprecated and will be removed from pandas in a future version. Use pandas.concat instead.\n",
            "  data = data.append({'emotion': temp, 'mel_spec_db': mel_spec_db, 'features1': np.array2string(features1, separator=',',threshold=np.inf, prefix='[', suffix=']')}, ignore_index=True)\n"
          ]
        },
        {
          "output_type": "stream",
          "name": "stdout",
          "text": [
            "feature1 shape:(41920,)\n",
            "feature1 shape:(41920,)\n"
          ]
        },
        {
          "output_type": "stream",
          "name": "stderr",
          "text": [
            "<ipython-input-11-0bbfc9674b69>:93: FutureWarning: The frame.append method is deprecated and will be removed from pandas in a future version. Use pandas.concat instead.\n",
            "  data = data.append({'emotion': temp, 'mel_spec_db': mel_spec_db, 'features1': np.array2string(features1, separator=',',threshold=np.inf, prefix='[', suffix=']')}, ignore_index=True)\n"
          ]
        },
        {
          "output_type": "stream",
          "name": "stdout",
          "text": [
            "feature1 shape:(41920,)\n",
            "feature1 shape:(41920,)\n"
          ]
        },
        {
          "output_type": "stream",
          "name": "stderr",
          "text": [
            "<ipython-input-11-0bbfc9674b69>:93: FutureWarning: The frame.append method is deprecated and will be removed from pandas in a future version. Use pandas.concat instead.\n",
            "  data = data.append({'emotion': temp, 'mel_spec_db': mel_spec_db, 'features1': np.array2string(features1, separator=',',threshold=np.inf, prefix='[', suffix=']')}, ignore_index=True)\n"
          ]
        },
        {
          "output_type": "stream",
          "name": "stdout",
          "text": [
            "feature1 shape:(41920,)\n",
            "feature1 shape:(41920,)\n"
          ]
        },
        {
          "output_type": "stream",
          "name": "stderr",
          "text": [
            "<ipython-input-11-0bbfc9674b69>:93: FutureWarning: The frame.append method is deprecated and will be removed from pandas in a future version. Use pandas.concat instead.\n",
            "  data = data.append({'emotion': temp, 'mel_spec_db': mel_spec_db, 'features1': np.array2string(features1, separator=',',threshold=np.inf, prefix='[', suffix=']')}, ignore_index=True)\n"
          ]
        },
        {
          "output_type": "stream",
          "name": "stdout",
          "text": [
            "feature1 shape:(41920,)\n",
            "feature1 shape:(41920,)\n"
          ]
        },
        {
          "output_type": "stream",
          "name": "stderr",
          "text": [
            "<ipython-input-11-0bbfc9674b69>:93: FutureWarning: The frame.append method is deprecated and will be removed from pandas in a future version. Use pandas.concat instead.\n",
            "  data = data.append({'emotion': temp, 'mel_spec_db': mel_spec_db, 'features1': np.array2string(features1, separator=',',threshold=np.inf, prefix='[', suffix=']')}, ignore_index=True)\n"
          ]
        },
        {
          "output_type": "stream",
          "name": "stdout",
          "text": [
            "feature1 shape:(41920,)\n",
            "feature1 shape:(41920,)\n"
          ]
        },
        {
          "output_type": "stream",
          "name": "stderr",
          "text": [
            "<ipython-input-11-0bbfc9674b69>:93: FutureWarning: The frame.append method is deprecated and will be removed from pandas in a future version. Use pandas.concat instead.\n",
            "  data = data.append({'emotion': temp, 'mel_spec_db': mel_spec_db, 'features1': np.array2string(features1, separator=',',threshold=np.inf, prefix='[', suffix=']')}, ignore_index=True)\n"
          ]
        },
        {
          "output_type": "stream",
          "name": "stdout",
          "text": [
            "feature1 shape:(41920,)\n",
            "feature1 shape:(41920,)\n"
          ]
        },
        {
          "output_type": "stream",
          "name": "stderr",
          "text": [
            "<ipython-input-11-0bbfc9674b69>:93: FutureWarning: The frame.append method is deprecated and will be removed from pandas in a future version. Use pandas.concat instead.\n",
            "  data = data.append({'emotion': temp, 'mel_spec_db': mel_spec_db, 'features1': np.array2string(features1, separator=',',threshold=np.inf, prefix='[', suffix=']')}, ignore_index=True)\n"
          ]
        },
        {
          "output_type": "stream",
          "name": "stdout",
          "text": [
            "feature1 shape:(41920,)\n",
            "feature1 shape:(41920,)\n"
          ]
        },
        {
          "output_type": "stream",
          "name": "stderr",
          "text": [
            "<ipython-input-11-0bbfc9674b69>:93: FutureWarning: The frame.append method is deprecated and will be removed from pandas in a future version. Use pandas.concat instead.\n",
            "  data = data.append({'emotion': temp, 'mel_spec_db': mel_spec_db, 'features1': np.array2string(features1, separator=',',threshold=np.inf, prefix='[', suffix=']')}, ignore_index=True)\n"
          ]
        },
        {
          "output_type": "stream",
          "name": "stdout",
          "text": [
            "feature1 shape:(41920,)\n",
            "feature1 shape:(41920,)\n"
          ]
        },
        {
          "output_type": "stream",
          "name": "stderr",
          "text": [
            "<ipython-input-11-0bbfc9674b69>:93: FutureWarning: The frame.append method is deprecated and will be removed from pandas in a future version. Use pandas.concat instead.\n",
            "  data = data.append({'emotion': temp, 'mel_spec_db': mel_spec_db, 'features1': np.array2string(features1, separator=',',threshold=np.inf, prefix='[', suffix=']')}, ignore_index=True)\n"
          ]
        },
        {
          "output_type": "stream",
          "name": "stdout",
          "text": [
            "feature1 shape:(41920,)\n",
            "feature1 shape:(41920,)\n"
          ]
        },
        {
          "output_type": "stream",
          "name": "stderr",
          "text": [
            "<ipython-input-11-0bbfc9674b69>:93: FutureWarning: The frame.append method is deprecated and will be removed from pandas in a future version. Use pandas.concat instead.\n",
            "  data = data.append({'emotion': temp, 'mel_spec_db': mel_spec_db, 'features1': np.array2string(features1, separator=',',threshold=np.inf, prefix='[', suffix=']')}, ignore_index=True)\n"
          ]
        },
        {
          "output_type": "stream",
          "name": "stdout",
          "text": [
            "feature1 shape:(41920,)\n",
            "feature1 shape:(41920,)\n"
          ]
        },
        {
          "output_type": "stream",
          "name": "stderr",
          "text": [
            "<ipython-input-11-0bbfc9674b69>:93: FutureWarning: The frame.append method is deprecated and will be removed from pandas in a future version. Use pandas.concat instead.\n",
            "  data = data.append({'emotion': temp, 'mel_spec_db': mel_spec_db, 'features1': np.array2string(features1, separator=',',threshold=np.inf, prefix='[', suffix=']')}, ignore_index=True)\n"
          ]
        },
        {
          "output_type": "stream",
          "name": "stdout",
          "text": [
            "feature1 shape:(41920,)\n",
            "feature1 shape:(41920,)\n"
          ]
        },
        {
          "output_type": "stream",
          "name": "stderr",
          "text": [
            "<ipython-input-11-0bbfc9674b69>:93: FutureWarning: The frame.append method is deprecated and will be removed from pandas in a future version. Use pandas.concat instead.\n",
            "  data = data.append({'emotion': temp, 'mel_spec_db': mel_spec_db, 'features1': np.array2string(features1, separator=',',threshold=np.inf, prefix='[', suffix=']')}, ignore_index=True)\n"
          ]
        },
        {
          "output_type": "stream",
          "name": "stdout",
          "text": [
            "feature1 shape:(41920,)\n",
            "feature1 shape:(41920,)\n"
          ]
        },
        {
          "output_type": "stream",
          "name": "stderr",
          "text": [
            "<ipython-input-11-0bbfc9674b69>:93: FutureWarning: The frame.append method is deprecated and will be removed from pandas in a future version. Use pandas.concat instead.\n",
            "  data = data.append({'emotion': temp, 'mel_spec_db': mel_spec_db, 'features1': np.array2string(features1, separator=',',threshold=np.inf, prefix='[', suffix=']')}, ignore_index=True)\n"
          ]
        },
        {
          "output_type": "stream",
          "name": "stdout",
          "text": [
            "feature1 shape:(41920,)\n",
            "feature1 shape:(41920,)\n"
          ]
        },
        {
          "output_type": "stream",
          "name": "stderr",
          "text": [
            "<ipython-input-11-0bbfc9674b69>:93: FutureWarning: The frame.append method is deprecated and will be removed from pandas in a future version. Use pandas.concat instead.\n",
            "  data = data.append({'emotion': temp, 'mel_spec_db': mel_spec_db, 'features1': np.array2string(features1, separator=',',threshold=np.inf, prefix='[', suffix=']')}, ignore_index=True)\n"
          ]
        },
        {
          "output_type": "stream",
          "name": "stdout",
          "text": [
            "feature1 shape:(41920,)\n",
            "feature1 shape:(41920,)\n"
          ]
        },
        {
          "output_type": "stream",
          "name": "stderr",
          "text": [
            "<ipython-input-11-0bbfc9674b69>:93: FutureWarning: The frame.append method is deprecated and will be removed from pandas in a future version. Use pandas.concat instead.\n",
            "  data = data.append({'emotion': temp, 'mel_spec_db': mel_spec_db, 'features1': np.array2string(features1, separator=',',threshold=np.inf, prefix='[', suffix=']')}, ignore_index=True)\n"
          ]
        },
        {
          "output_type": "stream",
          "name": "stdout",
          "text": [
            "feature1 shape:(41920,)\n",
            "feature1 shape:(41920,)\n"
          ]
        },
        {
          "output_type": "stream",
          "name": "stderr",
          "text": [
            "<ipython-input-11-0bbfc9674b69>:93: FutureWarning: The frame.append method is deprecated and will be removed from pandas in a future version. Use pandas.concat instead.\n",
            "  data = data.append({'emotion': temp, 'mel_spec_db': mel_spec_db, 'features1': np.array2string(features1, separator=',',threshold=np.inf, prefix='[', suffix=']')}, ignore_index=True)\n"
          ]
        },
        {
          "output_type": "stream",
          "name": "stdout",
          "text": [
            "feature1 shape:(41920,)\n",
            "feature1 shape:(41920,)\n"
          ]
        },
        {
          "output_type": "stream",
          "name": "stderr",
          "text": [
            "<ipython-input-11-0bbfc9674b69>:93: FutureWarning: The frame.append method is deprecated and will be removed from pandas in a future version. Use pandas.concat instead.\n",
            "  data = data.append({'emotion': temp, 'mel_spec_db': mel_spec_db, 'features1': np.array2string(features1, separator=',',threshold=np.inf, prefix='[', suffix=']')}, ignore_index=True)\n"
          ]
        },
        {
          "output_type": "stream",
          "name": "stdout",
          "text": [
            "feature1 shape:(41920,)\n",
            "feature1 shape:(41920,)\n"
          ]
        },
        {
          "output_type": "stream",
          "name": "stderr",
          "text": [
            "<ipython-input-11-0bbfc9674b69>:93: FutureWarning: The frame.append method is deprecated and will be removed from pandas in a future version. Use pandas.concat instead.\n",
            "  data = data.append({'emotion': temp, 'mel_spec_db': mel_spec_db, 'features1': np.array2string(features1, separator=',',threshold=np.inf, prefix='[', suffix=']')}, ignore_index=True)\n"
          ]
        },
        {
          "output_type": "stream",
          "name": "stdout",
          "text": [
            "feature1 shape:(41920,)\n",
            "feature1 shape:(41920,)\n"
          ]
        },
        {
          "output_type": "stream",
          "name": "stderr",
          "text": [
            "<ipython-input-11-0bbfc9674b69>:93: FutureWarning: The frame.append method is deprecated and will be removed from pandas in a future version. Use pandas.concat instead.\n",
            "  data = data.append({'emotion': temp, 'mel_spec_db': mel_spec_db, 'features1': np.array2string(features1, separator=',',threshold=np.inf, prefix='[', suffix=']')}, ignore_index=True)\n"
          ]
        },
        {
          "output_type": "stream",
          "name": "stdout",
          "text": [
            "feature1 shape:(41920,)\n",
            "feature1 shape:(41920,)\n"
          ]
        },
        {
          "output_type": "stream",
          "name": "stderr",
          "text": [
            "<ipython-input-11-0bbfc9674b69>:93: FutureWarning: The frame.append method is deprecated and will be removed from pandas in a future version. Use pandas.concat instead.\n",
            "  data = data.append({'emotion': temp, 'mel_spec_db': mel_spec_db, 'features1': np.array2string(features1, separator=',',threshold=np.inf, prefix='[', suffix=']')}, ignore_index=True)\n"
          ]
        },
        {
          "output_type": "stream",
          "name": "stdout",
          "text": [
            "feature1 shape:(41920,)\n",
            "feature1 shape:(41920,)\n"
          ]
        },
        {
          "output_type": "stream",
          "name": "stderr",
          "text": [
            "<ipython-input-11-0bbfc9674b69>:93: FutureWarning: The frame.append method is deprecated and will be removed from pandas in a future version. Use pandas.concat instead.\n",
            "  data = data.append({'emotion': temp, 'mel_spec_db': mel_spec_db, 'features1': np.array2string(features1, separator=',',threshold=np.inf, prefix='[', suffix=']')}, ignore_index=True)\n"
          ]
        },
        {
          "output_type": "stream",
          "name": "stdout",
          "text": [
            "feature1 shape:(41920,)\n",
            "feature1 shape:(41920,)\n"
          ]
        },
        {
          "output_type": "stream",
          "name": "stderr",
          "text": [
            "<ipython-input-11-0bbfc9674b69>:93: FutureWarning: The frame.append method is deprecated and will be removed from pandas in a future version. Use pandas.concat instead.\n",
            "  data = data.append({'emotion': temp, 'mel_spec_db': mel_spec_db, 'features1': np.array2string(features1, separator=',',threshold=np.inf, prefix='[', suffix=']')}, ignore_index=True)\n"
          ]
        },
        {
          "output_type": "stream",
          "name": "stdout",
          "text": [
            "feature1 shape:(41920,)\n",
            "feature1 shape:(41920,)\n"
          ]
        },
        {
          "output_type": "stream",
          "name": "stderr",
          "text": [
            "<ipython-input-11-0bbfc9674b69>:93: FutureWarning: The frame.append method is deprecated and will be removed from pandas in a future version. Use pandas.concat instead.\n",
            "  data = data.append({'emotion': temp, 'mel_spec_db': mel_spec_db, 'features1': np.array2string(features1, separator=',',threshold=np.inf, prefix='[', suffix=']')}, ignore_index=True)\n"
          ]
        },
        {
          "output_type": "stream",
          "name": "stdout",
          "text": [
            "feature1 shape:(41920,)\n",
            "feature1 shape:(41920,)\n"
          ]
        },
        {
          "output_type": "stream",
          "name": "stderr",
          "text": [
            "<ipython-input-11-0bbfc9674b69>:93: FutureWarning: The frame.append method is deprecated and will be removed from pandas in a future version. Use pandas.concat instead.\n",
            "  data = data.append({'emotion': temp, 'mel_spec_db': mel_spec_db, 'features1': np.array2string(features1, separator=',',threshold=np.inf, prefix='[', suffix=']')}, ignore_index=True)\n"
          ]
        },
        {
          "output_type": "stream",
          "name": "stdout",
          "text": [
            "feature1 shape:(41920,)\n",
            "feature1 shape:(41920,)\n"
          ]
        },
        {
          "output_type": "stream",
          "name": "stderr",
          "text": [
            "<ipython-input-11-0bbfc9674b69>:93: FutureWarning: The frame.append method is deprecated and will be removed from pandas in a future version. Use pandas.concat instead.\n",
            "  data = data.append({'emotion': temp, 'mel_spec_db': mel_spec_db, 'features1': np.array2string(features1, separator=',',threshold=np.inf, prefix='[', suffix=']')}, ignore_index=True)\n"
          ]
        },
        {
          "output_type": "stream",
          "name": "stdout",
          "text": [
            "feature1 shape:(41920,)\n",
            "feature1 shape:(41920,)\n"
          ]
        },
        {
          "output_type": "stream",
          "name": "stderr",
          "text": [
            "<ipython-input-11-0bbfc9674b69>:93: FutureWarning: The frame.append method is deprecated and will be removed from pandas in a future version. Use pandas.concat instead.\n",
            "  data = data.append({'emotion': temp, 'mel_spec_db': mel_spec_db, 'features1': np.array2string(features1, separator=',',threshold=np.inf, prefix='[', suffix=']')}, ignore_index=True)\n"
          ]
        },
        {
          "output_type": "stream",
          "name": "stdout",
          "text": [
            "feature1 shape:(41920,)\n",
            "feature1 shape:(41920,)\n"
          ]
        },
        {
          "output_type": "stream",
          "name": "stderr",
          "text": [
            "<ipython-input-11-0bbfc9674b69>:93: FutureWarning: The frame.append method is deprecated and will be removed from pandas in a future version. Use pandas.concat instead.\n",
            "  data = data.append({'emotion': temp, 'mel_spec_db': mel_spec_db, 'features1': np.array2string(features1, separator=',',threshold=np.inf, prefix='[', suffix=']')}, ignore_index=True)\n"
          ]
        },
        {
          "output_type": "stream",
          "name": "stdout",
          "text": [
            "feature1 shape:(41920,)\n",
            "feature1 shape:(41920,)\n"
          ]
        },
        {
          "output_type": "stream",
          "name": "stderr",
          "text": [
            "<ipython-input-11-0bbfc9674b69>:93: FutureWarning: The frame.append method is deprecated and will be removed from pandas in a future version. Use pandas.concat instead.\n",
            "  data = data.append({'emotion': temp, 'mel_spec_db': mel_spec_db, 'features1': np.array2string(features1, separator=',',threshold=np.inf, prefix='[', suffix=']')}, ignore_index=True)\n"
          ]
        },
        {
          "output_type": "stream",
          "name": "stdout",
          "text": [
            "feature1 shape:(41920,)\n",
            "feature1 shape:(41920,)\n"
          ]
        },
        {
          "output_type": "stream",
          "name": "stderr",
          "text": [
            "<ipython-input-11-0bbfc9674b69>:93: FutureWarning: The frame.append method is deprecated and will be removed from pandas in a future version. Use pandas.concat instead.\n",
            "  data = data.append({'emotion': temp, 'mel_spec_db': mel_spec_db, 'features1': np.array2string(features1, separator=',',threshold=np.inf, prefix='[', suffix=']')}, ignore_index=True)\n"
          ]
        },
        {
          "output_type": "stream",
          "name": "stdout",
          "text": [
            "feature1 shape:(41920,)\n",
            "feature1 shape:(41920,)\n"
          ]
        },
        {
          "output_type": "stream",
          "name": "stderr",
          "text": [
            "<ipython-input-11-0bbfc9674b69>:93: FutureWarning: The frame.append method is deprecated and will be removed from pandas in a future version. Use pandas.concat instead.\n",
            "  data = data.append({'emotion': temp, 'mel_spec_db': mel_spec_db, 'features1': np.array2string(features1, separator=',',threshold=np.inf, prefix='[', suffix=']')}, ignore_index=True)\n"
          ]
        },
        {
          "output_type": "stream",
          "name": "stdout",
          "text": [
            "feature1 shape:(41920,)\n",
            "feature1 shape:(41920,)\n"
          ]
        },
        {
          "output_type": "stream",
          "name": "stderr",
          "text": [
            "<ipython-input-11-0bbfc9674b69>:93: FutureWarning: The frame.append method is deprecated and will be removed from pandas in a future version. Use pandas.concat instead.\n",
            "  data = data.append({'emotion': temp, 'mel_spec_db': mel_spec_db, 'features1': np.array2string(features1, separator=',',threshold=np.inf, prefix='[', suffix=']')}, ignore_index=True)\n"
          ]
        },
        {
          "output_type": "stream",
          "name": "stdout",
          "text": [
            "feature1 shape:(41920,)\n",
            "feature1 shape:(41920,)\n"
          ]
        },
        {
          "output_type": "stream",
          "name": "stderr",
          "text": [
            "<ipython-input-11-0bbfc9674b69>:93: FutureWarning: The frame.append method is deprecated and will be removed from pandas in a future version. Use pandas.concat instead.\n",
            "  data = data.append({'emotion': temp, 'mel_spec_db': mel_spec_db, 'features1': np.array2string(features1, separator=',',threshold=np.inf, prefix='[', suffix=']')}, ignore_index=True)\n"
          ]
        },
        {
          "output_type": "stream",
          "name": "stdout",
          "text": [
            "feature1 shape:(41920,)\n",
            "feature1 shape:(41920,)\n"
          ]
        },
        {
          "output_type": "stream",
          "name": "stderr",
          "text": [
            "<ipython-input-11-0bbfc9674b69>:93: FutureWarning: The frame.append method is deprecated and will be removed from pandas in a future version. Use pandas.concat instead.\n",
            "  data = data.append({'emotion': temp, 'mel_spec_db': mel_spec_db, 'features1': np.array2string(features1, separator=',',threshold=np.inf, prefix='[', suffix=']')}, ignore_index=True)\n"
          ]
        },
        {
          "output_type": "stream",
          "name": "stdout",
          "text": [
            "feature1 shape:(41920,)\n",
            "feature1 shape:(41920,)\n"
          ]
        },
        {
          "output_type": "stream",
          "name": "stderr",
          "text": [
            "<ipython-input-11-0bbfc9674b69>:93: FutureWarning: The frame.append method is deprecated and will be removed from pandas in a future version. Use pandas.concat instead.\n",
            "  data = data.append({'emotion': temp, 'mel_spec_db': mel_spec_db, 'features1': np.array2string(features1, separator=',',threshold=np.inf, prefix='[', suffix=']')}, ignore_index=True)\n"
          ]
        },
        {
          "output_type": "stream",
          "name": "stdout",
          "text": [
            "feature1 shape:(41920,)\n",
            "feature1 shape:(41920,)\n"
          ]
        },
        {
          "output_type": "stream",
          "name": "stderr",
          "text": [
            "<ipython-input-11-0bbfc9674b69>:93: FutureWarning: The frame.append method is deprecated and will be removed from pandas in a future version. Use pandas.concat instead.\n",
            "  data = data.append({'emotion': temp, 'mel_spec_db': mel_spec_db, 'features1': np.array2string(features1, separator=',',threshold=np.inf, prefix='[', suffix=']')}, ignore_index=True)\n"
          ]
        },
        {
          "output_type": "stream",
          "name": "stdout",
          "text": [
            "feature1 shape:(41920,)\n",
            "feature1 shape:(41920,)\n"
          ]
        },
        {
          "output_type": "stream",
          "name": "stderr",
          "text": [
            "<ipython-input-11-0bbfc9674b69>:93: FutureWarning: The frame.append method is deprecated and will be removed from pandas in a future version. Use pandas.concat instead.\n",
            "  data = data.append({'emotion': temp, 'mel_spec_db': mel_spec_db, 'features1': np.array2string(features1, separator=',',threshold=np.inf, prefix='[', suffix=']')}, ignore_index=True)\n"
          ]
        },
        {
          "output_type": "stream",
          "name": "stdout",
          "text": [
            "feature1 shape:(41920,)\n",
            "feature1 shape:(41920,)\n"
          ]
        },
        {
          "output_type": "stream",
          "name": "stderr",
          "text": [
            "<ipython-input-11-0bbfc9674b69>:93: FutureWarning: The frame.append method is deprecated and will be removed from pandas in a future version. Use pandas.concat instead.\n",
            "  data = data.append({'emotion': temp, 'mel_spec_db': mel_spec_db, 'features1': np.array2string(features1, separator=',',threshold=np.inf, prefix='[', suffix=']')}, ignore_index=True)\n"
          ]
        },
        {
          "output_type": "stream",
          "name": "stdout",
          "text": [
            "feature1 shape:(41920,)\n",
            "feature1 shape:(41920,)\n"
          ]
        },
        {
          "output_type": "stream",
          "name": "stderr",
          "text": [
            "<ipython-input-11-0bbfc9674b69>:93: FutureWarning: The frame.append method is deprecated and will be removed from pandas in a future version. Use pandas.concat instead.\n",
            "  data = data.append({'emotion': temp, 'mel_spec_db': mel_spec_db, 'features1': np.array2string(features1, separator=',',threshold=np.inf, prefix='[', suffix=']')}, ignore_index=True)\n"
          ]
        },
        {
          "output_type": "stream",
          "name": "stdout",
          "text": [
            "feature1 shape:(41920,)\n",
            "feature1 shape:(41920,)\n"
          ]
        },
        {
          "output_type": "stream",
          "name": "stderr",
          "text": [
            "<ipython-input-11-0bbfc9674b69>:93: FutureWarning: The frame.append method is deprecated and will be removed from pandas in a future version. Use pandas.concat instead.\n",
            "  data = data.append({'emotion': temp, 'mel_spec_db': mel_spec_db, 'features1': np.array2string(features1, separator=',',threshold=np.inf, prefix='[', suffix=']')}, ignore_index=True)\n"
          ]
        },
        {
          "output_type": "stream",
          "name": "stdout",
          "text": [
            "feature1 shape:(41920,)\n",
            "feature1 shape:(41920,)\n"
          ]
        },
        {
          "output_type": "stream",
          "name": "stderr",
          "text": [
            "<ipython-input-11-0bbfc9674b69>:93: FutureWarning: The frame.append method is deprecated and will be removed from pandas in a future version. Use pandas.concat instead.\n",
            "  data = data.append({'emotion': temp, 'mel_spec_db': mel_spec_db, 'features1': np.array2string(features1, separator=',',threshold=np.inf, prefix='[', suffix=']')}, ignore_index=True)\n"
          ]
        },
        {
          "output_type": "stream",
          "name": "stdout",
          "text": [
            "feature1 shape:(41920,)\n",
            "feature1 shape:(41920,)\n"
          ]
        },
        {
          "output_type": "stream",
          "name": "stderr",
          "text": [
            "<ipython-input-11-0bbfc9674b69>:93: FutureWarning: The frame.append method is deprecated and will be removed from pandas in a future version. Use pandas.concat instead.\n",
            "  data = data.append({'emotion': temp, 'mel_spec_db': mel_spec_db, 'features1': np.array2string(features1, separator=',',threshold=np.inf, prefix='[', suffix=']')}, ignore_index=True)\n"
          ]
        },
        {
          "output_type": "stream",
          "name": "stdout",
          "text": [
            "feature1 shape:(41920,)\n",
            "feature1 shape:(41920,)\n"
          ]
        },
        {
          "output_type": "stream",
          "name": "stderr",
          "text": [
            "<ipython-input-11-0bbfc9674b69>:93: FutureWarning: The frame.append method is deprecated and will be removed from pandas in a future version. Use pandas.concat instead.\n",
            "  data = data.append({'emotion': temp, 'mel_spec_db': mel_spec_db, 'features1': np.array2string(features1, separator=',',threshold=np.inf, prefix='[', suffix=']')}, ignore_index=True)\n"
          ]
        },
        {
          "output_type": "stream",
          "name": "stdout",
          "text": [
            "feature1 shape:(41920,)\n",
            "feature1 shape:(41920,)\n"
          ]
        },
        {
          "output_type": "stream",
          "name": "stderr",
          "text": [
            "<ipython-input-11-0bbfc9674b69>:93: FutureWarning: The frame.append method is deprecated and will be removed from pandas in a future version. Use pandas.concat instead.\n",
            "  data = data.append({'emotion': temp, 'mel_spec_db': mel_spec_db, 'features1': np.array2string(features1, separator=',',threshold=np.inf, prefix='[', suffix=']')}, ignore_index=True)\n"
          ]
        },
        {
          "output_type": "stream",
          "name": "stdout",
          "text": [
            "feature1 shape:(41920,)\n",
            "feature1 shape:(41920,)\n"
          ]
        },
        {
          "output_type": "stream",
          "name": "stderr",
          "text": [
            "<ipython-input-11-0bbfc9674b69>:93: FutureWarning: The frame.append method is deprecated and will be removed from pandas in a future version. Use pandas.concat instead.\n",
            "  data = data.append({'emotion': temp, 'mel_spec_db': mel_spec_db, 'features1': np.array2string(features1, separator=',',threshold=np.inf, prefix='[', suffix=']')}, ignore_index=True)\n"
          ]
        },
        {
          "output_type": "stream",
          "name": "stdout",
          "text": [
            "feature1 shape:(41920,)\n",
            "feature1 shape:(41920,)\n"
          ]
        },
        {
          "output_type": "stream",
          "name": "stderr",
          "text": [
            "<ipython-input-11-0bbfc9674b69>:93: FutureWarning: The frame.append method is deprecated and will be removed from pandas in a future version. Use pandas.concat instead.\n",
            "  data = data.append({'emotion': temp, 'mel_spec_db': mel_spec_db, 'features1': np.array2string(features1, separator=',',threshold=np.inf, prefix='[', suffix=']')}, ignore_index=True)\n"
          ]
        },
        {
          "output_type": "stream",
          "name": "stdout",
          "text": [
            "feature1 shape:(41920,)\n",
            "feature1 shape:(41920,)\n"
          ]
        },
        {
          "output_type": "stream",
          "name": "stderr",
          "text": [
            "<ipython-input-11-0bbfc9674b69>:93: FutureWarning: The frame.append method is deprecated and will be removed from pandas in a future version. Use pandas.concat instead.\n",
            "  data = data.append({'emotion': temp, 'mel_spec_db': mel_spec_db, 'features1': np.array2string(features1, separator=',',threshold=np.inf, prefix='[', suffix=']')}, ignore_index=True)\n"
          ]
        },
        {
          "output_type": "stream",
          "name": "stdout",
          "text": [
            "feature1 shape:(41920,)\n",
            "feature1 shape:(41920,)\n"
          ]
        },
        {
          "output_type": "stream",
          "name": "stderr",
          "text": [
            "<ipython-input-11-0bbfc9674b69>:93: FutureWarning: The frame.append method is deprecated and will be removed from pandas in a future version. Use pandas.concat instead.\n",
            "  data = data.append({'emotion': temp, 'mel_spec_db': mel_spec_db, 'features1': np.array2string(features1, separator=',',threshold=np.inf, prefix='[', suffix=']')}, ignore_index=True)\n"
          ]
        },
        {
          "output_type": "stream",
          "name": "stdout",
          "text": [
            "feature1 shape:(41920,)\n",
            "feature1 shape:(41920,)\n"
          ]
        },
        {
          "output_type": "stream",
          "name": "stderr",
          "text": [
            "<ipython-input-11-0bbfc9674b69>:93: FutureWarning: The frame.append method is deprecated and will be removed from pandas in a future version. Use pandas.concat instead.\n",
            "  data = data.append({'emotion': temp, 'mel_spec_db': mel_spec_db, 'features1': np.array2string(features1, separator=',',threshold=np.inf, prefix='[', suffix=']')}, ignore_index=True)\n"
          ]
        },
        {
          "output_type": "stream",
          "name": "stdout",
          "text": [
            "feature1 shape:(41920,)\n",
            "feature1 shape:(41920,)\n"
          ]
        },
        {
          "output_type": "stream",
          "name": "stderr",
          "text": [
            "<ipython-input-11-0bbfc9674b69>:93: FutureWarning: The frame.append method is deprecated and will be removed from pandas in a future version. Use pandas.concat instead.\n",
            "  data = data.append({'emotion': temp, 'mel_spec_db': mel_spec_db, 'features1': np.array2string(features1, separator=',',threshold=np.inf, prefix='[', suffix=']')}, ignore_index=True)\n"
          ]
        },
        {
          "output_type": "stream",
          "name": "stdout",
          "text": [
            "feature1 shape:(41920,)\n",
            "feature1 shape:(41920,)\n"
          ]
        },
        {
          "output_type": "stream",
          "name": "stderr",
          "text": [
            "<ipython-input-11-0bbfc9674b69>:93: FutureWarning: The frame.append method is deprecated and will be removed from pandas in a future version. Use pandas.concat instead.\n",
            "  data = data.append({'emotion': temp, 'mel_spec_db': mel_spec_db, 'features1': np.array2string(features1, separator=',',threshold=np.inf, prefix='[', suffix=']')}, ignore_index=True)\n"
          ]
        },
        {
          "output_type": "stream",
          "name": "stdout",
          "text": [
            "feature1 shape:(41920,)\n",
            "feature1 shape:(41920,)\n"
          ]
        },
        {
          "output_type": "stream",
          "name": "stderr",
          "text": [
            "<ipython-input-11-0bbfc9674b69>:93: FutureWarning: The frame.append method is deprecated and will be removed from pandas in a future version. Use pandas.concat instead.\n",
            "  data = data.append({'emotion': temp, 'mel_spec_db': mel_spec_db, 'features1': np.array2string(features1, separator=',',threshold=np.inf, prefix='[', suffix=']')}, ignore_index=True)\n"
          ]
        },
        {
          "output_type": "stream",
          "name": "stdout",
          "text": [
            "feature1 shape:(41920,)\n",
            "feature1 shape:(41920,)\n"
          ]
        },
        {
          "output_type": "stream",
          "name": "stderr",
          "text": [
            "<ipython-input-11-0bbfc9674b69>:93: FutureWarning: The frame.append method is deprecated and will be removed from pandas in a future version. Use pandas.concat instead.\n",
            "  data = data.append({'emotion': temp, 'mel_spec_db': mel_spec_db, 'features1': np.array2string(features1, separator=',',threshold=np.inf, prefix='[', suffix=']')}, ignore_index=True)\n"
          ]
        },
        {
          "output_type": "stream",
          "name": "stdout",
          "text": [
            "feature1 shape:(41920,)\n",
            "feature1 shape:(41920,)\n"
          ]
        },
        {
          "output_type": "stream",
          "name": "stderr",
          "text": [
            "<ipython-input-11-0bbfc9674b69>:93: FutureWarning: The frame.append method is deprecated and will be removed from pandas in a future version. Use pandas.concat instead.\n",
            "  data = data.append({'emotion': temp, 'mel_spec_db': mel_spec_db, 'features1': np.array2string(features1, separator=',',threshold=np.inf, prefix='[', suffix=']')}, ignore_index=True)\n"
          ]
        },
        {
          "output_type": "stream",
          "name": "stdout",
          "text": [
            "feature1 shape:(41920,)\n",
            "feature1 shape:(41920,)\n"
          ]
        },
        {
          "output_type": "stream",
          "name": "stderr",
          "text": [
            "<ipython-input-11-0bbfc9674b69>:93: FutureWarning: The frame.append method is deprecated and will be removed from pandas in a future version. Use pandas.concat instead.\n",
            "  data = data.append({'emotion': temp, 'mel_spec_db': mel_spec_db, 'features1': np.array2string(features1, separator=',',threshold=np.inf, prefix='[', suffix=']')}, ignore_index=True)\n"
          ]
        },
        {
          "output_type": "stream",
          "name": "stdout",
          "text": [
            "feature1 shape:(41920,)\n",
            "feature1 shape:(41920,)\n"
          ]
        },
        {
          "output_type": "stream",
          "name": "stderr",
          "text": [
            "<ipython-input-11-0bbfc9674b69>:93: FutureWarning: The frame.append method is deprecated and will be removed from pandas in a future version. Use pandas.concat instead.\n",
            "  data = data.append({'emotion': temp, 'mel_spec_db': mel_spec_db, 'features1': np.array2string(features1, separator=',',threshold=np.inf, prefix='[', suffix=']')}, ignore_index=True)\n"
          ]
        },
        {
          "output_type": "stream",
          "name": "stdout",
          "text": [
            "feature1 shape:(41920,)\n",
            "feature1 shape:(41920,)\n"
          ]
        },
        {
          "output_type": "stream",
          "name": "stderr",
          "text": [
            "<ipython-input-11-0bbfc9674b69>:93: FutureWarning: The frame.append method is deprecated and will be removed from pandas in a future version. Use pandas.concat instead.\n",
            "  data = data.append({'emotion': temp, 'mel_spec_db': mel_spec_db, 'features1': np.array2string(features1, separator=',',threshold=np.inf, prefix='[', suffix=']')}, ignore_index=True)\n"
          ]
        },
        {
          "output_type": "stream",
          "name": "stdout",
          "text": [
            "feature1 shape:(41920,)\n",
            "feature1 shape:(41920,)\n"
          ]
        },
        {
          "output_type": "stream",
          "name": "stderr",
          "text": [
            "<ipython-input-11-0bbfc9674b69>:93: FutureWarning: The frame.append method is deprecated and will be removed from pandas in a future version. Use pandas.concat instead.\n",
            "  data = data.append({'emotion': temp, 'mel_spec_db': mel_spec_db, 'features1': np.array2string(features1, separator=',',threshold=np.inf, prefix='[', suffix=']')}, ignore_index=True)\n"
          ]
        },
        {
          "output_type": "stream",
          "name": "stdout",
          "text": [
            "feature1 shape:(41920,)\n",
            "feature1 shape:(41920,)\n"
          ]
        },
        {
          "output_type": "stream",
          "name": "stderr",
          "text": [
            "<ipython-input-11-0bbfc9674b69>:93: FutureWarning: The frame.append method is deprecated and will be removed from pandas in a future version. Use pandas.concat instead.\n",
            "  data = data.append({'emotion': temp, 'mel_spec_db': mel_spec_db, 'features1': np.array2string(features1, separator=',',threshold=np.inf, prefix='[', suffix=']')}, ignore_index=True)\n"
          ]
        },
        {
          "output_type": "stream",
          "name": "stdout",
          "text": [
            "feature1 shape:(41920,)\n",
            "feature1 shape:(41920,)\n"
          ]
        },
        {
          "output_type": "stream",
          "name": "stderr",
          "text": [
            "<ipython-input-11-0bbfc9674b69>:93: FutureWarning: The frame.append method is deprecated and will be removed from pandas in a future version. Use pandas.concat instead.\n",
            "  data = data.append({'emotion': temp, 'mel_spec_db': mel_spec_db, 'features1': np.array2string(features1, separator=',',threshold=np.inf, prefix='[', suffix=']')}, ignore_index=True)\n"
          ]
        },
        {
          "output_type": "stream",
          "name": "stdout",
          "text": [
            "feature1 shape:(41920,)\n",
            "feature1 shape:(41920,)\n"
          ]
        },
        {
          "output_type": "stream",
          "name": "stderr",
          "text": [
            "<ipython-input-11-0bbfc9674b69>:93: FutureWarning: The frame.append method is deprecated and will be removed from pandas in a future version. Use pandas.concat instead.\n",
            "  data = data.append({'emotion': temp, 'mel_spec_db': mel_spec_db, 'features1': np.array2string(features1, separator=',',threshold=np.inf, prefix='[', suffix=']')}, ignore_index=True)\n"
          ]
        },
        {
          "output_type": "stream",
          "name": "stdout",
          "text": [
            "feature1 shape:(41920,)\n",
            "feature1 shape:(41920,)\n"
          ]
        },
        {
          "output_type": "stream",
          "name": "stderr",
          "text": [
            "<ipython-input-11-0bbfc9674b69>:93: FutureWarning: The frame.append method is deprecated and will be removed from pandas in a future version. Use pandas.concat instead.\n",
            "  data = data.append({'emotion': temp, 'mel_spec_db': mel_spec_db, 'features1': np.array2string(features1, separator=',',threshold=np.inf, prefix='[', suffix=']')}, ignore_index=True)\n"
          ]
        },
        {
          "output_type": "stream",
          "name": "stdout",
          "text": [
            "feature1 shape:(41920,)\n",
            "feature1 shape:(41920,)\n"
          ]
        },
        {
          "output_type": "stream",
          "name": "stderr",
          "text": [
            "<ipython-input-11-0bbfc9674b69>:93: FutureWarning: The frame.append method is deprecated and will be removed from pandas in a future version. Use pandas.concat instead.\n",
            "  data = data.append({'emotion': temp, 'mel_spec_db': mel_spec_db, 'features1': np.array2string(features1, separator=',',threshold=np.inf, prefix='[', suffix=']')}, ignore_index=True)\n"
          ]
        },
        {
          "output_type": "stream",
          "name": "stdout",
          "text": [
            "feature1 shape:(41920,)\n",
            "feature1 shape:(41920,)\n"
          ]
        },
        {
          "output_type": "stream",
          "name": "stderr",
          "text": [
            "<ipython-input-11-0bbfc9674b69>:93: FutureWarning: The frame.append method is deprecated and will be removed from pandas in a future version. Use pandas.concat instead.\n",
            "  data = data.append({'emotion': temp, 'mel_spec_db': mel_spec_db, 'features1': np.array2string(features1, separator=',',threshold=np.inf, prefix='[', suffix=']')}, ignore_index=True)\n"
          ]
        },
        {
          "output_type": "stream",
          "name": "stdout",
          "text": [
            "feature1 shape:(41920,)\n",
            "feature1 shape:(41920,)\n"
          ]
        },
        {
          "output_type": "stream",
          "name": "stderr",
          "text": [
            "<ipython-input-11-0bbfc9674b69>:93: FutureWarning: The frame.append method is deprecated and will be removed from pandas in a future version. Use pandas.concat instead.\n",
            "  data = data.append({'emotion': temp, 'mel_spec_db': mel_spec_db, 'features1': np.array2string(features1, separator=',',threshold=np.inf, prefix='[', suffix=']')}, ignore_index=True)\n"
          ]
        },
        {
          "output_type": "stream",
          "name": "stdout",
          "text": [
            "feature1 shape:(41920,)\n",
            "feature1 shape:(41920,)\n"
          ]
        },
        {
          "output_type": "stream",
          "name": "stderr",
          "text": [
            "<ipython-input-11-0bbfc9674b69>:93: FutureWarning: The frame.append method is deprecated and will be removed from pandas in a future version. Use pandas.concat instead.\n",
            "  data = data.append({'emotion': temp, 'mel_spec_db': mel_spec_db, 'features1': np.array2string(features1, separator=',',threshold=np.inf, prefix='[', suffix=']')}, ignore_index=True)\n"
          ]
        },
        {
          "output_type": "stream",
          "name": "stdout",
          "text": [
            "feature1 shape:(41920,)\n",
            "feature1 shape:(41920,)\n"
          ]
        },
        {
          "output_type": "stream",
          "name": "stderr",
          "text": [
            "<ipython-input-11-0bbfc9674b69>:93: FutureWarning: The frame.append method is deprecated and will be removed from pandas in a future version. Use pandas.concat instead.\n",
            "  data = data.append({'emotion': temp, 'mel_spec_db': mel_spec_db, 'features1': np.array2string(features1, separator=',',threshold=np.inf, prefix='[', suffix=']')}, ignore_index=True)\n"
          ]
        },
        {
          "output_type": "stream",
          "name": "stdout",
          "text": [
            "feature1 shape:(41920,)\n",
            "feature1 shape:(41920,)\n"
          ]
        },
        {
          "output_type": "stream",
          "name": "stderr",
          "text": [
            "<ipython-input-11-0bbfc9674b69>:93: FutureWarning: The frame.append method is deprecated and will be removed from pandas in a future version. Use pandas.concat instead.\n",
            "  data = data.append({'emotion': temp, 'mel_spec_db': mel_spec_db, 'features1': np.array2string(features1, separator=',',threshold=np.inf, prefix='[', suffix=']')}, ignore_index=True)\n"
          ]
        },
        {
          "output_type": "stream",
          "name": "stdout",
          "text": [
            "feature1 shape:(41920,)\n",
            "feature1 shape:(41920,)\n"
          ]
        },
        {
          "output_type": "stream",
          "name": "stderr",
          "text": [
            "<ipython-input-11-0bbfc9674b69>:93: FutureWarning: The frame.append method is deprecated and will be removed from pandas in a future version. Use pandas.concat instead.\n",
            "  data = data.append({'emotion': temp, 'mel_spec_db': mel_spec_db, 'features1': np.array2string(features1, separator=',',threshold=np.inf, prefix='[', suffix=']')}, ignore_index=True)\n"
          ]
        },
        {
          "output_type": "stream",
          "name": "stdout",
          "text": [
            "feature1 shape:(41920,)\n",
            "feature1 shape:(41920,)\n"
          ]
        },
        {
          "output_type": "stream",
          "name": "stderr",
          "text": [
            "<ipython-input-11-0bbfc9674b69>:93: FutureWarning: The frame.append method is deprecated and will be removed from pandas in a future version. Use pandas.concat instead.\n",
            "  data = data.append({'emotion': temp, 'mel_spec_db': mel_spec_db, 'features1': np.array2string(features1, separator=',',threshold=np.inf, prefix='[', suffix=']')}, ignore_index=True)\n"
          ]
        },
        {
          "output_type": "stream",
          "name": "stdout",
          "text": [
            "feature1 shape:(41920,)\n",
            "feature1 shape:(41920,)\n"
          ]
        },
        {
          "output_type": "stream",
          "name": "stderr",
          "text": [
            "<ipython-input-11-0bbfc9674b69>:93: FutureWarning: The frame.append method is deprecated and will be removed from pandas in a future version. Use pandas.concat instead.\n",
            "  data = data.append({'emotion': temp, 'mel_spec_db': mel_spec_db, 'features1': np.array2string(features1, separator=',',threshold=np.inf, prefix='[', suffix=']')}, ignore_index=True)\n"
          ]
        },
        {
          "output_type": "stream",
          "name": "stdout",
          "text": [
            "feature1 shape:(41920,)\n",
            "feature1 shape:(41920,)\n"
          ]
        },
        {
          "output_type": "stream",
          "name": "stderr",
          "text": [
            "<ipython-input-11-0bbfc9674b69>:93: FutureWarning: The frame.append method is deprecated and will be removed from pandas in a future version. Use pandas.concat instead.\n",
            "  data = data.append({'emotion': temp, 'mel_spec_db': mel_spec_db, 'features1': np.array2string(features1, separator=',',threshold=np.inf, prefix='[', suffix=']')}, ignore_index=True)\n"
          ]
        },
        {
          "output_type": "stream",
          "name": "stdout",
          "text": [
            "feature1 shape:(41920,)\n",
            "feature1 shape:(41920,)\n"
          ]
        },
        {
          "output_type": "stream",
          "name": "stderr",
          "text": [
            "<ipython-input-11-0bbfc9674b69>:93: FutureWarning: The frame.append method is deprecated and will be removed from pandas in a future version. Use pandas.concat instead.\n",
            "  data = data.append({'emotion': temp, 'mel_spec_db': mel_spec_db, 'features1': np.array2string(features1, separator=',',threshold=np.inf, prefix='[', suffix=']')}, ignore_index=True)\n"
          ]
        },
        {
          "output_type": "stream",
          "name": "stdout",
          "text": [
            "feature1 shape:(41920,)\n",
            "feature1 shape:(41920,)\n"
          ]
        },
        {
          "output_type": "stream",
          "name": "stderr",
          "text": [
            "<ipython-input-11-0bbfc9674b69>:93: FutureWarning: The frame.append method is deprecated and will be removed from pandas in a future version. Use pandas.concat instead.\n",
            "  data = data.append({'emotion': temp, 'mel_spec_db': mel_spec_db, 'features1': np.array2string(features1, separator=',',threshold=np.inf, prefix='[', suffix=']')}, ignore_index=True)\n"
          ]
        },
        {
          "output_type": "stream",
          "name": "stdout",
          "text": [
            "feature1 shape:(41920,)\n",
            "feature1 shape:(41920,)\n"
          ]
        },
        {
          "output_type": "stream",
          "name": "stderr",
          "text": [
            "<ipython-input-11-0bbfc9674b69>:93: FutureWarning: The frame.append method is deprecated and will be removed from pandas in a future version. Use pandas.concat instead.\n",
            "  data = data.append({'emotion': temp, 'mel_spec_db': mel_spec_db, 'features1': np.array2string(features1, separator=',',threshold=np.inf, prefix='[', suffix=']')}, ignore_index=True)\n"
          ]
        },
        {
          "output_type": "stream",
          "name": "stdout",
          "text": [
            "feature1 shape:(41920,)\n",
            "feature1 shape:(41920,)\n"
          ]
        },
        {
          "output_type": "stream",
          "name": "stderr",
          "text": [
            "<ipython-input-11-0bbfc9674b69>:93: FutureWarning: The frame.append method is deprecated and will be removed from pandas in a future version. Use pandas.concat instead.\n",
            "  data = data.append({'emotion': temp, 'mel_spec_db': mel_spec_db, 'features1': np.array2string(features1, separator=',',threshold=np.inf, prefix='[', suffix=']')}, ignore_index=True)\n"
          ]
        },
        {
          "output_type": "stream",
          "name": "stdout",
          "text": [
            "feature1 shape:(41920,)\n",
            "feature1 shape:(41920,)\n"
          ]
        },
        {
          "output_type": "stream",
          "name": "stderr",
          "text": [
            "<ipython-input-11-0bbfc9674b69>:93: FutureWarning: The frame.append method is deprecated and will be removed from pandas in a future version. Use pandas.concat instead.\n",
            "  data = data.append({'emotion': temp, 'mel_spec_db': mel_spec_db, 'features1': np.array2string(features1, separator=',',threshold=np.inf, prefix='[', suffix=']')}, ignore_index=True)\n"
          ]
        },
        {
          "output_type": "stream",
          "name": "stdout",
          "text": [
            "feature1 shape:(41920,)\n",
            "feature1 shape:(41920,)\n"
          ]
        },
        {
          "output_type": "stream",
          "name": "stderr",
          "text": [
            "<ipython-input-11-0bbfc9674b69>:93: FutureWarning: The frame.append method is deprecated and will be removed from pandas in a future version. Use pandas.concat instead.\n",
            "  data = data.append({'emotion': temp, 'mel_spec_db': mel_spec_db, 'features1': np.array2string(features1, separator=',',threshold=np.inf, prefix='[', suffix=']')}, ignore_index=True)\n"
          ]
        },
        {
          "output_type": "stream",
          "name": "stdout",
          "text": [
            "feature1 shape:(41920,)\n",
            "feature1 shape:(41920,)\n"
          ]
        },
        {
          "output_type": "stream",
          "name": "stderr",
          "text": [
            "<ipython-input-11-0bbfc9674b69>:93: FutureWarning: The frame.append method is deprecated and will be removed from pandas in a future version. Use pandas.concat instead.\n",
            "  data = data.append({'emotion': temp, 'mel_spec_db': mel_spec_db, 'features1': np.array2string(features1, separator=',',threshold=np.inf, prefix='[', suffix=']')}, ignore_index=True)\n"
          ]
        },
        {
          "output_type": "stream",
          "name": "stdout",
          "text": [
            "feature1 shape:(41920,)\n",
            "feature1 shape:(41920,)\n"
          ]
        },
        {
          "output_type": "stream",
          "name": "stderr",
          "text": [
            "<ipython-input-11-0bbfc9674b69>:93: FutureWarning: The frame.append method is deprecated and will be removed from pandas in a future version. Use pandas.concat instead.\n",
            "  data = data.append({'emotion': temp, 'mel_spec_db': mel_spec_db, 'features1': np.array2string(features1, separator=',',threshold=np.inf, prefix='[', suffix=']')}, ignore_index=True)\n"
          ]
        },
        {
          "output_type": "stream",
          "name": "stdout",
          "text": [
            "feature1 shape:(41920,)\n",
            "feature1 shape:(41920,)\n"
          ]
        },
        {
          "output_type": "stream",
          "name": "stderr",
          "text": [
            "<ipython-input-11-0bbfc9674b69>:93: FutureWarning: The frame.append method is deprecated and will be removed from pandas in a future version. Use pandas.concat instead.\n",
            "  data = data.append({'emotion': temp, 'mel_spec_db': mel_spec_db, 'features1': np.array2string(features1, separator=',',threshold=np.inf, prefix='[', suffix=']')}, ignore_index=True)\n"
          ]
        },
        {
          "output_type": "stream",
          "name": "stdout",
          "text": [
            "feature1 shape:(41920,)\n",
            "feature1 shape:(41920,)\n"
          ]
        },
        {
          "output_type": "stream",
          "name": "stderr",
          "text": [
            "<ipython-input-11-0bbfc9674b69>:93: FutureWarning: The frame.append method is deprecated and will be removed from pandas in a future version. Use pandas.concat instead.\n",
            "  data = data.append({'emotion': temp, 'mel_spec_db': mel_spec_db, 'features1': np.array2string(features1, separator=',',threshold=np.inf, prefix='[', suffix=']')}, ignore_index=True)\n"
          ]
        },
        {
          "output_type": "stream",
          "name": "stdout",
          "text": [
            "feature1 shape:(41920,)\n",
            "feature1 shape:(41920,)\n"
          ]
        },
        {
          "output_type": "stream",
          "name": "stderr",
          "text": [
            "<ipython-input-11-0bbfc9674b69>:93: FutureWarning: The frame.append method is deprecated and will be removed from pandas in a future version. Use pandas.concat instead.\n",
            "  data = data.append({'emotion': temp, 'mel_spec_db': mel_spec_db, 'features1': np.array2string(features1, separator=',',threshold=np.inf, prefix='[', suffix=']')}, ignore_index=True)\n"
          ]
        },
        {
          "output_type": "stream",
          "name": "stdout",
          "text": [
            "feature1 shape:(41920,)\n",
            "feature1 shape:(41920,)\n"
          ]
        },
        {
          "output_type": "stream",
          "name": "stderr",
          "text": [
            "<ipython-input-11-0bbfc9674b69>:93: FutureWarning: The frame.append method is deprecated and will be removed from pandas in a future version. Use pandas.concat instead.\n",
            "  data = data.append({'emotion': temp, 'mel_spec_db': mel_spec_db, 'features1': np.array2string(features1, separator=',',threshold=np.inf, prefix='[', suffix=']')}, ignore_index=True)\n"
          ]
        },
        {
          "output_type": "stream",
          "name": "stdout",
          "text": [
            "feature1 shape:(41920,)\n",
            "feature1 shape:(41920,)\n"
          ]
        },
        {
          "output_type": "stream",
          "name": "stderr",
          "text": [
            "<ipython-input-11-0bbfc9674b69>:93: FutureWarning: The frame.append method is deprecated and will be removed from pandas in a future version. Use pandas.concat instead.\n",
            "  data = data.append({'emotion': temp, 'mel_spec_db': mel_spec_db, 'features1': np.array2string(features1, separator=',',threshold=np.inf, prefix='[', suffix=']')}, ignore_index=True)\n"
          ]
        },
        {
          "output_type": "stream",
          "name": "stdout",
          "text": [
            "feature1 shape:(41920,)\n",
            "feature1 shape:(41920,)\n"
          ]
        },
        {
          "output_type": "stream",
          "name": "stderr",
          "text": [
            "<ipython-input-11-0bbfc9674b69>:93: FutureWarning: The frame.append method is deprecated and will be removed from pandas in a future version. Use pandas.concat instead.\n",
            "  data = data.append({'emotion': temp, 'mel_spec_db': mel_spec_db, 'features1': np.array2string(features1, separator=',',threshold=np.inf, prefix='[', suffix=']')}, ignore_index=True)\n"
          ]
        },
        {
          "output_type": "stream",
          "name": "stdout",
          "text": [
            "feature1 shape:(41920,)\n",
            "feature1 shape:(41920,)\n"
          ]
        },
        {
          "output_type": "stream",
          "name": "stderr",
          "text": [
            "<ipython-input-11-0bbfc9674b69>:93: FutureWarning: The frame.append method is deprecated and will be removed from pandas in a future version. Use pandas.concat instead.\n",
            "  data = data.append({'emotion': temp, 'mel_spec_db': mel_spec_db, 'features1': np.array2string(features1, separator=',',threshold=np.inf, prefix='[', suffix=']')}, ignore_index=True)\n"
          ]
        },
        {
          "output_type": "stream",
          "name": "stdout",
          "text": [
            "feature1 shape:(41920,)\n",
            "feature1 shape:(41920,)\n"
          ]
        },
        {
          "output_type": "stream",
          "name": "stderr",
          "text": [
            "<ipython-input-11-0bbfc9674b69>:93: FutureWarning: The frame.append method is deprecated and will be removed from pandas in a future version. Use pandas.concat instead.\n",
            "  data = data.append({'emotion': temp, 'mel_spec_db': mel_spec_db, 'features1': np.array2string(features1, separator=',',threshold=np.inf, prefix='[', suffix=']')}, ignore_index=True)\n"
          ]
        },
        {
          "output_type": "stream",
          "name": "stdout",
          "text": [
            "feature1 shape:(41920,)\n",
            "feature1 shape:(41920,)\n"
          ]
        },
        {
          "output_type": "stream",
          "name": "stderr",
          "text": [
            "<ipython-input-11-0bbfc9674b69>:93: FutureWarning: The frame.append method is deprecated and will be removed from pandas in a future version. Use pandas.concat instead.\n",
            "  data = data.append({'emotion': temp, 'mel_spec_db': mel_spec_db, 'features1': np.array2string(features1, separator=',',threshold=np.inf, prefix='[', suffix=']')}, ignore_index=True)\n"
          ]
        },
        {
          "output_type": "stream",
          "name": "stdout",
          "text": [
            "feature1 shape:(41920,)\n",
            "feature1 shape:(41920,)\n"
          ]
        },
        {
          "output_type": "stream",
          "name": "stderr",
          "text": [
            "<ipython-input-11-0bbfc9674b69>:93: FutureWarning: The frame.append method is deprecated and will be removed from pandas in a future version. Use pandas.concat instead.\n",
            "  data = data.append({'emotion': temp, 'mel_spec_db': mel_spec_db, 'features1': np.array2string(features1, separator=',',threshold=np.inf, prefix='[', suffix=']')}, ignore_index=True)\n"
          ]
        },
        {
          "output_type": "stream",
          "name": "stdout",
          "text": [
            "feature1 shape:(41920,)\n",
            "feature1 shape:(41920,)\n"
          ]
        },
        {
          "output_type": "stream",
          "name": "stderr",
          "text": [
            "<ipython-input-11-0bbfc9674b69>:93: FutureWarning: The frame.append method is deprecated and will be removed from pandas in a future version. Use pandas.concat instead.\n",
            "  data = data.append({'emotion': temp, 'mel_spec_db': mel_spec_db, 'features1': np.array2string(features1, separator=',',threshold=np.inf, prefix='[', suffix=']')}, ignore_index=True)\n"
          ]
        },
        {
          "output_type": "stream",
          "name": "stdout",
          "text": [
            "feature1 shape:(41920,)\n",
            "feature1 shape:(41920,)\n"
          ]
        },
        {
          "output_type": "stream",
          "name": "stderr",
          "text": [
            "<ipython-input-11-0bbfc9674b69>:93: FutureWarning: The frame.append method is deprecated and will be removed from pandas in a future version. Use pandas.concat instead.\n",
            "  data = data.append({'emotion': temp, 'mel_spec_db': mel_spec_db, 'features1': np.array2string(features1, separator=',',threshold=np.inf, prefix='[', suffix=']')}, ignore_index=True)\n"
          ]
        },
        {
          "output_type": "stream",
          "name": "stdout",
          "text": [
            "feature1 shape:(41920,)\n",
            "feature1 shape:(41920,)\n"
          ]
        },
        {
          "output_type": "stream",
          "name": "stderr",
          "text": [
            "<ipython-input-11-0bbfc9674b69>:93: FutureWarning: The frame.append method is deprecated and will be removed from pandas in a future version. Use pandas.concat instead.\n",
            "  data = data.append({'emotion': temp, 'mel_spec_db': mel_spec_db, 'features1': np.array2string(features1, separator=',',threshold=np.inf, prefix='[', suffix=']')}, ignore_index=True)\n"
          ]
        },
        {
          "output_type": "stream",
          "name": "stdout",
          "text": [
            "feature1 shape:(41920,)\n",
            "feature1 shape:(41920,)\n"
          ]
        },
        {
          "output_type": "stream",
          "name": "stderr",
          "text": [
            "<ipython-input-11-0bbfc9674b69>:93: FutureWarning: The frame.append method is deprecated and will be removed from pandas in a future version. Use pandas.concat instead.\n",
            "  data = data.append({'emotion': temp, 'mel_spec_db': mel_spec_db, 'features1': np.array2string(features1, separator=',',threshold=np.inf, prefix='[', suffix=']')}, ignore_index=True)\n"
          ]
        },
        {
          "output_type": "stream",
          "name": "stdout",
          "text": [
            "feature1 shape:(41920,)\n",
            "feature1 shape:(41920,)\n"
          ]
        },
        {
          "output_type": "stream",
          "name": "stderr",
          "text": [
            "<ipython-input-11-0bbfc9674b69>:93: FutureWarning: The frame.append method is deprecated and will be removed from pandas in a future version. Use pandas.concat instead.\n",
            "  data = data.append({'emotion': temp, 'mel_spec_db': mel_spec_db, 'features1': np.array2string(features1, separator=',',threshold=np.inf, prefix='[', suffix=']')}, ignore_index=True)\n"
          ]
        },
        {
          "output_type": "stream",
          "name": "stdout",
          "text": [
            "feature1 shape:(41920,)\n",
            "feature1 shape:(41920,)\n"
          ]
        },
        {
          "output_type": "stream",
          "name": "stderr",
          "text": [
            "<ipython-input-11-0bbfc9674b69>:93: FutureWarning: The frame.append method is deprecated and will be removed from pandas in a future version. Use pandas.concat instead.\n",
            "  data = data.append({'emotion': temp, 'mel_spec_db': mel_spec_db, 'features1': np.array2string(features1, separator=',',threshold=np.inf, prefix='[', suffix=']')}, ignore_index=True)\n"
          ]
        },
        {
          "output_type": "stream",
          "name": "stdout",
          "text": [
            "feature1 shape:(41920,)\n",
            "feature1 shape:(41920,)\n"
          ]
        },
        {
          "output_type": "stream",
          "name": "stderr",
          "text": [
            "<ipython-input-11-0bbfc9674b69>:93: FutureWarning: The frame.append method is deprecated and will be removed from pandas in a future version. Use pandas.concat instead.\n",
            "  data = data.append({'emotion': temp, 'mel_spec_db': mel_spec_db, 'features1': np.array2string(features1, separator=',',threshold=np.inf, prefix='[', suffix=']')}, ignore_index=True)\n"
          ]
        },
        {
          "output_type": "stream",
          "name": "stdout",
          "text": [
            "feature1 shape:(41920,)\n",
            "feature1 shape:(41920,)\n"
          ]
        },
        {
          "output_type": "stream",
          "name": "stderr",
          "text": [
            "<ipython-input-11-0bbfc9674b69>:93: FutureWarning: The frame.append method is deprecated and will be removed from pandas in a future version. Use pandas.concat instead.\n",
            "  data = data.append({'emotion': temp, 'mel_spec_db': mel_spec_db, 'features1': np.array2string(features1, separator=',',threshold=np.inf, prefix='[', suffix=']')}, ignore_index=True)\n"
          ]
        },
        {
          "output_type": "stream",
          "name": "stdout",
          "text": [
            "feature1 shape:(41920,)\n",
            "feature1 shape:(41920,)\n"
          ]
        },
        {
          "output_type": "stream",
          "name": "stderr",
          "text": [
            "<ipython-input-11-0bbfc9674b69>:93: FutureWarning: The frame.append method is deprecated and will be removed from pandas in a future version. Use pandas.concat instead.\n",
            "  data = data.append({'emotion': temp, 'mel_spec_db': mel_spec_db, 'features1': np.array2string(features1, separator=',',threshold=np.inf, prefix='[', suffix=']')}, ignore_index=True)\n"
          ]
        },
        {
          "output_type": "stream",
          "name": "stdout",
          "text": [
            "feature1 shape:(41920,)\n",
            "feature1 shape:(41920,)\n"
          ]
        },
        {
          "output_type": "stream",
          "name": "stderr",
          "text": [
            "<ipython-input-11-0bbfc9674b69>:93: FutureWarning: The frame.append method is deprecated and will be removed from pandas in a future version. Use pandas.concat instead.\n",
            "  data = data.append({'emotion': temp, 'mel_spec_db': mel_spec_db, 'features1': np.array2string(features1, separator=',',threshold=np.inf, prefix='[', suffix=']')}, ignore_index=True)\n"
          ]
        },
        {
          "output_type": "stream",
          "name": "stdout",
          "text": [
            "feature1 shape:(41920,)\n",
            "feature1 shape:(41920,)\n"
          ]
        },
        {
          "output_type": "stream",
          "name": "stderr",
          "text": [
            "<ipython-input-11-0bbfc9674b69>:93: FutureWarning: The frame.append method is deprecated and will be removed from pandas in a future version. Use pandas.concat instead.\n",
            "  data = data.append({'emotion': temp, 'mel_spec_db': mel_spec_db, 'features1': np.array2string(features1, separator=',',threshold=np.inf, prefix='[', suffix=']')}, ignore_index=True)\n"
          ]
        },
        {
          "output_type": "stream",
          "name": "stdout",
          "text": [
            "feature1 shape:(41920,)\n",
            "feature1 shape:(41920,)\n"
          ]
        },
        {
          "output_type": "stream",
          "name": "stderr",
          "text": [
            "<ipython-input-11-0bbfc9674b69>:93: FutureWarning: The frame.append method is deprecated and will be removed from pandas in a future version. Use pandas.concat instead.\n",
            "  data = data.append({'emotion': temp, 'mel_spec_db': mel_spec_db, 'features1': np.array2string(features1, separator=',',threshold=np.inf, prefix='[', suffix=']')}, ignore_index=True)\n"
          ]
        },
        {
          "output_type": "stream",
          "name": "stdout",
          "text": [
            "feature1 shape:(41920,)\n",
            "feature1 shape:(41920,)\n"
          ]
        },
        {
          "output_type": "stream",
          "name": "stderr",
          "text": [
            "<ipython-input-11-0bbfc9674b69>:93: FutureWarning: The frame.append method is deprecated and will be removed from pandas in a future version. Use pandas.concat instead.\n",
            "  data = data.append({'emotion': temp, 'mel_spec_db': mel_spec_db, 'features1': np.array2string(features1, separator=',',threshold=np.inf, prefix='[', suffix=']')}, ignore_index=True)\n"
          ]
        },
        {
          "output_type": "stream",
          "name": "stdout",
          "text": [
            "feature1 shape:(41920,)\n",
            "feature1 shape:(41920,)\n"
          ]
        },
        {
          "output_type": "stream",
          "name": "stderr",
          "text": [
            "<ipython-input-11-0bbfc9674b69>:93: FutureWarning: The frame.append method is deprecated and will be removed from pandas in a future version. Use pandas.concat instead.\n",
            "  data = data.append({'emotion': temp, 'mel_spec_db': mel_spec_db, 'features1': np.array2string(features1, separator=',',threshold=np.inf, prefix='[', suffix=']')}, ignore_index=True)\n"
          ]
        },
        {
          "output_type": "stream",
          "name": "stdout",
          "text": [
            "feature1 shape:(41920,)\n",
            "feature1 shape:(41920,)\n"
          ]
        },
        {
          "output_type": "stream",
          "name": "stderr",
          "text": [
            "<ipython-input-11-0bbfc9674b69>:93: FutureWarning: The frame.append method is deprecated and will be removed from pandas in a future version. Use pandas.concat instead.\n",
            "  data = data.append({'emotion': temp, 'mel_spec_db': mel_spec_db, 'features1': np.array2string(features1, separator=',',threshold=np.inf, prefix='[', suffix=']')}, ignore_index=True)\n"
          ]
        },
        {
          "output_type": "stream",
          "name": "stdout",
          "text": [
            "feature1 shape:(41920,)\n",
            "feature1 shape:(41920,)\n"
          ]
        },
        {
          "output_type": "stream",
          "name": "stderr",
          "text": [
            "<ipython-input-11-0bbfc9674b69>:93: FutureWarning: The frame.append method is deprecated and will be removed from pandas in a future version. Use pandas.concat instead.\n",
            "  data = data.append({'emotion': temp, 'mel_spec_db': mel_spec_db, 'features1': np.array2string(features1, separator=',',threshold=np.inf, prefix='[', suffix=']')}, ignore_index=True)\n"
          ]
        },
        {
          "output_type": "stream",
          "name": "stdout",
          "text": [
            "feature1 shape:(41920,)\n",
            "feature1 shape:(41920,)\n"
          ]
        },
        {
          "output_type": "stream",
          "name": "stderr",
          "text": [
            "<ipython-input-11-0bbfc9674b69>:93: FutureWarning: The frame.append method is deprecated and will be removed from pandas in a future version. Use pandas.concat instead.\n",
            "  data = data.append({'emotion': temp, 'mel_spec_db': mel_spec_db, 'features1': np.array2string(features1, separator=',',threshold=np.inf, prefix='[', suffix=']')}, ignore_index=True)\n"
          ]
        },
        {
          "output_type": "stream",
          "name": "stdout",
          "text": [
            "feature1 shape:(41920,)\n",
            "feature1 shape:(41920,)\n"
          ]
        },
        {
          "output_type": "stream",
          "name": "stderr",
          "text": [
            "<ipython-input-11-0bbfc9674b69>:93: FutureWarning: The frame.append method is deprecated and will be removed from pandas in a future version. Use pandas.concat instead.\n",
            "  data = data.append({'emotion': temp, 'mel_spec_db': mel_spec_db, 'features1': np.array2string(features1, separator=',',threshold=np.inf, prefix='[', suffix=']')}, ignore_index=True)\n"
          ]
        },
        {
          "output_type": "stream",
          "name": "stdout",
          "text": [
            "feature1 shape:(41920,)\n",
            "feature1 shape:(41920,)\n"
          ]
        },
        {
          "output_type": "stream",
          "name": "stderr",
          "text": [
            "<ipython-input-11-0bbfc9674b69>:93: FutureWarning: The frame.append method is deprecated and will be removed from pandas in a future version. Use pandas.concat instead.\n",
            "  data = data.append({'emotion': temp, 'mel_spec_db': mel_spec_db, 'features1': np.array2string(features1, separator=',',threshold=np.inf, prefix='[', suffix=']')}, ignore_index=True)\n"
          ]
        },
        {
          "output_type": "stream",
          "name": "stdout",
          "text": [
            "feature1 shape:(41920,)\n",
            "feature1 shape:(41920,)\n"
          ]
        },
        {
          "output_type": "stream",
          "name": "stderr",
          "text": [
            "<ipython-input-11-0bbfc9674b69>:93: FutureWarning: The frame.append method is deprecated and will be removed from pandas in a future version. Use pandas.concat instead.\n",
            "  data = data.append({'emotion': temp, 'mel_spec_db': mel_spec_db, 'features1': np.array2string(features1, separator=',',threshold=np.inf, prefix='[', suffix=']')}, ignore_index=True)\n"
          ]
        },
        {
          "output_type": "stream",
          "name": "stdout",
          "text": [
            "feature1 shape:(41920,)\n",
            "feature1 shape:(41920,)\n"
          ]
        },
        {
          "output_type": "stream",
          "name": "stderr",
          "text": [
            "<ipython-input-11-0bbfc9674b69>:93: FutureWarning: The frame.append method is deprecated and will be removed from pandas in a future version. Use pandas.concat instead.\n",
            "  data = data.append({'emotion': temp, 'mel_spec_db': mel_spec_db, 'features1': np.array2string(features1, separator=',',threshold=np.inf, prefix='[', suffix=']')}, ignore_index=True)\n"
          ]
        },
        {
          "output_type": "stream",
          "name": "stdout",
          "text": [
            "feature1 shape:(41920,)\n",
            "feature1 shape:(41920,)\n"
          ]
        },
        {
          "output_type": "stream",
          "name": "stderr",
          "text": [
            "<ipython-input-11-0bbfc9674b69>:93: FutureWarning: The frame.append method is deprecated and will be removed from pandas in a future version. Use pandas.concat instead.\n",
            "  data = data.append({'emotion': temp, 'mel_spec_db': mel_spec_db, 'features1': np.array2string(features1, separator=',',threshold=np.inf, prefix='[', suffix=']')}, ignore_index=True)\n"
          ]
        },
        {
          "output_type": "stream",
          "name": "stdout",
          "text": [
            "feature1 shape:(41920,)\n",
            "feature1 shape:(41920,)\n"
          ]
        },
        {
          "output_type": "stream",
          "name": "stderr",
          "text": [
            "<ipython-input-11-0bbfc9674b69>:93: FutureWarning: The frame.append method is deprecated and will be removed from pandas in a future version. Use pandas.concat instead.\n",
            "  data = data.append({'emotion': temp, 'mel_spec_db': mel_spec_db, 'features1': np.array2string(features1, separator=',',threshold=np.inf, prefix='[', suffix=']')}, ignore_index=True)\n"
          ]
        },
        {
          "output_type": "stream",
          "name": "stdout",
          "text": [
            "feature1 shape:(41920,)\n",
            "feature1 shape:(41920,)\n"
          ]
        },
        {
          "output_type": "stream",
          "name": "stderr",
          "text": [
            "<ipython-input-11-0bbfc9674b69>:93: FutureWarning: The frame.append method is deprecated and will be removed from pandas in a future version. Use pandas.concat instead.\n",
            "  data = data.append({'emotion': temp, 'mel_spec_db': mel_spec_db, 'features1': np.array2string(features1, separator=',',threshold=np.inf, prefix='[', suffix=']')}, ignore_index=True)\n"
          ]
        },
        {
          "output_type": "stream",
          "name": "stdout",
          "text": [
            "feature1 shape:(41920,)\n",
            "feature1 shape:(41920,)\n"
          ]
        },
        {
          "output_type": "stream",
          "name": "stderr",
          "text": [
            "<ipython-input-11-0bbfc9674b69>:93: FutureWarning: The frame.append method is deprecated and will be removed from pandas in a future version. Use pandas.concat instead.\n",
            "  data = data.append({'emotion': temp, 'mel_spec_db': mel_spec_db, 'features1': np.array2string(features1, separator=',',threshold=np.inf, prefix='[', suffix=']')}, ignore_index=True)\n"
          ]
        },
        {
          "output_type": "stream",
          "name": "stdout",
          "text": [
            "feature1 shape:(41920,)\n",
            "feature1 shape:(41920,)\n"
          ]
        },
        {
          "output_type": "stream",
          "name": "stderr",
          "text": [
            "<ipython-input-11-0bbfc9674b69>:93: FutureWarning: The frame.append method is deprecated and will be removed from pandas in a future version. Use pandas.concat instead.\n",
            "  data = data.append({'emotion': temp, 'mel_spec_db': mel_spec_db, 'features1': np.array2string(features1, separator=',',threshold=np.inf, prefix='[', suffix=']')}, ignore_index=True)\n"
          ]
        },
        {
          "output_type": "stream",
          "name": "stdout",
          "text": [
            "feature1 shape:(41920,)\n",
            "feature1 shape:(41920,)\n"
          ]
        },
        {
          "output_type": "stream",
          "name": "stderr",
          "text": [
            "<ipython-input-11-0bbfc9674b69>:93: FutureWarning: The frame.append method is deprecated and will be removed from pandas in a future version. Use pandas.concat instead.\n",
            "  data = data.append({'emotion': temp, 'mel_spec_db': mel_spec_db, 'features1': np.array2string(features1, separator=',',threshold=np.inf, prefix='[', suffix=']')}, ignore_index=True)\n"
          ]
        },
        {
          "output_type": "stream",
          "name": "stdout",
          "text": [
            "feature1 shape:(41920,)\n",
            "feature1 shape:(41920,)\n"
          ]
        },
        {
          "output_type": "stream",
          "name": "stderr",
          "text": [
            "<ipython-input-11-0bbfc9674b69>:93: FutureWarning: The frame.append method is deprecated and will be removed from pandas in a future version. Use pandas.concat instead.\n",
            "  data = data.append({'emotion': temp, 'mel_spec_db': mel_spec_db, 'features1': np.array2string(features1, separator=',',threshold=np.inf, prefix='[', suffix=']')}, ignore_index=True)\n"
          ]
        },
        {
          "output_type": "stream",
          "name": "stdout",
          "text": [
            "feature1 shape:(41920,)\n",
            "feature1 shape:(41920,)\n"
          ]
        },
        {
          "output_type": "stream",
          "name": "stderr",
          "text": [
            "<ipython-input-11-0bbfc9674b69>:93: FutureWarning: The frame.append method is deprecated and will be removed from pandas in a future version. Use pandas.concat instead.\n",
            "  data = data.append({'emotion': temp, 'mel_spec_db': mel_spec_db, 'features1': np.array2string(features1, separator=',',threshold=np.inf, prefix='[', suffix=']')}, ignore_index=True)\n"
          ]
        },
        {
          "output_type": "stream",
          "name": "stdout",
          "text": [
            "feature1 shape:(41920,)\n",
            "feature1 shape:(41920,)\n"
          ]
        },
        {
          "output_type": "stream",
          "name": "stderr",
          "text": [
            "<ipython-input-11-0bbfc9674b69>:93: FutureWarning: The frame.append method is deprecated and will be removed from pandas in a future version. Use pandas.concat instead.\n",
            "  data = data.append({'emotion': temp, 'mel_spec_db': mel_spec_db, 'features1': np.array2string(features1, separator=',',threshold=np.inf, prefix='[', suffix=']')}, ignore_index=True)\n"
          ]
        },
        {
          "output_type": "stream",
          "name": "stdout",
          "text": [
            "feature1 shape:(41920,)\n",
            "feature1 shape:(41920,)\n"
          ]
        },
        {
          "output_type": "stream",
          "name": "stderr",
          "text": [
            "<ipython-input-11-0bbfc9674b69>:93: FutureWarning: The frame.append method is deprecated and will be removed from pandas in a future version. Use pandas.concat instead.\n",
            "  data = data.append({'emotion': temp, 'mel_spec_db': mel_spec_db, 'features1': np.array2string(features1, separator=',',threshold=np.inf, prefix='[', suffix=']')}, ignore_index=True)\n"
          ]
        },
        {
          "output_type": "stream",
          "name": "stdout",
          "text": [
            "feature1 shape:(41920,)\n",
            "feature1 shape:(41920,)\n"
          ]
        },
        {
          "output_type": "stream",
          "name": "stderr",
          "text": [
            "<ipython-input-11-0bbfc9674b69>:93: FutureWarning: The frame.append method is deprecated and will be removed from pandas in a future version. Use pandas.concat instead.\n",
            "  data = data.append({'emotion': temp, 'mel_spec_db': mel_spec_db, 'features1': np.array2string(features1, separator=',',threshold=np.inf, prefix='[', suffix=']')}, ignore_index=True)\n"
          ]
        },
        {
          "output_type": "stream",
          "name": "stdout",
          "text": [
            "feature1 shape:(41920,)\n",
            "feature1 shape:(41920,)\n"
          ]
        },
        {
          "output_type": "stream",
          "name": "stderr",
          "text": [
            "<ipython-input-11-0bbfc9674b69>:93: FutureWarning: The frame.append method is deprecated and will be removed from pandas in a future version. Use pandas.concat instead.\n",
            "  data = data.append({'emotion': temp, 'mel_spec_db': mel_spec_db, 'features1': np.array2string(features1, separator=',',threshold=np.inf, prefix='[', suffix=']')}, ignore_index=True)\n"
          ]
        },
        {
          "output_type": "stream",
          "name": "stdout",
          "text": [
            "feature1 shape:(41920,)\n",
            "feature1 shape:(41920,)\n"
          ]
        },
        {
          "output_type": "stream",
          "name": "stderr",
          "text": [
            "<ipython-input-11-0bbfc9674b69>:93: FutureWarning: The frame.append method is deprecated and will be removed from pandas in a future version. Use pandas.concat instead.\n",
            "  data = data.append({'emotion': temp, 'mel_spec_db': mel_spec_db, 'features1': np.array2string(features1, separator=',',threshold=np.inf, prefix='[', suffix=']')}, ignore_index=True)\n"
          ]
        },
        {
          "output_type": "stream",
          "name": "stdout",
          "text": [
            "feature1 shape:(41920,)\n",
            "feature1 shape:(41920,)\n"
          ]
        },
        {
          "output_type": "stream",
          "name": "stderr",
          "text": [
            "<ipython-input-11-0bbfc9674b69>:93: FutureWarning: The frame.append method is deprecated and will be removed from pandas in a future version. Use pandas.concat instead.\n",
            "  data = data.append({'emotion': temp, 'mel_spec_db': mel_spec_db, 'features1': np.array2string(features1, separator=',',threshold=np.inf, prefix='[', suffix=']')}, ignore_index=True)\n"
          ]
        },
        {
          "output_type": "stream",
          "name": "stdout",
          "text": [
            "feature1 shape:(41920,)\n",
            "feature1 shape:(41920,)\n"
          ]
        },
        {
          "output_type": "stream",
          "name": "stderr",
          "text": [
            "<ipython-input-11-0bbfc9674b69>:93: FutureWarning: The frame.append method is deprecated and will be removed from pandas in a future version. Use pandas.concat instead.\n",
            "  data = data.append({'emotion': temp, 'mel_spec_db': mel_spec_db, 'features1': np.array2string(features1, separator=',',threshold=np.inf, prefix='[', suffix=']')}, ignore_index=True)\n"
          ]
        },
        {
          "output_type": "stream",
          "name": "stdout",
          "text": [
            "feature1 shape:(41920,)\n",
            "feature1 shape:(41920,)\n"
          ]
        },
        {
          "output_type": "stream",
          "name": "stderr",
          "text": [
            "<ipython-input-11-0bbfc9674b69>:93: FutureWarning: The frame.append method is deprecated and will be removed from pandas in a future version. Use pandas.concat instead.\n",
            "  data = data.append({'emotion': temp, 'mel_spec_db': mel_spec_db, 'features1': np.array2string(features1, separator=',',threshold=np.inf, prefix='[', suffix=']')}, ignore_index=True)\n"
          ]
        },
        {
          "output_type": "stream",
          "name": "stdout",
          "text": [
            "feature1 shape:(41920,)\n",
            "feature1 shape:(41920,)\n"
          ]
        },
        {
          "output_type": "stream",
          "name": "stderr",
          "text": [
            "<ipython-input-11-0bbfc9674b69>:93: FutureWarning: The frame.append method is deprecated and will be removed from pandas in a future version. Use pandas.concat instead.\n",
            "  data = data.append({'emotion': temp, 'mel_spec_db': mel_spec_db, 'features1': np.array2string(features1, separator=',',threshold=np.inf, prefix='[', suffix=']')}, ignore_index=True)\n"
          ]
        },
        {
          "output_type": "stream",
          "name": "stdout",
          "text": [
            "feature1 shape:(41920,)\n",
            "feature1 shape:(41920,)\n"
          ]
        },
        {
          "output_type": "stream",
          "name": "stderr",
          "text": [
            "<ipython-input-11-0bbfc9674b69>:93: FutureWarning: The frame.append method is deprecated and will be removed from pandas in a future version. Use pandas.concat instead.\n",
            "  data = data.append({'emotion': temp, 'mel_spec_db': mel_spec_db, 'features1': np.array2string(features1, separator=',',threshold=np.inf, prefix='[', suffix=']')}, ignore_index=True)\n"
          ]
        },
        {
          "output_type": "stream",
          "name": "stdout",
          "text": [
            "feature1 shape:(41920,)\n",
            "feature1 shape:(41920,)\n"
          ]
        },
        {
          "output_type": "stream",
          "name": "stderr",
          "text": [
            "<ipython-input-11-0bbfc9674b69>:93: FutureWarning: The frame.append method is deprecated and will be removed from pandas in a future version. Use pandas.concat instead.\n",
            "  data = data.append({'emotion': temp, 'mel_spec_db': mel_spec_db, 'features1': np.array2string(features1, separator=',',threshold=np.inf, prefix='[', suffix=']')}, ignore_index=True)\n"
          ]
        },
        {
          "output_type": "stream",
          "name": "stdout",
          "text": [
            "feature1 shape:(41920,)\n",
            "feature1 shape:(41920,)\n"
          ]
        },
        {
          "output_type": "stream",
          "name": "stderr",
          "text": [
            "<ipython-input-11-0bbfc9674b69>:93: FutureWarning: The frame.append method is deprecated and will be removed from pandas in a future version. Use pandas.concat instead.\n",
            "  data = data.append({'emotion': temp, 'mel_spec_db': mel_spec_db, 'features1': np.array2string(features1, separator=',',threshold=np.inf, prefix='[', suffix=']')}, ignore_index=True)\n"
          ]
        },
        {
          "output_type": "stream",
          "name": "stdout",
          "text": [
            "feature1 shape:(41920,)\n",
            "feature1 shape:(41920,)\n"
          ]
        },
        {
          "output_type": "stream",
          "name": "stderr",
          "text": [
            "<ipython-input-11-0bbfc9674b69>:93: FutureWarning: The frame.append method is deprecated and will be removed from pandas in a future version. Use pandas.concat instead.\n",
            "  data = data.append({'emotion': temp, 'mel_spec_db': mel_spec_db, 'features1': np.array2string(features1, separator=',',threshold=np.inf, prefix='[', suffix=']')}, ignore_index=True)\n"
          ]
        },
        {
          "output_type": "stream",
          "name": "stdout",
          "text": [
            "feature1 shape:(41920,)\n",
            "feature1 shape:(41920,)\n"
          ]
        },
        {
          "output_type": "stream",
          "name": "stderr",
          "text": [
            "<ipython-input-11-0bbfc9674b69>:93: FutureWarning: The frame.append method is deprecated and will be removed from pandas in a future version. Use pandas.concat instead.\n",
            "  data = data.append({'emotion': temp, 'mel_spec_db': mel_spec_db, 'features1': np.array2string(features1, separator=',',threshold=np.inf, prefix='[', suffix=']')}, ignore_index=True)\n"
          ]
        },
        {
          "output_type": "stream",
          "name": "stdout",
          "text": [
            "feature1 shape:(41920,)\n",
            "feature1 shape:(41920,)\n"
          ]
        },
        {
          "output_type": "stream",
          "name": "stderr",
          "text": [
            "<ipython-input-11-0bbfc9674b69>:93: FutureWarning: The frame.append method is deprecated and will be removed from pandas in a future version. Use pandas.concat instead.\n",
            "  data = data.append({'emotion': temp, 'mel_spec_db': mel_spec_db, 'features1': np.array2string(features1, separator=',',threshold=np.inf, prefix='[', suffix=']')}, ignore_index=True)\n"
          ]
        },
        {
          "output_type": "stream",
          "name": "stdout",
          "text": [
            "feature1 shape:(41920,)\n",
            "feature1 shape:(41920,)\n"
          ]
        },
        {
          "output_type": "stream",
          "name": "stderr",
          "text": [
            "<ipython-input-11-0bbfc9674b69>:93: FutureWarning: The frame.append method is deprecated and will be removed from pandas in a future version. Use pandas.concat instead.\n",
            "  data = data.append({'emotion': temp, 'mel_spec_db': mel_spec_db, 'features1': np.array2string(features1, separator=',',threshold=np.inf, prefix='[', suffix=']')}, ignore_index=True)\n"
          ]
        },
        {
          "output_type": "stream",
          "name": "stdout",
          "text": [
            "feature1 shape:(41920,)\n",
            "feature1 shape:(41920,)\n"
          ]
        },
        {
          "output_type": "stream",
          "name": "stderr",
          "text": [
            "<ipython-input-11-0bbfc9674b69>:93: FutureWarning: The frame.append method is deprecated and will be removed from pandas in a future version. Use pandas.concat instead.\n",
            "  data = data.append({'emotion': temp, 'mel_spec_db': mel_spec_db, 'features1': np.array2string(features1, separator=',',threshold=np.inf, prefix='[', suffix=']')}, ignore_index=True)\n"
          ]
        },
        {
          "output_type": "stream",
          "name": "stdout",
          "text": [
            "feature1 shape:(41920,)\n",
            "feature1 shape:(41920,)\n"
          ]
        },
        {
          "output_type": "stream",
          "name": "stderr",
          "text": [
            "<ipython-input-11-0bbfc9674b69>:93: FutureWarning: The frame.append method is deprecated and will be removed from pandas in a future version. Use pandas.concat instead.\n",
            "  data = data.append({'emotion': temp, 'mel_spec_db': mel_spec_db, 'features1': np.array2string(features1, separator=',',threshold=np.inf, prefix='[', suffix=']')}, ignore_index=True)\n"
          ]
        },
        {
          "output_type": "stream",
          "name": "stdout",
          "text": [
            "feature1 shape:(41920,)\n",
            "feature1 shape:(41920,)\n"
          ]
        },
        {
          "output_type": "stream",
          "name": "stderr",
          "text": [
            "<ipython-input-11-0bbfc9674b69>:93: FutureWarning: The frame.append method is deprecated and will be removed from pandas in a future version. Use pandas.concat instead.\n",
            "  data = data.append({'emotion': temp, 'mel_spec_db': mel_spec_db, 'features1': np.array2string(features1, separator=',',threshold=np.inf, prefix='[', suffix=']')}, ignore_index=True)\n"
          ]
        },
        {
          "output_type": "stream",
          "name": "stdout",
          "text": [
            "feature1 shape:(41920,)\n",
            "feature1 shape:(41920,)\n"
          ]
        },
        {
          "output_type": "stream",
          "name": "stderr",
          "text": [
            "<ipython-input-11-0bbfc9674b69>:93: FutureWarning: The frame.append method is deprecated and will be removed from pandas in a future version. Use pandas.concat instead.\n",
            "  data = data.append({'emotion': temp, 'mel_spec_db': mel_spec_db, 'features1': np.array2string(features1, separator=',',threshold=np.inf, prefix='[', suffix=']')}, ignore_index=True)\n"
          ]
        },
        {
          "output_type": "stream",
          "name": "stdout",
          "text": [
            "feature1 shape:(41920,)\n",
            "feature1 shape:(41920,)\n"
          ]
        },
        {
          "output_type": "stream",
          "name": "stderr",
          "text": [
            "<ipython-input-11-0bbfc9674b69>:93: FutureWarning: The frame.append method is deprecated and will be removed from pandas in a future version. Use pandas.concat instead.\n",
            "  data = data.append({'emotion': temp, 'mel_spec_db': mel_spec_db, 'features1': np.array2string(features1, separator=',',threshold=np.inf, prefix='[', suffix=']')}, ignore_index=True)\n"
          ]
        },
        {
          "output_type": "stream",
          "name": "stdout",
          "text": [
            "feature1 shape:(41920,)\n",
            "feature1 shape:(41920,)\n"
          ]
        },
        {
          "output_type": "stream",
          "name": "stderr",
          "text": [
            "<ipython-input-11-0bbfc9674b69>:93: FutureWarning: The frame.append method is deprecated and will be removed from pandas in a future version. Use pandas.concat instead.\n",
            "  data = data.append({'emotion': temp, 'mel_spec_db': mel_spec_db, 'features1': np.array2string(features1, separator=',',threshold=np.inf, prefix='[', suffix=']')}, ignore_index=True)\n"
          ]
        },
        {
          "output_type": "stream",
          "name": "stdout",
          "text": [
            "feature1 shape:(41920,)\n",
            "feature1 shape:(41920,)\n"
          ]
        },
        {
          "output_type": "stream",
          "name": "stderr",
          "text": [
            "<ipython-input-11-0bbfc9674b69>:93: FutureWarning: The frame.append method is deprecated and will be removed from pandas in a future version. Use pandas.concat instead.\n",
            "  data = data.append({'emotion': temp, 'mel_spec_db': mel_spec_db, 'features1': np.array2string(features1, separator=',',threshold=np.inf, prefix='[', suffix=']')}, ignore_index=True)\n"
          ]
        },
        {
          "output_type": "stream",
          "name": "stdout",
          "text": [
            "feature1 shape:(41920,)\n",
            "feature1 shape:(41920,)\n"
          ]
        },
        {
          "output_type": "stream",
          "name": "stderr",
          "text": [
            "<ipython-input-11-0bbfc9674b69>:93: FutureWarning: The frame.append method is deprecated and will be removed from pandas in a future version. Use pandas.concat instead.\n",
            "  data = data.append({'emotion': temp, 'mel_spec_db': mel_spec_db, 'features1': np.array2string(features1, separator=',',threshold=np.inf, prefix='[', suffix=']')}, ignore_index=True)\n"
          ]
        },
        {
          "output_type": "stream",
          "name": "stdout",
          "text": [
            "feature1 shape:(41920,)\n",
            "feature1 shape:(41920,)\n"
          ]
        },
        {
          "output_type": "stream",
          "name": "stderr",
          "text": [
            "<ipython-input-11-0bbfc9674b69>:93: FutureWarning: The frame.append method is deprecated and will be removed from pandas in a future version. Use pandas.concat instead.\n",
            "  data = data.append({'emotion': temp, 'mel_spec_db': mel_spec_db, 'features1': np.array2string(features1, separator=',',threshold=np.inf, prefix='[', suffix=']')}, ignore_index=True)\n"
          ]
        },
        {
          "output_type": "stream",
          "name": "stdout",
          "text": [
            "feature1 shape:(41920,)\n",
            "feature1 shape:(41920,)\n"
          ]
        },
        {
          "output_type": "stream",
          "name": "stderr",
          "text": [
            "<ipython-input-11-0bbfc9674b69>:93: FutureWarning: The frame.append method is deprecated and will be removed from pandas in a future version. Use pandas.concat instead.\n",
            "  data = data.append({'emotion': temp, 'mel_spec_db': mel_spec_db, 'features1': np.array2string(features1, separator=',',threshold=np.inf, prefix='[', suffix=']')}, ignore_index=True)\n"
          ]
        },
        {
          "output_type": "stream",
          "name": "stdout",
          "text": [
            "feature1 shape:(41920,)\n",
            "feature1 shape:(41920,)\n"
          ]
        },
        {
          "output_type": "stream",
          "name": "stderr",
          "text": [
            "<ipython-input-11-0bbfc9674b69>:93: FutureWarning: The frame.append method is deprecated and will be removed from pandas in a future version. Use pandas.concat instead.\n",
            "  data = data.append({'emotion': temp, 'mel_spec_db': mel_spec_db, 'features1': np.array2string(features1, separator=',',threshold=np.inf, prefix='[', suffix=']')}, ignore_index=True)\n"
          ]
        },
        {
          "output_type": "stream",
          "name": "stdout",
          "text": [
            "feature1 shape:(41920,)\n",
            "feature1 shape:(41920,)\n"
          ]
        },
        {
          "output_type": "stream",
          "name": "stderr",
          "text": [
            "<ipython-input-11-0bbfc9674b69>:93: FutureWarning: The frame.append method is deprecated and will be removed from pandas in a future version. Use pandas.concat instead.\n",
            "  data = data.append({'emotion': temp, 'mel_spec_db': mel_spec_db, 'features1': np.array2string(features1, separator=',',threshold=np.inf, prefix='[', suffix=']')}, ignore_index=True)\n"
          ]
        },
        {
          "output_type": "stream",
          "name": "stdout",
          "text": [
            "feature1 shape:(41920,)\n",
            "feature1 shape:(41920,)\n"
          ]
        },
        {
          "output_type": "stream",
          "name": "stderr",
          "text": [
            "<ipython-input-11-0bbfc9674b69>:93: FutureWarning: The frame.append method is deprecated and will be removed from pandas in a future version. Use pandas.concat instead.\n",
            "  data = data.append({'emotion': temp, 'mel_spec_db': mel_spec_db, 'features1': np.array2string(features1, separator=',',threshold=np.inf, prefix='[', suffix=']')}, ignore_index=True)\n"
          ]
        },
        {
          "output_type": "stream",
          "name": "stdout",
          "text": [
            "feature1 shape:(41920,)\n",
            "feature1 shape:(41920,)\n"
          ]
        },
        {
          "output_type": "stream",
          "name": "stderr",
          "text": [
            "<ipython-input-11-0bbfc9674b69>:93: FutureWarning: The frame.append method is deprecated and will be removed from pandas in a future version. Use pandas.concat instead.\n",
            "  data = data.append({'emotion': temp, 'mel_spec_db': mel_spec_db, 'features1': np.array2string(features1, separator=',',threshold=np.inf, prefix='[', suffix=']')}, ignore_index=True)\n"
          ]
        },
        {
          "output_type": "stream",
          "name": "stdout",
          "text": [
            "feature1 shape:(41920,)\n",
            "feature1 shape:(41920,)\n"
          ]
        },
        {
          "output_type": "stream",
          "name": "stderr",
          "text": [
            "<ipython-input-11-0bbfc9674b69>:93: FutureWarning: The frame.append method is deprecated and will be removed from pandas in a future version. Use pandas.concat instead.\n",
            "  data = data.append({'emotion': temp, 'mel_spec_db': mel_spec_db, 'features1': np.array2string(features1, separator=',',threshold=np.inf, prefix='[', suffix=']')}, ignore_index=True)\n"
          ]
        },
        {
          "output_type": "stream",
          "name": "stdout",
          "text": [
            "feature1 shape:(41920,)\n",
            "feature1 shape:(41920,)\n"
          ]
        },
        {
          "output_type": "stream",
          "name": "stderr",
          "text": [
            "<ipython-input-11-0bbfc9674b69>:93: FutureWarning: The frame.append method is deprecated and will be removed from pandas in a future version. Use pandas.concat instead.\n",
            "  data = data.append({'emotion': temp, 'mel_spec_db': mel_spec_db, 'features1': np.array2string(features1, separator=',',threshold=np.inf, prefix='[', suffix=']')}, ignore_index=True)\n"
          ]
        },
        {
          "output_type": "stream",
          "name": "stdout",
          "text": [
            "feature1 shape:(41920,)\n",
            "feature1 shape:(41920,)\n"
          ]
        },
        {
          "output_type": "stream",
          "name": "stderr",
          "text": [
            "<ipython-input-11-0bbfc9674b69>:93: FutureWarning: The frame.append method is deprecated and will be removed from pandas in a future version. Use pandas.concat instead.\n",
            "  data = data.append({'emotion': temp, 'mel_spec_db': mel_spec_db, 'features1': np.array2string(features1, separator=',',threshold=np.inf, prefix='[', suffix=']')}, ignore_index=True)\n"
          ]
        },
        {
          "output_type": "stream",
          "name": "stdout",
          "text": [
            "feature1 shape:(41920,)\n",
            "feature1 shape:(41920,)\n"
          ]
        },
        {
          "output_type": "stream",
          "name": "stderr",
          "text": [
            "<ipython-input-11-0bbfc9674b69>:93: FutureWarning: The frame.append method is deprecated and will be removed from pandas in a future version. Use pandas.concat instead.\n",
            "  data = data.append({'emotion': temp, 'mel_spec_db': mel_spec_db, 'features1': np.array2string(features1, separator=',',threshold=np.inf, prefix='[', suffix=']')}, ignore_index=True)\n"
          ]
        },
        {
          "output_type": "stream",
          "name": "stdout",
          "text": [
            "feature1 shape:(41920,)\n",
            "feature1 shape:(41920,)\n"
          ]
        },
        {
          "output_type": "stream",
          "name": "stderr",
          "text": [
            "<ipython-input-11-0bbfc9674b69>:93: FutureWarning: The frame.append method is deprecated and will be removed from pandas in a future version. Use pandas.concat instead.\n",
            "  data = data.append({'emotion': temp, 'mel_spec_db': mel_spec_db, 'features1': np.array2string(features1, separator=',',threshold=np.inf, prefix='[', suffix=']')}, ignore_index=True)\n"
          ]
        },
        {
          "output_type": "stream",
          "name": "stdout",
          "text": [
            "feature1 shape:(41920,)\n",
            "feature1 shape:(41920,)\n"
          ]
        },
        {
          "output_type": "stream",
          "name": "stderr",
          "text": [
            "<ipython-input-11-0bbfc9674b69>:93: FutureWarning: The frame.append method is deprecated and will be removed from pandas in a future version. Use pandas.concat instead.\n",
            "  data = data.append({'emotion': temp, 'mel_spec_db': mel_spec_db, 'features1': np.array2string(features1, separator=',',threshold=np.inf, prefix='[', suffix=']')}, ignore_index=True)\n"
          ]
        },
        {
          "output_type": "stream",
          "name": "stdout",
          "text": [
            "feature1 shape:(41920,)\n",
            "feature1 shape:(41920,)\n"
          ]
        },
        {
          "output_type": "stream",
          "name": "stderr",
          "text": [
            "<ipython-input-11-0bbfc9674b69>:93: FutureWarning: The frame.append method is deprecated and will be removed from pandas in a future version. Use pandas.concat instead.\n",
            "  data = data.append({'emotion': temp, 'mel_spec_db': mel_spec_db, 'features1': np.array2string(features1, separator=',',threshold=np.inf, prefix='[', suffix=']')}, ignore_index=True)\n"
          ]
        },
        {
          "output_type": "stream",
          "name": "stdout",
          "text": [
            "feature1 shape:(41920,)\n",
            "feature1 shape:(41920,)\n"
          ]
        },
        {
          "output_type": "stream",
          "name": "stderr",
          "text": [
            "<ipython-input-11-0bbfc9674b69>:93: FutureWarning: The frame.append method is deprecated and will be removed from pandas in a future version. Use pandas.concat instead.\n",
            "  data = data.append({'emotion': temp, 'mel_spec_db': mel_spec_db, 'features1': np.array2string(features1, separator=',',threshold=np.inf, prefix='[', suffix=']')}, ignore_index=True)\n"
          ]
        },
        {
          "output_type": "stream",
          "name": "stdout",
          "text": [
            "feature1 shape:(41920,)\n",
            "feature1 shape:(41920,)\n"
          ]
        },
        {
          "output_type": "stream",
          "name": "stderr",
          "text": [
            "<ipython-input-11-0bbfc9674b69>:93: FutureWarning: The frame.append method is deprecated and will be removed from pandas in a future version. Use pandas.concat instead.\n",
            "  data = data.append({'emotion': temp, 'mel_spec_db': mel_spec_db, 'features1': np.array2string(features1, separator=',',threshold=np.inf, prefix='[', suffix=']')}, ignore_index=True)\n"
          ]
        },
        {
          "output_type": "stream",
          "name": "stdout",
          "text": [
            "feature1 shape:(41920,)\n",
            "feature1 shape:(41920,)\n"
          ]
        },
        {
          "output_type": "stream",
          "name": "stderr",
          "text": [
            "<ipython-input-11-0bbfc9674b69>:93: FutureWarning: The frame.append method is deprecated and will be removed from pandas in a future version. Use pandas.concat instead.\n",
            "  data = data.append({'emotion': temp, 'mel_spec_db': mel_spec_db, 'features1': np.array2string(features1, separator=',',threshold=np.inf, prefix='[', suffix=']')}, ignore_index=True)\n"
          ]
        },
        {
          "output_type": "stream",
          "name": "stdout",
          "text": [
            "feature1 shape:(41920,)\n",
            "feature1 shape:(41920,)\n"
          ]
        },
        {
          "output_type": "stream",
          "name": "stderr",
          "text": [
            "<ipython-input-11-0bbfc9674b69>:93: FutureWarning: The frame.append method is deprecated and will be removed from pandas in a future version. Use pandas.concat instead.\n",
            "  data = data.append({'emotion': temp, 'mel_spec_db': mel_spec_db, 'features1': np.array2string(features1, separator=',',threshold=np.inf, prefix='[', suffix=']')}, ignore_index=True)\n"
          ]
        },
        {
          "output_type": "stream",
          "name": "stdout",
          "text": [
            "feature1 shape:(41920,)\n",
            "feature1 shape:(41920,)\n"
          ]
        },
        {
          "output_type": "stream",
          "name": "stderr",
          "text": [
            "<ipython-input-11-0bbfc9674b69>:93: FutureWarning: The frame.append method is deprecated and will be removed from pandas in a future version. Use pandas.concat instead.\n",
            "  data = data.append({'emotion': temp, 'mel_spec_db': mel_spec_db, 'features1': np.array2string(features1, separator=',',threshold=np.inf, prefix='[', suffix=']')}, ignore_index=True)\n"
          ]
        },
        {
          "output_type": "stream",
          "name": "stdout",
          "text": [
            "feature1 shape:(41920,)\n",
            "feature1 shape:(41920,)\n"
          ]
        },
        {
          "output_type": "stream",
          "name": "stderr",
          "text": [
            "<ipython-input-11-0bbfc9674b69>:93: FutureWarning: The frame.append method is deprecated and will be removed from pandas in a future version. Use pandas.concat instead.\n",
            "  data = data.append({'emotion': temp, 'mel_spec_db': mel_spec_db, 'features1': np.array2string(features1, separator=',',threshold=np.inf, prefix='[', suffix=']')}, ignore_index=True)\n"
          ]
        },
        {
          "output_type": "stream",
          "name": "stdout",
          "text": [
            "feature1 shape:(41920,)\n",
            "feature1 shape:(41920,)\n"
          ]
        },
        {
          "output_type": "stream",
          "name": "stderr",
          "text": [
            "<ipython-input-11-0bbfc9674b69>:93: FutureWarning: The frame.append method is deprecated and will be removed from pandas in a future version. Use pandas.concat instead.\n",
            "  data = data.append({'emotion': temp, 'mel_spec_db': mel_spec_db, 'features1': np.array2string(features1, separator=',',threshold=np.inf, prefix='[', suffix=']')}, ignore_index=True)\n"
          ]
        },
        {
          "output_type": "stream",
          "name": "stdout",
          "text": [
            "feature1 shape:(41920,)\n",
            "feature1 shape:(41920,)\n"
          ]
        },
        {
          "output_type": "stream",
          "name": "stderr",
          "text": [
            "<ipython-input-11-0bbfc9674b69>:93: FutureWarning: The frame.append method is deprecated and will be removed from pandas in a future version. Use pandas.concat instead.\n",
            "  data = data.append({'emotion': temp, 'mel_spec_db': mel_spec_db, 'features1': np.array2string(features1, separator=',',threshold=np.inf, prefix='[', suffix=']')}, ignore_index=True)\n"
          ]
        },
        {
          "output_type": "stream",
          "name": "stdout",
          "text": [
            "feature1 shape:(41920,)\n",
            "feature1 shape:(41920,)\n"
          ]
        },
        {
          "output_type": "stream",
          "name": "stderr",
          "text": [
            "<ipython-input-11-0bbfc9674b69>:93: FutureWarning: The frame.append method is deprecated and will be removed from pandas in a future version. Use pandas.concat instead.\n",
            "  data = data.append({'emotion': temp, 'mel_spec_db': mel_spec_db, 'features1': np.array2string(features1, separator=',',threshold=np.inf, prefix='[', suffix=']')}, ignore_index=True)\n"
          ]
        },
        {
          "output_type": "stream",
          "name": "stdout",
          "text": [
            "feature1 shape:(41920,)\n",
            "feature1 shape:(41920,)\n"
          ]
        },
        {
          "output_type": "stream",
          "name": "stderr",
          "text": [
            "<ipython-input-11-0bbfc9674b69>:93: FutureWarning: The frame.append method is deprecated and will be removed from pandas in a future version. Use pandas.concat instead.\n",
            "  data = data.append({'emotion': temp, 'mel_spec_db': mel_spec_db, 'features1': np.array2string(features1, separator=',',threshold=np.inf, prefix='[', suffix=']')}, ignore_index=True)\n"
          ]
        },
        {
          "output_type": "stream",
          "name": "stdout",
          "text": [
            "feature1 shape:(41920,)\n",
            "feature1 shape:(41920,)\n"
          ]
        },
        {
          "output_type": "stream",
          "name": "stderr",
          "text": [
            "<ipython-input-11-0bbfc9674b69>:93: FutureWarning: The frame.append method is deprecated and will be removed from pandas in a future version. Use pandas.concat instead.\n",
            "  data = data.append({'emotion': temp, 'mel_spec_db': mel_spec_db, 'features1': np.array2string(features1, separator=',',threshold=np.inf, prefix='[', suffix=']')}, ignore_index=True)\n"
          ]
        },
        {
          "output_type": "stream",
          "name": "stdout",
          "text": [
            "feature1 shape:(41920,)\n",
            "feature1 shape:(41920,)\n"
          ]
        },
        {
          "output_type": "stream",
          "name": "stderr",
          "text": [
            "<ipython-input-11-0bbfc9674b69>:93: FutureWarning: The frame.append method is deprecated and will be removed from pandas in a future version. Use pandas.concat instead.\n",
            "  data = data.append({'emotion': temp, 'mel_spec_db': mel_spec_db, 'features1': np.array2string(features1, separator=',',threshold=np.inf, prefix='[', suffix=']')}, ignore_index=True)\n"
          ]
        },
        {
          "output_type": "stream",
          "name": "stdout",
          "text": [
            "feature1 shape:(41920,)\n",
            "feature1 shape:(41920,)\n"
          ]
        },
        {
          "output_type": "stream",
          "name": "stderr",
          "text": [
            "<ipython-input-11-0bbfc9674b69>:93: FutureWarning: The frame.append method is deprecated and will be removed from pandas in a future version. Use pandas.concat instead.\n",
            "  data = data.append({'emotion': temp, 'mel_spec_db': mel_spec_db, 'features1': np.array2string(features1, separator=',',threshold=np.inf, prefix='[', suffix=']')}, ignore_index=True)\n"
          ]
        },
        {
          "output_type": "stream",
          "name": "stdout",
          "text": [
            "feature1 shape:(41920,)\n",
            "feature1 shape:(41920,)\n"
          ]
        },
        {
          "output_type": "stream",
          "name": "stderr",
          "text": [
            "<ipython-input-11-0bbfc9674b69>:93: FutureWarning: The frame.append method is deprecated and will be removed from pandas in a future version. Use pandas.concat instead.\n",
            "  data = data.append({'emotion': temp, 'mel_spec_db': mel_spec_db, 'features1': np.array2string(features1, separator=',',threshold=np.inf, prefix='[', suffix=']')}, ignore_index=True)\n"
          ]
        },
        {
          "output_type": "stream",
          "name": "stdout",
          "text": [
            "feature1 shape:(41920,)\n",
            "feature1 shape:(41920,)\n"
          ]
        },
        {
          "output_type": "stream",
          "name": "stderr",
          "text": [
            "<ipython-input-11-0bbfc9674b69>:93: FutureWarning: The frame.append method is deprecated and will be removed from pandas in a future version. Use pandas.concat instead.\n",
            "  data = data.append({'emotion': temp, 'mel_spec_db': mel_spec_db, 'features1': np.array2string(features1, separator=',',threshold=np.inf, prefix='[', suffix=']')}, ignore_index=True)\n"
          ]
        },
        {
          "output_type": "stream",
          "name": "stdout",
          "text": [
            "feature1 shape:(41920,)\n",
            "feature1 shape:(41920,)\n"
          ]
        },
        {
          "output_type": "stream",
          "name": "stderr",
          "text": [
            "<ipython-input-11-0bbfc9674b69>:93: FutureWarning: The frame.append method is deprecated and will be removed from pandas in a future version. Use pandas.concat instead.\n",
            "  data = data.append({'emotion': temp, 'mel_spec_db': mel_spec_db, 'features1': np.array2string(features1, separator=',',threshold=np.inf, prefix='[', suffix=']')}, ignore_index=True)\n"
          ]
        },
        {
          "output_type": "stream",
          "name": "stdout",
          "text": [
            "feature1 shape:(41920,)\n",
            "feature1 shape:(41920,)\n"
          ]
        },
        {
          "output_type": "stream",
          "name": "stderr",
          "text": [
            "<ipython-input-11-0bbfc9674b69>:93: FutureWarning: The frame.append method is deprecated and will be removed from pandas in a future version. Use pandas.concat instead.\n",
            "  data = data.append({'emotion': temp, 'mel_spec_db': mel_spec_db, 'features1': np.array2string(features1, separator=',',threshold=np.inf, prefix='[', suffix=']')}, ignore_index=True)\n"
          ]
        },
        {
          "output_type": "stream",
          "name": "stdout",
          "text": [
            "feature1 shape:(41920,)\n",
            "feature1 shape:(41920,)\n"
          ]
        },
        {
          "output_type": "stream",
          "name": "stderr",
          "text": [
            "<ipython-input-11-0bbfc9674b69>:93: FutureWarning: The frame.append method is deprecated and will be removed from pandas in a future version. Use pandas.concat instead.\n",
            "  data = data.append({'emotion': temp, 'mel_spec_db': mel_spec_db, 'features1': np.array2string(features1, separator=',',threshold=np.inf, prefix='[', suffix=']')}, ignore_index=True)\n"
          ]
        },
        {
          "output_type": "stream",
          "name": "stdout",
          "text": [
            "feature1 shape:(41920,)\n",
            "feature1 shape:(41920,)\n"
          ]
        },
        {
          "output_type": "stream",
          "name": "stderr",
          "text": [
            "<ipython-input-11-0bbfc9674b69>:93: FutureWarning: The frame.append method is deprecated and will be removed from pandas in a future version. Use pandas.concat instead.\n",
            "  data = data.append({'emotion': temp, 'mel_spec_db': mel_spec_db, 'features1': np.array2string(features1, separator=',',threshold=np.inf, prefix='[', suffix=']')}, ignore_index=True)\n"
          ]
        }
      ],
      "source": [
        "from librosa.feature.spectral import zero_crossing_rate\n",
        "# Path to directory containing audio files\n",
        "audio_path = '/content/drive/MyDrive/assignment3/Crema'\n",
        "\n",
        "data = pd.DataFrame(columns=['emotion', 'mel_spec_db', 'features1'])\n",
        "smallest=100\n",
        "mel_spec_db=0\n",
        "\n",
        "# Loop over each emotion in list\n",
        "for emotion in emotions:\n",
        "    # Get the file paths for this emotion\n",
        "    emotion_file = [os.path.join(audio_path, f) for f in os.listdir(audio_path) if f.endswith('.wav') and f.split('_')[2] == emotion]\n",
        "    # Load and plot the audio for this emotion\n",
        "    i=0\n",
        "    for file_path in emotion_file:\n",
        "        i=i+1\n",
        "        if i>100:\n",
        "          break\n",
        "        # Load audio file\n",
        "        audio, sr = librosa.load(file_path, sr=None)\n",
        "        # audio = np.concatenate([audio,audio,audio,audio])\n",
        "        audio=audio[:20000]\n",
        "\n",
        "        mfcc = librosa.feature.mfcc(y=audio,sr=sr)\n",
        "        stft = np.abs(librosa.stft(audio))\n",
        "        zcr = librosa.feature.zero_crossing_rate(audio)\n",
        "        f0 = librosa.yin(audio, fmin=80, fmax=400, sr=sr)\n",
        "        f0=f0.reshape(1,f0.shape[0])\n",
        "        spectral_centroids = librosa.feature.spectral_centroid(y=audio, sr=sr)\n",
        "      \n",
        "\n",
        "        # print(\"STFT shape:\", stft.shape)\n",
        "        # print(\"MFCC shape:\", mfcc.shape)\n",
        "        # print(\"ZCR shape:\", zcr.shape)\n",
        "        # print(\"Pitch shape:\", f0.shape)\n",
        "        # print(\"Spectral Centroid shape:\", spectral_centroids.shape)\n",
        "        # if stft.shape[1]<smallest:\n",
        "        #   smallest=stft.shape[1]\n",
        "        # print(smallest)\n",
        "\n",
        "        # max_length = max(mfcc.shape[1], stft.shape[1], zcr.shape[1], f0.shape[1], spectral_centroids.shape[1])\n",
        "        # max_length =158\n",
        "        # mfcc = np.pad(mfcc, ((0, 0), (0, max_length - mfcc.shape[1])), mode='constant')\n",
        "        # stft = np.pad(stft, ((0, 0), (0, max_length - stft.shape[1])), mode='constant')\n",
        "        # zcr = np.pad(zcr, ((0, 0), (0, max_length - zcr.shape[1])), mode='constant')\n",
        "        # f0 = np.pad(f0, ((0, 0), (0, max_length - f0.shape[1])), mode='constant')\n",
        "        # spectral_centroids = np.pad(spectral_centroids, ((0, 0), (0, max_length - spectral_centroids.shape[1])), mode='constant')\n",
        "\n",
        "\n",
        "        # print(\"STFT shape:\", stft.shape)\n",
        "        # print(\"MFCC shape:\", mfcc.shape)\n",
        "        # print(\"ZCR shape:\", zcr.shape)\n",
        "        # print(\"Pitch shape:\", f0.shape)\n",
        "        # print(\"Spectral Centroid shape:\", spectral_centroids.shape)\n",
        "\n",
        "\n",
        "        mfcc_normalized = (mfcc - np.mean(mfcc)) / np.std(mfcc)\n",
        "        stft_normalized = (stft - np.mean(stft)) / np.std(stft)\n",
        "        zcr_normalized = (zcr - np.mean(zcr)) / np.std(zcr)\n",
        "        f0_normalized = (f0 - np.mean(f0)) / np.std(f0)\n",
        "        spectral_centroids_normalized = (spectral_centroids - np.mean(spectral_centroids)) / np.std(spectral_centroids)\n",
        "\n",
        "\n",
        "        # features = np.vstack((np.transpose(mfcc_normalized), zcr_normalized, stft_normalized, f0_normalized,spectral_centroids_normalized)).transpose()\n",
        "        # features1 = np.vstack((mfcc_normalized, zcr_normalized, stft_normalized, f0_normalized, spectral_centroids_normalized)).T\n",
        "        features1=np.concatenate((mfcc_normalized.flatten(),stft_normalized.flatten(),zcr_normalized.flatten(),f0_normalized.flatten(),spectral_centroids_normalized.flatten()),axis=0)\n",
        "        print(f'feature1 shape:{features1.shape}')\n",
        "        # features1=np.reshape(features1, (1, 41920, 1))\n",
        "        print(f'feature1 shape:{features1.shape}')\n",
        "\n",
        "\n",
        "        frame_length = len(audio)\n",
        "        energy = calculate_energy(audio, frame_length)\n",
        "        # print(energy)\n",
        "\n",
        "                              # mel_spec = librosa.feature.melspectrogram(y=audio, sr=sr)\n",
        "                              # mel_spec_db = librosa.power_to_db(mel_spec, ref=np.max)\n",
        "\n",
        "        # signs = np.sign(audio)\n",
        "        # signs[signs == 0] = -1\n",
        "\n",
        "        # zero_crossing_rate= len(np.where(np.diff(signs))[0])/len(audio)\n",
        "\n",
        "        # hena el mfrood na5od el data nsayevha fe 7etta \n",
        "        # 3andena el label (emotion) w features (mel_spec_db w zero_crossing_rate)\n",
        "        temp='no'\n",
        "        ['ANG', 'DIS', 'FEA', 'HAP', 'NEU', 'SAD']\n",
        "        for j in range(6):\n",
        "          if emotion==emotions[j]:\n",
        "            temp=j\n",
        "\n",
        "        np.set_printoptions(threshold=np.inf)\n",
        "        data = data.append({'emotion': temp, 'mel_spec_db': mel_spec_db, 'features1': np.array2string(features1, separator=',',threshold=np.inf, prefix='[', suffix=']')}, ignore_index=True)\n",
        "        # print(np.array2string(features1, separator=',',threshold=np.inf, prefix='[', suffix=']'))\n",
        "\n",
        "        # Display the mel spectrogram\n",
        "\n",
        "        # plt.figure(figsize=(10, 4))\n",
        "        # librosa.display.specshow(mel_spec_db, x_axis='time', y_axis='mel', sr=sr)\n",
        "        # plt.colorbar(format='%+2.0f dB')\n",
        "        # plt.title('Mel spectrogram')\n",
        "        # plt.tight_layout()\n",
        "        # plt.show()\n",
        "\n",
        "\n",
        "        # Plot waveform\n",
        "\n",
        "        # plt.figure()\n",
        "        # plt.title(f'Waveform for {emotion}: {file_path}')\n",
        "        # plt.xlabel('Time (s)')\n",
        "        # plt.ylabel('Amplitude')\n",
        "        # plt.plot(audio)\n",
        "        # plt.show()\n"
      ]
    },
    {
      "cell_type": "code",
      "execution_count": 12,
      "metadata": {
        "id": "YAPDPNtTUbW9"
      },
      "outputs": [],
      "source": [
        "# Save DataFrame to CSV file\n",
        "data.to_csv('audio_features.csv', index=False)"
      ]
    },
    {
      "cell_type": "code",
      "execution_count": 13,
      "metadata": {
        "id": "z_fF2AHAFTS7"
      },
      "outputs": [],
      "source": [
        "# Load the data\n",
        "data = pd.read_csv('audio_features.csv')\n",
        "\n",
        "# Split the data into training/validation and testing sets\n",
        "X_train_val, X_test, y_train_val, y_test = train_test_split(data['features1'], data['emotion'], test_size=0.3, random_state=42, stratify=data['emotion'])\n",
        "\n",
        "# print(type(np.array(X_train_val.iloc[3])[0]))\n",
        "\n",
        "# Further split the training/validation set into training and validation sets\n",
        "X_train, X_val, y_train, y_val = train_test_split(X_train_val, y_train_val, test_size=0.05, random_state=42, stratify=y_train_val)\n"
      ]
    },
    {
      "cell_type": "code",
      "execution_count": null,
      "metadata": {
        "id": "yEiMrlwOnq0z"
      },
      "outputs": [],
      "source": [
        "print(data['features1'][0].shape)"
      ]
    },
    {
      "cell_type": "code",
      "execution_count": null,
      "metadata": {
        "id": "LUU49RnSsjZL"
      },
      "outputs": [],
      "source": [
        "# model = tf.keras.Sequential()\n",
        "# model.add(tf.keras.layers.Reshape((41920, 1), input_shape=(41920,)))  # Reshape the input to (41920, 1)\n",
        "# model.add(tf.keras.layers.Conv1D(32, 1000, activation='relu'))\n",
        "# model.add(tf.keras.layers.MaxPooling1D(2))\n",
        "# model.add(tf.keras.layers.Conv1D(64, 10, activation='relu'))\n",
        "# model.add(tf.keras.layers.MaxPooling1D(2))\n",
        "# model.add(tf.keras.layers.Conv1D(128, 10, activation='relu'))\n",
        "# model.add(tf.keras.layers.GlobalAveragePooling1D())\n",
        "# model.add(tf.keras.layers.Dense(1, activation='sigmoid'))\n",
        "\n",
        "\n",
        "\n",
        "# model.compile(loss='binary_crossentropy', optimizer='sgd', metrics='accuracy')\n",
        "# model.summary()"
      ]
    },
    {
      "cell_type": "code",
      "source": [
        "# model = Sequential()\n",
        "# model.add(tf.keras.layers.Reshape((41920, 1), input_shape=(41920,)))\n",
        "# model.add(Conv1D(128, 3, activation='relu'))\n",
        "# model.add(Conv1D(128, 3, activation='relu'))\n",
        "# model.add(MaxPooling1D(pool_size=3, strides=1))\n",
        "# model.add(Conv1D(256, 3, activation='relu'))\n",
        "# model.add(MaxPooling1D(pool_size=3, strides=1))\n",
        "# model.add(Conv1D(256, 3, activation='relu'))\n",
        "# model.add(MaxPooling1D(pool_size=3, strides=1))\n",
        "# model.add(Conv1D(256, 3, activation='relu'))\n",
        "# model.add(MaxPooling1D(pool_size=3, strides=1))\n",
        "# model.add(Conv1D(256, 3, activation='relu'))\n",
        "# model.add(MaxPooling1D(pool_size=3, strides=1))\n",
        "# model.add(Conv1D(256, 3, activation='relu'))\n",
        "# model.add(MaxPooling1D(pool_size=3, strides=1))\n",
        "# model.add(Conv1D(512, 3, activation='relu'))\n",
        "# model.add(MaxPooling1D(pool_size=3, strides=1))\n",
        "# model.add(Conv1D(512, 1, activation='relu'))\n",
        "# model.add(Dense(10, activation='softmax'))\n",
        "# model.compile(loss='binary_crossentropy', optimizer='sgd', metrics='accuracy')\n"
      ],
      "metadata": {
        "id": "096J1QQsvXUK"
      },
      "execution_count": null,
      "outputs": []
    },
    {
      "cell_type": "code",
      "execution_count": 15,
      "metadata": {
        "id": "ebkRKO684iRk"
      },
      "outputs": [],
      "source": [
        "X_train = np.array(X_train)\n",
        "y_train = np.array(y_train)\n",
        "X_val = np.array(X_val)\n",
        "y_val = np.array(y_val)\n",
        "new_val=np.zeros((X_val.shape[0],41920))\n",
        "i=0\n",
        "for tupl in X_val:\n",
        "  tupl=tupl.replace('\\n', '')\n",
        "  tupl=tupl.replace(' ', '')\n",
        "  tup= tupl.strip('[]').split(',')\n",
        "  new_val[i]=np.array(tup)\n",
        "  i=i+1\n",
        "new_val = np.array([[float(element) for element in row] for row in new_val])\n",
        "new_y_val= np.array(y_val).reshape(-1, 1)\n",
        "new_y_val = np.array([[float(element) for element in row] for row in new_y_val])\n",
        "\n",
        "\n",
        "new_train=np.zeros((X_train.shape[0],41920))\n",
        "i=0\n",
        "for tupl in X_train:\n",
        "  tupl=tupl.replace('\\n', '')\n",
        "  tupl=tupl.replace(' ', '')\n",
        "  tup= tupl.strip('[]').split(',')\n",
        "  new_train[i]=np.array(tup)\n",
        "  i=i+1\n",
        "new_train = np.array([[float(element) for element in row] for row in new_train])\n",
        "new_y_train= np.array(y_train).reshape(-1, 1)\n",
        "new_y_train = np.array([[float(element) for element in row] for row in new_y_train])\n",
        "# label_encoder = LabelEncoder()\n",
        "# label_encoder.fit(new_y_train)\n",
        "# numbers = label_encoder.transform(new_y_train)\n",
        "\n",
        "# model.fit(new_train, numbers, epochs=1000)\n",
        "# model.compile(optimizer='adam',loss='categorical_crossentropy',metrics=['accuracy'])\n",
        "# model.fit(new_train, np.array(y_train), epochs=10)\n",
        "# model.fit(new_train, np.array(y_train), epochs=10, validation_data=(X_val, y_val))"
      ]
    },
    {
      "cell_type": "code",
      "source": [
        "#best 23\n",
        "nclass = 6\n",
        "inp = Input(shape=(41920, 1))\n",
        "img_1 = Conv1D(16, kernel_size=9, activation=activations.relu, padding=\"valid\")(inp)\n",
        "img_1 = Conv1D(16, kernel_size=9, activation=activations.relu, padding=\"valid\")(img_1)\n",
        "img_1 = MaxPool1D(pool_size=16)(img_1)\n",
        "img_1 = Dropout(rate=0.1)(img_1)\n",
        "img_1 = Conv1D(32, kernel_size=3, activation=activations.relu, padding=\"valid\")(img_1)\n",
        "img_1 = Conv1D(32, kernel_size=3, activation=activations.relu, padding=\"valid\")(img_1)\n",
        "img_1 = MaxPool1D(pool_size=4)(img_1)\n",
        "img_1 = Dropout(rate=0.1)(img_1)\n",
        "img_1 = Conv1D(32, kernel_size=3, activation=activations.relu, padding=\"valid\")(img_1)\n",
        "img_1 = Conv1D(32, kernel_size=3, activation=activations.relu, padding=\"valid\")(img_1)\n",
        "img_1 = MaxPool1D(pool_size=4)(img_1)\n",
        "img_1 = Dropout(rate=0.1)(img_1)\n",
        "img_1 = Conv1D(256, kernel_size=3, activation=activations.relu, padding=\"valid\")(img_1)\n",
        "img_1 = Conv1D(256, kernel_size=3, activation=activations.relu, padding=\"valid\")(img_1)\n",
        "img_1 = GlobalMaxPooling1D()(img_1)\n",
        "img_1 = Dropout(rate=0.2)(img_1)\n",
        "\n",
        "dense_1 = Dense(64, activation=activations.relu)(img_1)\n",
        "dense_1 = Dense(1028, activation=activations.relu)(dense_1)\n",
        "dense_1 = Dense(nclass, activation=activations.softmax)(dense_1)\n",
        "\n",
        "model = models.Model(inputs=inp, outputs=dense_1)\n",
        "opt = optimizers.Adam(0.0001)\n",
        "\n",
        "model.compile(optimizer=opt, loss=losses.sparse_categorical_crossentropy, metrics=['acc'])\n",
        "model.summary()"
      ],
      "metadata": {
        "id": "LQxXWDtZq9kL",
        "colab": {
          "base_uri": "https://localhost:8080/"
        },
        "outputId": "660f3a9e-2f3c-4bc4-c800-609f8f7db39f"
      },
      "execution_count": 27,
      "outputs": [
        {
          "output_type": "stream",
          "name": "stdout",
          "text": [
            "Model: \"model_2\"\n",
            "_________________________________________________________________\n",
            " Layer (type)                Output Shape              Param #   \n",
            "=================================================================\n",
            " input_3 (InputLayer)        [(None, 41920, 1)]        0         \n",
            "                                                                 \n",
            " conv1d_16 (Conv1D)          (None, 41912, 16)         160       \n",
            "                                                                 \n",
            " conv1d_17 (Conv1D)          (None, 41904, 16)         2320      \n",
            "                                                                 \n",
            " max_pooling1d_6 (MaxPooling  (None, 2619, 16)         0         \n",
            " 1D)                                                             \n",
            "                                                                 \n",
            " dropout_8 (Dropout)         (None, 2619, 16)          0         \n",
            "                                                                 \n",
            " conv1d_18 (Conv1D)          (None, 2617, 32)          1568      \n",
            "                                                                 \n",
            " conv1d_19 (Conv1D)          (None, 2615, 32)          3104      \n",
            "                                                                 \n",
            " max_pooling1d_7 (MaxPooling  (None, 653, 32)          0         \n",
            " 1D)                                                             \n",
            "                                                                 \n",
            " dropout_9 (Dropout)         (None, 653, 32)           0         \n",
            "                                                                 \n",
            " conv1d_20 (Conv1D)          (None, 651, 32)           3104      \n",
            "                                                                 \n",
            " conv1d_21 (Conv1D)          (None, 649, 32)           3104      \n",
            "                                                                 \n",
            " max_pooling1d_8 (MaxPooling  (None, 162, 32)          0         \n",
            " 1D)                                                             \n",
            "                                                                 \n",
            " dropout_10 (Dropout)        (None, 162, 32)           0         \n",
            "                                                                 \n",
            " conv1d_22 (Conv1D)          (None, 160, 256)          24832     \n",
            "                                                                 \n",
            " conv1d_23 (Conv1D)          (None, 158, 256)          196864    \n",
            "                                                                 \n",
            " global_max_pooling1d_2 (Glo  (None, 256)              0         \n",
            " balMaxPooling1D)                                                \n",
            "                                                                 \n",
            " dropout_11 (Dropout)        (None, 256)               0         \n",
            "                                                                 \n",
            " dense_6 (Dense)             (None, 64)                16448     \n",
            "                                                                 \n",
            " dense_7 (Dense)             (None, 1028)              66820     \n",
            "                                                                 \n",
            " dense_8 (Dense)             (None, 6)                 6174      \n",
            "                                                                 \n",
            "=================================================================\n",
            "Total params: 324,498\n",
            "Trainable params: 324,498\n",
            "Non-trainable params: 0\n",
            "_________________________________________________________________\n"
          ]
        }
      ]
    },
    {
      "cell_type": "code",
      "source": [
        "checkpoint_callback = ModelCheckpoint(\n",
        "    filepath='best_model.h5',\n",
        "    monitor='val_acc',  # Metric to monitor (e.g., validation accuracy)\n",
        "    save_best_only=True,  # Save only the best model\n",
        "    mode='max',  # Mode of the monitored metric (e.g., 'max' for accuracy)\n",
        "    verbose=1  # Optional: Print messages when saving the best model\n",
        ")\n",
        "model.fit(new_train, new_y_train, epochs=100, validation_data=(new_val, new_y_val),callbacks=[checkpoint_callback])"
      ],
      "metadata": {
        "id": "OXVLEkRL22JN",
        "colab": {
          "base_uri": "https://localhost:8080/"
        },
        "outputId": "66be716d-3194-4de6-9df0-4991f0cefe97"
      },
      "execution_count": 30,
      "outputs": [
        {
          "output_type": "stream",
          "name": "stdout",
          "text": [
            "Epoch 1/100\n",
            "13/13 [==============================] - ETA: 0s - loss: 1.7934 - acc: 0.1629\n",
            "Epoch 1: val_acc improved from -inf to 0.19048, saving model to best_model.h5\n",
            "13/13 [==============================] - 31s 2s/step - loss: 1.7934 - acc: 0.1629 - val_loss: 1.7869 - val_acc: 0.1905\n",
            "Epoch 2/100\n",
            "13/13 [==============================] - ETA: 0s - loss: 1.7911 - acc: 0.1579\n",
            "Epoch 2: val_acc did not improve from 0.19048\n",
            "13/13 [==============================] - 31s 2s/step - loss: 1.7911 - acc: 0.1579 - val_loss: 1.7855 - val_acc: 0.1905\n",
            "Epoch 3/100\n",
            "13/13 [==============================] - ETA: 0s - loss: 1.7910 - acc: 0.1830\n",
            "Epoch 3: val_acc did not improve from 0.19048\n",
            "13/13 [==============================] - 28s 2s/step - loss: 1.7910 - acc: 0.1830 - val_loss: 1.7852 - val_acc: 0.0952\n",
            "Epoch 4/100\n",
            "13/13 [==============================] - ETA: 0s - loss: 1.7904 - acc: 0.1754\n",
            "Epoch 4: val_acc improved from 0.19048 to 0.23810, saving model to best_model.h5\n",
            "13/13 [==============================] - 28s 2s/step - loss: 1.7904 - acc: 0.1754 - val_loss: 1.7858 - val_acc: 0.2381\n",
            "Epoch 5/100\n",
            "13/13 [==============================] - ETA: 0s - loss: 1.7911 - acc: 0.1779\n",
            "Epoch 5: val_acc did not improve from 0.23810\n",
            "13/13 [==============================] - 27s 2s/step - loss: 1.7911 - acc: 0.1779 - val_loss: 1.7837 - val_acc: 0.1905\n",
            "Epoch 6/100\n",
            "13/13 [==============================] - ETA: 0s - loss: 1.7872 - acc: 0.1754\n",
            "Epoch 6: val_acc did not improve from 0.23810\n",
            "13/13 [==============================] - 27s 2s/step - loss: 1.7872 - acc: 0.1754 - val_loss: 1.7826 - val_acc: 0.1905\n",
            "Epoch 7/100\n",
            "13/13 [==============================] - ETA: 0s - loss: 1.7908 - acc: 0.1579\n",
            "Epoch 7: val_acc did not improve from 0.23810\n",
            "13/13 [==============================] - 28s 2s/step - loss: 1.7908 - acc: 0.1579 - val_loss: 1.7832 - val_acc: 0.2381\n",
            "Epoch 8/100\n",
            "13/13 [==============================] - ETA: 0s - loss: 1.7860 - acc: 0.1905\n",
            "Epoch 8: val_acc did not improve from 0.23810\n",
            "13/13 [==============================] - 31s 2s/step - loss: 1.7860 - acc: 0.1905 - val_loss: 1.7805 - val_acc: 0.1905\n",
            "Epoch 9/100\n",
            "13/13 [==============================] - ETA: 0s - loss: 1.7860 - acc: 0.1704\n",
            "Epoch 9: val_acc did not improve from 0.23810\n",
            "13/13 [==============================] - 28s 2s/step - loss: 1.7860 - acc: 0.1704 - val_loss: 1.7796 - val_acc: 0.1905\n",
            "Epoch 10/100\n",
            "13/13 [==============================] - ETA: 0s - loss: 1.7834 - acc: 0.1729\n",
            "Epoch 10: val_acc did not improve from 0.23810\n",
            "13/13 [==============================] - 28s 2s/step - loss: 1.7834 - acc: 0.1729 - val_loss: 1.7781 - val_acc: 0.2381\n",
            "Epoch 11/100\n",
            "13/13 [==============================] - ETA: 0s - loss: 1.7823 - acc: 0.2080\n",
            "Epoch 11: val_acc improved from 0.23810 to 0.38095, saving model to best_model.h5\n",
            "13/13 [==============================] - 26s 2s/step - loss: 1.7823 - acc: 0.2080 - val_loss: 1.7746 - val_acc: 0.3810\n",
            "Epoch 12/100\n",
            "13/13 [==============================] - ETA: 0s - loss: 1.7758 - acc: 0.2231\n",
            "Epoch 12: val_acc did not improve from 0.38095\n",
            "13/13 [==============================] - 28s 2s/step - loss: 1.7758 - acc: 0.2231 - val_loss: 1.7703 - val_acc: 0.2857\n",
            "Epoch 13/100\n",
            "13/13 [==============================] - ETA: 0s - loss: 1.7761 - acc: 0.1855\n",
            "Epoch 13: val_acc did not improve from 0.38095\n",
            "13/13 [==============================] - 28s 2s/step - loss: 1.7761 - acc: 0.1855 - val_loss: 1.7700 - val_acc: 0.3333\n",
            "Epoch 14/100\n",
            "13/13 [==============================] - ETA: 0s - loss: 1.7734 - acc: 0.1930\n",
            "Epoch 14: val_acc did not improve from 0.38095\n",
            "13/13 [==============================] - 30s 2s/step - loss: 1.7734 - acc: 0.1930 - val_loss: 1.7685 - val_acc: 0.3333\n",
            "Epoch 15/100\n",
            "13/13 [==============================] - ETA: 0s - loss: 1.7615 - acc: 0.2456\n",
            "Epoch 15: val_acc did not improve from 0.38095\n",
            "13/13 [==============================] - 28s 2s/step - loss: 1.7615 - acc: 0.2456 - val_loss: 1.7663 - val_acc: 0.1905\n",
            "Epoch 16/100\n",
            "13/13 [==============================] - ETA: 0s - loss: 1.7617 - acc: 0.2306\n",
            "Epoch 16: val_acc did not improve from 0.38095\n",
            "13/13 [==============================] - 28s 2s/step - loss: 1.7617 - acc: 0.2306 - val_loss: 1.7620 - val_acc: 0.1905\n",
            "Epoch 17/100\n",
            "13/13 [==============================] - ETA: 0s - loss: 1.7572 - acc: 0.2080\n",
            "Epoch 17: val_acc did not improve from 0.38095\n",
            "13/13 [==============================] - 28s 2s/step - loss: 1.7572 - acc: 0.2080 - val_loss: 1.7534 - val_acc: 0.3333\n",
            "Epoch 18/100\n",
            "13/13 [==============================] - ETA: 0s - loss: 1.7502 - acc: 0.2231\n",
            "Epoch 18: val_acc did not improve from 0.38095\n",
            "13/13 [==============================] - 27s 2s/step - loss: 1.7502 - acc: 0.2231 - val_loss: 1.7408 - val_acc: 0.3333\n",
            "Epoch 19/100\n",
            "13/13 [==============================] - ETA: 0s - loss: 1.7230 - acc: 0.2481\n",
            "Epoch 19: val_acc did not improve from 0.38095\n",
            "13/13 [==============================] - 27s 2s/step - loss: 1.7230 - acc: 0.2481 - val_loss: 1.7255 - val_acc: 0.3810\n",
            "Epoch 20/100\n",
            "13/13 [==============================] - ETA: 0s - loss: 1.6956 - acc: 0.2506\n",
            "Epoch 20: val_acc did not improve from 0.38095\n",
            "13/13 [==============================] - 30s 2s/step - loss: 1.6956 - acc: 0.2506 - val_loss: 1.7027 - val_acc: 0.2857\n",
            "Epoch 21/100\n",
            "13/13 [==============================] - ETA: 0s - loss: 1.6571 - acc: 0.2907\n",
            "Epoch 21: val_acc did not improve from 0.38095\n",
            "13/13 [==============================] - 28s 2s/step - loss: 1.6571 - acc: 0.2907 - val_loss: 1.6836 - val_acc: 0.3333\n",
            "Epoch 22/100\n",
            "13/13 [==============================] - ETA: 0s - loss: 1.6160 - acc: 0.3233\n",
            "Epoch 22: val_acc did not improve from 0.38095\n",
            "13/13 [==============================] - 28s 2s/step - loss: 1.6160 - acc: 0.3233 - val_loss: 1.6183 - val_acc: 0.2857\n",
            "Epoch 23/100\n",
            "13/13 [==============================] - ETA: 0s - loss: 1.6142 - acc: 0.3233\n",
            "Epoch 23: val_acc did not improve from 0.38095\n",
            "13/13 [==============================] - 28s 2s/step - loss: 1.6142 - acc: 0.3233 - val_loss: 1.5996 - val_acc: 0.2381\n",
            "Epoch 24/100\n",
            "13/13 [==============================] - ETA: 0s - loss: 1.5881 - acc: 0.3459\n",
            "Epoch 24: val_acc did not improve from 0.38095\n",
            "13/13 [==============================] - 28s 2s/step - loss: 1.5881 - acc: 0.3459 - val_loss: 1.5918 - val_acc: 0.1905\n",
            "Epoch 25/100\n",
            "13/13 [==============================] - ETA: 0s - loss: 1.5758 - acc: 0.2982\n",
            "Epoch 25: val_acc did not improve from 0.38095\n",
            "13/13 [==============================] - 26s 2s/step - loss: 1.5758 - acc: 0.2982 - val_loss: 1.5871 - val_acc: 0.3333\n",
            "Epoch 26/100\n",
            "13/13 [==============================] - ETA: 0s - loss: 1.5333 - acc: 0.3559\n",
            "Epoch 26: val_acc did not improve from 0.38095\n",
            "13/13 [==============================] - 31s 2s/step - loss: 1.5333 - acc: 0.3559 - val_loss: 1.5557 - val_acc: 0.3810\n",
            "Epoch 27/100\n",
            "13/13 [==============================] - ETA: 0s - loss: 1.5320 - acc: 0.3709\n",
            "Epoch 27: val_acc did not improve from 0.38095\n",
            "13/13 [==============================] - 28s 2s/step - loss: 1.5320 - acc: 0.3709 - val_loss: 1.5366 - val_acc: 0.3810\n",
            "Epoch 28/100\n",
            "13/13 [==============================] - ETA: 0s - loss: 1.5266 - acc: 0.3584\n",
            "Epoch 28: val_acc did not improve from 0.38095\n",
            "13/13 [==============================] - 28s 2s/step - loss: 1.5266 - acc: 0.3584 - val_loss: 1.5381 - val_acc: 0.2381\n",
            "Epoch 29/100\n",
            "13/13 [==============================] - ETA: 0s - loss: 1.5223 - acc: 0.3609\n",
            "Epoch 29: val_acc did not improve from 0.38095\n",
            "13/13 [==============================] - 28s 2s/step - loss: 1.5223 - acc: 0.3609 - val_loss: 1.5810 - val_acc: 0.3810\n",
            "Epoch 30/100\n",
            "13/13 [==============================] - ETA: 0s - loss: 1.5028 - acc: 0.3383\n",
            "Epoch 30: val_acc did not improve from 0.38095\n",
            "13/13 [==============================] - 28s 2s/step - loss: 1.5028 - acc: 0.3383 - val_loss: 1.5621 - val_acc: 0.3333\n",
            "Epoch 31/100\n",
            "13/13 [==============================] - ETA: 0s - loss: 1.5241 - acc: 0.3559\n",
            "Epoch 31: val_acc did not improve from 0.38095\n",
            "13/13 [==============================] - 28s 2s/step - loss: 1.5241 - acc: 0.3559 - val_loss: 1.5141 - val_acc: 0.2857\n",
            "Epoch 32/100\n",
            "13/13 [==============================] - ETA: 0s - loss: 1.5006 - acc: 0.4035\n",
            "Epoch 32: val_acc did not improve from 0.38095\n",
            "13/13 [==============================] - 30s 2s/step - loss: 1.5006 - acc: 0.4035 - val_loss: 1.4930 - val_acc: 0.3810\n",
            "Epoch 33/100\n",
            "13/13 [==============================] - ETA: 0s - loss: 1.5012 - acc: 0.3484\n",
            "Epoch 33: val_acc did not improve from 0.38095\n",
            "13/13 [==============================] - 26s 2s/step - loss: 1.5012 - acc: 0.3484 - val_loss: 1.4784 - val_acc: 0.2857\n",
            "Epoch 34/100\n",
            "13/13 [==============================] - ETA: 0s - loss: 1.4529 - acc: 0.3985\n",
            "Epoch 34: val_acc did not improve from 0.38095\n",
            "13/13 [==============================] - 28s 2s/step - loss: 1.4529 - acc: 0.3985 - val_loss: 1.4880 - val_acc: 0.3333\n",
            "Epoch 35/100\n",
            "13/13 [==============================] - ETA: 0s - loss: 1.4526 - acc: 0.3734\n",
            "Epoch 35: val_acc did not improve from 0.38095\n",
            "13/13 [==============================] - 28s 2s/step - loss: 1.4526 - acc: 0.3734 - val_loss: 1.5221 - val_acc: 0.3333\n",
            "Epoch 36/100\n",
            "13/13 [==============================] - ETA: 0s - loss: 1.4533 - acc: 0.4035\n",
            "Epoch 36: val_acc did not improve from 0.38095\n",
            "13/13 [==============================] - 28s 2s/step - loss: 1.4533 - acc: 0.4035 - val_loss: 1.4724 - val_acc: 0.1905\n",
            "Epoch 37/100\n",
            "13/13 [==============================] - ETA: 0s - loss: 1.4488 - acc: 0.3584\n",
            "Epoch 37: val_acc did not improve from 0.38095\n",
            "13/13 [==============================] - 31s 2s/step - loss: 1.4488 - acc: 0.3584 - val_loss: 1.4504 - val_acc: 0.3810\n",
            "Epoch 38/100\n",
            "13/13 [==============================] - ETA: 0s - loss: 1.4362 - acc: 0.3709\n",
            "Epoch 38: val_acc did not improve from 0.38095\n",
            "13/13 [==============================] - 28s 2s/step - loss: 1.4362 - acc: 0.3709 - val_loss: 1.5164 - val_acc: 0.2857\n",
            "Epoch 39/100\n",
            "13/13 [==============================] - ETA: 0s - loss: 1.4296 - acc: 0.3985\n",
            "Epoch 39: val_acc did not improve from 0.38095\n",
            "13/13 [==============================] - 26s 2s/step - loss: 1.4296 - acc: 0.3985 - val_loss: 1.4737 - val_acc: 0.3333\n",
            "Epoch 40/100\n",
            "13/13 [==============================] - ETA: 0s - loss: 1.3919 - acc: 0.3885\n",
            "Epoch 40: val_acc did not improve from 0.38095\n",
            "13/13 [==============================] - 29s 2s/step - loss: 1.3919 - acc: 0.3885 - val_loss: 1.4713 - val_acc: 0.2381\n",
            "Epoch 41/100\n",
            "13/13 [==============================] - ETA: 0s - loss: 1.4066 - acc: 0.3985\n",
            "Epoch 41: val_acc did not improve from 0.38095\n",
            "13/13 [==============================] - 28s 2s/step - loss: 1.4066 - acc: 0.3985 - val_loss: 1.4763 - val_acc: 0.2857\n",
            "Epoch 42/100\n",
            "13/13 [==============================] - ETA: 0s - loss: 1.4223 - acc: 0.3885\n",
            "Epoch 42: val_acc improved from 0.38095 to 0.42857, saving model to best_model.h5\n",
            "13/13 [==============================] - 28s 2s/step - loss: 1.4223 - acc: 0.3885 - val_loss: 1.4293 - val_acc: 0.4286\n",
            "Epoch 43/100\n",
            "13/13 [==============================] - ETA: 0s - loss: 1.4165 - acc: 0.4060\n",
            "Epoch 43: val_acc did not improve from 0.42857\n",
            "13/13 [==============================] - 31s 2s/step - loss: 1.4165 - acc: 0.4060 - val_loss: 1.5598 - val_acc: 0.2857\n",
            "Epoch 44/100\n",
            "13/13 [==============================] - ETA: 0s - loss: 1.3951 - acc: 0.4085\n",
            "Epoch 44: val_acc did not improve from 0.42857\n",
            "13/13 [==============================] - 29s 2s/step - loss: 1.3951 - acc: 0.4085 - val_loss: 1.4531 - val_acc: 0.3810\n",
            "Epoch 45/100\n",
            "13/13 [==============================] - ETA: 0s - loss: 1.3898 - acc: 0.4010\n",
            "Epoch 45: val_acc did not improve from 0.42857\n",
            "13/13 [==============================] - 28s 2s/step - loss: 1.3898 - acc: 0.4010 - val_loss: 1.4421 - val_acc: 0.2857\n",
            "Epoch 46/100\n",
            "13/13 [==============================] - ETA: 0s - loss: 1.3681 - acc: 0.3835\n",
            "Epoch 46: val_acc did not improve from 0.42857\n",
            "13/13 [==============================] - 29s 2s/step - loss: 1.3681 - acc: 0.3835 - val_loss: 1.4412 - val_acc: 0.3810\n",
            "Epoch 47/100\n",
            "13/13 [==============================] - ETA: 0s - loss: 1.3711 - acc: 0.4336\n",
            "Epoch 47: val_acc did not improve from 0.42857\n",
            "13/13 [==============================] - 28s 2s/step - loss: 1.3711 - acc: 0.4336 - val_loss: 1.5071 - val_acc: 0.3333\n",
            "Epoch 48/100\n",
            "13/13 [==============================] - ETA: 0s - loss: 1.3716 - acc: 0.4486\n",
            "Epoch 48: val_acc did not improve from 0.42857\n",
            "13/13 [==============================] - 29s 2s/step - loss: 1.3716 - acc: 0.4486 - val_loss: 1.4513 - val_acc: 0.3810\n",
            "Epoch 49/100\n",
            "13/13 [==============================] - ETA: 0s - loss: 1.3828 - acc: 0.4135\n",
            "Epoch 49: val_acc did not improve from 0.42857\n",
            "13/13 [==============================] - 28s 2s/step - loss: 1.3828 - acc: 0.4135 - val_loss: 1.5230 - val_acc: 0.2857\n",
            "Epoch 50/100\n",
            "13/13 [==============================] - ETA: 0s - loss: 1.3658 - acc: 0.4185\n",
            "Epoch 50: val_acc did not improve from 0.42857\n",
            "13/13 [==============================] - 28s 2s/step - loss: 1.3658 - acc: 0.4185 - val_loss: 1.4393 - val_acc: 0.3810\n",
            "Epoch 51/100\n",
            "13/13 [==============================] - ETA: 0s - loss: 1.3664 - acc: 0.4185\n",
            "Epoch 51: val_acc did not improve from 0.42857\n",
            "13/13 [==============================] - 29s 2s/step - loss: 1.3664 - acc: 0.4185 - val_loss: 1.4792 - val_acc: 0.2857\n",
            "Epoch 52/100\n",
            "13/13 [==============================] - ETA: 0s - loss: 1.3757 - acc: 0.4110\n",
            "Epoch 52: val_acc did not improve from 0.42857\n",
            "13/13 [==============================] - 29s 2s/step - loss: 1.3757 - acc: 0.4110 - val_loss: 1.4758 - val_acc: 0.3333\n",
            "Epoch 53/100\n",
            "13/13 [==============================] - ETA: 0s - loss: 1.3413 - acc: 0.4110\n",
            "Epoch 53: val_acc did not improve from 0.42857\n",
            "13/13 [==============================] - 29s 2s/step - loss: 1.3413 - acc: 0.4110 - val_loss: 1.4496 - val_acc: 0.3810\n",
            "Epoch 54/100\n",
            "13/13 [==============================] - ETA: 0s - loss: 1.3406 - acc: 0.4411\n",
            "Epoch 54: val_acc did not improve from 0.42857\n",
            "13/13 [==============================] - 31s 2s/step - loss: 1.3406 - acc: 0.4411 - val_loss: 1.4017 - val_acc: 0.3333\n",
            "Epoch 55/100\n",
            "13/13 [==============================] - ETA: 0s - loss: 1.3398 - acc: 0.4286\n",
            "Epoch 55: val_acc did not improve from 0.42857\n",
            "13/13 [==============================] - 27s 2s/step - loss: 1.3398 - acc: 0.4286 - val_loss: 1.4754 - val_acc: 0.3333\n",
            "Epoch 56/100\n",
            "13/13 [==============================] - ETA: 0s - loss: 1.3249 - acc: 0.4135\n",
            "Epoch 56: val_acc did not improve from 0.42857\n",
            "13/13 [==============================] - 28s 2s/step - loss: 1.3249 - acc: 0.4135 - val_loss: 1.4421 - val_acc: 0.3333\n",
            "Epoch 57/100\n",
            "13/13 [==============================] - ETA: 0s - loss: 1.3312 - acc: 0.4135\n",
            "Epoch 57: val_acc did not improve from 0.42857\n",
            "13/13 [==============================] - 29s 2s/step - loss: 1.3312 - acc: 0.4135 - val_loss: 1.5118 - val_acc: 0.3333\n",
            "Epoch 58/100\n",
            "13/13 [==============================] - ETA: 0s - loss: 1.3094 - acc: 0.4436\n",
            "Epoch 58: val_acc did not improve from 0.42857\n",
            "13/13 [==============================] - 29s 2s/step - loss: 1.3094 - acc: 0.4436 - val_loss: 1.4086 - val_acc: 0.3333\n",
            "Epoch 59/100\n",
            "13/13 [==============================] - ETA: 0s - loss: 1.3355 - acc: 0.4336\n",
            "Epoch 59: val_acc did not improve from 0.42857\n",
            "13/13 [==============================] - 31s 2s/step - loss: 1.3355 - acc: 0.4336 - val_loss: 1.5358 - val_acc: 0.3810\n",
            "Epoch 60/100\n",
            "13/13 [==============================] - ETA: 0s - loss: 1.3269 - acc: 0.4586\n",
            "Epoch 60: val_acc did not improve from 0.42857\n",
            "13/13 [==============================] - 29s 2s/step - loss: 1.3269 - acc: 0.4586 - val_loss: 1.4138 - val_acc: 0.3333\n",
            "Epoch 61/100\n",
            "13/13 [==============================] - ETA: 0s - loss: 1.3398 - acc: 0.4612\n",
            "Epoch 61: val_acc did not improve from 0.42857\n",
            "13/13 [==============================] - 32s 2s/step - loss: 1.3398 - acc: 0.4612 - val_loss: 1.5102 - val_acc: 0.2857\n",
            "Epoch 62/100\n",
            "13/13 [==============================] - ETA: 0s - loss: 1.3098 - acc: 0.4637\n",
            "Epoch 62: val_acc did not improve from 0.42857\n",
            "13/13 [==============================] - 29s 2s/step - loss: 1.3098 - acc: 0.4637 - val_loss: 1.4795 - val_acc: 0.3333\n",
            "Epoch 63/100\n",
            "13/13 [==============================] - ETA: 0s - loss: 1.3075 - acc: 0.4662\n",
            "Epoch 63: val_acc did not improve from 0.42857\n",
            "13/13 [==============================] - 29s 2s/step - loss: 1.3075 - acc: 0.4662 - val_loss: 1.4280 - val_acc: 0.3810\n",
            "Epoch 64/100\n",
            "13/13 [==============================] - ETA: 0s - loss: 1.3186 - acc: 0.4561\n",
            "Epoch 64: val_acc did not improve from 0.42857\n",
            "13/13 [==============================] - 28s 2s/step - loss: 1.3186 - acc: 0.4561 - val_loss: 1.4489 - val_acc: 0.3810\n",
            "Epoch 65/100\n",
            "13/13 [==============================] - ETA: 0s - loss: 1.2998 - acc: 0.4511\n",
            "Epoch 65: val_acc did not improve from 0.42857\n",
            "13/13 [==============================] - 28s 2s/step - loss: 1.2998 - acc: 0.4511 - val_loss: 1.4117 - val_acc: 0.4286\n",
            "Epoch 66/100\n",
            "13/13 [==============================] - ETA: 0s - loss: 1.2689 - acc: 0.4712\n",
            "Epoch 66: val_acc improved from 0.42857 to 0.47619, saving model to best_model.h5\n",
            "13/13 [==============================] - 28s 2s/step - loss: 1.2689 - acc: 0.4712 - val_loss: 1.4508 - val_acc: 0.4762\n",
            "Epoch 67/100\n",
            "13/13 [==============================] - ETA: 0s - loss: 1.2985 - acc: 0.4662\n",
            "Epoch 67: val_acc did not improve from 0.47619\n",
            "13/13 [==============================] - 29s 2s/step - loss: 1.2985 - acc: 0.4662 - val_loss: 1.4603 - val_acc: 0.2857\n",
            "Epoch 68/100\n",
            "13/13 [==============================] - ETA: 0s - loss: 1.2797 - acc: 0.4586\n",
            "Epoch 68: val_acc did not improve from 0.47619\n",
            "13/13 [==============================] - 29s 2s/step - loss: 1.2797 - acc: 0.4586 - val_loss: 1.4878 - val_acc: 0.3333\n",
            "Epoch 69/100\n",
            "13/13 [==============================] - ETA: 0s - loss: 1.2642 - acc: 0.4787\n",
            "Epoch 69: val_acc did not improve from 0.47619\n",
            "13/13 [==============================] - 29s 2s/step - loss: 1.2642 - acc: 0.4787 - val_loss: 1.4415 - val_acc: 0.4286\n",
            "Epoch 70/100\n",
            "13/13 [==============================] - ETA: 0s - loss: 1.2675 - acc: 0.4712\n",
            "Epoch 70: val_acc did not improve from 0.47619\n",
            "13/13 [==============================] - 30s 2s/step - loss: 1.2675 - acc: 0.4712 - val_loss: 1.4892 - val_acc: 0.2857\n",
            "Epoch 71/100\n",
            "13/13 [==============================] - ETA: 0s - loss: 1.2251 - acc: 0.4687\n",
            "Epoch 71: val_acc did not improve from 0.47619\n",
            "13/13 [==============================] - 29s 2s/step - loss: 1.2251 - acc: 0.4687 - val_loss: 1.4736 - val_acc: 0.3810\n",
            "Epoch 72/100\n",
            "13/13 [==============================] - ETA: 0s - loss: 1.2491 - acc: 0.4662\n",
            "Epoch 72: val_acc did not improve from 0.47619\n",
            "13/13 [==============================] - 29s 2s/step - loss: 1.2491 - acc: 0.4662 - val_loss: 1.4631 - val_acc: 0.3810\n",
            "Epoch 73/100\n",
            "13/13 [==============================] - ETA: 0s - loss: 1.2655 - acc: 0.4687\n",
            "Epoch 73: val_acc did not improve from 0.47619\n",
            "13/13 [==============================] - 27s 2s/step - loss: 1.2655 - acc: 0.4687 - val_loss: 1.4827 - val_acc: 0.3810\n",
            "Epoch 74/100\n",
            "13/13 [==============================] - ETA: 0s - loss: 1.2300 - acc: 0.5163\n",
            "Epoch 74: val_acc did not improve from 0.47619\n",
            "13/13 [==============================] - 27s 2s/step - loss: 1.2300 - acc: 0.5163 - val_loss: 1.5032 - val_acc: 0.3810\n",
            "Epoch 75/100\n",
            "13/13 [==============================] - ETA: 0s - loss: 1.2465 - acc: 0.4862\n",
            "Epoch 75: val_acc did not improve from 0.47619\n",
            "13/13 [==============================] - 29s 2s/step - loss: 1.2465 - acc: 0.4862 - val_loss: 1.4666 - val_acc: 0.3810\n",
            "Epoch 76/100\n",
            "13/13 [==============================] - ETA: 0s - loss: 1.2692 - acc: 0.4912\n",
            "Epoch 76: val_acc did not improve from 0.47619\n",
            "13/13 [==============================] - 31s 2s/step - loss: 1.2692 - acc: 0.4912 - val_loss: 1.4211 - val_acc: 0.4286\n",
            "Epoch 77/100\n",
            "13/13 [==============================] - ETA: 0s - loss: 1.2689 - acc: 0.4561\n",
            "Epoch 77: val_acc did not improve from 0.47619\n",
            "13/13 [==============================] - 28s 2s/step - loss: 1.2689 - acc: 0.4561 - val_loss: 1.4532 - val_acc: 0.3810\n",
            "Epoch 78/100\n",
            "13/13 [==============================] - ETA: 0s - loss: 1.2570 - acc: 0.4737\n",
            "Epoch 78: val_acc did not improve from 0.47619\n",
            "13/13 [==============================] - 29s 2s/step - loss: 1.2570 - acc: 0.4737 - val_loss: 1.4945 - val_acc: 0.2381\n",
            "Epoch 79/100\n",
            "13/13 [==============================] - ETA: 0s - loss: 1.2391 - acc: 0.4887\n",
            "Epoch 79: val_acc did not improve from 0.47619\n",
            "13/13 [==============================] - 28s 2s/step - loss: 1.2391 - acc: 0.4887 - val_loss: 1.4530 - val_acc: 0.4286\n",
            "Epoch 80/100\n",
            "13/13 [==============================] - ETA: 0s - loss: 1.2415 - acc: 0.4862\n",
            "Epoch 80: val_acc did not improve from 0.47619\n",
            "13/13 [==============================] - 27s 2s/step - loss: 1.2415 - acc: 0.4862 - val_loss: 1.5242 - val_acc: 0.3810\n",
            "Epoch 81/100\n",
            "13/13 [==============================] - ETA: 0s - loss: 1.2554 - acc: 0.4762\n",
            "Epoch 81: val_acc did not improve from 0.47619\n",
            "13/13 [==============================] - 28s 2s/step - loss: 1.2554 - acc: 0.4762 - val_loss: 1.4377 - val_acc: 0.3810\n",
            "Epoch 82/100\n",
            "13/13 [==============================] - ETA: 0s - loss: 1.2469 - acc: 0.4962\n",
            "Epoch 82: val_acc did not improve from 0.47619\n",
            "13/13 [==============================] - 31s 2s/step - loss: 1.2469 - acc: 0.4962 - val_loss: 1.4530 - val_acc: 0.3333\n",
            "Epoch 83/100\n",
            "13/13 [==============================] - ETA: 0s - loss: 1.2072 - acc: 0.4787\n",
            "Epoch 83: val_acc did not improve from 0.47619\n",
            "13/13 [==============================] - 28s 2s/step - loss: 1.2072 - acc: 0.4787 - val_loss: 1.4984 - val_acc: 0.3333\n",
            "Epoch 84/100\n",
            "13/13 [==============================] - ETA: 0s - loss: 1.2112 - acc: 0.5063\n",
            "Epoch 84: val_acc did not improve from 0.47619\n",
            "13/13 [==============================] - 29s 2s/step - loss: 1.2112 - acc: 0.5063 - val_loss: 1.4390 - val_acc: 0.2857\n",
            "Epoch 85/100\n",
            "13/13 [==============================] - ETA: 0s - loss: 1.1982 - acc: 0.4737\n",
            "Epoch 85: val_acc did not improve from 0.47619\n",
            "13/13 [==============================] - 28s 2s/step - loss: 1.1982 - acc: 0.4737 - val_loss: 1.4597 - val_acc: 0.3810\n",
            "Epoch 86/100\n",
            "13/13 [==============================] - ETA: 0s - loss: 1.1895 - acc: 0.5113\n",
            "Epoch 86: val_acc did not improve from 0.47619\n",
            "13/13 [==============================] - 27s 2s/step - loss: 1.1895 - acc: 0.5113 - val_loss: 1.4336 - val_acc: 0.3333\n",
            "Epoch 87/100\n",
            "13/13 [==============================] - ETA: 0s - loss: 1.2086 - acc: 0.5288\n",
            "Epoch 87: val_acc did not improve from 0.47619\n",
            "13/13 [==============================] - 31s 2s/step - loss: 1.2086 - acc: 0.5288 - val_loss: 1.4301 - val_acc: 0.3333\n",
            "Epoch 88/100\n",
            "13/13 [==============================] - ETA: 0s - loss: 1.2093 - acc: 0.4712\n",
            "Epoch 88: val_acc improved from 0.47619 to 0.52381, saving model to best_model.h5\n",
            "13/13 [==============================] - 27s 2s/step - loss: 1.2093 - acc: 0.4712 - val_loss: 1.5373 - val_acc: 0.5238\n",
            "Epoch 89/100\n",
            "13/13 [==============================] - ETA: 0s - loss: 1.1676 - acc: 0.5388\n",
            "Epoch 89: val_acc did not improve from 0.52381\n",
            "13/13 [==============================] - 28s 2s/step - loss: 1.1676 - acc: 0.5388 - val_loss: 1.4554 - val_acc: 0.3810\n",
            "Epoch 90/100\n",
            "13/13 [==============================] - ETA: 0s - loss: 1.2455 - acc: 0.4787\n",
            "Epoch 90: val_acc did not improve from 0.52381\n",
            "13/13 [==============================] - 29s 2s/step - loss: 1.2455 - acc: 0.4787 - val_loss: 1.4885 - val_acc: 0.3333\n",
            "Epoch 91/100\n",
            "13/13 [==============================] - ETA: 0s - loss: 1.1657 - acc: 0.5163\n",
            "Epoch 91: val_acc did not improve from 0.52381\n",
            "13/13 [==============================] - 29s 2s/step - loss: 1.1657 - acc: 0.5163 - val_loss: 1.4272 - val_acc: 0.3333\n",
            "Epoch 92/100\n",
            "13/13 [==============================] - ETA: 0s - loss: 1.1660 - acc: 0.5188\n",
            "Epoch 92: val_acc did not improve from 0.52381\n",
            "13/13 [==============================] - 28s 2s/step - loss: 1.1660 - acc: 0.5188 - val_loss: 1.5497 - val_acc: 0.3810\n",
            "Epoch 93/100\n",
            "13/13 [==============================] - ETA: 0s - loss: 1.1710 - acc: 0.5313\n",
            "Epoch 93: val_acc did not improve from 0.52381\n",
            "13/13 [==============================] - 31s 2s/step - loss: 1.1710 - acc: 0.5313 - val_loss: 1.4040 - val_acc: 0.3810\n",
            "Epoch 94/100\n",
            "13/13 [==============================] - ETA: 0s - loss: 1.2167 - acc: 0.5038\n",
            "Epoch 94: val_acc did not improve from 0.52381\n",
            "13/13 [==============================] - 28s 2s/step - loss: 1.2167 - acc: 0.5038 - val_loss: 1.4862 - val_acc: 0.3810\n",
            "Epoch 95/100\n",
            "13/13 [==============================] - ETA: 0s - loss: 1.1496 - acc: 0.5313\n",
            "Epoch 95: val_acc did not improve from 0.52381\n",
            "13/13 [==============================] - 28s 2s/step - loss: 1.1496 - acc: 0.5313 - val_loss: 1.5363 - val_acc: 0.4286\n",
            "Epoch 96/100\n",
            "13/13 [==============================] - ETA: 0s - loss: 1.1616 - acc: 0.5238\n",
            "Epoch 96: val_acc did not improve from 0.52381\n",
            "13/13 [==============================] - 27s 2s/step - loss: 1.1616 - acc: 0.5238 - val_loss: 1.4511 - val_acc: 0.2857\n",
            "Epoch 97/100\n",
            "13/13 [==============================] - ETA: 0s - loss: 1.1814 - acc: 0.5063\n",
            "Epoch 97: val_acc did not improve from 0.52381\n",
            "13/13 [==============================] - 28s 2s/step - loss: 1.1814 - acc: 0.5063 - val_loss: 1.4442 - val_acc: 0.4286\n",
            "Epoch 98/100\n",
            "13/13 [==============================] - ETA: 0s - loss: 1.1654 - acc: 0.5213\n",
            "Epoch 98: val_acc did not improve from 0.52381\n",
            "13/13 [==============================] - 31s 2s/step - loss: 1.1654 - acc: 0.5213 - val_loss: 1.4468 - val_acc: 0.3810\n",
            "Epoch 99/100\n",
            "13/13 [==============================] - ETA: 0s - loss: 1.1068 - acc: 0.5815\n",
            "Epoch 99: val_acc did not improve from 0.52381\n",
            "13/13 [==============================] - 29s 2s/step - loss: 1.1068 - acc: 0.5815 - val_loss: 1.4877 - val_acc: 0.4762\n",
            "Epoch 100/100\n",
            "13/13 [==============================] - ETA: 0s - loss: 1.1088 - acc: 0.5564\n",
            "Epoch 100: val_acc did not improve from 0.52381\n",
            "13/13 [==============================] - 28s 2s/step - loss: 1.1088 - acc: 0.5564 - val_loss: 1.4972 - val_acc: 0.4286\n"
          ]
        },
        {
          "output_type": "execute_result",
          "data": {
            "text/plain": [
              "<keras.callbacks.History at 0x7f21a8b1be80>"
            ]
          },
          "metadata": {},
          "execution_count": 30
        }
      ]
    },
    {
      "cell_type": "code",
      "source": [
        "best_model = keras.models.load_model('best_model.h5')"
      ],
      "metadata": {
        "id": "R24m_QtLoL6M"
      },
      "execution_count": 31,
      "outputs": []
    },
    {
      "cell_type": "code",
      "source": [
        "X_test = np.array(X_test)\n",
        "y_test = np.array(y_test)\n",
        "new_test=np.zeros((X_test.shape[0],41920))\n",
        "i=0\n",
        "for tupl in X_test:\n",
        "  tupl=tupl.replace('\\n', '')\n",
        "  tupl=tupl.replace(' ', '')\n",
        "  tup= tupl.strip('[]').split(',')\n",
        "  new_test[i]=np.array(tup)\n",
        "  i=i+1\n",
        "new_test = np.array([[float(element) for element in row] for row in new_test])\n",
        "new_y_test= np.array(y_test).reshape(-1, 1)\n",
        "new_y_test = np.array([[float(element) for element in row] for row in new_y_test])"
      ],
      "metadata": {
        "id": "rI9a1nhcoyxs"
      },
      "execution_count": 32,
      "outputs": []
    },
    {
      "cell_type": "code",
      "source": [
        "y_pred_best = best_model.predict(new_test)"
      ],
      "metadata": {
        "colab": {
          "base_uri": "https://localhost:8080/"
        },
        "id": "gYje2WPd29jh",
        "outputId": "f8fbe8be-41a2-411a-f682-89c3459dd47d"
      },
      "execution_count": 33,
      "outputs": [
        {
          "output_type": "stream",
          "name": "stdout",
          "text": [
            "6/6 [==============================] - 3s 405ms/step\n"
          ]
        }
      ]
    },
    {
      "cell_type": "code",
      "source": [
        "y_pred = model.predict(new_test)"
      ],
      "metadata": {
        "colab": {
          "base_uri": "https://localhost:8080/"
        },
        "id": "xonVpy0Drz6p",
        "outputId": "2f983fa0-f092-4707-d0b3-bb0985494dbe"
      },
      "execution_count": 34,
      "outputs": [
        {
          "output_type": "stream",
          "name": "stdout",
          "text": [
            "6/6 [==============================] - 4s 729ms/step\n"
          ]
        }
      ]
    },
    {
      "cell_type": "code",
      "source": [
        "y_pred_labels = np.argmax(y_pred, axis=1)\n",
        "y_pred_labels_best = np.argmax(y_pred_best, axis=1)\n",
        "y_test_labels = new_y_test.T.astype(int).reshape(-1)"
      ],
      "metadata": {
        "id": "LRS2F4SDKjWK"
      },
      "execution_count": 35,
      "outputs": []
    },
    {
      "cell_type": "code",
      "source": [
        "accuracy = accuracy_score(y_test_labels, y_pred_labels)\n",
        "\n",
        "# Calculate F1 score\n",
        "f1 = f1_score(y_test_labels, y_pred_labels, average='weighted')\n",
        "\n",
        "# Calculate confusion matrix\n",
        "confusion_mat = confusion_matrix(y_test_labels, y_pred_labels)\n",
        "\n",
        "print(\"Accuracy:\", accuracy)\n",
        "print(\"F1 Score:\", f1)\n",
        "print(\"Confusion Matrix:\")\n",
        "print(confusion_mat)\n"
      ],
      "metadata": {
        "colab": {
          "base_uri": "https://localhost:8080/"
        },
        "id": "iCdXSm9qMAlY",
        "outputId": "f8d461db-13b1-47c9-8c61-13ae58f478b9"
      },
      "execution_count": 36,
      "outputs": [
        {
          "output_type": "stream",
          "name": "stdout",
          "text": [
            "Accuracy: 0.3888888888888889\n",
            "F1 Score: 0.36187457343185847\n",
            "Confusion Matrix:\n",
            "[[15  3  1  2  7  2]\n",
            " [ 1 10  2  0  9  8]\n",
            " [ 7  5  3  2  1 12]\n",
            " [10  2  1  6  8  3]\n",
            " [ 1  5  0  1 17  6]\n",
            " [ 0  8  1  0  2 19]]\n"
          ]
        }
      ]
    },
    {
      "cell_type": "code",
      "source": [
        "accuracy = accuracy_score(y_test_labels, y_pred_labels_best)\n",
        "\n",
        "# Calculate F1 score\n",
        "f1 = f1_score(y_test_labels, y_pred_labels_best, average='weighted')\n",
        "\n",
        "# Calculate confusion matrix\n",
        "confusion_mat = confusion_matrix(y_test_labels, y_pred_labels_best)\n",
        "\n",
        "print(\"Accuracy:\", accuracy)\n",
        "print(\"F1 Score:\", f1)\n",
        "print(\"Confusion Matrix:\")\n",
        "print(confusion_mat)\n"
      ],
      "metadata": {
        "colab": {
          "base_uri": "https://localhost:8080/"
        },
        "id": "N2TPKOPU3Wy3",
        "outputId": "4a613d91-82b5-4697-a876-5ed0147b5f6e"
      },
      "execution_count": 37,
      "outputs": [
        {
          "output_type": "stream",
          "name": "stdout",
          "text": [
            "Accuracy: 0.39444444444444443\n",
            "F1 Score: 0.3674339534665186\n",
            "Confusion Matrix:\n",
            "[[12  0  0  5 11  2]\n",
            " [ 1  8  3  0 10  8]\n",
            " [ 6  5  3  2  1 13]\n",
            " [ 5  2  1  8 11  3]\n",
            " [ 0  1  0  1 19  9]\n",
            " [ 0  2  2  0  5 21]]\n"
          ]
        }
      ]
    },
    {
      "cell_type": "markdown",
      "source": [
        "### OLD stop here -------------------------------------------------------"
      ],
      "metadata": {
        "id": "wKxc1lnWNNrF"
      }
    },
    {
      "cell_type": "code",
      "execution_count": null,
      "metadata": {
        "id": "zl8mAQNO6EiQ"
      },
      "outputs": [],
      "source": [
        "test_loss, test_acc = model.evaluate(new_test, new_y_test)\n",
        "print(f'Test accuracy: {test_acc}')"
      ]
    },
    {
      "cell_type": "code",
      "execution_count": null,
      "metadata": {
        "colab": {
          "base_uri": "https://localhost:8080/"
        },
        "id": "rXP600oKbjH9",
        "outputId": "ee1a6cb8-dc4d-4406-8221-5cd3f8c2bfe9"
      },
      "outputs": [
        {
          "name": "stdout",
          "output_type": "stream",
          "text": [
            "#samples: 4, #features: 1\n",
            "Prediction before training: f(5) = 1.865\n",
            "epoch  1 : w =  0.6155797839164734  loss =  tensor(19.8332, grad_fn=<MseLossBackward0>)\n",
            "epoch  11 : w =  1.6394262313842773  loss =  tensor(0.5517, grad_fn=<MseLossBackward0>)\n",
            "epoch  21 : w =  1.808184027671814  loss =  tensor(0.0506, grad_fn=<MseLossBackward0>)\n",
            "epoch  31 : w =  1.8392813205718994  loss =  tensor(0.0355, grad_fn=<MseLossBackward0>)\n",
            "epoch  41 : w =  1.8481193780899048  loss =  tensor(0.0332, grad_fn=<MseLossBackward0>)\n",
            "epoch  51 : w =  1.8532637357711792  loss =  tensor(0.0312, grad_fn=<MseLossBackward0>)\n",
            "epoch  61 : w =  1.8577040433883667  loss =  tensor(0.0294, grad_fn=<MseLossBackward0>)\n",
            "epoch  71 : w =  1.8619242906570435  loss =  tensor(0.0277, grad_fn=<MseLossBackward0>)\n",
            "epoch  81 : w =  1.8660056591033936  loss =  tensor(0.0261, grad_fn=<MseLossBackward0>)\n",
            "epoch  91 : w =  1.8699642419815063  loss =  tensor(0.0246, grad_fn=<MseLossBackward0>)\n",
            "Prediction after training: f(5) = 9.739\n"
          ]
        }
      ],
      "source": [
        "# 1) Design model (input, output, forward pass with different layers)\n",
        "# 2) Construct loss and optimizer\n",
        "# 3) Training loop\n",
        "#       - Forward = compute prediction and loss\n",
        "#       - Backward = compute gradients\n",
        "#       - Update weights\n",
        "\n",
        "import torch\n",
        "import torch.nn as nn\n",
        "\n",
        "# Linear regression\n",
        "# f = w * x \n",
        "\n",
        "# here : f = 2 * x\n",
        "\n",
        "# 0) Training samples, watch the shape!\n",
        "X = torch.tensor([[1], [2], [3], [4]], dtype=torch.float32)\n",
        "Y = torch.tensor([[2], [4], [6], [8]], dtype=torch.float32)\n",
        "\n",
        "n_samples, n_features = X.shape\n",
        "print(f'#samples: {n_samples}, #features: {n_features}')\n",
        "# 0) create a test sample\n",
        "X_test = torch.tensor([5], dtype=torch.float32)\n",
        "\n",
        "# 1) Design Model, the model has to implement the forward pass!\n",
        "# Here we can use a built-in model from PyTorch\n",
        "input_size = n_features\n",
        "output_size = n_features\n",
        "\n",
        "# we can call this model with samples X\n",
        "model = nn.Linear(input_size, output_size)\n",
        "\n",
        "'''\n",
        "class LinearRegression(nn.Module):\n",
        "    def __init__(self, input_dim, output_dim):\n",
        "        super(LinearRegression, self).__init__()\n",
        "        # define diferent layers\n",
        "        self.lin = nn.Linear(input_dim, output_dim)\n",
        "\n",
        "    def forward(self, x):\n",
        "        return self.lin(x)\n",
        "\n",
        "model = LinearRegression(input_size, output_size)\n",
        "'''\n",
        "\n",
        "print(f'Prediction before training: f(5) = {model(X_test).item():.3f}')\n",
        "\n",
        "# 2) Define loss and optimizer\n",
        "learning_rate = 0.01\n",
        "n_iters = 100\n",
        "\n",
        "loss = nn.MSELoss()\n",
        "optimizer = torch.optim.SGD(model.parameters(), lr=learning_rate)\n",
        "\n",
        "# 3) Training loop\n",
        "for epoch in range(n_iters):\n",
        "    # predict = forward pass with our model\n",
        "    y_predicted = model(X)\n",
        "\n",
        "    # loss\n",
        "    l = loss(Y, y_predicted)\n",
        "\n",
        "    # calculate gradients = backward pass\n",
        "    l.backward()\n",
        "\n",
        "    # update weights\n",
        "    optimizer.step()\n",
        "\n",
        "    # zero the gradients after updating\n",
        "    optimizer.zero_grad()\n",
        "\n",
        "    if epoch % 10 == 0:\n",
        "        [w, b] = model.parameters() # unpack parameters\n",
        "        print('epoch ', epoch+1, ': w = ', w[0][0].item(), ' loss = ', l)\n",
        "\n",
        "print(f'Prediction after training: f(5) = {model(X_test).item():.3f}')\n"
      ]
    },
    {
      "cell_type": "code",
      "execution_count": null,
      "metadata": {
        "colab": {
          "base_uri": "https://localhost:8080/",
          "height": 975
        },
        "id": "3qdfl2n-b81C",
        "outputId": "1af09e80-c89a-40e4-df37-aa24e2430486"
      },
      "outputs": [
        {
          "name": "stdout",
          "output_type": "stream",
          "text": [
            "Downloading https://www.cs.toronto.edu/~kriz/cifar-10-python.tar.gz to ./data/cifar-10-python.tar.gz\n"
          ]
        },
        {
          "name": "stderr",
          "output_type": "stream",
          "text": [
            "100%|██████████| 170498071/170498071 [00:02<00:00, 57445507.57it/s]\n"
          ]
        },
        {
          "name": "stdout",
          "output_type": "stream",
          "text": [
            "Extracting ./data/cifar-10-python.tar.gz to ./data\n",
            "Files already downloaded and verified\n"
          ]
        },
        {
          "data": {
            "image/png": "[encoded data removed]",
            "text/plain": [
              "<Figure size 640x480 with 1 Axes>"
            ]
          },
          "metadata": {},
          "output_type": "display_data"
        },
        {
          "name": "stdout",
          "output_type": "stream",
          "text": [
            "Epoch [1/5], Step [2000/12500], Loss: 2.3131\n",
            "Epoch [1/5], Step [4000/12500], Loss: 2.2998\n",
            "Epoch [1/5], Step [6000/12500], Loss: 2.3090\n",
            "Epoch [1/5], Step [8000/12500], Loss: 2.2171\n",
            "Epoch [1/5], Step [10000/12500], Loss: 2.1582\n",
            "Epoch [1/5], Step [12000/12500], Loss: 2.1764\n",
            "Epoch [2/5], Step [2000/12500], Loss: 2.3594\n",
            "Epoch [2/5], Step [4000/12500], Loss: 2.0897\n",
            "Epoch [2/5], Step [6000/12500], Loss: 1.4626\n",
            "Epoch [2/5], Step [8000/12500], Loss: 1.2753\n",
            "Epoch [2/5], Step [10000/12500], Loss: 1.7610\n",
            "Epoch [2/5], Step [12000/12500], Loss: 2.3180\n",
            "Epoch [3/5], Step [2000/12500], Loss: 1.3150\n",
            "Epoch [3/5], Step [4000/12500], Loss: 1.7744\n",
            "Epoch [3/5], Step [6000/12500], Loss: 2.2767\n",
            "Epoch [3/5], Step [8000/12500], Loss: 1.8437\n",
            "Epoch [3/5], Step [10000/12500], Loss: 1.6496\n",
            "Epoch [3/5], Step [12000/12500], Loss: 1.3508\n",
            "Epoch [4/5], Step [2000/12500], Loss: 1.4375\n",
            "Epoch [4/5], Step [4000/12500], Loss: 1.1471\n",
            "Epoch [4/5], Step [6000/12500], Loss: 1.7724\n",
            "Epoch [4/5], Step [8000/12500], Loss: 1.3775\n",
            "Epoch [4/5], Step [10000/12500], Loss: 1.6255\n",
            "Epoch [4/5], Step [12000/12500], Loss: 1.6194\n",
            "Epoch [5/5], Step [2000/12500], Loss: 2.0624\n",
            "Epoch [5/5], Step [4000/12500], Loss: 2.0773\n",
            "Epoch [5/5], Step [6000/12500], Loss: 1.9273\n",
            "Epoch [5/5], Step [8000/12500], Loss: 1.8133\n",
            "Epoch [5/5], Step [10000/12500], Loss: 1.2767\n",
            "Epoch [5/5], Step [12000/12500], Loss: 1.5724\n",
            "Finished Training\n",
            "Accuracy of the network: 48.32 %\n",
            "Accuracy of plane: 57.5 %\n",
            "Accuracy of car: 56.0 %\n",
            "Accuracy of bird: 41.1 %\n",
            "Accuracy of cat: 32.4 %\n",
            "Accuracy of deer: 37.5 %\n",
            "Accuracy of dog: 36.6 %\n",
            "Accuracy of frog: 56.8 %\n",
            "Accuracy of horse: 63.0 %\n",
            "Accuracy of ship: 56.6 %\n",
            "Accuracy of truck: 45.7 %\n"
          ]
        }
      ],
      "source": [
        "import torch\n",
        "import torch.nn as nn\n",
        "import torch.nn.functional as F\n",
        "import torchvision\n",
        "import torchvision.transforms as transforms\n",
        "import matplotlib.pyplot as plt\n",
        "import numpy as np\n",
        "\n",
        "# Device configuration\n",
        "device = torch.device('cuda' if torch.cuda.is_available() else 'cpu')\n",
        "\n",
        "# Hyper-parameters \n",
        "num_epochs = 5\n",
        "batch_size = 4\n",
        "learning_rate = 0.001\n",
        "\n",
        "# dataset has PILImage images of range [0, 1]. \n",
        "# We transform them to Tensors of normalized range [-1, 1]\n",
        "transform = transforms.Compose(\n",
        "    [transforms.ToTensor(),\n",
        "     transforms.Normalize((0.5, 0.5, 0.5), (0.5, 0.5, 0.5))])\n",
        "\n",
        "# CIFAR10: 60000 32x32 color images in 10 classes, with 6000 images per class\n",
        "train_dataset = torchvision.datasets.CIFAR10(root='./data', train=True,\n",
        "                                        download=True, transform=transform)\n",
        "\n",
        "test_dataset = torchvision.datasets.CIFAR10(root='./data', train=False,\n",
        "                                       download=True, transform=transform)\n",
        "\n",
        "train_loader = torch.utils.data.DataLoader(train_dataset, batch_size=batch_size,\n",
        "                                          shuffle=True)\n",
        "\n",
        "test_loader = torch.utils.data.DataLoader(test_dataset, batch_size=batch_size,\n",
        "                                         shuffle=False)\n",
        "\n",
        "classes = ('plane', 'car', 'bird', 'cat',\n",
        "           'deer', 'dog', 'frog', 'horse', 'ship', 'truck')\n",
        "\n",
        "def imshow(img):\n",
        "    img = img / 2 + 0.5  # unnormalize\n",
        "    npimg = img.numpy()\n",
        "    plt.imshow(np.transpose(npimg, (1, 2, 0)))\n",
        "    plt.show()\n",
        "\n",
        "\n",
        "# get some random training images\n",
        "dataiter = iter(train_loader)\n",
        "images, labels = next(dataiter)\n",
        "\n",
        "# show images\n",
        "imshow(torchvision.utils.make_grid(images))\n",
        "\n",
        "class ConvNet(nn.Module):\n",
        "    def __init__(self):\n",
        "        super(ConvNet, self).__init__()\n",
        "        self.conv1 = nn.Conv2d(3, 6, 5)\n",
        "        self.pool = nn.MaxPool2d(2, 2)\n",
        "        self.conv2 = nn.Conv2d(6, 16, 5)\n",
        "        self.fc1 = nn.Linear(16 * 5 * 5, 120)\n",
        "        self.fc2 = nn.Linear(120, 84)\n",
        "        self.fc3 = nn.Linear(84, 10)\n",
        "\n",
        "    def forward(self, x):\n",
        "        # -> n, 3, 32, 32\n",
        "        x = self.pool(F.relu(self.conv1(x)))  # -> n, 6, 14, 14\n",
        "        x = self.pool(F.relu(self.conv2(x)))  # -> n, 16, 5, 5\n",
        "        x = x.view(-1, 16 * 5 * 5)            # -> n, 400\n",
        "        x = F.relu(self.fc1(x))               # -> n, 120\n",
        "        x = F.relu(self.fc2(x))               # -> n, 84\n",
        "        x = self.fc3(x)                       # -> n, 10\n",
        "        return x\n",
        "\n",
        "\n",
        "model = ConvNet().to(device)\n",
        "\n",
        "criterion = nn.CrossEntropyLoss()\n",
        "optimizer = torch.optim.SGD(model.parameters(), lr=learning_rate)\n",
        "\n",
        "n_total_steps = len(train_loader)\n",
        "for epoch in range(num_epochs):\n",
        "    for i, (images, labels) in enumerate(train_loader):\n",
        "        # origin shape: [4, 3, 32, 32] = 4, 3, 1024\n",
        "        # input_layer: 3 input channels, 6 output channels, 5 kernel size\n",
        "        images = images.to(device)\n",
        "        labels = labels.to(device)\n",
        "\n",
        "        # Forward pass\n",
        "        outputs = model(images)\n",
        "        loss = criterion(outputs, labels)\n",
        "\n",
        "        # Backward and optimize\n",
        "        optimizer.zero_grad()\n",
        "        loss.backward()\n",
        "        optimizer.step()\n",
        "\n",
        "        if (i+1) % 2000 == 0:\n",
        "            print (f'Epoch [{epoch+1}/{num_epochs}], Step [{i+1}/{n_total_steps}], Loss: {loss.item():.4f}')\n",
        "\n",
        "print('Finished Training')\n",
        "PATH = './cnn.pth'\n",
        "torch.save(model.state_dict(), PATH)\n",
        "\n",
        "with torch.no_grad():\n",
        "    n_correct = 0\n",
        "    n_samples = 0\n",
        "    n_class_correct = [0 for i in range(10)]\n",
        "    n_class_samples = [0 for i in range(10)]\n",
        "    for images, labels in test_loader:\n",
        "        images = images.to(device)\n",
        "        labels = labels.to(device)\n",
        "        outputs = model(images)\n",
        "        # max returns (value ,index)\n",
        "        _, predicted = torch.max(outputs, 1)\n",
        "        n_samples += labels.size(0)\n",
        "        n_correct += (predicted == labels).sum().item()\n",
        "        \n",
        "        for i in range(batch_size):\n",
        "            label = labels[i]\n",
        "            pred = predicted[i]\n",
        "            if (label == pred):\n",
        "                n_class_correct[label] += 1\n",
        "            n_class_samples[label] += 1\n",
        "\n",
        "    acc = 100.0 * n_correct / n_samples\n",
        "    print(f'Accuracy of the network: {acc} %')\n",
        "\n",
        "    for i in range(10):\n",
        "        acc = 100.0 * n_class_correct[i] / n_class_samples[i]\n",
        "        print(f'Accuracy of {classes[i]}: {acc} %')\n",
        "\n"
      ]
    },
    {
      "cell_type": "code",
      "execution_count": null,
      "metadata": {
        "id": "0euPutnhUuJR"
      },
      "outputs": [],
      "source": [
        "learning_rate=0.01\n",
        "n_iterations=1000"
      ]
    }
  ],
  "metadata": {
    "accelerator": "TPU",
    "colab": {
      "provenance": []
    },
    "gpuClass": "standard",
    "kernelspec": {
      "display_name": "Python 3",
      "name": "python3"
    },
    "language_info": {
      "name": "python"
    }
  },
  "nbformat": 4,
  "nbformat_minor": 0
}