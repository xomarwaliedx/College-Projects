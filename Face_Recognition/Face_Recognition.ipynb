{
  "cells": [
    {
      "cell_type": "code",
      "execution_count": null,
      "metadata": {
        "colab": {
          "base_uri": "https://localhost:8080/"
        },
        "id": "PcKF4971Y6Pe",
        "outputId": "24ee94e5-0cb8-4ad9-d44a-7bab424f6437"
      },
      "outputs": [
        {
          "output_type": "stream",
          "name": "stdout",
          "text": [
            "Drive already mounted at /content/drive/; to attempt to forcibly remount, call drive.mount(\"/content/drive/\", force_remount=True).\n"
          ]
        }
      ],
      "source": [
        "from google.colab import drive\n",
        "drive.mount('/content/drive/')"
      ]
    },
    {
      "cell_type": "code",
      "execution_count": null,
      "metadata": {
        "id": "2t22chLpb6rk"
      },
      "outputs": [],
      "source": [
        "from PIL import Image\n",
        "import numpy as np\n",
        "import os\n",
        "from sklearn.neighbors import KNeighborsClassifier"
      ]
    },
    {
      "cell_type": "code",
      "execution_count": null,
      "metadata": {
        "id": "grb5LIwhXGd1"
      },
      "outputs": [],
      "source": [
        "parent_folder = '/content/drive/MyDrive/archive'\n",
        "\n",
        "width = 92\n",
        "height = 112\n",
        "D = np.zeros((400, 10304))\n",
        "DTraincentered = np.zeros((200, 10304))\n",
        "DTestcentered = np.zeros((200, 10304))\n",
        "testc=0\n",
        "trainc=0\n",
        "Dtrain = np.zeros((200, 10304))\n",
        "Dtest = np.zeros((200, 10304))\n",
        "Y = np.zeros(400)\n",
        "Ytrain = np.zeros((200, 1))\n",
        "Ytest = np.zeros((200, 1))\n",
        "\n",
        "for sub in range(1,41):\n",
        "  folder_path = f\"{parent_folder}/s{sub}\"\n",
        "  for i in range(1,11):\n",
        "    filename = f\"{folder_path}/{i}.pgm\" \n",
        "    image = Image.open(filename) \n",
        "    image_array = np.array(image)\n",
        "    D[(sub-1)*10+(i-1)] = image_array.flatten() \n",
        "    Y[(sub-1)*10+(i-1)] = sub\n",
        "    if (i % 2) != 0:\n",
        "      Dtest[testc] = D[(sub-1)*10+(i-1)]\n",
        "      Ytest[int(testc)] = Y[(sub-1)*10+(i-1)]\n",
        "      testc=testc+1\n",
        "    else:\n",
        "      Dtrain[trainc] = D[(sub-1)*10+(i-1)]\n",
        "      Ytrain[int(trainc)] = Y[(sub-1)*10+(i-1)]\n",
        "      trainc=trainc+1"
      ]
    },
    {
      "cell_type": "code",
      "execution_count": null,
      "metadata": {
        "id": "GbDbIk_C_WgM"
      },
      "outputs": [],
      "source": [
        "for i in range(0,10304):\n",
        "  DTraincentered[:,i]=Dtrain[:,i]-Dtrain[:,i].mean()\n",
        "\n",
        "for i in range(0,10304):\n",
        "  DTestcentered[:,i]=Dtest[:,i]-Dtrain[:,i].mean()"
      ]
    },
    {
      "cell_type": "code",
      "execution_count": null,
      "metadata": {
        "id": "qPwjhQcixxK7"
      },
      "outputs": [],
      "source": [
        "covarianceMatrix = np.cov(DTraincentered.T)\n",
        "eigenvalues, eigenvectors = np.linalg.eigh(covarianceMatrix)"
      ]
    },
    {
      "cell_type": "code",
      "execution_count": null,
      "metadata": {
        "id": "Z_DFVUPVBEwo"
      },
      "outputs": [],
      "source": [
        "idx = np.argsort(-np.absolute(eigenvalues))   \n",
        "eigenValues = eigenvalues[idx]\n",
        "eigenVectors = eigenvectors[:,idx]"
      ]
    },
    {
      "cell_type": "code",
      "execution_count": null,
      "metadata": {
        "colab": {
          "base_uri": "https://localhost:8080/"
        },
        "id": "6UxeOo6_cJ_I",
        "outputId": "02af37ed-5cbf-4559-dc56-0a7e6d0d534d"
      },
      "outputs": [
        {
          "output_type": "stream",
          "name": "stdout",
          "text": [
            "2782758.443090683\n",
            "1.0403166359077675e-16\n",
            "(10304, 10304)\n",
            "1.0403166359077675e-16\n"
          ]
        }
      ],
      "source": [
        "print (eigenValues[0])\n",
        "print (eigenValues[10303])\n",
        "print(eigenVectors.shape)\n",
        "print(np.abs(eigenValues).min())"
      ]
    },
    {
      "cell_type": "code",
      "execution_count": null,
      "metadata": {
        "colab": {
          "base_uri": "https://localhost:8080/"
        },
        "id": "jxJaxjWH--7H",
        "outputId": "63ffe486-e665-456a-8842-3838d786c7df"
      },
      "outputs": [
        {
          "output_type": "stream",
          "name": "stdout",
          "text": [
            "[ 37.  53.  77. 116.]\n"
          ]
        }
      ],
      "source": [
        "R=np.zeros(4)\n",
        "for i in range(0,10304):\n",
        "  explained=eigenValues[0:i].sum()/eigenValues.sum()\n",
        "  if explained > 0.8:\n",
        "    R[0]=i\n",
        "    break\n",
        "for i in range(i,10304):\n",
        "  explained=eigenValues[0:i].sum()/eigenValues.sum()\n",
        "  if explained > 0.85:\n",
        "    R[1]=i\n",
        "    break\n",
        "for i in range(i,10304):\n",
        "  explained=eigenValues[0:i].sum()/eigenValues.sum()\n",
        "  if explained > 0.9:\n",
        "    R[2]=i\n",
        "    break\n",
        "for i in range(i,10304):\n",
        "  explained=eigenValues[0:i].sum()/eigenValues.sum()\n",
        "  if explained > 0.95:\n",
        "    R[3]=i\n",
        "    break\n",
        "print(R)"
      ]
    },
    {
      "cell_type": "code",
      "execution_count": null,
      "metadata": {
        "id": "cfLu4YH5shA-"
      },
      "outputs": [],
      "source": [
        "U1=eigenVectors[:,:int(R[0])]\n",
        "U2=eigenVectors[:,:int(R[1])]\n",
        "U3=eigenVectors[:,:int(R[2])]\n",
        "U4=eigenVectors[:,:int(R[3])]"
      ]
    },
    {
      "cell_type": "code",
      "execution_count": null,
      "metadata": {
        "id": "aw74DJ6-sik7"
      },
      "outputs": [],
      "source": [
        "projection_matrix = U1\n",
        "projected_data1 = np.dot(projection_matrix.T, DTraincentered.T)\n",
        "projection_matrix = U2\n",
        "projected_data2 = np.dot(projection_matrix.T, DTraincentered.T)\n",
        "projection_matrix = U3\n",
        "projected_data3 = np.dot(projection_matrix.T, DTraincentered.T)\n",
        "projection_matrix = U4\n",
        "projected_data4 = np.dot(projection_matrix.T, DTraincentered.T)\n"
      ]
    },
    {
      "cell_type": "code",
      "execution_count": null,
      "metadata": {
        "id": "FeHUJUzPx3ei"
      },
      "outputs": [],
      "source": [
        "projection_matrix = U1\n",
        "projected_data5 = np.dot(projection_matrix.T, DTestcentered.T)\n",
        "projection_matrix = U2\n",
        "projected_data6 = np.dot(projection_matrix.T, DTestcentered.T)\n",
        "projection_matrix = U3\n",
        "projected_data7 = np.dot(projection_matrix.T, DTestcentered.T)\n",
        "projection_matrix = U4\n",
        "projected_data8 = np.dot(projection_matrix.T, DTestcentered.T)"
      ]
    },
    {
      "cell_type": "code",
      "execution_count": null,
      "metadata": {
        "id": "q47jE98OzKaA"
      },
      "outputs": [],
      "source": [
        "projected_data1_real = np.real(projected_data1.T)\n",
        "projected_data2_real = np.real(projected_data2.T)\n",
        "projected_data3_real = np.real(projected_data3.T)\n",
        "projected_data4_real = np.real(projected_data4.T)\n",
        "projected_data5_real = np.real(projected_data5.T)\n",
        "projected_data6_real = np.real(projected_data6.T)\n",
        "projected_data7_real = np.real(projected_data7.T)\n",
        "projected_data8_real = np.real(projected_data8.T)"
      ]
    },
    {
      "cell_type": "code",
      "source": [
        "print(projected_data1_real.shape)"
      ],
      "metadata": {
        "colab": {
          "base_uri": "https://localhost:8080/"
        },
        "id": "-7YOMarf2JMS",
        "outputId": "2c267aab-501f-4ea1-88c4-6f7f8ee0f66b"
      },
      "execution_count": null,
      "outputs": [
        {
          "output_type": "stream",
          "name": "stdout",
          "text": [
            "(200, 37)\n"
          ]
        }
      ]
    },
    {
      "cell_type": "code",
      "execution_count": null,
      "metadata": {
        "colab": {
          "base_uri": "https://localhost:8080/"
        },
        "id": "o6FRI74C9RJu",
        "outputId": "6c76d5b7-78d1-49f2-9e95-2b40b29d5429"
      },
      "outputs": [
        {
          "output_type": "stream",
          "name": "stderr",
          "text": [
            "/usr/local/lib/python3.9/dist-packages/sklearn/neighbors/_classification.py:215: DataConversionWarning: A column-vector y was passed when a 1d array was expected. Please change the shape of y to (n_samples,), for example using ravel().\n",
            "  return self._fit(X, y)\n",
            "/usr/local/lib/python3.9/dist-packages/sklearn/neighbors/_classification.py:215: DataConversionWarning: A column-vector y was passed when a 1d array was expected. Please change the shape of y to (n_samples,), for example using ravel().\n",
            "  return self._fit(X, y)\n",
            "/usr/local/lib/python3.9/dist-packages/sklearn/neighbors/_classification.py:215: DataConversionWarning: A column-vector y was passed when a 1d array was expected. Please change the shape of y to (n_samples,), for example using ravel().\n",
            "  return self._fit(X, y)\n"
          ]
        },
        {
          "output_type": "stream",
          "name": "stdout",
          "text": [
            "Accuracy with R =  37.0 :  0.93\n",
            "Accuracy with R =  53.0 :  0.94\n",
            "Accuracy with R =  77.0 :  0.945\n",
            "Accuracy with R =  116.0 :  0.935\n"
          ]
        },
        {
          "output_type": "stream",
          "name": "stderr",
          "text": [
            "/usr/local/lib/python3.9/dist-packages/sklearn/neighbors/_classification.py:215: DataConversionWarning: A column-vector y was passed when a 1d array was expected. Please change the shape of y to (n_samples,), for example using ravel().\n",
            "  return self._fit(X, y)\n"
          ]
        }
      ],
      "source": [
        "knn = KNeighborsClassifier(n_neighbors=1)\n",
        "knn.fit(projected_data1_real, Ytrain)\n",
        "print(\"Accuracy with R = \", R[0], \": \", knn.score(projected_data5_real, Ytest))\n",
        "\n",
        "knn = KNeighborsClassifier(n_neighbors=1)\n",
        "knn.fit(projected_data2_real, Ytrain)\n",
        "print(\"Accuracy with R = \", R[1], \": \", knn.score(projected_data6_real, Ytest))\n",
        "\n",
        "knn = KNeighborsClassifier(n_neighbors=1)\n",
        "knn.fit(projected_data3_real, Ytrain)\n",
        "print(\"Accuracy with R = \", R[2], \": \", knn.score(projected_data7_real, Ytest))\n",
        "\n",
        "knn = KNeighborsClassifier(n_neighbors=1)\n",
        "knn.fit(projected_data4_real, Ytrain)\n",
        "print(\"Accuracy with R = \", R[3], \": \", knn.score(projected_data8_real, Ytest))"
      ]
    },
    {
      "cell_type": "code",
      "source": [
        "k_values = [1, 3, 5, 7]\n",
        "\n",
        "accuracy_R0=np.zeros(4)\n",
        "accuracy_R1=np.zeros(4)\n",
        "accuracy_R2=np.zeros(4)\n",
        "accuracy_R3=np.zeros(4)\n",
        "\n",
        "for i in range(0,4):\n",
        "  knn = KNeighborsClassifier(n_neighbors=k_values[i])\n",
        "  k=np.zeros(4)\n",
        "  knn.fit(projected_data1_real, Ytrain)\n",
        "  accuracy_R0[i]=knn.score(projected_data5_real, Ytest)\n",
        "  print(\"Accuracy with R = \", R[0], \"and number of neighbors =\",k_values[i],\": \", accuracy_R0[i])\n",
        "\n",
        "  knn = KNeighborsClassifier(n_neighbors=k_values[i])\n",
        "  knn.fit(projected_data2_real, Ytrain)\n",
        "  accuracy_R1[i]=knn.score(projected_data6_real, Ytest)\n",
        "  print(\"Accuracy with R = \", R[1],\"and number of neighbors =\",k_values[i], \": \",  accuracy_R1[i] )\n",
        "\n",
        "  knn = KNeighborsClassifier(n_neighbors=k_values[i])\n",
        "  knn.fit(projected_data3_real, Ytrain)\n",
        "  accuracy_R2[i]=knn.score(projected_data7_real, Ytest)\n",
        "  print(\"Accuracy with R = \", R[2],\"and number of neighbors =\",k_values[i], \": \", accuracy_R2[i])\n",
        "\n",
        "  knn = KNeighborsClassifier(n_neighbors=k_values[i])\n",
        "  knn.fit(projected_data4_real, Ytrain)\n",
        "  accuracy_R3[i]=knn.score(projected_data8_real, Ytest)\n",
        "  print(\"Accuracy with R = \", R[3],\"and number of neighbors =\",k_values[i], \": \", accuracy_R3[i])"
      ],
      "metadata": {
        "colab": {
          "base_uri": "https://localhost:8080/"
        },
        "id": "Q7STng2C7N8_",
        "outputId": "39feb39f-4f7f-4053-b68a-d483f0ca4227"
      },
      "execution_count": null,
      "outputs": [
        {
          "output_type": "stream",
          "name": "stdout",
          "text": [
            "Accuracy with R =  37.0 and number of neighbors = 1 :  0.93\n",
            "Accuracy with R =  53.0 and number of neighbors = 1 :  0.94\n",
            "Accuracy with R =  77.0 and number of neighbors = 1 :  0.945\n",
            "Accuracy with R =  116.0 and number of neighbors = 1 :  0.935\n",
            "Accuracy with R =  37.0 and number of neighbors = 3 :  0.855\n",
            "Accuracy with R =  53.0 and number of neighbors = 3 :  0.855\n",
            "Accuracy with R =  77.0 and number of neighbors = 3 :  0.85\n",
            "Accuracy with R =  116.0 and number of neighbors = 3 :  0.845\n",
            "Accuracy with R =  37.0 and number of neighbors = 5 :  0.805\n",
            "Accuracy with R =  53.0 and number of neighbors = 5 :  0.83\n",
            "Accuracy with R =  77.0 and number of neighbors = 5 :  0.815\n",
            "Accuracy with R =  116.0 and number of neighbors = 5 :  0.815\n",
            "Accuracy with R =  37.0 and number of neighbors = 7 :  0.78\n",
            "Accuracy with R =  53.0 and number of neighbors = 7 :  0.775\n",
            "Accuracy with R =  77.0 and number of neighbors = 7 :  0.755\n",
            "Accuracy with R =  116.0 and number of neighbors = 7 :  0.74\n"
          ]
        },
        {
          "output_type": "stream",
          "name": "stderr",
          "text": [
            "/usr/local/lib/python3.9/dist-packages/sklearn/neighbors/_classification.py:215: DataConversionWarning: A column-vector y was passed when a 1d array was expected. Please change the shape of y to (n_samples,), for example using ravel().\n",
            "  return self._fit(X, y)\n",
            "/usr/local/lib/python3.9/dist-packages/sklearn/neighbors/_classification.py:215: DataConversionWarning: A column-vector y was passed when a 1d array was expected. Please change the shape of y to (n_samples,), for example using ravel().\n",
            "  return self._fit(X, y)\n",
            "/usr/local/lib/python3.9/dist-packages/sklearn/neighbors/_classification.py:215: DataConversionWarning: A column-vector y was passed when a 1d array was expected. Please change the shape of y to (n_samples,), for example using ravel().\n",
            "  return self._fit(X, y)\n",
            "/usr/local/lib/python3.9/dist-packages/sklearn/neighbors/_classification.py:215: DataConversionWarning: A column-vector y was passed when a 1d array was expected. Please change the shape of y to (n_samples,), for example using ravel().\n",
            "  return self._fit(X, y)\n",
            "/usr/local/lib/python3.9/dist-packages/sklearn/neighbors/_classification.py:215: DataConversionWarning: A column-vector y was passed when a 1d array was expected. Please change the shape of y to (n_samples,), for example using ravel().\n",
            "  return self._fit(X, y)\n",
            "/usr/local/lib/python3.9/dist-packages/sklearn/neighbors/_classification.py:215: DataConversionWarning: A column-vector y was passed when a 1d array was expected. Please change the shape of y to (n_samples,), for example using ravel().\n",
            "  return self._fit(X, y)\n",
            "/usr/local/lib/python3.9/dist-packages/sklearn/neighbors/_classification.py:215: DataConversionWarning: A column-vector y was passed when a 1d array was expected. Please change the shape of y to (n_samples,), for example using ravel().\n",
            "  return self._fit(X, y)\n",
            "/usr/local/lib/python3.9/dist-packages/sklearn/neighbors/_classification.py:215: DataConversionWarning: A column-vector y was passed when a 1d array was expected. Please change the shape of y to (n_samples,), for example using ravel().\n",
            "  return self._fit(X, y)\n",
            "/usr/local/lib/python3.9/dist-packages/sklearn/neighbors/_classification.py:215: DataConversionWarning: A column-vector y was passed when a 1d array was expected. Please change the shape of y to (n_samples,), for example using ravel().\n",
            "  return self._fit(X, y)\n",
            "/usr/local/lib/python3.9/dist-packages/sklearn/neighbors/_classification.py:215: DataConversionWarning: A column-vector y was passed when a 1d array was expected. Please change the shape of y to (n_samples,), for example using ravel().\n",
            "  return self._fit(X, y)\n",
            "/usr/local/lib/python3.9/dist-packages/sklearn/neighbors/_classification.py:215: DataConversionWarning: A column-vector y was passed when a 1d array was expected. Please change the shape of y to (n_samples,), for example using ravel().\n",
            "  return self._fit(X, y)\n",
            "/usr/local/lib/python3.9/dist-packages/sklearn/neighbors/_classification.py:215: DataConversionWarning: A column-vector y was passed when a 1d array was expected. Please change the shape of y to (n_samples,), for example using ravel().\n",
            "  return self._fit(X, y)\n",
            "/usr/local/lib/python3.9/dist-packages/sklearn/neighbors/_classification.py:215: DataConversionWarning: A column-vector y was passed when a 1d array was expected. Please change the shape of y to (n_samples,), for example using ravel().\n",
            "  return self._fit(X, y)\n",
            "/usr/local/lib/python3.9/dist-packages/sklearn/neighbors/_classification.py:215: DataConversionWarning: A column-vector y was passed when a 1d array was expected. Please change the shape of y to (n_samples,), for example using ravel().\n",
            "  return self._fit(X, y)\n",
            "/usr/local/lib/python3.9/dist-packages/sklearn/neighbors/_classification.py:215: DataConversionWarning: A column-vector y was passed when a 1d array was expected. Please change the shape of y to (n_samples,), for example using ravel().\n",
            "  return self._fit(X, y)\n",
            "/usr/local/lib/python3.9/dist-packages/sklearn/neighbors/_classification.py:215: DataConversionWarning: A column-vector y was passed when a 1d array was expected. Please change the shape of y to (n_samples,), for example using ravel().\n",
            "  return self._fit(X, y)\n"
          ]
        }
      ]
    },
    {
      "cell_type": "code",
      "source": [
        "import matplotlib.pyplot as plt\n",
        "plt.plot(k_values,accuracy_R0)\n",
        "\n",
        "# Set axis labels and title\n",
        "plt.xlabel('number of neighbors')\n",
        "plt.ylabel('accuracy')\n",
        "plt.title('alpha vs accuracy for alpha=0.8')\n",
        "\n",
        "# Show the plot\n",
        "plt.show()"
      ],
      "metadata": {
        "colab": {
          "base_uri": "https://localhost:8080/",
          "height": 295
        },
        "id": "4SAcBVQF7RcF",
        "outputId": "31f09ff6-25d1-4ee8-96cf-35976fc5b281"
      },
      "execution_count": null,
      "outputs": [
        {
          "output_type": "display_data",
          "data": {
            "text/plain": [
              "<Figure size 432x288 with 1 Axes>"
            ],
            "image/png": "[encoded data removed]"
          },
          "metadata": {
            "needs_background": "light"
          }
        }
      ]
    },
    {
      "cell_type": "code",
      "source": [
        "import matplotlib.pyplot as plt\n",
        "plt.plot(k_values,accuracy_R1)\n",
        "\n",
        "# Set axis labels and title\n",
        "plt.xlabel('number of neighbors')\n",
        "plt.ylabel('accuracy')\n",
        "plt.title('alpha vs accuracy for alpha=0.85')\n",
        "\n",
        "# Show the plot\n",
        "plt.show()"
      ],
      "metadata": {
        "colab": {
          "base_uri": "https://localhost:8080/",
          "height": 295
        },
        "id": "BQ3S9YKw7UUv",
        "outputId": "96868a6c-06f7-4703-fd57-28a50ad2ccbf"
      },
      "execution_count": null,
      "outputs": [
        {
          "output_type": "display_data",
          "data": {
            "text/plain": [
              "<Figure size 432x288 with 1 Axes>"
            ],
            "image/png": "[encoded data removed]"
          },
          "metadata": {
            "needs_background": "light"
          }
        }
      ]
    },
    {
      "cell_type": "code",
      "source": [
        "import matplotlib.pyplot as plt\n",
        "plt.plot(k_values,accuracy_R2)\n",
        "\n",
        "# Set axis labels and title\n",
        "plt.xlabel('number of neighbors')\n",
        "plt.ylabel('accuracy')\n",
        "plt.title('alpha vs accuracy for alpha=0.9')\n",
        "\n",
        "# Show the plot\n",
        "plt.show()"
      ],
      "metadata": {
        "colab": {
          "base_uri": "https://localhost:8080/",
          "height": 295
        },
        "id": "uwc_SOpw7W3f",
        "outputId": "f9f0426b-b9d2-4411-de2c-0080f00b44f4"
      },
      "execution_count": null,
      "outputs": [
        {
          "output_type": "display_data",
          "data": {
            "text/plain": [
              "<Figure size 432x288 with 1 Axes>"
            ],
            "image/png": "[encoded data removed]"
          },
          "metadata": {
            "needs_background": "light"
          }
        }
      ]
    },
    {
      "cell_type": "code",
      "source": [
        "import matplotlib.pyplot as plt\n",
        "plt.plot(k_values,accuracy_R3)\n",
        "\n",
        "# Set axis labels and title\n",
        "plt.xlabel('number of neighbors')\n",
        "plt.ylabel('accuracy')\n",
        "plt.title('alpha vs accuracy for alpha=0.95')\n",
        "\n",
        "# Show the plot\n",
        "plt.show()"
      ],
      "metadata": {
        "colab": {
          "base_uri": "https://localhost:8080/",
          "height": 295
        },
        "id": "2DBfX5kL7Y9o",
        "outputId": "a2777f9f-a705-4a74-cbdf-4cb6cde2a631"
      },
      "execution_count": null,
      "outputs": [
        {
          "output_type": "display_data",
          "data": {
            "text/plain": [
              "<Figure size 432x288 with 1 Axes>"
            ],
            "image/png": "[encoded data removed]"
          },
          "metadata": {
            "needs_background": "light"
          }
        }
      ]
    },
    {
      "cell_type": "code",
      "source": [
        "import matplotlib.pyplot as plt\n",
        "plt.plot([0.8,0.85,0.9,0.95], [accuracy_R0[0],accuracy_R1[0],accuracy_R2[0],accuracy_R3[0]])\n",
        "\n",
        "# Set axis labels and title\n",
        "plt.xlabel('alpha')\n",
        "plt.ylabel('accuracy')\n",
        "plt.title('alpha vs accuracy')\n",
        "\n",
        "# Show the plot\n",
        "plt.show()"
      ],
      "metadata": {
        "id": "8REdMKcnR3sB",
        "colab": {
          "base_uri": "https://localhost:8080/",
          "height": 295
        },
        "outputId": "80aed55a-85a5-45ff-9616-7e70f1c79791"
      },
      "execution_count": null,
      "outputs": [
        {
          "output_type": "display_data",
          "data": {
            "text/plain": [
              "<Figure size 432x288 with 1 Axes>"
            ],
            "image/png": "[encoded data removed]"
          },
          "metadata": {
            "needs_background": "light"
          }
        }
      ]
    },
    {
      "cell_type": "code",
      "execution_count": null,
      "metadata": {
        "id": "ZWpRs4_a-drk"
      },
      "outputs": [],
      "source": [
        "Mu = np.zeros((40, 10304))\n",
        "for i in range (0,40):\n",
        "  Mu[i]=np.mean(Dtrain[(i*5):(i*5)+4,:], axis=0)"
      ]
    },
    {
      "cell_type": "code",
      "source": [
        "print(Mu[1].reshape(10304,1).shape)"
      ],
      "metadata": {
        "colab": {
          "base_uri": "https://localhost:8080/"
        },
        "id": "tzMxMwbFulrn",
        "outputId": "b34c77a2-6303-4562-f6fc-fd3431ec9df0"
      },
      "execution_count": null,
      "outputs": [
        {
          "output_type": "stream",
          "name": "stdout",
          "text": [
            "(10304, 1)\n"
          ]
        }
      ]
    },
    {
      "cell_type": "code",
      "execution_count": null,
      "metadata": {
        "id": "CfgtZA23F2MG"
      },
      "outputs": [],
      "source": [
        "Sb=np.zeros((10304,10304))\n",
        "for i in range (0,40):\n",
        "  Sb=Sb+5*np.dot((Mu[i].reshape(10304,1)-np.mean(Dtrain, axis=0).reshape(10304,1)),(Mu[i].reshape(10304,1)-np.mean(Dtrain, axis=0).reshape(10304,1)).T)"
      ]
    },
    {
      "cell_type": "code",
      "source": [
        "print(Sb.shape)"
      ],
      "metadata": {
        "colab": {
          "base_uri": "https://localhost:8080/"
        },
        "id": "w4KA3DcA95iK",
        "outputId": "fe47517e-a9c5-4414-9d8f-86246efa02a7"
      },
      "execution_count": null,
      "outputs": [
        {
          "output_type": "stream",
          "name": "stdout",
          "text": [
            "(10304, 10304)\n"
          ]
        }
      ]
    },
    {
      "cell_type": "code",
      "source": [
        "LDAcentertrain = np.zeros(((40,5,10304)))\n",
        "for i in range(0,40):\n",
        "  for j in range(0,5):\n",
        "    LDAcentertrain[i,j]+=Dtrain[int(i*5+j)]-Mu[int(i)]"
      ],
      "metadata": {
        "id": "GT4UgFxEv3Vj"
      },
      "execution_count": null,
      "outputs": []
    },
    {
      "cell_type": "code",
      "source": [
        "S = np.zeros(((10304,10304)))\n",
        "for i in range(0, 40):\n",
        "    S+= np.matmul(LDAcentertrain[i].T,LDAcentertrain[i])"
      ],
      "metadata": {
        "id": "VX007-9twzlL"
      },
      "execution_count": null,
      "outputs": []
    },
    {
      "cell_type": "code",
      "source": [
        "IS = np.linalg.inv(S)"
      ],
      "metadata": {
        "id": "RDRFK1ig8OMa"
      },
      "execution_count": null,
      "outputs": []
    },
    {
      "cell_type": "code",
      "execution_count": null,
      "metadata": {
        "id": "KylZ6k8Ci5e3"
      },
      "outputs": [],
      "source": [
        "eigenvalues2, eigenvectors2 = np.linalg.eigh(np.dot(IS,Sb))"
      ]
    },
    {
      "cell_type": "code",
      "execution_count": null,
      "metadata": {
        "id": "Y1sLABcCkrJU"
      },
      "outputs": [],
      "source": [
        "idx = np.argsort(-np.absolute(eigenvalues2))   \n",
        "eigenValues2 = eigenvalues2[idx]\n",
        "eigenVectors2 = eigenvectors2[:,idx]"
      ]
    },
    {
      "cell_type": "code",
      "source": [
        "print(eigenValues2[0])\n",
        "print(eigenValues2[10000])"
      ],
      "metadata": {
        "colab": {
          "base_uri": "https://localhost:8080/"
        },
        "id": "ipBBv4f7OwFl",
        "outputId": "62f153b7-0575-4fe7-e8f9-b375367886b2"
      },
      "execution_count": null,
      "outputs": [
        {
          "output_type": "stream",
          "name": "stdout",
          "text": [
            "-1.0189777131130989e+19\n",
            "64545133249338.766\n"
          ]
        }
      ]
    },
    {
      "cell_type": "code",
      "execution_count": null,
      "metadata": {
        "id": "36TKV-8RkktV"
      },
      "outputs": [],
      "source": [
        "U5=eigenVectors2[:,:39]\n",
        "projection_matrix = U5\n",
        "projected_data9 = np.dot(projection_matrix.T, DTraincentered.T)\n",
        "projected_data10 = np.dot(projection_matrix.T, DTestcentered.T)"
      ]
    },
    {
      "cell_type": "code",
      "execution_count": null,
      "metadata": {
        "id": "G2AAIsvqqiYc"
      },
      "outputs": [],
      "source": [
        "projected_data9_real = np.real(projected_data9.T)\n",
        "projected_data10_real = np.real(projected_data10.T)"
      ]
    },
    {
      "cell_type": "code",
      "execution_count": null,
      "metadata": {
        "colab": {
          "base_uri": "https://localhost:8080/"
        },
        "id": "lefAQ8HwqpdD",
        "outputId": "97f91b0b-9d5f-42a6-b8f2-2d386eaed159"
      },
      "outputs": [
        {
          "output_type": "stream",
          "name": "stdout",
          "text": [
            "Accuracy with R = 39:  0.935\n"
          ]
        },
        {
          "output_type": "stream",
          "name": "stderr",
          "text": [
            "/usr/local/lib/python3.9/dist-packages/sklearn/neighbors/_classification.py:215: DataConversionWarning: A column-vector y was passed when a 1d array was expected. Please change the shape of y to (n_samples,), for example using ravel().\n",
            "  return self._fit(X, y)\n"
          ]
        }
      ],
      "source": [
        "knn = KNeighborsClassifier(n_neighbors=1)\n",
        "knn.fit(projected_data9_real, Ytrain)\n",
        "print(\"Accuracy with R = 39: \", knn.score(projected_data10_real, Ytest))"
      ]
    },
    {
      "cell_type": "code",
      "execution_count": null,
      "metadata": {
        "colab": {
          "base_uri": "https://localhost:8080/"
        },
        "id": "9T09-5sdrviM",
        "outputId": "0c286573-91bc-4e37-b878-be5d669a3d41"
      },
      "outputs": [
        {
          "output_type": "stream",
          "name": "stdout",
          "text": [
            "5.4826415849157e+21\n",
            "(10304,)\n",
            "2318515067130941.5\n"
          ]
        }
      ],
      "source": [
        "print (eigenValues2[0])\n",
        "print(eigenValues2.shape)\n",
        "print(np.abs(eigenValues2).min())"
      ]
    },
    {
      "cell_type": "code",
      "source": [
        "k_values = [1, 3, 5, 7]\n",
        "accuracy=np.zeros(4)\n",
        "\n",
        "for i in range (0,4):\n",
        "  knn = KNeighborsClassifier(n_neighbors=k_values[i])\n",
        "  knn.fit(projected_data9_real, Ytrain)\n",
        "  accuracy[i]=knn.score(projected_data10_real, Ytest)\n",
        "  print(\"Accuracy with number of neighbors \",k_values[i],\": \", accuracy[i])"
      ],
      "metadata": {
        "colab": {
          "base_uri": "https://localhost:8080/"
        },
        "id": "uT0WYN5F7owk",
        "outputId": "09e72252-8f01-4654-943c-aad45bdec7e6"
      },
      "execution_count": null,
      "outputs": [
        {
          "output_type": "stream",
          "name": "stdout",
          "text": [
            "Accuracy with number of neighbors  1 :  0.835\n",
            "Accuracy with number of neighbors  3 :  0.78\n",
            "Accuracy with number of neighbors  5 :  0.78\n",
            "Accuracy with number of neighbors  7 :  0.73\n"
          ]
        },
        {
          "output_type": "stream",
          "name": "stderr",
          "text": [
            "/usr/local/lib/python3.9/dist-packages/sklearn/neighbors/_classification.py:215: DataConversionWarning: A column-vector y was passed when a 1d array was expected. Please change the shape of y to (n_samples,), for example using ravel().\n",
            "  return self._fit(X, y)\n",
            "/usr/local/lib/python3.9/dist-packages/sklearn/neighbors/_classification.py:215: DataConversionWarning: A column-vector y was passed when a 1d array was expected. Please change the shape of y to (n_samples,), for example using ravel().\n",
            "  return self._fit(X, y)\n",
            "/usr/local/lib/python3.9/dist-packages/sklearn/neighbors/_classification.py:215: DataConversionWarning: A column-vector y was passed when a 1d array was expected. Please change the shape of y to (n_samples,), for example using ravel().\n",
            "  return self._fit(X, y)\n",
            "/usr/local/lib/python3.9/dist-packages/sklearn/neighbors/_classification.py:215: DataConversionWarning: A column-vector y was passed when a 1d array was expected. Please change the shape of y to (n_samples,), for example using ravel().\n",
            "  return self._fit(X, y)\n"
          ]
        }
      ]
    },
    {
      "cell_type": "code",
      "source": [
        "import matplotlib.pyplot as plt\n",
        "plt.plot(k_values, accuracy)\n",
        "\n",
        "# Set axis labels and title\n",
        "plt.xlabel('number of neighbors')\n",
        "plt.ylabel('accuracy')\n",
        "plt.title('number of neighbors vs accuracy in LDA')\n",
        "\n",
        "# Show the plot\n",
        "plt.show()"
      ],
      "metadata": {
        "colab": {
          "base_uri": "https://localhost:8080/",
          "height": 295
        },
        "id": "t9SMCTMa7r2u",
        "outputId": "940ac4df-19a7-4d67-9ac6-4597fc4d4f37"
      },
      "execution_count": null,
      "outputs": [
        {
          "output_type": "display_data",
          "data": {
            "text/plain": [
              "<Figure size 432x288 with 1 Axes>"
            ],
            "image/png": "[encoded data removed]"
          },
          "metadata": {
            "needs_background": "light"
          }
        }
      ]
    },
    {
      "cell_type": "markdown",
      "source": [
        "### NEW"
      ],
      "metadata": {
        "id": "NKetClFbgQyc"
      }
    },
    {
      "cell_type": "code",
      "source": [
        "parent_folder = '/content/drive/MyDrive/nonface/natural_images'\n",
        "\n",
        "nonfacenum=700\n",
        "width = 92\n",
        "height = 112\n",
        "D2 = np.zeros((int(400+nonfacenum), 10304))\n",
        "DTraincentered2 = np.zeros((int(nonfacenum), 10304))\n",
        "DTestcentered2 = np.zeros((400, 10304))\n",
        "testc2=0\n",
        "trainc2=0\n",
        "Dtrain2 = np.zeros((int(nonfacenum), 10304))\n",
        "Dtest2 = np.zeros((400, 10304))\n",
        "Y2 = np.zeros((int(400+nonfacenum),1))\n",
        "Ytrain2 = np.zeros((int(nonfacenum), 1))\n",
        "Ytest2 = np.zeros((400, 1))\n",
        "D2[0:400]=D\n",
        "Y2=[np.ones((1,400)),np.zeros((1,int(nonfacenum)))]\n",
        "s=400\n",
        "# for sub in range(1,41):\n",
        "for filename in os.listdir(parent_folder):\n",
        "  folder_path = f\"{parent_folder}/{filename}\"\n",
        "  for i in range(0,100):\n",
        "    if i<10:\n",
        "      filename2 = f\"{folder_path}/{filename}_000{i}.jpg\" \n",
        "    else:\n",
        "      filename2 = f\"{folder_path}/{filename}_00{i}.jpg\" \n",
        "    image = Image.open(filename2)\n",
        "    image = image.resize((92, 112))\n",
        "    image = image.convert('L')  \n",
        "    image_array = np.array(image)\n",
        "    D2[s] = image_array.flatten()\n",
        "    s=s+1\n",
        "    # if (i % 2) != 0:\n",
        "    #   Dtest[testc] = D[(sub-1)*10+(i-1)]\n",
        "    #   Ytest[int(testc)] = Y[(sub-1)*10+(i-1)]\n",
        "    #   testc=testc+1\n",
        "    # else:\n",
        "    #   Dtrain[trainc] = D[(sub-1)*10+(i-1)]\n",
        "    #   Ytrain[int(trainc)] = Y[(sub-1)*10+(i-1)]\n",
        "    #   trainc=trainc+1\n",
        "np.random.shuffle(D2[0:400])\n",
        "np.random.shuffle(D2[400:int(nonfacenum+400)])\n",
        "Dtrain2[0:200]=D2[0:200]\n",
        "Dtrain2[200:int(nonfacenum)]=D2[400:int(nonfacenum)+200]\n",
        "Ytrain2[0:200]=np.ones((200,1))\n",
        "Dtest2[0:200]=D2[200:400]\n",
        "Dtest2[200:400]=D2[int(nonfacenum+200):int(nonfacenum+400)]\n",
        "Ytest2[0:200]=np.ones((200,1))\n",
        "\n",
        "# for i in range(400,int(nonfacenum)+200):\n",
        "#   Dtrain2[i]=D2[j+i]\n",
        "#   if i%int(nonfacenum/7-29)==0:\n",
        "#       j=j+int(nonfacenum/7)\n",
        "# Ytrain2[0:200]=np.ones((1,200))\n",
        "# Dtest2[0:200]=D2[200:400]\n",
        "# j=0\n",
        "# for i in range(0,200):\n",
        "#   Dtest2[200+i]=D2[int(nonfacenum/7-20+i)]\n",
        "#   if i%int(nonfacenum/7)==0:\n",
        "#       j=j+int(nonfacenum/7)\n",
        "# Ytest2[0:200]=np.ones((1,200))"
      ],
      "metadata": {
        "id": "2BZnr77JgYJi"
      },
      "execution_count": null,
      "outputs": []
    },
    {
      "cell_type": "code",
      "source": [
        "for i in range(0,10304):\n",
        "  DTraincentered2[:,i]=Dtrain2[:,i]-Dtrain2[:,i].mean()\n",
        "\n",
        "for i in range(0,10304):\n",
        "  DTestcentered2[:,i]=Dtest2[:,i]-Dtrain2[:,i].mean()"
      ],
      "metadata": {
        "id": "wyh6nk_6ls4z"
      },
      "execution_count": null,
      "outputs": []
    },
    {
      "cell_type": "code",
      "source": [
        "covarianceMatrix22 = np.cov(DTraincentered2.T)\n",
        "eigenvalues22, eigenvectors22 = np.linalg.eigh(covarianceMatrix22)"
      ],
      "metadata": {
        "id": "lt70ve3HyI7x"
      },
      "execution_count": null,
      "outputs": []
    },
    {
      "cell_type": "code",
      "source": [
        "idx = np.argsort(-(eigenvalues22))   \n",
        "eigenValues22 = eigenvalues22[idx]\n",
        "eigenVectors22 = eigenvectors22[:,idx]"
      ],
      "metadata": {
        "id": "LsQNkRxQyVHF"
      },
      "execution_count": null,
      "outputs": []
    },
    {
      "cell_type": "code",
      "source": [
        "print (eigenValues22[0])\n",
        "print (eigenValues22[10303])\n",
        "print(eigenVectors22.shape)\n",
        "print(np.abs(eigenValues22).min())"
      ],
      "metadata": {
        "colab": {
          "base_uri": "https://localhost:8080/"
        },
        "id": "xQL60h8D-H_1",
        "outputId": "fe3a634a-542b-4306-fe23-e98398d5d6e2"
      },
      "execution_count": null,
      "outputs": [
        {
          "output_type": "stream",
          "name": "stdout",
          "text": [
            "14552185.88212555\n",
            "-6.23639636148139e-09\n",
            "(10304, 10304)\n",
            "2.663598867505591e-15\n"
          ]
        }
      ]
    },
    {
      "cell_type": "code",
      "source": [
        "for i in range(0,int(nonfacenum)):\n",
        "  explained=eigenValues22[0:i].sum()/eigenValues22.sum()\n",
        "  if explained > 0.9:\n",
        "    R=i\n",
        "    break\n",
        "print(R)"
      ],
      "metadata": {
        "colab": {
          "base_uri": "https://localhost:8080/"
        },
        "id": "q1VDJ0vmyfnx",
        "outputId": "84d22d40-6457-4f3f-ccd3-49f83ef7f087"
      },
      "execution_count": null,
      "outputs": [
        {
          "output_type": "stream",
          "name": "stdout",
          "text": [
            "124\n"
          ]
        }
      ]
    },
    {
      "cell_type": "code",
      "source": [
        "U21=eigenVectors22[:,:int(R)]\n",
        "projection_matrix = U21\n",
        "projected_data21 = np.dot(projection_matrix.T, DTraincentered2.T)\n",
        "projected_data22 = np.dot(projection_matrix.T, DTestcentered2.T)"
      ],
      "metadata": {
        "id": "xjwUsfeGyo4L"
      },
      "execution_count": null,
      "outputs": []
    },
    {
      "cell_type": "code",
      "source": [
        "# U21=eigenVectors22[:,:int(R)]\n",
        "# projection_matrix = U21\n",
        "# projected_data21 = np.dot(DTraincentered2,projection_matrix)\n",
        "# projected_data22 = np.dot(DTestcentered2,projection_matrix)"
      ],
      "metadata": {
        "id": "erAQrcAL4d0m"
      },
      "execution_count": null,
      "outputs": []
    },
    {
      "cell_type": "code",
      "source": [
        "projected_data21 = np.real(projected_data21.T)\n",
        "projected_data22 = np.real(projected_data22.T)"
      ],
      "metadata": {
        "id": "TRMjCCFW7Vc-"
      },
      "execution_count": null,
      "outputs": []
    },
    {
      "cell_type": "code",
      "source": [
        "print(projection_matrix.shape)\n",
        "print(DTraincentered2.shape)\n",
        "print(projected_data21.T.shape)\n",
        "print(Ytrain2.shape)\n",
        "print(projected_data22.T.shape)\n",
        "print(Ytest2.shape)\n"
      ],
      "metadata": {
        "colab": {
          "base_uri": "https://localhost:8080/"
        },
        "id": "p2-XX4Aq0P6f",
        "outputId": "d2b804b1-1a82-4ba3-c434-78d476f868f6"
      },
      "execution_count": null,
      "outputs": [
        {
          "output_type": "stream",
          "name": "stdout",
          "text": [
            "(10304, 124)\n",
            "(700, 10304)\n",
            "(124, 700)\n",
            "(700, 1)\n",
            "(124, 400)\n",
            "(400, 1)\n"
          ]
        }
      ]
    },
    {
      "cell_type": "code",
      "source": [
        "knn = KNeighborsClassifier(n_neighbors=1)\n",
        "knn.fit(projected_data21, Ytrain2)\n",
        "print(\"Accuracy with R = \", R, \": \", knn.score(projected_data22, Ytest2))"
      ],
      "metadata": {
        "colab": {
          "base_uri": "https://localhost:8080/"
        },
        "id": "6gHX6bX2zEO-",
        "outputId": "012e8f79-1d24-4804-d5ad-de17fbf08842"
      },
      "execution_count": null,
      "outputs": [
        {
          "output_type": "stream",
          "name": "stdout",
          "text": [
            "Accuracy with R =  124 :  0.945\n"
          ]
        },
        {
          "output_type": "stream",
          "name": "stderr",
          "text": [
            "/usr/local/lib/python3.9/dist-packages/sklearn/neighbors/_classification.py:215: DataConversionWarning: A column-vector y was passed when a 1d array was expected. Please change the shape of y to (n_samples,), for example using ravel().\n",
            "  return self._fit(X, y)\n"
          ]
        }
      ]
    },
    {
      "cell_type": "code",
      "source": [
        "Mu1=np.mean(Dtrain2[:200,:], axis=0)\n",
        "Mu2=np.mean(Dtrain2[200:,:], axis=0)"
      ],
      "metadata": {
        "id": "7Trqzyy7b6m5"
      },
      "execution_count": null,
      "outputs": []
    },
    {
      "cell_type": "code",
      "source": [
        "print(Dtrain2[:200,:].shape)\n",
        "print(Dtrain2[200:,:].shape)"
      ],
      "metadata": {
        "colab": {
          "base_uri": "https://localhost:8080/"
        },
        "id": "fV2y755c6MuC",
        "outputId": "95e45e1d-3ca4-48ea-a5cc-f03b00de1e33"
      },
      "execution_count": null,
      "outputs": [
        {
          "output_type": "stream",
          "name": "stdout",
          "text": [
            "(200, 10304)\n",
            "(500, 10304)\n"
          ]
        }
      ]
    },
    {
      "cell_type": "code",
      "source": [
        "# Sb=np.dot(((Mu1-Mu2).reshape(10304,1)),(Mu1-Mu2).reshape(10304,1).T)\n",
        "\n",
        "\n",
        "Sb=np.zeros((10304,10304))\n",
        "Sb=200*np.dot((Mu1.reshape(10304,1)-np.mean(Dtrain, axis=0).reshape(10304,1)),(Mu1.reshape(10304,1)-np.mean(Dtrain, axis=0).reshape(10304,1)).T)+500*np.dot((Mu2.reshape(10304,1)-np.mean(Dtrain, axis=0).reshape(10304,1)),(Mu2.reshape(10304,1)-np.mean(Dtrain, axis=0).reshape(10304,1)).T)"
      ],
      "metadata": {
        "id": "yD5ogPpqfFU-"
      },
      "execution_count": null,
      "outputs": []
    },
    {
      "cell_type": "code",
      "source": [
        "print(Sb)"
      ],
      "metadata": {
        "colab": {
          "base_uri": "https://localhost:8080/"
        },
        "id": "HJxZAHK1RIuC",
        "outputId": "7d2a2508-9ec5-4578-ac73-3bd8f63aa46f"
      },
      "execution_count": null,
      "outputs": [
        {
          "output_type": "stream",
          "name": "stdout",
          "text": [
            "[[2181059.848  2177243.332  2151569.354  ... 2293514.828  2406702.166\n",
            "  2499127.312 ]\n",
            " [2177243.332  2173475.183  2147873.101  ... 2289076.887  2402209.924\n",
            "  2494399.623 ]\n",
            " [2151569.354  2147873.101  2122590.6845 ... 2261804.439  2373698.1155\n",
            "  2464752.156 ]\n",
            " ...\n",
            " [2293514.828  2289076.887  2261804.439  ... 2416093.463  2533652.366\n",
            "  2631593.827 ]\n",
            " [2406702.166  2402209.924  2373698.1155 ... 2533652.366  2657580.9295\n",
            "  2760064.639 ]\n",
            " [2499127.312  2494399.623  2464752.156  ... 2631593.827  2760064.639\n",
            "  2866595.333 ]]\n"
          ]
        }
      ]
    },
    {
      "cell_type": "code",
      "source": [
        "LDAcentertrain22=np.zeros((nonfacenum,10304))\n",
        "i=0\n",
        "for r in Dtrain2:\n",
        "  if i<200:\n",
        "    LDAcentertrain22[i]=r-Mu1\n",
        "  else:\n",
        "    LDAcentertrain22[i]=r-Mu2\n",
        "  i=i+1\n"
      ],
      "metadata": {
        "id": "bCPhVv6ggPEI"
      },
      "execution_count": null,
      "outputs": []
    },
    {
      "cell_type": "code",
      "source": [
        "S1=np.matmul(LDAcentertrain22[:200,:].T,LDAcentertrain22[:200,:])\n",
        "S2=np.matmul(LDAcentertrain22[200:,:].T,LDAcentertrain22[200:,:])\n",
        "S=S1+S2\n",
        "# S=np.cov(S)"
      ],
      "metadata": {
        "id": "kArN5M5UjBsh"
      },
      "execution_count": null,
      "outputs": []
    },
    {
      "cell_type": "code",
      "source": [
        "# for c in Dtrain2:\n",
        "#     S += np.cov(c.T, bias=True) * (len(c) - 1)"
      ],
      "metadata": {
        "id": "SYQlvGzpw-AZ"
      },
      "execution_count": null,
      "outputs": []
    },
    {
      "cell_type": "code",
      "source": [
        "IS = np.linalg.inv(S)"
      ],
      "metadata": {
        "id": "BE4Rd-95jeeQ"
      },
      "execution_count": null,
      "outputs": []
    },
    {
      "cell_type": "code",
      "source": [
        "eigenvalues22, eigenvectors22 = np.linalg.eigh(np.dot(IS,Sb))"
      ],
      "metadata": {
        "id": "VQC87yXljin8"
      },
      "execution_count": null,
      "outputs": []
    },
    {
      "cell_type": "code",
      "source": [
        "idx = np.argsort(-(eigenvalues22))   \n",
        "eigenValues22 = eigenvalues22[idx]\n",
        "eigenVectors22 = eigenvectors22[:,idx]"
      ],
      "metadata": {
        "id": "Mk4heEg7ks-R"
      },
      "execution_count": null,
      "outputs": []
    },
    {
      "cell_type": "code",
      "source": [
        "U22=eigenVectors22[:,:2]\n",
        "projection_matrix = U22\n",
        "projected_data22 = np.dot(projection_matrix.T, DTraincentered2.T)\n",
        "projected_data222 = np.dot(projection_matrix.T, DTestcentered2.T)"
      ],
      "metadata": {
        "id": "JJ4ldrvUkv3c"
      },
      "execution_count": null,
      "outputs": []
    },
    {
      "cell_type": "code",
      "source": [
        "knn = KNeighborsClassifier(n_neighbors=1)\n",
        "knn.fit(projected_data22.T, Ytrain2)\n",
        "print(\"Accuracy with R = 1: \", knn.score(projected_data222.T, Ytest2))"
      ],
      "metadata": {
        "colab": {
          "base_uri": "https://localhost:8080/"
        },
        "id": "YYsVjLQIlKaZ",
        "outputId": "31885cbe-107c-4eed-eebf-fe8d61a5e7fc"
      },
      "execution_count": null,
      "outputs": [
        {
          "output_type": "stream",
          "name": "stdout",
          "text": [
            "Accuracy with R = 1:  0.845\n"
          ]
        },
        {
          "output_type": "stream",
          "name": "stderr",
          "text": [
            "/usr/local/lib/python3.9/dist-packages/sklearn/neighbors/_classification.py:215: DataConversionWarning: A column-vector y was passed when a 1d array was expected. Please change the shape of y to (n_samples,), for example using ravel().\n",
            "  return self._fit(X, y)\n"
          ]
        }
      ]
    },
    {
      "cell_type": "code",
      "source": [
        "from PIL import Image\n",
        "import matplotlib.pyplot as plt\n",
        "\n",
        "plt.imshow(Dtrain2[200].reshape(112,92), cmap='gray')\n",
        "\n",
        "# Show the plot\n",
        "plt.show()"
      ],
      "metadata": {
        "colab": {
          "base_uri": "https://localhost:8080/",
          "height": 268
        },
        "id": "6XXH_Qou2nD4",
        "outputId": "1ed3fe3d-fd0f-4edd-f3bf-5c32de347eeb"
      },
      "execution_count": null,
      "outputs": [
        {
          "output_type": "display_data",
          "data": {
            "text/plain": [
              "<Figure size 432x288 with 1 Axes>"
            ],
            "image/png": "[encoded data removed]"
          },
          "metadata": {
            "needs_background": "light"
          }
        }
      ]
    },
    {
      "cell_type": "code",
      "source": [
        "print(projected_data22.T.shape)\n",
        "print(Ytrain2.shape)\n",
        "print(projected_data222.T.shape)\n",
        "print(Ytest2.shape)"
      ],
      "metadata": {
        "colab": {
          "base_uri": "https://localhost:8080/"
        },
        "id": "fuKytLuJmQqS",
        "outputId": "fe4d969b-2212-4194-b25a-e2a5b22f32bd"
      },
      "execution_count": null,
      "outputs": [
        {
          "output_type": "stream",
          "name": "stdout",
          "text": [
            "(700, 1)\n",
            "(700, 1)\n",
            "(400, 1)\n",
            "(400, 1)\n"
          ]
        }
      ]
    },
    {
      "cell_type": "code",
      "source": [
        "print(projected_data22[0,300])"
      ],
      "metadata": {
        "colab": {
          "base_uri": "https://localhost:8080/"
        },
        "id": "FOAg1Jpwomdg",
        "outputId": "9ebb4eb4-ef4a-4436-be89-c87600858b7f"
      },
      "execution_count": null,
      "outputs": [
        {
          "output_type": "stream",
          "name": "stdout",
          "text": [
            "3.678345659635383\n"
          ]
        }
      ]
    },
    {
      "cell_type": "markdown",
      "source": [
        "### Old"
      ],
      "metadata": {
        "id": "15enPKD5gKY4"
      }
    },
    {
      "cell_type": "code",
      "source": [
        "!pip install kaggle\n",
        "!mkdir ~/.kaggle\n",
        "!cp \"/content/drive/My Drive/kaggle.json\" ~/.kaggle/\n",
        "!kaggle datasets download -d prasunroy/natural-images -p /content/drive/MyDrive/nonfaceimages\n"
      ],
      "metadata": {
        "id": "5LY8pmsQ7uLb"
      },
      "execution_count": null,
      "outputs": []
    },
    {
      "cell_type": "code",
      "source": [
        "!unzip '/content/drive/MyDrive/nonfaceimages/natural-images.zip' -d '/content/drive/MyDrive/nonface'"
      ],
      "metadata": {
        "id": "bxq9Qy4e7xK1"
      },
      "execution_count": null,
      "outputs": []
    },
    {
      "cell_type": "code",
      "source": [
        "import cv2\n",
        "import numpy as np\n",
        "import os\n",
        "nonface_images = []\n",
        "dataMatrixnonface = np.zeros((350, 10304))\n",
        "# Function to resize images to 92x112 pixels\n",
        "images_folder = \"/content/drive/MyDrive/nonface/data/natural_images/flower/\"\n",
        "resized_images_folder = os.path.join(images_folder, 'resized')\n",
        "print(os.listdir(images_folder))\n",
        "os.makedirs(resized_images_folder, exist_ok=True)\n",
        "i=0\n",
        "for filename in os.listdir(images_folder):\n",
        "    if filename.endswith('.jpg') or filename.endswith('.png'):\n",
        "        # Load image and resize to 92x112 pixels\n",
        "        image_path = os.path.join(images_folder, filename)\n",
        "        image = Image.open(f\"{images_folder}/{filename}\")\n",
        "         # Convert the image to grayscale \n",
        "        image = image.convert('L') \n",
        "        img_resized = image.resize((92, 112))\n",
        "        image_array_nonface = np.array(img_resized).flatten()\n",
        "        dataMatrixnonface[i]=image_array_nonface\n",
        "        i=i+1\n",
        "        if i==50:\n",
        "          break\n",
        "\n",
        "\n"
      ],
      "metadata": {
        "colab": {
          "base_uri": "https://localhost:8080/"
        },
        "id": "2Rq9neyq75Ou",
        "outputId": "d0f9a4ce-f584-4ede-8702-bcf209893ddd"
      },
      "execution_count": null,
      "outputs": [
        {
          "output_type": "stream",
          "name": "stdout",
          "text": [
            "['flower_0037.jpg', 'flower_0073.jpg', 'flower_0000.jpg', 'flower_0058.jpg', 'flower_0023.jpg', 'flower_0018.jpg', 'flower_0025.jpg', 'flower_0056.jpg', 'flower_0034.jpg', 'flower_0054.jpg', 'flower_0067.jpg', 'flower_0087.jpg', 'flower_0082.jpg', 'flower_0039.jpg', 'flower_0051.jpg', 'flower_0065.jpg', 'flower_0053.jpg', 'flower_0076.jpg', 'flower_0066.jpg', 'flower_0002.jpg', 'flower_0014.jpg', 'flower_0011.jpg', 'flower_0043.jpg', 'flower_0062.jpg', 'flower_0015.jpg', 'flower_0074.jpg', 'flower_0042.jpg', 'flower_0005.jpg', 'flower_0069.jpg', 'flower_0041.jpg', 'flower_0028.jpg', 'flower_0029.jpg', 'flower_0024.jpg', 'flower_0001.jpg', 'flower_0048.jpg', 'flower_0086.jpg', 'flower_0052.jpg', 'flower_0020.jpg', 'flower_0049.jpg', 'flower_0003.jpg', 'flower_0012.jpg', 'flower_0072.jpg', 'flower_0036.jpg', 'flower_0026.jpg', 'flower_0092.jpg', 'flower_0064.jpg', 'flower_0045.jpg', 'flower_0050.jpg', 'flower_0022.jpg', 'flower_0046.jpg', 'flower_0010.jpg', 'flower_0057.jpg', 'flower_0063.jpg', 'flower_0055.jpg', 'flower_0040.jpg', 'flower_0021.jpg', 'flower_0008.jpg', 'flower_0094.jpg', 'flower_0085.jpg', 'flower_0031.jpg', 'flower_0004.jpg', 'flower_0006.jpg', 'flower_0091.jpg', 'flower_0027.jpg', 'flower_0030.jpg', 'flower_0016.jpg', 'flower_0009.jpg', 'flower_0081.jpg', 'flower_0017.jpg', 'flower_0088.jpg', 'flower_0075.jpg', 'flower_0079.jpg', 'flower_0032.jpg', 'flower_0035.jpg', 'flower_0084.jpg', 'flower_0089.jpg', 'flower_0019.jpg', 'flower_0078.jpg', 'flower_0061.jpg', 'flower_0060.jpg', 'flower_0033.jpg', 'flower_0068.jpg', 'flower_0083.jpg', 'flower_0077.jpg', 'flower_0007.jpg', 'flower_0038.jpg', 'flower_0047.jpg', 'flower_0044.jpg', 'flower_0071.jpg', 'flower_0080.jpg', 'flower_0093.jpg', 'flower_0090.jpg', 'flower_0070.jpg', 'flower_0013.jpg', 'flower_0059.jpg', 'flower_0314.jpg', 'flower_0122.jpg', 'flower_0143.jpg', 'flower_0316.jpg', 'flower_0216.jpg', 'flower_0235.jpg', 'flower_0270.jpg', 'flower_0321.jpg', 'flower_0158.jpg', 'flower_0211.jpg', 'flower_0283.jpg', 'flower_0161.jpg', 'flower_0098.jpg', 'flower_0155.jpg', 'flower_0114.jpg', 'flower_0105.jpg', 'flower_0234.jpg', 'flower_0309.jpg', 'flower_0303.jpg', 'flower_0207.jpg', 'flower_0257.jpg', 'flower_0141.jpg', 'flower_0195.jpg', 'flower_0173.jpg', 'flower_0191.jpg', 'flower_0113.jpg', 'flower_0199.jpg', 'flower_0154.jpg', 'flower_0278.jpg', 'flower_0299.jpg', 'flower_0204.jpg', 'flower_0100.jpg', 'flower_0187.jpg', 'flower_0121.jpg', 'flower_0160.jpg', 'flower_0225.jpg', 'flower_0118.jpg', 'flower_0317.jpg', 'flower_0307.jpg', 'flower_0275.jpg', 'flower_0223.jpg', 'flower_0104.jpg', 'flower_0233.jpg', 'flower_0300.jpg', 'flower_0336.jpg', 'flower_0140.jpg', 'flower_0139.jpg', 'flower_0164.jpg', 'flower_0126.jpg', 'flower_0125.jpg', 'flower_0281.jpg', 'flower_0239.jpg', 'flower_0273.jpg', 'flower_0248.jpg', 'flower_0186.jpg', 'flower_0108.jpg', 'flower_0338.jpg', 'flower_0215.jpg', 'flower_0296.jpg', 'flower_0271.jpg', 'flower_0256.jpg', 'flower_0119.jpg', 'flower_0097.jpg', 'flower_0282.jpg', 'flower_0294.jpg', 'flower_0252.jpg', 'flower_0240.jpg', 'flower_0217.jpg', 'flower_0101.jpg', 'flower_0260.jpg', 'flower_0142.jpg', 'flower_0127.jpg', 'flower_0262.jpg', 'flower_0326.jpg', 'flower_0229.jpg', 'flower_0123.jpg', 'flower_0291.jpg', 'flower_0111.jpg', 'flower_0264.jpg', 'flower_0103.jpg', 'flower_0327.jpg', 'flower_0238.jpg', 'flower_0268.jpg', 'flower_0288.jpg', 'flower_0210.jpg', 'flower_0242.jpg', 'flower_0244.jpg', 'flower_0335.jpg', 'flower_0169.jpg', 'flower_0095.jpg', 'flower_0138.jpg', 'flower_0295.jpg', 'flower_0290.jpg', 'flower_0115.jpg', 'flower_0269.jpg', 'flower_0334.jpg', 'flower_0277.jpg', 'flower_0247.jpg', 'flower_0208.jpg', 'flower_0171.jpg', 'flower_0116.jpg', 'flower_0279.jpg', 'flower_0179.jpg', 'flower_0185.jpg', 'flower_0261.jpg', 'flower_0259.jpg', 'flower_0253.jpg', 'flower_0137.jpg', 'flower_0203.jpg', 'flower_0135.jpg', 'flower_0313.jpg', 'flower_0157.jpg', 'flower_0146.jpg', 'flower_0310.jpg', 'flower_0324.jpg', 'flower_0110.jpg', 'flower_0286.jpg', 'flower_0265.jpg', 'flower_0189.jpg', 'flower_0276.jpg', 'flower_0297.jpg', 'flower_0284.jpg', 'flower_0292.jpg', 'flower_0263.jpg', 'flower_0159.jpg', 'flower_0130.jpg', 'flower_0221.jpg', 'flower_0285.jpg', 'flower_0177.jpg', 'flower_0150.jpg', 'flower_0214.jpg', 'flower_0152.jpg', 'flower_0201.jpg', 'flower_0241.jpg', 'flower_0206.jpg', 'flower_0332.jpg', 'flower_0134.jpg', 'flower_0302.jpg', 'flower_0255.jpg', 'flower_0184.jpg', 'flower_0245.jpg', 'flower_0149.jpg', 'flower_0192.jpg', 'flower_0183.jpg', 'flower_0219.jpg', 'flower_0168.jpg', 'flower_0202.jpg', 'flower_0132.jpg', 'flower_0163.jpg', 'flower_0200.jpg', 'flower_0315.jpg', 'flower_0194.jpg', 'flower_0228.jpg', 'flower_0107.jpg', 'flower_0167.jpg', 'flower_0117.jpg', 'flower_0320.jpg', 'flower_0198.jpg', 'flower_0190.jpg', 'flower_0129.jpg', 'flower_0232.jpg', 'flower_0133.jpg', 'flower_0178.jpg', 'flower_0180.jpg', 'flower_0289.jpg', 'flower_0213.jpg', 'flower_0151.jpg', 'flower_0280.jpg', 'flower_0175.jpg', 'flower_0250.jpg', 'flower_0243.jpg', 'flower_0172.jpg', 'flower_0209.jpg', 'flower_0272.jpg', 'flower_0227.jpg', 'flower_0162.jpg', 'flower_0196.jpg', 'flower_0170.jpg', 'flower_0102.jpg', 'flower_0144.jpg', 'flower_0128.jpg', 'flower_0251.jpg', 'flower_0328.jpg', 'flower_0230.jpg', 'flower_0331.jpg', 'flower_0293.jpg', 'flower_0212.jpg', 'flower_0224.jpg', 'flower_0188.jpg', 'flower_0109.jpg', 'flower_0136.jpg', 'flower_0220.jpg', 'flower_0312.jpg', 'flower_0182.jpg', 'flower_0166.jpg', 'flower_0301.jpg', 'flower_0120.jpg', 'flower_0306.jpg', 'flower_0174.jpg', 'flower_0147.jpg', 'flower_0237.jpg', 'flower_0165.jpg', 'flower_0148.jpg', 'flower_0287.jpg', 'flower_0106.jpg', 'flower_0226.jpg', 'flower_0254.jpg', 'flower_0337.jpg', 'flower_0325.jpg', 'flower_0249.jpg', 'flower_0222.jpg', 'flower_0205.jpg', 'flower_0258.jpg', 'flower_0153.jpg', 'flower_0156.jpg', 'flower_0096.jpg', 'flower_0322.jpg', 'flower_0318.jpg', 'flower_0339.jpg', 'flower_0112.jpg', 'flower_0305.jpg', 'flower_0311.jpg', 'flower_0267.jpg', 'flower_0193.jpg', 'flower_0131.jpg', 'flower_0274.jpg', 'flower_0323.jpg', 'flower_0298.jpg', 'flower_0231.jpg', 'flower_0304.jpg', 'flower_0330.jpg', 'flower_0181.jpg', 'flower_0145.jpg', 'flower_0236.jpg', 'flower_0333.jpg', 'flower_0197.jpg', 'flower_0308.jpg', 'flower_0319.jpg', 'flower_0176.jpg', 'flower_0218.jpg', 'flower_0329.jpg', 'flower_0124.jpg', 'flower_0266.jpg', 'flower_0099.jpg', 'flower_0246.jpg', 'flower_0384.jpg', 'flower_0522.jpg', 'flower_0401.jpg', 'flower_0419.jpg', 'flower_0563.jpg', 'flower_0408.jpg', 'flower_0529.jpg', 'flower_0362.jpg', 'flower_0561.jpg', 'flower_0497.jpg', 'flower_0396.jpg', 'flower_0420.jpg', 'flower_0412.jpg', 'flower_0537.jpg', 'flower_0460.jpg', 'flower_0588.jpg', 'flower_0449.jpg', 'flower_0539.jpg', 'flower_0402.jpg', 'flower_0427.jpg', 'flower_0378.jpg', 'flower_0479.jpg', 'flower_0530.jpg', 'flower_0461.jpg', 'flower_0455.jpg', 'flower_0531.jpg', 'flower_0592.jpg', 'flower_0354.jpg', 'flower_0442.jpg', 'flower_0346.jpg', 'flower_0512.jpg', 'flower_0448.jpg', 'flower_0502.jpg', 'flower_0431.jpg', 'flower_0430.jpg', 'flower_0424.jpg', 'flower_0486.jpg', 'flower_0475.jpg', 'flower_0473.jpg', 'flower_0480.jpg', 'flower_0351.jpg', 'flower_0604.jpg', 'flower_0382.jpg', 'flower_0376.jpg', 'flower_0576.jpg', 'flower_0369.jpg', 'flower_0399.jpg', 'flower_0394.jpg', 'flower_0593.jpg', 'flower_0410.jpg', 'flower_0551.jpg', 'flower_0422.jpg', 'flower_0434.jpg', 'flower_0586.jpg', 'flower_0601.jpg', 'flower_0348.jpg', 'flower_0589.jpg', 'flower_0585.jpg', 'flower_0603.jpg', 'flower_0341.jpg', 'flower_0425.jpg', 'flower_0447.jpg', 'flower_0534.jpg', 'flower_0468.jpg', 'flower_0489.jpg', 'flower_0541.jpg', 'flower_0398.jpg', 'flower_0582.jpg', 'flower_0562.jpg', 'flower_0505.jpg', 'flower_0356.jpg', 'flower_0503.jpg', 'flower_0368.jpg', 'flower_0567.jpg', 'flower_0446.jpg', 'flower_0470.jpg', 'flower_0598.jpg', 'flower_0418.jpg', 'flower_0450.jpg', 'flower_0500.jpg', 'flower_0360.jpg', 'flower_0429.jpg', 'flower_0407.jpg', 'flower_0443.jpg', 'flower_0553.jpg', 'flower_0428.jpg', 'flower_0377.jpg', 'flower_0550.jpg', 'flower_0345.jpg', 'flower_0436.jpg', 'flower_0414.jpg', 'flower_0472.jpg', 'flower_0365.jpg', 'flower_0361.jpg', 'flower_0435.jpg', 'flower_0391.jpg', 'flower_0605.jpg', 'flower_0518.jpg', 'flower_0432.jpg', 'flower_0463.jpg', 'flower_0487.jpg', 'flower_0577.jpg', 'flower_0573.jpg', 'flower_0386.jpg', 'flower_0516.jpg', 'flower_0477.jpg', 'flower_0392.jpg', 'flower_0492.jpg', 'flower_0474.jpg', 'flower_0440.jpg', 'flower_0364.jpg', 'flower_0509.jpg', 'flower_0453.jpg', 'flower_0383.jpg', 'flower_0575.jpg', 'flower_0415.jpg', 'flower_0578.jpg', 'flower_0485.jpg', 'flower_0566.jpg', 'flower_0494.jpg', 'flower_0558.jpg', 'flower_0406.jpg', 'flower_0555.jpg', 'flower_0559.jpg', 'flower_0353.jpg', 'flower_0381.jpg', 'flower_0387.jpg', 'flower_0570.jpg', 'flower_0547.jpg', 'flower_0411.jpg', 'flower_0416.jpg', 'flower_0374.jpg', 'flower_0584.jpg', 'flower_0572.jpg', 'flower_0344.jpg', 'flower_0579.jpg', 'flower_0552.jpg', 'flower_0554.jpg', 'flower_0439.jpg', 'flower_0456.jpg', 'flower_0445.jpg', 'flower_0478.jpg', 'flower_0571.jpg', 'flower_0564.jpg', 'flower_0542.jpg', 'flower_0560.jpg', 'flower_0581.jpg', 'flower_0583.jpg', 'flower_0370.jpg', 'flower_0536.jpg', 'flower_0535.jpg', 'flower_0491.jpg', 'flower_0527.jpg', 'flower_0490.jpg', 'flower_0498.jpg', 'flower_0540.jpg', 'flower_0528.jpg', 'flower_0568.jpg', 'flower_0599.jpg', 'flower_0569.jpg', 'flower_0482.jpg', 'flower_0363.jpg', 'flower_0587.jpg', 'flower_0532.jpg', 'flower_0476.jpg', 'flower_0357.jpg', 'flower_0488.jpg', 'flower_0565.jpg', 'flower_0395.jpg', 'flower_0549.jpg', 'flower_0343.jpg', 'flower_0600.jpg', 'flower_0538.jpg', 'flower_0499.jpg', 'flower_0355.jpg', 'flower_0557.jpg', 'flower_0371.jpg', 'flower_0437.jpg', 'flower_0358.jpg', 'flower_0388.jpg', 'flower_0515.jpg', 'flower_0350.jpg', 'flower_0504.jpg', 'flower_0464.jpg', 'flower_0373.jpg', 'flower_0521.jpg', 'flower_0462.jpg', 'flower_0556.jpg', 'flower_0493.jpg', 'flower_0441.jpg', 'flower_0596.jpg', 'flower_0465.jpg', 'flower_0548.jpg', 'flower_0404.jpg', 'flower_0352.jpg', 'flower_0379.jpg', 'flower_0484.jpg', 'flower_0590.jpg', 'flower_0342.jpg', 'flower_0519.jpg', 'flower_0501.jpg', 'flower_0366.jpg', 'flower_0433.jpg', 'flower_0347.jpg', 'flower_0340.jpg', 'flower_0454.jpg', 'flower_0389.jpg', 'flower_0513.jpg', 'flower_0591.jpg', 'flower_0514.jpg', 'flower_0438.jpg', 'flower_0372.jpg', 'flower_0417.jpg', 'flower_0544.jpg', 'flower_0367.jpg', 'flower_0511.jpg', 'flower_0459.jpg', 'flower_0426.jpg', 'flower_0403.jpg', 'flower_0594.jpg', 'flower_0423.jpg', 'flower_0359.jpg', 'flower_0349.jpg', 'flower_0385.jpg', 'flower_0483.jpg', 'flower_0506.jpg', 'flower_0466.jpg', 'flower_0457.jpg', 'flower_0458.jpg', 'flower_0520.jpg', 'flower_0508.jpg', 'flower_0393.jpg', 'flower_0471.jpg', 'flower_0525.jpg', 'flower_0523.jpg', 'flower_0495.jpg', 'flower_0507.jpg', 'flower_0595.jpg', 'flower_0390.jpg', 'flower_0467.jpg', 'flower_0469.jpg', 'flower_0452.jpg', 'flower_0545.jpg', 'flower_0409.jpg', 'flower_0496.jpg', 'flower_0602.jpg', 'flower_0533.jpg', 'flower_0397.jpg', 'flower_0574.jpg', 'flower_0526.jpg', 'flower_0510.jpg', 'flower_0405.jpg', 'flower_0421.jpg', 'flower_0481.jpg', 'flower_0597.jpg', 'flower_0413.jpg', 'flower_0380.jpg', 'flower_0444.jpg', 'flower_0517.jpg', 'flower_0580.jpg', 'flower_0524.jpg', 'flower_0400.jpg', 'flower_0543.jpg', 'flower_0546.jpg', 'flower_0451.jpg', 'flower_0375.jpg', 'flower_0623.jpg', 'flower_0771.jpg', 'flower_0718.jpg', 'flower_0681.jpg', 'flower_0799.jpg', 'flower_0792.jpg', 'flower_0744.jpg', 'flower_0642.jpg', 'flower_0716.jpg', 'flower_0630.jpg', 'flower_0708.jpg', 'flower_0629.jpg', 'flower_0797.jpg', 'flower_0650.jpg', 'flower_0790.jpg', 'flower_0610.jpg', 'flower_0684.jpg', 'flower_0776.jpg', 'flower_0827.jpg', 'flower_0746.jpg', 'flower_0643.jpg', 'flower_0788.jpg', 'flower_0813.jpg', 'flower_0639.jpg', 'flower_0686.jpg', 'flower_0787.jpg', 'flower_0768.jpg', 'flower_0749.jpg', 'flower_0622.jpg', 'flower_0710.jpg', 'flower_0719.jpg', 'flower_0689.jpg', 'flower_0825.jpg', 'flower_0800.jpg', 'flower_0712.jpg', 'flower_0807.jpg', 'flower_0637.jpg', 'flower_0751.jpg', 'flower_0657.jpg', 'flower_0691.jpg', 'flower_0618.jpg', 'flower_0839.jpg', 'flower_0713.jpg', 'flower_0703.jpg', 'flower_0726.jpg', 'flower_0750.jpg', 'flower_0730.jpg', 'flower_0679.jpg', 'flower_0757.jpg', 'flower_0608.jpg', 'flower_0760.jpg', 'flower_0789.jpg', 'flower_0842.jpg', 'flower_0664.jpg', 'flower_0635.jpg', 'flower_0671.jpg', 'flower_0646.jpg', 'flower_0661.jpg', 'flower_0775.jpg', 'flower_0612.jpg', 'flower_0694.jpg', 'flower_0752.jpg', 'flower_0814.jpg', 'flower_0625.jpg', 'flower_0709.jpg', 'flower_0834.jpg', 'flower_0636.jpg', 'flower_0828.jpg', 'flower_0812.jpg', 'flower_0780.jpg', 'flower_0700.jpg', 'flower_0614.jpg', 'flower_0715.jpg', 'flower_0647.jpg', 'flower_0649.jpg', 'flower_0841.jpg', 'flower_0822.jpg', 'flower_0688.jpg', 'flower_0740.jpg', 'flower_0665.jpg', 'flower_0615.jpg', 'flower_0729.jpg', 'flower_0617.jpg', 'flower_0651.jpg', 'flower_0838.jpg', 'flower_0621.jpg', 'flower_0640.jpg', 'flower_0823.jpg', 'flower_0616.jpg', 'flower_0818.jpg', 'flower_0761.jpg', 'flower_0611.jpg', 'flower_0778.jpg', 'flower_0632.jpg', 'flower_0769.jpg', 'flower_0677.jpg', 'flower_0723.jpg', 'flower_0764.jpg', 'flower_0832.jpg', 'flower_0774.jpg', 'flower_0747.jpg', 'flower_0781.jpg', 'flower_0697.jpg', 'flower_0675.jpg', 'flower_0820.jpg', 'flower_0659.jpg', 'flower_0810.jpg', 'flower_0695.jpg', 'flower_0609.jpg', 'flower_0782.jpg', 'flower_0711.jpg', 'flower_0738.jpg', 'flower_0754.jpg', 'flower_0704.jpg', 'flower_0756.jpg', 'flower_0815.jpg', 'flower_0759.jpg', 'flower_0693.jpg', 'flower_0728.jpg', 'flower_0698.jpg', 'flower_0656.jpg', 'flower_0762.jpg', 'flower_0727.jpg', 'flower_0722.jpg', 'flower_0733.jpg', 'flower_0742.jpg', 'flower_0817.jpg', 'flower_0685.jpg', 'flower_0672.jpg', 'flower_0836.jpg', 'flower_0748.jpg', 'flower_0607.jpg', 'flower_0829.jpg', 'flower_0765.jpg', 'flower_0676.jpg', 'flower_0690.jpg', 'flower_0652.jpg', 'flower_0767.jpg', 'flower_0732.jpg', 'flower_0634.jpg', 'flower_0734.jpg', 'flower_0705.jpg', 'flower_0682.jpg', 'flower_0777.jpg', 'flower_0741.jpg', 'flower_0796.jpg', 'flower_0755.jpg', 'flower_0809.jpg', 'flower_0798.jpg', 'flower_0648.jpg', 'flower_0745.jpg', 'flower_0670.jpg', 'flower_0779.jpg', 'flower_0739.jpg', 'flower_0674.jpg', 'flower_0795.jpg', 'flower_0638.jpg', 'flower_0758.jpg', 'flower_0633.jpg', 'flower_0801.jpg', 'flower_0808.jpg', 'flower_0816.jpg', 'flower_0840.jpg', 'flower_0662.jpg', 'flower_0666.jpg', 'flower_0669.jpg', 'flower_0819.jpg', 'flower_0699.jpg', 'flower_0707.jpg', 'flower_0837.jpg', 'flower_0687.jpg', 'flower_0628.jpg', 'flower_0737.jpg', 'flower_0731.jpg', 'flower_0678.jpg', 'flower_0714.jpg', 'flower_0721.jpg', 'flower_0606.jpg', 'flower_0692.jpg', 'flower_0772.jpg', 'flower_0821.jpg', 'flower_0702.jpg', 'flower_0811.jpg', 'flower_0627.jpg', 'flower_0806.jpg', 'flower_0701.jpg', 'flower_0645.jpg', 'flower_0803.jpg', 'flower_0830.jpg', 'flower_0620.jpg', 'flower_0724.jpg', 'flower_0786.jpg', 'flower_0626.jpg', 'flower_0735.jpg', 'flower_0631.jpg', 'flower_0653.jpg', 'flower_0706.jpg', 'flower_0613.jpg', 'flower_0835.jpg', 'flower_0624.jpg', 'flower_0784.jpg', 'flower_0725.jpg', 'flower_0831.jpg', 'flower_0720.jpg', 'flower_0660.jpg', 'flower_0683.jpg', 'flower_0696.jpg', 'flower_0644.jpg', 'flower_0804.jpg', 'flower_0805.jpg', 'flower_0668.jpg', 'flower_0785.jpg', 'flower_0658.jpg', 'flower_0655.jpg', 'flower_0824.jpg', 'flower_0743.jpg', 'flower_0802.jpg', 'flower_0791.jpg', 'flower_0753.jpg', 'flower_0654.jpg', 'flower_0826.jpg', 'flower_0793.jpg', 'flower_0680.jpg', 'flower_0663.jpg', 'flower_0667.jpg', 'flower_0619.jpg', 'flower_0766.jpg', 'flower_0641.jpg', 'flower_0770.jpg', 'flower_0717.jpg', 'flower_0673.jpg', 'flower_0833.jpg', 'flower_0773.jpg', 'flower_0783.jpg', 'flower_0736.jpg', 'flower_0794.jpg', 'flower_0763.jpg', 'resized']\n"
          ]
        }
      ]
    },
    {
      "cell_type": "code",
      "source": [
        "\n",
        "# Function to resize images to 92x112 pixels\n",
        "images_folder = \"/content/drive/MyDrive/nonface/data/natural_images/dog/\"\n",
        "\n",
        "for filename in os.listdir(images_folder):\n",
        "    if filename.endswith('.jpg') or filename.endswith('.png'):\n",
        "        # Load image and resize to 92x112 pixels\n",
        "        image_path = os.path.join(images_folder, filename)\n",
        "        image = Image.open(f\"{images_folder}/{filename}\")\n",
        "         # Convert the image to grayscale \n",
        "        image = image.convert('L') \n",
        "        img_resized = image.resize((92, 112))\n",
        "        image_array_nonface = np.array(img_resized).flatten()\n",
        "        dataMatrixnonface[i]=image_array_nonface\n",
        "        i=i+1\n",
        "        if i==100:\n",
        "          break\n",
        "\n",
        "\n"
      ],
      "metadata": {
        "id": "Nx6oMqSs77ev"
      },
      "execution_count": null,
      "outputs": []
    },
    {
      "cell_type": "code",
      "source": [
        "\n",
        "# Function to resize images to 92x112 pixels\n",
        "images_folder = \"/content/drive/MyDrive/nonface/data/natural_images/cat/\"\n",
        "\n",
        "\n",
        "for filename in os.listdir(images_folder):\n",
        "    if filename.endswith('.jpg') or filename.endswith('.png'):\n",
        "        # Load image and resize to 92x112 pixels\n",
        "        image_path = os.path.join(images_folder, filename)\n",
        "        image = Image.open(f\"{images_folder}/{filename}\")\n",
        "         # Convert the image to grayscale \n",
        "        image = image.convert('L') \n",
        "        img_resized = image.resize((92, 112))\n",
        "        image_array_nonface = np.array(img_resized).flatten()\n",
        "        dataMatrixnonface[i]=image_array_nonface\n",
        "        i=i+1\n",
        "        if i==150:\n",
        "          break\n",
        "\n",
        "\n"
      ],
      "metadata": {
        "id": "8ASF7P_b7_y0"
      },
      "execution_count": null,
      "outputs": []
    },
    {
      "cell_type": "code",
      "source": [
        "\n",
        "# Function to resize images to 92x112 pixels\n",
        "images_folder = \"/content/drive/MyDrive/nonface/data/natural_images/fruit/\"\n",
        "\n",
        "\n",
        "for filename in os.listdir(images_folder):\n",
        "    if filename.endswith('.jpg') or filename.endswith('.png'):\n",
        "        # Load image and resize to 92x112 pixels\n",
        "        image_path = os.path.join(images_folder, filename)\n",
        "        image = Image.open(f\"{images_folder}/{filename}\")\n",
        "         # Convert the image to grayscale \n",
        "        image = image.convert('L') \n",
        "        img_resized = image.resize((92, 112))\n",
        "        image_array_nonface = np.array(img_resized).flatten()\n",
        "        dataMatrixnonface[i]=image_array_nonface\n",
        "        i=i+1\n",
        "        if i==200:\n",
        "          break\n",
        "\n",
        "\n"
      ],
      "metadata": {
        "id": "mg4bd5Fp8EUm"
      },
      "execution_count": null,
      "outputs": []
    },
    {
      "cell_type": "code",
      "source": [
        "\n",
        "# Function to resize images to 92x112 pixels\n",
        "images_folder = \"/content/drive/MyDrive/nonface/data/natural_images/airplane/\"\n",
        "\n",
        "\n",
        "for filename in os.listdir(images_folder):\n",
        "    if filename.endswith('.jpg') or filename.endswith('.png'):\n",
        "        # Load image and resize to 92x112 pixels\n",
        "        image_path = os.path.join(images_folder, filename)\n",
        "        image = Image.open(f\"{images_folder}/{filename}\")\n",
        "         # Convert the image to grayscale \n",
        "        image = image.convert('L') \n",
        "        img_resized = image.resize((92, 112))\n",
        "        image_array_nonface = np.array(img_resized).flatten()\n",
        "        dataMatrixnonface[i]=image_array_nonface\n",
        "        i=i+1\n",
        "        if i==250:\n",
        "          break\n",
        "\n",
        "\n"
      ],
      "metadata": {
        "id": "yPvaf2KU8IEv"
      },
      "execution_count": null,
      "outputs": []
    },
    {
      "cell_type": "code",
      "source": [
        "\n",
        "# Function to resize images to 92x112 pixels\n",
        "images_folder = \"/content/drive/MyDrive/nonface/data/natural_images/motorbike/\"\n",
        "resized_images_folder = os.path.join(images_folder, 'resized')\n",
        "print(os.listdir(images_folder))\n",
        "os.makedirs(resized_images_folder, exist_ok=True)\n",
        "\n",
        "for filename in os.listdir(images_folder):\n",
        "    if filename.endswith('.jpg') or filename.endswith('.png'):\n",
        "        # Load image and resize to 92x112 pixels\n",
        "        image_path = os.path.join(images_folder, filename)\n",
        "        image = Image.open(f\"{images_folder}/{filename}\")\n",
        "         # Convert the image to grayscale \n",
        "        image = image.convert('L') \n",
        "        img_resized = image.resize((92, 112))\n",
        "        image_array_nonface = np.array(img_resized).flatten()\n",
        "        dataMatrixnonface[i]=image_array_nonface\n",
        "        i=i+1\n",
        "        if i==300:\n",
        "          break\n",
        "\n",
        "\n"
      ],
      "metadata": {
        "colab": {
          "base_uri": "https://localhost:8080/"
        },
        "id": "mJQGbGA_8LbA",
        "outputId": "1e11b12d-a8d2-4a66-b7bc-be3c36d37ffd"
      },
      "execution_count": null,
      "outputs": [
        {
          "output_type": "stream",
          "name": "stdout",
          "text": [
            "['motorbike_0304.jpg', 'motorbike_0775.jpg', 'motorbike_0198.jpg', 'motorbike_0003.jpg', 'motorbike_0336.jpg', 'motorbike_0270.jpg', 'motorbike_0448.jpg', 'motorbike_0488.jpg', 'motorbike_0466.jpg', 'motorbike_0036.jpg', 'motorbike_0415.jpg', 'motorbike_0691.jpg', 'motorbike_0335.jpg', 'motorbike_0518.jpg', 'motorbike_0157.jpg', 'motorbike_0517.jpg', 'motorbike_0263.jpg', 'motorbike_0732.jpg', 'motorbike_0347.jpg', 'motorbike_0009.jpg', 'motorbike_0239.jpg', 'motorbike_0279.jpg', 'motorbike_0652.jpg', 'motorbike_0505.jpg', 'motorbike_0113.jpg', 'motorbike_0404.jpg', 'motorbike_0180.jpg', 'motorbike_0343.jpg', 'motorbike_0371.jpg', 'motorbike_0346.jpg', 'motorbike_0612.jpg', 'motorbike_0013.jpg', 'motorbike_0774.jpg', 'motorbike_0442.jpg', 'motorbike_0531.jpg', 'motorbike_0372.jpg', 'motorbike_0677.jpg', 'motorbike_0640.jpg', 'motorbike_0494.jpg', 'motorbike_0088.jpg', 'motorbike_0158.jpg', 'motorbike_0354.jpg', 'motorbike_0734.jpg', 'motorbike_0071.jpg', 'motorbike_0384.jpg', 'motorbike_0423.jpg', 'motorbike_0293.jpg', 'motorbike_0203.jpg', 'motorbike_0615.jpg', 'motorbike_0665.jpg', 'motorbike_0666.jpg', 'motorbike_0690.jpg', 'motorbike_0089.jpg', 'motorbike_0536.jpg', 'motorbike_0217.jpg', 'motorbike_0189.jpg', 'motorbike_0295.jpg', 'motorbike_0387.jpg', 'motorbike_0641.jpg', 'motorbike_0188.jpg', 'motorbike_0579.jpg', 'motorbike_0253.jpg', 'motorbike_0184.jpg', 'motorbike_0087.jpg', 'motorbike_0222.jpg', 'motorbike_0063.jpg', 'motorbike_0583.jpg', 'motorbike_0265.jpg', 'motorbike_0523.jpg', 'motorbike_0618.jpg', 'motorbike_0220.jpg', 'motorbike_0116.jpg', 'motorbike_0715.jpg', 'motorbike_0081.jpg', 'motorbike_0671.jpg', 'motorbike_0369.jpg', 'motorbike_0211.jpg', 'motorbike_0362.jpg', 'motorbike_0394.jpg', 'motorbike_0556.jpg', 'motorbike_0190.jpg', 'motorbike_0128.jpg', 'motorbike_0274.jpg', 'motorbike_0735.jpg', 'motorbike_0633.jpg', 'motorbike_0716.jpg', 'motorbike_0390.jpg', 'motorbike_0570.jpg', 'motorbike_0762.jpg', 'motorbike_0589.jpg', 'motorbike_0417.jpg', 'motorbike_0108.jpg', 'motorbike_0557.jpg', 'motorbike_0361.jpg', 'motorbike_0593.jpg', 'motorbike_0643.jpg', 'motorbike_0755.jpg', 'motorbike_0681.jpg', 'motorbike_0057.jpg', 'motorbike_0402.jpg', 'motorbike_0044.jpg', 'motorbike_0623.jpg', 'motorbike_0724.jpg', 'motorbike_0409.jpg', 'motorbike_0748.jpg', 'motorbike_0591.jpg', 'motorbike_0331.jpg', 'motorbike_0118.jpg', 'motorbike_0358.jpg', 'motorbike_0064.jpg', 'motorbike_0385.jpg', 'motorbike_0526.jpg', 'motorbike_0137.jpg', 'motorbike_0186.jpg', 'motorbike_0329.jpg', 'motorbike_0525.jpg', 'motorbike_0468.jpg', 'motorbike_0146.jpg', 'motorbike_0021.jpg', 'motorbike_0558.jpg', 'motorbike_0316.jpg', 'motorbike_0780.jpg', 'motorbike_0431.jpg', 'motorbike_0703.jpg', 'motorbike_0446.jpg', 'motorbike_0731.jpg', 'motorbike_0462.jpg', 'motorbike_0076.jpg', 'motorbike_0114.jpg', 'motorbike_0406.jpg', 'motorbike_0017.jpg', 'motorbike_0228.jpg', 'motorbike_0285.jpg', 'motorbike_0370.jpg', 'motorbike_0234.jpg', 'motorbike_0645.jpg', 'motorbike_0078.jpg', 'motorbike_0126.jpg', 'motorbike_0491.jpg', 'motorbike_0473.jpg', 'motorbike_0252.jpg', 'motorbike_0380.jpg', 'motorbike_0122.jpg', 'motorbike_0034.jpg', 'motorbike_0282.jpg', 'motorbike_0779.jpg', 'motorbike_0653.jpg', 'motorbike_0776.jpg', 'motorbike_0135.jpg', 'motorbike_0288.jpg', 'motorbike_0503.jpg', 'motorbike_0134.jpg', 'motorbike_0673.jpg', 'motorbike_0449.jpg', 'motorbike_0323.jpg', 'motorbike_0447.jpg', 'motorbike_0123.jpg', 'motorbike_0327.jpg', 'motorbike_0560.jpg', 'motorbike_0149.jpg', 'motorbike_0434.jpg', 'motorbike_0307.jpg', 'motorbike_0005.jpg', 'motorbike_0497.jpg', 'motorbike_0029.jpg', 'motorbike_0233.jpg', 'motorbike_0163.jpg', 'motorbike_0351.jpg', 'motorbike_0280.jpg', 'motorbike_0043.jpg', 'motorbike_0200.jpg', 'motorbike_0208.jpg', 'motorbike_0490.jpg', 'motorbike_0124.jpg', 'motorbike_0395.jpg', 'motorbike_0236.jpg', 'motorbike_0330.jpg', 'motorbike_0658.jpg', 'motorbike_0471.jpg', 'motorbike_0507.jpg', 'motorbike_0489.jpg', 'motorbike_0635.jpg', 'motorbike_0736.jpg', 'motorbike_0502.jpg', 'motorbike_0688.jpg', 'motorbike_0353.jpg', 'motorbike_0683.jpg', 'motorbike_0219.jpg', 'motorbike_0159.jpg', 'motorbike_0613.jpg', 'motorbike_0686.jpg', 'motorbike_0096.jpg', 'motorbike_0609.jpg', 'motorbike_0695.jpg', 'motorbike_0144.jpg', 'motorbike_0602.jpg', 'motorbike_0437.jpg', 'motorbike_0119.jpg', 'motorbike_0569.jpg', 'motorbike_0086.jpg', 'motorbike_0478.jpg', 'motorbike_0661.jpg', 'motorbike_0179.jpg', 'motorbike_0698.jpg', 'motorbike_0414.jpg', 'motorbike_0191.jpg', 'motorbike_0787.jpg', 'motorbike_0766.jpg', 'motorbike_0079.jpg', 'motorbike_0662.jpg', 'motorbike_0092.jpg', 'motorbike_0152.jpg', 'motorbike_0374.jpg', 'motorbike_0597.jpg', 'motorbike_0678.jpg', 'motorbike_0454.jpg', 'motorbike_0131.jpg', 'motorbike_0241.jpg', 'motorbike_0048.jpg', 'motorbike_0192.jpg', 'motorbike_0132.jpg', 'motorbike_0669.jpg', 'motorbike_0016.jpg', 'motorbike_0580.jpg', 'motorbike_0425.jpg', 'motorbike_0151.jpg', 'motorbike_0226.jpg', 'motorbike_0608.jpg', 'motorbike_0537.jpg', 'motorbike_0167.jpg', 'motorbike_0401.jpg', 'motorbike_0512.jpg', 'motorbike_0060.jpg', 'motorbike_0543.jpg', 'motorbike_0475.jpg', 'motorbike_0594.jpg', 'motorbike_0587.jpg', 'motorbike_0637.jpg', 'motorbike_0768.jpg', 'motorbike_0381.jpg', 'motorbike_0006.jpg', 'motorbike_0511.jpg', 'motorbike_0266.jpg', 'motorbike_0542.jpg', 'motorbike_0777.jpg', 'motorbike_0010.jpg', 'motorbike_0571.jpg', 'motorbike_0421.jpg', 'motorbike_0255.jpg', 'motorbike_0164.jpg', 'motorbike_0196.jpg', 'motorbike_0588.jpg', 'motorbike_0443.jpg', 'motorbike_0524.jpg', 'motorbike_0272.jpg', 'motorbike_0364.jpg', 'motorbike_0676.jpg', 'motorbike_0501.jpg', 'motorbike_0378.jpg', 'motorbike_0493.jpg', 'motorbike_0042.jpg', 'motorbike_0429.jpg', 'motorbike_0496.jpg', 'motorbike_0110.jpg', 'motorbike_0094.jpg', 'motorbike_0101.jpg', 'motorbike_0325.jpg', 'motorbike_0209.jpg', 'motorbike_0713.jpg', 'motorbike_0592.jpg', 'motorbike_0197.jpg', 'motorbike_0165.jpg', 'motorbike_0419.jpg', 'motorbike_0628.jpg', 'motorbike_0601.jpg', 'motorbike_0561.jpg', 'motorbike_0227.jpg', 'motorbike_0393.jpg', 'motorbike_0148.jpg', 'motorbike_0522.jpg', 'motorbike_0027.jpg', 'motorbike_0291.jpg', 'motorbike_0019.jpg', 'motorbike_0053.jpg', 'motorbike_0140.jpg', 'motorbike_0642.jpg', 'motorbike_0067.jpg', 'motorbike_0276.jpg', 'motorbike_0294.jpg', 'motorbike_0247.jpg', 'motorbike_0634.jpg', 'motorbike_0457.jpg', 'motorbike_0534.jpg', 'motorbike_0647.jpg', 'motorbike_0614.jpg', 'motorbike_0160.jpg', 'motorbike_0345.jpg', 'motorbike_0229.jpg', 'motorbike_0313.jpg', 'motorbike_0528.jpg', 'motorbike_0162.jpg', 'motorbike_0177.jpg', 'motorbike_0024.jpg', 'motorbike_0725.jpg', 'motorbike_0426.jpg', 'motorbike_0689.jpg', 'motorbike_0656.jpg', 'motorbike_0611.jpg', 'motorbike_0397.jpg', 'motorbike_0389.jpg', 'motorbike_0510.jpg', 'motorbike_0207.jpg', 'motorbike_0183.jpg', 'motorbike_0616.jpg', 'motorbike_0638.jpg', 'motorbike_0230.jpg', 'motorbike_0026.jpg', 'motorbike_0008.jpg', 'motorbike_0049.jpg', 'motorbike_0672.jpg', 'motorbike_0730.jpg', 'motorbike_0271.jpg', 'motorbike_0344.jpg', 'motorbike_0056.jpg', 'motorbike_0595.jpg', 'motorbike_0320.jpg', 'motorbike_0321.jpg', 'motorbike_0403.jpg', 'motorbike_0600.jpg', 'motorbike_0428.jpg', 'motorbike_0342.jpg', 'motorbike_0104.jpg', 'motorbike_0082.jpg', 'motorbike_0339.jpg', 'motorbike_0704.jpg', 'motorbike_0007.jpg', 'motorbike_0590.jpg', 'motorbike_0221.jpg', 'motorbike_0769.jpg', 'motorbike_0413.jpg', 'motorbike_0058.jpg', 'motorbike_0492.jpg', 'motorbike_0452.jpg', 'motorbike_0474.jpg', 'motorbike_0268.jpg', 'motorbike_0619.jpg', 'motorbike_0757.jpg', 'motorbike_0439.jpg', 'motorbike_0182.jpg', 'motorbike_0544.jpg', 'motorbike_0097.jpg', 'motorbike_0436.jpg', 'motorbike_0693.jpg', 'motorbike_0095.jpg', 'motorbike_0455.jpg', 'motorbike_0737.jpg', 'motorbike_0463.jpg', 'motorbike_0059.jpg', 'motorbike_0326.jpg', 'motorbike_0759.jpg', 'motorbike_0581.jpg', 'motorbike_0365.jpg', 'motorbike_0729.jpg', 'motorbike_0322.jpg', 'motorbike_0340.jpg', 'motorbike_0273.jpg', 'motorbike_0650.jpg', 'motorbike_0314.jpg', 'motorbike_0337.jpg', 'motorbike_0275.jpg', 'motorbike_0218.jpg', 'motorbike_0315.jpg', 'motorbike_0626.jpg', 'motorbike_0527.jpg', 'motorbike_0607.jpg', 'motorbike_0567.jpg', 'motorbike_0622.jpg', 'motorbike_0692.jpg', 'motorbike_0470.jpg', 'motorbike_0573.jpg', 'motorbike_0105.jpg', 'motorbike_0535.jpg', 'motorbike_0103.jpg', 'motorbike_0749.jpg', 'motorbike_0047.jpg', 'motorbike_0286.jpg', 'motorbike_0215.jpg', 'motorbike_0408.jpg', 'motorbike_0356.jpg', 'motorbike_0333.jpg', 'motorbike_0098.jpg', 'motorbike_0309.jpg', 'motorbike_0783.jpg', 'motorbike_0430.jpg', 'motorbike_0773.jpg', 'motorbike_0469.jpg', 'motorbike_0738.jpg', 'motorbike_0460.jpg', 'motorbike_0038.jpg', 'motorbike_0418.jpg', 'motorbike_0127.jpg', 'motorbike_0495.jpg', 'motorbike_0456.jpg', 'motorbike_0311.jpg', 'motorbike_0422.jpg', 'motorbike_0041.jpg', 'motorbike_0664.jpg', 'motorbike_0000.jpg', 'motorbike_0155.jpg', 'motorbike_0576.jpg', 'motorbike_0480.jpg', 'motorbike_0256.jpg', 'motorbike_0781.jpg', 'motorbike_0753.jpg', 'motorbike_0707.jpg', 'motorbike_0363.jpg', 'motorbike_0685.jpg', 'motorbike_0539.jpg', 'motorbike_0712.jpg', 'motorbike_0701.jpg', 'motorbike_0181.jpg', 'motorbike_0668.jpg', 'motorbike_0432.jpg', 'motorbike_0290.jpg', 'motorbike_0396.jpg', 'motorbike_0706.jpg', 'motorbike_0582.jpg', 'motorbike_0298.jpg', 'motorbike_0172.jpg', 'motorbike_0760.jpg', 'motorbike_0267.jpg', 'motorbike_0500.jpg', 'motorbike_0232.jpg', 'motorbike_0482.jpg', 'motorbike_0674.jpg', 'motorbike_0440.jpg', 'motorbike_0014.jpg', 'motorbike_0400.jpg', 'motorbike_0312.jpg', 'motorbike_0412.jpg', 'motorbike_0538.jpg', 'motorbike_0379.jpg', 'motorbike_0376.jpg', 'motorbike_0018.jpg', 'motorbike_0284.jpg', 'motorbike_0405.jpg', 'motorbike_0786.jpg', 'motorbike_0187.jpg', 'motorbike_0388.jpg', 'motorbike_0714.jpg', 'motorbike_0552.jpg', 'motorbike_0479.jpg', 'motorbike_0655.jpg', 'motorbike_0727.jpg', 'motorbike_0099.jpg', 'motorbike_0324.jpg', 'motorbike_0684.jpg', 'motorbike_0084.jpg', 'motorbike_0545.jpg', 'motorbike_0723.jpg', 'motorbike_0599.jpg', 'motorbike_0705.jpg', 'motorbike_0308.jpg', 'motorbike_0136.jpg', 'motorbike_0709.jpg', 'motorbike_0176.jpg', 'motorbike_0785.jpg', 'motorbike_0752.jpg', 'motorbike_0072.jpg', 'motorbike_0451.jpg', 'motorbike_0717.jpg', 'motorbike_0548.jpg', 'motorbike_0193.jpg', 'motorbike_0407.jpg', 'motorbike_0398.jpg', 'motorbike_0484.jpg', 'motorbike_0765.jpg', 'motorbike_0141.jpg', 'motorbike_0360.jpg', 'motorbike_0411.jpg', 'motorbike_0083.jpg', 'motorbike_0577.jpg', 'motorbike_0747.jpg', 'motorbike_0459.jpg', 'motorbike_0178.jpg', 'motorbike_0283.jpg', 'motorbike_0617.jpg', 'motorbike_0465.jpg', 'motorbike_0115.jpg', 'motorbike_0532.jpg', 'motorbike_0289.jpg', 'motorbike_0377.jpg', 'motorbike_0090.jpg', 'motorbike_0175.jpg', 'motorbike_0303.jpg', 'motorbike_0248.jpg', 'motorbike_0348.jpg', 'motorbike_0292.jpg', 'motorbike_0541.jpg', 'motorbike_0020.jpg', 'motorbike_0675.jpg', 'motorbike_0574.jpg', 'motorbike_0011.jpg', 'motorbike_0107.jpg', 'motorbike_0070.jpg', 'motorbike_0585.jpg', 'motorbike_0697.jpg', 'motorbike_0349.jpg', 'motorbike_0015.jpg', 'motorbike_0112.jpg', 'motorbike_0477.jpg', 'motorbike_0185.jpg', 'motorbike_0739.jpg', 'motorbike_0039.jpg', 'motorbike_0514.jpg', 'motorbike_0540.jpg', 'motorbike_0702.jpg', 'motorbike_0476.jpg', 'motorbike_0487.jpg', 'motorbike_0171.jpg', 'motorbike_0453.jpg', 'motorbike_0262.jpg', 'motorbike_0352.jpg', 'motorbike_0444.jpg', 'motorbike_0238.jpg', 'motorbike_0461.jpg', 'motorbike_0111.jpg', 'motorbike_0357.jpg', 'motorbike_0250.jpg', 'motorbike_0784.jpg', 'motorbike_0549.jpg', 'motorbike_0606.jpg', 'motorbike_0281.jpg', 'motorbike_0625.jpg', 'motorbike_0080.jpg', 'motorbike_0516.jpg', 'motorbike_0699.jpg', 'motorbike_0225.jpg', 'motorbike_0061.jpg', 'motorbike_0052.jpg', 'motorbike_0277.jpg', 'motorbike_0077.jpg', 'motorbike_0722.jpg', 'motorbike_0767.jpg', 'motorbike_0156.jpg', 'motorbike_0435.jpg', 'motorbike_0392.jpg', 'motorbike_0246.jpg', 'motorbike_0630.jpg', 'motorbike_0710.jpg', 'motorbike_0249.jpg', 'motorbike_0763.jpg', 'motorbike_0359.jpg', 'motorbike_0040.jpg', 'motorbike_0481.jpg', 'motorbike_0572.jpg', 'motorbike_0770.jpg', 'motorbike_0168.jpg', 'motorbike_0657.jpg', 'motorbike_0610.jpg', 'motorbike_0720.jpg', 'motorbike_0584.jpg', 'motorbike_0728.jpg', 'motorbike_0383.jpg', 'motorbike_0433.jpg', 'motorbike_0001.jpg', 'motorbike_0023.jpg', 'motorbike_0154.jpg', 'motorbike_0100.jpg', 'motorbike_0075.jpg', 'motorbike_0310.jpg', 'motorbike_0367.jpg', 'motorbike_0711.jpg', 'motorbike_0586.jpg', 'motorbike_0427.jpg', 'motorbike_0533.jpg', 'motorbike_0529.jpg', 'motorbike_0035.jpg', 'motorbike_0761.jpg', 'motorbike_0498.jpg', 'motorbike_0106.jpg', 'motorbike_0202.jpg', 'motorbike_0464.jpg', 'motorbike_0750.jpg', 'motorbike_0051.jpg', 'motorbike_0644.jpg', 'motorbike_0416.jpg', 'motorbike_0297.jpg', 'motorbike_0143.jpg', 'motorbike_0565.jpg', 'motorbike_0025.jpg', 'motorbike_0319.jpg', 'motorbike_0109.jpg', 'motorbike_0562.jpg', 'motorbike_0547.jpg', 'motorbike_0138.jpg', 'motorbike_0636.jpg', 'motorbike_0074.jpg', 'motorbike_0368.jpg', 'motorbike_0670.jpg', 'motorbike_0242.jpg', 'motorbike_0054.jpg', 'motorbike_0145.jpg', 'motorbike_0700.jpg', 'motorbike_0224.jpg', 'motorbike_0553.jpg', 'motorbike_0520.jpg', 'motorbike_0269.jpg', 'motorbike_0213.jpg', 'motorbike_0391.jpg', 'motorbike_0575.jpg', 'motorbike_0621.jpg', 'motorbike_0696.jpg', 'motorbike_0441.jpg', 'motorbike_0251.jpg', 'motorbike_0472.jpg', 'motorbike_0504.jpg', 'motorbike_0332.jpg', 'motorbike_0663.jpg', 'motorbike_0660.jpg', 'motorbike_0620.jpg', 'motorbike_0399.jpg', 'motorbike_0694.jpg', 'motorbike_0366.jpg', 'motorbike_0742.jpg', 'motorbike_0506.jpg', 'motorbike_0740.jpg', 'motorbike_0679.jpg', 'motorbike_0659.jpg', 'motorbike_0648.jpg', 'motorbike_0243.jpg', 'motorbike_0030.jpg', 'motorbike_0258.jpg', 'motorbike_0782.jpg', 'motorbike_0287.jpg', 'motorbike_0169.jpg', 'motorbike_0004.jpg', 'motorbike_0245.jpg', 'motorbike_0445.jpg', 'motorbike_0166.jpg', 'motorbike_0195.jpg', 'motorbike_0756.jpg', 'motorbike_0300.jpg', 'motorbike_0125.jpg', 'motorbike_0205.jpg', 'motorbike_0278.jpg', 'motorbike_0073.jpg', 'motorbike_0260.jpg', 'motorbike_0085.jpg', 'motorbike_0509.jpg', 'motorbike_0133.jpg', 'motorbike_0328.jpg', 'motorbike_0566.jpg', 'motorbike_0450.jpg', 'motorbike_0764.jpg', 'motorbike_0055.jpg', 'motorbike_0068.jpg', 'motorbike_0758.jpg', 'motorbike_0604.jpg', 'motorbike_0708.jpg', 'motorbike_0216.jpg', 'motorbike_0022.jpg', 'motorbike_0139.jpg', 'motorbike_0341.jpg', 'motorbike_0627.jpg', 'motorbike_0458.jpg', 'motorbike_0257.jpg', 'motorbike_0050.jpg', 'motorbike_0555.jpg', 'motorbike_0651.jpg', 'motorbike_0745.jpg', 'motorbike_0578.jpg', 'motorbike_0521.jpg', 'motorbike_0045.jpg', 'motorbike_0199.jpg', 'motorbike_0744.jpg', 'motorbike_0746.jpg', 'motorbike_0559.jpg', 'motorbike_0066.jpg', 'motorbike_0223.jpg', 'motorbike_0508.jpg', 'motorbike_0306.jpg', 'motorbike_0032.jpg', 'motorbike_0771.jpg', 'motorbike_0028.jpg', 'motorbike_0302.jpg', 'motorbike_0631.jpg', 'motorbike_0261.jpg', 'motorbike_0174.jpg', 'motorbike_0231.jpg', 'motorbike_0754.jpg', 'motorbike_0564.jpg', 'motorbike_0237.jpg', 'motorbike_0733.jpg', 'motorbike_0632.jpg', 'motorbike_0093.jpg', 'motorbike_0142.jpg', 'motorbike_0483.jpg', 'motorbike_0646.jpg', 'motorbike_0519.jpg', 'motorbike_0046.jpg', 'motorbike_0212.jpg', 'motorbike_0546.jpg', 'motorbike_0718.jpg', 'motorbike_0499.jpg', 'motorbike_0386.jpg', 'motorbike_0751.jpg', 'motorbike_0102.jpg', 'motorbike_0605.jpg', 'motorbike_0515.jpg', 'motorbike_0382.jpg', 'motorbike_0031.jpg', 'motorbike_0563.jpg', 'motorbike_0530.jpg', 'motorbike_0338.jpg', 'motorbike_0410.jpg', 'motorbike_0721.jpg', 'motorbike_0687.jpg', 'motorbike_0624.jpg', 'motorbike_0037.jpg', 'motorbike_0062.jpg', 'motorbike_0598.jpg', 'motorbike_0147.jpg', 'motorbike_0201.jpg', 'motorbike_0002.jpg', 'motorbike_0629.jpg', 'motorbike_0741.jpg', 'motorbike_0210.jpg', 'motorbike_0467.jpg', 'motorbike_0259.jpg', 'motorbike_0264.jpg', 'motorbike_0069.jpg', 'motorbike_0350.jpg', 'motorbike_0424.jpg', 'motorbike_0244.jpg', 'motorbike_0355.jpg', 'motorbike_0033.jpg', 'motorbike_0130.jpg', 'motorbike_0438.jpg', 'motorbike_0334.jpg', 'motorbike_0375.jpg', 'motorbike_0719.jpg', 'motorbike_0214.jpg', 'motorbike_0091.jpg', 'motorbike_0120.jpg', 'motorbike_0299.jpg', 'motorbike_0129.jpg', 'motorbike_0726.jpg', 'motorbike_0065.jpg', 'motorbike_0235.jpg', 'motorbike_0551.jpg', 'motorbike_0550.jpg', 'motorbike_0639.jpg', 'motorbike_0305.jpg', 'motorbike_0173.jpg', 'motorbike_0778.jpg', 'motorbike_0772.jpg', 'motorbike_0486.jpg', 'motorbike_0568.jpg', 'motorbike_0680.jpg', 'motorbike_0318.jpg', 'motorbike_0420.jpg', 'motorbike_0153.jpg', 'motorbike_0240.jpg', 'motorbike_0194.jpg', 'motorbike_0012.jpg', 'motorbike_0649.jpg', 'motorbike_0513.jpg', 'motorbike_0117.jpg', 'motorbike_0296.jpg', 'motorbike_0161.jpg', 'motorbike_0204.jpg', 'motorbike_0373.jpg', 'motorbike_0682.jpg', 'motorbike_0150.jpg', 'motorbike_0170.jpg', 'motorbike_0301.jpg', 'motorbike_0603.jpg', 'motorbike_0554.jpg', 'motorbike_0596.jpg', 'motorbike_0317.jpg', 'motorbike_0743.jpg', 'motorbike_0654.jpg', 'motorbike_0206.jpg', 'motorbike_0485.jpg', 'motorbike_0667.jpg', 'motorbike_0121.jpg', 'motorbike_0254.jpg', 'resized']\n"
          ]
        }
      ]
    },
    {
      "cell_type": "code",
      "source": [
        "\n",
        "# Function to resize images to 92x112 pixels\n",
        "images_folder = \"/content/drive/MyDrive/nonface/data/natural_images/car/\"\n",
        "\n",
        "\n",
        "for filename in os.listdir(images_folder):\n",
        "    if filename.endswith('.jpg') or filename.endswith('.png'):\n",
        "        # Load image and resize to 92x112 pixels\n",
        "        image_path = os.path.join(images_folder, filename)\n",
        "        image = Image.open(f\"{images_folder}/{filename}\")\n",
        "         # Convert the image to grayscale \n",
        "        image = image.convert('L') \n",
        "        img_resized = image.resize((92, 112))\n",
        "        image_array_nonface = np.array(img_resized).flatten()\n",
        "        dataMatrixnonface[i]=image_array_nonface\n",
        "        i=i+1\n",
        "        if i>=350:\n",
        "          break\n",
        "\n",
        "\n"
      ],
      "metadata": {
        "id": "In8wwlrH8Nkz"
      },
      "execution_count": null,
      "outputs": []
    },
    {
      "cell_type": "code",
      "source": [
        "face_labels = np.ones(len(D))\n",
        "nonface_labels = np.zeros(len(dataMatrixnonface))\n",
        "images = np.concatenate((D, dataMatrixnonface), axis=0)\n",
        "\n",
        "labels = np.concatenate((face_labels, nonface_labels))\n",
        "\n",
        "print(images.shape)\n",
        "print(labels.shape)\n"
      ],
      "metadata": {
        "colab": {
          "base_uri": "https://localhost:8080/"
        },
        "id": "xdyOAM5_8PqJ",
        "outputId": "645c16b8-e743-4e0c-c40b-85acfe5ea633"
      },
      "execution_count": null,
      "outputs": [
        {
          "output_type": "stream",
          "name": "stdout",
          "text": [
            "(750, 10304)\n",
            "(750,)\n"
          ]
        }
      ]
    },
    {
      "cell_type": "code",
      "source": [
        "D2Traincentered = np.zeros((270, 10304))\n",
        "D2Testcentered = np.zeros((480, 10304))\n",
        "\n",
        "D2train = np.zeros((270, 10304))\n",
        "D2test = np.zeros((480, 10304))\n",
        "\n",
        "labeltrain = np.zeros((270, 1))\n",
        "labeltest = np.zeros((480, 1))"
      ],
      "metadata": {
        "id": "J05hWxCl8Rtq"
      },
      "execution_count": null,
      "outputs": []
    },
    {
      "cell_type": "code",
      "source": [
        "for i in range (0,200):\n",
        "  D2train[i]=Dtrain[i]\n",
        "  labeltrain[i]=1\n",
        "sub=0;\n",
        "i=200\n",
        "for sub in range (0,7):\n",
        "  for j in range (0,10): \n",
        "    D2train[i]=dataMatrixnonface[(sub*50)+j]\n",
        "    labeltrain[i]=0\n",
        "    i=i+1\n",
        "    \n"
      ],
      "metadata": {
        "id": "cuFESLlW8UUU"
      },
      "execution_count": null,
      "outputs": []
    },
    {
      "cell_type": "code",
      "source": [
        "for i in range (0,200):\n",
        "  D2test[i]=Dtest[i]\n",
        "  labeltest[i]=1\n",
        "\n",
        "sub=0;\n",
        "i=200\n",
        "for sub in range (0,7):\n",
        "  for j in range (10,50): \n",
        "    D2test[i]=dataMatrixnonface[(sub*50)+j]\n",
        "    labeltest[i]=0\n",
        "    i=i+1"
      ],
      "metadata": {
        "id": "b-s1mE1k8XcV"
      },
      "execution_count": null,
      "outputs": []
    },
    {
      "cell_type": "code",
      "source": [
        "for i in range(0,10304):\n",
        "  D2Traincentered[:,i]=D2train[:,i]-D2train[:,i].mean()\n",
        "\n",
        "for i in range(0,10304):\n",
        "  D2Testcentered[:,i]=D2test[:,i]-D2train[:,i].mean()"
      ],
      "metadata": {
        "id": "a3-h8zdIzJgZ"
      },
      "execution_count": null,
      "outputs": []
    },
    {
      "cell_type": "code",
      "source": [
        "covarianceMatrix_faces_nonface = np.cov(D2Traincentered.T)\n",
        "eigenvalues_faces_nonface, eigenvectors_faces_nonface = np.linalg.eigh(covarianceMatrix_faces_nonface)"
      ],
      "metadata": {
        "id": "bHJikVfBzMD5"
      },
      "execution_count": null,
      "outputs": []
    },
    {
      "cell_type": "code",
      "source": [
        "idx = eigenvalues_faces_nonface.argsort()[::-1]   \n",
        "eigenValues_faces_nonface = eigenvalues_faces_nonface[idx]\n",
        "eigenVectors_faces_nonface = eigenvectors_faces_nonface[:,idx]"
      ],
      "metadata": {
        "id": "NU4O_c7dzN3x"
      },
      "execution_count": null,
      "outputs": []
    },
    {
      "cell_type": "code",
      "source": [
        "R=np.zeros(3)\n",
        "for i in range(0,270):\n",
        "  explained=eigenValues_faces_nonface[0:i].sum()/eigenValues_faces_nonface.sum()\n",
        "  if explained > 0.85:\n",
        "    R[0]=i\n",
        "    break\n",
        "\n",
        "print(R)"
      ],
      "metadata": {
        "colab": {
          "base_uri": "https://localhost:8080/"
        },
        "id": "XiNGjYcWzQzB",
        "outputId": "1a774ff9-9bca-4b5d-b15b-313fc1cbe515"
      },
      "execution_count": null,
      "outputs": [
        {
          "output_type": "stream",
          "name": "stdout",
          "text": [
            "[46.  0.  0.]\n"
          ]
        }
      ]
    },
    {
      "cell_type": "code",
      "source": [
        "U=eigenVectors_faces_nonface[:,0:int(R[0])]\n",
        "\n",
        "projection_matrix = U\n",
        "projected_data_train = np.dot(projection_matrix.T, D2Traincentered.T)\n",
        "\n",
        "\n",
        "projected_data_test = np.dot(projection_matrix.T, D2Testcentered.T)\n",
        "projected_data_test_real = np.real(projected_data_test.T)\n",
        "projected_data_train_real = np.real(projected_data_train.T)"
      ],
      "metadata": {
        "id": "n8x1iiOLzTZ9"
      },
      "execution_count": null,
      "outputs": []
    },
    {
      "cell_type": "code",
      "source": [
        "knn = KNeighborsClassifier(n_neighbors=1)\n",
        "k=np.zeros(3)\n",
        "knn.fit(projected_data_train_real, labeltrain)\n",
        "k[0]=knn.score(projected_data_test_real, labeltest)\n",
        "print(\"Accuracy with R = \", R[0], \": \", k[0])"
      ],
      "metadata": {
        "colab": {
          "base_uri": "https://localhost:8080/"
        },
        "id": "oEq6IDTnzaHK",
        "outputId": "a8b33d36-6043-4b1a-a5fa-73c8e00f9d37"
      },
      "execution_count": null,
      "outputs": [
        {
          "output_type": "stream",
          "name": "stdout",
          "text": [
            "Accuracy with R =  46.0 :  0.81875\n"
          ]
        },
        {
          "output_type": "stream",
          "name": "stderr",
          "text": [
            "/usr/local/lib/python3.9/dist-packages/sklearn/neighbors/_classification.py:215: DataConversionWarning: A column-vector y was passed when a 1d array was expected. Please change the shape of y to (n_samples,), for example using ravel().\n",
            "  return self._fit(X, y)\n"
          ]
        }
      ]
    },
    {
      "cell_type": "code",
      "source": [
        "Mu = np.zeros((40, 10304))\n",
        "for i in range (0,40):\n",
        "  Mu[i]=np.mean(D2train[(i*5):(i*5)+4,:], axis=0)\n",
        "\n",
        "Sb=0\n",
        "for i in range (0,40):\n",
        "  Sb=Sb+5*np.matmul((Mu[i]-np.mean(D2train, axis=0)),(Mu[i]-np.mean(D2train, axis=0)).T)\n",
        "\n",
        "\n",
        "LDAcentertrain = np.zeros(((40,5,10304)))\n",
        "for i in range(0,40):\n",
        "  for j in range(0,5):\n",
        "    LDAcentertrain[i,j]+=D2train[int(i*5+j)]-Mu[int(i)]\n",
        "\n",
        "\n",
        "S = np.zeros(((10304,10304)))\n",
        "for i in range(0, 40):\n",
        "    S+= np.matmul(LDAcentertrain[i].T,LDAcentertrain[i])\n",
        "\n",
        "\n",
        "IS = np.linalg.inv(S)"
      ],
      "metadata": {
        "id": "2Jryu82Czcxs"
      },
      "execution_count": null,
      "outputs": []
    },
    {
      "cell_type": "code",
      "source": [
        "eigenvalues_faces_nonface2, eigenvectors_faces_nonface2 = np.linalg.eigh(IS*Sb)\n",
        "\n",
        "idx = eigenvalues_faces_nonface2.argsort()[::-1]   \n",
        "eigenValues_faces_nonface2 = eigenvalues_faces_nonface2[idx]\n",
        "eigenVectors_faces_nonface2 = eigenvectors_faces_nonface2[:,idx]"
      ],
      "metadata": {
        "id": "tTc2xfyLzfON"
      },
      "execution_count": null,
      "outputs": []
    },
    {
      "cell_type": "code",
      "source": [
        "k2=np.zeros(3)\n",
        "U2=eigenVectors_faces_nonface2[:,0:7]\n",
        "projection_matrix2 = U2\n",
        "projected_data_train2 = np.dot(projection_matrix2.T, D2Traincentered.T)\n",
        "projected_data_test2 = np.dot(projection_matrix2.T, D2Testcentered.T)\n",
        "\n",
        "projected_data_train_real2 = np.real(projected_data_train2.T)\n",
        "projected_data_test_real2 = np.real(projected_data_test2.T)\n",
        "\n",
        "\n",
        "knn = KNeighborsClassifier(n_neighbors=1)\n",
        "knn.fit(projected_data_train_real2, labeltrain)\n",
        "k2[0]=knn.score(projected_data_test_real2, labeltest)\n",
        "print(\"Accuracy with R = 39: \",k2[0] )"
      ],
      "metadata": {
        "colab": {
          "base_uri": "https://localhost:8080/"
        },
        "id": "dvqEezOPziic",
        "outputId": "51215bb4-3580-441d-ea3a-b58a2f05700e"
      },
      "execution_count": null,
      "outputs": [
        {
          "output_type": "stream",
          "name": "stdout",
          "text": [
            "Accuracy with R = 39:  0.78125\n"
          ]
        },
        {
          "output_type": "stream",
          "name": "stderr",
          "text": [
            "/usr/local/lib/python3.9/dist-packages/sklearn/neighbors/_classification.py:215: DataConversionWarning: A column-vector y was passed when a 1d array was expected. Please change the shape of y to (n_samples,), for example using ravel().\n",
            "  return self._fit(X, y)\n"
          ]
        }
      ]
    },
    {
      "cell_type": "code",
      "source": [
        "import os\n",
        "import cv2\n",
        "from sklearn import svm\n",
        "import numpy as np\n",
        "from sklearn.discriminant_analysis import LinearDiscriminantAnalysis\n",
        "from sklearn.metrics import confusion_matrix\n",
        "# Train and evaluate classifier\n",
        "clf = svm.SVC()\n",
        "clf.fit(projected_data_train_real, labeltrain)\n",
        "test_pred = clf.predict(projected_data_test_real)\n",
        "\n",
        "\n",
        "# Generate confusion matrix\n",
        "cm = confusion_matrix(labeltest, test_pred)\n",
        "print(\"Confusion matrix:\")\n",
        "print(cm)"
      ],
      "metadata": {
        "colab": {
          "base_uri": "https://localhost:8080/"
        },
        "id": "EUl6-dOMzqD9",
        "outputId": "b5bd8e87-e9d6-4a87-f9ed-fad2dff4b57a"
      },
      "execution_count": null,
      "outputs": [
        {
          "output_type": "stream",
          "name": "stdout",
          "text": [
            "Confusion matrix:\n",
            "[[246  34]\n",
            " [  0 200]]\n"
          ]
        },
        {
          "output_type": "stream",
          "name": "stderr",
          "text": [
            "/usr/local/lib/python3.9/dist-packages/sklearn/utils/validation.py:1143: DataConversionWarning: A column-vector y was passed when a 1d array was expected. Please change the shape of y to (n_samples, ), for example using ravel().\n",
            "  y = column_or_1d(y, warn=True)\n"
          ]
        }
      ]
    },
    {
      "cell_type": "code",
      "source": [
        "D2Traincentered = np.zeros((340, 10304))\n",
        "D2Testcentered = np.zeros((410, 10304))\n",
        "\n",
        "D2train = np.zeros((340, 10304))\n",
        "D2test = np.zeros((410, 10304))\n",
        "\n",
        "labeltrain = np.zeros((340, 1))\n",
        "labeltest = np.zeros((410, 1))\n",
        "\n",
        "for i in range (0,200):\n",
        "  D2train[i]=Dtrain[i]\n",
        "  labeltrain[i]=1\n",
        "sub=0;\n",
        "i=200\n",
        "for sub in range (0,7):\n",
        "  for j in range (0,20): \n",
        "    D2train[i]=dataMatrixnonface[(sub*50)+j]\n",
        "    labeltrain[i]=0\n",
        "    i=i+1\n",
        "\n",
        "for i in range (0,200):\n",
        "  D2test[i]=Dtest[i]\n",
        "  labeltest[i]=1\n",
        "\n",
        "sub=0;\n",
        "i=200\n",
        "for sub in range (0,7):\n",
        "  for j in range (20,50): \n",
        "    D2test[i]=dataMatrixnonface[(sub*50)+j]\n",
        "    labeltest[i]=0\n",
        "    i=i+1\n",
        "\n",
        "for i in range(0,10304):\n",
        "  D2Traincentered[:,i]=D2train[:,i]-D2train[:,i].mean()\n",
        "\n",
        "for i in range(0,10304):\n",
        "  D2Testcentered[:,i]=D2test[:,i]-D2train[:,i].mean()"
      ],
      "metadata": {
        "id": "14GaRXKNztnR"
      },
      "execution_count": null,
      "outputs": []
    },
    {
      "cell_type": "code",
      "source": [
        "covarianceMatrix_faces_nonface = np.cov(D2Traincentered.T)\n",
        "eigenvalues_faces_nonface, eigenvectors_faces_nonface = np.linalg.eigh(covarianceMatrix_faces_nonface)\n",
        "\n",
        "idx = eigenvalues_faces_nonface.argsort()[::-1]   \n",
        "eigenValues_faces_nonface = eigenvalues_faces_nonface[idx]\n",
        "eigenVectors_faces_nonface = eigenvectors_faces_nonface[:,idx]\n",
        "\n",
        "print(eigenValues_faces_nonface)"
      ],
      "metadata": {
        "colab": {
          "base_uri": "https://localhost:8080/"
        },
        "id": "5CoTFJ5lzwx4",
        "outputId": "0448ce33-a7ec-404c-a1ac-c4eecc345b33"
      },
      "execution_count": null,
      "outputs": [
        {
          "output_type": "stream",
          "name": "stdout",
          "text": [
            "[ 1.18876316e+07  4.24474896e+06  2.39718861e+06 ... -3.76335743e-09\n",
            " -4.08593266e-09 -4.47140284e-09]\n"
          ]
        }
      ]
    },
    {
      "cell_type": "code",
      "source": [
        "for i in range(0,340):\n",
        "  explained=eigenValues_faces_nonface[0:i].sum()/eigenValues_faces_nonface.sum()\n",
        "  if explained > 0.85:\n",
        "    R[1]=i\n",
        "    break\n",
        "\n",
        "U=eigenVectors_faces_nonface[:,0:int(R[1])]\n",
        "\n",
        "projection_matrix = U\n",
        "projected_data_train = np.dot(projection_matrix.T, D2Traincentered.T)\n",
        "\n",
        "\n",
        "projected_data_test = np.dot(projection_matrix.T, D2Testcentered.T)\n",
        "projected_data_test_real = np.real(projected_data_test.T)\n",
        "projected_data_train_real = np.real(projected_data_train.T)\n",
        "\n",
        "\n",
        "\n",
        "knn = KNeighborsClassifier(n_neighbors=1)\n",
        "\n",
        "knn.fit(projected_data_train_real, labeltrain)\n",
        "k[1]=knn.score(projected_data_test_real, labeltest)\n",
        "print(\"Accuracy with R = \", R[1], \": \", k[1])"
      ],
      "metadata": {
        "id": "-HVoNBp_z0a8"
      },
      "execution_count": null,
      "outputs": []
    },
    {
      "cell_type": "code",
      "source": [
        "\n",
        "import os\n",
        "import cv2\n",
        "from sklearn import svm\n",
        "import numpy as np\n",
        "from sklearn.discriminant_analysis import LinearDiscriminantAnalysis\n",
        "from sklearn.metrics import confusion_matrix\n",
        "# Train and evaluate classifier\n",
        "clf = svm.SVC()\n",
        "clf.fit(projected_data_train_real, labeltrain)\n",
        "test_pred = clf.predict(projected_data_test_real)\n",
        "\n",
        "\n",
        "# Generate confusion matrix\n",
        "cm = confusion_matrix(labeltest, test_pred)\n",
        "print(\"Confusion matrix:\")\n",
        "print(cm)\n",
        "\n"
      ],
      "metadata": {
        "id": "wEyvEMJWz61I"
      },
      "execution_count": null,
      "outputs": []
    },
    {
      "cell_type": "code",
      "source": [
        "Mu = np.zeros((40, 10304))\n",
        "for i in range (0,40):\n",
        "  Mu[i]=np.mean(D2train[(i*5):(i*5)+4,:], axis=0)\n",
        "\n",
        "Sb=0\n",
        "for i in range (0,40):\n",
        "  Sb=Sb+5*np.matmul((Mu[i]-np.mean(D2train, axis=0)),(Mu[i]-np.mean(D2train, axis=0)).T)\n",
        "\n",
        "\n",
        "LDAcentertrain = np.zeros(((40,5,10304)))\n",
        "for i in range(0,40):\n",
        "  for j in range(0,5):\n",
        "    LDAcentertrain[i,j]+=D2train[int(i*5+j)]-Mu[int(i)]\n",
        "\n",
        "\n",
        "S = np.zeros(((10304,10304)))\n",
        "for i in range(0, 40):\n",
        "    S+= np.matmul(LDAcentertrain[i].T,LDAcentertrain[i])\n",
        "\n",
        "\n",
        "IS = np.linalg.inv(S)"
      ],
      "metadata": {
        "id": "_JJhpRjDz9RX"
      },
      "execution_count": null,
      "outputs": []
    },
    {
      "cell_type": "code",
      "source": [
        "eigenvalues_faces_nonface2, eigenvectors_faces_nonface2 = np.linalg.eigh(IS*Sb)\n",
        "\n",
        "idx = eigenvalues_faces_nonface2.argsort()[::-1]   \n",
        "eigenValues_faces_nonface2 = eigenvalues_faces_nonface2[idx]\n",
        "eigenVectors_faces_nonface2 = eigenvectors_faces_nonface2[:,idx]"
      ],
      "metadata": {
        "id": "AYPZbm5Pz_qw"
      },
      "execution_count": null,
      "outputs": []
    },
    {
      "cell_type": "code",
      "source": [
        "\n",
        "U2=eigenVectors_faces_nonface2[:,0:2]\n",
        "projection_matrix2 = U2\n",
        "projected_data_train2 = np.dot(projection_matrix2.T, D2Traincentered.T)\n",
        "projected_data_test2 = np.dot(projection_matrix2.T, D2Testcentered.T)\n",
        "\n",
        "projected_data_train_real2 = np.real(projected_data_train2.T)\n",
        "projected_data_test_real2 = np.real(projected_data_test2.T)\n",
        "\n",
        "\n",
        "knn = KNeighborsClassifier(n_neighbors=1)\n",
        "knn.fit(projected_data_train_real2, labeltrain)\n",
        "k2[1]=knn.score(projected_data_test_real2, labeltest)\n",
        "print(\"Accuracy : \",k2[1] )"
      ],
      "metadata": {
        "id": "LKoyHJGu0Bkp"
      },
      "execution_count": null,
      "outputs": []
    },
    {
      "cell_type": "code",
      "source": [
        "D2Traincentered = np.zeros((410, 10304))\n",
        "D2Testcentered = np.zeros((340, 10304))\n",
        "\n",
        "D2train = np.zeros((410, 10304))\n",
        "D2test = np.zeros((340, 10304))\n",
        "\n",
        "labeltrain = np.zeros((410, 1))\n",
        "labeltest = np.zeros((340, 1))\n",
        "\n",
        "for i in range (0,200):\n",
        "  D2train[i]=Dtrain[i]\n",
        "  labeltrain[i]=1\n",
        "sub=0;\n",
        "i=200\n",
        "for sub in range (0,7):\n",
        "  for j in range (0,30): \n",
        "    D2train[i]=dataMatrixnonface[(sub*50)+j]\n",
        "    labeltrain[i]=0\n",
        "    i=i+1\n",
        "\n",
        "for i in range (0,200):\n",
        "  D2test[i]=Dtest[i]\n",
        "  labeltest[i]=1\n",
        "\n",
        "sub=0;\n",
        "i=200\n",
        "for sub in range (0,7):\n",
        "  for j in range (30,50): \n",
        "    D2test[i]=dataMatrixnonface[(sub*50)+j]\n",
        "    labeltest[i]=0\n",
        "    i=i+1\n",
        "\n",
        "for i in range(0,10304):\n",
        "  D2Traincentered[:,i]=D2train[:,i]-D2train[:,i].mean()\n",
        "\n",
        "for i in range(0,10304):\n",
        "  D2Testcentered[:,i]=D2test[:,i]-D2train[:,i].mean()"
      ],
      "metadata": {
        "id": "Vce8XNiw0JaM"
      },
      "execution_count": null,
      "outputs": []
    },
    {
      "cell_type": "code",
      "source": [
        "covarianceMatrix_faces_nonface = np.cov(D2Traincentered.T)\n",
        "eigenvalues_faces_nonface, eigenvectors_faces_nonface = np.linalg.eigh(covarianceMatrix_faces_nonface)\n",
        "\n",
        "idx = np.argsort(-np.absolute(eigenvalues_faces_nonface))   \n",
        "eigenValues_faces_nonface = eigenvalues_faces_nonface[idx]\n",
        "eigenVectors_faces_nonface = eigenvectors_faces_nonface[:,idx]\n",
        "\n",
        "# idx = eigenvalues_faces_nonface.argsort()[::-1]   \n",
        "# eigenValues_faces_nonface = eigenvalues_faces_nonface[idx]\n",
        "# eigenVectors_faces_nonface = eigenvectors_faces_nonface[:,idx]\n",
        "\n",
        "print(eigenValues_faces_nonface)"
      ],
      "metadata": {
        "colab": {
          "base_uri": "https://localhost:8080/"
        },
        "id": "itT3nn7l0MeQ",
        "outputId": "49765436-5d56-4660-fb1f-a4cefc964d02"
      },
      "execution_count": null,
      "outputs": [
        {
          "output_type": "stream",
          "name": "stdout",
          "text": [
            "[ 1.03391184e+07  4.94877609e+06  2.55388966e+06 ...  3.09237661e-15\n",
            " -2.63893593e-15 -9.28538249e-16]\n"
          ]
        }
      ]
    },
    {
      "cell_type": "code",
      "source": [
        "for i in range(0,410):\n",
        "  explained=eigenValues_faces_nonface[0:i].sum()/eigenValues_faces_nonface.sum()\n",
        "  if explained > 0.85:\n",
        "    R=i\n",
        "    break\n",
        "\n",
        "U=eigenVectors_faces_nonface[:,0:int(R)]\n",
        "\n",
        "projection_matrix = U\n",
        "projected_data_train = np.dot(projection_matrix.T, D2Traincentered.T)\n",
        "\n",
        "\n",
        "projected_data_test = np.dot(projection_matrix.T, D2Testcentered.T)\n",
        "projected_data_test_real = np.real(projected_data_test.T)\n",
        "projected_data_train_real = np.real(projected_data_train.T)\n",
        "\n",
        "\n",
        "\n",
        "knn = KNeighborsClassifier(n_neighbors=1)\n",
        "\n",
        "knn.fit(projected_data_train_real, labeltrain)\n",
        "k=knn.score(projected_data_test_real, labeltest)\n",
        "print(\"Accuracy with R = \", R, \": \", k)"
      ],
      "metadata": {
        "colab": {
          "base_uri": "https://localhost:8080/"
        },
        "id": "LIeJyYZS0O37",
        "outputId": "48a37757-912e-4b4e-fcb1-2ab18ab9f1e8"
      },
      "execution_count": null,
      "outputs": [
        {
          "output_type": "stream",
          "name": "stdout",
          "text": [
            "Accuracy with R =  60 :  0.9117647058823529\n"
          ]
        },
        {
          "output_type": "stream",
          "name": "stderr",
          "text": [
            "/usr/local/lib/python3.9/dist-packages/sklearn/neighbors/_classification.py:215: DataConversionWarning: A column-vector y was passed when a 1d array was expected. Please change the shape of y to (n_samples,), for example using ravel().\n",
            "  return self._fit(X, y)\n"
          ]
        }
      ]
    },
    {
      "cell_type": "code",
      "source": [
        "\n",
        "import os\n",
        "import cv2\n",
        "from sklearn import svm\n",
        "import numpy as np\n",
        "from sklearn.discriminant_analysis import LinearDiscriminantAnalysis\n",
        "from sklearn.metrics import confusion_matrix\n",
        "# Train and evaluate classifier\n",
        "clf = svm.SVC()\n",
        "clf.fit(projected_data_train_real, labeltrain)\n",
        "test_pred = clf.predict(projected_data_test_real)\n",
        "\n",
        "\n",
        "# Generate confusion matrix\n",
        "cm = confusion_matrix(labeltest, test_pred)\n",
        "print(\"Confusion matrix:\")\n",
        "print(cm)\n",
        "\n"
      ],
      "metadata": {
        "colab": {
          "base_uri": "https://localhost:8080/"
        },
        "id": "dCWyUAgO0UcL",
        "outputId": "3456cff0-0efb-4c68-a251-90ee7218094a"
      },
      "execution_count": null,
      "outputs": [
        {
          "output_type": "stream",
          "name": "stdout",
          "text": [
            "Confusion matrix:\n",
            "[[132   8]\n",
            " [  0 200]]\n"
          ]
        },
        {
          "output_type": "stream",
          "name": "stderr",
          "text": [
            "/usr/local/lib/python3.9/dist-packages/sklearn/utils/validation.py:1143: DataConversionWarning: A column-vector y was passed when a 1d array was expected. Please change the shape of y to (n_samples, ), for example using ravel().\n",
            "  y = column_or_1d(y, warn=True)\n"
          ]
        }
      ]
    },
    {
      "cell_type": "code",
      "source": [
        "from PIL import Image\n",
        "import matplotlib.pyplot as plt\n",
        "\n",
        "plt.imshow(D2train[250].reshape(112,92), cmap='gray')\n",
        "\n",
        "# Show the plot\n",
        "plt.show()"
      ],
      "metadata": {
        "colab": {
          "base_uri": "https://localhost:8080/",
          "height": 268
        },
        "id": "VsNr9hohBfnH",
        "outputId": "0a61d9d3-f0ac-4d18-c9bf-ab92b0f94107"
      },
      "execution_count": null,
      "outputs": [
        {
          "output_type": "display_data",
          "data": {
            "text/plain": [
              "<Figure size 432x288 with 1 Axes>"
            ],
            "image/png": "[encoded data removed]"
          },
          "metadata": {
            "needs_background": "light"
          }
        }
      ]
    },
    {
      "cell_type": "code",
      "source": [
        "Mu = np.zeros((2, 10304))\n",
        "\n",
        "Mu[0]=np.mean(D2train[0:200,:], axis=0)\n",
        "Mu[1]=np.mean(D2train[200:410,:], axis=0)\n",
        "\n",
        "Sb=200*np.matmul((Mu[0]-np.mean(D2train, axis=0)),(Mu[0]-np.mean(D2train, axis=0)).T)+210*np.matmul((Mu[1]-np.mean(D2train, axis=0)),(Mu[1]-np.mean(D2train, axis=0)).T)\n",
        "Sb=np.matmul((Mu[0]-Mu[1]),(Mu[0]-Mu[1]).T)\n",
        "\n",
        "\n",
        "LDAcentertrain = np.zeros(((2,210,10304)))\n",
        "\n",
        "for i in range(0,200):\n",
        "  LDAcentertrain[0,i]=D2train[int(i)]-Mu[0]\n",
        "\n",
        "for i in range(0,210):\n",
        "  LDAcentertrain[1,i]=D2train[int(i+200)]-Mu[1]\n",
        "\n",
        "\n",
        "# for i in range(0,40):\n",
        "#   for j in range(0,200):\n",
        "#     LDAcentertrain[i,j]+=D2train[int(i*5+j)]-Mu[int(i)]\n",
        "\n",
        "S0 = np.zeros(((10304,10304)))\n",
        "S1 = np.zeros(((10304,10304)))\n",
        "S = np.zeros(((10304,10304)))\n",
        "\n",
        "S0= np.matmul(LDAcentertrain[0,0:200].T,LDAcentertrain[0,0:200])\n",
        "S1= np.matmul(LDAcentertrain[1].T,LDAcentertrain[1])\n",
        "S=S0+S1\n"
      ],
      "metadata": {
        "id": "-7nnbcJB0XVk",
        "colab": {
          "base_uri": "https://localhost:8080/",
          "height": 232
        },
        "outputId": "a0d95a48-f3e9-4d40-c15c-753337a24214"
      },
      "execution_count": null,
      "outputs": [
        {
          "output_type": "error",
          "ename": "NameError",
          "evalue": "ignored",
          "traceback": [
            "\u001b[0;31m---------------------------------------------------------------------------\u001b[0m",
            "\u001b[0;31mNameError\u001b[0m                                 Traceback (most recent call last)",
            "\u001b[0;32m<ipython-input-1-72367f829303>\u001b[0m in \u001b[0;36m<module>\u001b[0;34m\u001b[0m\n\u001b[0;32m----> 1\u001b[0;31m \u001b[0mMu\u001b[0m \u001b[0;34m=\u001b[0m \u001b[0mnp\u001b[0m\u001b[0;34m.\u001b[0m\u001b[0mzeros\u001b[0m\u001b[0;34m(\u001b[0m\u001b[0;34m(\u001b[0m\u001b[0;36m2\u001b[0m\u001b[0;34m,\u001b[0m \u001b[0;36m10304\u001b[0m\u001b[0;34m)\u001b[0m\u001b[0;34m)\u001b[0m\u001b[0;34m\u001b[0m\u001b[0;34m\u001b[0m\u001b[0m\n\u001b[0m\u001b[1;32m      2\u001b[0m \u001b[0;34m\u001b[0m\u001b[0m\n\u001b[1;32m      3\u001b[0m \u001b[0mMu\u001b[0m\u001b[0;34m[\u001b[0m\u001b[0;36m0\u001b[0m\u001b[0;34m]\u001b[0m\u001b[0;34m=\u001b[0m\u001b[0mnp\u001b[0m\u001b[0;34m.\u001b[0m\u001b[0mmean\u001b[0m\u001b[0;34m(\u001b[0m\u001b[0mD2train\u001b[0m\u001b[0;34m[\u001b[0m\u001b[0;36m0\u001b[0m\u001b[0;34m:\u001b[0m\u001b[0;36m200\u001b[0m\u001b[0;34m,\u001b[0m\u001b[0;34m:\u001b[0m\u001b[0;34m]\u001b[0m\u001b[0;34m,\u001b[0m \u001b[0maxis\u001b[0m\u001b[0;34m=\u001b[0m\u001b[0;36m0\u001b[0m\u001b[0;34m)\u001b[0m\u001b[0;34m\u001b[0m\u001b[0;34m\u001b[0m\u001b[0m\n\u001b[1;32m      4\u001b[0m \u001b[0mMu\u001b[0m\u001b[0;34m[\u001b[0m\u001b[0;36m1\u001b[0m\u001b[0;34m]\u001b[0m\u001b[0;34m=\u001b[0m\u001b[0mnp\u001b[0m\u001b[0;34m.\u001b[0m\u001b[0mmean\u001b[0m\u001b[0;34m(\u001b[0m\u001b[0mD2train\u001b[0m\u001b[0;34m[\u001b[0m\u001b[0;36m200\u001b[0m\u001b[0;34m:\u001b[0m\u001b[0;36m410\u001b[0m\u001b[0;34m,\u001b[0m\u001b[0;34m:\u001b[0m\u001b[0;34m]\u001b[0m\u001b[0;34m,\u001b[0m \u001b[0maxis\u001b[0m\u001b[0;34m=\u001b[0m\u001b[0;36m0\u001b[0m\u001b[0;34m)\u001b[0m\u001b[0;34m\u001b[0m\u001b[0;34m\u001b[0m\u001b[0m\n\u001b[1;32m      5\u001b[0m \u001b[0;34m\u001b[0m\u001b[0m\n",
            "\u001b[0;31mNameError\u001b[0m: name 'np' is not defined"
          ]
        }
      ]
    },
    {
      "cell_type": "code",
      "source": [
        "print(Sb)"
      ],
      "metadata": {
        "colab": {
          "base_uri": "https://localhost:8080/"
        },
        "id": "CMrBkZ61l2AA",
        "outputId": "f36b3d52-8e78-454d-bf17-2e59dbc98f1c"
      },
      "execution_count": null,
      "outputs": [
        {
          "output_type": "stream",
          "name": "stdout",
          "text": [
            "1685739617.6964345\n"
          ]
        }
      ]
    },
    {
      "cell_type": "code",
      "source": [
        "print(Mu[0])\n",
        "print(Sb.shape)\n",
        "print(IS.shape)"
      ],
      "metadata": {
        "colab": {
          "base_uri": "https://localhost:8080/"
        },
        "id": "XrP9uJU0jFOf",
        "outputId": "7e987e96-a814-4fec-b205-65ce48ca5d95"
      },
      "execution_count": null,
      "outputs": [
        {
          "output_type": "stream",
          "name": "stdout",
          "text": [
            "[85.12  84.89  85.165 ... 77.24  74.335 73.37 ]\n",
            "()\n",
            "(10304, 10304)\n"
          ]
        }
      ]
    },
    {
      "cell_type": "code",
      "source": [
        "IS = np.linalg.inv(S)"
      ],
      "metadata": {
        "id": "PFq59H3KlP8f"
      },
      "execution_count": null,
      "outputs": []
    },
    {
      "cell_type": "code",
      "source": [
        "eigenvalues_faces_nonface2, eigenvectors_faces_nonface2 = np.linalg.eigh(IS*Sb)\n",
        "\n",
        "idx = np.argsort(-np.absolute(eigenvalues_faces_nonface2))   \n",
        "eigenValues_faces_nonface2 = eigenvalues_faces_nonface2[idx]\n",
        "eigenVectors_faces_nonface2 = eigenvectors_faces_nonface2[:,idx]\n",
        "\n",
        "# idx = eigenvalues_faces_nonface2.argsort()[::-1]   \n",
        "# eigenValues_faces_nonface2 = eigenvalues_faces_nonface2[idx]\n",
        "# eigenVectors_faces_nonface2 = eigenvectors_faces_nonface2[:,idx]"
      ],
      "metadata": {
        "id": "b9VE5AgJ0Zqz"
      },
      "execution_count": null,
      "outputs": []
    },
    {
      "cell_type": "code",
      "source": [
        "idx = eigenvalues_faces_nonface2.argsort()   \n",
        "eigenValues_faces_nonface2 = eigenvalues_faces_nonface2[idx]\n",
        "eigenVectors_faces_nonface2 = eigenvectors_faces_nonface2[:,idx]"
      ],
      "metadata": {
        "id": "R29986MUYrij"
      },
      "execution_count": null,
      "outputs": []
    },
    {
      "cell_type": "code",
      "source": [
        "print(eigenValues_faces_nonface2[0])\n",
        "print(eigenValues_faces_nonface2[10303])"
      ],
      "metadata": {
        "colab": {
          "base_uri": "https://localhost:8080/"
        },
        "id": "fKeYWb05Yd7v",
        "outputId": "bea91704-9416-46e7-eb39-7745d0042740"
      },
      "execution_count": null,
      "outputs": [
        {
          "output_type": "stream",
          "name": "stdout",
          "text": [
            "2.111754573516674e+21\n",
            "-2.1261494068528721e+21\n"
          ]
        }
      ]
    },
    {
      "cell_type": "code",
      "source": [
        "idx = np.argsort(np.absolute(eigenvalues_faces_nonface2))   \n",
        "eigenValues_faces_nonface2 = eigenvalues_faces_nonface2[idx]\n",
        "eigenVectors_faces_nonface2 = eigenvectors_faces_nonface2[:,idx]"
      ],
      "metadata": {
        "id": "sH-Ctha_Yzig"
      },
      "execution_count": null,
      "outputs": []
    },
    {
      "cell_type": "code",
      "source": [
        "print(eigenVectors_faces_nonface2[0])\n",
        "print(eigenVectors_faces_nonface2[10303])"
      ],
      "metadata": {
        "colab": {
          "base_uri": "https://localhost:8080/"
        },
        "id": "VFJhb-fjY5_j",
        "outputId": "58abeec3-1d44-4025-e7b6-37e0304b91ad"
      },
      "execution_count": null,
      "outputs": [
        {
          "output_type": "stream",
          "name": "stdout",
          "text": [
            "[ 0.00452746  0.00210158  0.00095151 ...  0.01352421 -0.01380018\n",
            " -0.01364641]\n",
            "[-0.00074631  0.00179589  0.00198046 ...  0.01171667  0.01148858\n",
            " -0.01144377]\n"
          ]
        }
      ]
    },
    {
      "cell_type": "code",
      "source": [
        "print(eigenValues_faces_nonface2[0])\n",
        "print(eigenValues_faces_nonface2[10303])"
      ],
      "metadata": {
        "id": "cqeJrAeTboLU"
      },
      "execution_count": null,
      "outputs": []
    },
    {
      "cell_type": "code",
      "source": [
        "\n",
        "U2=eigenVectors_faces_nonface2[:,-2:]\n",
        "projection_matrix2 = U2\n",
        "projected_data_train2 = np.dot(projection_matrix2.T, D2Traincentered.T)\n",
        "projected_data_test2 = np.dot(projection_matrix2.T, D2Testcentered.T)\n",
        "print(U2.shape)\n",
        "print(projection_matrix2.shape)\n",
        "print(D2Traincentered.shape)\n",
        "\n",
        "projected_data_train_real2 = np.real(projected_data_train2.T)\n",
        "projected_data_test_real2 = np.real(projected_data_test2.T)\n",
        "\n",
        "\n",
        "knn = KNeighborsClassifier(n_neighbors=2)\n",
        "knn.fit(projected_data_train_real2, labeltrain)\n",
        "k2=knn.score(projected_data_test_real2, labeltest)\n",
        "print(\"Accuracy : \",k2 )\n",
        "print(projected_data_train_real2.shape)\n",
        "print(labeltrain.shape)\n",
        "print(projected_data_test_real2.shape)\n",
        "print(labeltest.shape)"
      ],
      "metadata": {
        "colab": {
          "base_uri": "https://localhost:8080/"
        },
        "id": "_aaasrL_0bwp",
        "outputId": "99abf908-6835-4200-e180-812815a5f383"
      },
      "execution_count": null,
      "outputs": [
        {
          "output_type": "stream",
          "name": "stdout",
          "text": [
            "(10304, 2)\n",
            "(10304, 2)\n",
            "(410, 10304)\n",
            "Accuracy :  0.5147058823529411\n",
            "(410, 2)\n",
            "(410, 1)\n",
            "(340, 2)\n",
            "(340, 1)\n"
          ]
        },
        {
          "output_type": "stream",
          "name": "stderr",
          "text": [
            "/usr/local/lib/python3.9/dist-packages/sklearn/neighbors/_classification.py:215: DataConversionWarning: A column-vector y was passed when a 1d array was expected. Please change the shape of y to (n_samples,), for example using ravel().\n",
            "  return self._fit(X, y)\n"
          ]
        }
      ]
    },
    {
      "cell_type": "code",
      "source": [
        "import matplotlib.pyplot as plt\n",
        "numbertest=[70,140,210]\n",
        "plt.plot(numbertest,k)\n",
        "\n",
        "# Set axis labels and title\n",
        "plt.xlabel('number of nonface images')\n",
        "plt.ylabel('accuracy')\n",
        "plt.title('number of nonface images vs accuracy for alpha=0.85')\n",
        "\n",
        "# Show the plot\n",
        "plt.show()"
      ],
      "metadata": {
        "id": "KBdQKOwT0hRC",
        "colab": {
          "base_uri": "https://localhost:8080/",
          "height": 627
        },
        "outputId": "8892325b-b760-40b4-bdbc-34cda37a4586"
      },
      "execution_count": null,
      "outputs": [
        {
          "output_type": "error",
          "ename": "ValueError",
          "evalue": "ignored",
          "traceback": [
            "\u001b[0;31m---------------------------------------------------------------------------\u001b[0m",
            "\u001b[0;31mValueError\u001b[0m                                Traceback (most recent call last)",
            "\u001b[0;32m<ipython-input-23-e6410a19588e>\u001b[0m in \u001b[0;36m<module>\u001b[0;34m\u001b[0m\n\u001b[1;32m      1\u001b[0m \u001b[0;32mimport\u001b[0m \u001b[0mmatplotlib\u001b[0m\u001b[0;34m.\u001b[0m\u001b[0mpyplot\u001b[0m \u001b[0;32mas\u001b[0m \u001b[0mplt\u001b[0m\u001b[0;34m\u001b[0m\u001b[0;34m\u001b[0m\u001b[0m\n\u001b[1;32m      2\u001b[0m \u001b[0mnumbertest\u001b[0m\u001b[0;34m=\u001b[0m\u001b[0;34m[\u001b[0m\u001b[0;36m70\u001b[0m\u001b[0;34m,\u001b[0m\u001b[0;36m140\u001b[0m\u001b[0;34m,\u001b[0m\u001b[0;36m210\u001b[0m\u001b[0;34m]\u001b[0m\u001b[0;34m\u001b[0m\u001b[0;34m\u001b[0m\u001b[0m\n\u001b[0;32m----> 3\u001b[0;31m \u001b[0mplt\u001b[0m\u001b[0;34m.\u001b[0m\u001b[0mplot\u001b[0m\u001b[0;34m(\u001b[0m\u001b[0mnumbertest\u001b[0m\u001b[0;34m,\u001b[0m\u001b[0mk\u001b[0m\u001b[0;34m)\u001b[0m\u001b[0;34m\u001b[0m\u001b[0;34m\u001b[0m\u001b[0m\n\u001b[0m\u001b[1;32m      4\u001b[0m \u001b[0;34m\u001b[0m\u001b[0m\n\u001b[1;32m      5\u001b[0m \u001b[0;31m# Set axis labels and title\u001b[0m\u001b[0;34m\u001b[0m\u001b[0;34m\u001b[0m\u001b[0m\n",
            "\u001b[0;32m/usr/local/lib/python3.9/dist-packages/matplotlib/pyplot.py\u001b[0m in \u001b[0;36mplot\u001b[0;34m(scalex, scaley, data, *args, **kwargs)\u001b[0m\n\u001b[1;32m   2810\u001b[0m \u001b[0;34m@\u001b[0m\u001b[0m_copy_docstring_and_deprecators\u001b[0m\u001b[0;34m(\u001b[0m\u001b[0mAxes\u001b[0m\u001b[0;34m.\u001b[0m\u001b[0mplot\u001b[0m\u001b[0;34m)\u001b[0m\u001b[0;34m\u001b[0m\u001b[0;34m\u001b[0m\u001b[0m\n\u001b[1;32m   2811\u001b[0m \u001b[0;32mdef\u001b[0m \u001b[0mplot\u001b[0m\u001b[0;34m(\u001b[0m\u001b[0;34m*\u001b[0m\u001b[0margs\u001b[0m\u001b[0;34m,\u001b[0m \u001b[0mscalex\u001b[0m\u001b[0;34m=\u001b[0m\u001b[0;32mTrue\u001b[0m\u001b[0;34m,\u001b[0m \u001b[0mscaley\u001b[0m\u001b[0;34m=\u001b[0m\u001b[0;32mTrue\u001b[0m\u001b[0;34m,\u001b[0m \u001b[0mdata\u001b[0m\u001b[0;34m=\u001b[0m\u001b[0;32mNone\u001b[0m\u001b[0;34m,\u001b[0m \u001b[0;34m**\u001b[0m\u001b[0mkwargs\u001b[0m\u001b[0;34m)\u001b[0m\u001b[0;34m:\u001b[0m\u001b[0;34m\u001b[0m\u001b[0;34m\u001b[0m\u001b[0m\n\u001b[0;32m-> 2812\u001b[0;31m     return gca().plot(\n\u001b[0m\u001b[1;32m   2813\u001b[0m         \u001b[0;34m*\u001b[0m\u001b[0margs\u001b[0m\u001b[0;34m,\u001b[0m \u001b[0mscalex\u001b[0m\u001b[0;34m=\u001b[0m\u001b[0mscalex\u001b[0m\u001b[0;34m,\u001b[0m \u001b[0mscaley\u001b[0m\u001b[0;34m=\u001b[0m\u001b[0mscaley\u001b[0m\u001b[0;34m,\u001b[0m\u001b[0;34m\u001b[0m\u001b[0;34m\u001b[0m\u001b[0m\n\u001b[1;32m   2814\u001b[0m         **({\"data\": data} if data is not None else {}), **kwargs)\n",
            "\u001b[0;32m/usr/local/lib/python3.9/dist-packages/matplotlib/axes/_axes.py\u001b[0m in \u001b[0;36mplot\u001b[0;34m(self, scalex, scaley, data, *args, **kwargs)\u001b[0m\n\u001b[1;32m   1686\u001b[0m         \"\"\"\n\u001b[1;32m   1687\u001b[0m         \u001b[0mkwargs\u001b[0m \u001b[0;34m=\u001b[0m \u001b[0mcbook\u001b[0m\u001b[0;34m.\u001b[0m\u001b[0mnormalize_kwargs\u001b[0m\u001b[0;34m(\u001b[0m\u001b[0mkwargs\u001b[0m\u001b[0;34m,\u001b[0m \u001b[0mmlines\u001b[0m\u001b[0;34m.\u001b[0m\u001b[0mLine2D\u001b[0m\u001b[0;34m)\u001b[0m\u001b[0;34m\u001b[0m\u001b[0;34m\u001b[0m\u001b[0m\n\u001b[0;32m-> 1688\u001b[0;31m         \u001b[0mlines\u001b[0m \u001b[0;34m=\u001b[0m \u001b[0;34m[\u001b[0m\u001b[0;34m*\u001b[0m\u001b[0mself\u001b[0m\u001b[0;34m.\u001b[0m\u001b[0m_get_lines\u001b[0m\u001b[0;34m(\u001b[0m\u001b[0;34m*\u001b[0m\u001b[0margs\u001b[0m\u001b[0;34m,\u001b[0m \u001b[0mdata\u001b[0m\u001b[0;34m=\u001b[0m\u001b[0mdata\u001b[0m\u001b[0;34m,\u001b[0m \u001b[0;34m**\u001b[0m\u001b[0mkwargs\u001b[0m\u001b[0;34m)\u001b[0m\u001b[0;34m]\u001b[0m\u001b[0;34m\u001b[0m\u001b[0;34m\u001b[0m\u001b[0m\n\u001b[0m\u001b[1;32m   1689\u001b[0m         \u001b[0;32mfor\u001b[0m \u001b[0mline\u001b[0m \u001b[0;32min\u001b[0m \u001b[0mlines\u001b[0m\u001b[0;34m:\u001b[0m\u001b[0;34m\u001b[0m\u001b[0;34m\u001b[0m\u001b[0m\n\u001b[1;32m   1690\u001b[0m             \u001b[0mself\u001b[0m\u001b[0;34m.\u001b[0m\u001b[0madd_line\u001b[0m\u001b[0;34m(\u001b[0m\u001b[0mline\u001b[0m\u001b[0;34m)\u001b[0m\u001b[0;34m\u001b[0m\u001b[0;34m\u001b[0m\u001b[0m\n",
            "\u001b[0;32m/usr/local/lib/python3.9/dist-packages/matplotlib/axes/_base.py\u001b[0m in \u001b[0;36m__call__\u001b[0;34m(self, data, *args, **kwargs)\u001b[0m\n\u001b[1;32m    309\u001b[0m                 \u001b[0mthis\u001b[0m \u001b[0;34m+=\u001b[0m \u001b[0margs\u001b[0m\u001b[0;34m[\u001b[0m\u001b[0;36m0\u001b[0m\u001b[0;34m]\u001b[0m\u001b[0;34m,\u001b[0m\u001b[0;34m\u001b[0m\u001b[0;34m\u001b[0m\u001b[0m\n\u001b[1;32m    310\u001b[0m                 \u001b[0margs\u001b[0m \u001b[0;34m=\u001b[0m \u001b[0margs\u001b[0m\u001b[0;34m[\u001b[0m\u001b[0;36m1\u001b[0m\u001b[0;34m:\u001b[0m\u001b[0;34m]\u001b[0m\u001b[0;34m\u001b[0m\u001b[0;34m\u001b[0m\u001b[0m\n\u001b[0;32m--> 311\u001b[0;31m             yield from self._plot_args(\n\u001b[0m\u001b[1;32m    312\u001b[0m                 this, kwargs, ambiguous_fmt_datakey=ambiguous_fmt_datakey)\n\u001b[1;32m    313\u001b[0m \u001b[0;34m\u001b[0m\u001b[0m\n",
            "\u001b[0;32m/usr/local/lib/python3.9/dist-packages/matplotlib/axes/_base.py\u001b[0m in \u001b[0;36m_plot_args\u001b[0;34m(self, tup, kwargs, return_kwargs, ambiguous_fmt_datakey)\u001b[0m\n\u001b[1;32m    502\u001b[0m \u001b[0;34m\u001b[0m\u001b[0m\n\u001b[1;32m    503\u001b[0m         \u001b[0;32mif\u001b[0m \u001b[0mx\u001b[0m\u001b[0;34m.\u001b[0m\u001b[0mshape\u001b[0m\u001b[0;34m[\u001b[0m\u001b[0;36m0\u001b[0m\u001b[0;34m]\u001b[0m \u001b[0;34m!=\u001b[0m \u001b[0my\u001b[0m\u001b[0;34m.\u001b[0m\u001b[0mshape\u001b[0m\u001b[0;34m[\u001b[0m\u001b[0;36m0\u001b[0m\u001b[0;34m]\u001b[0m\u001b[0;34m:\u001b[0m\u001b[0;34m\u001b[0m\u001b[0;34m\u001b[0m\u001b[0m\n\u001b[0;32m--> 504\u001b[0;31m             raise ValueError(f\"x and y must have same first dimension, but \"\n\u001b[0m\u001b[1;32m    505\u001b[0m                              f\"have shapes {x.shape} and {y.shape}\")\n\u001b[1;32m    506\u001b[0m         \u001b[0;32mif\u001b[0m \u001b[0mx\u001b[0m\u001b[0;34m.\u001b[0m\u001b[0mndim\u001b[0m \u001b[0;34m>\u001b[0m \u001b[0;36m2\u001b[0m \u001b[0;32mor\u001b[0m \u001b[0my\u001b[0m\u001b[0;34m.\u001b[0m\u001b[0mndim\u001b[0m \u001b[0;34m>\u001b[0m \u001b[0;36m2\u001b[0m\u001b[0;34m:\u001b[0m\u001b[0;34m\u001b[0m\u001b[0;34m\u001b[0m\u001b[0m\n",
            "\u001b[0;31mValueError\u001b[0m: x and y must have same first dimension, but have shapes (3,) and (1,)"
          ]
        },
        {
          "output_type": "display_data",
          "data": {
            "text/plain": [
              "<Figure size 432x288 with 1 Axes>"
            ],
            "image/png": "[encoded data removed]"
          },
          "metadata": {
            "needs_background": "light"
          }
        }
      ]
    }
  ],
  "metadata": {
    "colab": {
      "provenance": []
    },
    "kernelspec": {
      "display_name": "Python 3",
      "name": "python3"
    },
    "language_info": {
      "name": "python"
    }
  },
  "nbformat": 4,
  "nbformat_minor": 0
}