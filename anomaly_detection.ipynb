{
  "cells": [
    {
      "cell_type": "markdown",
      "metadata": {
        "id": "ihUgeAKdO4XQ"
      },
      "source": [
        "# Analyzing and Preprocessing the Dataset"
      ]
    },
    {
      "cell_type": "code",
      "execution_count": null,
      "metadata": {
        "colab": {
          "base_uri": "https://localhost:8080/"
        },
        "id": "scRNPA5AMfpX",
        "outputId": "fd290b43-6d45-4bfb-88f4-1b43a9548e5a"
      },
      "outputs": [
        {
          "name": "stdout",
          "output_type": "stream",
          "text": [
            "Drive already mounted at /content/drive/; to attempt to forcibly remount, call drive.mount(\"/content/drive/\", force_remount=True).\n"
          ]
        }
      ],
      "source": [
        "from google.colab import drive\n",
        "drive.mount('/content/drive/')"
      ]
    },
    {
      "cell_type": "code",
      "execution_count": null,
      "metadata": {
        "colab": {
          "base_uri": "https://localhost:8080/"
        },
        "id": "gsV2CaVcMi_-",
        "outputId": "03a49455-3da6-4c01-817f-87eb052422d7"
      },
      "outputs": [
        {
          "name": "stdout",
          "output_type": "stream",
          "text": [
            "/content/drive/MyDrive/PR/assignment2\n"
          ]
        }
      ],
      "source": [
        "%cd /content/drive/MyDrive/PR/assignment2"
      ]
    },
    {
      "cell_type": "code",
      "execution_count": null,
      "metadata": {
        "colab": {
          "base_uri": "https://localhost:8080/"
        },
        "id": "46C8udLoMlLR",
        "outputId": "c6410225-16ab-47ea-f887-11dd9efdc125"
      },
      "outputs": [
        {
          "name": "stdout",
          "output_type": "stream",
          "text": [
            "Archive:  archive.zip\n",
            "replace /content/drive/MyDrive/PR/assignment2/corrected.gz? [y]es, [n]o, [A]ll, [N]one, [r]ename: N\n"
          ]
        }
      ],
      "source": [
        "!unzip archive.zip -d '/content/drive/MyDrive/PR/assignment2'"
      ]
    },
    {
      "cell_type": "code",
      "execution_count": null,
      "metadata": {
        "id": "NAJIusVGMoDX"
      },
      "outputs": [],
      "source": [
        "import pandas as pd\n",
        "from sklearn.metrics.pairwise import pairwise_distances\n",
        "import numpy as np\n",
        "from time import time\n",
        "import matplotlib.pyplot as plt\n",
        "from sklearn.model_selection import train_test_split\n",
        "from sklearn.cluster import KMeans\n",
        "import random\n",
        "from sklearn.utils import check_random_state\n",
        "from sklearn.preprocessing import normalize\n",
        "from scipy.sparse.linalg import eigs\n",
        "from sklearn.metrics.pairwise import rbf_kernel\n",
        "import random"
      ]
    },
    {
      "cell_type": "code",
      "execution_count": null,
      "metadata": {
        "colab": {
          "base_uri": "https://localhost:8080/",
          "height": 393
        },
        "id": "Ij8t_RO5MsYN",
        "outputId": "67aaf153-3378-4b49-d9ee-6a0d91fc8287"
      },
      "outputs": [
        {
          "data": {
            "text/html": [
              "\n",
              "  <div id=\"df-f92ac1d8-b97e-4ffd-8a3e-5446f08cf34e\">\n",
              "    <div class=\"colab-df-container\">\n",
              "      <div>\n",
              "<style scoped>\n",
              "    .dataframe tbody tr th:only-of-type {\n",
              "        vertical-align: middle;\n",
              "    }\n",
              "\n",
              "    .dataframe tbody tr th {\n",
              "        vertical-align: top;\n",
              "    }\n",
              "\n",
              "    .dataframe thead th {\n",
              "        text-align: right;\n",
              "    }\n",
              "</style>\n",
              "<table border=\"1\" class=\"dataframe\">\n",
              "  <thead>\n",
              "    <tr style=\"text-align: right;\">\n",
              "      <th></th>\n",
              "      <th>duration</th>\n",
              "      <th>src_bytes</th>\n",
              "      <th>dst_bytes</th>\n",
              "      <th>land</th>\n",
              "      <th>wrong_fragment</th>\n",
              "      <th>urgent</th>\n",
              "      <th>hot</th>\n",
              "      <th>num_failed_logins</th>\n",
              "      <th>logged_in</th>\n",
              "      <th>num_compromised</th>\n",
              "      <th>...</th>\n",
              "      <th>dst_host_count</th>\n",
              "      <th>dst_host_srv_count</th>\n",
              "      <th>dst_host_same_srv_rate</th>\n",
              "      <th>dst_host_diff_srv_rate</th>\n",
              "      <th>dst_host_same_src_port_rate</th>\n",
              "      <th>dst_host_srv_diff_host_rate</th>\n",
              "      <th>dst_host_serror_rate</th>\n",
              "      <th>dst_host_srv_serror_rate</th>\n",
              "      <th>dst_host_rerror_rate</th>\n",
              "      <th>dst_host_srv_rerror_rate</th>\n",
              "    </tr>\n",
              "  </thead>\n",
              "  <tbody>\n",
              "    <tr>\n",
              "      <th>count</th>\n",
              "      <td>494021.000000</td>\n",
              "      <td>4.940210e+05</td>\n",
              "      <td>4.940210e+05</td>\n",
              "      <td>494021.000000</td>\n",
              "      <td>494021.000000</td>\n",
              "      <td>494021.000000</td>\n",
              "      <td>494021.000000</td>\n",
              "      <td>494021.000000</td>\n",
              "      <td>494021.000000</td>\n",
              "      <td>494021.000000</td>\n",
              "      <td>...</td>\n",
              "      <td>494021.000000</td>\n",
              "      <td>494021.000000</td>\n",
              "      <td>494021.000000</td>\n",
              "      <td>494021.000000</td>\n",
              "      <td>494021.000000</td>\n",
              "      <td>494021.000000</td>\n",
              "      <td>494021.000000</td>\n",
              "      <td>494021.000000</td>\n",
              "      <td>494021.000000</td>\n",
              "      <td>494021.000000</td>\n",
              "    </tr>\n",
              "    <tr>\n",
              "      <th>mean</th>\n",
              "      <td>47.979302</td>\n",
              "      <td>3.025610e+03</td>\n",
              "      <td>8.685324e+02</td>\n",
              "      <td>0.000045</td>\n",
              "      <td>0.006433</td>\n",
              "      <td>0.000014</td>\n",
              "      <td>0.034519</td>\n",
              "      <td>0.000152</td>\n",
              "      <td>0.148247</td>\n",
              "      <td>0.010212</td>\n",
              "      <td>...</td>\n",
              "      <td>232.470778</td>\n",
              "      <td>188.665670</td>\n",
              "      <td>0.753780</td>\n",
              "      <td>0.030906</td>\n",
              "      <td>0.601935</td>\n",
              "      <td>0.006684</td>\n",
              "      <td>0.176754</td>\n",
              "      <td>0.176443</td>\n",
              "      <td>0.058118</td>\n",
              "      <td>0.057412</td>\n",
              "    </tr>\n",
              "    <tr>\n",
              "      <th>std</th>\n",
              "      <td>707.746472</td>\n",
              "      <td>9.882181e+05</td>\n",
              "      <td>3.304000e+04</td>\n",
              "      <td>0.006673</td>\n",
              "      <td>0.134805</td>\n",
              "      <td>0.005510</td>\n",
              "      <td>0.782103</td>\n",
              "      <td>0.015520</td>\n",
              "      <td>0.355345</td>\n",
              "      <td>1.798326</td>\n",
              "      <td>...</td>\n",
              "      <td>64.745380</td>\n",
              "      <td>106.040437</td>\n",
              "      <td>0.410781</td>\n",
              "      <td>0.109259</td>\n",
              "      <td>0.481309</td>\n",
              "      <td>0.042133</td>\n",
              "      <td>0.380593</td>\n",
              "      <td>0.380919</td>\n",
              "      <td>0.230590</td>\n",
              "      <td>0.230140</td>\n",
              "    </tr>\n",
              "    <tr>\n",
              "      <th>min</th>\n",
              "      <td>0.000000</td>\n",
              "      <td>0.000000e+00</td>\n",
              "      <td>0.000000e+00</td>\n",
              "      <td>0.000000</td>\n",
              "      <td>0.000000</td>\n",
              "      <td>0.000000</td>\n",
              "      <td>0.000000</td>\n",
              "      <td>0.000000</td>\n",
              "      <td>0.000000</td>\n",
              "      <td>0.000000</td>\n",
              "      <td>...</td>\n",
              "      <td>0.000000</td>\n",
              "      <td>0.000000</td>\n",
              "      <td>0.000000</td>\n",
              "      <td>0.000000</td>\n",
              "      <td>0.000000</td>\n",
              "      <td>0.000000</td>\n",
              "      <td>0.000000</td>\n",
              "      <td>0.000000</td>\n",
              "      <td>0.000000</td>\n",
              "      <td>0.000000</td>\n",
              "    </tr>\n",
              "    <tr>\n",
              "      <th>25%</th>\n",
              "      <td>0.000000</td>\n",
              "      <td>4.500000e+01</td>\n",
              "      <td>0.000000e+00</td>\n",
              "      <td>0.000000</td>\n",
              "      <td>0.000000</td>\n",
              "      <td>0.000000</td>\n",
              "      <td>0.000000</td>\n",
              "      <td>0.000000</td>\n",
              "      <td>0.000000</td>\n",
              "      <td>0.000000</td>\n",
              "      <td>...</td>\n",
              "      <td>255.000000</td>\n",
              "      <td>46.000000</td>\n",
              "      <td>0.410000</td>\n",
              "      <td>0.000000</td>\n",
              "      <td>0.000000</td>\n",
              "      <td>0.000000</td>\n",
              "      <td>0.000000</td>\n",
              "      <td>0.000000</td>\n",
              "      <td>0.000000</td>\n",
              "      <td>0.000000</td>\n",
              "    </tr>\n",
              "    <tr>\n",
              "      <th>50%</th>\n",
              "      <td>0.000000</td>\n",
              "      <td>5.200000e+02</td>\n",
              "      <td>0.000000e+00</td>\n",
              "      <td>0.000000</td>\n",
              "      <td>0.000000</td>\n",
              "      <td>0.000000</td>\n",
              "      <td>0.000000</td>\n",
              "      <td>0.000000</td>\n",
              "      <td>0.000000</td>\n",
              "      <td>0.000000</td>\n",
              "      <td>...</td>\n",
              "      <td>255.000000</td>\n",
              "      <td>255.000000</td>\n",
              "      <td>1.000000</td>\n",
              "      <td>0.000000</td>\n",
              "      <td>1.000000</td>\n",
              "      <td>0.000000</td>\n",
              "      <td>0.000000</td>\n",
              "      <td>0.000000</td>\n",
              "      <td>0.000000</td>\n",
              "      <td>0.000000</td>\n",
              "    </tr>\n",
              "    <tr>\n",
              "      <th>75%</th>\n",
              "      <td>0.000000</td>\n",
              "      <td>1.032000e+03</td>\n",
              "      <td>0.000000e+00</td>\n",
              "      <td>0.000000</td>\n",
              "      <td>0.000000</td>\n",
              "      <td>0.000000</td>\n",
              "      <td>0.000000</td>\n",
              "      <td>0.000000</td>\n",
              "      <td>0.000000</td>\n",
              "      <td>0.000000</td>\n",
              "      <td>...</td>\n",
              "      <td>255.000000</td>\n",
              "      <td>255.000000</td>\n",
              "      <td>1.000000</td>\n",
              "      <td>0.040000</td>\n",
              "      <td>1.000000</td>\n",
              "      <td>0.000000</td>\n",
              "      <td>0.000000</td>\n",
              "      <td>0.000000</td>\n",
              "      <td>0.000000</td>\n",
              "      <td>0.000000</td>\n",
              "    </tr>\n",
              "    <tr>\n",
              "      <th>max</th>\n",
              "      <td>58329.000000</td>\n",
              "      <td>6.933756e+08</td>\n",
              "      <td>5.155468e+06</td>\n",
              "      <td>1.000000</td>\n",
              "      <td>3.000000</td>\n",
              "      <td>3.000000</td>\n",
              "      <td>30.000000</td>\n",
              "      <td>5.000000</td>\n",
              "      <td>1.000000</td>\n",
              "      <td>884.000000</td>\n",
              "      <td>...</td>\n",
              "      <td>255.000000</td>\n",
              "      <td>255.000000</td>\n",
              "      <td>1.000000</td>\n",
              "      <td>1.000000</td>\n",
              "      <td>1.000000</td>\n",
              "      <td>1.000000</td>\n",
              "      <td>1.000000</td>\n",
              "      <td>1.000000</td>\n",
              "      <td>1.000000</td>\n",
              "      <td>1.000000</td>\n",
              "    </tr>\n",
              "  </tbody>\n",
              "</table>\n",
              "<p>8 rows × 38 columns</p>\n",
              "</div>\n",
              "      <button class=\"colab-df-convert\" onclick=\"convertToInteractive('df-f92ac1d8-b97e-4ffd-8a3e-5446f08cf34e')\"\n",
              "              title=\"Convert this dataframe to an interactive table.\"\n",
              "              style=\"display:none;\">\n",
              "        \n",
              "  <svg xmlns=\"http://www.w3.org/2000/svg\" height=\"24px\"viewBox=\"0 0 24 24\"\n",
              "       width=\"24px\">\n",
              "    <path d=\"M0 0h24v24H0V0z\" fill=\"none\"/>\n",
              "    <path d=\"M18.56 5.44l.94 2.06.94-2.06 2.06-.94-2.06-.94-.94-2.06-.94 2.06-2.06.94zm-11 1L8.5 8.5l.94-2.06 2.06-.94-2.06-.94L8.5 2.5l-.94 2.06-2.06.94zm10 10l.94 2.06.94-2.06 2.06-.94-2.06-.94-.94-2.06-.94 2.06-2.06.94z\"/><path d=\"M17.41 7.96l-1.37-1.37c-.4-.4-.92-.59-1.43-.59-.52 0-1.04.2-1.43.59L10.3 9.45l-7.72 7.72c-.78.78-.78 2.05 0 2.83L4 21.41c.39.39.9.59 1.41.59.51 0 1.02-.2 1.41-.59l7.78-7.78 2.81-2.81c.8-.78.8-2.07 0-2.86zM5.41 20L4 18.59l7.72-7.72 1.47 1.35L5.41 20z\"/>\n",
              "  </svg>\n",
              "      </button>\n",
              "      \n",
              "  <style>\n",
              "    .colab-df-container {\n",
              "      display:flex;\n",
              "      flex-wrap:wrap;\n",
              "      gap: 12px;\n",
              "    }\n",
              "\n",
              "    .colab-df-convert {\n",
              "      background-color: #E8F0FE;\n",
              "      border: none;\n",
              "      border-radius: 50%;\n",
              "      cursor: pointer;\n",
              "      display: none;\n",
              "      fill: #1967D2;\n",
              "      height: 32px;\n",
              "      padding: 0 0 0 0;\n",
              "      width: 32px;\n",
              "    }\n",
              "\n",
              "    .colab-df-convert:hover {\n",
              "      background-color: #E2EBFA;\n",
              "      box-shadow: 0px 1px 2px rgba(60, 64, 67, 0.3), 0px 1px 3px 1px rgba(60, 64, 67, 0.15);\n",
              "      fill: #174EA6;\n",
              "    }\n",
              "\n",
              "    [theme=dark] .colab-df-convert {\n",
              "      background-color: #3B4455;\n",
              "      fill: #D2E3FC;\n",
              "    }\n",
              "\n",
              "    [theme=dark] .colab-df-convert:hover {\n",
              "      background-color: #434B5C;\n",
              "      box-shadow: 0px 1px 3px 1px rgba(0, 0, 0, 0.15);\n",
              "      filter: drop-shadow(0px 1px 2px rgba(0, 0, 0, 0.3));\n",
              "      fill: #FFFFFF;\n",
              "    }\n",
              "  </style>\n",
              "\n",
              "      <script>\n",
              "        const buttonEl =\n",
              "          document.querySelector('#df-f92ac1d8-b97e-4ffd-8a3e-5446f08cf34e button.colab-df-convert');\n",
              "        buttonEl.style.display =\n",
              "          google.colab.kernel.accessAllowed ? 'block' : 'none';\n",
              "\n",
              "        async function convertToInteractive(key) {\n",
              "          const element = document.querySelector('#df-f92ac1d8-b97e-4ffd-8a3e-5446f08cf34e');\n",
              "          const dataTable =\n",
              "            await google.colab.kernel.invokeFunction('convertToInteractive',\n",
              "                                                     [key], {});\n",
              "          if (!dataTable) return;\n",
              "\n",
              "          const docLinkHtml = 'Like what you see? Visit the ' +\n",
              "            '<a target=\"_blank\" href=https://colab.research.google.com/notebooks/data_table.ipynb>data table notebook</a>'\n",
              "            + ' to learn more about interactive tables.';\n",
              "          element.innerHTML = '';\n",
              "          dataTable['output_type'] = 'display_data';\n",
              "          await google.colab.output.renderOutput(dataTable, element);\n",
              "          const docLink = document.createElement('div');\n",
              "          docLink.innerHTML = docLinkHtml;\n",
              "          element.appendChild(docLink);\n",
              "        }\n",
              "      </script>\n",
              "    </div>\n",
              "  </div>\n",
              "  "
            ],
            "text/plain": [
              "            duration     src_bytes     dst_bytes           land  \\\n",
              "count  494021.000000  4.940210e+05  4.940210e+05  494021.000000   \n",
              "mean       47.979302  3.025610e+03  8.685324e+02       0.000045   \n",
              "std       707.746472  9.882181e+05  3.304000e+04       0.006673   \n",
              "min         0.000000  0.000000e+00  0.000000e+00       0.000000   \n",
              "25%         0.000000  4.500000e+01  0.000000e+00       0.000000   \n",
              "50%         0.000000  5.200000e+02  0.000000e+00       0.000000   \n",
              "75%         0.000000  1.032000e+03  0.000000e+00       0.000000   \n",
              "max     58329.000000  6.933756e+08  5.155468e+06       1.000000   \n",
              "\n",
              "       wrong_fragment         urgent            hot  num_failed_logins  \\\n",
              "count   494021.000000  494021.000000  494021.000000      494021.000000   \n",
              "mean         0.006433       0.000014       0.034519           0.000152   \n",
              "std          0.134805       0.005510       0.782103           0.015520   \n",
              "min          0.000000       0.000000       0.000000           0.000000   \n",
              "25%          0.000000       0.000000       0.000000           0.000000   \n",
              "50%          0.000000       0.000000       0.000000           0.000000   \n",
              "75%          0.000000       0.000000       0.000000           0.000000   \n",
              "max          3.000000       3.000000      30.000000           5.000000   \n",
              "\n",
              "           logged_in  num_compromised  ...  dst_host_count  \\\n",
              "count  494021.000000    494021.000000  ...   494021.000000   \n",
              "mean        0.148247         0.010212  ...      232.470778   \n",
              "std         0.355345         1.798326  ...       64.745380   \n",
              "min         0.000000         0.000000  ...        0.000000   \n",
              "25%         0.000000         0.000000  ...      255.000000   \n",
              "50%         0.000000         0.000000  ...      255.000000   \n",
              "75%         0.000000         0.000000  ...      255.000000   \n",
              "max         1.000000       884.000000  ...      255.000000   \n",
              "\n",
              "       dst_host_srv_count  dst_host_same_srv_rate  dst_host_diff_srv_rate  \\\n",
              "count       494021.000000           494021.000000           494021.000000   \n",
              "mean           188.665670                0.753780                0.030906   \n",
              "std            106.040437                0.410781                0.109259   \n",
              "min              0.000000                0.000000                0.000000   \n",
              "25%             46.000000                0.410000                0.000000   \n",
              "50%            255.000000                1.000000                0.000000   \n",
              "75%            255.000000                1.000000                0.040000   \n",
              "max            255.000000                1.000000                1.000000   \n",
              "\n",
              "       dst_host_same_src_port_rate  dst_host_srv_diff_host_rate  \\\n",
              "count                494021.000000                494021.000000   \n",
              "mean                      0.601935                     0.006684   \n",
              "std                       0.481309                     0.042133   \n",
              "min                       0.000000                     0.000000   \n",
              "25%                       0.000000                     0.000000   \n",
              "50%                       1.000000                     0.000000   \n",
              "75%                       1.000000                     0.000000   \n",
              "max                       1.000000                     1.000000   \n",
              "\n",
              "       dst_host_serror_rate  dst_host_srv_serror_rate  dst_host_rerror_rate  \\\n",
              "count         494021.000000             494021.000000         494021.000000   \n",
              "mean               0.176754                  0.176443              0.058118   \n",
              "std                0.380593                  0.380919              0.230590   \n",
              "min                0.000000                  0.000000              0.000000   \n",
              "25%                0.000000                  0.000000              0.000000   \n",
              "50%                0.000000                  0.000000              0.000000   \n",
              "75%                0.000000                  0.000000              0.000000   \n",
              "max                1.000000                  1.000000              1.000000   \n",
              "\n",
              "       dst_host_srv_rerror_rate  \n",
              "count             494021.000000  \n",
              "mean                   0.057412  \n",
              "std                    0.230140  \n",
              "min                    0.000000  \n",
              "25%                    0.000000  \n",
              "50%                    0.000000  \n",
              "75%                    0.000000  \n",
              "max                    1.000000  \n",
              "\n",
              "[8 rows x 38 columns]"
            ]
          },
          "execution_count": 96,
          "metadata": {},
          "output_type": "execute_result"
        }
      ],
      "source": [
        "#read the file containing train data\n",
        "col_names = [\"duration\",\"protocol_type\",\"service\",\"flag\",\"src_bytes\",\n",
        "    \"dst_bytes\",\"land\",\"wrong_fragment\",\"urgent\",\"hot\",\"num_failed_logins\",\n",
        "    \"logged_in\",\"num_compromised\",\"root_shell\",\"su_attempted\",\"num_root\",\n",
        "    \"num_file_creations\",\"num_shells\",\"num_access_files\",\"num_outbound_cmds\",\n",
        "    \"is_host_login\",\"is_guest_login\",\"count\",\"srv_count\",\"serror_rate\",\n",
        "    \"srv_serror_rate\",\"rerror_rate\",\"srv_rerror_rate\",\"same_srv_rate\",\n",
        "    \"diff_srv_rate\",\"srv_diff_host_rate\",\"dst_host_count\",\"dst_host_srv_count\",\n",
        "    \"dst_host_same_srv_rate\",\"dst_host_diff_srv_rate\",\"dst_host_same_src_port_rate\",\n",
        "    \"dst_host_srv_diff_host_rate\",\"dst_host_serror_rate\",\"dst_host_srv_serror_rate\",\n",
        "    \"dst_host_rerror_rate\",\"dst_host_srv_rerror_rate\",\"label\"]\n",
        "train = pd.read_csv(\"/content/drive/MyDrive/PR/assignment2/kddcup.data_10_percent.gz\", compression='gzip', header=None, names = col_names)\n",
        "train.describe()"
      ]
    },
    {
      "cell_type": "code",
      "execution_count": null,
      "metadata": {
        "colab": {
          "base_uri": "https://localhost:8080/",
          "height": 393
        },
        "id": "El7YRg_mMw2r",
        "outputId": "913b07ec-ee0a-4092-9206-810bc19bbb8d"
      },
      "outputs": [
        {
          "data": {
            "text/html": [
              "\n",
              "  <div id=\"df-ad0e8356-cb2f-410b-aedf-64b5e78d2edd\">\n",
              "    <div class=\"colab-df-container\">\n",
              "      <div>\n",
              "<style scoped>\n",
              "    .dataframe tbody tr th:only-of-type {\n",
              "        vertical-align: middle;\n",
              "    }\n",
              "\n",
              "    .dataframe tbody tr th {\n",
              "        vertical-align: top;\n",
              "    }\n",
              "\n",
              "    .dataframe thead th {\n",
              "        text-align: right;\n",
              "    }\n",
              "</style>\n",
              "<table border=\"1\" class=\"dataframe\">\n",
              "  <thead>\n",
              "    <tr style=\"text-align: right;\">\n",
              "      <th></th>\n",
              "      <th>duration</th>\n",
              "      <th>src_bytes</th>\n",
              "      <th>dst_bytes</th>\n",
              "      <th>land</th>\n",
              "      <th>wrong_fragment</th>\n",
              "      <th>urgent</th>\n",
              "      <th>hot</th>\n",
              "      <th>num_failed_logins</th>\n",
              "      <th>logged_in</th>\n",
              "      <th>num_compromised</th>\n",
              "      <th>...</th>\n",
              "      <th>dst_host_count</th>\n",
              "      <th>dst_host_srv_count</th>\n",
              "      <th>dst_host_same_srv_rate</th>\n",
              "      <th>dst_host_diff_srv_rate</th>\n",
              "      <th>dst_host_same_src_port_rate</th>\n",
              "      <th>dst_host_srv_diff_host_rate</th>\n",
              "      <th>dst_host_serror_rate</th>\n",
              "      <th>dst_host_srv_serror_rate</th>\n",
              "      <th>dst_host_rerror_rate</th>\n",
              "      <th>dst_host_srv_rerror_rate</th>\n",
              "    </tr>\n",
              "  </thead>\n",
              "  <tbody>\n",
              "    <tr>\n",
              "      <th>count</th>\n",
              "      <td>311029.000000</td>\n",
              "      <td>3.110290e+05</td>\n",
              "      <td>3.110290e+05</td>\n",
              "      <td>311029.000000</td>\n",
              "      <td>311029.000000</td>\n",
              "      <td>311029.000000</td>\n",
              "      <td>311029.000000</td>\n",
              "      <td>311029.000000</td>\n",
              "      <td>311029.000000</td>\n",
              "      <td>311029.000000</td>\n",
              "      <td>...</td>\n",
              "      <td>311029.000000</td>\n",
              "      <td>311029.000000</td>\n",
              "      <td>311029.000000</td>\n",
              "      <td>311029.000000</td>\n",
              "      <td>311029.000000</td>\n",
              "      <td>311029.000000</td>\n",
              "      <td>311029.000000</td>\n",
              "      <td>311029.000000</td>\n",
              "      <td>311029.000000</td>\n",
              "      <td>311029.000000</td>\n",
              "    </tr>\n",
              "    <tr>\n",
              "      <th>mean</th>\n",
              "      <td>17.902736</td>\n",
              "      <td>1.731702e+03</td>\n",
              "      <td>7.479937e+02</td>\n",
              "      <td>0.000029</td>\n",
              "      <td>0.000762</td>\n",
              "      <td>0.000051</td>\n",
              "      <td>0.014677</td>\n",
              "      <td>0.002363</td>\n",
              "      <td>0.172476</td>\n",
              "      <td>0.011243</td>\n",
              "      <td>...</td>\n",
              "      <td>235.282681</td>\n",
              "      <td>199.193914</td>\n",
              "      <td>0.793494</td>\n",
              "      <td>0.024953</td>\n",
              "      <td>0.547919</td>\n",
              "      <td>0.004566</td>\n",
              "      <td>0.058764</td>\n",
              "      <td>0.058791</td>\n",
              "      <td>0.142659</td>\n",
              "      <td>0.141693</td>\n",
              "    </tr>\n",
              "    <tr>\n",
              "      <th>std</th>\n",
              "      <td>407.644400</td>\n",
              "      <td>1.276567e+05</td>\n",
              "      <td>1.612018e+04</td>\n",
              "      <td>0.005379</td>\n",
              "      <td>0.040367</td>\n",
              "      <td>0.009821</td>\n",
              "      <td>0.312068</td>\n",
              "      <td>0.049990</td>\n",
              "      <td>0.377794</td>\n",
              "      <td>1.958325</td>\n",
              "      <td>...</td>\n",
              "      <td>60.913298</td>\n",
              "      <td>100.306470</td>\n",
              "      <td>0.387090</td>\n",
              "      <td>0.096003</td>\n",
              "      <td>0.491963</td>\n",
              "      <td>0.035773</td>\n",
              "      <td>0.231296</td>\n",
              "      <td>0.232997</td>\n",
              "      <td>0.344380</td>\n",
              "      <td>0.346573</td>\n",
              "    </tr>\n",
              "    <tr>\n",
              "      <th>min</th>\n",
              "      <td>0.000000</td>\n",
              "      <td>0.000000e+00</td>\n",
              "      <td>0.000000e+00</td>\n",
              "      <td>0.000000</td>\n",
              "      <td>0.000000</td>\n",
              "      <td>0.000000</td>\n",
              "      <td>0.000000</td>\n",
              "      <td>0.000000</td>\n",
              "      <td>0.000000</td>\n",
              "      <td>0.000000</td>\n",
              "      <td>...</td>\n",
              "      <td>0.000000</td>\n",
              "      <td>0.000000</td>\n",
              "      <td>0.000000</td>\n",
              "      <td>0.000000</td>\n",
              "      <td>0.000000</td>\n",
              "      <td>0.000000</td>\n",
              "      <td>0.000000</td>\n",
              "      <td>0.000000</td>\n",
              "      <td>0.000000</td>\n",
              "      <td>0.000000</td>\n",
              "    </tr>\n",
              "    <tr>\n",
              "      <th>25%</th>\n",
              "      <td>0.000000</td>\n",
              "      <td>1.050000e+02</td>\n",
              "      <td>0.000000e+00</td>\n",
              "      <td>0.000000</td>\n",
              "      <td>0.000000</td>\n",
              "      <td>0.000000</td>\n",
              "      <td>0.000000</td>\n",
              "      <td>0.000000</td>\n",
              "      <td>0.000000</td>\n",
              "      <td>0.000000</td>\n",
              "      <td>...</td>\n",
              "      <td>255.000000</td>\n",
              "      <td>244.000000</td>\n",
              "      <td>0.970000</td>\n",
              "      <td>0.000000</td>\n",
              "      <td>0.000000</td>\n",
              "      <td>0.000000</td>\n",
              "      <td>0.000000</td>\n",
              "      <td>0.000000</td>\n",
              "      <td>0.000000</td>\n",
              "      <td>0.000000</td>\n",
              "    </tr>\n",
              "    <tr>\n",
              "      <th>50%</th>\n",
              "      <td>0.000000</td>\n",
              "      <td>5.200000e+02</td>\n",
              "      <td>0.000000e+00</td>\n",
              "      <td>0.000000</td>\n",
              "      <td>0.000000</td>\n",
              "      <td>0.000000</td>\n",
              "      <td>0.000000</td>\n",
              "      <td>0.000000</td>\n",
              "      <td>0.000000</td>\n",
              "      <td>0.000000</td>\n",
              "      <td>...</td>\n",
              "      <td>255.000000</td>\n",
              "      <td>255.000000</td>\n",
              "      <td>1.000000</td>\n",
              "      <td>0.000000</td>\n",
              "      <td>1.000000</td>\n",
              "      <td>0.000000</td>\n",
              "      <td>0.000000</td>\n",
              "      <td>0.000000</td>\n",
              "      <td>0.000000</td>\n",
              "      <td>0.000000</td>\n",
              "    </tr>\n",
              "    <tr>\n",
              "      <th>75%</th>\n",
              "      <td>0.000000</td>\n",
              "      <td>1.032000e+03</td>\n",
              "      <td>0.000000e+00</td>\n",
              "      <td>0.000000</td>\n",
              "      <td>0.000000</td>\n",
              "      <td>0.000000</td>\n",
              "      <td>0.000000</td>\n",
              "      <td>0.000000</td>\n",
              "      <td>0.000000</td>\n",
              "      <td>0.000000</td>\n",
              "      <td>...</td>\n",
              "      <td>255.000000</td>\n",
              "      <td>255.000000</td>\n",
              "      <td>1.000000</td>\n",
              "      <td>0.010000</td>\n",
              "      <td>1.000000</td>\n",
              "      <td>0.000000</td>\n",
              "      <td>0.000000</td>\n",
              "      <td>0.000000</td>\n",
              "      <td>0.000000</td>\n",
              "      <td>0.000000</td>\n",
              "    </tr>\n",
              "    <tr>\n",
              "      <th>max</th>\n",
              "      <td>57715.000000</td>\n",
              "      <td>6.282565e+07</td>\n",
              "      <td>5.203179e+06</td>\n",
              "      <td>1.000000</td>\n",
              "      <td>3.000000</td>\n",
              "      <td>3.000000</td>\n",
              "      <td>101.000000</td>\n",
              "      <td>4.000000</td>\n",
              "      <td>1.000000</td>\n",
              "      <td>796.000000</td>\n",
              "      <td>...</td>\n",
              "      <td>255.000000</td>\n",
              "      <td>255.000000</td>\n",
              "      <td>1.000000</td>\n",
              "      <td>1.000000</td>\n",
              "      <td>1.000000</td>\n",
              "      <td>1.000000</td>\n",
              "      <td>1.000000</td>\n",
              "      <td>1.000000</td>\n",
              "      <td>1.000000</td>\n",
              "      <td>1.000000</td>\n",
              "    </tr>\n",
              "  </tbody>\n",
              "</table>\n",
              "<p>8 rows × 38 columns</p>\n",
              "</div>\n",
              "      <button class=\"colab-df-convert\" onclick=\"convertToInteractive('df-ad0e8356-cb2f-410b-aedf-64b5e78d2edd')\"\n",
              "              title=\"Convert this dataframe to an interactive table.\"\n",
              "              style=\"display:none;\">\n",
              "        \n",
              "  <svg xmlns=\"http://www.w3.org/2000/svg\" height=\"24px\"viewBox=\"0 0 24 24\"\n",
              "       width=\"24px\">\n",
              "    <path d=\"M0 0h24v24H0V0z\" fill=\"none\"/>\n",
              "    <path d=\"M18.56 5.44l.94 2.06.94-2.06 2.06-.94-2.06-.94-.94-2.06-.94 2.06-2.06.94zm-11 1L8.5 8.5l.94-2.06 2.06-.94-2.06-.94L8.5 2.5l-.94 2.06-2.06.94zm10 10l.94 2.06.94-2.06 2.06-.94-2.06-.94-.94-2.06-.94 2.06-2.06.94z\"/><path d=\"M17.41 7.96l-1.37-1.37c-.4-.4-.92-.59-1.43-.59-.52 0-1.04.2-1.43.59L10.3 9.45l-7.72 7.72c-.78.78-.78 2.05 0 2.83L4 21.41c.39.39.9.59 1.41.59.51 0 1.02-.2 1.41-.59l7.78-7.78 2.81-2.81c.8-.78.8-2.07 0-2.86zM5.41 20L4 18.59l7.72-7.72 1.47 1.35L5.41 20z\"/>\n",
              "  </svg>\n",
              "      </button>\n",
              "      \n",
              "  <style>\n",
              "    .colab-df-container {\n",
              "      display:flex;\n",
              "      flex-wrap:wrap;\n",
              "      gap: 12px;\n",
              "    }\n",
              "\n",
              "    .colab-df-convert {\n",
              "      background-color: #E8F0FE;\n",
              "      border: none;\n",
              "      border-radius: 50%;\n",
              "      cursor: pointer;\n",
              "      display: none;\n",
              "      fill: #1967D2;\n",
              "      height: 32px;\n",
              "      padding: 0 0 0 0;\n",
              "      width: 32px;\n",
              "    }\n",
              "\n",
              "    .colab-df-convert:hover {\n",
              "      background-color: #E2EBFA;\n",
              "      box-shadow: 0px 1px 2px rgba(60, 64, 67, 0.3), 0px 1px 3px 1px rgba(60, 64, 67, 0.15);\n",
              "      fill: #174EA6;\n",
              "    }\n",
              "\n",
              "    [theme=dark] .colab-df-convert {\n",
              "      background-color: #3B4455;\n",
              "      fill: #D2E3FC;\n",
              "    }\n",
              "\n",
              "    [theme=dark] .colab-df-convert:hover {\n",
              "      background-color: #434B5C;\n",
              "      box-shadow: 0px 1px 3px 1px rgba(0, 0, 0, 0.15);\n",
              "      filter: drop-shadow(0px 1px 2px rgba(0, 0, 0, 0.3));\n",
              "      fill: #FFFFFF;\n",
              "    }\n",
              "  </style>\n",
              "\n",
              "      <script>\n",
              "        const buttonEl =\n",
              "          document.querySelector('#df-ad0e8356-cb2f-410b-aedf-64b5e78d2edd button.colab-df-convert');\n",
              "        buttonEl.style.display =\n",
              "          google.colab.kernel.accessAllowed ? 'block' : 'none';\n",
              "\n",
              "        async function convertToInteractive(key) {\n",
              "          const element = document.querySelector('#df-ad0e8356-cb2f-410b-aedf-64b5e78d2edd');\n",
              "          const dataTable =\n",
              "            await google.colab.kernel.invokeFunction('convertToInteractive',\n",
              "                                                     [key], {});\n",
              "          if (!dataTable) return;\n",
              "\n",
              "          const docLinkHtml = 'Like what you see? Visit the ' +\n",
              "            '<a target=\"_blank\" href=https://colab.research.google.com/notebooks/data_table.ipynb>data table notebook</a>'\n",
              "            + ' to learn more about interactive tables.';\n",
              "          element.innerHTML = '';\n",
              "          dataTable['output_type'] = 'display_data';\n",
              "          await google.colab.output.renderOutput(dataTable, element);\n",
              "          const docLink = document.createElement('div');\n",
              "          docLink.innerHTML = docLinkHtml;\n",
              "          element.appendChild(docLink);\n",
              "        }\n",
              "      </script>\n",
              "    </div>\n",
              "  </div>\n",
              "  "
            ],
            "text/plain": [
              "            duration     src_bytes     dst_bytes           land  \\\n",
              "count  311029.000000  3.110290e+05  3.110290e+05  311029.000000   \n",
              "mean       17.902736  1.731702e+03  7.479937e+02       0.000029   \n",
              "std       407.644400  1.276567e+05  1.612018e+04       0.005379   \n",
              "min         0.000000  0.000000e+00  0.000000e+00       0.000000   \n",
              "25%         0.000000  1.050000e+02  0.000000e+00       0.000000   \n",
              "50%         0.000000  5.200000e+02  0.000000e+00       0.000000   \n",
              "75%         0.000000  1.032000e+03  0.000000e+00       0.000000   \n",
              "max     57715.000000  6.282565e+07  5.203179e+06       1.000000   \n",
              "\n",
              "       wrong_fragment         urgent            hot  num_failed_logins  \\\n",
              "count   311029.000000  311029.000000  311029.000000      311029.000000   \n",
              "mean         0.000762       0.000051       0.014677           0.002363   \n",
              "std          0.040367       0.009821       0.312068           0.049990   \n",
              "min          0.000000       0.000000       0.000000           0.000000   \n",
              "25%          0.000000       0.000000       0.000000           0.000000   \n",
              "50%          0.000000       0.000000       0.000000           0.000000   \n",
              "75%          0.000000       0.000000       0.000000           0.000000   \n",
              "max          3.000000       3.000000     101.000000           4.000000   \n",
              "\n",
              "           logged_in  num_compromised  ...  dst_host_count  \\\n",
              "count  311029.000000    311029.000000  ...   311029.000000   \n",
              "mean        0.172476         0.011243  ...      235.282681   \n",
              "std         0.377794         1.958325  ...       60.913298   \n",
              "min         0.000000         0.000000  ...        0.000000   \n",
              "25%         0.000000         0.000000  ...      255.000000   \n",
              "50%         0.000000         0.000000  ...      255.000000   \n",
              "75%         0.000000         0.000000  ...      255.000000   \n",
              "max         1.000000       796.000000  ...      255.000000   \n",
              "\n",
              "       dst_host_srv_count  dst_host_same_srv_rate  dst_host_diff_srv_rate  \\\n",
              "count       311029.000000           311029.000000           311029.000000   \n",
              "mean           199.193914                0.793494                0.024953   \n",
              "std            100.306470                0.387090                0.096003   \n",
              "min              0.000000                0.000000                0.000000   \n",
              "25%            244.000000                0.970000                0.000000   \n",
              "50%            255.000000                1.000000                0.000000   \n",
              "75%            255.000000                1.000000                0.010000   \n",
              "max            255.000000                1.000000                1.000000   \n",
              "\n",
              "       dst_host_same_src_port_rate  dst_host_srv_diff_host_rate  \\\n",
              "count                311029.000000                311029.000000   \n",
              "mean                      0.547919                     0.004566   \n",
              "std                       0.491963                     0.035773   \n",
              "min                       0.000000                     0.000000   \n",
              "25%                       0.000000                     0.000000   \n",
              "50%                       1.000000                     0.000000   \n",
              "75%                       1.000000                     0.000000   \n",
              "max                       1.000000                     1.000000   \n",
              "\n",
              "       dst_host_serror_rate  dst_host_srv_serror_rate  dst_host_rerror_rate  \\\n",
              "count         311029.000000             311029.000000         311029.000000   \n",
              "mean               0.058764                  0.058791              0.142659   \n",
              "std                0.231296                  0.232997              0.344380   \n",
              "min                0.000000                  0.000000              0.000000   \n",
              "25%                0.000000                  0.000000              0.000000   \n",
              "50%                0.000000                  0.000000              0.000000   \n",
              "75%                0.000000                  0.000000              0.000000   \n",
              "max                1.000000                  1.000000              1.000000   \n",
              "\n",
              "       dst_host_srv_rerror_rate  \n",
              "count             311029.000000  \n",
              "mean                   0.141693  \n",
              "std                    0.346573  \n",
              "min                    0.000000  \n",
              "25%                    0.000000  \n",
              "50%                    0.000000  \n",
              "75%                    0.000000  \n",
              "max                    1.000000  \n",
              "\n",
              "[8 rows x 38 columns]"
            ]
          },
          "execution_count": 97,
          "metadata": {},
          "output_type": "execute_result"
        }
      ],
      "source": [
        "#read the file containing test data\n",
        "test = pd.read_csv(\"/content/drive/MyDrive/PR/assignment2/corrected.gz\", compression='gzip', header=None, names = col_names)\n",
        "test.describe()"
      ]
    },
    {
      "cell_type": "code",
      "execution_count": null,
      "metadata": {
        "colab": {
          "base_uri": "https://localhost:8080/"
        },
        "id": "Ti6qLVaer0rK",
        "outputId": "a43b87f2-6edc-44e3-85de-c7fcc040d864"
      },
      "outputs": [
        {
          "name": "stdout",
          "output_type": "stream",
          "text": [
            "duration                                  23\n",
            "protocol_type                            tcp\n",
            "service                               telnet\n",
            "flag                                      SF\n",
            "src_bytes                                104\n",
            "dst_bytes                                276\n",
            "land                                       0\n",
            "wrong_fragment                             0\n",
            "urgent                                     0\n",
            "hot                                        0\n",
            "num_failed_logins                          5\n",
            "logged_in                                  0\n",
            "num_compromised                            0\n",
            "root_shell                                 0\n",
            "su_attempted                               0\n",
            "num_root                                   0\n",
            "num_file_creations                         0\n",
            "num_shells                                 0\n",
            "num_access_files                           0\n",
            "num_outbound_cmds                          0\n",
            "is_host_login                              0\n",
            "is_guest_login                             0\n",
            "count                                      1\n",
            "srv_count                                  1\n",
            "serror_rate                              0.0\n",
            "srv_serror_rate                          0.0\n",
            "rerror_rate                              0.0\n",
            "srv_rerror_rate                          0.0\n",
            "same_srv_rate                            1.0\n",
            "diff_srv_rate                            0.0\n",
            "srv_diff_host_rate                       0.0\n",
            "dst_host_count                             1\n",
            "dst_host_srv_count                         2\n",
            "dst_host_same_srv_rate                   1.0\n",
            "dst_host_diff_srv_rate                   0.0\n",
            "dst_host_same_src_port_rate              1.0\n",
            "dst_host_srv_diff_host_rate              1.0\n",
            "dst_host_serror_rate                     0.0\n",
            "dst_host_srv_serror_rate                 0.0\n",
            "dst_host_rerror_rate                     0.0\n",
            "dst_host_srv_rerror_rate                 0.0\n",
            "label                          guess_passwd.\n",
            "Name: 15699, dtype: object\n"
          ]
        }
      ],
      "source": [
        "print(train.iloc[15699])\n",
        "\n",
        "# select_color = train.loc[train['label'] == 'guess_passwd.']\n",
        "# print (select_color)"
      ]
    },
    {
      "cell_type": "code",
      "execution_count": null,
      "metadata": {
        "id": "JQCv7WadscU4"
      },
      "outputs": [],
      "source": [
        "#preprocessing data for training and testing datasets\n",
        "\n",
        "#create lists of the service, flag, label columns from both trainging and testing datasets\n",
        "#then assign a unique integer value to each item in these lists using numpy's zeros function\n",
        "services=pd.concat([test['service'],train['service']]).unique()\n",
        "services_num=np.zeros(len(services))\n",
        "for i in range (len(services)):\n",
        "  services_num[i]=i\n",
        "\n",
        "flags=pd.concat([test['flag'],train['flag']]).unique()\n",
        "flags_num=np.zeros(len(flags))\n",
        "\n",
        "for i in range(len(flags)):\n",
        "  flags_num[i]=i\n",
        "\n",
        "labels=pd.concat([test['label'],train['label']]).unique()\n",
        "labels_num=np.zeros(len(labels))\n",
        "for i in range (len(labels)):\n",
        "  labels_num[i]=i\n",
        "\n",
        "#replace the string values in the \"protocol_type\", \"service\", \"flag\", and \"label\" columns \n",
        "#of both the training and testing datasets with their corresponding integer values\n",
        "train['protocol_type'].replace(['tcp', 'udp','icmp'],\n",
        "                        [0, 1,2], inplace=True)\n",
        "\n",
        "\n",
        "train['service'].replace(services,services_num, inplace=True)\n",
        "\n",
        "train['flag'].replace(flags,flags_num, inplace=True)\n",
        "\n",
        "train['label'].replace(labels,\n",
        "                        labels_num, inplace=True)\n",
        "\n",
        "test['protocol_type'].replace(['tcp', 'udp','icmp'],\n",
        "                        [0, 1,2], inplace=True)\n",
        "\n",
        "\n",
        "test['service'].replace(services,services_num, inplace=True)\n",
        "\n",
        "test['flag'].replace(flags,flags_num, inplace=True)\n",
        "\n",
        "test['label'].replace(labels,\n",
        "                        labels_num, inplace=True)"
      ]
    },
    {
      "cell_type": "code",
      "execution_count": null,
      "metadata": {
        "id": "90Xqu2T-M62w"
      },
      "outputs": [],
      "source": [
        "#print(train)"
      ]
    },
    {
      "cell_type": "markdown",
      "metadata": {
        "id": "ZEFbdQWxPUB0"
      },
      "source": [
        "# Clustering using Kmeans and Normalized Cut"
      ]
    },
    {
      "cell_type": "code",
      "execution_count": null,
      "metadata": {
        "colab": {
          "base_uri": "https://localhost:8080/"
        },
        "id": "kQg8GVPy7psD",
        "outputId": "444af093-3b4d-4925-bc2c-ed9965188e86"
      },
      "outputs": [
        {
          "name": "stdout",
          "output_type": "stream",
          "text": [
            "(494021, 42)\n"
          ]
        }
      ],
      "source": [
        "print(train.shape)"
      ]
    },
    {
      "cell_type": "code",
      "execution_count": null,
      "metadata": {
        "id": "KHHltMhkFHru"
      },
      "outputs": [],
      "source": [
        "#shuffle the rows of train DataFrame randomly by calling the sample function with frac=1\n",
        "#avoid any order or bias in the training data\n",
        "train = train.sample(frac=1).reset_index()\n",
        "#remove first column of the shuffled train dataframe (old index column)\n",
        "train=train.iloc[0:12500,1:]"
      ]
    },
    {
      "cell_type": "code",
      "execution_count": null,
      "metadata": {
        "colab": {
          "base_uri": "https://localhost:8080/"
        },
        "id": "R9U95XExHZz_",
        "outputId": "f324d034-080e-4d08-8f53-8b14b0a6f59a"
      },
      "outputs": [
        {
          "name": "stdout",
          "output_type": "stream",
          "text": [
            "(12500, 42)\n"
          ]
        }
      ],
      "source": [
        "print(train.shape)"
      ]
    },
    {
      "cell_type": "code",
      "execution_count": null,
      "metadata": {
        "id": "e-efOx7dyGj_"
      },
      "outputs": [],
      "source": [
        "def kmeans(train, k, max_iters=100, num_restarts=5):\n",
        "  # tot: number of total samples in train dataset\n",
        "  # feat: number of features or columns in train dataset\n",
        "    tot,feat=train.shape\n",
        "    tot=tot+1\n",
        "  # print shape of input training set\n",
        "    print(train.shape)\n",
        "\n",
        "    best_centroids = None\n",
        "    best_clusters=None\n",
        "    best_conf=None\n",
        "    best_loss = float('inf')\n",
        "\n",
        "    for i in range(num_restarts):\n",
        "      # Initialize centroids as a k x feat matrix of zeros\n",
        "        centroids = np.zeros((k, feat))\n",
        "      # Initialize a confusion matrix as a (tot+1) x 2 matrix of zeros\n",
        "        conf = np.zeros((tot, 2))\n",
        "      # For each centroid, choose a random sample from the training set\n",
        "        for j in range(k):\n",
        "            centroids[j] = train.sample().values\n",
        "      # Run k-means algorithm for a maximum of max_iters iterations\n",
        "        for _ in range(max_iters):\n",
        "        # Initialize an empty list of clusters\n",
        "            clusters = [[] for _ in range(k)]\n",
        "        # find the closest centroid and assign it to the corresponding cluster\n",
        "            for sample_idx, sample in train.iterrows():\n",
        "                centroid_idx = np.argmin([np.sqrt(np.sum((sample[0:-1] - centroid[0:-1])**2))  for centroid in centroids])\n",
        "                clusters[centroid_idx].append(sample_idx)\n",
        "            # Update the confusion matrix with the assigned centroid index and the actual label\n",
        "                conf[sample_idx,0]=centroid_idx\n",
        "                conf[sample_idx,1]=sample['label']\n",
        "            \n",
        "            oldc=centroids\n",
        "        # Compute the new centroid by taking the mean of the samples in the cluster\n",
        "            for m, cluster in enumerate(clusters):\n",
        "                if cluster:\n",
        "                    centroids[m] = train.loc[cluster].mean().values\n",
        "        # Check if the new centroids are close enough to the old centroids\n",
        "            if np.allclose(oldc, centroids, atol=0.1):\n",
        "                break\n",
        "\n",
        "\n",
        "        # Calculate the total sum of squared distances between each sample and its assigned centroid\n",
        "        loss = sum(sum([np.sum((train.loc[cluster] - centroids[j])**2) for j, cluster in enumerate(clusters)]))\n",
        "        print(loss)\n",
        "        print(best_loss)\n",
        "        print(centroids[0])\n",
        "        print(oldc[0])\n",
        "        if loss < best_loss:\n",
        "            best_loss = loss\n",
        "            best_centroids = centroids\n",
        "            best_clusters=clusters\n",
        "            best_conf=conf\n",
        "\n",
        "    return best_centroids, best_clusters, best_conf\n"
      ]
    },
    {
      "cell_type": "code",
      "execution_count": null,
      "metadata": {
        "id": "zdCBcjCWq0S6"
      },
      "outputs": [],
      "source": [
        "def makeconftrain(clusters,confusion,centroids,k):\n",
        "    # creates a matrix of zeros with k rows (one for each cluster) and 40 columns (one for each class in the dataset)\n",
        "  matching=np.zeros((k,40))\n",
        "    # iterates over each cluster in the clusters list, and assigns a unique index i to each cluster\n",
        "  for i, cluster in enumerate(clusters):  \n",
        "        # iterates over each sample in the current cluster\n",
        "    for sample in cluster:\n",
        "            # increments the count for the class of the current sample in the matching matrix, for the current cluster\n",
        "      matching[i,int(confusion[sample,1])]=matching[i,int(confusion[sample,1])]+1\n",
        "  # creates an array of -1 values with length k, which will be used to store the predicted labels for each cluster\n",
        "  cllabel=np.ones(k)*-1\n",
        "    #iterates over each cluster, and assigns the index i to each one\n",
        "  for i, cluster in enumerate(clusters):  \n",
        "     # set the last element of ith row of centroids matrix to the index of the highest count class in the matching matrix for the ith cluster.\n",
        "    centroids[i,-1]=np.argmax(matching[i,:])\n",
        "      # sets the ith element of cllabel to the index of the highest count class in the matching matrix for the ith cluster.\n",
        "    cllabel[i]=np.argmax(matching[i,:])\n",
        "      # creates a 40x40 matrix of zeros, which will be used to store the confusion matrix for the training set\n",
        "  trainconfusion=np.zeros((40,40))\n",
        "  for sample in confusion:\n",
        "    # increments the count in the confusion matrix for the true label of the sample and the predicted label of the sample \n",
        "    # by using the true label as the row index and the predicted label as the column index of the trainconfusion matrix\n",
        "    trainconfusion[int(sample[1]),int(cllabel[int(sample[0])])]=trainconfusion[int(sample[1]),int(cllabel[int(sample[0])])]+1\n",
        "  return trainconfusion,cllabel"
      ]
    },
    {
      "cell_type": "code",
      "execution_count": null,
      "metadata": {
        "id": "1SpP7pVqf9i4"
      },
      "outputs": [],
      "source": [
        "test = test.sample(frac=1).reset_index()\n",
        "test=test.iloc[0:10000,1:]"
      ]
    },
    {
      "cell_type": "code",
      "execution_count": null,
      "metadata": {
        "id": "mIn4yqBmf_QC"
      },
      "outputs": [],
      "source": [
        "#  initializes an array of zeros named testconf with dimensions equal to the number of samples in the test DataFrame and two columns. \n",
        "#  initializes a list of empty lists named clusters with dimensions equal to the number of centroids in the centroids numpy array\n",
        "\n",
        "def predict(test, centroids):\n",
        "  tot,feat=test.shape\n",
        "  testconf=np.zeros((tot,2))\n",
        "  clusters = [[] for _ in range(centroids.shape[0])]\n",
        "  # iterates through each sample in the test DataFrame and determines the index of the nearest centroid using the Euclidean distance formula\n",
        "  # The index of the nearest centroid is then used to append the sample index to the corresponding list in the clusters list\n",
        "  # testconf array is updated with the index of the nearest centroid and the label of the sample.\n",
        "  for sample_idx, sample in test.iterrows():\n",
        "    centroid_idx = np.argmin([np.sqrt(np.sum((sample[0:-1] - centroid[0:-1])**2))  for centroid in centroids])\n",
        "    clusters[centroid_idx].append(sample_idx)\n",
        "    testconf[sample_idx][0]=centroid_idx\n",
        "    testconf[sample_idx][1]=sample['label']\n",
        "  return clusters,testconf"
      ]
    },
    {
      "cell_type": "code",
      "execution_count": null,
      "metadata": {
        "id": "XLVS8g50gB7u"
      },
      "outputs": [],
      "source": [
        "# creates an empty testconfusion matrix of size (40, 40) and fills it with counts of how many test samples belong to \n",
        "# each cluster and each true class. Finally, the function returns testconfusion\n",
        "# testconfusion  is used to compute the accuracy of the test set predictions. The accuracy is computed as the trace of the testconfusion matrix\n",
        "# divided by the total number of test samples. The result is printed to the console.\n",
        "def makeconftest(clusters,testconf,cllabel):\n",
        "  testconfusion=np.zeros((40,40))\n",
        "  for sample in testconf:\n",
        "    testconfusion[int(sample[1]),int(cllabel[int(sample[0])])]=testconfusion[int(sample[1]),int(cllabel[int(sample[0])])]+1\n",
        "  return testconfusion\n"
      ]
    },
    {
      "cell_type": "markdown",
      "metadata": {
        "id": "cHBBYEhiAm0g"
      },
      "source": [
        "K = 7"
      ]
    },
    {
      "cell_type": "code",
      "execution_count": null,
      "metadata": {
        "colab": {
          "base_uri": "https://localhost:8080/"
        },
        "id": "VfTKobKGAm0p",
        "outputId": "48f01229-b601-47b8-ccea-d31eb19e0780"
      },
      "outputs": [
        {
          "name": "stdout",
          "output_type": "stream",
          "text": [
            "(12500, 42)\n",
            "59585392934129.58\n",
            "inf\n",
            "[1.73710753e+00 1.90076460e+00 8.70440865e+00 3.25361965e-04\n",
            " 3.67105434e+03 8.30304213e+01 0.00000000e+00 4.88042948e-04\n",
            " 0.00000000e+00 1.80575891e-02 0.00000000e+00 4.79908899e-02\n",
            " 8.45941109e-03 0.00000000e+00 0.00000000e+00 1.62680983e-04\n",
            " 1.62680983e-04 3.25361965e-04 3.25361965e-04 0.00000000e+00\n",
            " 0.00000000e+00 0.00000000e+00 4.84715796e+02 4.84735969e+02\n",
            " 5.36847243e-05 5.36847243e-05 7.36944851e-04 1.14202050e-03\n",
            " 9.99455019e-01 7.85749146e-04 1.47470311e-02 2.48998699e+02\n",
            " 2.48765414e+02 9.81732552e-01 2.91198959e-03 9.54450952e-01\n",
            " 6.00292826e-04 2.06604848e-04 6.18187734e-05 1.22824142e-03\n",
            " 6.71872458e-04 4.07922564e+00]\n",
            "[1.73710753e+00 1.90076460e+00 8.70440865e+00 3.25361965e-04\n",
            " 3.67105434e+03 8.30304213e+01 0.00000000e+00 4.88042948e-04\n",
            " 0.00000000e+00 1.80575891e-02 0.00000000e+00 4.79908899e-02\n",
            " 8.45941109e-03 0.00000000e+00 0.00000000e+00 1.62680983e-04\n",
            " 1.62680983e-04 3.25361965e-04 3.25361965e-04 0.00000000e+00\n",
            " 0.00000000e+00 0.00000000e+00 4.84715796e+02 4.84735969e+02\n",
            " 5.36847243e-05 5.36847243e-05 7.36944851e-04 1.14202050e-03\n",
            " 9.99455019e-01 7.85749146e-04 1.47470311e-02 2.48998699e+02\n",
            " 2.48765414e+02 9.81732552e-01 2.91198959e-03 9.54450952e-01\n",
            " 6.00292826e-04 2.06604848e-04 6.18187734e-05 1.22824142e-03\n",
            " 6.71872458e-04 4.07922564e+00]\n"
          ]
        }
      ],
      "source": [
        " # Use the k-means function with the train dataset, 7 clusters\n",
        "centroids7,clusters7,confusion7=kmeans(train,7,100,1)"
      ]
    },
    {
      "cell_type": "code",
      "execution_count": null,
      "metadata": {
        "colab": {
          "base_uri": "https://localhost:8080/"
        },
        "id": "4yxQ71xbAm0q",
        "outputId": "b482f47b-1389-4f8d-90fe-6a841560438e"
      },
      "outputs": [
        {
          "name": "stdout",
          "output_type": "stream",
          "text": [
            "0.8528917686585074\n"
          ]
        }
      ],
      "source": [
        "# make confusion train matrix of k = 7 clusters\n",
        "trainconfusion7,cllabel7=makeconftrain(clusters7,confusion7,centroids7,7)\n",
        "print(np.trace(trainconfusion7)/sum(sum(trainconfusion7)))"
      ]
    },
    {
      "cell_type": "code",
      "execution_count": null,
      "metadata": {
        "colab": {
          "base_uri": "https://localhost:8080/"
        },
        "id": "otTlmuNsAm0q",
        "outputId": "9585cd45-66de-425d-bec4-afd5ded9e8d6"
      },
      "outputs": [
        {
          "name": "stdout",
          "output_type": "stream",
          "text": [
            "[[0, 1, 2, 3, 6, 9, 16, 17, 18, 20, 21, 22, 23, 25, 26, 27, 28, 29, 30, 31, 32, 33, 35, 39, 41, 42, 45, 46, 49, 51, 53, 56, 60, 61, 62, 63, 68, 70, 71, 72, 73, 76, 78, 79, 82, 83, 84, 85, 89, 93, 94, 95, 96, 97, 98, 99, 106, 108, 113, 114, 116, 117, 118, 120, 121, 123, 124, 125, 126, 128, 129, 130, 131, 133, 136, 137, 140, 142, 145, 146, 148, 149, 150, 152, 153, 156, 157, 158, 159, 161, 164, 165, 166, 167, 168, 169, 170, 171, 173, 174, 175, 179, 181, 182, 184, 185, 186, 189, 192, 193, 194, 197, 200, 203, 204, 205, 207, 210, 212, 215, 216, 220, 228, 229, 230, 233, 234, 235, 237, 238, 241, 242, 243, 245, 248, 249, 251, 256, 259, 261, 264, 266, 268, 270, 271, 274, 275, 276, 277, 279, 280, 281, 283, 284, 292, 293, 296, 299, 300, 301, 302, 303, 304, 305, 311, 313, 316, 317, 318, 319, 321, 324, 327, 328, 331, 333, 340, 341, 342, 343, 344, 347, 349, 351, 355, 356, 358, 361, 363, 366, 368, 369, 370, 371, 372, 374, 375, 378, 379, 381, 383, 384, 386, 389, 390, 393, 395, 396, 398, 399, 400, 402, 403, 405, 406, 409, 411, 413, 414, 415, 416, 417, 419, 420, 422, 424, 426, 427, 428, 430, 432, 433, 436, 437, 438, 439, 440, 444, 449, 450, 451, 452, 454, 456, 457, 458, 459, 462, 463, 464, 466, 467, 469, 471, 475, 476, 477, 481, 482, 484, 487, 489, 490, 494, 495, 496, 498, 500, 503, 504, 507, 508, 510, 511, 515, 516, 517, 518, 521, 523, 524, 525, 527, 528, 533, 534, 536, 537, 546, 548, 550, 551, 552, 553, 554, 555, 558, 564, 565, 569, 570, 573, 574, 575, 576, 577, 581, 582, 586, 587, 589, 590, 591, 592, 595, 596, 598, 599, 600, 608, 610, 611, 612, 613, 614, 616, 617, 619, 621, 622, 624, 625, 626, 628, 629, 631, 633, 635, 636, 637, 638, 639, 641, 643, 647, 650, 651, 652, 654, 655, 658, 660, 665, 667, 671, 672, 673, 674, 676, 677, 678, 680, 681, 684, 686, 689, 690, 695, 696, 703, 705, 708, 714, 715, 719, 722, 724, 725, 727, 728, 734, 735, 737, 738, 740, 741, 742, 743, 744, 746, 747, 750, 751, 755, 757, 762, 763, 766, 767, 768, 769, 770, 772, 773, 774, 775, 776, 778, 779, 781, 784, 787, 790, 791, 793, 796, 798, 799, 801, 802, 803, 805, 806, 807, 808, 810, 811, 812, 813, 815, 819, 821, 822, 826, 828, 832, 833, 835, 837, 839, 840, 841, 842, 843, 844, 846, 848, 849, 851, 852, 853, 854, 860, 863, 867, 868, 873, 875, 876, 877, 880, 883, 884, 885, 887, 888, 899, 903, 904, 905, 906, 907, 909, 911, 912, 914, 916, 917, 919, 921, 922, 923, 924, 927, 929, 930, 931, 934, 938, 939, 941, 942, 943, 947, 948, 950, 954, 956, 959, 960, 962, 964, 966, 967, 968, 970, 972, 977, 978, 979, 981, 987, 993, 1000, 1004, 1005, 1006, 1007, 1008, 1009, 1010, 1011, 1012, 1016, 1018, 1019, 1020, 1023, 1024, 1025, 1026, 1028, 1029, 1030, 1033, 1034, 1035, 1037, 1039, 1041, 1044, 1045, 1048, 1049, 1052, 1053, 1055, 1058, 1059, 1065, 1066, 1067, 1072, 1073, 1075, 1076, 1077, 1078, 1079, 1081, 1086, 1087, 1090, 1096, 1097, 1102, 1103, 1104, 1105, 1107, 1109, 1112, 1113, 1115, 1118, 1119, 1126, 1128, 1129, 1130, 1132, 1133, 1137, 1138, 1140, 1144, 1146, 1147, 1148, 1151, 1155, 1166, 1171, 1172, 1173, 1174, 1176, 1177, 1180, 1182, 1185, 1187, 1189, 1192, 1195, 1202, 1204, 1208, 1213, 1215, 1216, 1217, 1218, 1219, 1220, 1222, 1231, 1232, 1238, 1240, 1243, 1245, 1248, 1249, 1250, 1252, 1254, 1255, 1256, 1257, 1259, 1261, 1263, 1264, 1267, 1268, 1271, 1275, 1278, 1279, 1280, 1282, 1285, 1286, 1287, 1290, 1292, 1294, 1296, 1297, 1298, 1301, 1302, 1303, 1307, 1310, 1311, 1313, 1314, 1316, 1319, 1320, 1321, 1323, 1324, 1326, 1327, 1329, 1330, 1331, 1333, 1334, 1335, 1336, 1337, 1340, 1342, 1346, 1347, 1348, 1349, 1353, 1357, 1359, 1370, 1371, 1376, 1377, 1378, 1380, 1384, 1385, 1386, 1393, 1394, 1395, 1399, 1402, 1407, 1408, 1410, 1411, 1412, 1413, 1416, 1419, 1421, 1422, 1427, 1430, 1431, 1436, 1437, 1439, 1441, 1444, 1446, 1448, 1452, 1455, 1457, 1458, 1461, 1462, 1465, 1470, 1472, 1474, 1475, 1476, 1477, 1479, 1480, 1481, 1483, 1484, 1485, 1487, 1490, 1493, 1494, 1495, 1500, 1507, 1508, 1509, 1511, 1512, 1518, 1520, 1523, 1526, 1527, 1529, 1534, 1537, 1538, 1545, 1546, 1550, 1551, 1552, 1556, 1559, 1569, 1571, 1572, 1574, 1576, 1577, 1578, 1582, 1583, 1584, 1585, 1588, 1590, 1597, 1598, 1599, 1602, 1603, 1604, 1606, 1607, 1609, 1610, 1613, 1615, 1617, 1618, 1620, 1621, 1623, 1624, 1626, 1627, 1628, 1629, 1632, 1633, 1637, 1639, 1641, 1642, 1646, 1647, 1648, 1654, 1657, 1660, 1661, 1664, 1666, 1670, 1672, 1674, 1676, 1682, 1685, 1689, 1694, 1700, 1702, 1703, 1705, 1706, 1707, 1708, 1709, 1711, 1713, 1715, 1717, 1718, 1722, 1723, 1724, 1726, 1727, 1728, 1732, 1733, 1734, 1738, 1740, 1744, 1746, 1747, 1748, 1750, 1751, 1753, 1754, 1756, 1758, 1760, 1764, 1767, 1769, 1770, 1772, 1773, 1774, 1776, 1777, 1778, 1781, 1783, 1788, 1789, 1791, 1794, 1795, 1796, 1797, 1799, 1801, 1802, 1803, 1806, 1807, 1808, 1809, 1810, 1811, 1813, 1814, 1815, 1817, 1818, 1820, 1821, 1822, 1827, 1829, 1831, 1832, 1834, 1836, 1837, 1838, 1839, 1842, 1846, 1849, 1855, 1862, 1863, 1864, 1865, 1871, 1873, 1875, 1881, 1890, 1891, 1894, 1895, 1901, 1902, 1903, 1905, 1907, 1914, 1915, 1918, 1919, 1921, 1922, 1923, 1924, 1928, 1929, 1930, 1931, 1932, 1934, 1936, 1938, 1939, 1940, 1941, 1942, 1949, 1950, 1953, 1954, 1955, 1957, 1962, 1970, 1972, 1973, 1977, 1978, 1979, 1980, 1981, 1982, 1984, 1985, 1986, 1989, 1992, 1993, 1997, 1999, 2001, 2002, 2004, 2005, 2006, 2008, 2009, 2012, 2015, 2016, 2018, 2019, 2021, 2025, 2026, 2029, 2030, 2032, 2033, 2035, 2036, 2037, 2038, 2039, 2040, 2044, 2047, 2048, 2052, 2054, 2055, 2056, 2057, 2059, 2060, 2062, 2066, 2068, 2069, 2071, 2072, 2073, 2074, 2075, 2077, 2078, 2082, 2083, 2084, 2088, 2089, 2094, 2098, 2099, 2100, 2104, 2105, 2107, 2108, 2109, 2112, 2113, 2114, 2116, 2117, 2118, 2119, 2121, 2122, 2123, 2129, 2132, 2135, 2136, 2137, 2138, 2140, 2142, 2144, 2145, 2147, 2149, 2151, 2157, 2158, 2159, 2160, 2163, 2164, 2166, 2167, 2168, 2170, 2172, 2173, 2177, 2179, 2180, 2181, 2182, 2184, 2186, 2187, 2188, 2189, 2190, 2192, 2194, 2196, 2198, 2199, 2201, 2202, 2206, 2207, 2209, 2210, 2211, 2212, 2214, 2217, 2218, 2219, 2220, 2221, 2222, 2225, 2228, 2230, 2231, 2232, 2233, 2235, 2240, 2241, 2243, 2244, 2245, 2248, 2250, 2252, 2253, 2255, 2256, 2257, 2258, 2259, 2260, 2261, 2263, 2266, 2271, 2276, 2277, 2281, 2286, 2289, 2295, 2297, 2298, 2299, 2303, 2304, 2305, 2306, 2309, 2310, 2311, 2313, 2318, 2325, 2328, 2329, 2331, 2335, 2338, 2339, 2342, 2343, 2344, 2346, 2348, 2350, 2352, 2356, 2357, 2358, 2359, 2360, 2362, 2363, 2364, 2366, 2367, 2368, 2370, 2372, 2375, 2378, 2379, 2381, 2382, 2383, 2386, 2390, 2392, 2394, 2395, 2398, 2399, 2402, 2404, 2405, 2407, 2409, 2411, 2412, 2414, 2420, 2422, 2424, 2426, 2427, 2430, 2431, 2433, 2435, 2437, 2439, 2441, 2442, 2448, 2452, 2453, 2458, 2462, 2464, 2465, 2468, 2469, 2470, 2473, 2477, 2478, 2479, 2481, 2483, 2487, 2488, 2489, 2490, 2494, 2495, 2496, 2502, 2504, 2508, 2509, 2510, 2512, 2513, 2514, 2517, 2518, 2519, 2521, 2523, 2524, 2526, 2527, 2530, 2534, 2537, 2538, 2540, 2542, 2546, 2548, 2549, 2551, 2552, 2556, 2557, 2561, 2562, 2564, 2567, 2568, 2571, 2573, 2574, 2576, 2577, 2579, 2580, 2582, 2583, 2584, 2585, 2588, 2590, 2594, 2595, 2596, 2600, 2603, 2607, 2609, 2612, 2613, 2614, 2618, 2620, 2622, 2623, 2624, 2625, 2627, 2631, 2632, 2636, 2640, 2642, 2643, 2644, 2645, 2646, 2647, 2648, 2649, 2650, 2651, 2652, 2656, 2658, 2664, 2666, 2667, 2668, 2669, 2671, 2672, 2673, 2674, 2675, 2677, 2680, 2683, 2685, 2687, 2688, 2690, 2693, 2697, 2698, 2702, 2704, 2705, 2711, 2712, 2713, 2714, 2718, 2719, 2720, 2721, 2722, 2725, 2731, 2735, 2737, 2738, 2739, 2740, 2743, 2746, 2747, 2749, 2756, 2758, 2759, 2760, 2762, 2763, 2766, 2767, 2769, 2770, 2773, 2774, 2777, 2778, 2780, 2781, 2782, 2787, 2788, 2790, 2791, 2792, 2795, 2796, 2797, 2798, 2801, 2804, 2807, 2811, 2815, 2820, 2821, 2823, 2824, 2827, 2829, 2831, 2833, 2835, 2837, 2839, 2844, 2847, 2848, 2850, 2854, 2859, 2860, 2862, 2864, 2870, 2873, 2874, 2875, 2877, 2878, 2879, 2880, 2882, 2885, 2887, 2889, 2890, 2893, 2894, 2895, 2900, 2901, 2902, 2903, 2904, 2906, 2907, 2909, 2910, 2911, 2912, 2913, 2915, 2916, 2921, 2923, 2924, 2926, 2928, 2930, 2934, 2935, 2937, 2939, 2940, 2941, 2946, 2947, 2950, 2951, 2952, 2953, 2956, 2961, 2962, 2963, 2965, 2966, 2967, 2970, 2971, 2973, 2975, 2978, 2981, 2983, 2984, 2985, 2987, 2991, 2992, 2993, 2997, 3001, 3005, 3013, 3020, 3021, 3022, 3023, 3027, 3029, 3030, 3034, 3036, 3037, 3039, 3041, 3043, 3044, 3045, 3052, 3053, 3054, 3059, 3061, 3063, 3064, 3071, 3072, 3075, 3076, 3077, 3081, 3082, 3083, 3085, 3086, 3087, 3088, 3089, 3092, 3097, 3100, 3101, 3103, 3104, 3108, 3109, 3110, 3112, 3115, 3117, 3118, 3120, 3121, 3123, 3124, 3126, 3130, 3132, 3134, 3135, 3137, 3138, 3141, 3143, 3145, 3146, 3147, 3148, 3151, 3152, 3153, 3156, 3157, 3159, 3166, 3167, 3172, 3174, 3175, 3177, 3178, 3179, 3181, 3183, 3184, 3186, 3188, 3189, 3190, 3194, 3196, 3201, 3202, 3204, 3207, 3208, 3209, 3213, 3214, 3217, 3218, 3221, 3224, 3226, 3227, 3229, 3230, 3234, 3236, 3242, 3243, 3246, 3249, 3251, 3252, 3255, 3258, 3263, 3264, 3267, 3268, 3269, 3270, 3282, 3284, 3285, 3287, 3289, 3293, 3294, 3295, 3296, 3298, 3301, 3302, 3304, 3305, 3306, 3308, 3309, 3310, 3311, 3313, 3314, 3315, 3319, 3321, 3322, 3323, 3324, 3325, 3326, 3329, 3334, 3339, 3340, 3342, 3343, 3344, 3347, 3350, 3353, 3354, 3359, 3361, 3362, 3364, 3366, 3367, 3368, 3369, 3370, 3372, 3375, 3376, 3378, 3380, 3383, 3385, 3388, 3391, 3392, 3393, 3394, 3395, 3398, 3401, 3403, 3406, 3409, 3410, 3411, 3412, 3413, 3414, 3415, 3416, 3423, 3430, 3432, 3434, 3436, 3438, 3440, 3441, 3442, 3445, 3447, 3448, 3451, 3453, 3455, 3456, 3458, 3460, 3464, 3471, 3472, 3473, 3477, 3479, 3481, 3482, 3485, 3486, 3487, 3489, 3490, 3491, 3493, 3496, 3498, 3503, 3508, 3509, 3513, 3515, 3516, 3520, 3521, 3522, 3524, 3527, 3530, 3534, 3535, 3536, 3538, 3541, 3542, 3545, 3546, 3547, 3549, 3551, 3552, 3553, 3556, 3558, 3561, 3567, 3569, 3572, 3573, 3576, 3578, 3582, 3585, 3590, 3591, 3598, 3599, 3601, 3602, 3606, 3608, 3609, 3613, 3614, 3619, 3622, 3623, 3624, 3628, 3636, 3637, 3638, 3639, 3641, 3643, 3645, 3647, 3648, 3651, 3653, 3656, 3659, 3660, 3663, 3666, 3668, 3671, 3672, 3673, 3676, 3677, 3683, 3687, 3689, 3690, 3691, 3693, 3694, 3700, 3701, 3703, 3706, 3707, 3708, 3709, 3712, 3713, 3714, 3717, 3722, 3724, 3728, 3729, 3733, 3735, 3736, 3737, 3742, 3743, 3744, 3745, 3746, 3747, 3749, 3751, 3752, 3753, 3754, 3755, 3756, 3758, 3762, 3763, 3764, 3766, 3767, 3770, 3772, 3775, 3776, 3778, 3784, 3785, 3786, 3788, 3789, 3790, 3799, 3801, 3804, 3806, 3809, 3810, 3811, 3813, 3816, 3818, 3819, 3823, 3824, 3825, 3826, 3828, 3829, 3831, 3833, 3838, 3843, 3847, 3848, 3850, 3851, 3852, 3853, 3856, 3857, 3862, 3864, 3865, 3866, 3868, 3869, 3874, 3875, 3877, 3878, 3887, 3889, 3890, 3892, 3893, 3894, 3895, 3897, 3900, 3901, 3903, 3906, 3909, 3911, 3912, 3914, 3915, 3917, 3918, 3920, 3924, 3925, 3927, 3928, 3932, 3934, 3935, 3936, 3939, 3941, 3944, 3947, 3949, 3950, 3952, 3955, 3956, 3957, 3958, 3959, 3960, 3961, 3964, 3965, 3970, 3971, 3973, 3978, 3981, 3983, 3984, 3985, 3986, 3987, 3992, 3993, 3995, 3996, 4000, 4004, 4007, 4008, 4010, 4011, 4017, 4018, 4021, 4022, 4023, 4024, 4027, 4030, 4032, 4034, 4036, 4037, 4038, 4043, 4044, 4045, 4046, 4047, 4048, 4049, 4050, 4056, 4060, 4063, 4066, 4069, 4070, 4071, 4075, 4076, 4077, 4078, 4079, 4080, 4081, 4083, 4086, 4089, 4090, 4093, 4094, 4095, 4096, 4097, 4098, 4100, 4103, 4104, 4105, 4108, 4113, 4114, 4117, 4118, 4119, 4120, 4122, 4123, 4125, 4127, 4129, 4130, 4132, 4133, 4135, 4136, 4137, 4138, 4139, 4140, 4144, 4146, 4147, 4148, 4151, 4152, 4154, 4155, 4157, 4158, 4159, 4163, 4164, 4171, 4174, 4175, 4178, 4180, 4181, 4186, 4188, 4189, 4191, 4192, 4194, 4197, 4201, 4202, 4203, 4204, 4205, 4207, 4208, 4209, 4211, 4212, 4217, 4219, 4220, 4221, 4222, 4223, 4225, 4227, 4232, 4233, 4237, 4239, 4243, 4244, 4245, 4246, 4248, 4249, 4250, 4251, 4259, 4267, 4269, 4272, 4275, 4276, 4278, 4280, 4281, 4283, 4284, 4291, 4293, 4294, 4295, 4296, 4297, 4298, 4300, 4302, 4304, 4305, 4306, 4308, 4310, 4311, 4315, 4317, 4320, 4322, 4323, 4324, 4325, 4326, 4334, 4338, 4340, 4343, 4345, 4346, 4348, 4352, 4353, 4361, 4364, 4366, 4367, 4368, 4370, 4372, 4375, 4376, 4377, 4379, 4380, 4382, 4384, 4386, 4387, 4389, 4390, 4391, 4396, 4398, 4399, 4402, 4403, 4405, 4406, 4410, 4413, 4414, 4415, 4416, 4417, 4423, 4424, 4426, 4428, 4429, 4431, 4432, 4434, 4436, 4438, 4445, 4452, 4453, 4455, 4456, 4457, 4458, 4459, 4465, 4467, 4468, 4473, 4475, 4476, 4477, 4479, 4487, 4489, 4490, 4491, 4492, 4493, 4495, 4496, 4497, 4498, 4500, 4504, 4505, 4506, 4510, 4511, 4513, 4516, 4517, 4518, 4519, 4522, 4524, 4528, 4529, 4531, 4534, 4536, 4538, 4539, 4540, 4541, 4543, 4544, 4545, 4548, 4549, 4556, 4557, 4561, 4564, 4566, 4568, 4571, 4572, 4573, 4574, 4575, 4576, 4579, 4580, 4581, 4582, 4585, 4586, 4587, 4588, 4589, 4590, 4592, 4593, 4595, 4596, 4602, 4605, 4607, 4608, 4613, 4615, 4617, 4618, 4620, 4623, 4624, 4625, 4626, 4627, 4629, 4630, 4631, 4632, 4634, 4636, 4638, 4641, 4643, 4645, 4646, 4647, 4648, 4650, 4651, 4652, 4653, 4654, 4657, 4660, 4662, 4663, 4664, 4665, 4666, 4667, 4669, 4670, 4671, 4672, 4675, 4676, 4677, 4680, 4683, 4684, 4687, 4689, 4690, 4691, 4692, 4693, 4698, 4703, 4705, 4707, 4708, 4710, 4715, 4716, 4720, 4724, 4726, 4727, 4731, 4732, 4737, 4738, 4739, 4742, 4743, 4744, 4746, 4747, 4748, 4750, 4752, 4754, 4756, 4758, 4759, 4760, 4762, 4763, 4764, 4766, 4768, 4769, 4770, 4771, 4773, 4780, 4781, 4782, 4783, 4784, 4785, 4786, 4791, 4792, 4793, 4794, 4795, 4796, 4797, 4799, 4800, 4806, 4809, 4810, 4811, 4813, 4820, 4821, 4822, 4828, 4830, 4831, 4832, 4833, 4837, 4838, 4839, 4840, 4841, 4851, 4852, 4855, 4857, 4861, 4862, 4866, 4867, 4870, 4871, 4873, 4874, 4875, 4878, 4882, 4886, 4887, 4890, 4891, 4897, 4898, 4899, 4901, 4902, 4905, 4906, 4907, 4911, 4912, 4916, 4921, 4922, 4923, 4926, 4930, 4931, 4933, 4934, 4940, 4941, 4943, 4944, 4945, 4947, 4948, 4949, 4951, 4953, 4956, 4961, 4962, 4963, 4964, 4967, 4969, 4972, 4976, 4977, 4980, 4981, 4982, 4983, 4987, 4989, 4993, 4994, 4996, 5006, 5009, 5010, 5011, 5012, 5015, 5018, 5019, 5020, 5021, 5022, 5024, 5025, 5027, 5028, 5029, 5031, 5033, 5036, 5037, 5038, 5043, 5044, 5047, 5048, 5049, 5051, 5052, 5053, 5054, 5055, 5056, 5057, 5058, 5059, 5060, 5061, 5062, 5063, 5067, 5069, 5071, 5072, 5074, 5076, 5077, 5080, 5082, 5083, 5084, 5085, 5090, 5093, 5096, 5097, 5098, 5099, 5101, 5102, 5109, 5111, 5112, 5114, 5118, 5119, 5120, 5123, 5125, 5127, 5128, 5129, 5131, 5132, 5134, 5135, 5137, 5138, 5140, 5142, 5144, 5145, 5147, 5148, 5149, 5150, 5151, 5153, 5155, 5157, 5158, 5159, 5162, 5163, 5172, 5174, 5176, 5179, 5180, 5182, 5183, 5184, 5187, 5191, 5193, 5194, 5199, 5204, 5206, 5208, 5210, 5213, 5217, 5221, 5222, 5226, 5227, 5228, 5229, 5233, 5234, 5237, 5238, 5240, 5243, 5245, 5246, 5247, 5249, 5255, 5257, 5258, 5262, 5265, 5267, 5269, 5270, 5272, 5274, 5275, 5276, 5277, 5278, 5280, 5282, 5286, 5288, 5289, 5290, 5291, 5293, 5295, 5298, 5299, 5300, 5303, 5304, 5305, 5306, 5307, 5308, 5310, 5313, 5314, 5316, 5319, 5320, 5321, 5323, 5324, 5325, 5327, 5328, 5330, 5331, 5332, 5334, 5335, 5338, 5342, 5347, 5348, 5349, 5352, 5354, 5356, 5358, 5359, 5361, 5362, 5365, 5368, 5369, 5371, 5374, 5376, 5379, 5380, 5385, 5387, 5391, 5392, 5394, 5397, 5400, 5402, 5403, 5409, 5412, 5417, 5419, 5421, 5422, 5430, 5431, 5432, 5434, 5436, 5438, 5439, 5444, 5445, 5448, 5450, 5452, 5456, 5460, 5461, 5462, 5464, 5466, 5467, 5468, 5469, 5476, 5477, 5478, 5481, 5482, 5483, 5484, 5485, 5486, 5489, 5491, 5494, 5495, 5496, 5498, 5499, 5500, 5501, 5502, 5505, 5512, 5516, 5517, 5519, 5521, 5525, 5526, 5527, 5529, 5531, 5534, 5535, 5536, 5537, 5540, 5541, 5545, 5548, 5549, 5551, 5552, 5555, 5556, 5560, 5561, 5570, 5572, 5575, 5576, 5577, 5579, 5581, 5582, 5586, 5587, 5589, 5591, 5593, 5594, 5596, 5599, 5600, 5602, 5603, 5609, 5613, 5614, 5617, 5619, 5620, 5622, 5627, 5629, 5630, 5632, 5633, 5634, 5636, 5637, 5639, 5640, 5641, 5646, 5648, 5649, 5650, 5655, 5657, 5658, 5660, 5662, 5663, 5664, 5666, 5670, 5671, 5672, 5673, 5675, 5676, 5679, 5680, 5681, 5682, 5683, 5684, 5685, 5686, 5687, 5690, 5694, 5697, 5698, 5699, 5700, 5701, 5704, 5707, 5708, 5710, 5711, 5712, 5714, 5717, 5719, 5721, 5723, 5724, 5729, 5732, 5733, 5735, 5736, 5738, 5743, 5744, 5745, 5752, 5753, 5754, 5756, 5759, 5760, 5761, 5763, 5766, 5768, 5769, 5770, 5774, 5775, 5776, 5778, 5779, 5780, 5784, 5785, 5787, 5790, 5791, 5793, 5795, 5796, 5798, 5800, 5801, 5803, 5806, 5807, 5810, 5812, 5818, 5819, 5820, 5821, 5826, 5828, 5829, 5830, 5831, 5832, 5833, 5836, 5837, 5840, 5841, 5849, 5850, 5851, 5853, 5854, 5856, 5857, 5858, 5861, 5862, 5863, 5868, 5869, 5871, 5873, 5874, 5875, 5876, 5877, 5879, 5880, 5882, 5883, 5884, 5885, 5886, 5887, 5890, 5893, 5894, 5895, 5897, 5902, 5906, 5907, 5908, 5909, 5910, 5912, 5913, 5915, 5916, 5923, 5927, 5934, 5939, 5940, 5941, 5942, 5945, 5947, 5952, 5957, 5959, 5961, 5964, 5966, 5967, 5968, 5971, 5972, 5973, 5975, 5979, 5981, 5982, 5983, 5984, 5986, 5987, 5990, 5993, 5994, 5995, 5997, 5999, 6001, 6003, 6005, 6008, 6010, 6011, 6012, 6014, 6015, 6016, 6017, 6020, 6021, 6023, 6024, 6025, 6028, 6031, 6032, 6035, 6036, 6039, 6041, 6042, 6043, 6045, 6047, 6051, 6052, 6053, 6055, 6056, 6057, 6058, 6059, 6060, 6062, 6064, 6065, 6067, 6069, 6073, 6074, 6075, 6076, 6079, 6082, 6086, 6087, 6088, 6090, 6091, 6093, 6094, 6095, 6096, 6102, 6105, 6108, 6109, 6110, 6115, 6116, 6117, 6118, 6119, 6121, 6122, 6126, 6127, 6135, 6136, 6138, 6139, 6140, 6141, 6146, 6147, 6148, 6150, 6152, 6153, 6154, 6156, 6157, 6158, 6160, 6161, 6162, 6163, 6164, 6166, 6167, 6168, 6177, 6178, 6179, 6180, 6182, 6186, 6187, 6188, 6189, 6197, 6198, 6201, 6203, 6207, 6208, 6210, 6212, 6213, 6216, 6217, 6218, 6220, 6221, 6222, 6226, 6227, 6228, 6229, 6230, 6233, 6234, 6238, 6239, 6243, 6250, 6251, 6252, 6253, 6255, 6256, 6259, 6260, 6264, 6265, 6267, 6268, 6269, 6271, 6273, 6275, 6276, 6277, 6278, 6281, 6282, 6285, 6287, 6289, 6290, 6293, 6294, 6296, 6297, 6299, 6300, 6302, 6303, 6304, 6305, 6307, 6308, 6309, 6310, 6311, 6313, 6315, 6316, 6317, 6318, 6320, 6321, 6323, 6324, 6326, 6328, 6330, 6331, 6334, 6335, 6337, 6339, 6342, 6345, 6346, 6347, 6350, 6351, 6352, 6353, 6354, 6359, 6360, 6362, 6364, 6365, 6367, 6370, 6371, 6374, 6375, 6380, 6382, 6383, 6384, 6385, 6386, 6387, 6393, 6394, 6395, 6396, 6397, 6401, 6406, 6409, 6410, 6412, 6413, 6418, 6421, 6422, 6424, 6426, 6427, 6428, 6429, 6432, 6433, 6434, 6435, 6436, 6437, 6438, 6439, 6441, 6442, 6443, 6444, 6446, 6448, 6450, 6451, 6454, 6455, 6456, 6457, 6458, 6463, 6464, 6465, 6466, 6470, 6482, 6483, 6485, 6489, 6490, 6491, 6493, 6494, 6495, 6500, 6502, 6505, 6506, 6508, 6510, 6512, 6513, 6515, 6517, 6518, 6519, 6522, 6525, 6526, 6527, 6528, 6531, 6533, 6534, 6535, 6539, 6540, 6541, 6543, 6544, 6545, 6548, 6550, 6551, 6557, 6559, 6560, 6561, 6562, 6564, 6567, 6568, 6569, 6570, 6571, 6575, 6578, 6583, 6584, 6588, 6589, 6590, 6594, 6598, 6599, 6600, 6601, 6604, 6605, 6607, 6609, 6611, 6614, 6615, 6616, 6617, 6620, 6622, 6623, 6628, 6630, 6633, 6635, 6636, 6637, 6639, 6640, 6644, 6646, 6650, 6651, 6652, 6653, 6655, 6658, 6660, 6661, 6662, 6667, 6669, 6671, 6673, 6675, 6676, 6682, 6683, 6688, 6689, 6690, 6693, 6694, 6695, 6701, 6702, 6705, 6706, 6708, 6709, 6711, 6714, 6716, 6719, 6720, 6723, 6736, 6737, 6739, 6740, 6741, 6743, 6744, 6748, 6752, 6753, 6757, 6759, 6760, 6761, 6764, 6766, 6769, 6770, 6771, 6773, 6777, 6778, 6781, 6785, 6790, 6798, 6800, 6802, 6805, 6806, 6807, 6810, 6812, 6815, 6817, 6818, 6819, 6823, 6824, 6826, 6827, 6828, 6829, 6831, 6833, 6834, 6835, 6836, 6838, 6840, 6848, 6853, 6854, 6859, 6863, 6865, 6869, 6870, 6872, 6874, 6876, 6877, 6878, 6879, 6880, 6882, 6888, 6890, 6891, 6892, 6893, 6894, 6899, 6900, 6901, 6903, 6905, 6907, 6908, 6911, 6913, 6922, 6926, 6928, 6931, 6934, 6939, 6940, 6941, 6944, 6946, 6947, 6948, 6949, 6950, 6952, 6953, 6957, 6959, 6960, 6963, 6964, 6965, 6968, 6971, 6972, 6973, 6975, 6976, 6977, 6978, 6980, 6987, 6991, 6999, 7000, 7003, 7005, 7010, 7014, 7015, 7016, 7017, 7018, 7022, 7023, 7024, 7026, 7029, 7030, 7031, 7032, 7034, 7035, 7036, 7040, 7043, 7044, 7045, 7048, 7049, 7051, 7052, 7054, 7055, 7062, 7063, 7064, 7066, 7069, 7070, 7072, 7075, 7076, 7077, 7079, 7081, 7082, 7083, 7084, 7085, 7086, 7089, 7090, 7091, 7092, 7095, 7097, 7098, 7099, 7100, 7102, 7104, 7108, 7109, 7111, 7113, 7117, 7118, 7119, 7120, 7123, 7124, 7128, 7129, 7130, 7131, 7132, 7134, 7138, 7139, 7143, 7144, 7145, 7146, 7148, 7149, 7150, 7152, 7153, 7155, 7161, 7162, 7165, 7166, 7167, 7170, 7171, 7174, 7177, 7180, 7181, 7182, 7183, 7187, 7194, 7195, 7196, 7197, 7198, 7202, 7206, 7208, 7209, 7211, 7212, 7214, 7216, 7219, 7224, 7225, 7227, 7229, 7231, 7234, 7237, 7238, 7239, 7243, 7244, 7248, 7251, 7252, 7253, 7254, 7255, 7256, 7258, 7259, 7261, 7263, 7264, 7266, 7267, 7269, 7270, 7271, 7273, 7274, 7277, 7278, 7279, 7280, 7284, 7285, 7289, 7290, 7293, 7297, 7298, 7301, 7303, 7304, 7306, 7307, 7309, 7310, 7312, 7313, 7317, 7320, 7323, 7327, 7331, 7332, 7334, 7335, 7337, 7338, 7340, 7341, 7344, 7345, 7348, 7349, 7351, 7352, 7354, 7355, 7356, 7359, 7361, 7362, 7363, 7364, 7366, 7367, 7368, 7371, 7372, 7373, 7374, 7375, 7377, 7379, 7380, 7381, 7384, 7392, 7394, 7396, 7397, 7399, 7400, 7402, 7403, 7405, 7407, 7409, 7410, 7412, 7413, 7416, 7417, 7418, 7426, 7427, 7428, 7429, 7431, 7432, 7433, 7435, 7437, 7438, 7440, 7441, 7442, 7444, 7445, 7446, 7448, 7451, 7452, 7457, 7458, 7460, 7461, 7466, 7467, 7470, 7471, 7472, 7474, 7475, 7477, 7478, 7480, 7481, 7483, 7485, 7486, 7487, 7488, 7489, 7491, 7492, 7493, 7494, 7496, 7497, 7498, 7499, 7500, 7502, 7504, 7506, 7509, 7512, 7513, 7514, 7515, 7516, 7517, 7524, 7525, 7529, 7532, 7533, 7535, 7538, 7539, 7540, 7542, 7543, 7548, 7549, 7551, 7555, 7556, 7557, 7559, 7561, 7564, 7567, 7568, 7572, 7576, 7579, 7581, 7587, 7588, 7590, 7592, 7594, 7596, 7597, 7599, 7600, 7601, 7602, 7605, 7609, 7614, 7618, 7619, 7622, 7623, 7625, 7626, 7628, 7629, 7632, 7634, 7639, 7640, 7641, 7642, 7645, 7646, 7647, 7649, 7654, 7655, 7658, 7659, 7660, 7662, 7665, 7666, 7667, 7670, 7671, 7673, 7676, 7677, 7678, 7680, 7685, 7687, 7688, 7690, 7691, 7692, 7693, 7696, 7697, 7702, 7703, 7705, 7706, 7711, 7712, 7713, 7714, 7715, 7716, 7720, 7722, 7723, 7724, 7727, 7728, 7730, 7732, 7734, 7736, 7737, 7740, 7741, 7743, 7744, 7748, 7750, 7752, 7754, 7758, 7759, 7761, 7762, 7766, 7769, 7770, 7771, 7772, 7773, 7774, 7776, 7777, 7779, 7781, 7784, 7785, 7788, 7790, 7791, 7797, 7801, 7802, 7803, 7804, 7808, 7811, 7819, 7822, 7825, 7828, 7829, 7831, 7832, 7834, 7836, 7837, 7839, 7840, 7841, 7843, 7845, 7846, 7847, 7849, 7850, 7851, 7852, 7854, 7857, 7858, 7859, 7861, 7866, 7869, 7870, 7872, 7873, 7875, 7876, 7878, 7880, 7883, 7885, 7887, 7890, 7891, 7892, 7893, 7894, 7897, 7900, 7901, 7903, 7906, 7907, 7908, 7909, 7910, 7911, 7912, 7913, 7914, 7916, 7917, 7918, 7919, 7920, 7922, 7924, 7925, 7927, 7933, 7934, 7937, 7938, 7942, 7943, 7946, 7947, 7950, 7953, 7954, 7956, 7958, 7961, 7965, 7966, 7970, 7972, 7974, 7975, 7976, 7977, 7978, 7979, 7980, 7982, 7984, 7985, 7989, 7998, 8001, 8003, 8004, 8005, 8009, 8011, 8013, 8015, 8016, 8017, 8019, 8020, 8022, 8024, 8026, 8027, 8028, 8033, 8034, 8036, 8037, 8039, 8040, 8044, 8046, 8050, 8052, 8054, 8056, 8057, 8058, 8060, 8062, 8064, 8067, 8069, 8078, 8082, 8085, 8086, 8087, 8088, 8089, 8090, 8091, 8092, 8095, 8096, 8097, 8100, 8101, 8103, 8108, 8111, 8112, 8115, 8116, 8118, 8120, 8121, 8122, 8123, 8126, 8127, 8128, 8129, 8130, 8133, 8134, 8135, 8136, 8139, 8140, 8143, 8144, 8145, 8146, 8148, 8149, 8154, 8156, 8158, 8159, 8163, 8164, 8165, 8168, 8169, 8170, 8171, 8172, 8173, 8175, 8176, 8179, 8180, 8182, 8185, 8186, 8188, 8191, 8193, 8195, 8196, 8197, 8201, 8202, 8203, 8204, 8205, 8207, 8208, 8210, 8217, 8218, 8225, 8226, 8229, 8230, 8231, 8233, 8235, 8237, 8240, 8241, 8243, 8244, 8247, 8248, 8250, 8251, 8255, 8259, 8260, 8262, 8263, 8264, 8267, 8271, 8274, 8280, 8281, 8282, 8284, 8285, 8286, 8290, 8291, 8292, 8296, 8298, 8299, 8301, 8308, 8311, 8315, 8320, 8321, 8323, 8326, 8327, 8328, 8333, 8334, 8335, 8336, 8339, 8340, 8342, 8346, 8350, 8351, 8352, 8353, 8355, 8358, 8359, 8360, 8361, 8364, 8365, 8367, 8370, 8371, 8373, 8374, 8375, 8376, 8377, 8380, 8381, 8383, 8384, 8385, 8389, 8391, 8392, 8397, 8399, 8400, 8405, 8406, 8407, 8408, 8410, 8411, 8412, 8413, 8414, 8415, 8416, 8417, 8418, 8421, 8422, 8423, 8424, 8428, 8429, 8430, 8432, 8435, 8436, 8437, 8438, 8439, 8442, 8446, 8447, 8448, 8449, 8451, 8454, 8455, 8456, 8458, 8459, 8461, 8463, 8464, 8465, 8467, 8469, 8473, 8474, 8475, 8478, 8479, 8484, 8486, 8487, 8491, 8494, 8495, 8497, 8501, 8502, 8503, 8504, 8505, 8507, 8509, 8510, 8511, 8514, 8515, 8517, 8521, 8522, 8525, 8526, 8527, 8528, 8530, 8532, 8533, 8535, 8536, 8537, 8539, 8541, 8543, 8544, 8546, 8547, 8548, 8549, 8551, 8552, 8553, 8555, 8558, 8559, 8560, 8564, 8567, 8572, 8577, 8582, 8583, 8584, 8587, 8588, 8589, 8590, 8591, 8592, 8598, 8599, 8601, 8604, 8607, 8608, 8609, 8611, 8615, 8616, 8617, 8619, 8621, 8624, 8625, 8629, 8632, 8633, 8636, 8638, 8639, 8640, 8644, 8649, 8650, 8653, 8654, 8656, 8658, 8659, 8660, 8662, 8666, 8667, 8669, 8670, 8671, 8672, 8674, 8678, 8684, 8685, 8686, 8687, 8689, 8690, 8691, 8693, 8696, 8699, 8700, 8701, 8704, 8705, 8706, 8707, 8708, 8715, 8716, 8717, 8718, 8719, 8722, 8737, 8738, 8739, 8740, 8741, 8743, 8745, 8746, 8747, 8748, 8751, 8753, 8754, 8756, 8761, 8762, 8763, 8764, 8765, 8767, 8769, 8770, 8771, 8773, 8776, 8777, 8778, 8781, 8783, 8788, 8792, 8795, 8796, 8797, 8799, 8802, 8806, 8810, 8811, 8812, 8813, 8825, 8827, 8828, 8829, 8831, 8833, 8835, 8836, 8838, 8840, 8846, 8849, 8851, 8856, 8857, 8859, 8865, 8868, 8871, 8872, 8873, 8875, 8878, 8881, 8882, 8884, 8885, 8887, 8890, 8894, 8895, 8896, 8900, 8902, 8904, 8905, 8906, 8907, 8909, 8911, 8912, 8919, 8923, 8924, 8925, 8928, 8929, 8933, 8937, 8940, 8941, 8942, 8943, 8945, 8946, 8948, 8949, 8951, 8955, 8957, 8963, 8971, 8972, 8973, 8978, 8979, 8980, 8983, 8987, 8988, 8989, 8990, 8994, 8995, 8996, 8997, 8999, 9000, 9001, 9003, 9006, 9008, 9009, 9011, 9012, 9013, 9017, 9018, 9019, 9022, 9023, 9026, 9027, 9028, 9029, 9033, 9034, 9036, 9041, 9043, 9044, 9047, 9050, 9051, 9053, 9054, 9055, 9056, 9058, 9061, 9062, 9065, 9071, 9073, 9074, 9075, 9076, 9079, 9085, 9091, 9092, 9093, 9095, 9098, 9099, 9102, 9106, 9110, 9112, 9116, 9119, 9125, 9127, 9129, 9130, 9132, 9133, 9135, 9136, 9137, 9139, 9141, 9148, 9152, 9153, 9154, 9155, 9157, 9159, 9164, 9165, 9168, 9169, 9172, 9174, 9175, 9177, 9178, 9179, 9180, 9181, 9182, 9188, 9189, 9191, 9193, 9196, 9198, 9199, 9201, 9203, 9204, 9205, 9206, 9208, 9209, 9210, 9211, 9216, 9218, 9221, 9224, 9228, 9229, 9230, 9231, 9233, 9234, 9235, 9241, 9242, 9243, 9244, 9250, 9251, 9252, 9253, 9256, 9262, 9264, 9267, 9268, 9275, 9276, 9277, 9279, 9281, 9282, 9285, 9286, 9287, 9288, 9290, 9291, 9293, 9295, 9296, 9299, 9302, 9303, 9304, 9306, 9308, 9309, 9310, 9314, 9317, 9319, 9320, 9321, 9322, 9325, 9326, 9327, 9328, 9330, 9331, 9333, 9338, 9339, 9340, 9341, 9343, 9344, 9345, 9346, 9349, 9350, 9351, 9352, 9353, 9354, 9356, 9357, 9361, 9362, 9363, 9364, 9365, 9366, 9368, 9369, 9371, 9372, 9373, 9374, 9375, 9376, 9380, 9381, 9382, 9383, 9387, 9391, 9392, 9393, 9394, 9398, 9400, 9403, 9405, 9407, 9409, 9415, 9416, 9418, 9420, 9423, 9425, 9427, 9428, 9431, 9432, 9433, 9435, 9436, 9437, 9440, 9442, 9444, 9445, 9446, 9447, 9448, 9453, 9455, 9456, 9459, 9460, 9462, 9466, 9467, 9469, 9470, 9471, 9473, 9477, 9481, 9482, 9486, 9487, 9489, 9490, 9492, 9494, 9497, 9498, 9502, 9503, 9506, 9511, 9515, 9517, 9518, 9519, 9521, 9522, 9526, 9531, 9532, 9533, 9535, 9538, 9540, 9543, 9544, 9546, 9550, 9551, 9553, 9554, 9558, 9561, 9562, 9566, 9567, 9571, 9578, 9581, 9587, 9588, 9590, 9591, 9592, 9593, 9595, 9596, 9597, 9598, 9600, 9601, 9602, 9603, 9607, 9608, 9609, 9610, 9611, 9613, 9616, 9617, 9621, 9622, 9625, 9628, 9629, 9631, 9633, 9635, 9637, 9642, 9643, 9645, 9647, 9648, 9649, 9650, 9658, 9662, 9664, 9665, 9666, 9667, 9670, 9672, 9674, 9677, 9678, 9679, 9684, 9686, 9687, 9688, 9689, 9690, 9692, 9693, 9695, 9697, 9703, 9705, 9706, 9709, 9710, 9712, 9714, 9716, 9717, 9719, 9720, 9722, 9723, 9726, 9727, 9728, 9730, 9731, 9732, 9736, 9737, 9741, 9742, 9743, 9746, 9749, 9750, 9752, 9753, 9754, 9756, 9757, 9759, 9762, 9763, 9764, 9766, 9769, 9770, 9773, 9775, 9776, 9778, 9781, 9782, 9784, 9787, 9788, 9789, 9790, 9791, 9794, 9795, 9796, 9797, 9798, 9800, 9802, 9803, 9805, 9808, 9809, 9810, 9812, 9814, 9816, 9818, 9819, 9821, 9822, 9825, 9826, 9831, 9832, 9834, 9835, 9836, 9837, 9838, 9839, 9840, 9841, 9843, 9844, 9846, 9849, 9850, 9851, 9852, 9853, 9854, 9856, 9857, 9858, 9860, 9862, 9863, 9866, 9867, 9869, 9871, 9874, 9875, 9876, 9877, 9878, 9879, 9880, 9882, 9883, 9885, 9886, 9890, 9893, 9897, 9900, 9905, 9906, 9907, 9908, 9910, 9912, 9914, 9915, 9920, 9921, 9924, 9927, 9929, 9930, 9932, 9933, 9936, 9937, 9940, 9942, 9946, 9948, 9950, 9953, 9954, 9957, 9958, 9959, 9961, 9963, 9965, 9967, 9972, 9973, 9974, 9979, 9982, 9987, 9988, 9991, 9992, 9994, 9995, 9998, 9999, 10001, 10003, 10004, 10005, 10014, 10017, 10018, 10019, 10020, 10024, 10026, 10028, 10030, 10031, 10032, 10033, 10038, 10039, 10042, 10043, 10047, 10049, 10052, 10053, 10054, 10056, 10057, 10059, 10062, 10063, 10064, 10065, 10069, 10072, 10073, 10074, 10078, 10081, 10082, 10084, 10085, 10089, 10090, 10094, 10095, 10096, 10098, 10100, 10101, 10106, 10107, 10111, 10112, 10115, 10117, 10120, 10123, 10125, 10128, 10132, 10133, 10135, 10136, 10140, 10141, 10142, 10144, 10147, 10149, 10150, 10152, 10157, 10158, 10159, 10165, 10167, 10168, 10172, 10174, 10175, 10177, 10181, 10182, 10183, 10184, 10185, 10187, 10188, 10194, 10196, 10197, 10198, 10199, 10201, 10204, 10208, 10210, 10215, 10217, 10220, 10222, 10224, 10228, 10229, 10230, 10232, 10235, 10236, 10237, 10241, 10242, 10244, 10250, 10251, 10252, 10253, 10255, 10256, 10257, 10258, 10260, 10261, 10265, 10266, 10267, 10268, 10270, 10271, 10275, 10276, 10278, 10279, 10281, 10282, 10284, 10287, 10293, 10295, 10296, 10299, 10303, 10304, 10305, 10306, 10312, 10314, 10316, 10317, 10321, 10322, 10323, 10324, 10325, 10326, 10327, 10332, 10333, 10335, 10337, 10355, 10357, 10359, 10363, 10364, 10366, 10368, 10369, 10370, 10371, 10372, 10373, 10374, 10376, 10378, 10379, 10380, 10381, 10382, 10385, 10387, 10388, 10389, 10390, 10392, 10396, 10397, 10398, 10401, 10402, 10403, 10406, 10407, 10408, 10409, 10410, 10411, 10412, 10413, 10416, 10419, 10420, 10424, 10425, 10427, 10428, 10430, 10431, 10432, 10433, 10435, 10436, 10438, 10440, 10441, 10447, 10449, 10450, 10451, 10452, 10453, 10456, 10458, 10460, 10461, 10464, 10467, 10470, 10473, 10474, 10478, 10481, 10483, 10484, 10485, 10486, 10487, 10489, 10490, 10491, 10492, 10493, 10497, 10499, 10500, 10501, 10503, 10504, 10505, 10506, 10508, 10509, 10513, 10514, 10517, 10518, 10521, 10522, 10530, 10539, 10540, 10541, 10542, 10543, 10546, 10548, 10549, 10550, 10551, 10553, 10556, 10557, 10559, 10560, 10561, 10564, 10565, 10566, 10568, 10569, 10570, 10571, 10572, 10573, 10574, 10578, 10579, 10588, 10590, 10591, 10594, 10597, 10599, 10601, 10606, 10608, 10609, 10610, 10612, 10616, 10619, 10620, 10621, 10623, 10627, 10628, 10629, 10635, 10638, 10639, 10641, 10642, 10649, 10651, 10652, 10656, 10658, 10659, 10660, 10661, 10666, 10668, 10669, 10670, 10671, 10676, 10677, 10678, 10679, 10680, 10684, 10685, 10686, 10688, 10690, 10694, 10695, 10696, 10698, 10703, 10706, 10707, 10708, 10710, 10712, 10714, 10715, 10716, 10717, 10718, 10721, 10723, 10724, 10728, 10729, 10732, 10733, 10734, 10735, 10737, 10740, 10744, 10745, 10748, 10750, 10751, 10752, 10753, 10757, 10758, 10759, 10761, 10762, 10763, 10764, 10766, 10767, 10773, 10777, 10779, 10780, 10783, 10785, 10787, 10789, 10791, 10792, 10793, 10802, 10803, 10804, 10806, 10811, 10812, 10818, 10820, 10825, 10827, 10828, 10830, 10831, 10832, 10833, 10837, 10838, 10840, 10841, 10842, 10843, 10844, 10848, 10849, 10852, 10854, 10855, 10856, 10859, 10861, 10865, 10866, 10867, 10868, 10870, 10872, 10873, 10874, 10877, 10878, 10879, 10880, 10881, 10882, 10883, 10884, 10886, 10887, 10888, 10890, 10894, 10899, 10900, 10901, 10902, 10903, 10906, 10908, 10910, 10914, 10916, 10917, 10922, 10923, 10924, 10925, 10926, 10931, 10933, 10935, 10936, 10939, 10941, 10942, 10943, 10944, 10947, 10950, 10951, 10952, 10954, 10955, 10957, 10958, 10959, 10960, 10962, 10969, 10970, 10971, 10972, 10973, 10974, 10976, 10979, 10982, 10985, 10987, 10988, 10989, 10991, 10992, 10993, 10994, 11002, 11005, 11007, 11008, 11009, 11011, 11016, 11018, 11020, 11022, 11023, 11025, 11026, 11028, 11029, 11031, 11033, 11037, 11038, 11039, 11040, 11045, 11048, 11049, 11051, 11059, 11061, 11063, 11064, 11066, 11067, 11070, 11071, 11072, 11074, 11075, 11076, 11078, 11080, 11082, 11083, 11084, 11085, 11086, 11087, 11088, 11091, 11094, 11096, 11098, 11100, 11101, 11102, 11103, 11106, 11107, 11110, 11111, 11112, 11113, 11114, 11115, 11118, 11123, 11127, 11129, 11132, 11133, 11135, 11136, 11139, 11144, 11146, 11147, 11148, 11150, 11152, 11156, 11157, 11158, 11159, 11162, 11163, 11165, 11166, 11167, 11169, 11170, 11174, 11177, 11178, 11179, 11182, 11184, 11185, 11187, 11188, 11189, 11197, 11199, 11202, 11204, 11206, 11208, 11209, 11210, 11212, 11213, 11214, 11217, 11219, 11224, 11225, 11226, 11228, 11229, 11230, 11231, 11232, 11234, 11236, 11237, 11239, 11240, 11241, 11243, 11244, 11246, 11248, 11250, 11251, 11252, 11253, 11257, 11259, 11260, 11263, 11265, 11267, 11269, 11270, 11273, 11274, 11277, 11278, 11283, 11285, 11287, 11288, 11289, 11290, 11294, 11295, 11296, 11298, 11308, 11309, 11310, 11312, 11313, 11314, 11318, 11319, 11320, 11323, 11324, 11326, 11333, 11336, 11344, 11345, 11347, 11348, 11349, 11350, 11351, 11353, 11357, 11359, 11363, 11365, 11367, 11370, 11373, 11376, 11377, 11383, 11384, 11387, 11393, 11394, 11395, 11397, 11398, 11399, 11400, 11402, 11405, 11408, 11409, 11412, 11414, 11416, 11417, 11420, 11422, 11425, 11427, 11428, 11430, 11431, 11434, 11435, 11436, 11437, 11440, 11444, 11445, 11447, 11449, 11450, 11451, 11453, 11454, 11457, 11458, 11459, 11463, 11469, 11470, 11471, 11473, 11475, 11478, 11481, 11482, 11484, 11489, 11490, 11491, 11492, 11493, 11496, 11498, 11499, 11501, 11503, 11509, 11510, 11511, 11512, 11518, 11520, 11526, 11527, 11528, 11529, 11534, 11540, 11542, 11543, 11544, 11546, 11549, 11550, 11551, 11552, 11553, 11558, 11561, 11562, 11563, 11564, 11568, 11570, 11576, 11579, 11584, 11587, 11588, 11589, 11591, 11592, 11594, 11595, 11598, 11600, 11602, 11603, 11604, 11605, 11606, 11608, 11609, 11611, 11617, 11618, 11620, 11622, 11624, 11629, 11631, 11632, 11636, 11637, 11643, 11646, 11647, 11648, 11649, 11650, 11654, 11655, 11658, 11659, 11661, 11663, 11664, 11665, 11667, 11669, 11670, 11672, 11675, 11677, 11678, 11681, 11683, 11685, 11686, 11691, 11692, 11693, 11694, 11697, 11701, 11703, 11706, 11709, 11711, 11714, 11715, 11718, 11720, 11721, 11729, 11730, 11731, 11732, 11734, 11735, 11736, 11737, 11743, 11748, 11751, 11752, 11753, 11754, 11756, 11757, 11758, 11759, 11760, 11762, 11764, 11765, 11766, 11770, 11772, 11774, 11775, 11777, 11780, 11784, 11785, 11787, 11793, 11797, 11799, 11802, 11806, 11807, 11808, 11809, 11812, 11816, 11818, 11820, 11822, 11823, 11825, 11827, 11830, 11831, 11832, 11833, 11836, 11844, 11845, 11846, 11847, 11848, 11851, 11856, 11857, 11859, 11860, 11861, 11863, 11866, 11867, 11869, 11873, 11874, 11876, 11878, 11879, 11881, 11882, 11883, 11884, 11885, 11887, 11890, 11892, 11896, 11897, 11898, 11899, 11900, 11901, 11902, 11904, 11908, 11909, 11913, 11914, 11915, 11916, 11917, 11918, 11919, 11920, 11922, 11924, 11925, 11926, 11928, 11929, 11930, 11931, 11932, 11936, 11937, 11940, 11943, 11945, 11948, 11949, 11951, 11952, 11955, 11956, 11957, 11962, 11963, 11964, 11965, 11968, 11969, 11970, 11972, 11973, 11976, 11977, 11978, 11981, 11982, 11983, 11989, 11995, 12001, 12002, 12003, 12005, 12007, 12008, 12009, 12010, 12012, 12014, 12016, 12017, 12019, 12020, 12021, 12022, 12026, 12031, 12032, 12034, 12035, 12036, 12037, 12043, 12044, 12045, 12048, 12049, 12050, 12051, 12053, 12054, 12055, 12059, 12061, 12063, 12066, 12068, 12070, 12071, 12072, 12073, 12075, 12078, 12082, 12084, 12085, 12086, 12088, 12090, 12091, 12093, 12094, 12096, 12098, 12099, 12100, 12102, 12103, 12104, 12105, 12107, 12109, 12110, 12114, 12115, 12118, 12122, 12123, 12124, 12125, 12126, 12127, 12128, 12129, 12132, 12134, 12137, 12138, 12139, 12141, 12145, 12146, 12150, 12151, 12152, 12153, 12155, 12157, 12158, 12160, 12164, 12165, 12166, 12170, 12171, 12175, 12176, 12181, 12182, 12185, 12190, 12192, 12199, 12201, 12202, 12203, 12204, 12206, 12207, 12209, 12210, 12211, 12212, 12214, 12215, 12217, 12225, 12226, 12227, 12229, 12230, 12233, 12235, 12236, 12237, 12239, 12240, 12241, 12243, 12245, 12246, 12247, 12248, 12250, 12253, 12256, 12260, 12264, 12265, 12268, 12269, 12272, 12274, 12275, 12277, 12279, 12280, 12281, 12282, 12283, 12285, 12286, 12287, 12292, 12293, 12295, 12296, 12297, 12299, 12300, 12301, 12302, 12303, 12304, 12305, 12306, 12308, 12309, 12315, 12316, 12318, 12319, 12320, 12322, 12326, 12327, 12328, 12329, 12330, 12332, 12333, 12334, 12338, 12339, 12340, 12342, 12343, 12345, 12346, 12347, 12348, 12352, 12354, 12355, 12356, 12358, 12359, 12361, 12363, 12364, 12365, 12366, 12369, 12370, 12371, 12372, 12373, 12375, 12377, 12382, 12385, 12386, 12387, 12391, 12393, 12394, 12398, 12399, 12400, 12402, 12407, 12408, 12413, 12415, 12416, 12419, 12420, 12423, 12424, 12426, 12427, 12428, 12429, 12430, 12432, 12433, 12434, 12440, 12442, 12444, 12445, 12452, 12454, 12455, 12457, 12458, 12460, 12463, 12464, 12466, 12467, 12473, 12474, 12475, 12476, 12478, 12481, 12484, 12485, 12487, 12491, 12492, 12493, 12494, 12497, 12498, 12499], [5, 7, 8, 14, 24, 34, 37, 40, 44, 50, 54, 55, 58, 59, 65, 66, 67, 75, 80, 81, 86, 87, 88, 91, 92, 100, 102, 103, 104, 107, 109, 111, 112, 115, 122, 134, 138, 139, 141, 147, 151, 154, 155, 162, 163, 176, 177, 180, 188, 190, 191, 195, 198, 199, 201, 208, 209, 211, 214, 219, 221, 222, 223, 224, 225, 226, 231, 236, 239, 246, 247, 250, 252, 253, 254, 255, 257, 258, 260, 262, 267, 272, 273, 278, 282, 285, 287, 288, 289, 290, 291, 294, 295, 307, 308, 309, 312, 314, 322, 323, 325, 326, 329, 330, 332, 334, 336, 337, 338, 339, 345, 346, 348, 350, 354, 357, 362, 364, 365, 367, 373, 376, 377, 387, 391, 392, 397, 404, 407, 410, 418, 423, 425, 429, 434, 441, 445, 446, 448, 453, 455, 460, 461, 465, 472, 473, 478, 479, 483, 486, 488, 491, 492, 497, 499, 501, 502, 505, 506, 509, 512, 514, 519, 520, 526, 529, 532, 535, 539, 540, 541, 542, 543, 544, 545, 547, 549, 557, 559, 561, 566, 567, 571, 572, 580, 585, 593, 594, 597, 601, 604, 605, 606, 607, 609, 615, 618, 620, 623, 627, 632, 634, 640, 642, 644, 645, 646, 648, 649, 659, 662, 664, 666, 668, 669, 670, 675, 679, 682, 683, 685, 687, 688, 691, 697, 698, 699, 701, 704, 709, 710, 711, 712, 713, 716, 718, 721, 723, 726, 729, 732, 733, 736, 739, 745, 752, 754, 756, 758, 759, 760, 761, 771, 780, 783, 785, 786, 789, 792, 794, 797, 800, 804, 809, 814, 817, 818, 823, 825, 827, 829, 831, 834, 838, 850, 856, 857, 858, 861, 862, 864, 870, 871, 872, 874, 878, 879, 882, 886, 890, 892, 893, 894, 896, 897, 898, 900, 901, 902, 908, 910, 918, 926, 935, 937, 940, 944, 951, 952, 953, 955, 958, 963, 969, 971, 973, 974, 975, 976, 982, 983, 984, 988, 989, 990, 991, 994, 996, 997, 998, 999, 1001, 1002, 1003, 1014, 1015, 1017, 1022, 1027, 1031, 1032, 1036, 1038, 1040, 1042, 1043, 1046, 1050, 1051, 1054, 1056, 1057, 1061, 1062, 1063, 1069, 1071, 1074, 1091, 1092, 1093, 1095, 1098, 1099, 1100, 1101, 1106, 1110, 1111, 1116, 1117, 1121, 1125, 1127, 1135, 1136, 1139, 1142, 1143, 1145, 1149, 1150, 1152, 1153, 1154, 1156, 1158, 1159, 1160, 1161, 1164, 1167, 1168, 1169, 1170, 1175, 1179, 1181, 1184, 1186, 1190, 1194, 1196, 1197, 1199, 1201, 1205, 1210, 1211, 1212, 1214, 1221, 1223, 1224, 1225, 1226, 1227, 1228, 1229, 1230, 1234, 1235, 1237, 1239, 1241, 1242, 1247, 1253, 1258, 1260, 1265, 1266, 1269, 1272, 1273, 1276, 1277, 1288, 1289, 1295, 1299, 1300, 1304, 1306, 1308, 1309, 1315, 1318, 1322, 1338, 1339, 1343, 1345, 1350, 1355, 1356, 1358, 1360, 1361, 1362, 1363, 1364, 1365, 1366, 1367, 1368, 1369, 1373, 1374, 1375, 1379, 1382, 1383, 1388, 1390, 1396, 1397, 1398, 1401, 1404, 1405, 1406, 1415, 1417, 1420, 1423, 1424, 1425, 1426, 1428, 1433, 1434, 1435, 1438, 1442, 1443, 1445, 1447, 1449, 1456, 1463, 1464, 1469, 1471, 1473, 1486, 1488, 1489, 1492, 1497, 1498, 1501, 1502, 1504, 1505, 1506, 1513, 1516, 1517, 1524, 1525, 1528, 1530, 1531, 1532, 1535, 1541, 1542, 1543, 1547, 1548, 1549, 1553, 1554, 1555, 1557, 1560, 1562, 1563, 1565, 1566, 1567, 1568, 1570, 1573, 1575, 1579, 1580, 1587, 1591, 1592, 1595, 1596, 1600, 1605, 1608, 1616, 1619, 1622, 1625, 1630, 1635, 1636, 1638, 1640, 1644, 1645, 1649, 1650, 1651, 1652, 1653, 1656, 1662, 1665, 1673, 1675, 1679, 1681, 1683, 1684, 1686, 1692, 1693, 1695, 1696, 1697, 1699, 1704, 1712, 1716, 1719, 1725, 1729, 1730, 1731, 1735, 1736, 1737, 1739, 1745, 1749, 1752, 1755, 1757, 1761, 1762, 1763, 1765, 1766, 1768, 1771, 1780, 1782, 1785, 1786, 1787, 1790, 1793, 1798, 1800, 1804, 1805, 1816, 1819, 1823, 1828, 1833, 1835, 1840, 1843, 1844, 1847, 1848, 1851, 1852, 1853, 1854, 1857, 1858, 1860, 1867, 1868, 1869, 1870, 1872, 1874, 1876, 1878, 1880, 1882, 1883, 1884, 1885, 1888, 1889, 1892, 1896, 1897, 1899, 1900, 1908, 1910, 1911, 1913, 1916, 1920, 1926, 1933, 1935, 1937, 1943, 1945, 1946, 1951, 1952, 1956, 1958, 1959, 1961, 1963, 1965, 1966, 1967, 1968, 1969, 1971, 1974, 1975, 1987, 1988, 1994, 1995, 2000, 2003, 2010, 2013, 2017, 2022, 2024, 2027, 2031, 2034, 2042, 2043, 2046, 2049, 2050, 2051, 2053, 2058, 2063, 2064, 2065, 2070, 2079, 2080, 2085, 2086, 2087, 2090, 2091, 2101, 2103, 2106, 2110, 2115, 2124, 2126, 2131, 2134, 2141, 2143, 2146, 2148, 2152, 2153, 2154, 2155, 2161, 2162, 2169, 2175, 2178, 2183, 2185, 2191, 2193, 2195, 2203, 2204, 2216, 2223, 2224, 2227, 2229, 2234, 2236, 2237, 2238, 2239, 2246, 2247, 2249, 2254, 2264, 2265, 2268, 2272, 2273, 2274, 2275, 2278, 2279, 2282, 2283, 2284, 2285, 2287, 2288, 2290, 2291, 2292, 2294, 2296, 2300, 2301, 2302, 2307, 2308, 2312, 2315, 2319, 2320, 2321, 2322, 2323, 2324, 2326, 2327, 2333, 2334, 2336, 2337, 2340, 2341, 2345, 2347, 2349, 2351, 2353, 2371, 2374, 2376, 2377, 2384, 2388, 2393, 2397, 2403, 2406, 2408, 2413, 2415, 2417, 2418, 2419, 2421, 2423, 2425, 2428, 2432, 2434, 2438, 2443, 2444, 2445, 2447, 2449, 2450, 2451, 2454, 2456, 2457, 2460, 2461, 2463, 2467, 2471, 2474, 2476, 2482, 2484, 2485, 2492, 2493, 2498, 2499, 2500, 2503, 2505, 2515, 2516, 2520, 2522, 2528, 2532, 2533, 2535, 2543, 2544, 2545, 2547, 2550, 2554, 2555, 2558, 2560, 2563, 2566, 2569, 2570, 2578, 2586, 2587, 2598, 2604, 2605, 2608, 2611, 2615, 2616, 2619, 2621, 2628, 2630, 2633, 2634, 2637, 2638, 2639, 2657, 2661, 2662, 2663, 2670, 2676, 2682, 2684, 2686, 2689, 2692, 2694, 2695, 2696, 2699, 2701, 2703, 2708, 2709, 2726, 2727, 2728, 2729, 2732, 2734, 2736, 2741, 2742, 2744, 2745, 2748, 2750, 2751, 2752, 2753, 2754, 2755, 2757, 2761, 2764, 2765, 2768, 2771, 2772, 2775, 2779, 2784, 2785, 2793, 2799, 2800, 2805, 2808, 2809, 2810, 2813, 2816, 2818, 2819, 2822, 2825, 2828, 2832, 2836, 2842, 2843, 2845, 2846, 2851, 2852, 2853, 2856, 2857, 2858, 2861, 2863, 2866, 2868, 2871, 2872, 2883, 2884, 2886, 2888, 2891, 2892, 2896, 2897, 2899, 2905, 2908, 2914, 2917, 2918, 2919, 2920, 2922, 2925, 2932, 2933, 2936, 2938, 2942, 2943, 2945, 2949, 2955, 2957, 2958, 2959, 2964, 2972, 2977, 2979, 2982, 2986, 2988, 2990, 2995, 2998, 2999, 3000, 3003, 3006, 3007, 3008, 3011, 3012, 3015, 3016, 3017, 3018, 3025, 3026, 3032, 3033, 3038, 3042, 3048, 3050, 3051, 3056, 3057, 3058, 3062, 3073, 3074, 3080, 3084, 3091, 3093, 3094, 3095, 3096, 3102, 3106, 3107, 3113, 3114, 3116, 3119, 3122, 3125, 3128, 3129, 3131, 3133, 3139, 3140, 3144, 3149, 3154, 3158, 3160, 3161, 3163, 3164, 3165, 3168, 3169, 3173, 3176, 3180, 3182, 3185, 3187, 3191, 3192, 3199, 3200, 3203, 3205, 3206, 3210, 3211, 3215, 3216, 3223, 3225, 3231, 3232, 3237, 3238, 3244, 3247, 3248, 3250, 3253, 3256, 3257, 3259, 3260, 3265, 3271, 3272, 3273, 3274, 3275, 3276, 3277, 3278, 3279, 3286, 3288, 3291, 3292, 3299, 3300, 3303, 3317, 3318, 3327, 3328, 3330, 3331, 3332, 3335, 3336, 3338, 3349, 3355, 3358, 3371, 3377, 3379, 3386, 3387, 3389, 3390, 3400, 3402, 3404, 3405, 3407, 3408, 3418, 3420, 3421, 3422, 3425, 3426, 3427, 3428, 3433, 3437, 3439, 3443, 3446, 3449, 3452, 3457, 3459, 3463, 3466, 3468, 3469, 3474, 3475, 3476, 3480, 3483, 3484, 3488, 3495, 3497, 3499, 3500, 3501, 3504, 3505, 3506, 3507, 3510, 3512, 3517, 3523, 3525, 3532, 3537, 3540, 3543, 3544, 3548, 3550, 3554, 3555, 3557, 3559, 3560, 3564, 3565, 3566, 3570, 3571, 3575, 3583, 3584, 3588, 3592, 3594, 3595, 3596, 3597, 3600, 3603, 3604, 3610, 3611, 3615, 3617, 3618, 3620, 3621, 3626, 3627, 3629, 3631, 3633, 3634, 3640, 3642, 3644, 3646, 3649, 3650, 3652, 3655, 3657, 3658, 3661, 3662, 3664, 3665, 3669, 3670, 3675, 3678, 3679, 3680, 3681, 3682, 3684, 3688, 3692, 3697, 3698, 3699, 3702, 3704, 3711, 3716, 3718, 3719, 3720, 3725, 3727, 3730, 3731, 3732, 3734, 3738, 3740, 3748, 3750, 3759, 3760, 3761, 3768, 3769, 3771, 3773, 3774, 3777, 3779, 3780, 3781, 3783, 3787, 3791, 3792, 3793, 3794, 3796, 3797, 3798, 3802, 3803, 3807, 3812, 3815, 3820, 3821, 3822, 3827, 3832, 3835, 3836, 3837, 3839, 3840, 3841, 3842, 3844, 3845, 3846, 3854, 3855, 3859, 3860, 3861, 3863, 3871, 3872, 3873, 3879, 3880, 3881, 3886, 3888, 3891, 3896, 3902, 3904, 3905, 3907, 3910, 3921, 3922, 3926, 3931, 3937, 3938, 3942, 3943, 3945, 3946, 3948, 3951, 3962, 3963, 3966, 3967, 3968, 3969, 3972, 3974, 3975, 3976, 3977, 3979, 3982, 3988, 3989, 3994, 3997, 3998, 4001, 4002, 4006, 4009, 4016, 4019, 4020, 4026, 4031, 4033, 4039, 4041, 4052, 4053, 4054, 4055, 4057, 4058, 4059, 4061, 4062, 4067, 4068, 4072, 4073, 4082, 4084, 4087, 4088, 4091, 4099, 4101, 4102, 4110, 4111, 4112, 4115, 4134, 4141, 4142, 4143, 4150, 4160, 4161, 4162, 4165, 4166, 4169, 4172, 4173, 4177, 4179, 4185, 4193, 4196, 4199, 4206, 4210, 4213, 4214, 4215, 4216, 4224, 4226, 4229, 4231, 4235, 4236, 4241, 4255, 4256, 4258, 4261, 4262, 4263, 4264, 4266, 4271, 4273, 4274, 4282, 4285, 4286, 4287, 4288, 4290, 4292, 4301, 4303, 4307, 4309, 4312, 4316, 4318, 4319, 4327, 4328, 4329, 4331, 4332, 4335, 4341, 4342, 4344, 4347, 4350, 4356, 4357, 4358, 4360, 4362, 4363, 4369, 4371, 4373, 4374, 4378, 4381, 4383, 4385, 4388, 4392, 4394, 4395, 4400, 4401, 4407, 4408, 4409, 4411, 4412, 4418, 4422, 4425, 4427, 4430, 4433, 4437, 4439, 4440, 4441, 4444, 4446, 4447, 4448, 4449, 4460, 4461, 4463, 4464, 4469, 4470, 4471, 4472, 4474, 4480, 4481, 4482, 4483, 4485, 4502, 4503, 4507, 4509, 4512, 4514, 4515, 4520, 4521, 4523, 4525, 4526, 4533, 4535, 4537, 4542, 4546, 4550, 4552, 4554, 4555, 4559, 4560, 4562, 4563, 4565, 4569, 4570, 4583, 4584, 4591, 4594, 4598, 4599, 4600, 4603, 4604, 4606, 4609, 4610, 4611, 4621, 4622, 4635, 4637, 4640, 4655, 4656, 4659, 4668, 4673, 4678, 4679, 4681, 4682, 4685, 4688, 4694, 4695, 4699, 4706, 4709, 4711, 4713, 4718, 4719, 4721, 4723, 4725, 4728, 4730, 4733, 4734, 4735, 4736, 4745, 4749, 4751, 4761, 4767, 4775, 4776, 4777, 4778, 4779, 4787, 4789, 4798, 4801, 4802, 4803, 4805, 4812, 4814, 4815, 4817, 4824, 4826, 4829, 4834, 4835, 4836, 4842, 4843, 4844, 4849, 4850, 4853, 4854, 4859, 4860, 4864, 4868, 4869, 4876, 4877, 4879, 4881, 4883, 4884, 4885, 4888, 4892, 4893, 4895, 4900, 4903, 4910, 4914, 4917, 4918, 4919, 4920, 4924, 4925, 4932, 4935, 4939, 4946, 4952, 4954, 4955, 4957, 4958, 4959, 4965, 4968, 4970, 4971, 4974, 4975, 4984, 4985, 4988, 4991, 4992, 4995, 4999, 5000, 5001, 5002, 5003, 5005, 5007, 5008, 5013, 5016, 5026, 5030, 5032, 5039, 5040, 5041, 5045, 5050, 5064, 5066, 5068, 5070, 5073, 5075, 5078, 5079, 5081, 5087, 5088, 5092, 5094, 5095, 5100, 5103, 5104, 5106, 5107, 5108, 5113, 5115, 5116, 5117, 5121, 5124, 5130, 5136, 5141, 5152, 5156, 5160, 5161, 5166, 5167, 5168, 5169, 5170, 5173, 5175, 5178, 5181, 5186, 5188, 5189, 5190, 5192, 5195, 5196, 5198, 5200, 5202, 5203, 5205, 5207, 5214, 5215, 5216, 5218, 5219, 5224, 5225, 5230, 5231, 5232, 5236, 5242, 5244, 5248, 5250, 5251, 5252, 5253, 5259, 5260, 5263, 5266, 5268, 5271, 5273, 5279, 5281, 5284, 5296, 5297, 5301, 5302, 5309, 5311, 5318, 5322, 5326, 5329, 5337, 5339, 5340, 5341, 5343, 5350, 5353, 5355, 5357, 5363, 5366, 5370, 5372, 5375, 5377, 5378, 5382, 5383, 5386, 5388, 5393, 5395, 5398, 5399, 5401, 5404, 5406, 5407, 5408, 5410, 5411, 5413, 5414, 5415, 5416, 5418, 5420, 5423, 5424, 5426, 5427, 5428, 5433, 5435, 5437, 5442, 5446, 5449, 5451, 5454, 5471, 5472, 5473, 5474, 5475, 5480, 5488, 5490, 5492, 5497, 5503, 5507, 5508, 5510, 5511, 5514, 5515, 5518, 5520, 5522, 5523, 5524, 5539, 5546, 5547, 5553, 5558, 5559, 5562, 5565, 5566, 5567, 5568, 5571, 5573, 5574, 5583, 5584, 5585, 5588, 5592, 5595, 5597, 5601, 5605, 5606, 5607, 5608, 5610, 5611, 5612, 5615, 5616, 5618, 5624, 5625, 5626, 5628, 5631, 5635, 5643, 5644, 5651, 5652, 5653, 5654, 5661, 5665, 5667, 5668, 5674, 5677, 5678, 5688, 5689, 5691, 5692, 5693, 5695, 5696, 5702, 5703, 5706, 5709, 5713, 5715, 5718, 5725, 5726, 5728, 5730, 5734, 5737, 5740, 5741, 5742, 5749, 5750, 5755, 5757, 5758, 5762, 5764, 5767, 5771, 5772, 5773, 5777, 5781, 5783, 5786, 5788, 5799, 5805, 5808, 5809, 5813, 5815, 5816, 5822, 5823, 5824, 5825, 5827, 5834, 5838, 5839, 5842, 5843, 5844, 5845, 5846, 5855, 5860, 5864, 5866, 5870, 5872, 5878, 5888, 5889, 5892, 5899, 5901, 5904, 5911, 5914, 5918, 5919, 5920, 5922, 5929, 5931, 5932, 5933, 5935, 5936, 5937, 5938, 5944, 5946, 5948, 5950, 5954, 5956, 5960, 5963, 5969, 5970, 5976, 5978, 5980, 5985, 5988, 5991, 5992, 6013, 6027, 6029, 6030, 6033, 6038, 6040, 6046, 6048, 6050, 6054, 6061, 6068, 6070, 6071, 6072, 6077, 6078, 6080, 6081, 6085, 6089, 6092, 6100, 6104, 6106, 6114, 6120, 6123, 6124, 6125, 6128, 6129, 6131, 6132, 6133, 6142, 6143, 6145, 6149, 6151, 6155, 6169, 6170, 6171, 6173, 6174, 6175, 6191, 6192, 6193, 6194, 6195, 6196, 6199, 6204, 6205, 6206, 6209, 6211, 6214, 6215, 6223, 6224, 6225, 6236, 6237, 6240, 6241, 6245, 6246, 6247, 6248, 6249, 6254, 6257, 6261, 6266, 6270, 6272, 6274, 6279, 6280, 6283, 6284, 6286, 6291, 6292, 6295, 6301, 6312, 6319, 6322, 6325, 6329, 6332, 6338, 6340, 6341, 6343, 6344, 6348, 6355, 6356, 6358, 6363, 6369, 6372, 6373, 6376, 6377, 6378, 6379, 6381, 6388, 6391, 6398, 6399, 6400, 6402, 6405, 6407, 6411, 6414, 6416, 6417, 6420, 6425, 6431, 6445, 6452, 6460, 6461, 6467, 6469, 6471, 6472, 6473, 6474, 6475, 6476, 6477, 6478, 6479, 6481, 6484, 6486, 6488, 6498, 6501, 6503, 6509, 6511, 6516, 6521, 6523, 6524, 6530, 6536, 6537, 6538, 6542, 6547, 6552, 6553, 6554, 6555, 6556, 6558, 6563, 6565, 6572, 6573, 6574, 6576, 6577, 6579, 6580, 6585, 6586, 6591, 6593, 6595, 6596, 6602, 6603, 6612, 6613, 6619, 6621, 6624, 6625, 6631, 6634, 6641, 6642, 6643, 6645, 6647, 6649, 6657, 6659, 6668, 6670, 6672, 6674, 6677, 6678, 6681, 6684, 6685, 6686, 6696, 6697, 6698, 6699, 6700, 6703, 6707, 6710, 6712, 6713, 6715, 6721, 6722, 6724, 6726, 6730, 6731, 6732, 6733, 6734, 6745, 6746, 6747, 6755, 6756, 6762, 6765, 6768, 6774, 6779, 6780, 6782, 6783, 6784, 6786, 6789, 6791, 6795, 6797, 6799, 6801, 6803, 6804, 6808, 6809, 6811, 6814, 6821, 6822, 6837, 6839, 6843, 6844, 6849, 6850, 6852, 6855, 6857, 6860, 6861, 6862, 6864, 6866, 6868, 6871, 6873, 6875, 6881, 6883, 6884, 6885, 6886, 6889, 6895, 6896, 6897, 6906, 6912, 6914, 6915, 6917, 6920, 6921, 6923, 6924, 6925, 6927, 6929, 6932, 6933, 6935, 6936, 6937, 6938, 6942, 6951, 6954, 6955, 6958, 6962, 6966, 6967, 6969, 6970, 6985, 6986, 6988, 6989, 6990, 6992, 6993, 6994, 6995, 6996, 6997, 6998, 7006, 7007, 7008, 7009, 7011, 7012, 7013, 7019, 7020, 7027, 7028, 7037, 7038, 7039, 7041, 7046, 7047, 7053, 7057, 7058, 7059, 7060, 7065, 7067, 7068, 7074, 7078, 7080, 7087, 7088, 7094, 7096, 7103, 7110, 7112, 7114, 7115, 7116, 7121, 7122, 7126, 7133, 7135, 7136, 7142, 7147, 7151, 7154, 7157, 7158, 7159, 7160, 7163, 7164, 7169, 7173, 7175, 7176, 7184, 7185, 7186, 7189, 7190, 7191, 7192, 7193, 7201, 7203, 7205, 7207, 7210, 7213, 7217, 7220, 7221, 7222, 7228, 7230, 7232, 7235, 7236, 7245, 7246, 7249, 7257, 7262, 7268, 7272, 7275, 7276, 7283, 7286, 7287, 7288, 7291, 7292, 7294, 7295, 7296, 7299, 7300, 7305, 7308, 7311, 7314, 7315, 7318, 7319, 7321, 7322, 7324, 7325, 7326, 7328, 7330, 7339, 7343, 7346, 7347, 7353, 7357, 7376, 7378, 7383, 7385, 7386, 7387, 7388, 7389, 7391, 7393, 7395, 7398, 7401, 7404, 7408, 7415, 7419, 7420, 7421, 7422, 7423, 7425, 7430, 7434, 7436, 7439, 7450, 7459, 7462, 7463, 7464, 7465, 7469, 7473, 7479, 7482, 7501, 7503, 7505, 7507, 7510, 7511, 7519, 7520, 7521, 7523, 7527, 7528, 7531, 7534, 7536, 7537, 7544, 7547, 7550, 7552, 7553, 7554, 7562, 7563, 7566, 7569, 7570, 7573, 7574, 7575, 7577, 7580, 7582, 7583, 7585, 7591, 7593, 7595, 7598, 7606, 7607, 7612, 7613, 7615, 7616, 7617, 7620, 7621, 7624, 7631, 7633, 7635, 7636, 7637, 7638, 7643, 7644, 7650, 7651, 7653, 7656, 7657, 7668, 7669, 7675, 7684, 7686, 7689, 7694, 7695, 7699, 7707, 7708, 7709, 7710, 7718, 7719, 7721, 7725, 7729, 7731, 7733, 7735, 7738, 7742, 7745, 7747, 7749, 7751, 7753, 7755, 7756, 7757, 7760, 7763, 7765, 7768, 7775, 7780, 7786, 7787, 7789, 7792, 7795, 7798, 7799, 7800, 7805, 7809, 7810, 7812, 7817, 7818, 7821, 7823, 7824, 7830, 7833, 7835, 7838, 7842, 7855, 7856, 7860, 7862, 7863, 7864, 7865, 7867, 7868, 7871, 7874, 7877, 7879, 7882, 7886, 7888, 7889, 7899, 7904, 7915, 7923, 7926, 7928, 7931, 7932, 7939, 7941, 7944, 7945, 7948, 7949, 7951, 7952, 7963, 7964, 7968, 7969, 7971, 7981, 7986, 7988, 7991, 7992, 7995, 7997, 7999, 8002, 8007, 8008, 8012, 8018, 8021, 8025, 8029, 8030, 8031, 8038, 8042, 8048, 8049, 8051, 8053, 8059, 8063, 8065, 8073, 8075, 8077, 8079, 8080, 8081, 8083, 8093, 8094, 8098, 8102, 8104, 8106, 8107, 8109, 8113, 8117, 8131, 8132, 8141, 8142, 8147, 8150, 8151, 8153, 8155, 8157, 8161, 8162, 8174, 8177, 8178, 8183, 8187, 8190, 8192, 8198, 8199, 8215, 8219, 8222, 8227, 8228, 8232, 8234, 8236, 8238, 8239, 8245, 8249, 8252, 8253, 8254, 8256, 8258, 8265, 8269, 8270, 8272, 8273, 8276, 8283, 8289, 8293, 8295, 8302, 8304, 8306, 8309, 8310, 8312, 8313, 8316, 8317, 8318, 8322, 8325, 8330, 8331, 8332, 8337, 8338, 8341, 8347, 8354, 8356, 8357, 8362, 8366, 8368, 8372, 8378, 8382, 8387, 8388, 8393, 8394, 8395, 8398, 8401, 8402, 8404, 8420, 8427, 8431, 8433, 8434, 8440, 8443, 8444, 8445, 8450, 8452, 8460, 8466, 8468, 8470, 8471, 8472, 8480, 8481, 8483, 8485, 8488, 8496, 8498, 8499, 8500, 8513, 8516, 8518, 8524, 8529, 8534, 8538, 8542, 8545, 8554, 8556, 8557, 8562, 8566, 8568, 8569, 8571, 8574, 8575, 8578, 8580, 8585, 8586, 8593, 8594, 8595, 8596, 8600, 8603, 8605, 8606, 8612, 8613, 8614, 8618, 8622, 8626, 8630, 8631, 8641, 8646, 8648, 8651, 8655, 8661, 8664, 8665, 8668, 8676, 8677, 8679, 8682, 8692, 8694, 8697, 8698, 8702, 8703, 8712, 8713, 8714, 8725, 8727, 8728, 8729, 8733, 8735, 8736, 8742, 8744, 8749, 8750, 8752, 8757, 8758, 8760, 8768, 8772, 8774, 8775, 8779, 8780, 8784, 8785, 8786, 8787, 8789, 8791, 8793, 8794, 8800, 8801, 8803, 8804, 8807, 8808, 8814, 8817, 8818, 8820, 8821, 8822, 8823, 8824, 8826, 8830, 8841, 8845, 8848, 8850, 8852, 8853, 8855, 8858, 8860, 8864, 8866, 8867, 8869, 8870, 8876, 8877, 8879, 8880, 8883, 8891, 8897, 8901, 8903, 8910, 8913, 8914, 8916, 8918, 8920, 8921, 8927, 8931, 8932, 8934, 8936, 8944, 8947, 8950, 8953, 8954, 8956, 8958, 8960, 8962, 8964, 8965, 8966, 8967, 8968, 8969, 8970, 8974, 8976, 8977, 8982, 8985, 8986, 8991, 8992, 8993, 9002, 9004, 9007, 9015, 9016, 9024, 9025, 9031, 9035, 9037, 9039, 9040, 9042, 9046, 9048, 9049, 9052, 9057, 9060, 9063, 9066, 9067, 9068, 9069, 9078, 9080, 9081, 9083, 9084, 9086, 9087, 9089, 9090, 9094, 9096, 9097, 9100, 9103, 9113, 9114, 9115, 9120, 9121, 9122, 9128, 9131, 9134, 9138, 9143, 9144, 9145, 9146, 9151, 9156, 9158, 9160, 9161, 9163, 9166, 9167, 9170, 9171, 9173, 9186, 9190, 9194, 9195, 9200, 9202, 9207, 9213, 9214, 9215, 9217, 9220, 9223, 9232, 9237, 9239, 9240, 9245, 9246, 9247, 9248, 9254, 9255, 9257, 9258, 9259, 9261, 9263, 9265, 9266, 9269, 9271, 9278, 9280, 9284, 9289, 9294, 9297, 9298, 9300, 9301, 9305, 9307, 9312, 9313, 9315, 9316, 9318, 9329, 9332, 9334, 9336, 9337, 9359, 9370, 9377, 9378, 9385, 9386, 9388, 9390, 9396, 9397, 9401, 9402, 9404, 9406, 9408, 9411, 9414, 9417, 9419, 9421, 9429, 9430, 9434, 9451, 9452, 9454, 9463, 9464, 9465, 9468, 9472, 9475, 9478, 9480, 9483, 9484, 9485, 9491, 9495, 9496, 9499, 9500, 9507, 9509, 9510, 9512, 9514, 9516, 9520, 9523, 9525, 9529, 9530, 9534, 9536, 9537, 9539, 9541, 9542, 9545, 9547, 9549, 9559, 9563, 9565, 9569, 9572, 9573, 9574, 9575, 9579, 9580, 9582, 9583, 9586, 9589, 9594, 9606, 9612, 9614, 9615, 9618, 9619, 9620, 9623, 9626, 9627, 9630, 9632, 9638, 9639, 9641, 9644, 9651, 9655, 9656, 9660, 9661, 9663, 9668, 9669, 9671, 9676, 9680, 9681, 9682, 9694, 9696, 9701, 9702, 9704, 9707, 9711, 9713, 9718, 9721, 9724, 9725, 9733, 9738, 9739, 9740, 9744, 9745, 9747, 9748, 9755, 9758, 9760, 9761, 9765, 9767, 9771, 9774, 9777, 9779, 9783, 9785, 9792, 9793, 9799, 9811, 9815, 9817, 9823, 9827, 9828, 9833, 9842, 9845, 9847, 9848, 9855, 9859, 9861, 9864, 9868, 9873, 9881, 9888, 9889, 9895, 9896, 9899, 9902, 9903, 9909, 9911, 9913, 9917, 9918, 9919, 9922, 9923, 9925, 9926, 9928, 9938, 9939, 9941, 9943, 9944, 9945, 9947, 9949, 9952, 9955, 9956, 9960, 9968, 9969, 9971, 9975, 9976, 9977, 9978, 9981, 9983, 9984, 9985, 9986, 9996, 9997, 10000, 10002, 10006, 10009, 10013, 10015, 10016, 10021, 10022, 10029, 10034, 10036, 10037, 10040, 10045, 10046, 10055, 10058, 10060, 10061, 10066, 10068, 10070, 10071, 10079, 10080, 10083, 10086, 10087, 10088, 10093, 10097, 10099, 10102, 10104, 10105, 10108, 10109, 10113, 10114, 10119, 10121, 10126, 10131, 10137, 10138, 10139, 10143, 10146, 10148, 10151, 10154, 10155, 10156, 10161, 10162, 10170, 10171, 10173, 10178, 10179, 10189, 10191, 10193, 10200, 10202, 10203, 10205, 10206, 10207, 10209, 10211, 10212, 10213, 10214, 10216, 10218, 10219, 10221, 10223, 10225, 10227, 10231, 10234, 10238, 10239, 10240, 10243, 10246, 10249, 10254, 10262, 10263, 10264, 10272, 10273, 10274, 10285, 10288, 10289, 10291, 10292, 10294, 10297, 10300, 10301, 10302, 10308, 10309, 10310, 10311, 10313, 10315, 10318, 10319, 10320, 10328, 10330, 10331, 10336, 10339, 10343, 10344, 10345, 10346, 10347, 10348, 10349, 10350, 10351, 10353, 10354, 10360, 10361, 10377, 10383, 10384, 10393, 10394, 10395, 10399, 10400, 10404, 10405, 10414, 10415, 10417, 10418, 10421, 10422, 10423, 10426, 10434, 10437, 10442, 10443, 10444, 10446, 10448, 10454, 10457, 10459, 10465, 10466, 10468, 10475, 10476, 10477, 10479, 10480, 10482, 10488, 10502, 10507, 10516, 10519, 10523, 10526, 10527, 10532, 10533, 10534, 10535, 10537, 10538, 10544, 10545, 10547, 10552, 10554, 10558, 10562, 10563, 10577, 10580, 10582, 10583, 10584, 10585, 10587, 10589, 10592, 10596, 10598, 10600, 10602, 10603, 10604, 10605, 10614, 10615, 10617, 10624, 10625, 10626, 10631, 10633, 10634, 10637, 10640, 10644, 10646, 10648, 10653, 10655, 10657, 10663, 10664, 10665, 10667, 10672, 10675, 10681, 10682, 10683, 10687, 10692, 10693, 10697, 10699, 10700, 10702, 10704, 10705, 10709, 10711, 10713, 10720, 10722, 10725, 10726, 10727, 10736, 10738, 10741, 10742, 10743, 10746, 10747, 10749, 10755, 10756, 10760, 10769, 10770, 10771, 10774, 10778, 10781, 10782, 10786, 10788, 10794, 10795, 10796, 10798, 10799, 10800, 10801, 10807, 10810, 10813, 10814, 10816, 10817, 10823, 10824, 10835, 10836, 10846, 10847, 10850, 10851, 10857, 10860, 10864, 10876, 10885, 10889, 10892, 10893, 10896, 10897, 10904, 10909, 10911, 10912, 10913, 10915, 10918, 10920, 10921, 10928, 10930, 10934, 10938, 10940, 10945, 10948, 10949, 10953, 10956, 10961, 10963, 10964, 10968, 10975, 10980, 10981, 10984, 10986, 10990, 10995, 10996, 10997, 10999, 11000, 11001, 11006, 11010, 11012, 11014, 11019, 11021, 11030, 11032, 11034, 11035, 11036, 11041, 11042, 11044, 11046, 11047, 11050, 11055, 11056, 11057, 11058, 11065, 11068, 11069, 11073, 11077, 11081, 11089, 11090, 11095, 11097, 11099, 11105, 11109, 11119, 11120, 11124, 11125, 11126, 11130, 11137, 11138, 11140, 11142, 11143, 11149, 11151, 11153, 11154, 11161, 11164, 11168, 11171, 11172, 11173, 11175, 11180, 11181, 11183, 11186, 11190, 11191, 11192, 11193, 11195, 11198, 11201, 11205, 11207, 11216, 11218, 11220, 11221, 11222, 11223, 11233, 11235, 11242, 11245, 11254, 11258, 11262, 11264, 11266, 11268, 11271, 11272, 11279, 11280, 11281, 11282, 11284, 11286, 11291, 11292, 11297, 11299, 11300, 11301, 11303, 11307, 11311, 11315, 11317, 11321, 11329, 11331, 11332, 11334, 11337, 11339, 11340, 11342, 11343, 11346, 11352, 11354, 11355, 11356, 11358, 11360, 11361, 11362, 11366, 11369, 11371, 11378, 11381, 11382, 11385, 11386, 11388, 11389, 11390, 11391, 11401, 11403, 11404, 11406, 11407, 11411, 11418, 11419, 11426, 11438, 11441, 11442, 11446, 11448, 11452, 11456, 11460, 11465, 11466, 11467, 11472, 11474, 11476, 11477, 11483, 11485, 11486, 11487, 11488, 11494, 11495, 11497, 11500, 11502, 11504, 11508, 11513, 11514, 11515, 11516, 11517, 11521, 11522, 11523, 11530, 11531, 11532, 11535, 11536, 11537, 11538, 11539, 11541, 11545, 11547, 11548, 11554, 11555, 11557, 11565, 11566, 11567, 11569, 11571, 11572, 11574, 11575, 11577, 11578, 11580, 11581, 11582, 11585, 11586, 11590, 11593, 11597, 11599, 11601, 11607, 11612, 11614, 11616, 11619, 11621, 11623, 11625, 11626, 11627, 11628, 11630, 11633, 11634, 11635, 11639, 11640, 11641, 11642, 11644, 11645, 11652, 11653, 11656, 11660, 11662, 11671, 11673, 11674, 11679, 11680, 11689, 11690, 11698, 11699, 11700, 11702, 11707, 11708, 11713, 11716, 11719, 11723, 11724, 11725, 11726, 11733, 11738, 11739, 11740, 11742, 11744, 11745, 11746, 11749, 11763, 11767, 11769, 11771, 11778, 11779, 11782, 11789, 11790, 11791, 11795, 11798, 11800, 11803, 11810, 11813, 11814, 11821, 11824, 11826, 11828, 11829, 11835, 11837, 11839, 11841, 11843, 11852, 11853, 11854, 11855, 11858, 11864, 11865, 11870, 11871, 11872, 11875, 11877, 11880, 11886, 11889, 11891, 11893, 11894, 11895, 11903, 11905, 11910, 11911, 11921, 11927, 11933, 11934, 11935, 11939, 11944, 11946, 11947, 11950, 11953, 11959, 11960, 11967, 11974, 11975, 11980, 11985, 11986, 11987, 11988, 11990, 11991, 11993, 11996, 11997, 11998, 11999, 12011, 12013, 12018, 12023, 12024, 12025, 12028, 12029, 12033, 12039, 12040, 12046, 12047, 12052, 12056, 12058, 12062, 12065, 12067, 12074, 12076, 12079, 12080, 12081, 12083, 12087, 12097, 12108, 12112, 12113, 12116, 12117, 12120, 12130, 12131, 12133, 12135, 12140, 12142, 12143, 12144, 12147, 12156, 12159, 12163, 12167, 12168, 12169, 12172, 12178, 12180, 12183, 12186, 12187, 12189, 12191, 12193, 12194, 12195, 12198, 12200, 12205, 12208, 12213, 12216, 12219, 12220, 12222, 12223, 12224, 12228, 12231, 12232, 12244, 12249, 12252, 12257, 12259, 12261, 12262, 12266, 12267, 12271, 12273, 12276, 12284, 12288, 12289, 12290, 12291, 12294, 12307, 12310, 12312, 12313, 12321, 12323, 12324, 12335, 12336, 12341, 12349, 12350, 12351, 12353, 12357, 12362, 12367, 12368, 12374, 12379, 12380, 12381, 12384, 12390, 12392, 12396, 12397, 12401, 12405, 12409, 12410, 12412, 12414, 12417, 12422, 12425, 12431, 12435, 12436, 12437, 12438, 12439, 12447, 12449, 12450, 12453, 12456, 12459, 12465, 12468, 12470, 12471, 12477, 12479, 12480, 12482, 12489, 12490, 12496], [], [11, 15, 19, 38, 43, 48, 57, 69, 77, 110, 127, 132, 135, 143, 144, 172, 178, 187, 196, 202, 206, 213, 218, 232, 263, 265, 269, 286, 297, 306, 310, 315, 335, 352, 353, 359, 380, 382, 394, 401, 412, 421, 435, 442, 443, 470, 493, 522, 530, 531, 538, 556, 568, 578, 584, 588, 602, 630, 656, 657, 661, 663, 692, 693, 694, 700, 720, 730, 748, 749, 753, 764, 765, 788, 820, 824, 836, 845, 855, 865, 866, 869, 881, 889, 891, 913, 915, 928, 932, 933, 945, 946, 949, 957, 965, 1013, 1021, 1047, 1060, 1070, 1080, 1082, 1083, 1084, 1085, 1088, 1108, 1114, 1120, 1123, 1134, 1157, 1163, 1178, 1183, 1188, 1198, 1200, 1203, 1207, 1209, 1233, 1236, 1244, 1246, 1251, 1262, 1281, 1283, 1284, 1293, 1305, 1312, 1325, 1328, 1332, 1344, 1351, 1352, 1372, 1389, 1400, 1409, 1414, 1418, 1453, 1459, 1460, 1468, 1482, 1496, 1499, 1503, 1514, 1522, 1533, 1539, 1544, 1558, 1561, 1589, 1594, 1601, 1611, 1612, 1614, 1634, 1655, 1658, 1667, 1668, 1669, 1678, 1680, 1687, 1688, 1690, 1691, 1698, 1701, 1710, 1720, 1721, 1742, 1759, 1775, 1792, 1812, 1824, 1825, 1826, 1830, 1841, 1845, 1850, 1856, 1859, 1861, 1866, 1879, 1886, 1887, 1893, 1898, 1904, 1909, 1912, 1917, 1925, 1927, 1944, 1947, 1948, 1964, 1976, 1983, 1990, 1991, 1996, 1998, 2007, 2011, 2020, 2023, 2028, 2041, 2045, 2061, 2067, 2076, 2081, 2092, 2096, 2102, 2111, 2125, 2127, 2128, 2133, 2139, 2171, 2176, 2197, 2208, 2213, 2215, 2251, 2267, 2269, 2270, 2293, 2314, 2316, 2317, 2330, 2332, 2354, 2355, 2361, 2369, 2373, 2380, 2389, 2391, 2400, 2436, 2440, 2446, 2459, 2480, 2491, 2506, 2525, 2529, 2531, 2539, 2541, 2553, 2565, 2575, 2581, 2589, 2591, 2592, 2597, 2599, 2601, 2602, 2606, 2610, 2617, 2626, 2629, 2635, 2653, 2654, 2659, 2665, 2681, 2707, 2710, 2715, 2716, 2717, 2733, 2776, 2783, 2786, 2789, 2794, 2802, 2803, 2806, 2814, 2826, 2830, 2834, 2838, 2840, 2841, 2849, 2865, 2867, 2876, 2898, 2927, 2948, 2954, 2974, 2989, 2994, 3002, 3010, 3019, 3024, 3028, 3031, 3047, 3049, 3060, 3067, 3068, 3070, 3078, 3079, 3090, 3098, 3099, 3105, 3127, 3142, 3162, 3170, 3171, 3195, 3197, 3198, 3212, 3219, 3222, 3228, 3235, 3239, 3240, 3241, 3261, 3262, 3280, 3283, 3290, 3297, 3312, 3316, 3320, 3337, 3345, 3348, 3351, 3356, 3360, 3365, 3373, 3381, 3382, 3399, 3419, 3431, 3435, 3444, 3450, 3454, 3461, 3462, 3465, 3467, 3492, 3494, 3502, 3511, 3518, 3519, 3529, 3533, 3562, 3563, 3574, 3581, 3586, 3587, 3593, 3605, 3632, 3635, 3667, 3674, 3686, 3710, 3715, 3721, 3726, 3739, 3757, 3765, 3782, 3795, 3800, 3805, 3808, 3814, 3834, 3867, 3870, 3876, 3883, 3884, 3908, 3916, 3919, 3923, 3929, 3930, 3953, 3954, 3980, 3990, 3991, 4003, 4005, 4012, 4015, 4025, 4028, 4035, 4051, 4064, 4074, 4085, 4092, 4109, 4116, 4124, 4126, 4128, 4131, 4145, 4149, 4153, 4167, 4168, 4170, 4176, 4184, 4187, 4198, 4200, 4218, 4228, 4230, 4238, 4242, 4252, 4254, 4260, 4265, 4270, 4277, 4299, 4314, 4321, 4330, 4333, 4336, 4337, 4351, 4359, 4365, 4393, 4404, 4419, 4435, 4450, 4451, 4454, 4478, 4486, 4488, 4494, 4499, 4530, 4547, 4553, 4558, 4567, 4577, 4597, 4601, 4612, 4614, 4616, 4619, 4633, 4639, 4642, 4644, 4649, 4661, 4686, 4696, 4697, 4701, 4717, 4741, 4753, 4757, 4772, 4774, 4804, 4807, 4808, 4818, 4819, 4823, 4845, 4847, 4848, 4856, 4863, 4880, 4889, 4894, 4896, 4904, 4908, 4927, 4937, 4938, 4960, 4973, 4978, 4979, 4997, 4998, 5014, 5023, 5034, 5046, 5065, 5086, 5089, 5146, 5154, 5164, 5165, 5185, 5201, 5209, 5212, 5220, 5235, 5241, 5254, 5256, 5283, 5292, 5294, 5312, 5317, 5336, 5360, 5367, 5384, 5389, 5390, 5405, 5443, 5455, 5457, 5459, 5465, 5470, 5479, 5487, 5493, 5504, 5506, 5509, 5513, 5528, 5530, 5533, 5538, 5550, 5554, 5557, 5564, 5569, 5578, 5598, 5604, 5621, 5623, 5642, 5645, 5647, 5659, 5669, 5705, 5722, 5731, 5739, 5747, 5751, 5765, 5782, 5792, 5794, 5797, 5804, 5811, 5814, 5817, 5847, 5848, 5859, 5865, 5867, 5881, 5891, 5898, 5900, 5903, 5905, 5925, 5926, 5928, 5943, 5949, 5951, 5953, 5958, 5962, 5965, 5974, 5977, 5989, 6000, 6002, 6004, 6006, 6007, 6009, 6018, 6026, 6034, 6049, 6083, 6084, 6097, 6098, 6099, 6103, 6107, 6111, 6130, 6134, 6159, 6165, 6172, 6181, 6183, 6184, 6185, 6190, 6200, 6202, 6235, 6244, 6262, 6263, 6288, 6314, 6357, 6366, 6368, 6392, 6415, 6419, 6423, 6430, 6440, 6453, 6459, 6462, 6468, 6492, 6496, 6497, 6504, 6507, 6514, 6520, 6529, 6532, 6546, 6549, 6566, 6581, 6587, 6608, 6618, 6626, 6632, 6648, 6654, 6656, 6663, 6664, 6665, 6680, 6691, 6717, 6725, 6729, 6735, 6738, 6742, 6749, 6750, 6751, 6758, 6763, 6767, 6788, 6793, 6796, 6813, 6816, 6820, 6830, 6832, 6845, 6846, 6847, 6851, 6856, 6887, 6902, 6904, 6909, 6916, 6919, 6930, 6943, 6945, 6961, 6982, 6983, 6984, 7001, 7004, 7021, 7033, 7050, 7056, 7061, 7071, 7093, 7106, 7125, 7127, 7137, 7140, 7172, 7178, 7218, 7223, 7233, 7240, 7241, 7242, 7260, 7265, 7281, 7282, 7302, 7316, 7329, 7333, 7336, 7358, 7360, 7365, 7369, 7370, 7390, 7411, 7414, 7424, 7443, 7449, 7453, 7455, 7456, 7468, 7476, 7508, 7518, 7530, 7545, 7558, 7565, 7571, 7578, 7589, 7603, 7604, 7610, 7611, 7630, 7661, 7664, 7672, 7679, 7681, 7682, 7698, 7701, 7726, 7746, 7764, 7767, 7778, 7783, 7793, 7794, 7806, 7813, 7826, 7827, 7848, 7853, 7881, 7884, 7895, 7896, 7921, 7929, 7930, 7935, 7936, 7940, 7955, 7957, 7959, 7962, 7967, 7973, 7983, 7987, 7990, 7996, 8000, 8006, 8010, 8023, 8032, 8035, 8041, 8068, 8070, 8071, 8076, 8084, 8105, 8119, 8124, 8125, 8137, 8152, 8166, 8167, 8181, 8184, 8189, 8200, 8209, 8214, 8216, 8220, 8221, 8223, 8224, 8246, 8257, 8261, 8268, 8277, 8287, 8288, 8294, 8297, 8300, 8305, 8307, 8319, 8324, 8329, 8343, 8348, 8363, 8379, 8390, 8396, 8419, 8425, 8426, 8453, 8457, 8476, 8482, 8489, 8490, 8492, 8506, 8512, 8519, 8523, 8531, 8540, 8561, 8563, 8565, 8570, 8576, 8581, 8597, 8610, 8623, 8627, 8634, 8643, 8645, 8647, 8652, 8657, 8663, 8673, 8675, 8680, 8683, 8709, 8710, 8720, 8721, 8723, 8724, 8726, 8755, 8782, 8790, 8798, 8815, 8816, 8819, 8834, 8837, 8839, 8842, 8843, 8844, 8861, 8862, 8886, 8888, 8889, 8892, 8893, 8898, 8908, 8917, 8922, 8926, 8930, 8939, 8952, 8959, 8961, 8998, 9010, 9014, 9020, 9032, 9038, 9045, 9059, 9064, 9072, 9088, 9107, 9108, 9111, 9117, 9118, 9123, 9126, 9140, 9150, 9176, 9183, 9184, 9185, 9187, 9197, 9212, 9219, 9227, 9236, 9249, 9260, 9272, 9311, 9323, 9348, 9384, 9389, 9395, 9399, 9410, 9413, 9422, 9438, 9439, 9441, 9443, 9450, 9474, 9476, 9488, 9504, 9505, 9513, 9524, 9527, 9552, 9555, 9556, 9557, 9560, 9564, 9568, 9570, 9576, 9577, 9584, 9585, 9604, 9605, 9634, 9636, 9646, 9652, 9653, 9654, 9673, 9675, 9683, 9699, 9708, 9734, 9735, 9751, 9772, 9780, 9786, 9801, 9806, 9807, 9820, 9824, 9829, 9872, 9887, 9892, 9898, 9916, 9931, 9934, 9935, 9964, 9980, 9990, 9993, 10010, 10011, 10023, 10027, 10044, 10048, 10050, 10051, 10067, 10075, 10091, 10092, 10103, 10110, 10122, 10124, 10130, 10134, 10153, 10160, 10164, 10169, 10190, 10192, 10226, 10233, 10248, 10269, 10277, 10290, 10298, 10307, 10329, 10334, 10340, 10341, 10352, 10356, 10358, 10362, 10365, 10375, 10386, 10439, 10445, 10455, 10471, 10472, 10494, 10495, 10496, 10498, 10510, 10512, 10515, 10520, 10524, 10528, 10529, 10536, 10567, 10575, 10576, 10581, 10586, 10593, 10607, 10618, 10622, 10630, 10650, 10654, 10662, 10673, 10689, 10691, 10701, 10719, 10754, 10768, 10772, 10784, 10790, 10805, 10808, 10815, 10829, 10845, 10858, 10862, 10869, 10871, 10895, 10898, 10905, 10907, 10919, 10965, 10967, 10978, 10983, 11004, 11013, 11017, 11027, 11052, 11053, 11054, 11062, 11079, 11093, 11108, 11117, 11121, 11122, 11131, 11145, 11155, 11203, 11211, 11215, 11227, 11249, 11255, 11256, 11261, 11302, 11304, 11305, 11306, 11316, 11325, 11327, 11328, 11330, 11335, 11364, 11372, 11375, 11379, 11392, 11396, 11410, 11413, 11415, 11421, 11423, 11429, 11433, 11439, 11443, 11455, 11462, 11468, 11480, 11519, 11524, 11525, 11533, 11556, 11559, 11560, 11573, 11610, 11613, 11651, 11657, 11666, 11668, 11676, 11684, 11687, 11695, 11705, 11710, 11727, 11728, 11741, 11747, 11755, 11761, 11768, 11773, 11776, 11781, 11788, 11796, 11801, 11804, 11805, 11817, 11819, 11834, 11838, 11840, 11842, 11862, 11868, 11906, 11912, 11938, 11941, 11942, 11954, 11958, 11966, 11971, 11979, 11984, 11992, 11994, 12000, 12004, 12006, 12015, 12027, 12030, 12038, 12041, 12042, 12060, 12064, 12069, 12077, 12089, 12106, 12111, 12119, 12121, 12136, 12149, 12161, 12162, 12173, 12174, 12177, 12179, 12184, 12188, 12221, 12234, 12238, 12242, 12251, 12258, 12270, 12278, 12298, 12317, 12325, 12337, 12344, 12360, 12376, 12388, 12403, 12404, 12406, 12418, 12421, 12446, 12448, 12451, 12461, 12462, 12483, 12495], [4, 12, 13, 47, 64, 74, 101, 105, 160, 183, 227, 244, 298, 388, 408, 431, 468, 480, 485, 513, 563, 579, 603, 653, 702, 706, 707, 717, 731, 777, 816, 830, 847, 859, 920, 980, 985, 1064, 1068, 1089, 1094, 1122, 1124, 1141, 1162, 1165, 1193, 1274, 1291, 1317, 1341, 1354, 1381, 1387, 1391, 1403, 1429, 1451, 1454, 1466, 1478, 1510, 1515, 1519, 1581, 1586, 1593, 1659, 1671, 1677, 1741, 1779, 1784, 1877, 1960, 2095, 2120, 2130, 2150, 2156, 2174, 2200, 2205, 2226, 2242, 2280, 2365, 2401, 2410, 2416, 2429, 2455, 2466, 2472, 2486, 2497, 2501, 2511, 2536, 2572, 2593, 2641, 2655, 2660, 2678, 2679, 2691, 2706, 2723, 2724, 2730, 2817, 2881, 2929, 2931, 2944, 2960, 2968, 2976, 2996, 3009, 3014, 3040, 3046, 3066, 3150, 3233, 3245, 3307, 3346, 3357, 3384, 3396, 3424, 3429, 3470, 3478, 3514, 3528, 3531, 3539, 3568, 3577, 3579, 3589, 3607, 3612, 3616, 3630, 3654, 3685, 3695, 3696, 3817, 3830, 3858, 3882, 3885, 3898, 3899, 3913, 3940, 4013, 4029, 4040, 4042, 4106, 4121, 4183, 4234, 4240, 4257, 4268, 4279, 4339, 4349, 4397, 4421, 4442, 4443, 4462, 4484, 4501, 4508, 4527, 4551, 4628, 4674, 4704, 4712, 4714, 4722, 4729, 4790, 4827, 4846, 4872, 4915, 4929, 4936, 4942, 4950, 4966, 4986, 4990, 5035, 5110, 5122, 5133, 5143, 5171, 5239, 5264, 5285, 5315, 5333, 5345, 5346, 5364, 5381, 5396, 5425, 5429, 5440, 5441, 5447, 5453, 5458, 5463, 5542, 5543, 5563, 5580, 5590, 5638, 5656, 5720, 5727, 5746, 5789, 5802, 5835, 5896, 5921, 5924, 5930, 5955, 5996, 5998, 6022, 6101, 6112, 6137, 6144, 6176, 6219, 6232, 6298, 6306, 6327, 6336, 6349, 6389, 6403, 6404, 6408, 6447, 6480, 6487, 6499, 6582, 6592, 6597, 6606, 6610, 6629, 6638, 6666, 6687, 6692, 6718, 6727, 6754, 6775, 6776, 6792, 6825, 6841, 6898, 6956, 6974, 6981, 7002, 7042, 7105, 7107, 7141, 7156, 7168, 7179, 7188, 7199, 7200, 7204, 7226, 7247, 7342, 7350, 7406, 7447, 7454, 7484, 7495, 7522, 7526, 7541, 7546, 7584, 7608, 7627, 7652, 7663, 7674, 7700, 7704, 7796, 7807, 7814, 7815, 7820, 7905, 7960, 7993, 7994, 8014, 8043, 8047, 8055, 8066, 8072, 8099, 8110, 8138, 8160, 8194, 8211, 8212, 8242, 8266, 8275, 8278, 8279, 8303, 8314, 8344, 8345, 8349, 8369, 8386, 8409, 8462, 8477, 8520, 8550, 8579, 8602, 8628, 8637, 8695, 8711, 8730, 8731, 8732, 8759, 8766, 8805, 8809, 8832, 8863, 8874, 8899, 8915, 8935, 8938, 8981, 8984, 9005, 9030, 9077, 9101, 9104, 9109, 9124, 9142, 9149, 9162, 9192, 9222, 9225, 9226, 9292, 9335, 9342, 9347, 9355, 9367, 9412, 9426, 9449, 9458, 9461, 9479, 9501, 9528, 9548, 9640, 9657, 9659, 9685, 9698, 9700, 9715, 9729, 9768, 9804, 9813, 9830, 9865, 9891, 9894, 9901, 9904, 9962, 9966, 9970, 9989, 10007, 10008, 10012, 10025, 10041, 10116, 10118, 10127, 10129, 10163, 10166, 10180, 10186, 10195, 10280, 10283, 10286, 10338, 10342, 10367, 10391, 10429, 10462, 10463, 10469, 10511, 10525, 10555, 10611, 10632, 10636, 10643, 10730, 10731, 10739, 10765, 10775, 10776, 10797, 10809, 10819, 10821, 10822, 10826, 10834, 10839, 10853, 10863, 10891, 10927, 10932, 10937, 10966, 10977, 10998, 11003, 11015, 11024, 11043, 11060, 11092, 11116, 11141, 11160, 11176, 11194, 11238, 11275, 11276, 11293, 11322, 11338, 11341, 11368, 11461, 11464, 11479, 11505, 11507, 11615, 11638, 11704, 11712, 11722, 11750, 11783, 11786, 11811, 11815, 11888, 11923, 11961, 12092, 12148, 12154, 12196, 12197, 12218, 12254, 12255, 12263, 12311, 12314, 12383, 12389, 12395, 12411, 12441, 12443, 12469, 12486, 12488], [10, 36, 52, 90, 119, 217, 240, 320, 360, 385, 447, 474, 560, 562, 583, 782, 795, 895, 925, 936, 961, 986, 992, 995, 1131, 1191, 1206, 1270, 1392, 1432, 1440, 1450, 1467, 1491, 1521, 1536, 1540, 1564, 1631, 1643, 1663, 1714, 1743, 1906, 2014, 2093, 2097, 2165, 2262, 2385, 2387, 2396, 2475, 2507, 2559, 2700, 2812, 2855, 2869, 2969, 2980, 3004, 3035, 3055, 3065, 3069, 3111, 3136, 3155, 3193, 3220, 3254, 3266, 3281, 3333, 3341, 3352, 3363, 3374, 3397, 3417, 3526, 3580, 3625, 3705, 3723, 3741, 3849, 3933, 3999, 4014, 4065, 4107, 4156, 4182, 4190, 4195, 4247, 4253, 4289, 4313, 4354, 4355, 4420, 4466, 4532, 4578, 4658, 4700, 4702, 4740, 4755, 4765, 4788, 4816, 4825, 4858, 4865, 4909, 4913, 4928, 5004, 5017, 5042, 5091, 5105, 5126, 5139, 5177, 5197, 5211, 5223, 5261, 5287, 5344, 5351, 5373, 5532, 5544, 5716, 5748, 5852, 5917, 6019, 6037, 6044, 6063, 6066, 6113, 6231, 6242, 6258, 6333, 6361, 6390, 6449, 6627, 6679, 6704, 6728, 6772, 6787, 6794, 6842, 6858, 6867, 6910, 6918, 6979, 7025, 7073, 7101, 7215, 7250, 7382, 7490, 7560, 7586, 7648, 7683, 7717, 7739, 7782, 7816, 7844, 7898, 7902, 8045, 8061, 8074, 8114, 8206, 8213, 8403, 8441, 8493, 8508, 8573, 8620, 8635, 8642, 8681, 8688, 8734, 8847, 8854, 8975, 9021, 9070, 9082, 9105, 9147, 9238, 9270, 9273, 9274, 9283, 9324, 9358, 9360, 9379, 9424, 9457, 9493, 9508, 9599, 9624, 9691, 9870, 9884, 9951, 10035, 10076, 10077, 10145, 10176, 10245, 10247, 10259, 10531, 10595, 10613, 10645, 10647, 10674, 10875, 10929, 10946, 11104, 11128, 11134, 11196, 11200, 11247, 11374, 11380, 11424, 11432, 11506, 11583, 11596, 11682, 11688, 11696, 11717, 11792, 11794, 11849, 11850, 11907, 12057, 12095, 12101, 12331, 12378, 12472], []]\n"
          ]
        }
      ],
      "source": [
        "print(clusters7)"
      ]
    },
    {
      "cell_type": "code",
      "execution_count": null,
      "metadata": {
        "colab": {
          "base_uri": "https://localhost:8080/"
        },
        "id": "gcVUfpanAm0q",
        "outputId": "6ae10334-e236-4093-e4a2-adafe9b3f7ae"
      },
      "outputs": [
        {
          "name": "stdout",
          "output_type": "stream",
          "text": [
            "(10000, 42)\n"
          ]
        }
      ],
      "source": [
        "print(test.shape)\n",
        "testclusters7,testconf7=predict(test,centroids7)"
      ]
    },
    {
      "cell_type": "code",
      "execution_count": null,
      "metadata": {
        "colab": {
          "base_uri": "https://localhost:8080/"
        },
        "id": "rfHqE1PGAm0q",
        "outputId": "a2dc24cd-91e2-409c-ee4b-7f3068ab7f4a"
      },
      "outputs": [
        {
          "name": "stdout",
          "output_type": "stream",
          "text": [
            "0.4467\n"
          ]
        }
      ],
      "source": [
        "# make confusion test matrix of k = 7 clusters\n",
        "testconfusion7=makeconftest(clusters7,testconf7,cllabel7)\n",
        "print(np.trace(testconfusion7)/sum(sum(testconfusion7)))"
      ]
    },
    {
      "cell_type": "markdown",
      "metadata": {
        "id": "HM9hc2wg_94t"
      },
      "source": [
        "K = 15"
      ]
    },
    {
      "cell_type": "code",
      "execution_count": null,
      "metadata": {
        "colab": {
          "base_uri": "https://localhost:8080/"
        },
        "id": "c9jIMXep_942",
        "outputId": "597a7fe1-3045-4b8f-8147-c07108952ce3"
      },
      "outputs": [
        {
          "name": "stdout",
          "output_type": "stream",
          "text": [
            "(12500, 42)\n",
            "59541676351087.766\n",
            "inf\n",
            "[0.00000000e+00 2.00000000e+00 9.00000000e+00 0.00000000e+00\n",
            " 9.59556405e+02 0.00000000e+00 0.00000000e+00 0.00000000e+00\n",
            " 0.00000000e+00 0.00000000e+00 0.00000000e+00 0.00000000e+00\n",
            " 0.00000000e+00 0.00000000e+00 0.00000000e+00 0.00000000e+00\n",
            " 0.00000000e+00 0.00000000e+00 0.00000000e+00 0.00000000e+00\n",
            " 0.00000000e+00 0.00000000e+00 5.11000000e+02 5.10998088e+02\n",
            " 0.00000000e+00 0.00000000e+00 0.00000000e+00 0.00000000e+00\n",
            " 1.00000000e+00 0.00000000e+00 0.00000000e+00 2.55000000e+02\n",
            " 2.54931862e+02 9.99732314e-01 4.17173649e-05 9.99732314e-01\n",
            " 0.00000000e+00 6.95289414e-06 0.00000000e+00 3.47644707e-06\n",
            " 0.00000000e+00 4.00000000e+00]\n",
            "[0.00000000e+00 2.00000000e+00 9.00000000e+00 0.00000000e+00\n",
            " 9.59556405e+02 0.00000000e+00 0.00000000e+00 0.00000000e+00\n",
            " 0.00000000e+00 0.00000000e+00 0.00000000e+00 0.00000000e+00\n",
            " 0.00000000e+00 0.00000000e+00 0.00000000e+00 0.00000000e+00\n",
            " 0.00000000e+00 0.00000000e+00 0.00000000e+00 0.00000000e+00\n",
            " 0.00000000e+00 0.00000000e+00 5.11000000e+02 5.10998088e+02\n",
            " 0.00000000e+00 0.00000000e+00 0.00000000e+00 0.00000000e+00\n",
            " 1.00000000e+00 0.00000000e+00 0.00000000e+00 2.55000000e+02\n",
            " 2.54931862e+02 9.99732314e-01 4.17173649e-05 9.99732314e-01\n",
            " 0.00000000e+00 6.95289414e-06 0.00000000e+00 3.47644707e-06\n",
            " 0.00000000e+00 4.00000000e+00]\n"
          ]
        }
      ],
      "source": [
        " # Use the k-means function with the train dataset, 15 clusters\n",
        "centroids15,clusters15,confusion15=kmeans(train,15,100,1)"
      ]
    },
    {
      "cell_type": "code",
      "execution_count": null,
      "metadata": {
        "colab": {
          "base_uri": "https://localhost:8080/"
        },
        "id": "PrTx90B5_942",
        "outputId": "1c9821b3-47d9-4ba4-d528-68547624eee9"
      },
      "outputs": [
        {
          "name": "stdout",
          "output_type": "stream",
          "text": [
            "0.8611311095112391\n"
          ]
        }
      ],
      "source": [
        "# make confusion train matrix of k = 15 clusters\n",
        "trainconfusion15,cllabel15=makeconftrain(clusters15,confusion15,centroids15,15)\n",
        "print(np.trace(trainconfusion15)/sum(sum(trainconfusion15)))"
      ]
    },
    {
      "cell_type": "code",
      "execution_count": null,
      "metadata": {
        "colab": {
          "base_uri": "https://localhost:8080/"
        },
        "id": "om-8X7Wm_942",
        "outputId": "8a219cf2-9b16-43f6-8bd0-eda95e450c3a"
      },
      "outputs": [
        {
          "name": "stdout",
          "output_type": "stream",
          "text": [
            "[[0, 1, 2, 3, 6, 9, 15, 16, 18, 20, 21, 22, 23, 25, 26, 27, 28, 29, 30, 31, 33, 38, 42, 43, 45, 46, 49, 53, 56, 57, 60, 61, 62, 63, 68, 69, 71, 72, 73, 77, 79, 82, 83, 84, 85, 93, 96, 97, 98, 99, 108, 110, 113, 114, 116, 117, 118, 121, 123, 124, 125, 126, 128, 130, 131, 132, 133, 137, 140, 142, 145, 146, 148, 149, 150, 152, 153, 157, 158, 164, 165, 166, 167, 168, 169, 170, 171, 172, 174, 175, 181, 182, 184, 185, 186, 187, 189, 192, 193, 194, 197, 203, 205, 207, 210, 212, 215, 216, 218, 220, 228, 229, 230, 232, 233, 234, 235, 237, 238, 241, 242, 243, 245, 248, 249, 251, 256, 259, 261, 264, 266, 268, 269, 270, 271, 274, 275, 276, 277, 279, 280, 281, 283, 284, 292, 293, 296, 299, 301, 302, 303, 304, 305, 306, 310, 313, 315, 316, 318, 319, 321, 324, 328, 331, 333, 335, 340, 341, 343, 344, 347, 349, 351, 352, 356, 358, 359, 361, 363, 366, 368, 369, 370, 371, 372, 374, 375, 378, 379, 381, 383, 384, 386, 389, 393, 396, 398, 399, 400, 401, 402, 405, 411, 412, 413, 414, 415, 416, 417, 419, 420, 421, 422, 426, 427, 428, 430, 433, 435, 436, 437, 438, 439, 440, 442, 443, 444, 449, 450, 451, 452, 454, 456, 457, 462, 463, 464, 466, 467, 469, 471, 475, 476, 481, 482, 484, 487, 489, 493, 494, 495, 496, 500, 504, 507, 508, 510, 511, 515, 516, 517, 518, 521, 522, 523, 527, 528, 530, 533, 534, 537, 546, 550, 551, 552, 553, 555, 558, 564, 565, 568, 569, 570, 573, 574, 575, 576, 581, 582, 584, 586, 587, 588, 589, 590, 591, 595, 596, 598, 600, 602, 608, 610, 611, 612, 613, 614, 617, 619, 621, 622, 624, 625, 629, 630, 631, 633, 635, 636, 637, 638, 639, 641, 643, 647, 650, 651, 652, 655, 658, 660, 661, 665, 667, 671, 672, 673, 674, 676, 680, 681, 686, 689, 690, 695, 703, 705, 708, 714, 719, 720, 722, 724, 725, 727, 728, 730, 734, 735, 740, 741, 743, 744, 748, 753, 755, 757, 763, 765, 766, 767, 769, 770, 772, 773, 775, 776, 778, 784, 787, 791, 793, 796, 798, 803, 805, 806, 808, 810, 811, 812, 813, 815, 820, 821, 822, 824, 826, 828, 832, 833, 835, 836, 837, 840, 841, 842, 843, 844, 845, 848, 849, 851, 852, 853, 854, 860, 863, 866, 867, 868, 873, 875, 876, 877, 880, 883, 884, 885, 887, 888, 889, 899, 903, 904, 905, 906, 907, 911, 914, 916, 917, 919, 921, 922, 923, 927, 928, 929, 930, 931, 941, 942, 943, 945, 946, 947, 948, 950, 956, 957, 960, 962, 964, 965, 966, 967, 968, 970, 977, 978, 979, 981, 987, 993, 1000, 1005, 1006, 1007, 1008, 1009, 1010, 1011, 1016, 1018, 1019, 1020, 1024, 1025, 1026, 1028, 1029, 1033, 1034, 1035, 1037, 1039, 1041, 1044, 1048, 1049, 1052, 1053, 1055, 1059, 1060, 1065, 1066, 1067, 1070, 1072, 1073, 1075, 1076, 1078, 1079, 1080, 1081, 1082, 1085, 1086, 1087, 1088, 1090, 1096, 1102, 1103, 1104, 1105, 1107, 1108, 1109, 1112, 1114, 1118, 1119, 1120, 1123, 1126, 1128, 1129, 1130, 1133, 1134, 1137, 1140, 1144, 1146, 1147, 1148, 1151, 1155, 1163, 1166, 1171, 1172, 1173, 1174, 1176, 1177, 1178, 1180, 1182, 1183, 1185, 1187, 1188, 1192, 1202, 1203, 1204, 1213, 1215, 1217, 1218, 1219, 1220, 1222, 1231, 1232, 1233, 1236, 1238, 1240, 1243, 1244, 1245, 1246, 1248, 1249, 1250, 1251, 1252, 1254, 1255, 1256, 1257, 1261, 1263, 1267, 1268, 1271, 1275, 1278, 1279, 1280, 1282, 1283, 1285, 1286, 1287, 1290, 1292, 1293, 1294, 1296, 1297, 1298, 1302, 1305, 1307, 1310, 1311, 1314, 1316, 1319, 1320, 1321, 1323, 1324, 1326, 1328, 1329, 1330, 1331, 1332, 1333, 1334, 1335, 1336, 1337, 1340, 1346, 1347, 1348, 1349, 1351, 1352, 1353, 1357, 1359, 1370, 1371, 1372, 1376, 1377, 1378, 1380, 1384, 1385, 1386, 1389, 1393, 1394, 1395, 1399, 1400, 1407, 1409, 1410, 1411, 1412, 1413, 1414, 1416, 1418, 1421, 1422, 1430, 1431, 1436, 1437, 1441, 1444, 1446, 1448, 1452, 1453, 1457, 1458, 1459, 1461, 1462, 1465, 1470, 1472, 1475, 1476, 1477, 1479, 1480, 1481, 1482, 1483, 1484, 1485, 1487, 1490, 1493, 1494, 1495, 1496, 1499, 1500, 1503, 1508, 1509, 1512, 1514, 1518, 1520, 1522, 1523, 1527, 1533, 1534, 1537, 1538, 1539, 1545, 1546, 1550, 1551, 1552, 1556, 1558, 1559, 1569, 1572, 1574, 1576, 1578, 1582, 1583, 1584, 1585, 1588, 1589, 1590, 1597, 1598, 1599, 1601, 1602, 1603, 1604, 1606, 1607, 1609, 1610, 1612, 1613, 1614, 1615, 1617, 1620, 1621, 1623, 1624, 1628, 1629, 1633, 1634, 1637, 1641, 1642, 1646, 1647, 1654, 1655, 1657, 1658, 1660, 1661, 1664, 1666, 1668, 1670, 1672, 1680, 1685, 1688, 1694, 1698, 1702, 1705, 1707, 1708, 1711, 1713, 1715, 1717, 1718, 1720, 1721, 1722, 1723, 1724, 1726, 1728, 1732, 1733, 1734, 1738, 1740, 1744, 1746, 1747, 1748, 1751, 1753, 1754, 1756, 1759, 1760, 1764, 1767, 1770, 1772, 1774, 1775, 1778, 1781, 1788, 1789, 1792, 1794, 1795, 1796, 1797, 1799, 1801, 1802, 1803, 1806, 1808, 1809, 1810, 1811, 1813, 1815, 1818, 1825, 1826, 1827, 1829, 1832, 1834, 1836, 1837, 1838, 1839, 1845, 1846, 1849, 1855, 1856, 1859, 1861, 1862, 1863, 1864, 1865, 1871, 1873, 1875, 1886, 1890, 1891, 1893, 1894, 1895, 1898, 1901, 1902, 1903, 1904, 1905, 1907, 1909, 1915, 1917, 1918, 1919, 1921, 1922, 1923, 1924, 1925, 1929, 1930, 1931, 1932, 1934, 1936, 1939, 1940, 1948, 1949, 1950, 1953, 1954, 1955, 1957, 1962, 1970, 1972, 1973, 1976, 1977, 1978, 1979, 1981, 1982, 1983, 1985, 1986, 1989, 1990, 1992, 1993, 1997, 2001, 2002, 2004, 2006, 2009, 2012, 2015, 2016, 2018, 2019, 2020, 2021, 2025, 2026, 2029, 2030, 2032, 2033, 2035, 2036, 2037, 2038, 2039, 2044, 2045, 2047, 2048, 2054, 2056, 2059, 2060, 2061, 2062, 2066, 2067, 2068, 2071, 2072, 2073, 2074, 2075, 2077, 2078, 2081, 2082, 2083, 2084, 2088, 2089, 2094, 2096, 2098, 2099, 2100, 2102, 2104, 2105, 2107, 2108, 2109, 2112, 2113, 2114, 2116, 2117, 2118, 2119, 2121, 2122, 2128, 2129, 2132, 2136, 2137, 2138, 2139, 2142, 2144, 2145, 2147, 2149, 2151, 2158, 2159, 2160, 2163, 2166, 2167, 2168, 2170, 2171, 2172, 2177, 2179, 2181, 2184, 2186, 2187, 2188, 2189, 2192, 2194, 2197, 2198, 2199, 2201, 2202, 2206, 2210, 2211, 2212, 2213, 2214, 2218, 2220, 2221, 2222, 2225, 2228, 2230, 2231, 2233, 2235, 2240, 2241, 2244, 2250, 2251, 2253, 2255, 2256, 2258, 2259, 2266, 2267, 2270, 2271, 2276, 2281, 2286, 2289, 2293, 2295, 2297, 2298, 2299, 2304, 2305, 2306, 2309, 2313, 2314, 2316, 2317, 2318, 2325, 2328, 2329, 2331, 2338, 2339, 2342, 2343, 2344, 2350, 2352, 2354, 2357, 2358, 2359, 2360, 2361, 2362, 2363, 2364, 2366, 2367, 2368, 2369, 2372, 2373, 2375, 2378, 2380, 2381, 2382, 2383, 2389, 2390, 2394, 2398, 2399, 2400, 2402, 2404, 2405, 2407, 2409, 2411, 2412, 2414, 2420, 2422, 2424, 2426, 2427, 2431, 2433, 2435, 2436, 2437, 2440, 2446, 2453, 2458, 2459, 2465, 2468, 2473, 2477, 2478, 2479, 2480, 2489, 2495, 2496, 2502, 2504, 2506, 2508, 2510, 2513, 2514, 2517, 2518, 2521, 2524, 2527, 2529, 2530, 2531, 2534, 2537, 2538, 2539, 2540, 2541, 2542, 2546, 2551, 2552, 2556, 2561, 2564, 2568, 2571, 2573, 2574, 2575, 2576, 2577, 2579, 2580, 2582, 2584, 2585, 2590, 2591, 2592, 2594, 2595, 2596, 2597, 2599, 2601, 2602, 2607, 2609, 2610, 2613, 2614, 2617, 2618, 2622, 2623, 2624, 2626, 2627, 2629, 2631, 2632, 2640, 2642, 2643, 2644, 2645, 2648, 2649, 2650, 2651, 2652, 2654, 2656, 2658, 2659, 2664, 2665, 2666, 2667, 2668, 2669, 2671, 2672, 2673, 2674, 2675, 2681, 2683, 2685, 2687, 2688, 2690, 2697, 2698, 2702, 2705, 2710, 2712, 2713, 2714, 2716, 2718, 2719, 2720, 2721, 2722, 2725, 2731, 2733, 2735, 2737, 2738, 2739, 2740, 2743, 2746, 2747, 2758, 2759, 2760, 2762, 2763, 2766, 2767, 2769, 2770, 2773, 2776, 2780, 2781, 2786, 2787, 2788, 2790, 2791, 2792, 2795, 2796, 2797, 2798, 2802, 2803, 2804, 2806, 2807, 2811, 2815, 2827, 2829, 2830, 2831, 2833, 2837, 2839, 2840, 2844, 2847, 2848, 2850, 2859, 2862, 2865, 2873, 2874, 2875, 2879, 2880, 2882, 2887, 2889, 2890, 2893, 2894, 2895, 2898, 2900, 2901, 2902, 2903, 2904, 2907, 2909, 2910, 2912, 2913, 2915, 2916, 2921, 2926, 2927, 2928, 2930, 2934, 2937, 2939, 2940, 2941, 2946, 2947, 2951, 2952, 2953, 2956, 2961, 2962, 2963, 2965, 2966, 2967, 2970, 2971, 2975, 2978, 2981, 2984, 2985, 2987, 2991, 2992, 2994, 2997, 3001, 3005, 3010, 3013, 3020, 3021, 3022, 3024, 3028, 3029, 3030, 3034, 3036, 3037, 3039, 3041, 3043, 3044, 3045, 3047, 3049, 3052, 3054, 3060, 3061, 3064, 3068, 3070, 3071, 3072, 3076, 3077, 3079, 3081, 3082, 3083, 3085, 3086, 3087, 3088, 3089, 3090, 3092, 3099, 3100, 3103, 3105, 3108, 3109, 3110, 3115, 3117, 3118, 3120, 3121, 3124, 3126, 3127, 3134, 3135, 3138, 3141, 3143, 3145, 3146, 3148, 3151, 3152, 3153, 3156, 3159, 3162, 3166, 3167, 3170, 3171, 3172, 3175, 3177, 3178, 3179, 3181, 3183, 3184, 3186, 3188, 3190, 3194, 3195, 3196, 3197, 3198, 3201, 3204, 3207, 3208, 3209, 3213, 3214, 3217, 3218, 3219, 3222, 3224, 3227, 3228, 3229, 3234, 3235, 3236, 3239, 3240, 3242, 3243, 3246, 3251, 3252, 3255, 3258, 3261, 3263, 3264, 3267, 3269, 3270, 3282, 3283, 3289, 3290, 3293, 3294, 3295, 3296, 3302, 3304, 3306, 3308, 3309, 3310, 3311, 3313, 3314, 3315, 3316, 3320, 3321, 3322, 3323, 3324, 3325, 3326, 3329, 3334, 3337, 3339, 3340, 3342, 3343, 3345, 3347, 3348, 3350, 3353, 3356, 3359, 3360, 3362, 3364, 3368, 3369, 3370, 3372, 3376, 3378, 3382, 3383, 3385, 3391, 3392, 3394, 3398, 3399, 3401, 3403, 3406, 3409, 3410, 3411, 3412, 3413, 3414, 3415, 3416, 3423, 3430, 3432, 3434, 3435, 3436, 3438, 3441, 3442, 3445, 3447, 3448, 3450, 3451, 3453, 3454, 3455, 3458, 3460, 3464, 3472, 3473, 3479, 3481, 3482, 3485, 3487, 3491, 3496, 3498, 3502, 3503, 3508, 3509, 3511, 3513, 3515, 3516, 3520, 3521, 3524, 3527, 3530, 3534, 3535, 3541, 3542, 3545, 3546, 3547, 3549, 3551, 3552, 3553, 3556, 3558, 3561, 3569, 3572, 3574, 3578, 3581, 3582, 3585, 3590, 3591, 3593, 3598, 3599, 3601, 3602, 3606, 3609, 3613, 3614, 3619, 3622, 3623, 3624, 3628, 3635, 3636, 3637, 3639, 3641, 3643, 3645, 3647, 3648, 3651, 3653, 3659, 3660, 3663, 3668, 3671, 3672, 3673, 3676, 3677, 3683, 3687, 3690, 3691, 3693, 3694, 3701, 3703, 3706, 3709, 3710, 3712, 3714, 3717, 3721, 3722, 3724, 3728, 3729, 3733, 3736, 3737, 3739, 3742, 3743, 3745, 3747, 3749, 3751, 3752, 3753, 3755, 3756, 3757, 3758, 3763, 3764, 3765, 3766, 3767, 3770, 3775, 3776, 3782, 3784, 3785, 3786, 3789, 3790, 3795, 3799, 3800, 3801, 3804, 3806, 3808, 3809, 3811, 3813, 3814, 3818, 3819, 3823, 3824, 3825, 3826, 3829, 3831, 3833, 3834, 3838, 3843, 3847, 3848, 3850, 3852, 3853, 3856, 3857, 3862, 3864, 3866, 3868, 3869, 3870, 3874, 3875, 3876, 3877, 3878, 3883, 3884, 3887, 3889, 3890, 3892, 3893, 3894, 3895, 3897, 3901, 3903, 3906, 3908, 3909, 3911, 3912, 3917, 3918, 3919, 3920, 3923, 3924, 3925, 3928, 3929, 3932, 3934, 3935, 3936, 3939, 3941, 3947, 3949, 3950, 3953, 3955, 3956, 3957, 3958, 3959, 3960, 3961, 3964, 3965, 3970, 3973, 3978, 3981, 3983, 3984, 3985, 3987, 3991, 3992, 4000, 4007, 4008, 4010, 4011, 4012, 4015, 4017, 4021, 4022, 4023, 4024, 4025, 4027, 4032, 4034, 4035, 4038, 4043, 4045, 4047, 4048, 4049, 4050, 4060, 4063, 4066, 4069, 4071, 4075, 4077, 4079, 4080, 4081, 4083, 4085, 4086, 4089, 4092, 4093, 4094, 4095, 4100, 4103, 4104, 4105, 4108, 4113, 4114, 4117, 4118, 4119, 4120, 4122, 4126, 4127, 4128, 4129, 4130, 4132, 4133, 4135, 4136, 4137, 4138, 4139, 4140, 4144, 4145, 4146, 4147, 4152, 4154, 4155, 4158, 4159, 4163, 4164, 4170, 4176, 4178, 4180, 4181, 4184, 4186, 4188, 4191, 4197, 4198, 4201, 4202, 4203, 4205, 4208, 4209, 4211, 4212, 4217, 4220, 4222, 4223, 4225, 4227, 4230, 4232, 4233, 4237, 4239, 4244, 4245, 4246, 4249, 4259, 4260, 4265, 4267, 4269, 4270, 4272, 4275, 4276, 4278, 4280, 4283, 4284, 4291, 4293, 4294, 4295, 4296, 4298, 4299, 4300, 4302, 4304, 4308, 4310, 4311, 4314, 4315, 4317, 4320, 4321, 4322, 4324, 4325, 4333, 4338, 4340, 4346, 4348, 4352, 4359, 4361, 4364, 4366, 4367, 4368, 4370, 4372, 4375, 4376, 4377, 4379, 4380, 4382, 4384, 4387, 4389, 4390, 4391, 4396, 4398, 4399, 4402, 4403, 4405, 4406, 4410, 4414, 4415, 4417, 4419, 4428, 4429, 4431, 4432, 4435, 4436, 4445, 4451, 4453, 4455, 4456, 4457, 4458, 4459, 4465, 4473, 4477, 4478, 4479, 4487, 4489, 4490, 4491, 4492, 4493, 4495, 4496, 4497, 4498, 4499, 4500, 4504, 4505, 4513, 4516, 4517, 4518, 4519, 4522, 4524, 4528, 4529, 4531, 4538, 4539, 4540, 4543, 4544, 4545, 4547, 4548, 4549, 4553, 4557, 4558, 4564, 4566, 4567, 4568, 4571, 4574, 4576, 4580, 4581, 4586, 4587, 4588, 4589, 4590, 4592, 4593, 4595, 4596, 4597, 4601, 4602, 4605, 4607, 4608, 4612, 4615, 4616, 4617, 4618, 4619, 4620, 4623, 4625, 4626, 4627, 4629, 4630, 4632, 4634, 4636, 4638, 4639, 4641, 4643, 4645, 4646, 4647, 4649, 4650, 4652, 4653, 4654, 4657, 4660, 4662, 4664, 4665, 4666, 4667, 4669, 4670, 4671, 4675, 4676, 4680, 4683, 4684, 4686, 4687, 4689, 4690, 4691, 4692, 4693, 4698, 4703, 4705, 4707, 4708, 4717, 4720, 4724, 4726, 4727, 4731, 4732, 4737, 4738, 4739, 4742, 4743, 4744, 4747, 4750, 4752, 4753, 4754, 4756, 4758, 4759, 4760, 4764, 4766, 4769, 4771, 4773, 4780, 4781, 4782, 4784, 4785, 4786, 4791, 4792, 4793, 4794, 4795, 4796, 4797, 4800, 4806, 4807, 4809, 4810, 4811, 4813, 4818, 4819, 4820, 4822, 4828, 4830, 4832, 4837, 4838, 4839, 4840, 4841, 4847, 4848, 4852, 4855, 4857, 4861, 4862, 4866, 4867, 4871, 4874, 4875, 4878, 4880, 4882, 4886, 4887, 4890, 4891, 4894, 4896, 4897, 4899, 4901, 4902, 4904, 4906, 4907, 4908, 4912, 4916, 4921, 4922, 4926, 4927, 4930, 4931, 4933, 4934, 4938, 4940, 4941, 4943, 4944, 4945, 4947, 4948, 4949, 4951, 4953, 4956, 4960, 4961, 4962, 4972, 4973, 4977, 4979, 4980, 4981, 4982, 4983, 4987, 4989, 4994, 4996, 4997, 5006, 5010, 5011, 5012, 5015, 5018, 5019, 5020, 5021, 5022, 5023, 5024, 5025, 5027, 5028, 5031, 5033, 5036, 5037, 5038, 5043, 5044, 5046, 5047, 5048, 5051, 5052, 5053, 5056, 5057, 5058, 5059, 5060, 5061, 5062, 5065, 5067, 5069, 5072, 5074, 5076, 5077, 5082, 5083, 5084, 5093, 5096, 5097, 5098, 5099, 5101, 5102, 5109, 5112, 5114, 5118, 5119, 5120, 5123, 5125, 5128, 5129, 5132, 5134, 5135, 5137, 5138, 5140, 5142, 5144, 5145, 5147, 5148, 5150, 5151, 5155, 5157, 5158, 5159, 5163, 5164, 5165, 5172, 5174, 5176, 5179, 5182, 5183, 5184, 5187, 5191, 5194, 5199, 5201, 5204, 5206, 5208, 5209, 5210, 5212, 5213, 5217, 5220, 5221, 5226, 5227, 5229, 5233, 5234, 5235, 5238, 5241, 5243, 5245, 5246, 5247, 5249, 5254, 5256, 5257, 5258, 5265, 5267, 5269, 5270, 5272, 5275, 5276, 5277, 5278, 5280, 5286, 5288, 5289, 5290, 5292, 5293, 5294, 5295, 5298, 5300, 5304, 5305, 5306, 5307, 5308, 5310, 5313, 5314, 5317, 5319, 5320, 5321, 5323, 5324, 5325, 5327, 5330, 5331, 5332, 5335, 5336, 5338, 5342, 5348, 5349, 5352, 5358, 5359, 5361, 5365, 5368, 5369, 5371, 5374, 5376, 5379, 5380, 5385, 5389, 5392, 5394, 5397, 5400, 5402, 5403, 5405, 5409, 5417, 5419, 5421, 5422, 5430, 5431, 5432, 5434, 5438, 5439, 5444, 5445, 5448, 5450, 5452, 5456, 5461, 5464, 5466, 5467, 5469, 5470, 5476, 5477, 5478, 5479, 5482, 5483, 5485, 5487, 5491, 5493, 5494, 5495, 5496, 5498, 5499, 5502, 5505, 5512, 5516, 5517, 5519, 5521, 5526, 5527, 5528, 5529, 5530, 5531, 5535, 5538, 5540, 5541, 5545, 5548, 5549, 5550, 5552, 5555, 5556, 5560, 5561, 5564, 5570, 5572, 5577, 5581, 5582, 5586, 5589, 5591, 5593, 5596, 5598, 5599, 5600, 5602, 5603, 5613, 5619, 5620, 5621, 5622, 5623, 5627, 5629, 5632, 5634, 5637, 5639, 5641, 5642, 5646, 5647, 5648, 5649, 5650, 5655, 5657, 5658, 5659, 5660, 5663, 5666, 5670, 5672, 5673, 5675, 5676, 5679, 5680, 5681, 5683, 5684, 5685, 5686, 5694, 5697, 5698, 5704, 5705, 5707, 5708, 5710, 5711, 5717, 5719, 5722, 5724, 5729, 5733, 5735, 5738, 5739, 5743, 5744, 5745, 5747, 5751, 5752, 5753, 5754, 5756, 5759, 5760, 5763, 5765, 5766, 5768, 5770, 5774, 5776, 5778, 5779, 5780, 5784, 5785, 5787, 5791, 5792, 5793, 5794, 5795, 5796, 5797, 5798, 5800, 5801, 5803, 5804, 5806, 5807, 5811, 5812, 5814, 5818, 5819, 5821, 5826, 5828, 5829, 5830, 5832, 5833, 5837, 5840, 5841, 5848, 5850, 5851, 5856, 5858, 5859, 5861, 5862, 5863, 5865, 5867, 5868, 5869, 5873, 5874, 5877, 5879, 5880, 5881, 5882, 5885, 5886, 5887, 5891, 5894, 5895, 5897, 5898, 5902, 5903, 5905, 5907, 5908, 5909, 5912, 5913, 5915, 5916, 5923, 5926, 5934, 5939, 5940, 5943, 5945, 5947, 5951, 5952, 5957, 5958, 5959, 5961, 5964, 5965, 5966, 5968, 5971, 5972, 5973, 5974, 5975, 5977, 5979, 5982, 5983, 5984, 5986, 5989, 5990, 5993, 5994, 5995, 5997, 5999, 6000, 6002, 6003, 6004, 6005, 6007, 6008, 6009, 6010, 6011, 6012, 6014, 6015, 6017, 6020, 6021, 6023, 6024, 6026, 6028, 6034, 6035, 6036, 6039, 6041, 6042, 6043, 6045, 6047, 6049, 6051, 6052, 6053, 6055, 6056, 6057, 6058, 6059, 6060, 6062, 6064, 6067, 6073, 6074, 6075, 6076, 6082, 6083, 6086, 6087, 6088, 6091, 6093, 6094, 6095, 6097, 6099, 6102, 6103, 6108, 6109, 6110, 6111, 6116, 6117, 6118, 6119, 6121, 6122, 6126, 6127, 6130, 6134, 6135, 6136, 6138, 6139, 6140, 6141, 6146, 6148, 6153, 6156, 6157, 6158, 6159, 6160, 6162, 6163, 6164, 6165, 6166, 6172, 6178, 6179, 6180, 6181, 6182, 6185, 6186, 6187, 6188, 6189, 6197, 6198, 6200, 6201, 6202, 6203, 6207, 6212, 6213, 6216, 6218, 6220, 6221, 6222, 6226, 6227, 6228, 6229, 6230, 6233, 6234, 6238, 6239, 6243, 6250, 6253, 6255, 6256, 6259, 6260, 6263, 6264, 6265, 6267, 6268, 6269, 6271, 6273, 6275, 6277, 6278, 6281, 6282, 6285, 6287, 6288, 6289, 6294, 6296, 6297, 6299, 6300, 6302, 6303, 6304, 6305, 6307, 6308, 6309, 6310, 6311, 6313, 6316, 6317, 6318, 6320, 6323, 6324, 6328, 6330, 6331, 6334, 6339, 6342, 6346, 6347, 6351, 6352, 6353, 6359, 6360, 6362, 6364, 6366, 6367, 6368, 6370, 6371, 6374, 6380, 6382, 6383, 6384, 6386, 6387, 6393, 6394, 6395, 6396, 6397, 6401, 6406, 6409, 6410, 6413, 6419, 6421, 6422, 6424, 6426, 6428, 6429, 6432, 6433, 6434, 6435, 6436, 6440, 6442, 6443, 6444, 6448, 6450, 6453, 6454, 6455, 6456, 6457, 6458, 6459, 6463, 6465, 6466, 6470, 6482, 6483, 6485, 6490, 6491, 6492, 6493, 6494, 6495, 6496, 6497, 6500, 6502, 6505, 6506, 6507, 6510, 6514, 6517, 6518, 6519, 6520, 6522, 6526, 6527, 6528, 6531, 6532, 6533, 6534, 6539, 6541, 6543, 6545, 6546, 6548, 6559, 6560, 6561, 6562, 6564, 6566, 6567, 6568, 6570, 6578, 6583, 6584, 6587, 6588, 6589, 6590, 6594, 6598, 6599, 6600, 6601, 6604, 6605, 6607, 6608, 6614, 6615, 6617, 6618, 6620, 6622, 6623, 6626, 6628, 6630, 6632, 6633, 6635, 6636, 6637, 6639, 6640, 6644, 6646, 6650, 6651, 6652, 6653, 6654, 6656, 6658, 6660, 6661, 6662, 6663, 6664, 6669, 6673, 6675, 6676, 6680, 6689, 6690, 6691, 6694, 6701, 6702, 6705, 6708, 6709, 6711, 6714, 6719, 6720, 6729, 6735, 6736, 6738, 6739, 6740, 6741, 6742, 6743, 6744, 6748, 6749, 6752, 6753, 6757, 6758, 6759, 6760, 6761, 6764, 6766, 6769, 6770, 6771, 6773, 6777, 6778, 6785, 6788, 6790, 6793, 6796, 6798, 6800, 6802, 6805, 6806, 6813, 6815, 6816, 6817, 6818, 6819, 6820, 6823, 6826, 6829, 6830, 6832, 6834, 6836, 6838, 6840, 6847, 6848, 6853, 6854, 6856, 6859, 6863, 6865, 6869, 6870, 6872, 6876, 6877, 6878, 6879, 6880, 6882, 6888, 6891, 6892, 6893, 6894, 6899, 6900, 6901, 6902, 6903, 6904, 6907, 6908, 6911, 6913, 6916, 6922, 6926, 6928, 6930, 6931, 6934, 6939, 6943, 6944, 6945, 6947, 6948, 6949, 6950, 6952, 6953, 6957, 6959, 6961, 6963, 6964, 6965, 6968, 6971, 6972, 6973, 6975, 6977, 6978, 6980, 6987, 6991, 6999, 7000, 7003, 7004, 7005, 7010, 7014, 7015, 7016, 7017, 7018, 7022, 7023, 7024, 7029, 7031, 7032, 7033, 7034, 7035, 7040, 7043, 7044, 7045, 7048, 7049, 7050, 7051, 7052, 7054, 7055, 7061, 7062, 7063, 7066, 7069, 7070, 7072, 7075, 7076, 7077, 7079, 7081, 7083, 7084, 7085, 7086, 7089, 7090, 7091, 7092, 7095, 7097, 7099, 7100, 7104, 7108, 7109, 7111, 7117, 7118, 7119, 7120, 7123, 7124, 7125, 7127, 7128, 7129, 7130, 7131, 7132, 7134, 7137, 7138, 7139, 7140, 7144, 7145, 7146, 7148, 7149, 7152, 7153, 7155, 7161, 7162, 7165, 7166, 7167, 7170, 7174, 7178, 7180, 7181, 7183, 7187, 7194, 7195, 7196, 7197, 7198, 7202, 7206, 7208, 7209, 7211, 7216, 7218, 7219, 7224, 7225, 7227, 7234, 7237, 7238, 7239, 7240, 7242, 7244, 7248, 7251, 7253, 7254, 7255, 7256, 7258, 7260, 7261, 7263, 7264, 7265, 7266, 7267, 7269, 7270, 7271, 7274, 7277, 7278, 7279, 7281, 7284, 7285, 7289, 7290, 7293, 7297, 7298, 7301, 7303, 7304, 7306, 7307, 7309, 7310, 7312, 7313, 7317, 7320, 7323, 7331, 7332, 7334, 7335, 7336, 7337, 7338, 7340, 7341, 7344, 7345, 7348, 7349, 7354, 7355, 7356, 7359, 7360, 7361, 7362, 7363, 7364, 7365, 7367, 7368, 7369, 7370, 7371, 7373, 7374, 7375, 7377, 7380, 7381, 7384, 7392, 7394, 7399, 7400, 7402, 7403, 7407, 7409, 7410, 7411, 7412, 7413, 7414, 7416, 7417, 7418, 7426, 7431, 7432, 7433, 7435, 7437, 7438, 7440, 7443, 7445, 7446, 7448, 7455, 7457, 7458, 7460, 7461, 7466, 7467, 7468, 7470, 7471, 7472, 7474, 7475, 7476, 7477, 7478, 7480, 7483, 7486, 7487, 7488, 7489, 7491, 7492, 7493, 7494, 7496, 7497, 7498, 7499, 7500, 7502, 7504, 7506, 7508, 7509, 7512, 7513, 7515, 7516, 7517, 7524, 7529, 7532, 7533, 7535, 7538, 7539, 7542, 7543, 7548, 7549, 7551, 7555, 7556, 7558, 7559, 7561, 7565, 7567, 7568, 7571, 7572, 7576, 7578, 7579, 7581, 7588, 7589, 7590, 7592, 7597, 7599, 7600, 7601, 7602, 7605, 7609, 7610, 7618, 7619, 7622, 7625, 7626, 7628, 7629, 7632, 7634, 7639, 7640, 7641, 7642, 7646, 7647, 7649, 7654, 7655, 7658, 7659, 7660, 7662, 7665, 7666, 7667, 7670, 7671, 7672, 7673, 7676, 7678, 7679, 7681, 7685, 7687, 7691, 7692, 7693, 7696, 7698, 7701, 7702, 7705, 7711, 7712, 7713, 7714, 7715, 7716, 7720, 7722, 7723, 7724, 7726, 7727, 7728, 7730, 7732, 7734, 7736, 7737, 7740, 7741, 7743, 7744, 7746, 7748, 7750, 7752, 7754, 7758, 7759, 7761, 7762, 7764, 7766, 7767, 7769, 7770, 7773, 7774, 7776, 7777, 7778, 7779, 7783, 7784, 7785, 7788, 7790, 7791, 7794, 7797, 7801, 7803, 7804, 7806, 7808, 7811, 7813, 7822, 7825, 7827, 7828, 7829, 7832, 7834, 7836, 7837, 7841, 7845, 7846, 7847, 7849, 7851, 7852, 7857, 7858, 7859, 7870, 7872, 7873, 7876, 7878, 7880, 7881, 7883, 7884, 7885, 7887, 7891, 7892, 7893, 7894, 7895, 7897, 7901, 7903, 7906, 7907, 7908, 7909, 7910, 7911, 7912, 7913, 7914, 7916, 7917, 7922, 7924, 7925, 7927, 7933, 7934, 7936, 7937, 7938, 7940, 7942, 7943, 7946, 7950, 7953, 7956, 7958, 7959, 7962, 7966, 7970, 7972, 7976, 7978, 7979, 7980, 7982, 7984, 7985, 7987, 7990, 7996, 7998, 8000, 8003, 8004, 8005, 8006, 8011, 8013, 8015, 8016, 8017, 8019, 8020, 8022, 8023, 8024, 8026, 8027, 8028, 8033, 8034, 8035, 8036, 8037, 8039, 8041, 8044, 8046, 8050, 8052, 8054, 8056, 8057, 8058, 8060, 8064, 8067, 8068, 8069, 8070, 8076, 8078, 8082, 8084, 8085, 8086, 8088, 8089, 8091, 8092, 8095, 8096, 8097, 8103, 8105, 8108, 8111, 8112, 8116, 8118, 8120, 8121, 8122, 8124, 8126, 8127, 8128, 8130, 8135, 8136, 8137, 8140, 8144, 8145, 8146, 8148, 8149, 8152, 8154, 8156, 8159, 8163, 8164, 8165, 8166, 8168, 8169, 8171, 8172, 8173, 8175, 8176, 8180, 8181, 8182, 8185, 8186, 8188, 8189, 8191, 8193, 8195, 8196, 8197, 8200, 8201, 8203, 8204, 8205, 8207, 8208, 8209, 8210, 8214, 8216, 8217, 8218, 8220, 8221, 8223, 8229, 8230, 8231, 8233, 8237, 8240, 8241, 8248, 8250, 8251, 8255, 8257, 8259, 8260, 8261, 8262, 8263, 8267, 8268, 8280, 8281, 8284, 8285, 8286, 8287, 8288, 8291, 8292, 8294, 8298, 8301, 8305, 8308, 8311, 8315, 8319, 8320, 8321, 8323, 8324, 8327, 8328, 8333, 8334, 8335, 8336, 8339, 8340, 8342, 8346, 8350, 8351, 8352, 8353, 8355, 8358, 8360, 8361, 8364, 8365, 8367, 8370, 8371, 8373, 8374, 8375, 8376, 8380, 8381, 8384, 8385, 8389, 8390, 8391, 8396, 8399, 8400, 8405, 8406, 8408, 8410, 8411, 8413, 8414, 8415, 8416, 8417, 8418, 8419, 8421, 8422, 8424, 8425, 8430, 8435, 8436, 8437, 8442, 8446, 8447, 8448, 8449, 8451, 8453, 8454, 8455, 8456, 8458, 8459, 8461, 8463, 8464, 8465, 8467, 8469, 8473, 8474, 8475, 8476, 8478, 8482, 8484, 8487, 8491, 8492, 8495, 8497, 8501, 8502, 8504, 8505, 8507, 8509, 8510, 8512, 8514, 8515, 8517, 8519, 8521, 8522, 8523, 8525, 8527, 8528, 8530, 8531, 8532, 8533, 8537, 8539, 8540, 8541, 8543, 8544, 8546, 8547, 8549, 8552, 8553, 8555, 8558, 8559, 8561, 8563, 8564, 8565, 8567, 8572, 8577, 8582, 8584, 8587, 8588, 8590, 8591, 8592, 8597, 8598, 8601, 8610, 8611, 8615, 8616, 8617, 8619, 8621, 8623, 8624, 8625, 8627, 8629, 8632, 8633, 8634, 8638, 8639, 8640, 8643, 8644, 8649, 8650, 8652, 8653, 8657, 8658, 8659, 8660, 8663, 8666, 8669, 8670, 8671, 8672, 8673, 8674, 8675, 8678, 8680, 8683, 8684, 8685, 8686, 8687, 8689, 8691, 8696, 8699, 8700, 8701, 8704, 8708, 8709, 8715, 8716, 8717, 8718, 8719, 8720, 8722, 8723, 8726, 8738, 8739, 8740, 8741, 8743, 8745, 8746, 8751, 8753, 8754, 8755, 8756, 8762, 8763, 8764, 8765, 8769, 8770, 8771, 8773, 8776, 8777, 8778, 8781, 8782, 8783, 8788, 8792, 8795, 8796, 8798, 8799, 8802, 8810, 8811, 8812, 8816, 8819, 8825, 8827, 8828, 8829, 8831, 8833, 8835, 8836, 8837, 8838, 8840, 8842, 8844, 8846, 8849, 8851, 8856, 8857, 8859, 8862, 8865, 8868, 8871, 8872, 8873, 8875, 8878, 8881, 8882, 8884, 8885, 8886, 8888, 8890, 8892, 8893, 8895, 8896, 8898, 8904, 8905, 8906, 8907, 8908, 8912, 8917, 8919, 8922, 8923, 8924, 8925, 8928, 8929, 8930, 8933, 8937, 8941, 8942, 8943, 8945, 8946, 8948, 8951, 8955, 8957, 8959, 8963, 8971, 8973, 8978, 8979, 8980, 8987, 8988, 8989, 8990, 8994, 8995, 8996, 8997, 8998, 9000, 9001, 9006, 9008, 9009, 9010, 9011, 9012, 9014, 9017, 9018, 9019, 9022, 9023, 9026, 9027, 9028, 9029, 9032, 9033, 9036, 9038, 9041, 9043, 9045, 9051, 9053, 9054, 9055, 9056, 9058, 9059, 9061, 9062, 9064, 9072, 9073, 9074, 9075, 9079, 9085, 9088, 9091, 9092, 9093, 9095, 9098, 9099, 9102, 9107, 9108, 9110, 9111, 9112, 9116, 9118, 9119, 9126, 9127, 9130, 9132, 9133, 9136, 9137, 9139, 9140, 9141, 9148, 9150, 9152, 9153, 9154, 9155, 9157, 9159, 9164, 9165, 9168, 9169, 9172, 9174, 9175, 9177, 9178, 9179, 9182, 9183, 9184, 9185, 9187, 9188, 9189, 9191, 9193, 9197, 9198, 9199, 9203, 9204, 9205, 9206, 9208, 9209, 9211, 9212, 9216, 9218, 9221, 9224, 9228, 9229, 9230, 9231, 9233, 9234, 9236, 9242, 9243, 9244, 9249, 9251, 9252, 9253, 9256, 9262, 9264, 9268, 9272, 9275, 9276, 9277, 9281, 9282, 9286, 9287, 9288, 9290, 9293, 9296, 9299, 9302, 9303, 9304, 9306, 9308, 9309, 9310, 9311, 9314, 9319, 9320, 9321, 9322, 9323, 9325, 9326, 9327, 9328, 9330, 9338, 9340, 9341, 9343, 9348, 9349, 9352, 9353, 9354, 9356, 9357, 9361, 9363, 9364, 9366, 9368, 9369, 9371, 9372, 9373, 9374, 9376, 9380, 9381, 9383, 9387, 9389, 9391, 9392, 9394, 9395, 9398, 9400, 9405, 9409, 9410, 9415, 9418, 9420, 9422, 9423, 9425, 9427, 9428, 9431, 9432, 9433, 9435, 9436, 9437, 9439, 9440, 9441, 9443, 9445, 9446, 9447, 9455, 9456, 9459, 9460, 9466, 9467, 9469, 9473, 9474, 9477, 9481, 9482, 9488, 9489, 9490, 9492, 9494, 9497, 9502, 9503, 9504, 9511, 9515, 9517, 9519, 9521, 9522, 9524, 9526, 9527, 9531, 9532, 9533, 9535, 9538, 9540, 9550, 9551, 9552, 9556, 9557, 9558, 9561, 9562, 9564, 9566, 9568, 9570, 9571, 9576, 9581, 9585, 9587, 9588, 9590, 9591, 9592, 9593, 9595, 9596, 9597, 9598, 9600, 9601, 9602, 9604, 9605, 9607, 9608, 9609, 9610, 9611, 9613, 9617, 9621, 9622, 9625, 9628, 9629, 9631, 9633, 9634, 9635, 9637, 9642, 9645, 9647, 9648, 9649, 9650, 9652, 9654, 9658, 9662, 9664, 9665, 9666, 9670, 9673, 9674, 9675, 9677, 9678, 9684, 9686, 9687, 9688, 9689, 9690, 9697, 9699, 9706, 9709, 9710, 9712, 9717, 9720, 9722, 9723, 9726, 9727, 9728, 9731, 9732, 9735, 9736, 9737, 9741, 9742, 9743, 9746, 9749, 9750, 9751, 9752, 9753, 9754, 9756, 9759, 9762, 9763, 9764, 9766, 9769, 9770, 9772, 9773, 9775, 9776, 9778, 9780, 9784, 9787, 9788, 9789, 9790, 9791, 9794, 9795, 9796, 9797, 9798, 9800, 9805, 9806, 9807, 9808, 9809, 9810, 9812, 9816, 9818, 9820, 9822, 9825, 9826, 9829, 9831, 9832, 9834, 9835, 9836, 9837, 9838, 9839, 9840, 9841, 9843, 9844, 9846, 9849, 9850, 9851, 9852, 9854, 9856, 9857, 9858, 9860, 9862, 9863, 9866, 9867, 9871, 9875, 9876, 9877, 9882, 9885, 9886, 9887, 9892, 9893, 9897, 9898, 9900, 9905, 9906, 9907, 9908, 9910, 9912, 9914, 9915, 9920, 9921, 9924, 9927, 9930, 9931, 9932, 9933, 9935, 9940, 9946, 9950, 9953, 9954, 9958, 9959, 9961, 9963, 9965, 9967, 9973, 9974, 9980, 9982, 9987, 9988, 9990, 9991, 9992, 9995, 9998, 9999, 10003, 10004, 10005, 10018, 10019, 10020, 10024, 10026, 10028, 10030, 10031, 10032, 10033, 10038, 10042, 10043, 10047, 10050, 10051, 10052, 10053, 10054, 10056, 10057, 10059, 10062, 10064, 10065, 10072, 10073, 10074, 10075, 10078, 10081, 10082, 10084, 10085, 10090, 10092, 10094, 10095, 10096, 10098, 10100, 10101, 10103, 10106, 10107, 10110, 10111, 10112, 10115, 10120, 10122, 10123, 10124, 10125, 10128, 10130, 10132, 10133, 10135, 10136, 10141, 10142, 10144, 10147, 10149, 10150, 10152, 10157, 10158, 10159, 10160, 10164, 10165, 10167, 10168, 10169, 10172, 10174, 10175, 10177, 10181, 10182, 10183, 10184, 10187, 10188, 10190, 10194, 10196, 10198, 10199, 10201, 10204, 10208, 10215, 10217, 10220, 10224, 10226, 10229, 10230, 10232, 10233, 10237, 10241, 10242, 10244, 10250, 10251, 10252, 10253, 10255, 10258, 10260, 10261, 10265, 10266, 10267, 10269, 10270, 10271, 10275, 10276, 10278, 10279, 10282, 10284, 10287, 10290, 10293, 10295, 10296, 10298, 10303, 10304, 10306, 10307, 10312, 10314, 10316, 10317, 10321, 10322, 10323, 10324, 10326, 10327, 10329, 10332, 10333, 10334, 10335, 10337, 10340, 10341, 10352, 10355, 10357, 10359, 10362, 10363, 10364, 10366, 10368, 10369, 10370, 10371, 10373, 10374, 10375, 10376, 10378, 10381, 10382, 10385, 10387, 10388, 10389, 10390, 10392, 10397, 10398, 10401, 10402, 10403, 10406, 10408, 10409, 10410, 10411, 10413, 10416, 10419, 10424, 10425, 10428, 10430, 10431, 10432, 10433, 10435, 10436, 10438, 10440, 10447, 10449, 10451, 10452, 10453, 10455, 10456, 10458, 10461, 10464, 10467, 10472, 10473, 10478, 10483, 10484, 10485, 10486, 10487, 10489, 10491, 10492, 10495, 10496, 10498, 10499, 10500, 10501, 10503, 10504, 10506, 10509, 10513, 10514, 10515, 10517, 10518, 10521, 10522, 10529, 10541, 10543, 10548, 10549, 10550, 10551, 10553, 10557, 10559, 10561, 10564, 10565, 10568, 10569, 10570, 10571, 10572, 10573, 10575, 10576, 10578, 10579, 10581, 10590, 10591, 10594, 10597, 10599, 10606, 10607, 10609, 10610, 10612, 10616, 10619, 10620, 10621, 10623, 10627, 10628, 10629, 10635, 10638, 10639, 10641, 10642, 10649, 10651, 10652, 10654, 10656, 10658, 10660, 10661, 10662, 10666, 10668, 10669, 10670, 10671, 10673, 10677, 10678, 10679, 10680, 10684, 10685, 10686, 10688, 10689, 10690, 10691, 10694, 10695, 10698, 10703, 10706, 10707, 10708, 10710, 10712, 10714, 10716, 10717, 10718, 10719, 10721, 10723, 10728, 10732, 10734, 10737, 10740, 10744, 10745, 10750, 10751, 10753, 10758, 10759, 10761, 10762, 10766, 10767, 10768, 10773, 10777, 10779, 10780, 10783, 10785, 10787, 10789, 10790, 10791, 10793, 10802, 10803, 10804, 10805, 10808, 10811, 10812, 10818, 10820, 10825, 10829, 10830, 10831, 10832, 10833, 10837, 10840, 10841, 10843, 10845, 10849, 10852, 10854, 10856, 10859, 10861, 10862, 10865, 10866, 10868, 10870, 10871, 10874, 10877, 10878, 10880, 10882, 10883, 10884, 10886, 10890, 10894, 10895, 10899, 10901, 10903, 10905, 10907, 10908, 10910, 10914, 10916, 10917, 10919, 10923, 10924, 10925, 10926, 10931, 10933, 10939, 10941, 10942, 10943, 10944, 10947, 10950, 10952, 10954, 10955, 10957, 10958, 10959, 10962, 10967, 10969, 10970, 10971, 10973, 10974, 10982, 10985, 10987, 10988, 10989, 10991, 10992, 10993, 10994, 11004, 11007, 11008, 11009, 11011, 11013, 11017, 11020, 11023, 11026, 11028, 11029, 11031, 11033, 11039, 11040, 11045, 11048, 11049, 11051, 11052, 11053, 11054, 11059, 11061, 11063, 11064, 11066, 11067, 11070, 11071, 11074, 11076, 11078, 11079, 11080, 11082, 11083, 11084, 11085, 11087, 11088, 11091, 11094, 11096, 11098, 11100, 11102, 11103, 11106, 11107, 11108, 11110, 11112, 11114, 11115, 11118, 11121, 11123, 11127, 11132, 11133, 11135, 11136, 11144, 11146, 11148, 11152, 11155, 11156, 11157, 11158, 11159, 11162, 11163, 11165, 11166, 11169, 11174, 11177, 11179, 11182, 11187, 11188, 11189, 11197, 11199, 11204, 11208, 11209, 11210, 11211, 11212, 11214, 11217, 11219, 11225, 11226, 11228, 11229, 11230, 11231, 11234, 11236, 11237, 11240, 11241, 11243, 11244, 11246, 11248, 11249, 11250, 11251, 11252, 11259, 11265, 11267, 11269, 11270, 11273, 11274, 11277, 11278, 11285, 11288, 11289, 11290, 11294, 11295, 11296, 11302, 11305, 11306, 11308, 11310, 11312, 11313, 11314, 11318, 11319, 11324, 11326, 11327, 11328, 11330, 11333, 11335, 11348, 11349, 11350, 11351, 11353, 11359, 11363, 11365, 11367, 11372, 11373, 11375, 11376, 11377, 11379, 11383, 11384, 11387, 11392, 11393, 11394, 11395, 11398, 11399, 11400, 11402, 11405, 11408, 11409, 11410, 11412, 11414, 11416, 11420, 11421, 11422, 11423, 11425, 11427, 11428, 11430, 11431, 11433, 11434, 11435, 11436, 11440, 11444, 11449, 11451, 11454, 11455, 11457, 11458, 11459, 11463, 11468, 11469, 11470, 11471, 11473, 11475, 11478, 11480, 11481, 11482, 11484, 11489, 11493, 11496, 11499, 11501, 11503, 11509, 11510, 11511, 11512, 11519, 11524, 11526, 11529, 11540, 11542, 11549, 11550, 11552, 11553, 11556, 11558, 11560, 11561, 11562, 11564, 11568, 11570, 11579, 11587, 11588, 11591, 11592, 11595, 11598, 11600, 11602, 11603, 11604, 11609, 11610, 11611, 11613, 11618, 11620, 11622, 11624, 11629, 11631, 11632, 11636, 11637, 11646, 11647, 11648, 11649, 11650, 11651, 11654, 11657, 11658, 11659, 11661, 11663, 11664, 11665, 11666, 11667, 11668, 11669, 11670, 11672, 11675, 11677, 11681, 11683, 11684, 11685, 11686, 11687, 11691, 11692, 11694, 11697, 11701, 11703, 11706, 11709, 11711, 11714, 11715, 11718, 11720, 11721, 11727, 11730, 11732, 11734, 11735, 11736, 11737, 11741, 11743, 11748, 11751, 11752, 11753, 11756, 11758, 11759, 11764, 11765, 11766, 11772, 11773, 11774, 11775, 11776, 11777, 11781, 11784, 11785, 11797, 11799, 11801, 11802, 11806, 11807, 11809, 11812, 11816, 11819, 11820, 11822, 11823, 11825, 11827, 11830, 11831, 11832, 11833, 11834, 11838, 11842, 11844, 11845, 11846, 11847, 11848, 11851, 11857, 11860, 11861, 11862, 11866, 11867, 11869, 11873, 11874, 11876, 11878, 11881, 11882, 11883, 11884, 11885, 11887, 11892, 11896, 11897, 11898, 11899, 11900, 11901, 11902, 11904, 11906, 11908, 11909, 11916, 11917, 11918, 11919, 11920, 11922, 11924, 11926, 11929, 11930, 11931, 11932, 11936, 11937, 11938, 11940, 11941, 11943, 11945, 11948, 11949, 11951, 11952, 11954, 11955, 11956, 11957, 11958, 11963, 11964, 11965, 11968, 11969, 11970, 11971, 11972, 11973, 11976, 11977, 11978, 11979, 11981, 11982, 11983, 11989, 11992, 11994, 11995, 12002, 12003, 12004, 12005, 12007, 12008, 12009, 12010, 12012, 12014, 12017, 12019, 12020, 12021, 12022, 12031, 12032, 12036, 12041, 12043, 12044, 12045, 12048, 12049, 12050, 12051, 12053, 12054, 12055, 12059, 12060, 12063, 12064, 12066, 12068, 12070, 12071, 12072, 12073, 12075, 12078, 12082, 12085, 12086, 12088, 12090, 12091, 12093, 12094, 12096, 12099, 12100, 12102, 12103, 12104, 12105, 12107, 12109, 12110, 12115, 12121, 12122, 12124, 12126, 12127, 12128, 12129, 12132, 12134, 12136, 12137, 12138, 12139, 12141, 12146, 12151, 12152, 12153, 12155, 12157, 12160, 12161, 12162, 12164, 12166, 12170, 12171, 12176, 12179, 12181, 12182, 12185, 12190, 12201, 12202, 12203, 12204, 12206, 12207, 12209, 12211, 12214, 12215, 12217, 12221, 12226, 12227, 12230, 12233, 12234, 12235, 12238, 12239, 12240, 12241, 12243, 12245, 12248, 12250, 12251, 12253, 12256, 12258, 12260, 12264, 12268, 12269, 12272, 12274, 12275, 12277, 12279, 12280, 12282, 12283, 12285, 12286, 12287, 12292, 12293, 12295, 12296, 12297, 12299, 12301, 12303, 12304, 12305, 12306, 12308, 12309, 12315, 12316, 12317, 12318, 12319, 12320, 12322, 12325, 12326, 12327, 12328, 12330, 12333, 12337, 12339, 12340, 12342, 12343, 12344, 12345, 12346, 12352, 12354, 12355, 12356, 12358, 12359, 12361, 12363, 12365, 12369, 12370, 12371, 12372, 12373, 12375, 12376, 12377, 12385, 12386, 12387, 12388, 12391, 12393, 12398, 12399, 12400, 12402, 12403, 12404, 12407, 12408, 12413, 12415, 12416, 12418, 12419, 12421, 12423, 12424, 12426, 12427, 12428, 12429, 12430, 12432, 12433, 12434, 12442, 12444, 12445, 12446, 12448, 12452, 12454, 12455, 12457, 12458, 12460, 12461, 12462, 12463, 12466, 12467, 12474, 12478, 12483, 12484, 12487, 12491, 12493, 12494], [], [], [], [], [], [11, 17, 19, 32, 35, 39, 41, 48, 51, 70, 76, 78, 89, 94, 95, 106, 120, 127, 129, 135, 136, 143, 144, 156, 159, 161, 173, 178, 179, 196, 200, 202, 204, 213, 263, 265, 286, 297, 300, 311, 317, 327, 342, 353, 355, 380, 382, 390, 394, 395, 403, 406, 409, 424, 432, 458, 459, 470, 477, 490, 498, 503, 524, 525, 531, 536, 538, 548, 554, 556, 577, 578, 592, 599, 616, 626, 628, 654, 656, 657, 663, 677, 678, 684, 692, 693, 694, 696, 700, 715, 737, 738, 742, 746, 747, 749, 750, 751, 762, 764, 768, 774, 779, 781, 788, 790, 799, 801, 802, 807, 819, 839, 846, 855, 865, 869, 881, 891, 909, 912, 913, 915, 924, 932, 933, 934, 938, 939, 949, 954, 959, 972, 1004, 1012, 1013, 1021, 1023, 1030, 1045, 1047, 1058, 1077, 1083, 1084, 1097, 1113, 1115, 1132, 1138, 1157, 1189, 1195, 1198, 1200, 1207, 1208, 1209, 1216, 1259, 1262, 1264, 1281, 1284, 1301, 1303, 1312, 1313, 1325, 1327, 1342, 1344, 1402, 1408, 1419, 1427, 1439, 1455, 1468, 1474, 1507, 1511, 1526, 1529, 1544, 1561, 1571, 1577, 1594, 1611, 1618, 1626, 1627, 1632, 1639, 1648, 1667, 1669, 1674, 1676, 1678, 1682, 1689, 1690, 1691, 1700, 1701, 1703, 1706, 1709, 1710, 1727, 1742, 1750, 1758, 1769, 1773, 1776, 1777, 1783, 1791, 1807, 1812, 1814, 1817, 1820, 1821, 1822, 1824, 1831, 1841, 1842, 1850, 1866, 1879, 1881, 1887, 1912, 1914, 1927, 1928, 1938, 1941, 1942, 1944, 1980, 1984, 1996, 1998, 1999, 2005, 2007, 2008, 2011, 2023, 2028, 2040, 2041, 2052, 2055, 2057, 2069, 2076, 2092, 2111, 2123, 2125, 2127, 2133, 2135, 2140, 2157, 2164, 2173, 2176, 2180, 2182, 2190, 2196, 2207, 2208, 2209, 2215, 2217, 2219, 2232, 2243, 2245, 2248, 2252, 2257, 2260, 2261, 2263, 2269, 2277, 2303, 2310, 2311, 2330, 2335, 2346, 2348, 2355, 2356, 2370, 2379, 2386, 2391, 2392, 2395, 2430, 2439, 2441, 2442, 2448, 2452, 2462, 2464, 2469, 2470, 2481, 2483, 2487, 2488, 2490, 2491, 2494, 2509, 2512, 2519, 2523, 2525, 2526, 2548, 2549, 2553, 2557, 2562, 2567, 2581, 2583, 2588, 2589, 2600, 2603, 2606, 2612, 2620, 2625, 2636, 2646, 2647, 2677, 2680, 2693, 2704, 2707, 2711, 2715, 2717, 2749, 2756, 2774, 2777, 2778, 2782, 2783, 2789, 2794, 2801, 2814, 2820, 2821, 2823, 2824, 2826, 2834, 2835, 2838, 2841, 2849, 2854, 2860, 2864, 2867, 2870, 2876, 2877, 2878, 2885, 2906, 2911, 2923, 2924, 2935, 2948, 2950, 2954, 2973, 2983, 2989, 2993, 3002, 3019, 3023, 3027, 3031, 3053, 3059, 3063, 3067, 3075, 3078, 3097, 3098, 3101, 3104, 3112, 3123, 3130, 3132, 3137, 3142, 3147, 3157, 3174, 3189, 3202, 3212, 3221, 3226, 3230, 3241, 3249, 3262, 3268, 3280, 3284, 3285, 3287, 3298, 3301, 3305, 3312, 3319, 3344, 3351, 3354, 3361, 3365, 3366, 3367, 3373, 3375, 3380, 3381, 3388, 3393, 3395, 3419, 3431, 3440, 3444, 3456, 3461, 3462, 3465, 3471, 3477, 3486, 3489, 3490, 3492, 3493, 3494, 3518, 3519, 3522, 3529, 3533, 3536, 3538, 3562, 3563, 3567, 3573, 3576, 3586, 3587, 3605, 3608, 3632, 3638, 3656, 3666, 3667, 3674, 3686, 3689, 3700, 3707, 3708, 3713, 3715, 3726, 3735, 3744, 3746, 3754, 3762, 3772, 3778, 3788, 3805, 3810, 3816, 3828, 3851, 3865, 3867, 3900, 3914, 3915, 3916, 3927, 3930, 3944, 3952, 3954, 3971, 3980, 3986, 3990, 3993, 3995, 3996, 4003, 4004, 4005, 4018, 4028, 4030, 4036, 4037, 4044, 4046, 4051, 4056, 4064, 4070, 4074, 4076, 4078, 4090, 4096, 4097, 4098, 4116, 4123, 4124, 4125, 4131, 4148, 4151, 4153, 4157, 4167, 4168, 4171, 4174, 4175, 4187, 4189, 4192, 4194, 4200, 4204, 4207, 4218, 4219, 4221, 4228, 4238, 4242, 4243, 4248, 4250, 4251, 4252, 4254, 4277, 4281, 4297, 4305, 4306, 4323, 4326, 4330, 4334, 4337, 4343, 4345, 4351, 4353, 4365, 4386, 4393, 4404, 4413, 4416, 4423, 4424, 4426, 4434, 4438, 4450, 4452, 4454, 4467, 4468, 4475, 4476, 4486, 4488, 4494, 4506, 4510, 4511, 4530, 4534, 4536, 4541, 4556, 4561, 4572, 4573, 4575, 4577, 4579, 4582, 4585, 4613, 4614, 4624, 4631, 4633, 4642, 4644, 4648, 4651, 4661, 4663, 4672, 4677, 4696, 4697, 4701, 4710, 4715, 4716, 4741, 4746, 4748, 4757, 4762, 4763, 4768, 4770, 4772, 4774, 4783, 4799, 4804, 4808, 4821, 4823, 4831, 4833, 4845, 4851, 4856, 4863, 4870, 4873, 4889, 4898, 4905, 4911, 4923, 4937, 4963, 4964, 4967, 4969, 4976, 4978, 4993, 4998, 5009, 5014, 5029, 5034, 5049, 5054, 5055, 5063, 5071, 5080, 5085, 5086, 5089, 5090, 5111, 5127, 5131, 5146, 5149, 5153, 5154, 5162, 5180, 5185, 5193, 5222, 5228, 5237, 5240, 5255, 5262, 5274, 5282, 5283, 5291, 5299, 5303, 5312, 5316, 5328, 5334, 5347, 5354, 5356, 5360, 5362, 5367, 5384, 5387, 5390, 5391, 5412, 5436, 5443, 5455, 5457, 5459, 5460, 5462, 5465, 5468, 5481, 5484, 5486, 5489, 5500, 5501, 5504, 5506, 5509, 5513, 5525, 5533, 5534, 5536, 5537, 5551, 5554, 5557, 5569, 5575, 5576, 5578, 5579, 5587, 5594, 5604, 5609, 5614, 5617, 5630, 5633, 5636, 5640, 5645, 5662, 5664, 5669, 5671, 5682, 5687, 5690, 5699, 5700, 5701, 5712, 5714, 5721, 5723, 5731, 5732, 5736, 5761, 5769, 5775, 5782, 5790, 5810, 5817, 5820, 5831, 5836, 5849, 5853, 5854, 5857, 5871, 5875, 5876, 5883, 5884, 5890, 5893, 5900, 5906, 5910, 5925, 5927, 5928, 5941, 5942, 5949, 5953, 5962, 5967, 5981, 5987, 6001, 6006, 6016, 6018, 6025, 6031, 6032, 6065, 6069, 6079, 6084, 6090, 6096, 6098, 6105, 6107, 6115, 6147, 6150, 6152, 6154, 6161, 6167, 6168, 6177, 6183, 6184, 6190, 6208, 6210, 6217, 6235, 6244, 6251, 6252, 6262, 6276, 6290, 6293, 6314, 6315, 6321, 6326, 6335, 6337, 6345, 6350, 6354, 6357, 6365, 6375, 6385, 6392, 6412, 6415, 6418, 6423, 6427, 6430, 6437, 6438, 6439, 6441, 6446, 6451, 6462, 6464, 6468, 6489, 6504, 6508, 6512, 6513, 6515, 6525, 6529, 6535, 6540, 6544, 6549, 6550, 6551, 6557, 6569, 6571, 6575, 6609, 6611, 6616, 6648, 6655, 6665, 6667, 6671, 6682, 6683, 6688, 6693, 6695, 6706, 6716, 6723, 6725, 6737, 6750, 6751, 6763, 6767, 6781, 6807, 6810, 6812, 6824, 6827, 6828, 6831, 6833, 6835, 6845, 6846, 6851, 6874, 6887, 6890, 6905, 6909, 6919, 6940, 6941, 6946, 6960, 6976, 6982, 6983, 6984, 7001, 7021, 7026, 7030, 7036, 7056, 7064, 7071, 7082, 7093, 7098, 7102, 7106, 7113, 7143, 7150, 7171, 7172, 7177, 7182, 7212, 7214, 7223, 7229, 7231, 7233, 7243, 7252, 7259, 7273, 7280, 7282, 7302, 7316, 7327, 7329, 7333, 7351, 7352, 7358, 7366, 7372, 7379, 7390, 7396, 7397, 7405, 7424, 7427, 7428, 7429, 7441, 7442, 7444, 7449, 7451, 7452, 7453, 7456, 7481, 7485, 7514, 7518, 7525, 7540, 7545, 7557, 7564, 7587, 7594, 7596, 7603, 7604, 7611, 7614, 7623, 7630, 7645, 7661, 7664, 7677, 7680, 7682, 7688, 7690, 7697, 7703, 7706, 7771, 7772, 7781, 7793, 7802, 7819, 7826, 7831, 7839, 7840, 7843, 7848, 7850, 7853, 7854, 7861, 7866, 7869, 7875, 7890, 7896, 7900, 7918, 7919, 7920, 7921, 7929, 7930, 7935, 7947, 7954, 7955, 7957, 7961, 7965, 7967, 7973, 7974, 7975, 7977, 7983, 7989, 8001, 8009, 8010, 8032, 8040, 8062, 8071, 8087, 8090, 8100, 8101, 8115, 8119, 8123, 8125, 8129, 8133, 8134, 8139, 8143, 8158, 8167, 8170, 8179, 8184, 8202, 8224, 8225, 8226, 8235, 8243, 8244, 8246, 8247, 8264, 8271, 8274, 8277, 8282, 8290, 8296, 8299, 8300, 8307, 8326, 8329, 8343, 8348, 8359, 8363, 8377, 8379, 8383, 8392, 8397, 8407, 8412, 8423, 8426, 8428, 8429, 8432, 8438, 8439, 8457, 8479, 8486, 8489, 8490, 8494, 8503, 8506, 8511, 8526, 8535, 8536, 8548, 8551, 8560, 8570, 8576, 8581, 8583, 8589, 8599, 8604, 8607, 8608, 8609, 8636, 8645, 8647, 8654, 8656, 8662, 8667, 8690, 8693, 8705, 8706, 8707, 8710, 8721, 8724, 8737, 8747, 8748, 8761, 8767, 8790, 8797, 8806, 8813, 8815, 8834, 8839, 8843, 8861, 8887, 8889, 8894, 8900, 8902, 8909, 8911, 8926, 8939, 8940, 8949, 8952, 8961, 8972, 8983, 8999, 9003, 9013, 9020, 9034, 9044, 9047, 9050, 9065, 9071, 9076, 9106, 9117, 9123, 9125, 9129, 9135, 9176, 9180, 9181, 9196, 9201, 9210, 9219, 9227, 9235, 9241, 9250, 9260, 9267, 9279, 9285, 9291, 9295, 9317, 9331, 9333, 9339, 9344, 9345, 9346, 9350, 9351, 9362, 9365, 9375, 9382, 9384, 9393, 9399, 9403, 9407, 9413, 9416, 9438, 9442, 9444, 9448, 9450, 9453, 9462, 9470, 9471, 9476, 9486, 9487, 9498, 9505, 9506, 9513, 9518, 9543, 9544, 9546, 9553, 9554, 9555, 9560, 9567, 9577, 9578, 9584, 9603, 9616, 9636, 9643, 9646, 9653, 9667, 9672, 9679, 9683, 9692, 9693, 9695, 9703, 9705, 9708, 9714, 9716, 9719, 9730, 9757, 9781, 9782, 9786, 9801, 9802, 9803, 9814, 9819, 9821, 9824, 9853, 9869, 9872, 9874, 9878, 9879, 9880, 9883, 9890, 9916, 9929, 9934, 9936, 9937, 9942, 9948, 9957, 9964, 9972, 9979, 9993, 9994, 10001, 10010, 10011, 10014, 10017, 10023, 10027, 10039, 10044, 10048, 10049, 10063, 10067, 10069, 10089, 10091, 10117, 10134, 10140, 10153, 10185, 10192, 10197, 10210, 10222, 10228, 10235, 10236, 10248, 10256, 10257, 10268, 10277, 10281, 10299, 10305, 10325, 10356, 10358, 10365, 10372, 10379, 10380, 10386, 10396, 10407, 10412, 10420, 10427, 10439, 10441, 10445, 10450, 10460, 10470, 10471, 10474, 10481, 10490, 10493, 10497, 10505, 10508, 10510, 10512, 10520, 10524, 10528, 10530, 10536, 10539, 10540, 10542, 10546, 10556, 10560, 10566, 10567, 10574, 10586, 10588, 10593, 10601, 10608, 10618, 10622, 10630, 10650, 10659, 10676, 10696, 10701, 10715, 10724, 10729, 10733, 10735, 10748, 10752, 10754, 10757, 10763, 10764, 10772, 10784, 10792, 10806, 10815, 10827, 10828, 10838, 10842, 10844, 10848, 10855, 10858, 10867, 10869, 10872, 10873, 10879, 10881, 10887, 10888, 10898, 10900, 10902, 10906, 10922, 10935, 10936, 10951, 10960, 10965, 10972, 10976, 10978, 10979, 10983, 11002, 11005, 11016, 11018, 11022, 11025, 11027, 11037, 11038, 11062, 11072, 11075, 11086, 11093, 11101, 11111, 11113, 11117, 11122, 11129, 11131, 11139, 11145, 11147, 11150, 11167, 11170, 11178, 11184, 11185, 11202, 11203, 11206, 11213, 11215, 11224, 11227, 11232, 11239, 11253, 11255, 11257, 11260, 11261, 11263, 11283, 11287, 11298, 11304, 11309, 11316, 11320, 11323, 11325, 11336, 11344, 11345, 11347, 11357, 11364, 11370, 11396, 11397, 11413, 11415, 11417, 11429, 11437, 11439, 11443, 11445, 11447, 11450, 11453, 11462, 11490, 11491, 11492, 11498, 11518, 11520, 11525, 11527, 11528, 11533, 11534, 11543, 11544, 11546, 11551, 11559, 11563, 11573, 11576, 11584, 11589, 11594, 11605, 11606, 11608, 11617, 11643, 11655, 11676, 11678, 11693, 11695, 11705, 11728, 11729, 11731, 11747, 11754, 11755, 11757, 11760, 11761, 11762, 11768, 11770, 11780, 11787, 11788, 11793, 11796, 11804, 11805, 11808, 11817, 11818, 11836, 11840, 11856, 11859, 11863, 11868, 11879, 11890, 11912, 11913, 11914, 11915, 11925, 11928, 11942, 11962, 11966, 11984, 12000, 12001, 12006, 12015, 12016, 12026, 12027, 12030, 12034, 12035, 12037, 12038, 12042, 12061, 12069, 12077, 12084, 12089, 12098, 12106, 12111, 12114, 12118, 12119, 12123, 12125, 12145, 12149, 12150, 12158, 12165, 12173, 12174, 12175, 12177, 12184, 12188, 12192, 12199, 12210, 12212, 12225, 12229, 12236, 12237, 12246, 12247, 12265, 12270, 12278, 12281, 12298, 12300, 12302, 12329, 12332, 12334, 12338, 12347, 12348, 12360, 12364, 12366, 12382, 12394, 12406, 12420, 12440, 12451, 12464, 12473, 12475, 12476, 12481, 12485, 12492, 12495, 12497, 12498, 12499], [50, 54, 55, 58, 81, 100, 102, 111, 138, 163, 199, 211, 219, 223, 247, 257, 273, 278, 309, 323, 329, 357, 362, 367, 404, 410, 425, 446, 453, 465, 483, 486, 514, 526, 557, 604, 623, 646, 688, 697, 698, 712, 723, 733, 739, 756, 761, 780, 785, 789, 797, 871, 874, 897, 901, 935, 955, 983, 989, 990, 997, 1038, 1043, 1046, 1050, 1054, 1056, 1074, 1135, 1136, 1143, 1145, 1154, 1167, 1179, 1181, 1205, 1229, 1235, 1237, 1309, 1322, 1339, 1343, 1383, 1423, 1428, 1435, 1449, 1463, 1464, 1473, 1488, 1505, 1506, 1530, 1543, 1579, 1608, 1640, 1656, 1673, 1695, 1735, 1736, 1739, 1765, 1768, 1805, 1833, 1835, 1843, 1853, 1858, 1867, 1884, 1885, 1889, 1896, 1897, 1908, 1910, 1911, 1961, 2064, 2079, 2086, 2101, 2103, 2141, 2153, 2183, 2223, 2229, 2238, 2272, 2287, 2312, 2321, 2347, 2349, 2351, 2371, 2374, 2403, 2406, 2451, 2460, 2484, 2532, 2533, 2544, 2555, 2570, 2587, 2605, 2608, 2616, 2637, 2657, 2684, 2689, 2694, 2709, 2729, 2752, 2753, 2784, 2793, 2809, 2832, 2845, 2846, 2858, 2863, 2905, 2919, 2920, 2925, 2938, 2949, 3000, 3003, 3012, 3015, 3032, 3033, 3038, 3042, 3048, 3056, 3095, 3158, 3176, 3232, 3244, 3257, 3275, 3288, 3299, 3317, 3338, 3355, 3387, 3389, 3407, 3433, 3475, 3499, 3506, 3543, 3560, 3615, 3617, 3618, 3644, 3657, 3665, 3679, 3698, 3699, 3720, 3734, 3768, 3779, 3798, 3807, 3815, 3844, 3872, 3907, 3921, 3942, 3948, 3951, 3963, 3968, 3975, 4020, 4026, 4039, 4041, 4054, 4055, 4067, 4084, 4091, 4115, 4179, 4185, 4193, 4206, 4210, 4213, 4258, 4286, 4316, 4335, 4357, 4358, 4360, 4378, 4394, 4427, 4430, 4437, 4439, 4441, 4444, 4463, 4474, 4481, 4503, 4533, 4621, 4622, 4637, 4640, 4681, 4694, 4709, 4721, 4767, 4776, 4778, 4801, 4802, 4834, 4842, 4849, 4854, 4864, 4884, 4895, 4914, 4917, 4918, 4958, 4968, 4971, 4974, 5030, 5041, 5088, 5106, 5141, 5161, 5195, 5207, 5215, 5216, 5219, 5251, 5252, 5253, 5268, 5279, 5309, 5311, 5353, 5355, 5372, 5383, 5388, 5395, 5399, 5408, 5414, 5454, 5511, 5524, 5585, 5595, 5607, 5610, 5612, 5624, 5625, 5643, 5654, 5677, 5691, 5695, 5706, 5725, 5734, 5741, 5742, 5773, 5777, 5786, 5805, 5827, 5866, 5932, 5937, 5969, 5988, 6029, 6030, 6048, 6050, 6071, 6078, 6092, 6114, 6128, 6143, 6155, 6194, 6204, 6237, 6248, 6249, 6254, 6261, 6266, 6270, 6292, 6295, 6319, 6341, 6381, 6391, 6402, 6425, 6477, 6486, 6498, 6509, 6530, 6556, 6580, 6596, 6625, 6674, 6677, 6681, 6696, 6712, 6733, 6774, 6783, 6786, 6799, 6808, 6809, 6811, 6814, 6839, 6852, 6862, 6875, 6896, 6897, 6906, 6917, 6923, 6924, 6927, 6929, 6933, 6935, 6958, 6967, 6986, 7006, 7011, 7037, 7041, 7057, 7067, 7074, 7080, 7110, 7164, 7222, 7268, 7299, 7322, 7324, 7325, 7346, 7408, 7421, 7570, 7577, 7591, 7598, 7616, 7631, 7633, 7635, 7656, 7668, 7695, 7755, 7757, 7763, 7789, 7792, 7809, 7838, 7862, 7871, 7882, 7886, 7923, 7968, 7981, 7995, 8012, 8021, 8049, 8059, 8063, 8081, 8102, 8107, 8161, 8177, 8183, 8199, 8215, 8272, 8309, 8310, 8332, 8368, 8378, 8387, 8394, 8443, 8452, 8460, 8468, 8470, 8471, 8480, 8554, 8557, 8574, 8575, 8578, 8596, 8603, 8606, 8665, 8676, 8694, 8725, 8752, 8784, 8789, 8800, 8803, 8814, 8848, 8853, 8879, 8966, 8967, 8974, 8976, 8991, 8992, 9015, 9024, 9037, 9067, 9068, 9103, 9113, 9120, 9121, 9131, 9145, 9146, 9158, 9186, 9246, 9247, 9263, 9301, 9305, 9307, 9313, 9336, 9359, 9397, 9404, 9406, 9411, 9430, 9463, 9465, 9510, 9530, 9539, 9542, 9545, 9563, 9565, 9574, 9589, 9594, 9620, 9627, 9638, 9639, 9641, 9655, 9661, 9663, 9671, 9676, 9680, 9694, 9696, 9701, 9707, 9713, 9724, 9733, 9745, 9748, 9760, 9815, 9823, 9833, 9845, 9847, 9888, 9909, 9918, 9922, 9926, 9944, 9956, 9969, 9975, 9981, 9984, 10002, 10021, 10022, 10036, 10037, 10058, 10070, 10108, 10109, 10113, 10114, 10126, 10146, 10148, 10156, 10189, 10202, 10207, 10239, 10272, 10291, 10292, 10294, 10319, 10346, 10350, 10351, 10383, 10399, 10405, 10422, 10423, 10426, 10434, 10448, 10457, 10476, 10479, 10519, 10523, 10602, 10615, 10625, 10633, 10653, 10665, 10692, 10693, 10727, 10742, 10781, 10798, 10799, 10807, 10810, 10813, 10860, 10913, 10918, 10930, 10948, 10956, 10981, 10999, 11056, 11068, 11077, 11081, 11095, 11109, 11124, 11138, 11172, 11193, 11195, 11198, 11207, 11221, 11222, 11254, 11272, 11301, 11343, 11381, 11382, 11406, 11418, 11419, 11426, 11438, 11472, 11494, 11504, 11513, 11532, 11535, 11569, 11580, 11607, 11612, 11614, 11627, 11633, 11641, 11645, 11674, 11699, 11713, 11742, 11749, 11778, 11814, 11826, 11870, 11875, 11894, 11903, 11905, 11911, 11933, 11950, 11974, 11996, 12040, 12046, 12056, 12058, 12062, 12067, 12079, 12080, 12087, 12142, 12143, 12147, 12159, 12187, 12191, 12198, 12200, 12213, 12257, 12266, 12294, 12341, 12350, 12368, 12374, 12381, 12435, 12468, 12496], [], [], [88, 141, 491, 1214, 1854, 1860, 2301, 2505, 2619, 2634, 2771, 3272, 3476, 3681, 3771, 3777, 4068, 4552, 5192, 5326, 5764, 6124, 6732, 6803, 6951, 7058, 7059, 7114, 8534, 8586, 8614, 8772, 9269, 9660, 9848, 10138, 10339, 10667, 11137, 11191, 11837, 11960, 12018], [], [5, 7, 8, 14, 24, 34, 37, 40, 44, 59, 65, 66, 67, 75, 80, 86, 87, 91, 92, 103, 104, 107, 109, 112, 115, 122, 139, 147, 151, 155, 162, 176, 177, 180, 188, 190, 195, 198, 201, 206, 208, 209, 214, 221, 222, 224, 225, 231, 236, 239, 246, 250, 252, 253, 254, 255, 258, 260, 262, 267, 272, 282, 285, 287, 288, 289, 290, 291, 294, 295, 307, 308, 312, 314, 322, 325, 326, 330, 332, 334, 336, 337, 338, 339, 346, 348, 350, 354, 364, 365, 373, 376, 377, 387, 391, 392, 397, 407, 418, 423, 429, 434, 441, 445, 448, 455, 460, 461, 472, 473, 478, 479, 488, 492, 499, 501, 502, 505, 506, 509, 512, 519, 520, 529, 532, 535, 539, 540, 541, 542, 543, 544, 545, 547, 549, 559, 561, 566, 567, 571, 572, 580, 585, 593, 594, 597, 601, 605, 606, 607, 609, 615, 618, 620, 627, 632, 634, 640, 642, 644, 645, 648, 649, 659, 662, 664, 666, 668, 669, 670, 675, 679, 682, 683, 685, 687, 691, 699, 701, 704, 709, 710, 711, 713, 716, 718, 721, 726, 729, 732, 736, 745, 752, 754, 758, 759, 760, 771, 783, 786, 792, 794, 800, 804, 809, 814, 817, 818, 823, 825, 827, 829, 831, 834, 838, 850, 856, 857, 858, 861, 862, 864, 870, 872, 878, 879, 882, 890, 892, 893, 894, 896, 898, 900, 902, 908, 910, 918, 926, 937, 940, 944, 951, 952, 953, 958, 963, 969, 971, 973, 974, 975, 976, 982, 984, 988, 994, 996, 998, 999, 1001, 1002, 1003, 1014, 1015, 1017, 1022, 1027, 1031, 1032, 1036, 1040, 1042, 1051, 1057, 1061, 1062, 1063, 1069, 1071, 1091, 1092, 1093, 1095, 1098, 1099, 1100, 1101, 1106, 1110, 1111, 1117, 1121, 1125, 1127, 1139, 1142, 1149, 1150, 1152, 1153, 1156, 1158, 1159, 1160, 1161, 1164, 1168, 1169, 1170, 1175, 1184, 1186, 1190, 1196, 1197, 1199, 1201, 1210, 1211, 1212, 1221, 1223, 1224, 1225, 1226, 1227, 1228, 1230, 1234, 1239, 1241, 1242, 1247, 1253, 1258, 1260, 1265, 1266, 1269, 1272, 1273, 1276, 1277, 1288, 1289, 1295, 1299, 1300, 1304, 1306, 1308, 1315, 1318, 1338, 1345, 1350, 1355, 1356, 1358, 1360, 1361, 1362, 1363, 1364, 1365, 1366, 1367, 1368, 1369, 1373, 1374, 1375, 1379, 1382, 1388, 1390, 1397, 1398, 1401, 1404, 1405, 1406, 1415, 1417, 1420, 1424, 1425, 1426, 1434, 1438, 1442, 1443, 1445, 1447, 1456, 1460, 1469, 1471, 1486, 1489, 1492, 1497, 1498, 1501, 1504, 1513, 1516, 1517, 1524, 1525, 1528, 1531, 1532, 1535, 1541, 1542, 1547, 1548, 1549, 1553, 1554, 1555, 1557, 1562, 1563, 1565, 1566, 1567, 1568, 1570, 1573, 1575, 1580, 1587, 1591, 1592, 1595, 1596, 1600, 1605, 1616, 1619, 1622, 1625, 1630, 1635, 1636, 1638, 1644, 1645, 1649, 1650, 1651, 1652, 1653, 1662, 1665, 1675, 1679, 1681, 1683, 1684, 1686, 1687, 1692, 1693, 1696, 1697, 1699, 1704, 1712, 1716, 1719, 1725, 1729, 1730, 1731, 1737, 1745, 1749, 1752, 1755, 1757, 1761, 1762, 1763, 1766, 1771, 1780, 1782, 1785, 1786, 1787, 1790, 1793, 1798, 1800, 1804, 1816, 1819, 1823, 1828, 1830, 1840, 1844, 1847, 1848, 1851, 1852, 1857, 1868, 1869, 1870, 1872, 1874, 1876, 1878, 1880, 1882, 1883, 1888, 1892, 1899, 1900, 1913, 1916, 1920, 1926, 1933, 1935, 1937, 1943, 1945, 1946, 1947, 1951, 1952, 1956, 1958, 1959, 1963, 1964, 1965, 1966, 1967, 1968, 1969, 1971, 1974, 1975, 1987, 1988, 1991, 1994, 1995, 2000, 2003, 2010, 2013, 2017, 2022, 2024, 2027, 2031, 2034, 2042, 2043, 2046, 2049, 2050, 2051, 2053, 2058, 2063, 2065, 2070, 2080, 2085, 2087, 2090, 2091, 2106, 2110, 2115, 2124, 2126, 2131, 2134, 2143, 2146, 2148, 2152, 2154, 2155, 2162, 2169, 2175, 2178, 2185, 2191, 2193, 2195, 2203, 2204, 2216, 2224, 2227, 2234, 2236, 2237, 2239, 2246, 2247, 2249, 2254, 2264, 2265, 2268, 2273, 2274, 2275, 2278, 2279, 2282, 2283, 2284, 2285, 2288, 2290, 2291, 2292, 2294, 2296, 2300, 2302, 2307, 2308, 2315, 2319, 2320, 2322, 2323, 2324, 2326, 2327, 2332, 2333, 2334, 2336, 2337, 2340, 2341, 2345, 2353, 2376, 2377, 2384, 2388, 2393, 2397, 2408, 2413, 2415, 2417, 2418, 2419, 2421, 2423, 2425, 2428, 2432, 2434, 2438, 2443, 2444, 2445, 2447, 2449, 2450, 2454, 2456, 2457, 2461, 2463, 2467, 2471, 2474, 2476, 2482, 2485, 2492, 2493, 2498, 2499, 2500, 2503, 2515, 2516, 2520, 2522, 2528, 2535, 2543, 2545, 2547, 2550, 2554, 2558, 2560, 2563, 2565, 2566, 2569, 2578, 2586, 2598, 2604, 2611, 2615, 2621, 2628, 2630, 2633, 2635, 2638, 2639, 2653, 2661, 2662, 2663, 2670, 2676, 2682, 2686, 2692, 2695, 2696, 2701, 2703, 2708, 2726, 2727, 2728, 2732, 2734, 2736, 2741, 2742, 2744, 2745, 2748, 2750, 2751, 2754, 2755, 2757, 2761, 2764, 2765, 2768, 2772, 2775, 2779, 2785, 2799, 2800, 2805, 2808, 2810, 2813, 2816, 2818, 2819, 2822, 2825, 2828, 2836, 2842, 2843, 2851, 2852, 2853, 2856, 2857, 2861, 2866, 2868, 2871, 2872, 2883, 2884, 2886, 2888, 2891, 2892, 2896, 2897, 2908, 2914, 2917, 2918, 2922, 2932, 2933, 2936, 2942, 2943, 2945, 2955, 2957, 2958, 2959, 2964, 2972, 2974, 2977, 2979, 2982, 2986, 2988, 2990, 2995, 2998, 2999, 3006, 3007, 3008, 3011, 3017, 3018, 3025, 3026, 3050, 3051, 3057, 3058, 3062, 3073, 3074, 3080, 3084, 3091, 3093, 3094, 3096, 3102, 3106, 3107, 3113, 3114, 3116, 3119, 3122, 3125, 3129, 3131, 3133, 3139, 3140, 3144, 3149, 3154, 3160, 3161, 3163, 3164, 3165, 3168, 3169, 3173, 3180, 3182, 3185, 3187, 3191, 3192, 3199, 3200, 3203, 3205, 3206, 3210, 3211, 3215, 3216, 3223, 3225, 3231, 3237, 3238, 3247, 3248, 3250, 3253, 3256, 3259, 3260, 3265, 3271, 3273, 3274, 3276, 3277, 3278, 3279, 3286, 3291, 3292, 3297, 3300, 3303, 3318, 3327, 3328, 3330, 3331, 3332, 3335, 3336, 3349, 3358, 3371, 3377, 3379, 3386, 3390, 3400, 3402, 3404, 3408, 3418, 3420, 3421, 3422, 3425, 3426, 3427, 3428, 3437, 3439, 3443, 3446, 3449, 3452, 3457, 3459, 3463, 3466, 3467, 3468, 3469, 3474, 3480, 3483, 3484, 3488, 3495, 3497, 3500, 3501, 3504, 3505, 3507, 3510, 3512, 3517, 3523, 3525, 3532, 3537, 3540, 3544, 3548, 3550, 3554, 3555, 3557, 3559, 3564, 3565, 3566, 3570, 3571, 3575, 3583, 3584, 3588, 3592, 3594, 3595, 3597, 3600, 3603, 3604, 3610, 3611, 3620, 3621, 3626, 3627, 3629, 3631, 3633, 3634, 3640, 3642, 3646, 3649, 3650, 3652, 3655, 3658, 3661, 3662, 3664, 3669, 3670, 3675, 3678, 3680, 3682, 3684, 3688, 3692, 3697, 3702, 3704, 3711, 3716, 3718, 3719, 3725, 3727, 3730, 3731, 3732, 3738, 3740, 3750, 3759, 3760, 3761, 3769, 3773, 3774, 3780, 3781, 3783, 3787, 3791, 3792, 3793, 3794, 3796, 3797, 3802, 3803, 3812, 3820, 3821, 3822, 3827, 3832, 3835, 3836, 3837, 3839, 3840, 3841, 3842, 3845, 3846, 3854, 3855, 3859, 3860, 3861, 3863, 3871, 3873, 3879, 3880, 3881, 3886, 3888, 3891, 3896, 3902, 3904, 3905, 3910, 3922, 3926, 3931, 3937, 3938, 3943, 3945, 3946, 3962, 3966, 3967, 3969, 3972, 3974, 3976, 3977, 3979, 3982, 3988, 3989, 3994, 3997, 3998, 4001, 4002, 4006, 4009, 4016, 4019, 4031, 4033, 4052, 4053, 4057, 4058, 4059, 4061, 4062, 4072, 4073, 4082, 4087, 4088, 4099, 4101, 4102, 4109, 4110, 4111, 4112, 4134, 4141, 4142, 4143, 4149, 4150, 4160, 4161, 4162, 4165, 4166, 4169, 4172, 4173, 4177, 4196, 4199, 4214, 4215, 4216, 4224, 4226, 4229, 4231, 4235, 4236, 4241, 4255, 4256, 4261, 4262, 4263, 4264, 4266, 4271, 4273, 4274, 4282, 4285, 4287, 4288, 4290, 4292, 4301, 4303, 4307, 4309, 4312, 4318, 4319, 4327, 4328, 4329, 4331, 4332, 4336, 4341, 4342, 4344, 4347, 4350, 4356, 4362, 4363, 4369, 4371, 4373, 4374, 4381, 4383, 4385, 4388, 4392, 4395, 4400, 4401, 4407, 4408, 4409, 4411, 4412, 4418, 4422, 4425, 4433, 4440, 4446, 4447, 4448, 4449, 4460, 4461, 4464, 4469, 4470, 4471, 4472, 4480, 4482, 4483, 4485, 4502, 4507, 4509, 4512, 4514, 4515, 4520, 4521, 4523, 4525, 4526, 4535, 4537, 4542, 4546, 4550, 4554, 4555, 4559, 4560, 4562, 4563, 4565, 4569, 4570, 4583, 4584, 4591, 4594, 4598, 4599, 4600, 4603, 4604, 4606, 4609, 4610, 4611, 4635, 4655, 4659, 4668, 4673, 4678, 4679, 4682, 4685, 4688, 4695, 4699, 4706, 4711, 4713, 4718, 4719, 4723, 4725, 4728, 4730, 4733, 4734, 4735, 4736, 4745, 4749, 4751, 4761, 4775, 4777, 4779, 4787, 4789, 4798, 4803, 4805, 4812, 4814, 4815, 4817, 4824, 4826, 4829, 4835, 4836, 4843, 4844, 4850, 4853, 4859, 4860, 4868, 4869, 4876, 4877, 4879, 4881, 4883, 4885, 4888, 4892, 4893, 4900, 4910, 4919, 4920, 4924, 4925, 4932, 4935, 4939, 4946, 4952, 4954, 4955, 4957, 4959, 4965, 4970, 4975, 4984, 4985, 4988, 4991, 4992, 4995, 4999, 5000, 5001, 5002, 5003, 5005, 5007, 5008, 5013, 5016, 5026, 5032, 5039, 5040, 5045, 5050, 5064, 5066, 5068, 5070, 5073, 5075, 5078, 5079, 5081, 5087, 5092, 5094, 5095, 5100, 5103, 5104, 5107, 5108, 5113, 5115, 5116, 5117, 5121, 5124, 5130, 5136, 5152, 5156, 5160, 5166, 5167, 5168, 5169, 5170, 5173, 5175, 5178, 5181, 5186, 5188, 5189, 5190, 5196, 5198, 5202, 5203, 5205, 5214, 5218, 5224, 5225, 5230, 5231, 5232, 5236, 5242, 5244, 5248, 5250, 5259, 5260, 5263, 5266, 5271, 5273, 5281, 5284, 5296, 5297, 5301, 5302, 5318, 5322, 5329, 5337, 5339, 5340, 5341, 5343, 5350, 5357, 5363, 5366, 5370, 5377, 5378, 5382, 5386, 5393, 5398, 5401, 5404, 5406, 5407, 5410, 5411, 5413, 5415, 5416, 5418, 5420, 5423, 5424, 5426, 5427, 5428, 5433, 5435, 5437, 5442, 5446, 5449, 5451, 5471, 5472, 5473, 5474, 5475, 5480, 5490, 5492, 5497, 5503, 5507, 5508, 5510, 5514, 5515, 5518, 5520, 5522, 5523, 5539, 5546, 5547, 5553, 5558, 5559, 5562, 5565, 5566, 5567, 5568, 5571, 5573, 5574, 5583, 5584, 5588, 5592, 5597, 5601, 5605, 5606, 5608, 5611, 5615, 5616, 5618, 5626, 5628, 5631, 5635, 5644, 5651, 5652, 5653, 5661, 5665, 5667, 5668, 5674, 5678, 5688, 5689, 5692, 5693, 5696, 5702, 5703, 5709, 5713, 5715, 5718, 5726, 5728, 5730, 5737, 5740, 5749, 5750, 5755, 5757, 5758, 5762, 5767, 5771, 5772, 5781, 5783, 5788, 5799, 5808, 5809, 5813, 5815, 5816, 5822, 5823, 5824, 5825, 5834, 5838, 5839, 5842, 5843, 5844, 5845, 5846, 5847, 5855, 5860, 5864, 5870, 5872, 5878, 5888, 5889, 5892, 5899, 5901, 5904, 5911, 5914, 5918, 5919, 5920, 5922, 5929, 5931, 5933, 5936, 5938, 5944, 5946, 5948, 5950, 5954, 5956, 5960, 5963, 5970, 5976, 5978, 5980, 5985, 5991, 5992, 6013, 6027, 6033, 6038, 6040, 6046, 6054, 6061, 6068, 6070, 6072, 6077, 6080, 6081, 6085, 6089, 6100, 6104, 6106, 6120, 6125, 6129, 6131, 6132, 6133, 6142, 6145, 6149, 6151, 6169, 6170, 6171, 6173, 6174, 6175, 6191, 6192, 6193, 6195, 6196, 6199, 6205, 6206, 6209, 6211, 6214, 6215, 6223, 6224, 6225, 6236, 6240, 6241, 6245, 6246, 6247, 6257, 6272, 6274, 6279, 6280, 6283, 6284, 6286, 6291, 6301, 6312, 6322, 6325, 6329, 6332, 6338, 6340, 6343, 6344, 6348, 6355, 6356, 6358, 6363, 6369, 6372, 6373, 6376, 6377, 6378, 6379, 6388, 6398, 6399, 6400, 6405, 6407, 6411, 6414, 6416, 6417, 6420, 6431, 6445, 6452, 6460, 6461, 6467, 6469, 6471, 6472, 6473, 6474, 6475, 6476, 6478, 6479, 6481, 6484, 6488, 6501, 6503, 6511, 6516, 6521, 6523, 6524, 6536, 6537, 6542, 6547, 6552, 6553, 6555, 6558, 6563, 6565, 6572, 6573, 6574, 6576, 6577, 6579, 6581, 6585, 6586, 6591, 6593, 6595, 6602, 6603, 6613, 6619, 6621, 6624, 6631, 6634, 6641, 6642, 6643, 6645, 6647, 6649, 6657, 6659, 6668, 6670, 6678, 6684, 6685, 6686, 6697, 6698, 6699, 6700, 6703, 6707, 6710, 6713, 6715, 6717, 6721, 6722, 6724, 6726, 6730, 6731, 6734, 6745, 6746, 6747, 6755, 6756, 6762, 6765, 6768, 6779, 6780, 6782, 6784, 6789, 6791, 6795, 6797, 6801, 6804, 6821, 6822, 6837, 6843, 6844, 6849, 6850, 6855, 6857, 6860, 6861, 6864, 6866, 6868, 6871, 6873, 6881, 6883, 6884, 6885, 6886, 6889, 6895, 6912, 6914, 6915, 6920, 6921, 6925, 6932, 6936, 6937, 6938, 6942, 6954, 6955, 6962, 6966, 6969, 6970, 6985, 6988, 6989, 6990, 6992, 6993, 6994, 6995, 6996, 6997, 6998, 7007, 7008, 7009, 7012, 7013, 7019, 7020, 7027, 7028, 7038, 7039, 7046, 7047, 7053, 7060, 7065, 7068, 7078, 7087, 7088, 7094, 7096, 7103, 7112, 7115, 7116, 7121, 7122, 7126, 7133, 7135, 7136, 7142, 7147, 7151, 7154, 7157, 7158, 7159, 7160, 7163, 7169, 7173, 7175, 7176, 7184, 7185, 7186, 7189, 7190, 7191, 7192, 7193, 7201, 7203, 7205, 7207, 7210, 7213, 7217, 7220, 7221, 7228, 7230, 7232, 7235, 7236, 7241, 7245, 7246, 7249, 7257, 7262, 7272, 7275, 7276, 7283, 7286, 7287, 7288, 7291, 7292, 7294, 7295, 7296, 7300, 7305, 7308, 7311, 7314, 7315, 7318, 7319, 7321, 7326, 7328, 7330, 7339, 7343, 7347, 7353, 7357, 7376, 7378, 7383, 7385, 7386, 7387, 7388, 7389, 7391, 7393, 7395, 7398, 7401, 7404, 7415, 7419, 7420, 7422, 7423, 7425, 7430, 7434, 7436, 7439, 7450, 7459, 7462, 7463, 7464, 7465, 7469, 7473, 7479, 7501, 7503, 7505, 7507, 7510, 7511, 7519, 7520, 7521, 7523, 7527, 7528, 7530, 7531, 7534, 7536, 7537, 7544, 7547, 7550, 7552, 7553, 7554, 7562, 7563, 7566, 7569, 7573, 7574, 7575, 7580, 7582, 7583, 7585, 7593, 7606, 7612, 7613, 7615, 7617, 7620, 7621, 7624, 7636, 7637, 7638, 7643, 7644, 7650, 7651, 7653, 7657, 7669, 7675, 7684, 7686, 7689, 7694, 7699, 7707, 7708, 7709, 7710, 7718, 7719, 7721, 7725, 7729, 7731, 7733, 7735, 7738, 7742, 7745, 7747, 7749, 7751, 7753, 7756, 7760, 7765, 7768, 7775, 7780, 7786, 7787, 7795, 7798, 7799, 7800, 7805, 7810, 7812, 7817, 7818, 7821, 7823, 7824, 7830, 7833, 7835, 7842, 7855, 7856, 7860, 7863, 7864, 7865, 7867, 7868, 7874, 7877, 7879, 7888, 7889, 7899, 7904, 7915, 7926, 7928, 7931, 7932, 7939, 7941, 7944, 7945, 7948, 7949, 7952, 7963, 7964, 7969, 7971, 7986, 7988, 7991, 7992, 7997, 7999, 8002, 8007, 8018, 8025, 8029, 8030, 8031, 8038, 8042, 8048, 8051, 8053, 8065, 8073, 8075, 8077, 8079, 8080, 8083, 8093, 8094, 8098, 8104, 8106, 8109, 8113, 8117, 8131, 8132, 8141, 8142, 8147, 8150, 8151, 8153, 8155, 8157, 8162, 8174, 8178, 8187, 8190, 8192, 8198, 8219, 8222, 8227, 8228, 8232, 8234, 8236, 8238, 8239, 8245, 8249, 8252, 8253, 8254, 8256, 8258, 8265, 8269, 8270, 8273, 8276, 8283, 8289, 8293, 8295, 8297, 8302, 8304, 8306, 8312, 8313, 8316, 8317, 8318, 8322, 8325, 8330, 8331, 8337, 8338, 8341, 8347, 8354, 8356, 8357, 8362, 8366, 8372, 8382, 8388, 8393, 8395, 8398, 8401, 8402, 8404, 8420, 8427, 8431, 8433, 8434, 8440, 8444, 8445, 8450, 8466, 8472, 8481, 8483, 8485, 8488, 8496, 8498, 8499, 8500, 8513, 8516, 8518, 8524, 8529, 8538, 8542, 8545, 8556, 8562, 8566, 8568, 8569, 8571, 8580, 8585, 8593, 8594, 8595, 8600, 8605, 8612, 8613, 8618, 8622, 8626, 8630, 8631, 8641, 8646, 8648, 8651, 8655, 8661, 8664, 8668, 8677, 8679, 8682, 8692, 8697, 8698, 8702, 8703, 8712, 8713, 8714, 8727, 8728, 8729, 8733, 8735, 8736, 8742, 8744, 8749, 8750, 8757, 8758, 8760, 8768, 8774, 8775, 8779, 8780, 8785, 8786, 8787, 8791, 8793, 8794, 8801, 8804, 8807, 8808, 8817, 8818, 8820, 8821, 8822, 8823, 8824, 8826, 8830, 8841, 8845, 8850, 8852, 8855, 8858, 8860, 8864, 8866, 8867, 8869, 8870, 8876, 8877, 8880, 8883, 8891, 8897, 8901, 8903, 8910, 8913, 8914, 8916, 8918, 8920, 8921, 8927, 8931, 8932, 8934, 8936, 8944, 8947, 8950, 8953, 8954, 8956, 8958, 8960, 8962, 8964, 8965, 8968, 8969, 8970, 8977, 8982, 8985, 8986, 8993, 9002, 9004, 9016, 9025, 9031, 9035, 9039, 9040, 9042, 9046, 9048, 9049, 9052, 9057, 9060, 9063, 9066, 9078, 9080, 9081, 9083, 9084, 9086, 9087, 9089, 9090, 9094, 9096, 9097, 9100, 9115, 9122, 9128, 9134, 9138, 9143, 9144, 9151, 9156, 9160, 9161, 9163, 9166, 9167, 9170, 9171, 9173, 9190, 9194, 9195, 9200, 9202, 9207, 9213, 9214, 9215, 9217, 9220, 9223, 9232, 9237, 9239, 9240, 9245, 9248, 9254, 9255, 9257, 9258, 9259, 9261, 9265, 9266, 9271, 9278, 9280, 9284, 9289, 9294, 9297, 9298, 9300, 9312, 9315, 9318, 9329, 9332, 9334, 9337, 9370, 9377, 9378, 9385, 9386, 9388, 9390, 9396, 9401, 9402, 9408, 9414, 9417, 9419, 9429, 9434, 9451, 9452, 9454, 9464, 9468, 9472, 9475, 9478, 9480, 9483, 9484, 9485, 9491, 9495, 9496, 9499, 9500, 9507, 9509, 9512, 9514, 9516, 9520, 9523, 9525, 9529, 9534, 9536, 9537, 9541, 9547, 9549, 9559, 9569, 9572, 9573, 9575, 9579, 9580, 9582, 9583, 9586, 9606, 9612, 9615, 9618, 9619, 9623, 9626, 9630, 9632, 9644, 9656, 9668, 9669, 9681, 9682, 9702, 9704, 9711, 9718, 9721, 9725, 9734, 9738, 9739, 9740, 9744, 9747, 9755, 9758, 9761, 9765, 9767, 9771, 9774, 9777, 9779, 9783, 9785, 9792, 9793, 9799, 9811, 9817, 9827, 9828, 9842, 9855, 9859, 9861, 9864, 9868, 9873, 9881, 9889, 9895, 9896, 9899, 9902, 9903, 9911, 9913, 9917, 9919, 9923, 9925, 9928, 9938, 9939, 9941, 9943, 9945, 9947, 9949, 9952, 9955, 9960, 9968, 9971, 9976, 9977, 9978, 9983, 9985, 9986, 9996, 9997, 10000, 10006, 10009, 10013, 10015, 10016, 10029, 10034, 10040, 10045, 10055, 10060, 10061, 10066, 10068, 10071, 10079, 10080, 10083, 10086, 10087, 10088, 10093, 10097, 10099, 10102, 10104, 10105, 10119, 10121, 10131, 10137, 10139, 10143, 10151, 10154, 10155, 10162, 10170, 10171, 10173, 10178, 10179, 10191, 10193, 10200, 10203, 10205, 10206, 10209, 10211, 10212, 10213, 10216, 10218, 10219, 10221, 10223, 10225, 10227, 10231, 10234, 10238, 10240, 10243, 10246, 10249, 10254, 10262, 10263, 10264, 10273, 10274, 10285, 10288, 10289, 10297, 10300, 10301, 10302, 10308, 10309, 10310, 10311, 10313, 10315, 10318, 10320, 10328, 10330, 10331, 10336, 10343, 10344, 10345, 10347, 10348, 10349, 10353, 10354, 10360, 10361, 10377, 10384, 10393, 10394, 10395, 10400, 10404, 10414, 10415, 10417, 10418, 10421, 10437, 10442, 10443, 10444, 10446, 10454, 10459, 10465, 10466, 10468, 10475, 10477, 10480, 10482, 10488, 10494, 10502, 10507, 10516, 10526, 10527, 10532, 10533, 10534, 10535, 10537, 10538, 10544, 10545, 10547, 10552, 10554, 10558, 10562, 10563, 10577, 10580, 10582, 10583, 10584, 10585, 10587, 10589, 10592, 10596, 10598, 10600, 10603, 10604, 10605, 10614, 10617, 10624, 10626, 10631, 10634, 10637, 10640, 10644, 10646, 10648, 10655, 10657, 10663, 10664, 10672, 10675, 10681, 10682, 10683, 10687, 10697, 10699, 10700, 10702, 10704, 10705, 10709, 10711, 10713, 10720, 10722, 10725, 10726, 10736, 10738, 10741, 10743, 10746, 10747, 10749, 10755, 10756, 10760, 10769, 10770, 10771, 10774, 10778, 10782, 10786, 10788, 10794, 10795, 10796, 10800, 10801, 10814, 10816, 10817, 10823, 10824, 10835, 10836, 10846, 10847, 10850, 10851, 10857, 10864, 10876, 10885, 10889, 10892, 10893, 10896, 10897, 10904, 10909, 10911, 10912, 10920, 10921, 10928, 10934, 10938, 10940, 10945, 10949, 10953, 10961, 10963, 10964, 10968, 10975, 10980, 10984, 10986, 10990, 10995, 10996, 10997, 11000, 11001, 11006, 11010, 11012, 11014, 11019, 11021, 11030, 11032, 11034, 11035, 11036, 11041, 11042, 11044, 11046, 11047, 11050, 11055, 11057, 11058, 11065, 11069, 11073, 11089, 11097, 11099, 11105, 11119, 11120, 11125, 11126, 11130, 11140, 11142, 11143, 11149, 11151, 11153, 11154, 11161, 11164, 11168, 11171, 11173, 11175, 11180, 11181, 11183, 11186, 11190, 11192, 11201, 11205, 11216, 11218, 11220, 11223, 11233, 11235, 11242, 11256, 11258, 11262, 11264, 11266, 11268, 11271, 11279, 11280, 11281, 11282, 11284, 11286, 11291, 11292, 11297, 11299, 11300, 11303, 11307, 11311, 11315, 11317, 11321, 11329, 11331, 11332, 11334, 11337, 11339, 11342, 11346, 11352, 11354, 11355, 11356, 11358, 11360, 11361, 11362, 11366, 11369, 11371, 11378, 11385, 11386, 11388, 11389, 11390, 11391, 11401, 11403, 11404, 11407, 11411, 11441, 11442, 11448, 11452, 11456, 11460, 11465, 11466, 11467, 11474, 11476, 11477, 11483, 11485, 11486, 11487, 11488, 11495, 11497, 11500, 11502, 11508, 11514, 11515, 11516, 11517, 11521, 11522, 11523, 11530, 11531, 11536, 11537, 11538, 11539, 11541, 11545, 11547, 11548, 11554, 11555, 11557, 11565, 11567, 11571, 11572, 11574, 11575, 11577, 11578, 11581, 11582, 11585, 11586, 11590, 11593, 11597, 11599, 11601, 11616, 11619, 11621, 11623, 11625, 11626, 11628, 11630, 11634, 11635, 11639, 11640, 11642, 11644, 11652, 11653, 11656, 11660, 11662, 11671, 11673, 11679, 11680, 11689, 11690, 11698, 11700, 11702, 11707, 11708, 11710, 11716, 11719, 11723, 11724, 11725, 11726, 11733, 11738, 11739, 11740, 11744, 11745, 11746, 11763, 11767, 11769, 11771, 11779, 11782, 11789, 11790, 11791, 11795, 11798, 11800, 11803, 11810, 11813, 11821, 11824, 11828, 11829, 11835, 11839, 11841, 11843, 11852, 11853, 11855, 11858, 11864, 11865, 11871, 11872, 11877, 11880, 11886, 11889, 11891, 11893, 11895, 11910, 11921, 11927, 11934, 11935, 11939, 11944, 11946, 11947, 11953, 11959, 11967, 11975, 11980, 11985, 11986, 11987, 11988, 11990, 11991, 11993, 11997, 11998, 11999, 12011, 12013, 12023, 12024, 12025, 12028, 12029, 12033, 12039, 12047, 12052, 12065, 12074, 12076, 12081, 12083, 12097, 12108, 12112, 12113, 12116, 12120, 12130, 12131, 12133, 12135, 12140, 12144, 12163, 12167, 12168, 12169, 12172, 12178, 12180, 12183, 12186, 12189, 12193, 12194, 12195, 12205, 12208, 12216, 12219, 12220, 12222, 12223, 12224, 12228, 12231, 12232, 12242, 12244, 12249, 12252, 12259, 12261, 12262, 12267, 12271, 12273, 12276, 12284, 12288, 12290, 12291, 12307, 12310, 12312, 12321, 12324, 12335, 12336, 12351, 12353, 12357, 12362, 12367, 12379, 12380, 12384, 12390, 12392, 12396, 12397, 12401, 12405, 12409, 12410, 12412, 12414, 12417, 12422, 12425, 12431, 12436, 12437, 12438, 12439, 12447, 12449, 12450, 12453, 12456, 12459, 12465, 12470, 12471, 12477, 12479, 12480, 12482, 12489, 12490], [4, 10, 12, 13, 36, 47, 52, 64, 74, 90, 101, 105, 119, 134, 154, 160, 183, 191, 217, 226, 227, 240, 244, 298, 320, 345, 360, 385, 388, 408, 431, 447, 468, 474, 480, 485, 497, 513, 560, 562, 563, 579, 583, 603, 653, 702, 706, 707, 717, 731, 777, 782, 795, 816, 830, 847, 859, 886, 895, 920, 925, 936, 961, 980, 985, 986, 991, 992, 995, 1064, 1068, 1089, 1094, 1116, 1122, 1124, 1131, 1141, 1162, 1165, 1191, 1193, 1194, 1206, 1270, 1274, 1291, 1317, 1341, 1354, 1381, 1387, 1391, 1392, 1396, 1403, 1429, 1432, 1433, 1440, 1450, 1451, 1454, 1466, 1467, 1478, 1491, 1502, 1510, 1515, 1519, 1521, 1536, 1540, 1560, 1564, 1581, 1586, 1593, 1631, 1643, 1659, 1663, 1671, 1677, 1714, 1741, 1743, 1779, 1784, 1877, 1906, 1960, 2014, 2093, 2095, 2097, 2120, 2130, 2150, 2156, 2161, 2165, 2174, 2200, 2205, 2226, 2242, 2262, 2280, 2365, 2385, 2387, 2396, 2401, 2410, 2416, 2429, 2455, 2466, 2472, 2475, 2486, 2497, 2501, 2507, 2511, 2536, 2559, 2572, 2593, 2641, 2655, 2660, 2678, 2679, 2691, 2699, 2700, 2706, 2723, 2724, 2730, 2812, 2817, 2855, 2869, 2881, 2899, 2929, 2931, 2944, 2960, 2968, 2969, 2976, 2980, 2996, 3004, 3009, 3014, 3016, 3035, 3040, 3046, 3055, 3065, 3066, 3069, 3111, 3128, 3136, 3150, 3155, 3193, 3220, 3233, 3245, 3254, 3266, 3281, 3307, 3333, 3341, 3346, 3352, 3357, 3363, 3374, 3384, 3396, 3397, 3405, 3417, 3424, 3429, 3470, 3478, 3514, 3526, 3528, 3531, 3539, 3568, 3577, 3579, 3580, 3589, 3596, 3607, 3612, 3616, 3625, 3630, 3654, 3685, 3695, 3696, 3705, 3723, 3741, 3748, 3817, 3830, 3849, 3858, 3882, 3885, 3898, 3899, 3913, 3933, 3940, 3999, 4013, 4014, 4029, 4040, 4042, 4065, 4106, 4107, 4121, 4156, 4182, 4183, 4190, 4195, 4234, 4240, 4247, 4253, 4257, 4268, 4279, 4289, 4313, 4339, 4349, 4354, 4355, 4397, 4420, 4421, 4442, 4443, 4462, 4466, 4484, 4501, 4508, 4527, 4532, 4551, 4578, 4628, 4656, 4658, 4674, 4700, 4702, 4704, 4712, 4714, 4722, 4729, 4740, 4755, 4765, 4788, 4790, 4816, 4825, 4827, 4846, 4858, 4865, 4872, 4903, 4909, 4913, 4915, 4928, 4929, 4936, 4942, 4950, 4966, 4986, 4990, 5004, 5017, 5035, 5042, 5091, 5105, 5110, 5122, 5126, 5133, 5139, 5143, 5171, 5177, 5197, 5200, 5211, 5223, 5239, 5261, 5264, 5285, 5287, 5315, 5333, 5344, 5345, 5346, 5351, 5364, 5373, 5375, 5381, 5396, 5425, 5429, 5440, 5441, 5447, 5453, 5458, 5463, 5488, 5532, 5542, 5543, 5544, 5563, 5580, 5590, 5638, 5656, 5716, 5720, 5727, 5746, 5748, 5789, 5802, 5835, 5852, 5896, 5917, 5921, 5924, 5930, 5935, 5955, 5996, 5998, 6019, 6022, 6037, 6044, 6063, 6066, 6101, 6112, 6113, 6123, 6137, 6144, 6176, 6219, 6231, 6232, 6242, 6258, 6298, 6306, 6327, 6333, 6336, 6349, 6361, 6389, 6390, 6403, 6404, 6408, 6447, 6449, 6480, 6487, 6499, 6538, 6554, 6582, 6592, 6597, 6606, 6610, 6612, 6627, 6629, 6638, 6666, 6672, 6679, 6687, 6692, 6704, 6718, 6727, 6728, 6754, 6772, 6775, 6776, 6787, 6792, 6794, 6825, 6841, 6842, 6858, 6867, 6898, 6910, 6918, 6956, 6974, 6979, 6981, 7002, 7025, 7042, 7073, 7101, 7105, 7107, 7141, 7156, 7168, 7179, 7188, 7199, 7200, 7204, 7215, 7226, 7247, 7250, 7342, 7350, 7382, 7406, 7447, 7454, 7482, 7484, 7490, 7495, 7522, 7526, 7541, 7546, 7560, 7584, 7586, 7595, 7607, 7608, 7627, 7648, 7652, 7663, 7674, 7683, 7700, 7704, 7717, 7739, 7782, 7796, 7807, 7814, 7815, 7816, 7820, 7844, 7898, 7902, 7905, 7951, 7960, 7993, 7994, 8008, 8014, 8043, 8045, 8047, 8055, 8061, 8066, 8072, 8074, 8099, 8110, 8114, 8138, 8160, 8194, 8206, 8211, 8212, 8213, 8242, 8266, 8275, 8278, 8279, 8303, 8314, 8344, 8345, 8349, 8369, 8386, 8403, 8409, 8441, 8462, 8477, 8493, 8508, 8520, 8550, 8573, 8579, 8602, 8620, 8628, 8635, 8637, 8642, 8681, 8688, 8695, 8711, 8730, 8731, 8732, 8734, 8759, 8766, 8805, 8809, 8832, 8847, 8854, 8863, 8874, 8899, 8915, 8935, 8938, 8975, 8981, 8984, 9005, 9007, 9021, 9030, 9069, 9070, 9077, 9082, 9101, 9104, 9105, 9109, 9114, 9124, 9142, 9147, 9149, 9162, 9192, 9222, 9225, 9226, 9238, 9270, 9273, 9274, 9283, 9292, 9316, 9324, 9335, 9342, 9347, 9355, 9358, 9360, 9367, 9379, 9412, 9421, 9424, 9426, 9449, 9457, 9458, 9461, 9479, 9493, 9501, 9508, 9528, 9548, 9599, 9614, 9624, 9640, 9651, 9657, 9659, 9685, 9691, 9698, 9700, 9715, 9729, 9768, 9804, 9813, 9830, 9865, 9870, 9884, 9891, 9894, 9901, 9904, 9951, 9962, 9966, 9970, 9989, 10007, 10008, 10012, 10025, 10035, 10041, 10046, 10076, 10077, 10116, 10118, 10127, 10129, 10145, 10161, 10163, 10166, 10176, 10180, 10186, 10195, 10214, 10245, 10247, 10259, 10280, 10283, 10286, 10338, 10342, 10367, 10391, 10429, 10462, 10463, 10469, 10511, 10525, 10531, 10555, 10595, 10611, 10613, 10632, 10636, 10643, 10645, 10647, 10674, 10730, 10731, 10739, 10765, 10775, 10776, 10797, 10809, 10819, 10821, 10822, 10826, 10834, 10839, 10853, 10863, 10875, 10891, 10915, 10927, 10929, 10932, 10937, 10946, 10966, 10977, 10998, 11003, 11015, 11024, 11043, 11060, 11090, 11092, 11104, 11116, 11128, 11134, 11141, 11160, 11176, 11194, 11196, 11200, 11238, 11245, 11247, 11275, 11276, 11293, 11322, 11338, 11340, 11341, 11368, 11374, 11380, 11424, 11432, 11446, 11461, 11464, 11479, 11505, 11506, 11507, 11566, 11583, 11596, 11615, 11638, 11682, 11688, 11696, 11704, 11712, 11717, 11722, 11750, 11783, 11786, 11792, 11794, 11811, 11815, 11849, 11850, 11854, 11888, 11907, 11923, 11961, 12057, 12092, 12095, 12101, 12117, 12148, 12154, 12156, 12196, 12197, 12218, 12254, 12255, 12263, 12289, 12311, 12313, 12314, 12323, 12331, 12349, 12378, 12383, 12389, 12395, 12411, 12441, 12443, 12469, 12472, 12486, 12488], []]\n"
          ]
        }
      ],
      "source": [
        "print(clusters15)"
      ]
    },
    {
      "cell_type": "code",
      "execution_count": null,
      "metadata": {
        "colab": {
          "base_uri": "https://localhost:8080/"
        },
        "id": "P31IFKjh_943",
        "outputId": "49918f93-f527-4d4c-dc81-822ca5f05902"
      },
      "outputs": [
        {
          "name": "stdout",
          "output_type": "stream",
          "text": [
            "(10000, 42)\n"
          ]
        }
      ],
      "source": [
        "print(test.shape)\n",
        "testclusters15,testconf15=predict(test,centroids15)"
      ]
    },
    {
      "cell_type": "code",
      "execution_count": null,
      "metadata": {
        "colab": {
          "base_uri": "https://localhost:8080/"
        },
        "id": "VY1U_7EI_943",
        "outputId": "79906c03-f290-4985-bc2e-25e1f9ea112e"
      },
      "outputs": [
        {
          "name": "stdout",
          "output_type": "stream",
          "text": [
            "0.4176\n"
          ]
        }
      ],
      "source": [
        "# make confusion test matrix of k = 15 clusters\n",
        "testconfusion15=makeconftest(clusters15,testconf15,cllabel15)\n",
        "print(np.trace(testconfusion15)/sum(sum(testconfusion15)))"
      ]
    },
    {
      "cell_type": "markdown",
      "metadata": {
        "id": "GY6HwQ-b_VUI"
      },
      "source": [
        "K = 23"
      ]
    },
    {
      "cell_type": "code",
      "execution_count": null,
      "metadata": {
        "colab": {
          "base_uri": "https://localhost:8080/"
        },
        "id": "nxCuW8Hu_VUI",
        "outputId": "467d772f-2537-4c6c-8307-a8d295a8bb71"
      },
      "outputs": [
        {
          "name": "stdout",
          "output_type": "stream",
          "text": [
            "(12500, 42)\n",
            "83586631555933.08\n",
            "inf\n",
            "[0.00000000e+00 2.00000000e+00 9.00000000e+00 0.00000000e+00\n",
            " 1.03200000e+03 0.00000000e+00 0.00000000e+00 0.00000000e+00\n",
            " 0.00000000e+00 0.00000000e+00 0.00000000e+00 0.00000000e+00\n",
            " 0.00000000e+00 0.00000000e+00 0.00000000e+00 0.00000000e+00\n",
            " 0.00000000e+00 0.00000000e+00 0.00000000e+00 0.00000000e+00\n",
            " 0.00000000e+00 0.00000000e+00 5.10015083e+02 5.09984917e+02\n",
            " 0.00000000e+00 0.00000000e+00 0.00000000e+00 0.00000000e+00\n",
            " 1.00000000e+00 0.00000000e+00 0.00000000e+00 2.55000000e+02\n",
            " 2.55000000e+02 1.00000000e+00 0.00000000e+00 1.00000000e+00\n",
            " 0.00000000e+00 0.00000000e+00 0.00000000e+00 0.00000000e+00\n",
            " 0.00000000e+00 4.00000000e+00]\n",
            "[0.00000000e+00 2.00000000e+00 9.00000000e+00 0.00000000e+00\n",
            " 1.03200000e+03 0.00000000e+00 0.00000000e+00 0.00000000e+00\n",
            " 0.00000000e+00 0.00000000e+00 0.00000000e+00 0.00000000e+00\n",
            " 0.00000000e+00 0.00000000e+00 0.00000000e+00 0.00000000e+00\n",
            " 0.00000000e+00 0.00000000e+00 0.00000000e+00 0.00000000e+00\n",
            " 0.00000000e+00 0.00000000e+00 5.10015083e+02 5.09984917e+02\n",
            " 0.00000000e+00 0.00000000e+00 0.00000000e+00 0.00000000e+00\n",
            " 1.00000000e+00 0.00000000e+00 0.00000000e+00 2.55000000e+02\n",
            " 2.55000000e+02 1.00000000e+00 0.00000000e+00 1.00000000e+00\n",
            " 0.00000000e+00 0.00000000e+00 0.00000000e+00 0.00000000e+00\n",
            " 0.00000000e+00 4.00000000e+00]\n"
          ]
        }
      ],
      "source": [
        " # Use the k-means function with the train dataset, 23 clusters\n",
        "centroids23,clusters23,confusion23=kmeans(train,23,100,1)"
      ]
    },
    {
      "cell_type": "code",
      "execution_count": null,
      "metadata": {
        "colab": {
          "base_uri": "https://localhost:8080/"
        },
        "id": "gjos7eQM_VUI",
        "outputId": "18502829-5f0b-4e06-e123-adf003da241f"
      },
      "outputs": [
        {
          "name": "stdout",
          "output_type": "stream",
          "text": [
            "0.9577633789296857\n"
          ]
        }
      ],
      "source": [
        "# make confusion train matrix of k = 23 clusters\n",
        "trainconfusion23,cllabel23=makeconftrain(clusters23,confusion23,centroids23,23)\n",
        "print(np.trace(trainconfusion23)/sum(sum(trainconfusion23)))"
      ]
    },
    {
      "cell_type": "code",
      "execution_count": null,
      "metadata": {
        "colab": {
          "base_uri": "https://localhost:8080/"
        },
        "id": "QKdXzuNu_VUI",
        "outputId": "410edb6a-8816-46a1-8a7a-967baa0e1399"
      },
      "outputs": [
        {
          "name": "stdout",
          "output_type": "stream",
          "text": [
            "[[16, 19, 25, 29, 36, 73, 106, 121, 129, 146, 148, 160, 178, 180, 185, 186, 192, 215, 236, 255, 292, 325, 339, 350, 363, 385, 401, 432, 436, 437, 449, 522, 525, 526, 533, 558, 565, 584, 613, 619, 626, 631, 659, 660, 689, 725, 731, 752, 792, 808, 813, 815, 821, 823, 851, 939, 974, 1001, 1016, 1022, 1031, 1045, 1057, 1085, 1099, 1128, 1132, 1137, 1155, 1172, 1178, 1183, 1188, 1207, 1214, 1219, 1227, 1288, 1295, 1326, 1343, 1349, 1356, 1395, 1409, 1416, 1430, 1436, 1446, 1459, 1465, 1492, 1506, 1521, 1537, 1576, 1583, 1618, 1622, 1633, 1648, 1659, 1663, 1694, 1696, 1714, 1719, 1754, 1765, 1766, 1815, 1826, 1828, 1859, 1866, 1868, 1873, 1880, 1885, 1939, 1947, 1971, 1978, 1983, 1985, 2007, 2011, 2043, 2114, 2126, 2146, 2147, 2161, 2178, 2225, 2250, 2257, 2260, 2276, 2277, 2279, 2316, 2319, 2329, 2360, 2370, 2407, 2412, 2447, 2460, 2464, 2487, 2510, 2514, 2542, 2544, 2564, 2579, 2590, 2606, 2616, 2623, 2627, 2669, 2674, 2687, 2694, 2700, 2828, 2834, 2840, 2863, 2877, 2881, 2911, 2957, 2967, 2981, 3020, 3029, 3047, 3082, 3088, 3090, 3123, 3129, 3162, 3163, 3176, 3203, 3218, 3242, 3264, 3268, 3274, 3303, 3345, 3349, 3368, 3462, 3470, 3511, 3519, 3522, 3539, 3560, 3591, 3602, 3632, 3655, 3675, 3678, 3718, 3739, 3786, 3788, 3803, 3812, 3825, 3830, 3835, 3842, 3843, 3864, 3872, 3901, 3918, 3944, 3949, 3972, 3975, 4041, 4049, 4053, 4064, 4075, 4116, 4158, 4160, 4161, 4165, 4190, 4194, 4224, 4274, 4286, 4287, 4311, 4347, 4358, 4368, 4384, 4393, 4412, 4419, 4448, 4471, 4473, 4500, 4535, 4561, 4576, 4583, 4605, 4616, 4629, 4676, 4678, 4688, 4708, 4743, 4754, 4784, 4809, 4814, 4823, 4826, 4829, 4837, 4875, 4886, 4902, 4924, 4942, 4958, 4963, 5002, 5020, 5037, 5051, 5063, 5082, 5083, 5090, 5122, 5157, 5196, 5220, 5247, 5266, 5269, 5348, 5362, 5366, 5368, 5373, 5391, 5404, 5465, 5521, 5522, 5530, 5534, 5535, 5562, 5568, 5603, 5649, 5664, 5679, 5685, 5709, 5716, 5754, 5765, 5772, 5830, 5847, 5885, 5898, 5908, 5914, 5946, 5964, 5976, 5977, 5991, 6016, 6019, 6045, 6048, 6050, 6067, 6084, 6087, 6093, 6097, 6118, 6138, 6167, 6189, 6192, 6228, 6257, 6259, 6265, 6275, 6293, 6321, 6336, 6357, 6376, 6394, 6397, 6428, 6446, 6471, 6483, 6498, 6510, 6526, 6530, 6550, 6560, 6565, 6660, 6702, 6746, 6755, 6763, 6774, 6783, 6798, 6817, 6834, 6836, 6845, 6889, 6893, 6900, 6911, 6920, 6953, 6988, 6997, 7002, 7082, 7102, 7142, 7163, 7164, 7179, 7194, 7237, 7261, 7273, 7292, 7324, 7402, 7407, 7411, 7413, 7459, 7468, 7490, 7533, 7541, 7544, 7580, 7608, 7670, 7690, 7720, 7729, 7741, 7749, 7780, 7785, 7792, 7815, 7830, 7844, 7848, 7856, 7860, 7878, 7879, 7887, 7907, 7914, 7986, 7990, 8021, 8030, 8033, 8046, 8059, 8103, 8112, 8131, 8142, 8149, 8167, 8185, 8272, 8336, 8363, 8398, 8406, 8415, 8422, 8424, 8460, 8462, 8482, 8491, 8510, 8586, 8598, 8606, 8616, 8622, 8626, 8645, 8651, 8665, 8704, 8739, 8744, 8759, 8769, 8787, 8792, 8797, 8804, 8810, 8822, 8825, 8838, 8881, 8888, 8890, 8898, 8908, 8919, 8921, 8946, 8955, 8961, 8965, 8974, 9053, 9105, 9107, 9126, 9167, 9213, 9259, 9262, 9267, 9311, 9313, 9329, 9355, 9360, 9428, 9495, 9499, 9518, 9524, 9537, 9550, 9602, 9609, 9614, 9628, 9633, 9688, 9698, 9723, 9741, 9748, 9755, 9762, 9765, 9778, 9823, 9849, 9856, 9979, 9995, 10025, 10028, 10036, 10043, 10045, 10058, 10109, 10146, 10172, 10183, 10219, 10263, 10299, 10311, 10324, 10331, 10363, 10368, 10395, 10411, 10427, 10448, 10462, 10546, 10556, 10611, 10669, 10676, 10706, 10719, 10726, 10728, 10746, 10758, 10761, 10776, 10839, 10851, 10873, 10886, 10888, 10895, 10917, 10933, 10942, 10949, 11007, 11012, 11013, 11026, 11029, 11058, 11074, 11086, 11133, 11145, 11146, 11157, 11184, 11223, 11224, 11229, 11251, 11271, 11310, 11339, 11355, 11365, 11401, 11440, 11501, 11510, 11516, 11529, 11602, 11608, 11618, 11630, 11683, 11695, 11709, 11724, 11739, 11747, 11750, 11771, 11785, 11808, 11815, 11825, 11837, 11849, 11856, 11864, 11879, 11898, 11919, 11963, 11968, 11975, 12130, 12139, 12140, 12182, 12185, 12210, 12222, 12225, 12227, 12232, 12257, 12300, 12303, 12312, 12314, 12374, 12378, 12409, 12416, 12419, 12424, 12451], [90, 400, 878, 932, 1094, 1185, 1216, 1265, 1270, 1274, 1313, 1352, 1366, 1403, 1746, 1748, 1855, 1961, 2066, 2331, 2469, 2475, 2570, 2573, 2666, 2732, 2815, 2816, 3316, 3352, 3452, 3465, 3645, 3725, 3744, 4000, 4028, 4175, 4227, 4229, 4241, 4284, 4310, 4320, 4457, 4495, 4507, 4659, 4815, 5044, 5092, 5217, 5321, 5370, 5420, 5548, 5665, 5828, 5929, 5943, 5955, 5978, 6371, 6485, 6525, 6825, 6857, 6898, 6958, 7380, 7570, 7688, 7926, 8075, 8183, 8240, 8254, 8289, 8683, 8814, 8962, 8963, 8964, 9136, 9232, 9257, 9321, 9928, 9975, 10317, 10344, 10353, 10404, 10603, 10621, 10781, 10794, 11072, 11196, 11215, 11329, 11340, 11499, 11508, 11550, 11594, 11719, 11720, 11979, 12017, 12108, 12112, 12289, 12331, 12333, 12368], [2, 3, 4, 7, 14, 17, 21, 22, 23, 24, 26, 27, 30, 31, 32, 33, 34, 37, 39, 43, 47, 50, 54, 56, 57, 58, 63, 69, 79, 80, 85, 88, 96, 98, 99, 102, 109, 114, 115, 118, 119, 123, 125, 130, 131, 136, 138, 139, 140, 141, 144, 149, 150, 154, 156, 157, 158, 161, 164, 166, 170, 171, 173, 179, 181, 182, 188, 189, 190, 193, 194, 195, 196, 199, 200, 201, 204, 205, 208, 217, 218, 219, 220, 223, 225, 227, 230, 232, 233, 234, 235, 240, 241, 243, 247, 249, 251, 256, 257, 263, 264, 266, 268, 270, 275, 276, 277, 279, 280, 281, 283, 284, 286, 287, 289, 291, 293, 295, 296, 300, 302, 306, 309, 311, 318, 319, 322, 323, 327, 330, 332, 333, 336, 340, 343, 345, 346, 348, 351, 355, 357, 358, 361, 362, 368, 373, 383, 384, 390, 391, 393, 396, 397, 398, 404, 406, 408, 409, 410, 412, 414, 416, 417, 419, 420, 424, 428, 431, 433, 435, 439, 440, 443, 445, 446, 447, 452, 459, 467, 468, 472, 473, 474, 475, 479, 481, 485, 487, 488, 489, 498, 499, 502, 513, 515, 517, 523, 530, 532, 535, 537, 538, 542, 545, 546, 549, 552, 553, 571, 573, 574, 575, 581, 583, 586, 587, 588, 590, 591, 599, 600, 603, 609, 618, 621, 622, 624, 625, 627, 629, 632, 633, 637, 639, 640, 642, 645, 646, 647, 648, 650, 651, 663, 665, 666, 670, 671, 675, 676, 680, 685, 688, 690, 691, 692, 696, 697, 700, 702, 704, 706, 708, 709, 710, 711, 712, 713, 715, 716, 724, 726, 728, 729, 735, 737, 740, 741, 744, 748, 751, 755, 756, 758, 759, 764, 766, 770, 772, 773, 774, 777, 778, 780, 783, 786, 787, 788, 790, 791, 801, 804, 806, 807, 812, 816, 817, 820, 822, 824, 826, 827, 828, 830, 833, 834, 838, 840, 854, 855, 857, 859, 860, 866, 867, 871, 875, 876, 879, 882, 884, 887, 890, 899, 904, 907, 908, 909, 910, 911, 912, 915, 918, 919, 920, 922, 923, 928, 929, 930, 936, 937, 940, 942, 943, 954, 959, 961, 962, 963, 964, 965, 968, 975, 976, 978, 984, 985, 986, 987, 988, 990, 991, 992, 993, 997, 1000, 1005, 1009, 1014, 1017, 1019, 1025, 1027, 1029, 1030, 1033, 1034, 1038, 1039, 1040, 1041, 1043, 1046, 1048, 1050, 1053, 1054, 1055, 1059, 1060, 1062, 1063, 1064, 1065, 1069, 1071, 1074, 1076, 1079, 1081, 1082, 1083, 1088, 1095, 1098, 1101, 1102, 1103, 1104, 1109, 1110, 1111, 1115, 1116, 1118, 1120, 1121, 1122, 1127, 1130, 1131, 1133, 1134, 1140, 1141, 1144, 1145, 1146, 1147, 1148, 1151, 1154, 1157, 1158, 1159, 1161, 1163, 1164, 1166, 1171, 1173, 1176, 1182, 1189, 1190, 1192, 1194, 1196, 1197, 1201, 1205, 1206, 1208, 1210, 1212, 1220, 1223, 1226, 1228, 1229, 1230, 1232, 1233, 1234, 1235, 1236, 1237, 1238, 1240, 1241, 1242, 1243, 1249, 1251, 1254, 1260, 1261, 1262, 1263, 1266, 1267, 1268, 1269, 1273, 1275, 1276, 1278, 1280, 1281, 1282, 1287, 1292, 1296, 1299, 1302, 1307, 1309, 1312, 1317, 1319, 1321, 1322, 1324, 1325, 1327, 1329, 1331, 1333, 1337, 1338, 1342, 1348, 1350, 1357, 1358, 1360, 1368, 1369, 1371, 1372, 1378, 1379, 1382, 1383, 1384, 1389, 1392, 1394, 1397, 1399, 1400, 1401, 1404, 1405, 1408, 1411, 1414, 1419, 1420, 1424, 1425, 1431, 1432, 1433, 1434, 1437, 1438, 1441, 1443, 1445, 1451, 1453, 1455, 1458, 1460, 1461, 1462, 1464, 1468, 1470, 1471, 1472, 1473, 1475, 1476, 1478, 1479, 1482, 1486, 1488, 1489, 1491, 1493, 1494, 1498, 1500, 1501, 1510, 1513, 1515, 1517, 1518, 1530, 1532, 1533, 1540, 1541, 1542, 1544, 1546, 1548, 1552, 1553, 1554, 1556, 1557, 1558, 1560, 1562, 1566, 1573, 1574, 1577, 1578, 1587, 1589, 1590, 1592, 1594, 1595, 1597, 1598, 1599, 1600, 1602, 1604, 1605, 1606, 1607, 1611, 1612, 1614, 1615, 1616, 1617, 1626, 1635, 1636, 1638, 1639, 1642, 1643, 1644, 1649, 1650, 1653, 1654, 1660, 1661, 1665, 1671, 1673, 1677, 1678, 1679, 1680, 1681, 1687, 1689, 1690, 1691, 1693, 1702, 1703, 1705, 1706, 1708, 1709, 1715, 1717, 1720, 1721, 1722, 1723, 1727, 1731, 1733, 1735, 1736, 1737, 1738, 1739, 1741, 1743, 1750, 1752, 1755, 1760, 1764, 1772, 1778, 1779, 1780, 1782, 1787, 1792, 1795, 1798, 1801, 1802, 1805, 1807, 1808, 1810, 1814, 1818, 1821, 1822, 1827, 1830, 1835, 1837, 1838, 1839, 1842, 1843, 1846, 1851, 1852, 1854, 1860, 1861, 1862, 1863, 1864, 1867, 1872, 1875, 1876, 1878, 1879, 1881, 1882, 1883, 1888, 1889, 1890, 1892, 1894, 1898, 1904, 1909, 1910, 1915, 1918, 1925, 1927, 1928, 1929, 1931, 1935, 1937, 1940, 1942, 1944, 1945, 1950, 1955, 1956, 1960, 1962, 1964, 1967, 1970, 1973, 1975, 1982, 1986, 1989, 2001, 2004, 2005, 2006, 2008, 2016, 2019, 2021, 2022, 2025, 2026, 2027, 2029, 2032, 2033, 2035, 2036, 2041, 2048, 2049, 2053, 2059, 2060, 2063, 2064, 2069, 2070, 2071, 2072, 2074, 2075, 2076, 2079, 2082, 2085, 2087, 2088, 2089, 2090, 2092, 2094, 2096, 2100, 2101, 2103, 2104, 2106, 2111, 2116, 2117, 2119, 2120, 2121, 2130, 2132, 2133, 2134, 2135, 2141, 2144, 2145, 2149, 2152, 2157, 2158, 2159, 2160, 2162, 2166, 2171, 2175, 2176, 2179, 2180, 2181, 2185, 2186, 2187, 2188, 2189, 2190, 2192, 2193, 2196, 2197, 2200, 2202, 2205, 2206, 2207, 2208, 2209, 2214, 2217, 2218, 2220, 2224, 2226, 2229, 2230, 2231, 2233, 2235, 2236, 2238, 2239, 2240, 2242, 2247, 2248, 2259, 2263, 2264, 2265, 2266, 2268, 2270, 2271, 2274, 2275, 2281, 2285, 2288, 2291, 2297, 2299, 2300, 2301, 2304, 2305, 2306, 2307, 2320, 2321, 2322, 2324, 2328, 2330, 2333, 2334, 2336, 2339, 2340, 2344, 2346, 2347, 2348, 2349, 2350, 2352, 2353, 2354, 2358, 2359, 2361, 2366, 2367, 2369, 2372, 2373, 2377, 2378, 2379, 2382, 2384, 2388, 2389, 2390, 2392, 2394, 2395, 2396, 2397, 2398, 2400, 2401, 2403, 2405, 2409, 2417, 2418, 2422, 2424, 2427, 2428, 2429, 2431, 2432, 2435, 2436, 2437, 2439, 2441, 2443, 2444, 2448, 2450, 2451, 2453, 2463, 2465, 2467, 2472, 2480, 2481, 2485, 2486, 2488, 2490, 2493, 2494, 2496, 2500, 2501, 2502, 2503, 2508, 2509, 2511, 2519, 2520, 2522, 2523, 2527, 2528, 2530, 2536, 2538, 2540, 2545, 2553, 2556, 2557, 2565, 2568, 2572, 2574, 2575, 2580, 2581, 2583, 2584, 2588, 2591, 2593, 2594, 2596, 2597, 2598, 2599, 2600, 2601, 2602, 2605, 2609, 2611, 2612, 2613, 2628, 2633, 2636, 2638, 2641, 2642, 2643, 2644, 2645, 2648, 2650, 2652, 2657, 2659, 2662, 2664, 2670, 2672, 2681, 2683, 2693, 2696, 2697, 2698, 2699, 2703, 2704, 2707, 2708, 2711, 2712, 2714, 2715, 2717, 2719, 2727, 2731, 2733, 2735, 2736, 2737, 2738, 2740, 2742, 2743, 2746, 2747, 2748, 2749, 2753, 2755, 2762, 2763, 2765, 2769, 2770, 2772, 2773, 2775, 2776, 2777, 2780, 2781, 2782, 2784, 2786, 2787, 2790, 2795, 2796, 2803, 2805, 2808, 2809, 2810, 2813, 2819, 2821, 2823, 2824, 2826, 2827, 2833, 2835, 2836, 2837, 2839, 2846, 2849, 2850, 2851, 2853, 2854, 2855, 2856, 2857, 2858, 2860, 2864, 2870, 2873, 2875, 2880, 2882, 2883, 2884, 2886, 2888, 2889, 2891, 2896, 2900, 2904, 2907, 2910, 2912, 2916, 2917, 2921, 2922, 2924, 2925, 2926, 2927, 2932, 2936, 2938, 2939, 2940, 2945, 2949, 2951, 2952, 2953, 2954, 2960, 2962, 2963, 2965, 2966, 2969, 2970, 2973, 2975, 2980, 2983, 2984, 2987, 2990, 2991, 2994, 2995, 3000, 3002, 3003, 3004, 3007, 3010, 3011, 3012, 3013, 3014, 3018, 3021, 3022, 3023, 3025, 3026, 3027, 3032, 3034, 3038, 3040, 3041, 3046, 3050, 3052, 3055, 3057, 3059, 3060, 3061, 3062, 3071, 3077, 3079, 3080, 3081, 3084, 3092, 3095, 3099, 3102, 3106, 3109, 3110, 3111, 3116, 3117, 3119, 3121, 3124, 3128, 3130, 3132, 3135, 3138, 3140, 3145, 3146, 3148, 3149, 3150, 3152, 3155, 3161, 3166, 3167, 3170, 3171, 3172, 3174, 3177, 3180, 3182, 3191, 3192, 3199, 3201, 3202, 3205, 3206, 3210, 3212, 3217, 3220, 3224, 3227, 3228, 3229, 3230, 3233, 3234, 3235, 3239, 3247, 3248, 3250, 3257, 3260, 3263, 3265, 3269, 3270, 3271, 3273, 3280, 3281, 3283, 3285, 3287, 3294, 3305, 3306, 3307, 3312, 3314, 3315, 3318, 3319, 3320, 3321, 3322, 3324, 3325, 3329, 3330, 3331, 3335, 3336, 3337, 3348, 3355, 3356, 3357, 3359, 3362, 3365, 3366, 3367, 3369, 3372, 3373, 3375, 3378, 3381, 3386, 3387, 3388, 3389, 3390, 3391, 3393, 3394, 3399, 3401, 3402, 3404, 3405, 3406, 3407, 3409, 3414, 3416, 3417, 3429, 3430, 3434, 3436, 3437, 3440, 3444, 3445, 3450, 3455, 3467, 3471, 3473, 3475, 3476, 3477, 3480, 3483, 3484, 3486, 3487, 3488, 3492, 3493, 3497, 3498, 3499, 3503, 3504, 3505, 3507, 3508, 3512, 3513, 3514, 3518, 3526, 3527, 3528, 3529, 3531, 3532, 3534, 3535, 3536, 3540, 3541, 3542, 3543, 3546, 3547, 3548, 3550, 3552, 3559, 3561, 3562, 3565, 3568, 3570, 3571, 3572, 3573, 3578, 3582, 3584, 3587, 3592, 3594, 3598, 3601, 3603, 3606, 3611, 3613, 3616, 3617, 3619, 3621, 3624, 3625, 3626, 3627, 3628, 3629, 3631, 3633, 3634, 3635, 3636, 3638, 3639, 3640, 3643, 3646, 3651, 3652, 3654, 3658, 3659, 3660, 3661, 3662, 3663, 3664, 3667, 3668, 3669, 3670, 3671, 3673, 3674, 3677, 3680, 3690, 3694, 3697, 3700, 3702, 3703, 3704, 3705, 3709, 3713, 3715, 3717, 3719, 3720, 3722, 3723, 3727, 3728, 3729, 3730, 3734, 3740, 3741, 3743, 3745, 3746, 3748, 3749, 3755, 3757, 3758, 3760, 3761, 3764, 3769, 3770, 3772, 3773, 3775, 3776, 3779, 3783, 3784, 3785, 3789, 3791, 3792, 3794, 3797, 3800, 3802, 3806, 3810, 3813, 3815, 3817, 3819, 3820, 3821, 3823, 3829, 3833, 3839, 3844, 3845, 3847, 3849, 3850, 3854, 3855, 3857, 3859, 3863, 3867, 3869, 3870, 3875, 3877, 3878, 3879, 3881, 3885, 3889, 3892, 3893, 3895, 3897, 3898, 3899, 3900, 3907, 3914, 3916, 3919, 3920, 3922, 3925, 3926, 3927, 3929, 3930, 3933, 3936, 3937, 3940, 3943, 3946, 3947, 3948, 3950, 3952, 3955, 3957, 3958, 3960, 3965, 3969, 3974, 3977, 3980, 3981, 3982, 3983, 3985, 3986, 3989, 3993, 3999, 4005, 4007, 4010, 4012, 4013, 4016, 4018, 4019, 4023, 4025, 4026, 4027, 4029, 4033, 4034, 4036, 4037, 4039, 4042, 4043, 4048, 4055, 4058, 4059, 4060, 4063, 4065, 4067, 4074, 4076, 4079, 4081, 4082, 4083, 4085, 4087, 4089, 4093, 4094, 4100, 4102, 4103, 4104, 4106, 4107, 4113, 4114, 4117, 4122, 4124, 4126, 4130, 4132, 4133, 4135, 4136, 4137, 4139, 4146, 4151, 4154, 4157, 4172, 4173, 4179, 4183, 4187, 4192, 4196, 4198, 4200, 4201, 4202, 4204, 4206, 4207, 4208, 4210, 4211, 4212, 4214, 4223, 4225, 4226, 4228, 4230, 4235, 4237, 4238, 4242, 4245, 4246, 4248, 4249, 4251, 4252, 4254, 4255, 4256, 4261, 4270, 4272, 4277, 4279, 4280, 4282, 4285, 4291, 4294, 4295, 4296, 4297, 4300, 4301, 4313, 4314, 4319, 4323, 4324, 4327, 4328, 4329, 4330, 4333, 4336, 4338, 4339, 4340, 4342, 4346, 4351, 4353, 4354, 4356, 4359, 4360, 4361, 4363, 4364, 4367, 4369, 4371, 4374, 4379, 4381, 4387, 4388, 4400, 4410, 4411, 4413, 4415, 4418, 4420, 4422, 4424, 4426, 4427, 4428, 4429, 4430, 4431, 4435, 4437, 4439, 4441, 4442, 4444, 4451, 4462, 4463, 4468, 4469, 4472, 4474, 4477, 4479, 4485, 4489, 4490, 4491, 4492, 4493, 4498, 4499, 4501, 4505, 4513, 4514, 4515, 4518, 4520, 4530, 4537, 4538, 4542, 4543, 4545, 4550, 4551, 4553, 4559, 4560, 4562, 4568, 4574, 4575, 4577, 4579, 4580, 4584, 4588, 4589, 4590, 4596, 4597, 4600, 4602, 4604, 4607, 4612, 4614, 4615, 4622, 4626, 4630, 4631, 4632, 4633, 4634, 4637, 4638, 4639, 4640, 4644, 4645, 4646, 4648, 4653, 4654, 4655, 4656, 4658, 4660, 4662, 4663, 4664, 4667, 4668, 4670, 4672, 4673, 4674, 4679, 4682, 4689, 4691, 4696, 4698, 4700, 4702, 4703, 4704, 4706, 4711, 4713, 4714, 4717, 4719, 4722, 4724, 4725, 4726, 4731, 4734, 4737, 4752, 4755, 4757, 4759, 4763, 4766, 4767, 4768, 4770, 4771, 4772, 4781, 4787, 4788, 4790, 4793, 4796, 4799, 4800, 4802, 4803, 4804, 4807, 4808, 4810, 4816, 4817, 4818, 4820, 4824, 4827, 4832, 4838, 4839, 4841, 4843, 4844, 4845, 4848, 4853, 4855, 4859, 4862, 4863, 4866, 4868, 4871, 4874, 4876, 4878, 4879, 4880, 4884, 4885, 4887, 4888, 4889, 4890, 4891, 4896, 4899, 4904, 4905, 4908, 4909, 4910, 4911, 4914, 4915, 4916, 4917, 4918, 4919, 4922, 4923, 4925, 4926, 4927, 4929, 4932, 4936, 4937, 4941, 4943, 4948, 4950, 4952, 4954, 4956, 4960, 4961, 4962, 4966, 4969, 4971, 4973, 4974, 4975, 4977, 4984, 4986, 4987, 4989, 4991, 4992, 4993, 4995, 4998, 5000, 5005, 5007, 5008, 5009, 5015, 5017, 5024, 5025, 5028, 5029, 5038, 5039, 5041, 5046, 5048, 5049, 5052, 5053, 5056, 5057, 5059, 5061, 5064, 5066, 5067, 5070, 5072, 5075, 5076, 5080, 5081, 5084, 5085, 5086, 5091, 5093, 5094, 5097, 5099, 5106, 5108, 5110, 5111, 5112, 5116, 5117, 5119, 5123, 5125, 5127, 5128, 5129, 5130, 5131, 5135, 5137, 5140, 5143, 5144, 5151, 5155, 5158, 5159, 5161, 5162, 5164, 5165, 5166, 5167, 5168, 5170, 5171, 5172, 5173, 5174, 5176, 5178, 5182, 5185, 5189, 5190, 5191, 5192, 5193, 5197, 5198, 5201, 5203, 5204, 5206, 5207, 5215, 5216, 5221, 5224, 5227, 5228, 5229, 5237, 5239, 5243, 5245, 5246, 5248, 5249, 5250, 5252, 5254, 5255, 5256, 5260, 5265, 5267, 5270, 5273, 5274, 5277, 5278, 5282, 5285, 5286, 5289, 5296, 5301, 5302, 5303, 5304, 5305, 5306, 5308, 5313, 5320, 5322, 5323, 5324, 5325, 5328, 5329, 5331, 5334, 5335, 5340, 5341, 5342, 5343, 5344, 5346, 5347, 5350, 5351, 5352, 5355, 5357, 5360, 5364, 5365, 5369, 5375, 5377, 5378, 5379, 5380, 5382, 5384, 5385, 5386, 5388, 5389, 5393, 5401, 5402, 5405, 5411, 5413, 5416, 5417, 5419, 5425, 5426, 5427, 5428, 5431, 5433, 5437, 5439, 5441, 5442, 5444, 5445, 5446, 5448, 5456, 5459, 5460, 5461, 5462, 5471, 5473, 5474, 5475, 5482, 5485, 5490, 5493, 5495, 5498, 5499, 5503, 5504, 5507, 5508, 5512, 5514, 5515, 5517, 5518, 5524, 5525, 5528, 5529, 5531, 5537, 5539, 5540, 5543, 5551, 5553, 5558, 5559, 5560, 5567, 5569, 5571, 5572, 5573, 5574, 5577, 5579, 5581, 5582, 5583, 5584, 5587, 5588, 5589, 5592, 5597, 5601, 5602, 5604, 5605, 5610, 5611, 5614, 5615, 5619, 5620, 5621, 5626, 5633, 5634, 5635, 5637, 5638, 5640, 5645, 5646, 5647, 5648, 5650, 5652, 5656, 5659, 5660, 5663, 5666, 5667, 5668, 5669, 5678, 5686, 5687, 5688, 5689, 5691, 5700, 5701, 5705, 5710, 5711, 5714, 5718, 5720, 5722, 5723, 5724, 5727, 5728, 5729, 5730, 5736, 5738, 5739, 5741, 5747, 5748, 5749, 5750, 5757, 5759, 5762, 5763, 5764, 5766, 5769, 5770, 5771, 5773, 5774, 5777, 5778, 5779, 5782, 5786, 5788, 5790, 5791, 5792, 5793, 5795, 5796, 5799, 5800, 5802, 5806, 5807, 5809, 5811, 5812, 5817, 5822, 5823, 5829, 5831, 5838, 5842, 5843, 5844, 5848, 5851, 5852, 5853, 5855, 5856, 5857, 5858, 5860, 5861, 5864, 5868, 5870, 5871, 5873, 5878, 5882, 5883, 5884, 5888, 5893, 5894, 5895, 5896, 5897, 5899, 5904, 5905, 5909, 5910, 5912, 5915, 5917, 5918, 5919, 5921, 5923, 5926, 5927, 5933, 5934, 5936, 5937, 5944, 5947, 5949, 5956, 5957, 5958, 5959, 5961, 5962, 5963, 5967, 5968, 5969, 5970, 5971, 5972, 5974, 5981, 5983, 5986, 5987, 5988, 5989, 5990, 5992, 5995, 5999, 6000, 6002, 6004, 6008, 6013, 6014, 6022, 6025, 6029, 6032, 6033, 6034, 6035, 6037, 6044, 6046, 6055, 6061, 6063, 6064, 6065, 6068, 6069, 6072, 6073, 6074, 6076, 6079, 6081, 6082, 6085, 6086, 6089, 6090, 6091, 6092, 6094, 6095, 6102, 6105, 6106, 6109, 6113, 6115, 6119, 6123, 6128, 6129, 6131, 6133, 6135, 6141, 6142, 6144, 6146, 6149, 6150, 6152, 6153, 6154, 6155, 6156, 6157, 6160, 6162, 6172, 6173, 6174, 6186, 6187, 6193, 6194, 6201, 6203, 6207, 6209, 6213, 6216, 6219, 6220, 6223, 6224, 6226, 6229, 6230, 6232, 6234, 6235, 6239, 6243, 6247, 6249, 6252, 6254, 6262, 6263, 6266, 6267, 6268, 6272, 6277, 6283, 6285, 6286, 6288, 6289, 6292, 6295, 6296, 6298, 6300, 6301, 6303, 6305, 6306, 6314, 6315, 6320, 6322, 6324, 6328, 6330, 6332, 6333, 6334, 6337, 6338, 6339, 6345, 6346, 6350, 6353, 6358, 6359, 6360, 6362, 6363, 6365, 6367, 6368, 6370, 6375, 6379, 6380, 6384, 6385, 6386, 6387, 6389, 6390, 6395, 6396, 6399, 6403, 6405, 6406, 6407, 6411, 6415, 6416, 6420, 6421, 6423, 6424, 6425, 6427, 6429, 6433, 6435, 6437, 6438, 6444, 6451, 6452, 6454, 6461, 6463, 6465, 6468, 6469, 6472, 6478, 6479, 6480, 6487, 6494, 6495, 6496, 6497, 6499, 6501, 6502, 6503, 6508, 6515, 6517, 6521, 6522, 6523, 6531, 6532, 6533, 6537, 6543, 6544, 6545, 6546, 6547, 6548, 6549, 6554, 6556, 6557, 6558, 6562, 6564, 6567, 6568, 6571, 6572, 6575, 6577, 6590, 6600, 6601, 6602, 6603, 6608, 6609, 6612, 6613, 6614, 6618, 6619, 6623, 6625, 6628, 6629, 6631, 6638, 6640, 6644, 6645, 6655, 6656, 6657, 6658, 6659, 6661, 6663, 6664, 6665, 6671, 6675, 6679, 6680, 6683, 6685, 6686, 6687, 6688, 6689, 6695, 6698, 6701, 6703, 6704, 6705, 6706, 6709, 6711, 6712, 6714, 6719, 6720, 6723, 6724, 6725, 6727, 6729, 6730, 6732, 6733, 6736, 6740, 6741, 6743, 6744, 6748, 6753, 6756, 6757, 6761, 6762, 6765, 6767, 6768, 6769, 6772, 6773, 6776, 6778, 6779, 6781, 6782, 6787, 6791, 6793, 6796, 6802, 6805, 6807, 6808, 6811, 6812, 6814, 6820, 6824, 6826, 6827, 6829, 6830, 6831, 6837, 6842, 6844, 6849, 6853, 6854, 6859, 6860, 6861, 6863, 6867, 6868, 6872, 6876, 6883, 6885, 6887, 6888, 6892, 6894, 6896, 6901, 6903, 6906, 6907, 6912, 6914, 6915, 6916, 6917, 6918, 6921, 6922, 6923, 6924, 6925, 6927, 6930, 6932, 6936, 6938, 6939, 6942, 6944, 6946, 6949, 6951, 6954, 6962, 6963, 6965, 6968, 6974, 6975, 6976, 6977, 6979, 6980, 6986, 6987, 6992, 6994, 6996, 7000, 7006, 7009, 7015, 7017, 7018, 7019, 7023, 7024, 7025, 7027, 7031, 7032, 7034, 7038, 7039, 7040, 7041, 7047, 7048, 7051, 7052, 7053, 7054, 7055, 7062, 7064, 7066, 7068, 7071, 7078, 7084, 7090, 7094, 7097, 7098, 7099, 7104, 7107, 7111, 7112, 7113, 7115, 7116, 7117, 7120, 7122, 7124, 7125, 7126, 7129, 7131, 7133, 7143, 7146, 7148, 7150, 7151, 7153, 7155, 7158, 7160, 7177, 7178, 7180, 7181, 7182, 7187, 7188, 7191, 7192, 7195, 7196, 7197, 7198, 7199, 7200, 7201, 7202, 7204, 7205, 7208, 7209, 7210, 7214, 7219, 7221, 7222, 7224, 7227, 7228, 7230, 7239, 7242, 7243, 7248, 7249, 7255, 7257, 7258, 7264, 7266, 7268, 7269, 7270, 7276, 7277, 7278, 7282, 7283, 7284, 7286, 7287, 7288, 7290, 7291, 7293, 7294, 7297, 7299, 7302, 7306, 7308, 7312, 7314, 7315, 7317, 7318, 7319, 7320, 7321, 7327, 7329, 7330, 7333, 7334, 7339, 7344, 7347, 7350, 7353, 7354, 7357, 7358, 7361, 7367, 7368, 7371, 7372, 7373, 7374, 7375, 7378, 7379, 7381, 7382, 7388, 7391, 7395, 7397, 7401, 7403, 7406, 7414, 7416, 7419, 7420, 7425, 7428, 7429, 7436, 7437, 7438, 7442, 7445, 7450, 7451, 7455, 7457, 7458, 7461, 7463, 7464, 7467, 7469, 7471, 7473, 7483, 7484, 7487, 7489, 7491, 7494, 7496, 7497, 7498, 7499, 7502, 7505, 7506, 7508, 7512, 7514, 7519, 7520, 7522, 7524, 7526, 7527, 7531, 7532, 7534, 7535, 7536, 7537, 7546, 7550, 7553, 7556, 7557, 7565, 7566, 7567, 7573, 7575, 7577, 7582, 7586, 7590, 7593, 7596, 7597, 7598, 7603, 7605, 7609, 7612, 7614, 7620, 7621, 7629, 7631, 7632, 7633, 7637, 7645, 7646, 7647, 7651, 7652, 7655, 7657, 7661, 7664, 7665, 7667, 7668, 7669, 7677, 7679, 7680, 7681, 7684, 7689, 7691, 7695, 7698, 7703, 7705, 7710, 7711, 7714, 7716, 7718, 7721, 7722, 7724, 7725, 7726, 7728, 7730, 7733, 7735, 7736, 7737, 7742, 7744, 7745, 7747, 7748, 7755, 7758, 7759, 7761, 7763, 7765, 7766, 7767, 7770, 7773, 7774, 7777, 7778, 7779, 7782, 7783, 7784, 7787, 7788, 7795, 7799, 7800, 7802, 7804, 7807, 7808, 7812, 7814, 7816, 7818, 7819, 7821, 7823, 7826, 7827, 7832, 7833, 7834, 7837, 7838, 7839, 7846, 7850, 7852, 7855, 7858, 7867, 7870, 7877, 7881, 7883, 7884, 7886, 7889, 7890, 7892, 7896, 7905, 7908, 7910, 7911, 7912, 7916, 7918, 7922, 7924, 7925, 7927, 7928, 7934, 7935, 7937, 7938, 7939, 7942, 7943, 7944, 7946, 7948, 7954, 7955, 7958, 7959, 7961, 7962, 7964, 7968, 7969, 7972, 7973, 7976, 7979, 7981, 7982, 7983, 7988, 7989, 7992, 7993, 7994, 7998, 7999, 8003, 8005, 8007, 8012, 8013, 8020, 8022, 8026, 8037, 8048, 8049, 8051, 8053, 8055, 8056, 8060, 8061, 8063, 8065, 8066, 8069, 8070, 8071, 8072, 8074, 8076, 8080, 8083, 8087, 8090, 8091, 8092, 8093, 8096, 8100, 8101, 8102, 8106, 8107, 8108, 8109, 8110, 8111, 8114, 8119, 8120, 8121, 8124, 8125, 8126, 8130, 8132, 8134, 8140, 8141, 8143, 8144, 8145, 8151, 8153, 8154, 8157, 8159, 8160, 8161, 8162, 8165, 8166, 8168, 8171, 8173, 8174, 8175, 8177, 8178, 8180, 8187, 8193, 8195, 8200, 8201, 8202, 8203, 8207, 8209, 8212, 8217, 8218, 8222, 8227, 8229, 8231, 8232, 8233, 8235, 8236, 8239, 8245, 8246, 8247, 8248, 8249, 8251, 8252, 8253, 8257, 8260, 8266, 8268, 8271, 8279, 8285, 8290, 8292, 8294, 8295, 8297, 8298, 8299, 8300, 8309, 8310, 8315, 8316, 8317, 8320, 8321, 8322, 8323, 8324, 8326, 8333, 8338, 8339, 8340, 8341, 8345, 8355, 8359, 8361, 8364, 8365, 8366, 8367, 8368, 8372, 8374, 8380, 8386, 8388, 8390, 8392, 8393, 8401, 8403, 8404, 8408, 8411, 8413, 8414, 8417, 8425, 8426, 8431, 8434, 8435, 8438, 8444, 8447, 8448, 8450, 8451, 8452, 8454, 8463, 8464, 8466, 8469, 8471, 8476, 8477, 8478, 8483, 8484, 8486, 8489, 8496, 8497, 8504, 8506, 8508, 8515, 8518, 8521, 8523, 8524, 8526, 8527, 8532, 8536, 8537, 8538, 8539, 8545, 8546, 8547, 8551, 8553, 8554, 8557, 8560, 8566, 8568, 8570, 8575, 8577, 8578, 8585, 8587, 8589, 8593, 8594, 8595, 8599, 8600, 8602, 8603, 8604, 8605, 8607, 8608, 8609, 8611, 8614, 8615, 8619, 8620, 8624, 8634, 8640, 8643, 8652, 8653, 8655, 8657, 8658, 8659, 8661, 8663, 8664, 8666, 8668, 8669, 8670, 8672, 8673, 8674, 8675, 8676, 8680, 8684, 8685, 8686, 8689, 8693, 8697, 8698, 8699, 8700, 8705, 8708, 8709, 8711, 8717, 8720, 8723, 8724, 8726, 8729, 8732, 8734, 8737, 8738, 8740, 8743, 8745, 8747, 8748, 8749, 8753, 8754, 8755, 8756, 8760, 8762, 8763, 8766, 8767, 8770, 8774, 8776, 8777, 8782, 8783, 8784, 8785, 8786, 8788, 8789, 8794, 8795, 8800, 8803, 8806, 8808, 8809, 8811, 8819, 8824, 8830, 8832, 8835, 8837, 8840, 8841, 8842, 8845, 8848, 8849, 8856, 8857, 8859, 8861, 8866, 8870, 8872, 8874, 8877, 8879, 8882, 8884, 8887, 8892, 8894, 8901, 8902, 8903, 8910, 8912, 8913, 8915, 8918, 8920, 8924, 8925, 8926, 8927, 8928, 8931, 8934, 8940, 8942, 8943, 8949, 8951, 8958, 8968, 8975, 8976, 8977, 8978, 8980, 8985, 8986, 8987, 8990, 8991, 8994, 8996, 9000, 9004, 9005, 9006, 9007, 9008, 9009, 9010, 9012, 9017, 9019, 9020, 9029, 9031, 9035, 9039, 9040, 9041, 9049, 9054, 9061, 9066, 9068, 9069, 9070, 9077, 9080, 9082, 9086, 9088, 9090, 9092, 9093, 9100, 9103, 9109, 9110, 9113, 9121, 9123, 9129, 9131, 9132, 9137, 9140, 9143, 9150, 9158, 9159, 9162, 9164, 9165, 9171, 9173, 9174, 9175, 9179, 9181, 9182, 9186, 9189, 9194, 9197, 9200, 9201, 9204, 9205, 9209, 9225, 9227, 9231, 9234, 9238, 9239, 9241, 9242, 9244, 9246, 9247, 9251, 9252, 9254, 9255, 9256, 9258, 9260, 9265, 9269, 9272, 9273, 9274, 9278, 9279, 9280, 9284, 9286, 9287, 9289, 9291, 9293, 9294, 9299, 9300, 9304, 9308, 9312, 9315, 9317, 9320, 9323, 9326, 9328, 9330, 9333, 9337, 9341, 9342, 9346, 9349, 9350, 9351, 9354, 9358, 9359, 9363, 9365, 9366, 9367, 9368, 9369, 9372, 9374, 9375, 9376, 9378, 9380, 9383, 9385, 9386, 9388, 9389, 9390, 9391, 9392, 9394, 9396, 9397, 9398, 9402, 9403, 9405, 9408, 9410, 9411, 9412, 9413, 9418, 9423, 9429, 9430, 9435, 9436, 9437, 9440, 9444, 9450, 9451, 9452, 9453, 9454, 9456, 9459, 9463, 9464, 9466, 9468, 9470, 9473, 9474, 9480, 9484, 9485, 9491, 9493, 9494, 9496, 9497, 9501, 9502, 9505, 9508, 9509, 9520, 9522, 9523, 9526, 9529, 9531, 9535, 9536, 9539, 9545, 9549, 9551, 9552, 9554, 9557, 9560, 9566, 9567, 9572, 9573, 9574, 9575, 9583, 9585, 9590, 9592, 9597, 9601, 9605, 9606, 9610, 9611, 9613, 9620, 9621, 9623, 9627, 9629, 9631, 9634, 9635, 9636, 9637, 9638, 9639, 9640, 9642, 9646, 9648, 9649, 9650, 9651, 9654, 9655, 9656, 9657, 9661, 9667, 9668, 9670, 9673, 9674, 9676, 9678, 9679, 9681, 9682, 9689, 9692, 9693, 9694, 9702, 9709, 9713, 9714, 9716, 9717, 9718, 9721, 9722, 9726, 9727, 9728, 9729, 9731, 9735, 9737, 9744, 9747, 9750, 9752, 9758, 9763, 9764, 9768, 9771, 9774, 9775, 9776, 9777, 9779, 9784, 9785, 9786, 9787, 9789, 9790, 9793, 9794, 9800, 9803, 9804, 9805, 9806, 9812, 9813, 9814, 9815, 9816, 9818, 9820, 9821, 9822, 9824, 9830, 9831, 9841, 9845, 9847, 9848, 9851, 9857, 9859, 9864, 9865, 9868, 9870, 9872, 9874, 9877, 9878, 9880, 9882, 9883, 9886, 9887, 9888, 9891, 9895, 9896, 9897, 9898, 9907, 9909, 9910, 9911, 9912, 9913, 9915, 9916, 9924, 9929, 9932, 9933, 9935, 9939, 9943, 9944, 9946, 9947, 9950, 9951, 9956, 9957, 9961, 9967, 9968, 9969, 9970, 9971, 9972, 9973, 9974, 9976, 9982, 9983, 9986, 9987, 9989, 9996, 9997, 10001, 10003, 10006, 10009, 10016, 10017, 10023, 10024, 10031, 10032, 10033, 10037, 10039, 10042, 10044, 10047, 10051, 10052, 10055, 10056, 10059, 10060, 10062, 10065, 10066, 10067, 10068, 10070, 10074, 10077, 10080, 10081, 10082, 10083, 10085, 10086, 10087, 10089, 10091, 10092, 10095, 10096, 10097, 10098, 10100, 10103, 10105, 10107, 10110, 10113, 10118, 10125, 10128, 10129, 10130, 10131, 10135, 10137, 10141, 10148, 10149, 10151, 10152, 10158, 10160, 10165, 10166, 10179, 10180, 10184, 10186, 10187, 10192, 10193, 10194, 10195, 10196, 10197, 10198, 10201, 10202, 10206, 10210, 10213, 10214, 10222, 10225, 10227, 10228, 10229, 10230, 10234, 10235, 10236, 10238, 10239, 10245, 10246, 10248, 10249, 10250, 10252, 10255, 10257, 10259, 10261, 10262, 10269, 10279, 10280, 10283, 10284, 10285, 10286, 10288, 10290, 10291, 10296, 10298, 10300, 10304, 10305, 10306, 10310, 10312, 10314, 10318, 10319, 10320, 10322, 10325, 10327, 10332, 10335, 10337, 10339, 10340, 10341, 10342, 10345, 10346, 10348, 10354, 10355, 10357, 10360, 10362, 10364, 10371, 10372, 10376, 10378, 10379, 10380, 10383, 10385, 10388, 10389, 10390, 10397, 10398, 10399, 10400, 10403, 10407, 10408, 10410, 10412, 10413, 10414, 10415, 10416, 10419, 10425, 10436, 10437, 10438, 10439, 10442, 10443, 10445, 10447, 10450, 10451, 10452, 10454, 10460, 10463, 10465, 10467, 10468, 10469, 10470, 10471, 10472, 10473, 10476, 10481, 10484, 10487, 10488, 10493, 10494, 10498, 10499, 10500, 10506, 10508, 10512, 10513, 10517, 10519, 10520, 10521, 10522, 10525, 10527, 10528, 10529, 10534, 10535, 10536, 10537, 10539, 10541, 10547, 10550, 10551, 10552, 10554, 10557, 10558, 10559, 10561, 10564, 10565, 10567, 10568, 10569, 10570, 10572, 10573, 10576, 10577, 10579, 10580, 10581, 10585, 10589, 10590, 10594, 10595, 10597, 10600, 10606, 10608, 10609, 10612, 10613, 10616, 10618, 10620, 10624, 10625, 10627, 10630, 10631, 10634, 10636, 10637, 10638, 10639, 10642, 10643, 10645, 10646, 10647, 10648, 10652, 10655, 10658, 10659, 10661, 10663, 10664, 10665, 10668, 10672, 10673, 10675, 10680, 10681, 10682, 10683, 10684, 10685, 10689, 10691, 10695, 10696, 10698, 10702, 10710, 10712, 10714, 10720, 10724, 10727, 10729, 10730, 10736, 10738, 10740, 10741, 10744, 10745, 10749, 10750, 10751, 10752, 10753, 10754, 10756, 10763, 10769, 10771, 10775, 10777, 10779, 10780, 10782, 10784, 10789, 10790, 10791, 10796, 10797, 10800, 10802, 10803, 10804, 10805, 10811, 10812, 10815, 10820, 10821, 10822, 10823, 10828, 10831, 10834, 10837, 10841, 10844, 10845, 10849, 10852, 10855, 10856, 10859, 10860, 10864, 10868, 10871, 10875, 10876, 10877, 10878, 10880, 10881, 10882, 10883, 10885, 10889, 10891, 10897, 10898, 10899, 10900, 10901, 10903, 10908, 10909, 10911, 10912, 10914, 10922, 10927, 10929, 10930, 10931, 10934, 10935, 10936, 10941, 10943, 10944, 10946, 10948, 10950, 10954, 10955, 10956, 10958, 10959, 10966, 10967, 10969, 10970, 10971, 10972, 10973, 10975, 10976, 10978, 10980, 10982, 10985, 10986, 10987, 10989, 10991, 10993, 10995, 10996, 10999, 11004, 11005, 11011, 11015, 11018, 11019, 11024, 11025, 11027, 11030, 11031, 11033, 11034, 11035, 11036, 11037, 11038, 11039, 11041, 11042, 11045, 11046, 11047, 11049, 11051, 11053, 11056, 11057, 11060, 11061, 11062, 11063, 11064, 11066, 11067, 11068, 11069, 11070, 11071, 11075, 11077, 11083, 11088, 11089, 11091, 11092, 11093, 11094, 11095, 11096, 11097, 11099, 11100, 11101, 11107, 11110, 11116, 11117, 11118, 11124, 11125, 11127, 11128, 11129, 11136, 11137, 11140, 11141, 11147, 11150, 11156, 11158, 11161, 11162, 11166, 11168, 11172, 11175, 11178, 11180, 11183, 11185, 11188, 11189, 11191, 11192, 11197, 11199, 11201, 11202, 11204, 11206, 11210, 11217, 11218, 11219, 11221, 11222, 11228, 11230, 11231, 11232, 11233, 11234, 11238, 11240, 11242, 11245, 11248, 11252, 11256, 11258, 11268, 11273, 11276, 11278, 11279, 11281, 11282, 11283, 11284, 11287, 11290, 11292, 11295, 11299, 11300, 11302, 11308, 11309, 11311, 11312, 11313, 11315, 11316, 11319, 11320, 11322, 11324, 11326, 11328, 11330, 11332, 11333, 11335, 11342, 11344, 11345, 11350, 11351, 11353, 11354, 11360, 11369, 11370, 11371, 11372, 11376, 11377, 11378, 11379, 11380, 11381, 11382, 11387, 11388, 11389, 11390, 11392, 11396, 11397, 11399, 11400, 11402, 11406, 11412, 11417, 11421, 11426, 11430, 11432, 11433, 11435, 11436, 11437, 11441, 11444, 11445, 11447, 11449, 11450, 11452, 11453, 11456, 11461, 11471, 11472, 11473, 11474, 11475, 11480, 11482, 11485, 11493, 11497, 11500, 11505, 11507, 11511, 11514, 11515, 11518, 11521, 11526, 11527, 11531, 11532, 11533, 11534, 11537, 11539, 11543, 11551, 11553, 11556, 11557, 11560, 11561, 11562, 11567, 11568, 11570, 11573, 11577, 11578, 11579, 11583, 11585, 11588, 11595, 11596, 11605, 11607, 11610, 11612, 11614, 11616, 11617, 11619, 11622, 11623, 11624, 11625, 11628, 11629, 11631, 11632, 11633, 11634, 11635, 11639, 11642, 11643, 11648, 11652, 11655, 11656, 11657, 11659, 11660, 11661, 11662, 11664, 11665, 11666, 11668, 11671, 11676, 11678, 11682, 11686, 11691, 11692, 11701, 11702, 11703, 11704, 11705, 11707, 11708, 11710, 11713, 11718, 11721, 11725, 11726, 11728, 11729, 11731, 11733, 11734, 11737, 11742, 11746, 11748, 11753, 11754, 11757, 11762, 11763, 11764, 11766, 11768, 11769, 11777, 11779, 11783, 11786, 11787, 11789, 11792, 11793, 11794, 11796, 11799, 11801, 11804, 11805, 11810, 11814, 11816, 11819, 11821, 11823, 11824, 11826, 11827, 11829, 11832, 11833, 11836, 11839, 11841, 11842, 11843, 11844, 11846, 11850, 11853, 11854, 11858, 11862, 11865, 11866, 11867, 11875, 11876, 11878, 11880, 11882, 11883, 11884, 11888, 11897, 11899, 11902, 11905, 11907, 11911, 11914, 11916, 11917, 11920, 11921, 11922, 11926, 11929, 11930, 11931, 11932, 11936, 11937, 11945, 11948, 11950, 11952, 11957, 11961, 11965, 11966, 11971, 11972, 11977, 11980, 11983, 11984, 11992, 11993, 11994, 11995, 11997, 12003, 12004, 12005, 12006, 12007, 12009, 12010, 12011, 12013, 12014, 12015, 12016, 12018, 12019, 12020, 12023, 12024, 12025, 12027, 12028, 12029, 12030, 12031, 12032, 12035, 12038, 12039, 12047, 12051, 12053, 12054, 12055, 12059, 12060, 12061, 12062, 12068, 12072, 12073, 12074, 12077, 12078, 12079, 12082, 12085, 12086, 12088, 12089, 12094, 12095, 12096, 12097, 12099, 12101, 12102, 12103, 12107, 12110, 12113, 12114, 12115, 12116, 12117, 12118, 12120, 12123, 12124, 12125, 12127, 12131, 12132, 12136, 12141, 12142, 12143, 12146, 12148, 12149, 12153, 12155, 12156, 12157, 12159, 12161, 12164, 12167, 12168, 12172, 12173, 12174, 12175, 12179, 12184, 12193, 12196, 12200, 12201, 12202, 12204, 12207, 12208, 12209, 12211, 12213, 12214, 12216, 12217, 12221, 12228, 12229, 12231, 12235, 12240, 12242, 12243, 12253, 12254, 12258, 12265, 12267, 12273, 12277, 12282, 12283, 12284, 12286, 12288, 12291, 12293, 12294, 12297, 12299, 12301, 12304, 12306, 12308, 12309, 12317, 12318, 12319, 12323, 12325, 12326, 12336, 12338, 12339, 12340, 12341, 12342, 12343, 12344, 12345, 12352, 12356, 12361, 12363, 12364, 12365, 12366, 12367, 12370, 12376, 12377, 12381, 12389, 12390, 12394, 12396, 12397, 12398, 12399, 12402, 12403, 12404, 12405, 12412, 12417, 12418, 12422, 12423, 12425, 12430, 12431, 12432, 12433, 12435, 12436, 12437, 12440, 12443, 12445, 12446, 12448, 12450, 12453, 12456, 12458, 12461, 12465, 12466, 12471, 12473, 12477, 12478, 12479, 12481, 12482, 12488, 12492, 12497, 12498], [67, 172, 224, 334, 598, 1008, 1124, 1177, 1244, 1298, 1641, 1836, 1850, 1853, 1913, 1919, 1932, 2143, 2318, 2363, 2894, 2923, 3070, 3188, 3295, 3347, 3442, 3502, 4159, 4304, 4332, 4348, 4349, 4355, 4447, 4488, 4523, 4552, 4558, 4582, 4732, 4867, 5318, 5337, 5354, 5556, 5672, 5789, 5815, 5930, 6005, 6020, 6030, 6159, 6245, 6319, 6401, 6440, 6473, 6634, 6676, 6682, 6941, 7100, 7118, 7241, 7245, 7256, 7289, 7383, 7390, 7542, 7551, 7627, 7740, 7840, 8038, 8188, 8327, 8330, 8331, 8420, 8430, 8440, 8479, 8516, 8525, 8588, 8629, 8691, 8742, 8823, 8875, 9042, 9198, 9361, 9401, 9541, 9712, 9899, 9966, 10204, 10396, 10428, 10435, 10440, 10516, 10543, 10774, 10867, 10879, 11002, 11113, 11359, 11363, 11416, 11443, 11565, 11626, 11641, 11654, 11711, 11740, 11797, 11834, 11982, 12036, 12274, 12385, 12406, 12463], [53, 82, 91, 95, 124, 133, 174, 229, 237, 324, 366, 403, 413, 477, 497, 539, 559, 595, 597, 608, 610, 616, 668, 707, 721, 743, 747, 769, 810, 848, 886, 895, 905, 924, 948, 1049, 1052, 1107, 1126, 1211, 1222, 1248, 1255, 1289, 1290, 1320, 1531, 1539, 1547, 1564, 1596, 1637, 1647, 1667, 1683, 1712, 1803, 1886, 1968, 2000, 2030, 2058, 2167, 2194, 2203, 2216, 2221, 2256, 2280, 2332, 2338, 2438, 2452, 2468, 2479, 2507, 2512, 2532, 2533, 2563, 2587, 2625, 2631, 2679, 2722, 2728, 2758, 2767, 2791, 2793, 2818, 2845, 2867, 2968, 3053, 3100, 3108, 3186, 3204, 3216, 3298, 3342, 3346, 3383, 3392, 3395, 3400, 3458, 3464, 3466, 3478, 3491, 3494, 3496, 3653, 3656, 3731, 3750, 3774, 3811, 3832, 3873, 3883, 3902, 3904, 3959, 3970, 3998, 4024, 4047, 4050, 4062, 4073, 4099, 4108, 4110, 4119, 4145, 4195, 4197, 4218, 4231, 4232, 4234, 4257, 4259, 4307, 4345, 4375, 4385, 4396, 4486, 4529, 4565, 4567, 4621, 4649, 4657, 4733, 4741, 4742, 4748, 4779, 4782, 4828, 4994, 5001, 5068, 5073, 5100, 5102, 5114, 5156, 5211, 5268, 5300, 5327, 5395, 5396, 5414, 5453, 5466, 5492, 5520, 5527, 5555, 5561, 5593, 5596, 5607, 5654, 5662, 5737, 5742, 5755, 5758, 5784, 5801, 5814, 5816, 5818, 5824, 5859, 5875, 5945, 6026, 6071, 6111, 6116, 6143, 6148, 6184, 6198, 6205, 6237, 6258, 6269, 6271, 6304, 6317, 6335, 6342, 6378, 6404, 6408, 6431, 6447, 6455, 6458, 6489, 6529, 6595, 6647, 6666, 6667, 6775, 6777, 6835, 6850, 6851, 6931, 6937, 6984, 6991, 6993, 7007, 7033, 7121, 7127, 7167, 7213, 7259, 7275, 7307, 7323, 7474, 7495, 7513, 7547, 7564, 7581, 7583, 7592, 7636, 7660, 7704, 7707, 7708, 7739, 7743, 7754, 7781, 7897, 7923, 7930, 7940, 7950, 7967, 7970, 8018, 8027, 8040, 8047, 8058, 8068, 8123, 8147, 8155, 8169, 8223, 8313, 8352, 8399, 8455, 8474, 8480, 8487, 8490, 8493, 8507, 8574, 8576, 8580, 8582, 8591, 8601, 8612, 8641, 8642, 8649, 8690, 8696, 8718, 8752, 8815, 8844, 8878, 8883, 8966, 8982, 8993, 8999, 9003, 9013, 9015, 9025, 9048, 9089, 9117, 9133, 9141, 9146, 9155, 9170, 9177, 9249, 9288, 9334, 9352, 9356, 9357, 9364, 9431, 9439, 9455, 9462, 9465, 9516, 9543, 9553, 9593, 9599, 9600, 9644, 9732, 9733, 9734, 9833, 9834, 9835, 9871, 9875, 9881, 9906, 9914, 9922, 9936, 9937, 9958, 9988, 9998, 9999, 10041, 10072, 10093, 10102, 10119, 10153, 10154, 10161, 10247, 10265, 10270, 10294, 10307, 10326, 10352, 10456, 10485, 10502, 10548, 10562, 10622, 10654, 10660, 10671, 10687, 10708, 10735, 10764, 10798, 10838, 10857, 10902, 10952, 10984, 11080, 11119, 11135, 11186, 11190, 11198, 11237, 11247, 11257, 11266, 11267, 11286, 11296, 11303, 11338, 11358, 11386, 11393, 11395, 11398, 11428, 11429, 11431, 11446, 11460, 11463, 11535, 11538, 11545, 11552, 11559, 11575, 11587, 11592, 11644, 11653, 11680, 11712, 11730, 11756, 11767, 11772, 11778, 11784, 11790, 11830, 11857, 11872, 11943, 11955, 11956, 11959, 11969, 12026, 12044, 12046, 12056, 12134, 12137, 12147, 12177, 12181, 12190, 12220, 12347, 12348, 12369, 12452, 12457], [0, 6, 11, 12, 20, 28, 40, 48, 51, 62, 70, 86, 100, 101, 104, 105, 110, 111, 117, 135, 151, 165, 175, 177, 209, 221, 228, 245, 259, 271, 274, 282, 290, 301, 317, 321, 329, 335, 370, 375, 377, 392, 402, 405, 418, 421, 453, 455, 461, 466, 471, 484, 490, 493, 505, 514, 518, 524, 534, 541, 544, 555, 561, 563, 579, 582, 592, 611, 615, 638, 653, 654, 655, 662, 682, 683, 684, 695, 698, 722, 723, 745, 749, 761, 767, 784, 794, 799, 805, 814, 825, 835, 843, 850, 852, 856, 864, 893, 894, 897, 900, 901, 916, 917, 921, 931, 955, 969, 971, 972, 977, 979, 983, 994, 999, 1011, 1013, 1023, 1024, 1035, 1047, 1061, 1068, 1113, 1123, 1125, 1135, 1142, 1149, 1150, 1153, 1162, 1169, 1170, 1181, 1187, 1191, 1198, 1213, 1224, 1225, 1231, 1247, 1257, 1272, 1283, 1284, 1294, 1297, 1300, 1301, 1308, 1315, 1341, 1359, 1364, 1381, 1390, 1417, 1421, 1426, 1456, 1466, 1474, 1481, 1495, 1496, 1551, 1570, 1579, 1582, 1586, 1593, 1609, 1610, 1624, 1632, 1640, 1662, 1664, 1676, 1700, 1707, 1711, 1725, 1730, 1740, 1747, 1757, 1762, 1763, 1768, 1775, 1776, 1786, 1788, 1790, 1796, 1809, 1813, 1825, 1857, 1874, 1884, 1887, 1891, 1895, 1905, 1907, 1938, 1958, 1966, 1974, 1977, 1980, 1984, 1992, 1993, 1994, 1996, 1997, 2003, 2010, 2015, 2017, 2020, 2051, 2056, 2061, 2086, 2091, 2098, 2102, 2107, 2115, 2128, 2136, 2137, 2138, 2148, 2153, 2155, 2163, 2164, 2165, 2170, 2177, 2198, 2210, 2213, 2222, 2228, 2232, 2246, 2251, 2262, 2298, 2308, 2309, 2310, 2311, 2337, 2376, 2414, 2415, 2419, 2421, 2442, 2462, 2474, 2492, 2499, 2505, 2506, 2517, 2518, 2524, 2525, 2535, 2541, 2555, 2559, 2582, 2585, 2592, 2603, 2604, 2608, 2620, 2621, 2629, 2632, 2647, 2660, 2668, 2675, 2678, 2680, 2682, 2685, 2689, 2691, 2716, 2720, 2729, 2739, 2750, 2756, 2757, 2764, 2779, 2799, 2829, 2830, 2832, 2842, 2844, 2847, 2848, 2852, 2861, 2887, 2902, 2920, 2935, 2942, 2943, 2944, 2948, 2956, 2961, 2964, 2978, 2979, 2985, 2989, 2993, 2996, 2997, 3005, 3006, 3019, 3024, 3036, 3051, 3065, 3073, 3078, 3089, 3091, 3094, 3097, 3101, 3104, 3105, 3126, 3137, 3147, 3151, 3154, 3157, 3158, 3168, 3169, 3178, 3179, 3190, 3194, 3198, 3208, 3213, 3293, 3308, 3317, 3327, 3350, 3351, 3361, 3364, 3370, 3379, 3398, 3403, 3415, 3418, 3419, 3420, 3422, 3424, 3427, 3456, 3461, 3468, 3509, 3544, 3549, 3554, 3557, 3588, 3595, 3599, 3600, 3648, 3657, 3683, 3686, 3691, 3698, 3701, 3707, 3726, 3737, 3754, 3763, 3765, 3777, 3781, 3796, 3809, 3814, 3816, 3824, 3837, 3838, 3840, 3846, 3853, 3871, 3876, 3880, 3890, 3903, 3908, 3921, 3938, 3942, 3961, 3992, 3994, 4001, 4002, 4006, 4011, 4015, 4040, 4056, 4095, 4097, 4112, 4127, 4129, 4134, 4147, 4153, 4176, 4186, 4188, 4193, 4203, 4244, 4250, 4258, 4260, 4263, 4265, 4309, 4318, 4322, 4325, 4326, 4334, 4335, 4341, 4343, 4362, 4365, 4380, 4382, 4390, 4391, 4399, 4402, 4403, 4404, 4406, 4408, 4421, 4433, 4436, 4446, 4465, 4466, 4527, 4528, 4532, 4536, 4554, 4555, 4557, 4569, 4573, 4581, 4591, 4592, 4595, 4613, 4617, 4618, 4636, 4651, 4666, 4671, 4680, 4686, 4687, 4692, 4694, 4701, 4710, 4730, 4735, 4740, 4744, 4749, 4753, 4758, 4764, 4776, 4797, 4798, 4825, 4850, 4856, 4860, 4864, 4869, 4898, 4900, 4907, 4912, 4930, 4931, 4934, 4938, 4959, 4968, 4970, 4978, 4982, 4997, 5004, 5011, 5014, 5019, 5027, 5042, 5047, 5060, 5078, 5079, 5087, 5095, 5104, 5105, 5109, 5115, 5132, 5136, 5145, 5149, 5177, 5200, 5205, 5209, 5230, 5241, 5244, 5253, 5263, 5283, 5299, 5309, 5315, 5326, 5356, 5381, 5397, 5410, 5412, 5423, 5436, 5464, 5472, 5476, 5486, 5489, 5491, 5494, 5506, 5509, 5513, 5523, 5533, 5536, 5541, 5542, 5547, 5580, 5594, 5622, 5624, 5636, 5644, 5651, 5661, 5676, 5677, 5680, 5683, 5692, 5697, 5698, 5703, 5707, 5745, 5776, 5783, 5785, 5797, 5803, 5804, 5813, 5827, 5832, 5839, 5841, 5845, 5849, 5866, 5867, 5872, 5876, 5891, 5906, 5907, 5920, 5931, 5935, 5948, 5950, 5951, 5954, 5960, 5975, 5980, 5996, 5997, 6012, 6023, 6028, 6038, 6040, 6041, 6056, 6058, 6060, 6088, 6098, 6108, 6110, 6114, 6120, 6122, 6124, 6136, 6137, 6139, 6140, 6164, 6165, 6175, 6178, 6180, 6183, 6210, 6211, 6233, 6242, 6250, 6256, 6307, 6318, 6323, 6343, 6344, 6347, 6355, 6382, 6383, 6412, 6418, 6422, 6426, 6442, 6456, 6457, 6459, 6462, 6505, 6506, 6511, 6518, 6520, 6540, 6551, 6553, 6555, 6559, 6561, 6563, 6569, 6587, 6588, 6589, 6591, 6605, 6615, 6627, 6643, 6648, 6674, 6677, 6694, 6697, 6710, 6713, 6715, 6717, 6721, 6728, 6734, 6745, 6747, 6751, 6752, 6759, 6770, 6780, 6789, 6790, 6797, 6810, 6828, 6839, 6848, 6870, 6878, 6899, 6902, 6919, 6928, 6929, 6933, 6935, 6947, 6955, 6957, 6970, 6973, 7004, 7020, 7021, 7026, 7044, 7057, 7063, 7083, 7086, 7091, 7096, 7141, 7147, 7154, 7156, 7157, 7161, 7166, 7173, 7175, 7229, 7240, 7244, 7250, 7262, 7263, 7267, 7272, 7281, 7285, 7298, 7301, 7305, 7310, 7328, 7337, 7340, 7341, 7342, 7346, 7369, 7394, 7409, 7410, 7423, 7435, 7439, 7476, 7492, 7500, 7509, 7521, 7523, 7525, 7538, 7539, 7543, 7545, 7548, 7552, 7554, 7560, 7563, 7568, 7569, 7574, 7576, 7578, 7600, 7604, 7607, 7615, 7624, 7630, 7649, 7654, 7656, 7659, 7662, 7666, 7673, 7675, 7682, 7683, 7687, 7692, 7694, 7697, 7706, 7709, 7713, 7719, 7734, 7772, 7786, 7789, 7797, 7798, 7828, 7829, 7847, 7851, 7853, 7857, 7869, 7874, 7891, 7893, 7899, 7902, 7906, 7913, 7919, 7931, 7945, 7974, 7977, 7980, 7984, 7991, 7996, 8000, 8011, 8023, 8031, 8050, 8052, 8054, 8062, 8067, 8073, 8082, 8086, 8089, 8098, 8099, 8118, 8128, 8152, 8158, 8164, 8190, 8191, 8194, 8204, 8205, 8213, 8228, 8234, 8274, 8277, 8280, 8283, 8284, 8288, 8291, 8306, 8318, 8319, 8342, 8351, 8353, 8356, 8369, 8377, 8378, 8379, 8382, 8385, 8387, 8410, 8412, 8427, 8428, 8429, 8432, 8437, 8442, 8470, 8472, 8494, 8495, 8502, 8517, 8522, 8531, 8535, 8544, 8548, 8550, 8552, 8555, 8562, 8563, 8565, 8571, 8590, 8597, 8623, 8639, 8644, 8650, 8656, 8660, 8667, 8681, 8695, 8707, 8710, 8712, 8721, 8722, 8725, 8733, 8746, 8751, 8761, 8771, 8791, 8798, 8802, 8805, 8818, 8820, 8829, 8831, 8834, 8853, 8863, 8865, 8868, 8871, 8897, 8906, 8914, 8923, 8933, 8938, 8939, 8959, 8969, 8970, 8997, 9014, 9027, 9057, 9067, 9075, 9078, 9085, 9095, 9098, 9104, 9106, 9116, 9128, 9130, 9139, 9157, 9166, 9169, 9190, 9196, 9199, 9219, 9220, 9237, 9261, 9270, 9271, 9282, 9298, 9306, 9319, 9339, 9340, 9343, 9347, 9353, 9362, 9371, 9379, 9393, 9409, 9417, 9420, 9422, 9434, 9438, 9469, 9475, 9479, 9486, 9488, 9514, 9517, 9533, 9548, 9570, 9579, 9582, 9584, 9586, 9598, 9626, 9641, 9672, 9683, 9690, 9695, 9696, 9700, 9701, 9706, 9708, 9742, 9749, 9753, 9798, 9802, 9807, 9808, 9817, 9827, 9828, 9829, 9832, 9836, 9840, 9843, 9846, 9852, 9866, 9867, 9869, 9876, 9885, 9889, 9901, 9904, 9918, 9931, 9959, 9990, 9992, 10004, 10007, 10010, 10011, 10018, 10027, 10038, 10048, 10049, 10050, 10057, 10061, 10073, 10088, 10106, 10108, 10112, 10115, 10122, 10123, 10143, 10144, 10145, 10162, 10171, 10173, 10174, 10178, 10181, 10188, 10217, 10223, 10251, 10266, 10276, 10277, 10282, 10287, 10292, 10308, 10321, 10333, 10336, 10356, 10359, 10374, 10382, 10384, 10393, 10424, 10441, 10446, 10457, 10466, 10483, 10504, 10523, 10526, 10531, 10578, 10607, 10614, 10623, 10626, 10629, 10667, 10674, 10679, 10694, 10697, 10701, 10713, 10725, 10737, 10743, 10747, 10755, 10757, 10762, 10766, 10770, 10786, 10792, 10793, 10806, 10810, 10826, 10830, 10833, 10835, 10853, 10862, 10870, 10896, 10916, 10919, 10945, 10981, 11001, 11003, 11010, 11020, 11023, 11055, 11104, 11112, 11123, 11130, 11138, 11151, 11152, 11154, 11160, 11164, 11195, 11208, 11211, 11226, 11241, 11250, 11270, 11285, 11291, 11294, 11297, 11298, 11307, 11323, 11343, 11347, 11349, 11356, 11373, 11383, 11405, 11408, 11411, 11454, 11455, 11457, 11458, 11464, 11465, 11468, 11470, 11487, 11489, 11496, 11517, 11522, 11523, 11546, 11548, 11554, 11566, 11571, 11582, 11599, 11606, 11640, 11645, 11649, 11669, 11673, 11675, 11677, 11679, 11690, 11694, 11697, 11699, 11715, 11741, 11743, 11751, 11755, 11760, 11773, 11775, 11776, 11782, 11798, 11802, 11807, 11822, 11828, 11838, 11840, 11890, 11892, 11900, 11901, 11906, 11923, 11939, 11947, 11949, 11958, 11967, 11985, 11987, 11990, 12000, 12012, 12043, 12057, 12063, 12075, 12109, 12111, 12126, 12135, 12138, 12145, 12151, 12158, 12163, 12171, 12187, 12194, 12215, 12237, 12245, 12248, 12259, 12260, 12272, 12295, 12296, 12324, 12334, 12337, 12346, 12349, 12355, 12380, 12392, 12407, 12414, 12415, 12421, 12426, 12429, 12434, 12444, 12449, 12468, 12469, 12472, 12480, 12487, 12493, 12495], [10, 15, 35, 38, 64, 68, 74, 92, 108, 122, 128, 155, 238, 248, 252, 262, 272, 297, 298, 353, 476, 478, 482, 492, 508, 543, 548, 556, 562, 570, 580, 589, 596, 605, 644, 664, 718, 720, 753, 760, 762, 771, 781, 785, 832, 849, 862, 914, 933, 945, 952, 1012, 1020, 1066, 1077, 1078, 1084, 1087, 1093, 1100, 1119, 1143, 1165, 1179, 1253, 1285, 1328, 1363, 1365, 1370, 1413, 1428, 1429, 1447, 1450, 1454, 1477, 1480, 1525, 1534, 1559, 1585, 1619, 1628, 1645, 1652, 1657, 1688, 1692, 1697, 1698, 1699, 1704, 1745, 1758, 1777, 1781, 1789, 1791, 1793, 1794, 1806, 1816, 1902, 1906, 1908, 1933, 1943, 1953, 1959, 1969, 1979, 1987, 1998, 2028, 2054, 2062, 2105, 2110, 2113, 2140, 2151, 2173, 2182, 2211, 2252, 2267, 2287, 2355, 2362, 2408, 2446, 2455, 2458, 2484, 2513, 2526, 2534, 2550, 2560, 2561, 2571, 2576, 2577, 2607, 2615, 2622, 2635, 2649, 2653, 2724, 2783, 2788, 2797, 2820, 2831, 2865, 2890, 2892, 2928, 2941, 2947, 2955, 2976, 2982, 3045, 3069, 3122, 3134, 3139, 3175, 3181, 3223, 3252, 3254, 3267, 3354, 3396, 3438, 3447, 3454, 3481, 3489, 3524, 3558, 3563, 3567, 3569, 3586, 3593, 3641, 3642, 3647, 3666, 3687, 3699, 3733, 3790, 3963, 3968, 3971, 4044, 4045, 4057, 4061, 4069, 4084, 4092, 4109, 4128, 4156, 4177, 4293, 4298, 4299, 4389, 4398, 4416, 4432, 4443, 4452, 4458, 4480, 4494, 4504, 4531, 4549, 4564, 4593, 4598, 4599, 4603, 4606, 4608, 4609, 4619, 4685, 4697, 4707, 4728, 4738, 4756, 4792, 4811, 4830, 4881, 4882, 4895, 4947, 4965, 4967, 4985, 5006, 5026, 5043, 5050, 5113, 5139, 5186, 5195, 5223, 5232, 5236, 5251, 5276, 5297, 5311, 5312, 5316, 5359, 5363, 5409, 5415, 5432, 5449, 5451, 5463, 5467, 5477, 5519, 5550, 5595, 5600, 5612, 5629, 5641, 5671, 5675, 5690, 5708, 5719, 5768, 5798, 5835, 5869, 5925, 5928, 5940, 5942, 5993, 5998, 6006, 6007, 6017, 6018, 6049, 6054, 6059, 6096, 6127, 6130, 6168, 6185, 6199, 6218, 6244, 6246, 6248, 6273, 6287, 6340, 6356, 6372, 6409, 6414, 6481, 6486, 6509, 6513, 6538, 6541, 6570, 6574, 6576, 6582, 6606, 6616, 6626, 6635, 6642, 6669, 6673, 6691, 6785, 6786, 6806, 6813, 6815, 6847, 6865, 6869, 6913, 6959, 6961, 6981, 7049, 7079, 7134, 7170, 7184, 7186, 7206, 7207, 7254, 7335, 7356, 7365, 7376, 7400, 7433, 7444, 7460, 7478, 7488, 7540, 7555, 7558, 7559, 7561, 7599, 7610, 7622, 7658, 7672, 7676, 7732, 7796, 7825, 7842, 7859, 7876, 7882, 7920, 7932, 7949, 7966, 7995, 8002, 8024, 8025, 8032, 8097, 8182, 8192, 8255, 8273, 8358, 8405, 8433, 8499, 8503, 8514, 8556, 8558, 8569, 8584, 8613, 8618, 8662, 8688, 8719, 8730, 8735, 8757, 8781, 8799, 8836, 8852, 8855, 8896, 8905, 8930, 8932, 8944, 8983, 8988, 8995, 9018, 9023, 9050, 9079, 9081, 9108, 9180, 9185, 9195, 9215, 9218, 9229, 9275, 9318, 9322, 9325, 9332, 9382, 9387, 9406, 9442, 9443, 9448, 9457, 9460, 9471, 9477, 9512, 9513, 9519, 9525, 9569, 9576, 9652, 9659, 9697, 9756, 9769, 9788, 9809, 9903, 9954, 9964, 9965, 9981, 9993, 10101, 10104, 10114, 10124, 10182, 10203, 10205, 10211, 10220, 10226, 10237, 10267, 10268, 10293, 10343, 10361, 10373, 10377, 10381, 10391, 10402, 10406, 10432, 10455, 10459, 10464, 10478, 10510, 10514, 10542, 10549, 10555, 10560, 10586, 10591, 10632, 10649, 10653, 10666, 10690, 10700, 10704, 10715, 10734, 10748, 10767, 10773, 10827, 10829, 10913, 10915, 10964, 10965, 10968, 10974, 10988, 10990, 11009, 11040, 11087, 11103, 11143, 11163, 11165, 11179, 11212, 11214, 11236, 11259, 11288, 11306, 11321, 11334, 11366, 11375, 11414, 11422, 11438, 11451, 11478, 11486, 11494, 11589, 11591, 11593, 11601, 11604, 11613, 11636, 11647, 11681, 11759, 11795, 11811, 11820, 11845, 11859, 11869, 11885, 11891, 11893, 11928, 12040, 12049, 12084, 12093, 12104, 12150, 12154, 12205, 12226, 12281, 12321, 12328, 12332, 12379, 12383, 12393, 12439, 12476], [], [], [8, 44, 65, 94, 107, 126, 137, 145, 159, 162, 169, 184, 206, 211, 212, 260, 273, 288, 303, 312, 313, 328, 360, 378, 382, 394, 399, 434, 448, 458, 463, 483, 506, 507, 521, 527, 550, 551, 557, 568, 578, 620, 635, 643, 674, 717, 730, 733, 736, 763, 795, 798, 802, 809, 829, 844, 845, 846, 880, 891, 934, 935, 957, 960, 966, 970, 1006, 1021, 1026, 1051, 1072, 1080, 1108, 1112, 1139, 1175, 1186, 1195, 1202, 1215, 1239, 1250, 1271, 1277, 1286, 1310, 1323, 1353, 1354, 1361, 1362, 1407, 1418, 1435, 1442, 1444, 1449, 1484, 1485, 1490, 1502, 1536, 1561, 1575, 1581, 1608, 1613, 1658, 1666, 1672, 1701, 1713, 1724, 1732, 1742, 1753, 1770, 1804, 1811, 1824, 1831, 1840, 1847, 1896, 1900, 1946, 1948, 1954, 1976, 1995, 2014, 2037, 2052, 2099, 2109, 2118, 2139, 2172, 2183, 2184, 2201, 2237, 2253, 2254, 2313, 2323, 2335, 2351, 2364, 2445, 2449, 2457, 2515, 2543, 2562, 2595, 2610, 2630, 2663, 2702, 2706, 2710, 2723, 2741, 2768, 2774, 2785, 2792, 2801, 2802, 2804, 2806, 2822, 2838, 2843, 2866, 2874, 2885, 2899, 2919, 2934, 2971, 2999, 3015, 3056, 3067, 3072, 3087, 3125, 3131, 3133, 3165, 3173, 3197, 3200, 3207, 3214, 3241, 3243, 3261, 3276, 3279, 3290, 3310, 3328, 3334, 3338, 3353, 3380, 3384, 3385, 3397, 3408, 3413, 3448, 3495, 3515, 3521, 3523, 3537, 3538, 3579, 3581, 3585, 3605, 3614, 3644, 3679, 3692, 3710, 3711, 3714, 3738, 3742, 3780, 3836, 3841, 3852, 3866, 3894, 3896, 3909, 3934, 3941, 3951, 3956, 3979, 3995, 4004, 4008, 4014, 4080, 4091, 4115, 4120, 4131, 4140, 4150, 4166, 4174, 4215, 4240, 4247, 4271, 4288, 4302, 4303, 4312, 4321, 4350, 4357, 4370, 4376, 4378, 4401, 4409, 4440, 4487, 4510, 4525, 4540, 4544, 4563, 4578, 4587, 4628, 4635, 4643, 4693, 4712, 4718, 4723, 4739, 4750, 4762, 4785, 4789, 4806, 4833, 4834, 4849, 4857, 4870, 4892, 4921, 4939, 4945, 4946, 4957, 4972, 5021, 5030, 5032, 5034, 5058, 5098, 5120, 5133, 5147, 5152, 5154, 5199, 5202, 5214, 5234, 5235, 5242, 5258, 5259, 5281, 5332, 5358, 5383, 5457, 5468, 5505, 5516, 5532, 5552, 5599, 5609, 5616, 5618, 5639, 5653, 5670, 5706, 5734, 5753, 5761, 5836, 5850, 5877, 5886, 5887, 5941, 5973, 5994, 6001, 6009, 6027, 6031, 6052, 6057, 6070, 6077, 6107, 6117, 6125, 6169, 6190, 6191, 6270, 6302, 6309, 6312, 6329, 6352, 6366, 6381, 6392, 6419, 6443, 6449, 6492, 6493, 6500, 6566, 6592, 6597, 6599, 6611, 6621, 6633, 6650, 6678, 6696, 6707, 6718, 6731, 6750, 6754, 6801, 6804, 6809, 6818, 6841, 6871, 6879, 6890, 6910, 6956, 6967, 6969, 6978, 6982, 7001, 7043, 7045, 7050, 7058, 7059, 7060, 7065, 7070, 7080, 7093, 7108, 7172, 7183, 7189, 7223, 7225, 7226, 7233, 7235, 7246, 7300, 7304, 7309, 7311, 7313, 7325, 7336, 7360, 7399, 7421, 7427, 7434, 7441, 7446, 7456, 7466, 7477, 7482, 7515, 7549, 7591, 7616, 7626, 7635, 7638, 7642, 7653, 7685, 7715, 7756, 7757, 7771, 7791, 7810, 7811, 7845, 7861, 7863, 7866, 7900, 7904, 7941, 8008, 8014, 8015, 8035, 8081, 8113, 8129, 8133, 8197, 8230, 8238, 8243, 8269, 8278, 8304, 8312, 8314, 8328, 8332, 8337, 8344, 8373, 8384, 8409, 8423, 8457, 8468, 8488, 8498, 8500, 8529, 8610, 8621, 8635, 8679, 8682, 8687, 8694, 8728, 8779, 8793, 8796, 8828, 8833, 8850, 8860, 8891, 8941, 8945, 8950, 8956, 8967, 8971, 8972, 8981, 9016, 9026, 9036, 9037, 9112, 9134, 9142, 9151, 9161, 9168, 9192, 9207, 9208, 9221, 9226, 9253, 9303, 9336, 9407, 9424, 9425, 9458, 9461, 9483, 9511, 9527, 9528, 9534, 9561, 9622, 9624, 9625, 9663, 9666, 9671, 9724, 9740, 9766, 9773, 9810, 9844, 9884, 9917, 9920, 9927, 9934, 9949, 10002, 10013, 10022, 10127, 10132, 10139, 10142, 10156, 10208, 10240, 10272, 10301, 10323, 10338, 10347, 10365, 10386, 10409, 10421, 10461, 10486, 10490, 10501, 10509, 10518, 10544, 10574, 10583, 10596, 10598, 10602, 10604, 10617, 10619, 10651, 10657, 10677, 10693, 10722, 10742, 10768, 10783, 10816, 10825, 10843, 10847, 10850, 10854, 10866, 10906, 10918, 10921, 10937, 10998, 11022, 11043, 11059, 11081, 11090, 11108, 11126, 11144, 11155, 11167, 11187, 11193, 11194, 11207, 11260, 11262, 11272, 11274, 11301, 11305, 11318, 11337, 11341, 11385, 11403, 11410, 11423, 11481, 11491, 11498, 11513, 11520, 11525, 11563, 11569, 11576, 11584, 11600, 11603, 11651, 11670, 11685, 11727, 11745, 11781, 11847, 11886, 11903, 11908, 11935, 11973, 11978, 11998, 12064, 12066, 12067, 12070, 12080, 12100, 12106, 12121, 12152, 12180, 12186, 12224, 12236, 12241, 12247, 12250, 12251, 12276, 12285, 12307, 12316, 12329, 12391, 12401, 12410, 12441, 12462, 12467, 12486, 12494, 12499], [46, 210, 226, 239, 315, 316, 338, 486, 496, 500, 512, 585, 732, 865, 868, 889, 956, 1037, 1167, 1336, 1374, 1377, 1385, 1386, 1388, 1391, 1406, 1410, 1423, 1467, 1505, 1512, 1526, 1549, 1627, 1674, 1682, 1695, 1848, 1856, 1911, 1917, 2046, 2067, 2150, 2219, 2315, 2327, 2356, 2413, 2440, 2471, 2521, 2554, 2634, 2640, 2677, 2690, 2871, 2876, 2903, 2946, 3008, 3037, 3039, 3043, 3048, 3083, 3144, 3446, 3459, 3620, 3623, 3689, 3693, 3696, 3736, 3752, 3767, 3808, 3868, 3874, 4066, 4070, 4098, 4125, 4213, 4383, 4392, 4453, 4461, 4484, 4566, 4642, 4665, 4699, 4716, 4745, 4780, 4847, 4894, 5033, 5096, 5101, 5181, 5272, 5339, 5430, 5458, 5480, 5575, 5693, 5717, 6101, 6176, 6214, 6264, 6299, 6652, 6662, 6681, 6699, 6877, 6897, 6960, 6995, 7253, 7274, 7303, 7322, 7326, 7470, 7639, 7693, 7746, 7769, 7775, 7776, 7794, 7849, 7875, 7933, 7997, 8036, 8122, 8172, 8199, 8225, 8276, 8334, 8396, 8402, 8441, 8443, 8456, 8581, 8703, 8900, 9154, 9295, 9414, 9503, 9506, 9595, 9596, 9615, 9746, 9757, 9780, 9781, 9782, 9811, 9923, 10046, 10170, 10253, 10297, 10367, 10405, 10431, 10511, 10571, 10717, 10772, 10795, 10861, 10872, 10925, 11021, 11121, 11122, 11235, 11244, 11249, 11255, 11263, 11277, 11325, 11361, 11597, 11638, 11749, 11774, 11988, 12050, 12052, 12133, 12191, 12246, 12315, 12408, 12470, 12475], [59, 81, 258, 278, 342, 415, 614, 681, 776, 803, 839, 877, 906, 938, 1203, 1306, 1402, 1509, 1516, 1535, 1756, 1771, 1899, 1901, 2055, 2095, 2245, 2278, 2371, 2393, 2473, 2578, 2624, 2676, 2688, 2725, 2752, 2761, 2789, 2893, 2905, 3042, 3185, 3222, 3332, 3439, 3684, 3801, 3805, 3887, 3917, 4164, 4417, 4449, 4455, 4661, 4684, 4705, 4727, 4751, 4761, 4812, 4813, 4846, 4928, 4940, 4983, 5045, 5077, 5088, 5126, 5179, 5338, 5487, 5563, 5655, 5808, 5833, 5840, 5863, 6134, 6166, 6313, 6482, 6504, 6519, 6534, 6579, 6735, 6749, 6852, 6895, 7003, 7011, 7203, 7216, 7426, 7625, 7628, 7644, 7671, 7723, 7843, 7854, 7880, 8019, 8029, 8045, 8117, 8226, 8264, 8362, 8383, 8416, 8439, 8453, 8880, 8911, 8916, 9058, 9216, 9316, 9419, 9504, 9530, 9580, 9603, 9739, 9853, 9854, 9861, 9893, 9945, 10015, 10190, 10209, 10232, 10242, 10295, 10316, 10351, 10482, 10703, 10716, 10785, 10874, 10951, 11044, 11114, 11182, 11200, 11220, 11227, 11243, 11336, 11352, 11484, 11503, 11544, 11738, 11780, 11809, 12119, 12129, 12162, 12170, 12264, 12310, 12311, 12351, 12442, 12464], [1, 76, 83, 116, 163, 294, 347, 356, 364, 369, 379, 386, 389, 430, 438, 457, 460, 494, 509, 519, 594, 797, 831, 837, 869, 881, 902, 913, 947, 950, 951, 973, 1028, 1044, 1073, 1092, 1136, 1184, 1259, 1305, 1332, 1340, 1351, 1393, 1511, 1522, 1523, 1571, 1591, 1621, 1634, 1675, 1718, 1728, 1783, 1829, 1877, 1903, 2024, 2040, 2073, 2078, 2129, 2227, 2255, 2261, 2292, 2317, 2325, 2387, 2461, 2569, 2626, 2646, 2654, 2713, 2800, 2807, 2869, 2897, 2915, 2931, 2992, 3016, 3033, 3086, 3093, 3113, 3120, 3160, 3219, 3236, 3256, 3272, 3291, 3382, 3410, 3460, 3533, 3575, 3597, 3615, 3672, 3681, 3753, 3756, 3762, 3771, 3782, 3834, 3910, 3913, 3931, 3962, 3973, 3988, 4054, 4072, 4090, 4105, 4123, 4163, 4171, 4178, 4185, 4199, 4205, 4233, 4239, 4266, 4276, 4308, 4315, 4394, 4476, 4503, 4519, 4539, 4541, 4623, 4746, 4760, 4778, 4791, 4819, 4955, 5010, 5022, 5023, 5142, 5231, 5287, 5307, 5353, 5418, 5435, 5438, 5443, 5447, 5479, 5488, 5501, 5526, 5598, 5613, 5623, 5625, 5674, 5684, 5699, 5726, 5735, 5740, 5780, 5880, 5889, 5901, 5916, 5939, 5966, 5979, 6015, 6099, 6104, 6158, 6170, 6196, 6221, 6241, 6279, 6282, 6290, 6348, 6354, 6369, 6391, 6436, 6464, 6512, 6527, 6584, 6607, 6639, 6641, 6684, 6739, 6795, 6823, 6833, 6858, 6866, 6884, 6926, 7014, 7022, 7028, 7029, 7076, 7085, 7095, 7119, 7130, 7165, 7193, 7232, 7271, 7332, 7362, 7370, 7393, 7405, 7415, 7430, 7432, 7449, 7453, 7454, 7475, 7479, 7507, 7510, 7562, 7587, 7606, 7611, 7696, 7701, 7764, 7873, 7894, 7901, 7909, 7929, 7960, 8017, 8043, 8078, 8115, 8135, 8150, 8163, 8206, 8208, 8210, 8219, 8220, 8237, 8256, 8261, 8282, 8335, 8354, 8376, 8381, 8501, 8530, 8549, 8564, 8627, 8631, 8632, 8637, 8654, 8714, 8750, 8758, 8775, 8813, 8909, 8929, 8947, 9002, 9028, 9044, 9046, 9060, 9145, 9153, 9178, 9217, 9230, 9233, 9248, 9283, 9297, 9338, 9370, 9415, 9441, 9481, 9487, 9515, 9532, 9540, 9562, 9587, 9604, 9658, 9675, 9715, 9838, 9855, 9942, 9963, 9978, 10053, 10071, 10078, 10079, 10126, 10175, 10199, 10254, 10274, 10329, 10330, 10350, 10434, 10453, 10489, 10492, 10495, 10497, 10515, 10588, 10610, 10633, 10670, 10686, 10709, 10765, 10799, 10808, 10836, 10893, 10940, 11000, 11065, 11073, 11115, 11131, 11134, 11205, 11253, 11367, 11404, 11409, 11419, 11420, 11434, 11469, 11477, 11488, 11504, 11509, 11519, 11542, 11620, 11663, 11687, 11714, 11732, 11765, 11812, 11817, 11835, 11848, 11851, 11852, 11887, 11896, 11915, 11962, 11981, 11996, 12001, 12002, 12008, 12090, 12166, 12178, 12230, 12278, 12287, 12320, 12330, 12427, 12438, 12484, 12485], [9, 71, 89, 127, 202, 203, 242, 269, 308, 344, 425, 465, 491, 495, 501, 528, 567, 569, 601, 602, 699, 703, 779, 873, 888, 949, 953, 1002, 1036, 1089, 1106, 1117, 1180, 1245, 1316, 1339, 1355, 1376, 1422, 1520, 1580, 1601, 1630, 1710, 1749, 1751, 1767, 1773, 1799, 1832, 1870, 1897, 1912, 1920, 1923, 1924, 1936, 1988, 2057, 2080, 2097, 2112, 2258, 2293, 2312, 2341, 2380, 2385, 2454, 2478, 2497, 2552, 2619, 2705, 2709, 2734, 3009, 3035, 3044, 3098, 3115, 3159, 3195, 3225, 3232, 3251, 3360, 3428, 3432, 3433, 3501, 3525, 3566, 3577, 3609, 3676, 3724, 3766, 3826, 3828, 3851, 3856, 3905, 3911, 3939, 3997, 4009, 4051, 4096, 4101, 4138, 4169, 4182, 4209, 4289, 4352, 4373, 4454, 4556, 4571, 4669, 4675, 4695, 4769, 4783, 4822, 4988, 5003, 5012, 5031, 5121, 5208, 5212, 5226, 5257, 5262, 5314, 5330, 5403, 5408, 5481, 5497, 5549, 5564, 5578, 5608, 5627, 5628, 5658, 5673, 5760, 5781, 5787, 5819, 5825, 5911, 5952, 6011, 6047, 6147, 6195, 6215, 6227, 6255, 6316, 6326, 6361, 6388, 6402, 6439, 6453, 6475, 6630, 6646, 6708, 6821, 6843, 6856, 6881, 6886, 6940, 6990, 7075, 7110, 7123, 7135, 7215, 7231, 7265, 7389, 7431, 7530, 7579, 7731, 7762, 7817, 7862, 7871, 7965, 7978, 8006, 8116, 8138, 8146, 8170, 8216, 8262, 8305, 8389, 8419, 8436, 8446, 8458, 8465, 8467, 8540, 8572, 8617, 8628, 8638, 8646, 8701, 8731, 8801, 8827, 8839, 8846, 8851, 8873, 8952, 8984, 8998, 9030, 9047, 9056, 9062, 9072, 9096, 9120, 9135, 9147, 9183, 9193, 9235, 9245, 9404, 9447, 9476, 9542, 9546, 9589, 9616, 9630, 9660, 9669, 9686, 9751, 9761, 9791, 9826, 9858, 9862, 9908, 9919, 9952, 9962, 9984, 10008, 10014, 10021, 10026, 10116, 10136, 10147, 10150, 10164, 10233, 10243, 10273, 10313, 10328, 10349, 10584, 10599, 10635, 10640, 10650, 10733, 10809, 10887, 10890, 10910, 10947, 10963, 10979, 10994, 11006, 11008, 11078, 11139, 11149, 11169, 11170, 11174, 11225, 11264, 11304, 11331, 11357, 11442, 11466, 11512, 11528, 11555, 11564, 11717, 11806, 11818, 11855, 11895, 11909, 11912, 11933, 11942, 11944, 11946, 11964, 12087, 12092, 12122, 12128, 12195, 12198, 12206, 12313, 12350, 12483], [42, 120, 153, 167, 207, 231, 374, 387, 423, 454, 464, 469, 470, 536, 576, 593, 607, 617, 661, 750, 819, 842, 853, 858, 874, 981, 1075, 1129, 1168, 1200, 1218, 1291, 1330, 1344, 1345, 1373, 1412, 1415, 1440, 1463, 1503, 1507, 1588, 1603, 1620, 1669, 1726, 1819, 1921, 1922, 1951, 1972, 1981, 2023, 2039, 2042, 2108, 2125, 2223, 2273, 2290, 2295, 2303, 2314, 2326, 2345, 2381, 2411, 2423, 2456, 2483, 2491, 2529, 2547, 2617, 2651, 2814, 2817, 2868, 3054, 3063, 3066, 3107, 3136, 3196, 3209, 3238, 3258, 3266, 3282, 3304, 3326, 3423, 3431, 3443, 3490, 3517, 3556, 3590, 3596, 3622, 3685, 3708, 3712, 3787, 3858, 3860, 3912, 3924, 3954, 3996, 4078, 4111, 4184, 4269, 4316, 4337, 4483, 4502, 4517, 4533, 4534, 4548, 4585, 4625, 4650, 4652, 4721, 4729, 4773, 4774, 4836, 4873, 4897, 4913, 4920, 4949, 5035, 5040, 5062, 5134, 5138, 5146, 5163, 5213, 5219, 5261, 5271, 5292, 5317, 5372, 5424, 5452, 5538, 5544, 5570, 5590, 5642, 5725, 5756, 5834, 5938, 6075, 6083, 6100, 6126, 6145, 6161, 6163, 6181, 6182, 6188, 6204, 6206, 6231, 6253, 6261, 6278, 6280, 6400, 6474, 6491, 6524, 6539, 6542, 6552, 6620, 6722, 6742, 6764, 6904, 6964, 7036, 7046, 7056, 7061, 7073, 7103, 7128, 7138, 7211, 7252, 7280, 7295, 7366, 7392, 7440, 7447, 7480, 7481, 7485, 7588, 7594, 7865, 7895, 7898, 7936, 7951, 7952, 7975, 8010, 8034, 8084, 8198, 8311, 8346, 8357, 8391, 8418, 8561, 8573, 8592, 8630, 8647, 8678, 8706, 8741, 8816, 8821, 8867, 8869, 8886, 8953, 8954, 9021, 9032, 9033, 9051, 9064, 9083, 9122, 9148, 9176, 9191, 9203, 9206, 9210, 9212, 9222, 9243, 9263, 9264, 9281, 9310, 9314, 9324, 9395, 9577, 9618, 9687, 9783, 9796, 9837, 9839, 9860, 9941, 9953, 9977, 10030, 10069, 10133, 10168, 10176, 10218, 10315, 10401, 10444, 10474, 10479, 10503, 10505, 10538, 10592, 10678, 10707, 10723, 10778, 10807, 10813, 10926, 10932, 10962, 10992, 11017, 11050, 11153, 11269, 11293, 11348, 11424, 11448, 11459, 11476, 11495, 11547, 11549, 11580, 11590, 11609, 11658, 11706, 11735, 11758, 11791, 11813, 11831, 11889, 11894, 11904, 11925, 11927, 11960, 11970, 11991, 12091, 12144, 12165, 12169, 12189, 12218, 12270, 12302, 12322, 12357, 12358, 12359, 12372, 12384, 12387], [], [], [5, 13, 60, 72, 93, 103, 112, 113, 132, 152, 168, 183, 246, 305, 307, 354, 371, 380, 388, 407, 426, 441, 444, 456, 480, 503, 516, 554, 572, 641, 657, 658, 667, 673, 677, 714, 754, 757, 793, 836, 841, 861, 872, 883, 885, 967, 989, 996, 1003, 1010, 1032, 1067, 1096, 1097, 1138, 1152, 1156, 1199, 1252, 1256, 1303, 1314, 1347, 1387, 1396, 1448, 1499, 1529, 1538, 1555, 1563, 1567, 1623, 1629, 1686, 1716, 1729, 1744, 1759, 1774, 1797, 1833, 1834, 1841, 1849, 1858, 1865, 1869, 1916, 1957, 1991, 2047, 2050, 2083, 2084, 2142, 2195, 2199, 2204, 2234, 2282, 2283, 2289, 2294, 2357, 2365, 2420, 2459, 2516, 2558, 2567, 2589, 2658, 2667, 2671, 2673, 2721, 2726, 2730, 2766, 2771, 2812, 2825, 2862, 2878, 2906, 2908, 2918, 2929, 2988, 3001, 3058, 3064, 3076, 3085, 3142, 3143, 3184, 3255, 3259, 3278, 3284, 3289, 3292, 3302, 3323, 3333, 3374, 3412, 3426, 3441, 3500, 3545, 3555, 3574, 3580, 3608, 3637, 3649, 3735, 3798, 3799, 3807, 3818, 3932, 3953, 3984, 4022, 4032, 4035, 4038, 4068, 4077, 4086, 4088, 4144, 4162, 4180, 4181, 4189, 4217, 4222, 4273, 4281, 4290, 4306, 4344, 4372, 4377, 4386, 4397, 4407, 4445, 4459, 4475, 4478, 4496, 4516, 4526, 4546, 4586, 4611, 4627, 4683, 4709, 4720, 4786, 4801, 4805, 4842, 4852, 4964, 4980, 4996, 5036, 5071, 5074, 5160, 5275, 5293, 5367, 5371, 5376, 5390, 5406, 5421, 5469, 5554, 5591, 5606, 5630, 5696, 5715, 5733, 5743, 5746, 5752, 5794, 5805, 5810, 5854, 5862, 5874, 5881, 5902, 5913, 5965, 6010, 6021, 6024, 6036, 6039, 6043, 6066, 6132, 6151, 6171, 6179, 6212, 6240, 6251, 6260, 6284, 6311, 6331, 6430, 6445, 6484, 6490, 6516, 6528, 6580, 6586, 6596, 6604, 6610, 6636, 6637, 6651, 6690, 6716, 6726, 6760, 6784, 6794, 6803, 6816, 6832, 6862, 6880, 6905, 6908, 6945, 6950, 6972, 6989, 7012, 7013, 7037, 7067, 7069, 7072, 7077, 7081, 7139, 7162, 7169, 7176, 7218, 7238, 7279, 7296, 7343, 7351, 7364, 7396, 7408, 7418, 7462, 7503, 7516, 7518, 7572, 7601, 7602, 7617, 7648, 7712, 7717, 7738, 7751, 7752, 7760, 7801, 7805, 7806, 7868, 7888, 7953, 7963, 7985, 8001, 8028, 8042, 8077, 8079, 8095, 8221, 8281, 8286, 8296, 8301, 8302, 8329, 8348, 8397, 8400, 8407, 8445, 8449, 8492, 8533, 8567, 8583, 8596, 8636, 8727, 8736, 8765, 8858, 8862, 8885, 8904, 8907, 8922, 8948, 9055, 9099, 9111, 9118, 9119, 9124, 9187, 9250, 9266, 9268, 9285, 9290, 9292, 9327, 9377, 9384, 9400, 9416, 9421, 9467, 9490, 9521, 9559, 9563, 9565, 9588, 9612, 9619, 9632, 9647, 9664, 9691, 9703, 9704, 9710, 9754, 9767, 9772, 9795, 9819, 9879, 9926, 10034, 10076, 10094, 10121, 10163, 10260, 10264, 10271, 10303, 10358, 10375, 10429, 10475, 10553, 10582, 10593, 10601, 10628, 10688, 10907, 10997, 11048, 11076, 11084, 11120, 11171, 11181, 11209, 11246, 11280, 11425, 11462, 11467, 11483, 11536, 11581, 11611, 11637, 11667, 11689, 11744, 11761, 11788, 11860, 11871, 11873, 11874, 11881, 11934, 11953, 11986, 11999, 12098, 12160, 12183, 12192, 12197, 12234, 12271, 12280, 12290, 12298, 12305, 12327, 12335, 12354, 12362, 12375, 12395, 12428, 12474], [41, 45, 55, 66, 75, 77, 84, 87, 176, 191, 198, 213, 244, 265, 299, 304, 310, 337, 411, 422, 427, 429, 442, 450, 451, 462, 520, 577, 606, 636, 649, 686, 693, 701, 705, 727, 739, 742, 768, 796, 870, 903, 926, 944, 946, 980, 982, 995, 1004, 1160, 1174, 1204, 1221, 1258, 1279, 1318, 1334, 1346, 1375, 1380, 1427, 1457, 1487, 1497, 1514, 1519, 1527, 1543, 1569, 1572, 1584, 1631, 1684, 1734, 1761, 1769, 1823, 1893, 1926, 1934, 1965, 2002, 2013, 2038, 2045, 2077, 2122, 2123, 2127, 2131, 2156, 2168, 2191, 2212, 2215, 2269, 2284, 2286, 2342, 2368, 2383, 2402, 2404, 2410, 2433, 2434, 2477, 2498, 2539, 2566, 2586, 2618, 2637, 2639, 2655, 2656, 2744, 2745, 2759, 2760, 2794, 2879, 2898, 2930, 2937, 2972, 2986, 3017, 3068, 3074, 3075, 3226, 3237, 3296, 3309, 3311, 3313, 3339, 3341, 3363, 3371, 3421, 3449, 3451, 3457, 3463, 3469, 3472, 3479, 3482, 3510, 3520, 3530, 3551, 3576, 3612, 3618, 3650, 3721, 3768, 3793, 3804, 3822, 3848, 3882, 3884, 3886, 3891, 3964, 3987, 3990, 4003, 4020, 4021, 4046, 4121, 4141, 4143, 4267, 4275, 4331, 4405, 4423, 4438, 4450, 4460, 4464, 4467, 4470, 4481, 4482, 4509, 4511, 4521, 4524, 4572, 4610, 4620, 4647, 4677, 4690, 4736, 4777, 4794, 4821, 4840, 4858, 4861, 4877, 4883, 4901, 4906, 4935, 4944, 4990, 5018, 5055, 5065, 5089, 5141, 5150, 5175, 5218, 5222, 5233, 5264, 5279, 5280, 5288, 5294, 5298, 5319, 5336, 5349, 5374, 5392, 5422, 5429, 5455, 5496, 5500, 5502, 5510, 5511, 5546, 5557, 5586, 5617, 5632, 5657, 5682, 5694, 5695, 5712, 5721, 5731, 5744, 5751, 5775, 5837, 5865, 5879, 5900, 5903, 5924, 5932, 5982, 5985, 6003, 6112, 6200, 6236, 6238, 6276, 6297, 6310, 6377, 6413, 6434, 6448, 6450, 6460, 6467, 6476, 6488, 6578, 6585, 6593, 6617, 6622, 6653, 6654, 6668, 6670, 6672, 6692, 6737, 6738, 6758, 6771, 6788, 6792, 6800, 6864, 6875, 6934, 6943, 6952, 6966, 6983, 6999, 7010, 7016, 7030, 7074, 7109, 7132, 7136, 7137, 7140, 7145, 7149, 7185, 7212, 7217, 7236, 7247, 7251, 7260, 7345, 7348, 7363, 7385, 7386, 7412, 7424, 7443, 7493, 7511, 7528, 7529, 7584, 7595, 7623, 7634, 7640, 7663, 7678, 7699, 7700, 7727, 7753, 7790, 7803, 7809, 7822, 7841, 7917, 7921, 7947, 8009, 8016, 8057, 8094, 8104, 8136, 8148, 8156, 8184, 8186, 8196, 8241, 8250, 8258, 8259, 8263, 8270, 8303, 8347, 8350, 8375, 8394, 8395, 8512, 8534, 8541, 8542, 8543, 8579, 8671, 8677, 8702, 8768, 8843, 8847, 8864, 8893, 8895, 8899, 8917, 8936, 8957, 9034, 9043, 9045, 9059, 9071, 9074, 9084, 9087, 9091, 9101, 9114, 9127, 9149, 9156, 9172, 9202, 9211, 9224, 9240, 9302, 9331, 9344, 9348, 9426, 9432, 9449, 9472, 9489, 9498, 9510, 9544, 9555, 9568, 9571, 9645, 9653, 9711, 9736, 9743, 9799, 9801, 9850, 9873, 9890, 9894, 9900, 9991, 9994, 10012, 10019, 10029, 10054, 10063, 10064, 10120, 10138, 10155, 10159, 10177, 10200, 10212, 10215, 10221, 10241, 10244, 10256, 10302, 10370, 10387, 10392, 10426, 10433, 10449, 10477, 10480, 10530, 10533, 10540, 10641, 10705, 10732, 10801, 10817, 10819, 10842, 10865, 10894, 10904, 10905, 10924, 10953, 10977, 11016, 11032, 11079, 11085, 11098, 11109, 11142, 11148, 11239, 11254, 11289, 11314, 11317, 11346, 11362, 11391, 11415, 11427, 11492, 11506, 11530, 11558, 11615, 11650, 11672, 11688, 11696, 11716, 11723, 11868, 11913, 11954, 11974, 11976, 12022, 12042, 12048, 12065, 12069, 12071, 12083, 12176, 12203, 12238, 12239, 12252, 12255, 12263, 12266, 12269, 12353, 12360, 12373, 12382, 12411, 12459, 12460, 12489, 12496], [], [18, 147, 197, 216, 222, 253, 261, 285, 314, 320, 331, 372, 376, 395, 540, 566, 612, 623, 652, 656, 669, 678, 738, 765, 775, 898, 941, 958, 1070, 1193, 1209, 1367, 1439, 1483, 1528, 1550, 1646, 1651, 1656, 1817, 1844, 1845, 1941, 1952, 1990, 2124, 2174, 2244, 2249, 2272, 2343, 2375, 2386, 2391, 2430, 2466, 2476, 2482, 2495, 2504, 2665, 2686, 2692, 2751, 2841, 2859, 2895, 2901, 2914, 2958, 2959, 2974, 3096, 3103, 3114, 3127, 3164, 3221, 3244, 3245, 3253, 3262, 3277, 3288, 3301, 3340, 3343, 3344, 3607, 3610, 3688, 3778, 3865, 3966, 3991, 4017, 4031, 4118, 4148, 4155, 4167, 4220, 4264, 4268, 4395, 4414, 4456, 4506, 4512, 4601, 4765, 4831, 4835, 4851, 4865, 4893, 4933, 4953, 4976, 4981, 5107, 5118, 5180, 5210, 5333, 5399, 5434, 5454, 5478, 5565, 5566, 5576, 5585, 5631, 5702, 5704, 5767, 5826, 5892, 5922, 5953, 6042, 6062, 6078, 6103, 6177, 6197, 6217, 6222, 6225, 6281, 6325, 6327, 6349, 6364, 6373, 6393, 6410, 6466, 6470, 6477, 6507, 6514, 6573, 6583, 6632, 6766, 6799, 6874, 6891, 6948, 7005, 7035, 7087, 7105, 7114, 7168, 7174, 7190, 7355, 7359, 7377, 7384, 7387, 7486, 7585, 7618, 7619, 7641, 7643, 7650, 7813, 7872, 7956, 7971, 8004, 8139, 8214, 8265, 8275, 8293, 8307, 8325, 8343, 8349, 8360, 8371, 8459, 8528, 8559, 8854, 8992, 9052, 9063, 9076, 9097, 9102, 9160, 9163, 9184, 9188, 9276, 9296, 9301, 9307, 9309, 9335, 9381, 9445, 9507, 9556, 9564, 9581, 9591, 9594, 9607, 9617, 9677, 9680, 9684, 9705, 9719, 9725, 9738, 9745, 9770, 9902, 9921, 9938, 9960, 9980, 10020, 10084, 10099, 10111, 10134, 10216, 10289, 10334, 10420, 10422, 10430, 10458, 10491, 10532, 10563, 10566, 10656, 10692, 10711, 10718, 10760, 10788, 10846, 10858, 10869, 10884, 10957, 10961, 10983, 11028, 11052, 11054, 11102, 11132, 11275, 11327, 11394, 11413, 11418, 11439, 11572, 11574, 11627, 11736, 11803, 11861, 11870, 11877, 11924, 11938, 11940, 12037, 12041, 12081, 12188, 12223, 12268, 12275, 12371, 12413, 12447, 12454, 12491], [], [49, 52, 61, 78, 97, 134, 142, 143, 187, 214, 250, 254, 267, 326, 341, 349, 352, 359, 365, 367, 381, 504, 510, 511, 529, 531, 547, 560, 564, 604, 628, 630, 634, 672, 679, 687, 694, 719, 734, 746, 782, 789, 800, 811, 818, 847, 863, 892, 896, 925, 927, 998, 1007, 1015, 1018, 1042, 1056, 1058, 1086, 1090, 1091, 1105, 1114, 1217, 1246, 1264, 1293, 1304, 1311, 1335, 1398, 1452, 1469, 1504, 1508, 1524, 1545, 1565, 1568, 1625, 1655, 1668, 1670, 1685, 1784, 1785, 1800, 1812, 1820, 1871, 1914, 1930, 1949, 1963, 1999, 2009, 2012, 2018, 2031, 2034, 2044, 2065, 2068, 2081, 2093, 2154, 2169, 2241, 2243, 2296, 2302, 2374, 2399, 2406, 2416, 2425, 2426, 2470, 2489, 2531, 2537, 2546, 2548, 2549, 2551, 2614, 2661, 2684, 2695, 2701, 2718, 2754, 2778, 2798, 2811, 2872, 2909, 2913, 2933, 2950, 2977, 2998, 3028, 3030, 3031, 3049, 3112, 3118, 3141, 3153, 3156, 3183, 3187, 3189, 3193, 3211, 3215, 3231, 3240, 3246, 3249, 3275, 3286, 3297, 3299, 3300, 3358, 3376, 3377, 3411, 3425, 3435, 3453, 3474, 3485, 3506, 3516, 3553, 3564, 3583, 3589, 3604, 3630, 3665, 3682, 3695, 3706, 3716, 3732, 3747, 3751, 3759, 3795, 3827, 3831, 3861, 3862, 3888, 3906, 3915, 3923, 3928, 3935, 3945, 3967, 3976, 3978, 4030, 4052, 4071, 4142, 4149, 4152, 4168, 4170, 4191, 4216, 4219, 4221, 4236, 4243, 4253, 4262, 4278, 4283, 4292, 4305, 4317, 4366, 4425, 4434, 4497, 4508, 4522, 4547, 4570, 4594, 4624, 4641, 4681, 4715, 4747, 4775, 4795, 4854, 4872, 4903, 4951, 4979, 4999, 5013, 5016, 5054, 5069, 5103, 5124, 5148, 5153, 5169, 5183, 5184, 5187, 5188, 5194, 5225, 5238, 5240, 5284, 5290, 5291, 5295, 5310, 5345, 5361, 5387, 5394, 5398, 5400, 5407, 5440, 5450, 5470, 5483, 5484, 5545, 5643, 5681, 5713, 5732, 5820, 5821, 5846, 5890, 5984, 6051, 6053, 6080, 6121, 6202, 6208, 6274, 6291, 6294, 6308, 6341, 6351, 6374, 6398, 6417, 6432, 6441, 6535, 6536, 6581, 6594, 6598, 6624, 6649, 6693, 6700, 6819, 6822, 6838, 6840, 6846, 6855, 6873, 6882, 6909, 6971, 6985, 6998, 7008, 7042, 7088, 7089, 7092, 7101, 7106, 7144, 7152, 7159, 7171, 7220, 7234, 7316, 7331, 7338, 7349, 7352, 7398, 7404, 7417, 7422, 7448, 7452, 7465, 7472, 7501, 7504, 7517, 7571, 7589, 7613, 7674, 7686, 7702, 7750, 7768, 7793, 7820, 7824, 7831, 7835, 7836, 7864, 7885, 7903, 7915, 7957, 7987, 8039, 8041, 8044, 8064, 8085, 8088, 8105, 8127, 8137, 8176, 8179, 8181, 8189, 8211, 8215, 8224, 8242, 8244, 8267, 8287, 8308, 8370, 8421, 8461, 8473, 8475, 8481, 8485, 8505, 8509, 8511, 8513, 8519, 8520, 8625, 8633, 8648, 8692, 8713, 8715, 8716, 8764, 8772, 8773, 8778, 8780, 8790, 8807, 8812, 8817, 8826, 8876, 8889, 8935, 8937, 8960, 8973, 8979, 8989, 9001, 9011, 9022, 9024, 9038, 9065, 9073, 9094, 9115, 9125, 9138, 9144, 9152, 9214, 9223, 9228, 9236, 9277, 9305, 9345, 9373, 9399, 9427, 9433, 9446, 9478, 9482, 9492, 9500, 9538, 9547, 9558, 9578, 9608, 9643, 9662, 9665, 9685, 9699, 9707, 9720, 9730, 9759, 9760, 9792, 9797, 9825, 9842, 9863, 9892, 9905, 9925, 9930, 9940, 9948, 9955, 9985, 10000, 10005, 10035, 10040, 10075, 10090, 10117, 10140, 10157, 10167, 10169, 10185, 10189, 10191, 10207, 10224, 10231, 10258, 10275, 10278, 10281, 10309, 10366, 10369, 10394, 10417, 10418, 10423, 10496, 10507, 10524, 10545, 10575, 10587, 10605, 10615, 10644, 10662, 10699, 10721, 10731, 10739, 10759, 10787, 10814, 10818, 10824, 10832, 10840, 10848, 10863, 10892, 10920, 10923, 10928, 10938, 10939, 10960, 11014, 11082, 11105, 11106, 11111, 11159, 11173, 11176, 11177, 11203, 11213, 11216, 11261, 11265, 11364, 11368, 11374, 11384, 11407, 11479, 11490, 11502, 11524, 11540, 11541, 11586, 11598, 11621, 11646, 11674, 11684, 11693, 11698, 11700, 11722, 11752, 11770, 11800, 11863, 11910, 11918, 11941, 11951, 11989, 12021, 12033, 12034, 12045, 12058, 12076, 12105, 12199, 12212, 12219, 12233, 12244, 12249, 12256, 12261, 12262, 12279, 12292, 12386, 12388, 12400, 12420, 12455, 12490]]\n"
          ]
        }
      ],
      "source": [
        "print(clusters23)"
      ]
    },
    {
      "cell_type": "code",
      "execution_count": null,
      "metadata": {
        "colab": {
          "background_save": true,
          "base_uri": "https://localhost:8080/"
        },
        "id": "YWu1lDpv_VUJ",
        "outputId": "97cc5b42-ad33-4b02-9955-8506d8c1f8e6"
      },
      "outputs": [
        {
          "name": "stdout",
          "output_type": "stream",
          "text": [
            "(10000, 42)\n"
          ]
        }
      ],
      "source": [
        "print(test.shape)\n",
        "testclusters23,testconf23=predict(test,centroids23)"
      ]
    },
    {
      "cell_type": "code",
      "execution_count": null,
      "metadata": {
        "colab": {
          "background_save": true
        },
        "id": "jj3WlXUX_VUJ",
        "outputId": "51a8debe-a73e-4fcf-c302-040c7e36821c"
      },
      "outputs": [
        {
          "name": "stdout",
          "output_type": "stream",
          "text": [
            "0.6727\n"
          ]
        }
      ],
      "source": [
        "# make confusion test matrix of k = 23 clusters\n",
        "testconfusion23=makeconftest(clusters23,testconf23,cllabel23)\n",
        "print(np.trace(testconfusion23)/sum(sum(testconfusion23)))"
      ]
    },
    {
      "cell_type": "markdown",
      "metadata": {
        "id": "eETYpx50-Tuk"
      },
      "source": [
        "K = 31"
      ]
    },
    {
      "cell_type": "code",
      "execution_count": null,
      "metadata": {
        "colab": {
          "background_save": true,
          "base_uri": "https://localhost:8080/"
        },
        "id": "vbdlVvpY-Tul",
        "outputId": "36c05e63-e270-4f82-97be-8114af875255"
      },
      "outputs": [
        {
          "name": "stdout",
          "output_type": "stream",
          "text": [
            "(12500, 42)\n",
            "84070095339493.4\n",
            "inf\n",
            "[  0.           2.           9.           0.         520.\n",
            "   0.           0.           0.           0.           0.\n",
            "   0.           0.           0.           0.           0.\n",
            "   0.           0.           0.           0.           0.\n",
            "   0.           0.         508.56808511 508.56808511   0.\n",
            "   0.           0.           0.           1.           0.\n",
            "   0.         255.         255.           1.           0.\n",
            "   1.           0.           0.           0.           0.\n",
            "   0.           4.        ]\n",
            "[  0.           2.           9.           0.         520.\n",
            "   0.           0.           0.           0.           0.\n",
            "   0.           0.           0.           0.           0.\n",
            "   0.           0.           0.           0.           0.\n",
            "   0.           0.         508.56808511 508.56808511   0.\n",
            "   0.           0.           0.           1.           0.\n",
            "   0.         255.         255.           1.           0.\n",
            "   1.           0.           0.           0.           0.\n",
            "   0.           4.        ]\n"
          ]
        }
      ],
      "source": [
        " # Use the k-means function with the train dataset, 31 clusters\n",
        "centroids31,clusters31,confusion31=kmeans(train,31,100,1)"
      ]
    },
    {
      "cell_type": "code",
      "execution_count": null,
      "metadata": {
        "id": "T4o07C6n-Tul",
        "colab": {
          "base_uri": "https://localhost:8080/"
        },
        "outputId": "bbc2ed2e-2c8f-41d3-9c96-091e76cf3f32"
      },
      "outputs": [
        {
          "output_type": "stream",
          "name": "stdout",
          "text": [
            "0.9428845692344613\n"
          ]
        }
      ],
      "source": [
        "# make confusion train matrix of k = 31 clusters\n",
        "trainconfusion31,cllabel31=makeconftrain(clusters31,confusion31,centroids31,31)\n",
        "print(np.trace(trainconfusion31)/sum(sum(trainconfusion31)))"
      ]
    },
    {
      "cell_type": "code",
      "execution_count": null,
      "metadata": {
        "id": "4s-pbYq4-Tul",
        "colab": {
          "base_uri": "https://localhost:8080/"
        },
        "outputId": "ae3c2d1b-4b0c-41bb-fdc9-ad9eb1263479"
      },
      "outputs": [
        {
          "output_type": "stream",
          "name": "stdout",
          "text": [
            "[[0, 6, 20, 28, 40, 48, 51, 62, 70, 101, 105, 110, 117, 151, 175, 177, 209, 228, 245, 259, 274, 282, 290, 317, 329, 335, 370, 375, 377, 392, 405, 421, 453, 455, 466, 471, 484, 490, 493, 524, 534, 541, 555, 561, 579, 615, 638, 653, 682, 683, 695, 723, 749, 761, 784, 794, 799, 814, 825, 835, 843, 852, 856, 894, 897, 901, 916, 917, 921, 969, 971, 972, 977, 983, 1011, 1013, 1023, 1035, 1047, 1061, 1068, 1113, 1123, 1135, 1149, 1150, 1169, 1187, 1191, 1198, 1213, 1225, 1231, 1247, 1257, 1283, 1284, 1294, 1300, 1301, 1308, 1341, 1359, 1364, 1417, 1426, 1456, 1466, 1474, 1481, 1495, 1496, 1551, 1570, 1579, 1582, 1586, 1593, 1610, 1624, 1632, 1640, 1662, 1664, 1707, 1711, 1730, 1740, 1757, 1768, 1775, 1776, 1786, 1788, 1790, 1796, 1809, 1825, 1857, 1874, 1887, 1891, 1895, 1905, 1907, 1938, 1958, 1966, 1977, 1980, 1984, 1992, 1993, 1994, 1996, 1997, 2003, 2010, 2015, 2017, 2020, 2051, 2056, 2061, 2086, 2091, 2098, 2102, 2107, 2115, 2128, 2136, 2137, 2138, 2148, 2164, 2165, 2170, 2177, 2210, 2213, 2222, 2246, 2262, 2298, 2308, 2310, 2311, 2376, 2414, 2415, 2419, 2421, 2462, 2474, 2505, 2517, 2518, 2524, 2525, 2535, 2541, 2555, 2582, 2592, 2604, 2621, 2668, 2675, 2678, 2680, 2685, 2689, 2716, 2739, 2764, 2799, 2830, 2844, 2847, 2848, 2852, 2902, 2920, 2948, 2961, 2978, 2985, 2989, 2993, 3005, 3019, 3024, 3036, 3051, 3073, 3078, 3089, 3091, 3094, 3097, 3101, 3104, 3105, 3126, 3137, 3147, 3151, 3154, 3157, 3158, 3168, 3169, 3178, 3190, 3194, 3198, 3293, 3308, 3327, 3364, 3370, 3379, 3418, 3419, 3420, 3424, 3427, 3461, 3468, 3509, 3544, 3549, 3554, 3557, 3599, 3648, 3657, 3683, 3691, 3698, 3707, 3737, 3754, 3763, 3765, 3777, 3796, 3814, 3816, 3824, 3837, 3838, 3840, 3853, 3871, 3890, 3903, 3908, 3921, 3938, 3942, 3961, 3992, 4001, 4002, 4006, 4011, 4015, 4040, 4056, 4095, 4097, 4112, 4127, 4129, 4153, 4176, 4193, 4244, 4250, 4260, 4263, 4318, 4322, 4325, 4326, 4341, 4343, 4365, 4380, 4382, 4391, 4402, 4403, 4404, 4406, 4408, 4421, 4436, 4466, 4554, 4555, 4557, 4573, 4581, 4591, 4595, 4613, 4617, 4636, 4666, 4680, 4686, 4687, 4692, 4701, 4730, 4744, 4749, 4753, 4797, 4798, 4825, 4850, 4856, 4860, 4864, 4869, 4900, 4907, 4912, 4930, 4938, 4959, 4970, 4982, 5011, 5014, 5042, 5047, 5078, 5087, 5104, 5105, 5109, 5115, 5136, 5149, 5200, 5205, 5209, 5241, 5244, 5283, 5299, 5315, 5397, 5410, 5412, 5423, 5464, 5472, 5476, 5491, 5509, 5513, 5536, 5541, 5547, 5580, 5594, 5622, 5624, 5636, 5644, 5651, 5661, 5677, 5680, 5683, 5697, 5698, 5703, 5707, 5745, 5776, 5783, 5785, 5803, 5827, 5832, 5839, 5841, 5849, 5866, 5872, 5876, 5891, 5906, 5907, 5920, 5931, 5948, 5950, 5951, 5954, 5975, 5980, 5997, 6012, 6023, 6040, 6056, 6058, 6060, 6088, 6098, 6110, 6114, 6120, 6122, 6124, 6137, 6139, 6140, 6165, 6175, 6178, 6180, 6183, 6210, 6233, 6250, 6307, 6318, 6323, 6343, 6344, 6347, 6355, 6412, 6418, 6422, 6426, 6442, 6457, 6459, 6505, 6506, 6511, 6518, 6520, 6540, 6551, 6553, 6561, 6569, 6587, 6588, 6589, 6591, 6605, 6627, 6674, 6694, 6697, 6710, 6713, 6728, 6745, 6747, 6751, 6752, 6759, 6780, 6789, 6790, 6797, 6810, 6828, 6839, 6899, 6902, 6919, 6928, 6933, 6947, 6957, 6970, 6973, 7004, 7020, 7021, 7026, 7044, 7057, 7063, 7086, 7091, 7141, 7147, 7156, 7157, 7166, 7173, 7175, 7229, 7244, 7250, 7263, 7272, 7298, 7301, 7310, 7328, 7337, 7342, 7346, 7369, 7409, 7410, 7423, 7435, 7439, 7476, 7500, 7509, 7521, 7523, 7525, 7543, 7545, 7548, 7552, 7554, 7563, 7569, 7578, 7600, 7604, 7607, 7624, 7649, 7654, 7656, 7662, 7666, 7675, 7682, 7687, 7692, 7694, 7706, 7719, 7772, 7786, 7789, 7828, 7829, 7853, 7857, 7869, 7874, 7891, 7893, 7899, 7913, 7919, 7931, 7945, 7974, 7996, 8000, 8031, 8052, 8054, 8082, 8098, 8099, 8128, 8152, 8190, 8191, 8204, 8205, 8228, 8234, 8277, 8288, 8291, 8306, 8318, 8351, 8353, 8369, 8377, 8378, 8379, 8382, 8410, 8412, 8427, 8429, 8432, 8437, 8442, 8470, 8495, 8522, 8548, 8550, 8552, 8555, 8562, 8563, 8565, 8571, 8639, 8644, 8650, 8660, 8667, 8695, 8712, 8721, 8722, 8725, 8733, 8746, 8751, 8761, 8771, 8791, 8798, 8805, 8820, 8829, 8831, 8863, 8865, 8871, 8914, 8923, 8933, 8938, 8939, 8969, 8970, 9067, 9078, 9098, 9104, 9106, 9128, 9157, 9169, 9196, 9199, 9220, 9261, 9270, 9271, 9298, 9306, 9319, 9339, 9340, 9343, 9347, 9353, 9362, 9371, 9393, 9417, 9422, 9438, 9469, 9475, 9486, 9488, 9514, 9517, 9533, 9548, 9570, 9579, 9582, 9586, 9598, 9641, 9672, 9683, 9690, 9695, 9696, 9700, 9701, 9706, 9708, 9742, 9807, 9808, 9817, 9827, 9836, 9843, 9846, 9852, 9866, 9867, 9869, 9876, 9885, 9889, 9918, 9931, 9959, 9992, 10004, 10007, 10010, 10011, 10027, 10038, 10048, 10061, 10106, 10108, 10112, 10115, 10123, 10143, 10145, 10162, 10173, 10174, 10178, 10181, 10188, 10217, 10251, 10266, 10277, 10292, 10308, 10321, 10333, 10336, 10359, 10374, 10382, 10384, 10424, 10446, 10457, 10483, 10526, 10578, 10614, 10626, 10679, 10694, 10697, 10701, 10713, 10743, 10747, 10755, 10757, 10762, 10766, 10770, 10786, 10792, 10806, 10830, 10833, 10835, 10853, 10862, 10870, 10896, 10916, 10919, 10945, 10981, 11010, 11023, 11055, 11112, 11123, 11130, 11138, 11151, 11152, 11160, 11164, 11195, 11208, 11211, 11241, 11250, 11270, 11285, 11291, 11294, 11297, 11307, 11349, 11356, 11373, 11383, 11405, 11454, 11455, 11458, 11464, 11465, 11468, 11487, 11522, 11523, 11546, 11548, 11566, 11582, 11606, 11640, 11645, 11669, 11673, 11675, 11677, 11690, 11694, 11697, 11741, 11751, 11760, 11773, 11775, 11776, 11782, 11798, 11802, 11807, 11828, 11838, 11890, 11892, 11901, 11923, 11939, 11947, 11949, 11958, 11967, 11985, 11987, 12000, 12012, 12043, 12057, 12063, 12109, 12111, 12126, 12138, 12145, 12151, 12158, 12163, 12171, 12194, 12245, 12248, 12259, 12260, 12272, 12295, 12296, 12324, 12334, 12337, 12349, 12380, 12392, 12407, 12414, 12426, 12429, 12444, 12449, 12468, 12469, 12472, 12480, 12487, 12493], [49, 52, 61, 78, 97, 142, 143, 214, 250, 267, 326, 341, 344, 349, 352, 367, 504, 529, 547, 560, 604, 628, 630, 634, 679, 687, 694, 719, 734, 746, 782, 789, 847, 863, 892, 925, 998, 1018, 1042, 1086, 1090, 1105, 1114, 1217, 1293, 1304, 1335, 1398, 1452, 1469, 1508, 1545, 1565, 1568, 1625, 1655, 1668, 1685, 1800, 1812, 1820, 1930, 1963, 1999, 2009, 2012, 2018, 2031, 2034, 2044, 2065, 2068, 2081, 2154, 2169, 2296, 2302, 2399, 2425, 2426, 2470, 2478, 2489, 2546, 2551, 2661, 2684, 2695, 2701, 2754, 2798, 2872, 2909, 2913, 2933, 2977, 2998, 3028, 3030, 3031, 3112, 3156, 3183, 3187, 3189, 3193, 3211, 3215, 3231, 3240, 3246, 3249, 3297, 3300, 3358, 3376, 3377, 3411, 3425, 3435, 3453, 3474, 3485, 3506, 3516, 3564, 3583, 3589, 3604, 3630, 3665, 3695, 3716, 3747, 3751, 3759, 3795, 3831, 3862, 3888, 3906, 3915, 3923, 3928, 3945, 3976, 3978, 4030, 4052, 4149, 4191, 4221, 4236, 4243, 4253, 4283, 4289, 4305, 4317, 4366, 4425, 4497, 4508, 4522, 4547, 4570, 4641, 4681, 4747, 4775, 4872, 4903, 4951, 4979, 5054, 5103, 5124, 5148, 5153, 5184, 5187, 5194, 5238, 5284, 5290, 5295, 5345, 5387, 5394, 5398, 5400, 5407, 5408, 5440, 5450, 5483, 5545, 5643, 5681, 5713, 5820, 5890, 6051, 6053, 6080, 6121, 6202, 6294, 6316, 6374, 6535, 6594, 6624, 6646, 6700, 6819, 6822, 6840, 6855, 6909, 6985, 6998, 7042, 7089, 7092, 7101, 7123, 7171, 7220, 7234, 7316, 7338, 7349, 7404, 7448, 7452, 7465, 7472, 7501, 7504, 7517, 7571, 7589, 7613, 7674, 7686, 7702, 7793, 7824, 7835, 7836, 7903, 7915, 8041, 8044, 8085, 8088, 8170, 8176, 8211, 8224, 8242, 8244, 8267, 8287, 8305, 8370, 8461, 8481, 8485, 8505, 8511, 8513, 8519, 8540, 8625, 8713, 8715, 8716, 8772, 8773, 8778, 8807, 8812, 8826, 8889, 8937, 8960, 8973, 8979, 8989, 9011, 9022, 9024, 9038, 9065, 9072, 9073, 9094, 9115, 9125, 9152, 9214, 9223, 9228, 9277, 9373, 9399, 9427, 9433, 9446, 9478, 9482, 9492, 9500, 9538, 9547, 9578, 9608, 9630, 9643, 9665, 9685, 9699, 9707, 9720, 9759, 9825, 9842, 9863, 9925, 9940, 9948, 10000, 10035, 10040, 10090, 10140, 10185, 10191, 10207, 10224, 10231, 10275, 10278, 10281, 10309, 10366, 10369, 10394, 10417, 10496, 10507, 10545, 10575, 10605, 10615, 10644, 10662, 10721, 10731, 10739, 10759, 10814, 10818, 10824, 10840, 10892, 10920, 10923, 10938, 10960, 11014, 11082, 11159, 11173, 11176, 11177, 11203, 11213, 11216, 11265, 11368, 11374, 11407, 11479, 11502, 11524, 11540, 11541, 11586, 11598, 11621, 11646, 11674, 11693, 11752, 11770, 11863, 11910, 11918, 11941, 11951, 11989, 12021, 12033, 12034, 12045, 12105, 12199, 12233, 12244, 12256, 12279, 12292, 12388, 12455], [10, 15, 38, 64, 67, 74, 81, 84, 155, 224, 252, 258, 265, 272, 278, 297, 298, 353, 415, 427, 462, 476, 508, 520, 543, 562, 580, 589, 598, 614, 644, 649, 681, 705, 720, 727, 753, 760, 762, 781, 785, 796, 839, 849, 862, 906, 933, 945, 946, 952, 982, 995, 1020, 1066, 1093, 1100, 1119, 1124, 1160, 1203, 1253, 1285, 1365, 1413, 1427, 1429, 1450, 1457, 1477, 1480, 1487, 1497, 1509, 1525, 1584, 1628, 1645, 1652, 1692, 1697, 1698, 1704, 1745, 1758, 1771, 1781, 1791, 1793, 1794, 1816, 1902, 1906, 1926, 1934, 1943, 1959, 1969, 1987, 1998, 2013, 2028, 2038, 2045, 2054, 2055, 2062, 2095, 2110, 2127, 2131, 2140, 2143, 2151, 2156, 2182, 2215, 2245, 2267, 2284, 2286, 2355, 2363, 2368, 2371, 2393, 2404, 2408, 2458, 2513, 2534, 2539, 2560, 2561, 2576, 2577, 2578, 2615, 2618, 2639, 2649, 2653, 2656, 2676, 2761, 2794, 2797, 2820, 2831, 2865, 2893, 2923, 2941, 2976, 3042, 3045, 3069, 3070, 3075, 3134, 3139, 3181, 3252, 3254, 3267, 3295, 3332, 3341, 3347, 3354, 3396, 3421, 3439, 3442, 3457, 3469, 3472, 3481, 3510, 3524, 3558, 3567, 3569, 3593, 3666, 3684, 3699, 3733, 3790, 3801, 3804, 3805, 3848, 3917, 3963, 3964, 3968, 3971, 3987, 4020, 4045, 4061, 4084, 4092, 4128, 4141, 4143, 4156, 4159, 4164, 4177, 4299, 4331, 4348, 4355, 4389, 4416, 4423, 4447, 4458, 4480, 4494, 4509, 4523, 4524, 4564, 4582, 4598, 4599, 4608, 4610, 4620, 4647, 4661, 4684, 4685, 4690, 4707, 4738, 4751, 4756, 4761, 4792, 4812, 4813, 4821, 4840, 4858, 4883, 4895, 4928, 4935, 4940, 4947, 4965, 4985, 4990, 5006, 5018, 5026, 5043, 5050, 5055, 5065, 5088, 5113, 5126, 5139, 5179, 5186, 5195, 5218, 5264, 5276, 5279, 5298, 5311, 5312, 5316, 5318, 5337, 5338, 5349, 5359, 5363, 5409, 5463, 5477, 5487, 5550, 5556, 5586, 5595, 5600, 5617, 5641, 5657, 5671, 5675, 5682, 5690, 5695, 5708, 5768, 5798, 5808, 5815, 5837, 5840, 5863, 5865, 5869, 5900, 5925, 5942, 5993, 6005, 6006, 6007, 6020, 6030, 6059, 6096, 6130, 6134, 6168, 6185, 6200, 6218, 6244, 6245, 6246, 6287, 6297, 6313, 6319, 6340, 6372, 6414, 6434, 6440, 6448, 6476, 6486, 6504, 6534, 6538, 6541, 6570, 6579, 6593, 6606, 6617, 6635, 6642, 6669, 6670, 6673, 6682, 6735, 6738, 6771, 6785, 6852, 6865, 6869, 6875, 6934, 7011, 7016, 7030, 7049, 7079, 7100, 7109, 7134, 7145, 7149, 7185, 7203, 7207, 7212, 7216, 7236, 7247, 7254, 7260, 7289, 7335, 7356, 7363, 7365, 7383, 7412, 7424, 7433, 7443, 7444, 7529, 7540, 7542, 7551, 7559, 7561, 7599, 7625, 7644, 7672, 7700, 7732, 7796, 7803, 7822, 7841, 7843, 7854, 7859, 7876, 7882, 7932, 7947, 7949, 8016, 8024, 8025, 8029, 8032, 8045, 8057, 8097, 8117, 8182, 8184, 8188, 8192, 8226, 8258, 8270, 8327, 8330, 8331, 8347, 8358, 8362, 8375, 8383, 8395, 8405, 8430, 8433, 8479, 8503, 8514, 8516, 8525, 8556, 8558, 8569, 8584, 8618, 8629, 8662, 8691, 8719, 8781, 8799, 8823, 8836, 8875, 8880, 8899, 8911, 8916, 8983, 8988, 9042, 9050, 9059, 9074, 9079, 9081, 9087, 9091, 9108, 9149, 9172, 9185, 9198, 9218, 9224, 9229, 9318, 9322, 9325, 9331, 9332, 9361, 9387, 9401, 9442, 9448, 9471, 9477, 9498, 9512, 9513, 9541, 9544, 9569, 9571, 9576, 9580, 9652, 9712, 9736, 9799, 9853, 9893, 9894, 9899, 9945, 9954, 9964, 9965, 9993, 9994, 10019, 10029, 10101, 10104, 10124, 10155, 10159, 10200, 10203, 10211, 10215, 10242, 10316, 10351, 10361, 10373, 10377, 10381, 10392, 10396, 10406, 10432, 10435, 10459, 10464, 10478, 10480, 10482, 10514, 10533, 10543, 10549, 10560, 10700, 10703, 10704, 10705, 10715, 10716, 10732, 10767, 10773, 10819, 10827, 10829, 10865, 10874, 10904, 10905, 10913, 10951, 10953, 10965, 10968, 10977, 10988, 10990, 11009, 11040, 11044, 11079, 11103, 11113, 11114, 11142, 11143, 11163, 11165, 11212, 11227, 11243, 11254, 11259, 11288, 11317, 11321, 11359, 11363, 11366, 11375, 11414, 11416, 11422, 11438, 11443, 11451, 11478, 11484, 11486, 11494, 11506, 11591, 11613, 11615, 11626, 11636, 11647, 11654, 11672, 11696, 11780, 11809, 11811, 11820, 11868, 11869, 11891, 11913, 12036, 12048, 12049, 12065, 12071, 12104, 12119, 12150, 12162, 12170, 12226, 12255, 12263, 12310, 12321, 12328, 12332, 12351, 12379, 12382, 12393, 12406, 12442, 12460, 12464, 12476, 12489, 12496], [9, 71, 89, 127, 202, 203, 242, 269, 308, 425, 465, 491, 501, 528, 567, 569, 601, 602, 699, 703, 779, 873, 888, 949, 953, 1002, 1036, 1089, 1106, 1180, 1245, 1316, 1339, 1355, 1376, 1422, 1520, 1580, 1601, 1630, 1710, 1749, 1751, 1773, 1799, 1832, 1870, 1912, 1920, 1923, 1924, 1936, 2057, 2080, 2097, 2112, 2258, 2293, 2312, 2380, 2385, 2454, 2497, 2552, 2705, 2709, 2734, 3009, 3035, 3044, 3098, 3115, 3159, 3195, 3232, 3360, 3428, 3432, 3433, 3501, 3525, 3566, 3577, 3609, 3676, 3724, 3766, 3826, 3828, 3851, 3856, 3905, 3911, 3939, 3997, 4009, 4051, 4096, 4101, 4138, 4169, 4182, 4209, 4352, 4373, 4454, 4556, 4571, 4669, 4675, 4695, 4769, 4783, 4822, 5003, 5012, 5031, 5121, 5208, 5212, 5226, 5257, 5262, 5314, 5330, 5403, 5481, 5497, 5549, 5564, 5578, 5608, 5627, 5628, 5658, 5673, 5760, 5781, 5787, 5819, 5911, 5952, 6011, 6147, 6195, 6215, 6227, 6255, 6326, 6361, 6388, 6402, 6439, 6453, 6475, 6630, 6821, 6843, 6856, 6881, 6940, 6990, 7075, 7110, 7135, 7231, 7265, 7389, 7431, 7530, 7579, 7731, 7762, 7817, 7862, 7871, 7965, 7978, 8006, 8116, 8146, 8216, 8262, 8389, 8419, 8436, 8446, 8458, 8465, 8467, 8572, 8617, 8628, 8638, 8646, 8701, 8731, 8801, 8827, 8846, 8851, 8873, 8952, 8984, 8998, 9030, 9047, 9056, 9062, 9096, 9135, 9147, 9193, 9235, 9245, 9404, 9447, 9476, 9542, 9546, 9589, 9616, 9660, 9669, 9751, 9791, 9826, 9858, 9862, 9908, 9919, 9952, 9962, 9984, 10008, 10014, 10021, 10026, 10116, 10136, 10147, 10150, 10164, 10233, 10243, 10273, 10313, 10328, 10349, 10584, 10599, 10635, 10640, 10650, 10733, 10809, 10887, 10890, 10947, 10963, 10994, 11006, 11008, 11078, 11139, 11149, 11170, 11174, 11225, 11264, 11304, 11357, 11442, 11466, 11512, 11528, 11555, 11564, 11717, 11806, 11818, 11855, 11895, 11909, 11912, 11933, 11944, 11946, 11964, 12087, 12092, 12122, 12128, 12195, 12198, 12206, 12313, 12483], [2, 3, 4, 7, 14, 17, 21, 22, 23, 24, 26, 27, 30, 31, 32, 33, 34, 37, 39, 43, 47, 50, 54, 56, 57, 58, 63, 69, 79, 80, 85, 88, 96, 98, 99, 102, 109, 114, 115, 118, 119, 121, 123, 125, 130, 131, 136, 138, 139, 140, 141, 144, 149, 150, 154, 156, 157, 158, 161, 164, 166, 170, 171, 173, 179, 181, 182, 188, 189, 190, 193, 194, 195, 196, 199, 200, 201, 204, 205, 208, 217, 218, 219, 220, 223, 225, 227, 230, 232, 233, 234, 235, 240, 241, 243, 247, 249, 251, 256, 257, 263, 264, 266, 268, 270, 275, 276, 277, 279, 280, 281, 283, 284, 286, 287, 289, 291, 293, 295, 296, 300, 302, 306, 309, 311, 318, 319, 322, 323, 327, 330, 332, 333, 336, 340, 343, 345, 346, 348, 351, 355, 357, 358, 361, 362, 368, 373, 383, 384, 390, 391, 393, 396, 397, 398, 404, 406, 408, 409, 410, 412, 414, 416, 417, 419, 420, 424, 428, 431, 433, 435, 439, 440, 443, 445, 446, 447, 452, 459, 467, 468, 472, 473, 474, 475, 479, 481, 485, 487, 488, 489, 498, 499, 502, 513, 515, 517, 523, 530, 532, 535, 537, 538, 542, 545, 546, 549, 552, 553, 571, 573, 574, 575, 581, 583, 586, 587, 588, 590, 591, 599, 600, 603, 609, 618, 621, 622, 624, 625, 627, 629, 632, 633, 637, 639, 640, 642, 645, 646, 647, 648, 650, 651, 663, 665, 666, 670, 671, 675, 676, 680, 685, 688, 690, 691, 692, 696, 697, 700, 702, 704, 706, 708, 709, 710, 711, 712, 713, 715, 716, 724, 726, 728, 729, 735, 737, 740, 741, 744, 748, 751, 755, 756, 758, 759, 764, 766, 770, 772, 773, 774, 777, 778, 780, 783, 786, 787, 788, 790, 791, 801, 804, 806, 807, 812, 816, 817, 820, 822, 824, 826, 827, 828, 830, 833, 834, 838, 840, 854, 855, 857, 859, 860, 866, 867, 871, 875, 876, 879, 882, 884, 887, 890, 899, 904, 907, 908, 909, 910, 911, 912, 915, 918, 919, 920, 922, 923, 928, 929, 930, 936, 937, 940, 942, 943, 954, 959, 961, 962, 963, 964, 965, 968, 975, 976, 978, 984, 985, 986, 987, 988, 990, 991, 992, 993, 997, 1000, 1005, 1009, 1014, 1017, 1019, 1025, 1027, 1029, 1030, 1033, 1034, 1038, 1039, 1040, 1041, 1043, 1046, 1048, 1050, 1053, 1054, 1055, 1059, 1060, 1062, 1063, 1064, 1065, 1069, 1071, 1074, 1076, 1079, 1081, 1082, 1083, 1088, 1095, 1098, 1101, 1102, 1103, 1104, 1109, 1110, 1111, 1115, 1116, 1118, 1120, 1121, 1122, 1127, 1130, 1131, 1132, 1133, 1134, 1140, 1141, 1144, 1145, 1146, 1147, 1148, 1151, 1154, 1157, 1158, 1159, 1161, 1163, 1164, 1166, 1171, 1173, 1176, 1182, 1189, 1190, 1192, 1194, 1196, 1197, 1201, 1205, 1206, 1208, 1210, 1212, 1220, 1223, 1226, 1228, 1229, 1230, 1232, 1233, 1234, 1235, 1236, 1237, 1238, 1240, 1241, 1242, 1243, 1249, 1251, 1254, 1260, 1261, 1262, 1263, 1266, 1267, 1268, 1269, 1273, 1275, 1276, 1278, 1280, 1281, 1282, 1287, 1292, 1296, 1299, 1302, 1307, 1309, 1312, 1317, 1319, 1321, 1322, 1324, 1325, 1327, 1329, 1331, 1333, 1337, 1338, 1342, 1348, 1350, 1357, 1358, 1360, 1368, 1369, 1371, 1372, 1378, 1379, 1382, 1383, 1384, 1389, 1392, 1394, 1397, 1399, 1400, 1401, 1404, 1405, 1408, 1411, 1414, 1419, 1420, 1424, 1425, 1431, 1432, 1433, 1434, 1437, 1438, 1441, 1443, 1445, 1451, 1453, 1455, 1458, 1460, 1461, 1462, 1464, 1468, 1470, 1471, 1472, 1473, 1475, 1476, 1478, 1479, 1482, 1486, 1488, 1489, 1491, 1493, 1494, 1498, 1500, 1501, 1510, 1513, 1515, 1517, 1518, 1530, 1532, 1533, 1540, 1541, 1542, 1544, 1546, 1548, 1552, 1553, 1554, 1556, 1557, 1558, 1560, 1562, 1566, 1573, 1574, 1577, 1578, 1587, 1589, 1590, 1592, 1594, 1595, 1597, 1598, 1599, 1600, 1602, 1604, 1605, 1606, 1607, 1611, 1612, 1614, 1615, 1616, 1617, 1626, 1635, 1636, 1638, 1639, 1642, 1643, 1644, 1649, 1650, 1653, 1654, 1660, 1661, 1665, 1671, 1673, 1677, 1678, 1679, 1680, 1681, 1687, 1689, 1690, 1691, 1693, 1702, 1703, 1705, 1706, 1708, 1709, 1715, 1717, 1720, 1721, 1722, 1723, 1727, 1731, 1733, 1735, 1736, 1737, 1738, 1739, 1741, 1743, 1750, 1752, 1755, 1760, 1764, 1772, 1778, 1779, 1780, 1782, 1787, 1792, 1795, 1798, 1801, 1802, 1805, 1807, 1808, 1810, 1814, 1818, 1821, 1822, 1827, 1828, 1830, 1835, 1837, 1838, 1839, 1842, 1843, 1846, 1851, 1852, 1854, 1860, 1861, 1862, 1863, 1864, 1867, 1872, 1875, 1876, 1878, 1879, 1881, 1882, 1883, 1888, 1889, 1890, 1892, 1894, 1898, 1904, 1909, 1910, 1915, 1918, 1925, 1927, 1928, 1929, 1931, 1935, 1937, 1940, 1942, 1944, 1945, 1950, 1955, 1956, 1960, 1962, 1964, 1967, 1970, 1973, 1975, 1982, 1986, 1989, 2001, 2004, 2005, 2006, 2008, 2016, 2019, 2021, 2022, 2025, 2026, 2027, 2029, 2032, 2033, 2035, 2036, 2041, 2048, 2049, 2053, 2059, 2060, 2063, 2064, 2069, 2070, 2071, 2072, 2074, 2075, 2076, 2079, 2082, 2085, 2087, 2088, 2089, 2090, 2092, 2094, 2096, 2100, 2101, 2103, 2104, 2106, 2111, 2116, 2117, 2119, 2120, 2121, 2130, 2132, 2133, 2134, 2135, 2141, 2144, 2145, 2149, 2152, 2157, 2158, 2159, 2160, 2162, 2166, 2171, 2175, 2176, 2179, 2180, 2181, 2185, 2186, 2187, 2188, 2189, 2190, 2192, 2193, 2196, 2197, 2200, 2202, 2205, 2206, 2207, 2208, 2209, 2214, 2217, 2218, 2220, 2224, 2226, 2229, 2230, 2231, 2233, 2235, 2236, 2238, 2239, 2240, 2242, 2247, 2248, 2259, 2263, 2264, 2265, 2266, 2268, 2270, 2271, 2274, 2275, 2281, 2285, 2288, 2291, 2297, 2299, 2300, 2301, 2304, 2305, 2306, 2307, 2320, 2321, 2322, 2324, 2328, 2330, 2333, 2334, 2336, 2339, 2340, 2344, 2346, 2347, 2348, 2349, 2350, 2352, 2353, 2354, 2358, 2359, 2361, 2366, 2367, 2369, 2372, 2373, 2377, 2378, 2379, 2382, 2384, 2388, 2389, 2390, 2392, 2394, 2395, 2396, 2397, 2398, 2400, 2401, 2403, 2405, 2409, 2417, 2418, 2422, 2424, 2427, 2428, 2429, 2431, 2432, 2435, 2436, 2437, 2439, 2441, 2443, 2444, 2448, 2450, 2451, 2453, 2463, 2465, 2467, 2472, 2480, 2481, 2485, 2486, 2488, 2490, 2493, 2494, 2496, 2500, 2501, 2502, 2503, 2508, 2509, 2511, 2519, 2520, 2522, 2523, 2527, 2528, 2530, 2536, 2538, 2540, 2545, 2553, 2556, 2557, 2565, 2568, 2572, 2574, 2575, 2580, 2581, 2583, 2584, 2588, 2591, 2593, 2594, 2596, 2597, 2598, 2599, 2600, 2601, 2602, 2605, 2609, 2611, 2612, 2613, 2628, 2633, 2636, 2638, 2641, 2642, 2643, 2644, 2645, 2648, 2650, 2652, 2657, 2659, 2662, 2664, 2670, 2672, 2681, 2683, 2693, 2696, 2697, 2698, 2699, 2703, 2704, 2707, 2708, 2711, 2712, 2714, 2715, 2717, 2719, 2727, 2731, 2733, 2735, 2736, 2737, 2738, 2740, 2742, 2743, 2746, 2747, 2748, 2749, 2753, 2755, 2762, 2763, 2765, 2769, 2770, 2772, 2773, 2775, 2776, 2777, 2780, 2781, 2782, 2784, 2786, 2787, 2790, 2795, 2796, 2803, 2805, 2808, 2809, 2810, 2813, 2819, 2821, 2823, 2824, 2826, 2827, 2833, 2835, 2836, 2837, 2839, 2846, 2849, 2850, 2851, 2853, 2854, 2855, 2856, 2857, 2858, 2860, 2864, 2870, 2873, 2875, 2880, 2882, 2883, 2884, 2886, 2888, 2889, 2891, 2896, 2900, 2904, 2907, 2910, 2912, 2916, 2917, 2921, 2922, 2924, 2925, 2926, 2927, 2932, 2936, 2938, 2939, 2940, 2945, 2949, 2951, 2952, 2953, 2954, 2960, 2962, 2963, 2965, 2966, 2969, 2970, 2973, 2975, 2980, 2983, 2984, 2987, 2990, 2991, 2994, 2995, 3000, 3002, 3003, 3004, 3007, 3010, 3011, 3012, 3013, 3014, 3018, 3021, 3022, 3023, 3025, 3026, 3027, 3032, 3034, 3038, 3040, 3041, 3046, 3050, 3052, 3055, 3057, 3059, 3060, 3061, 3062, 3071, 3077, 3079, 3080, 3081, 3084, 3092, 3095, 3099, 3102, 3106, 3109, 3110, 3111, 3116, 3117, 3119, 3121, 3124, 3128, 3130, 3132, 3135, 3138, 3140, 3145, 3146, 3148, 3149, 3150, 3152, 3155, 3161, 3162, 3166, 3167, 3170, 3171, 3172, 3174, 3177, 3180, 3182, 3191, 3192, 3199, 3201, 3202, 3205, 3206, 3210, 3212, 3217, 3220, 3224, 3227, 3228, 3229, 3230, 3233, 3234, 3235, 3239, 3247, 3248, 3250, 3257, 3260, 3263, 3264, 3265, 3269, 3270, 3271, 3273, 3280, 3281, 3283, 3285, 3287, 3294, 3305, 3306, 3307, 3312, 3314, 3315, 3318, 3319, 3320, 3321, 3322, 3324, 3325, 3329, 3330, 3331, 3335, 3336, 3337, 3348, 3355, 3356, 3357, 3359, 3362, 3365, 3366, 3367, 3369, 3372, 3373, 3375, 3378, 3381, 3386, 3387, 3388, 3389, 3390, 3391, 3393, 3394, 3399, 3401, 3402, 3404, 3405, 3406, 3407, 3409, 3414, 3416, 3417, 3429, 3430, 3434, 3436, 3437, 3440, 3444, 3445, 3450, 3455, 3467, 3471, 3473, 3475, 3476, 3477, 3480, 3483, 3484, 3486, 3487, 3488, 3492, 3493, 3497, 3498, 3499, 3503, 3504, 3505, 3507, 3508, 3512, 3513, 3514, 3518, 3526, 3527, 3528, 3529, 3531, 3532, 3534, 3535, 3536, 3540, 3541, 3542, 3543, 3546, 3547, 3548, 3550, 3552, 3559, 3561, 3562, 3565, 3568, 3570, 3571, 3572, 3573, 3578, 3582, 3584, 3587, 3592, 3594, 3598, 3601, 3603, 3606, 3611, 3613, 3616, 3617, 3619, 3621, 3624, 3625, 3626, 3627, 3628, 3629, 3631, 3633, 3634, 3635, 3636, 3638, 3639, 3640, 3643, 3646, 3651, 3652, 3654, 3658, 3659, 3660, 3661, 3662, 3663, 3664, 3667, 3668, 3669, 3670, 3671, 3673, 3674, 3677, 3680, 3690, 3694, 3697, 3700, 3702, 3703, 3704, 3705, 3709, 3713, 3715, 3717, 3719, 3720, 3722, 3723, 3727, 3728, 3729, 3730, 3734, 3740, 3741, 3743, 3745, 3746, 3748, 3749, 3755, 3757, 3758, 3760, 3761, 3764, 3769, 3770, 3772, 3773, 3775, 3776, 3779, 3783, 3784, 3785, 3789, 3791, 3792, 3794, 3797, 3800, 3802, 3806, 3810, 3813, 3815, 3817, 3819, 3820, 3821, 3823, 3829, 3833, 3839, 3844, 3845, 3847, 3849, 3850, 3854, 3855, 3857, 3859, 3863, 3867, 3869, 3870, 3875, 3877, 3878, 3879, 3881, 3885, 3889, 3892, 3893, 3895, 3897, 3898, 3899, 3900, 3907, 3914, 3916, 3919, 3920, 3922, 3925, 3926, 3927, 3929, 3930, 3933, 3936, 3937, 3940, 3943, 3946, 3947, 3948, 3950, 3952, 3955, 3957, 3958, 3960, 3965, 3969, 3974, 3977, 3980, 3981, 3982, 3983, 3985, 3986, 3989, 3993, 3999, 4005, 4007, 4010, 4012, 4013, 4016, 4018, 4019, 4023, 4025, 4026, 4027, 4029, 4033, 4034, 4036, 4037, 4039, 4042, 4043, 4048, 4055, 4058, 4059, 4060, 4063, 4065, 4067, 4074, 4076, 4079, 4081, 4082, 4083, 4085, 4087, 4089, 4093, 4094, 4100, 4102, 4103, 4104, 4106, 4107, 4113, 4114, 4117, 4122, 4124, 4126, 4130, 4132, 4133, 4135, 4136, 4137, 4139, 4146, 4151, 4154, 4157, 4172, 4173, 4179, 4183, 4187, 4192, 4196, 4198, 4200, 4201, 4202, 4204, 4206, 4207, 4208, 4210, 4211, 4212, 4214, 4223, 4225, 4226, 4228, 4230, 4235, 4237, 4238, 4242, 4245, 4246, 4248, 4249, 4251, 4252, 4254, 4255, 4256, 4261, 4270, 4272, 4277, 4279, 4280, 4282, 4285, 4291, 4294, 4295, 4296, 4297, 4300, 4301, 4313, 4314, 4319, 4323, 4324, 4327, 4328, 4329, 4330, 4333, 4336, 4338, 4339, 4340, 4342, 4346, 4351, 4353, 4354, 4356, 4359, 4360, 4361, 4363, 4364, 4367, 4369, 4371, 4374, 4379, 4381, 4387, 4388, 4400, 4410, 4411, 4413, 4415, 4418, 4420, 4422, 4424, 4426, 4427, 4428, 4429, 4430, 4431, 4435, 4437, 4439, 4441, 4442, 4444, 4448, 4451, 4462, 4463, 4468, 4469, 4472, 4474, 4477, 4479, 4485, 4489, 4490, 4491, 4492, 4493, 4498, 4499, 4501, 4505, 4513, 4514, 4515, 4518, 4520, 4530, 4537, 4538, 4542, 4543, 4545, 4550, 4551, 4553, 4559, 4560, 4562, 4568, 4574, 4575, 4577, 4579, 4580, 4583, 4584, 4588, 4589, 4590, 4596, 4597, 4600, 4602, 4604, 4607, 4612, 4614, 4615, 4622, 4626, 4630, 4631, 4632, 4633, 4634, 4637, 4638, 4639, 4640, 4644, 4645, 4646, 4648, 4653, 4654, 4655, 4656, 4658, 4660, 4662, 4663, 4664, 4667, 4668, 4670, 4672, 4673, 4674, 4679, 4682, 4689, 4691, 4696, 4698, 4700, 4702, 4703, 4704, 4706, 4711, 4713, 4714, 4717, 4719, 4722, 4724, 4725, 4726, 4731, 4734, 4737, 4752, 4755, 4757, 4759, 4763, 4766, 4767, 4768, 4770, 4771, 4772, 4781, 4787, 4788, 4790, 4793, 4796, 4799, 4800, 4802, 4803, 4804, 4807, 4808, 4810, 4816, 4817, 4818, 4820, 4824, 4827, 4832, 4838, 4839, 4841, 4843, 4844, 4845, 4848, 4853, 4855, 4859, 4862, 4863, 4866, 4868, 4871, 4874, 4876, 4878, 4879, 4880, 4884, 4885, 4887, 4888, 4889, 4890, 4891, 4896, 4899, 4904, 4905, 4908, 4909, 4910, 4911, 4914, 4915, 4916, 4917, 4918, 4919, 4922, 4923, 4925, 4926, 4927, 4929, 4932, 4936, 4937, 4941, 4943, 4948, 4950, 4952, 4954, 4956, 4960, 4961, 4962, 4966, 4969, 4971, 4973, 4974, 4975, 4977, 4984, 4986, 4987, 4989, 4991, 4992, 4993, 4995, 4998, 5000, 5005, 5007, 5008, 5009, 5015, 5017, 5024, 5025, 5028, 5029, 5038, 5039, 5041, 5046, 5048, 5049, 5052, 5053, 5056, 5057, 5059, 5061, 5064, 5066, 5067, 5070, 5072, 5075, 5076, 5080, 5081, 5084, 5085, 5086, 5091, 5093, 5094, 5097, 5099, 5106, 5108, 5110, 5111, 5112, 5116, 5117, 5119, 5123, 5125, 5127, 5128, 5129, 5130, 5131, 5135, 5137, 5140, 5143, 5144, 5151, 5155, 5158, 5159, 5161, 5162, 5164, 5165, 5166, 5167, 5168, 5170, 5171, 5172, 5173, 5174, 5176, 5178, 5182, 5185, 5189, 5190, 5191, 5192, 5193, 5197, 5198, 5201, 5203, 5204, 5206, 5207, 5215, 5216, 5221, 5224, 5227, 5228, 5229, 5237, 5239, 5243, 5245, 5246, 5248, 5249, 5250, 5252, 5254, 5255, 5256, 5260, 5265, 5267, 5270, 5273, 5274, 5277, 5278, 5282, 5285, 5286, 5289, 5296, 5301, 5302, 5303, 5304, 5305, 5306, 5308, 5313, 5320, 5322, 5323, 5324, 5325, 5328, 5329, 5331, 5334, 5335, 5340, 5341, 5342, 5343, 5344, 5346, 5347, 5350, 5351, 5352, 5355, 5357, 5360, 5364, 5365, 5369, 5375, 5377, 5378, 5379, 5380, 5382, 5384, 5385, 5386, 5388, 5389, 5393, 5401, 5402, 5405, 5411, 5413, 5416, 5417, 5419, 5425, 5426, 5427, 5428, 5431, 5433, 5437, 5439, 5441, 5442, 5444, 5445, 5446, 5448, 5456, 5459, 5460, 5461, 5462, 5471, 5473, 5474, 5475, 5482, 5485, 5490, 5493, 5495, 5498, 5499, 5503, 5504, 5507, 5508, 5512, 5514, 5515, 5517, 5518, 5524, 5525, 5528, 5529, 5531, 5537, 5539, 5540, 5543, 5551, 5553, 5558, 5559, 5560, 5567, 5569, 5571, 5572, 5573, 5574, 5577, 5579, 5581, 5582, 5583, 5584, 5587, 5588, 5589, 5592, 5597, 5601, 5602, 5604, 5605, 5610, 5611, 5614, 5615, 5619, 5620, 5621, 5626, 5633, 5634, 5635, 5637, 5638, 5640, 5645, 5646, 5647, 5648, 5650, 5652, 5656, 5659, 5660, 5663, 5666, 5667, 5668, 5669, 5678, 5686, 5687, 5688, 5689, 5691, 5700, 5701, 5705, 5710, 5711, 5714, 5718, 5720, 5722, 5723, 5724, 5727, 5728, 5729, 5730, 5736, 5738, 5739, 5741, 5747, 5748, 5749, 5750, 5757, 5759, 5762, 5763, 5764, 5766, 5769, 5770, 5771, 5773, 5774, 5777, 5778, 5779, 5782, 5786, 5788, 5790, 5791, 5792, 5793, 5795, 5796, 5799, 5800, 5802, 5806, 5807, 5809, 5811, 5812, 5817, 5822, 5823, 5829, 5831, 5838, 5842, 5843, 5844, 5848, 5851, 5852, 5853, 5855, 5856, 5857, 5858, 5860, 5861, 5864, 5868, 5870, 5871, 5873, 5878, 5882, 5883, 5884, 5888, 5893, 5894, 5895, 5896, 5897, 5899, 5904, 5905, 5909, 5910, 5912, 5915, 5917, 5918, 5919, 5921, 5923, 5926, 5927, 5933, 5934, 5936, 5937, 5944, 5947, 5949, 5956, 5957, 5958, 5959, 5961, 5962, 5963, 5967, 5968, 5969, 5970, 5971, 5972, 5974, 5981, 5983, 5986, 5987, 5988, 5989, 5990, 5992, 5995, 5999, 6000, 6002, 6004, 6008, 6013, 6014, 6022, 6025, 6029, 6032, 6033, 6034, 6035, 6037, 6044, 6046, 6055, 6061, 6063, 6064, 6065, 6068, 6069, 6072, 6073, 6074, 6076, 6079, 6081, 6082, 6085, 6086, 6089, 6090, 6091, 6092, 6094, 6095, 6102, 6105, 6106, 6109, 6113, 6115, 6119, 6123, 6128, 6129, 6131, 6133, 6135, 6141, 6142, 6144, 6146, 6149, 6150, 6152, 6153, 6154, 6155, 6156, 6157, 6160, 6162, 6172, 6173, 6174, 6186, 6187, 6193, 6194, 6201, 6203, 6207, 6209, 6213, 6216, 6219, 6220, 6223, 6224, 6226, 6229, 6230, 6232, 6234, 6235, 6239, 6243, 6247, 6249, 6252, 6254, 6262, 6263, 6266, 6267, 6268, 6272, 6277, 6283, 6285, 6286, 6288, 6289, 6292, 6295, 6296, 6298, 6300, 6301, 6303, 6305, 6306, 6314, 6315, 6320, 6322, 6324, 6328, 6330, 6332, 6333, 6334, 6337, 6338, 6339, 6345, 6346, 6350, 6353, 6358, 6359, 6360, 6362, 6363, 6365, 6367, 6368, 6370, 6375, 6379, 6380, 6384, 6385, 6386, 6387, 6389, 6390, 6395, 6396, 6399, 6403, 6405, 6406, 6407, 6411, 6415, 6416, 6420, 6421, 6423, 6424, 6425, 6427, 6429, 6433, 6435, 6437, 6438, 6444, 6451, 6452, 6454, 6461, 6463, 6465, 6468, 6469, 6472, 6478, 6479, 6480, 6487, 6494, 6495, 6496, 6497, 6499, 6501, 6502, 6503, 6508, 6515, 6517, 6521, 6522, 6523, 6531, 6532, 6533, 6537, 6543, 6544, 6545, 6546, 6547, 6548, 6549, 6554, 6556, 6557, 6558, 6562, 6564, 6567, 6568, 6571, 6572, 6575, 6577, 6590, 6600, 6601, 6602, 6603, 6608, 6609, 6612, 6613, 6614, 6618, 6619, 6623, 6625, 6628, 6629, 6631, 6638, 6640, 6644, 6645, 6655, 6656, 6657, 6658, 6659, 6661, 6663, 6664, 6665, 6671, 6675, 6679, 6680, 6683, 6685, 6686, 6687, 6688, 6689, 6695, 6698, 6701, 6703, 6704, 6705, 6706, 6709, 6711, 6712, 6714, 6719, 6720, 6723, 6724, 6725, 6727, 6729, 6730, 6732, 6733, 6736, 6740, 6741, 6743, 6744, 6748, 6753, 6756, 6757, 6761, 6762, 6765, 6767, 6768, 6769, 6772, 6773, 6776, 6778, 6779, 6781, 6782, 6787, 6791, 6793, 6796, 6802, 6805, 6807, 6808, 6811, 6812, 6814, 6820, 6824, 6826, 6827, 6829, 6830, 6831, 6837, 6842, 6844, 6849, 6853, 6854, 6859, 6860, 6861, 6863, 6867, 6868, 6872, 6876, 6883, 6885, 6887, 6888, 6892, 6894, 6896, 6901, 6903, 6906, 6907, 6912, 6914, 6915, 6916, 6917, 6918, 6921, 6922, 6923, 6924, 6925, 6927, 6930, 6932, 6936, 6938, 6939, 6942, 6944, 6946, 6949, 6951, 6954, 6962, 6963, 6965, 6968, 6974, 6975, 6976, 6977, 6979, 6980, 6986, 6987, 6992, 6994, 6996, 7000, 7006, 7009, 7015, 7017, 7018, 7019, 7023, 7024, 7025, 7027, 7031, 7032, 7034, 7038, 7039, 7040, 7041, 7047, 7048, 7051, 7052, 7053, 7054, 7055, 7062, 7064, 7066, 7068, 7071, 7078, 7084, 7090, 7094, 7097, 7098, 7099, 7104, 7107, 7111, 7112, 7113, 7115, 7116, 7117, 7120, 7122, 7124, 7125, 7126, 7129, 7131, 7133, 7143, 7146, 7148, 7150, 7151, 7153, 7155, 7158, 7160, 7177, 7178, 7180, 7181, 7182, 7187, 7188, 7191, 7192, 7195, 7196, 7197, 7198, 7199, 7200, 7201, 7202, 7204, 7205, 7208, 7209, 7210, 7214, 7219, 7221, 7222, 7224, 7227, 7228, 7230, 7239, 7242, 7243, 7248, 7249, 7255, 7257, 7258, 7264, 7266, 7268, 7269, 7270, 7273, 7276, 7277, 7278, 7282, 7283, 7284, 7286, 7287, 7288, 7290, 7291, 7293, 7294, 7297, 7299, 7302, 7306, 7308, 7312, 7314, 7315, 7317, 7318, 7319, 7320, 7321, 7327, 7329, 7330, 7333, 7334, 7339, 7344, 7347, 7350, 7353, 7354, 7357, 7358, 7361, 7367, 7368, 7371, 7372, 7373, 7374, 7375, 7378, 7379, 7381, 7382, 7388, 7391, 7395, 7397, 7401, 7403, 7406, 7414, 7416, 7419, 7420, 7425, 7428, 7429, 7436, 7437, 7438, 7442, 7445, 7450, 7451, 7455, 7457, 7458, 7461, 7463, 7464, 7467, 7469, 7471, 7473, 7483, 7484, 7487, 7489, 7491, 7494, 7496, 7497, 7498, 7499, 7502, 7505, 7506, 7508, 7512, 7514, 7519, 7520, 7522, 7524, 7526, 7527, 7531, 7532, 7534, 7535, 7536, 7537, 7546, 7550, 7553, 7556, 7557, 7565, 7566, 7567, 7573, 7575, 7577, 7582, 7586, 7590, 7593, 7596, 7597, 7598, 7603, 7605, 7609, 7612, 7614, 7620, 7621, 7629, 7631, 7632, 7633, 7637, 7645, 7646, 7647, 7651, 7652, 7655, 7657, 7661, 7664, 7665, 7667, 7668, 7669, 7677, 7679, 7680, 7681, 7684, 7689, 7691, 7695, 7698, 7703, 7705, 7710, 7711, 7714, 7716, 7718, 7721, 7722, 7724, 7725, 7726, 7728, 7730, 7733, 7735, 7736, 7737, 7742, 7744, 7745, 7747, 7748, 7755, 7758, 7759, 7761, 7763, 7765, 7766, 7767, 7770, 7773, 7774, 7777, 7778, 7779, 7782, 7783, 7784, 7787, 7788, 7795, 7799, 7800, 7802, 7804, 7807, 7808, 7812, 7814, 7816, 7818, 7819, 7821, 7823, 7826, 7827, 7832, 7833, 7834, 7837, 7838, 7839, 7846, 7850, 7852, 7855, 7858, 7867, 7870, 7877, 7881, 7883, 7884, 7886, 7889, 7890, 7892, 7896, 7905, 7908, 7910, 7911, 7912, 7916, 7918, 7922, 7924, 7925, 7927, 7928, 7934, 7935, 7937, 7938, 7939, 7942, 7943, 7944, 7946, 7948, 7954, 7955, 7958, 7959, 7961, 7962, 7964, 7968, 7969, 7972, 7973, 7976, 7979, 7981, 7982, 7983, 7988, 7989, 7992, 7993, 7994, 7998, 7999, 8003, 8005, 8007, 8012, 8013, 8020, 8022, 8026, 8037, 8048, 8049, 8051, 8053, 8055, 8056, 8060, 8061, 8063, 8065, 8066, 8069, 8070, 8071, 8072, 8074, 8076, 8080, 8083, 8087, 8090, 8091, 8092, 8093, 8096, 8100, 8101, 8102, 8106, 8107, 8108, 8109, 8110, 8111, 8114, 8119, 8120, 8121, 8124, 8125, 8126, 8130, 8132, 8134, 8140, 8141, 8143, 8144, 8145, 8151, 8153, 8154, 8157, 8159, 8160, 8161, 8162, 8165, 8166, 8168, 8171, 8173, 8174, 8175, 8177, 8178, 8180, 8187, 8193, 8195, 8200, 8201, 8202, 8203, 8207, 8209, 8212, 8217, 8218, 8222, 8227, 8229, 8231, 8232, 8233, 8235, 8236, 8239, 8245, 8246, 8247, 8248, 8249, 8251, 8252, 8253, 8257, 8260, 8266, 8268, 8271, 8279, 8285, 8290, 8292, 8294, 8295, 8297, 8298, 8299, 8300, 8309, 8310, 8315, 8316, 8317, 8320, 8321, 8322, 8323, 8324, 8326, 8333, 8338, 8339, 8340, 8341, 8345, 8355, 8359, 8361, 8364, 8365, 8366, 8367, 8368, 8372, 8374, 8380, 8386, 8388, 8390, 8392, 8393, 8401, 8403, 8404, 8408, 8411, 8413, 8414, 8417, 8425, 8426, 8431, 8434, 8435, 8438, 8444, 8447, 8448, 8450, 8451, 8452, 8454, 8463, 8464, 8466, 8469, 8471, 8476, 8477, 8478, 8483, 8484, 8486, 8489, 8496, 8497, 8504, 8506, 8508, 8515, 8518, 8521, 8523, 8524, 8526, 8527, 8532, 8536, 8537, 8538, 8539, 8545, 8546, 8547, 8551, 8553, 8554, 8557, 8560, 8566, 8568, 8570, 8575, 8577, 8578, 8585, 8587, 8589, 8593, 8594, 8595, 8599, 8600, 8602, 8603, 8604, 8605, 8607, 8608, 8609, 8611, 8614, 8615, 8619, 8620, 8624, 8634, 8640, 8643, 8652, 8653, 8655, 8657, 8658, 8659, 8661, 8663, 8664, 8666, 8668, 8669, 8670, 8672, 8673, 8674, 8675, 8676, 8680, 8684, 8685, 8686, 8689, 8693, 8697, 8698, 8699, 8700, 8705, 8708, 8709, 8711, 8717, 8720, 8723, 8724, 8726, 8729, 8732, 8734, 8737, 8738, 8740, 8743, 8745, 8747, 8748, 8749, 8753, 8754, 8755, 8756, 8760, 8762, 8763, 8766, 8767, 8770, 8774, 8776, 8777, 8782, 8783, 8784, 8785, 8786, 8788, 8789, 8794, 8795, 8800, 8803, 8806, 8808, 8809, 8811, 8819, 8824, 8830, 8832, 8835, 8837, 8840, 8841, 8842, 8845, 8848, 8849, 8856, 8857, 8859, 8861, 8866, 8870, 8872, 8874, 8877, 8879, 8882, 8884, 8887, 8892, 8894, 8901, 8902, 8903, 8910, 8912, 8913, 8915, 8918, 8919, 8920, 8924, 8925, 8926, 8927, 8928, 8931, 8934, 8940, 8942, 8943, 8949, 8951, 8958, 8968, 8975, 8976, 8977, 8978, 8980, 8985, 8986, 8987, 8990, 8991, 8994, 8996, 9000, 9004, 9005, 9006, 9007, 9008, 9009, 9010, 9012, 9017, 9019, 9020, 9029, 9031, 9035, 9039, 9040, 9041, 9049, 9054, 9061, 9066, 9068, 9069, 9070, 9077, 9080, 9082, 9086, 9088, 9090, 9092, 9093, 9100, 9103, 9109, 9110, 9113, 9121, 9123, 9129, 9131, 9132, 9137, 9140, 9143, 9150, 9158, 9159, 9162, 9164, 9165, 9171, 9173, 9174, 9175, 9179, 9181, 9182, 9186, 9189, 9194, 9197, 9200, 9201, 9204, 9205, 9209, 9225, 9227, 9231, 9234, 9238, 9239, 9241, 9242, 9244, 9246, 9247, 9251, 9252, 9254, 9255, 9256, 9258, 9260, 9265, 9269, 9272, 9273, 9274, 9278, 9279, 9280, 9284, 9286, 9287, 9289, 9291, 9293, 9294, 9299, 9300, 9304, 9308, 9312, 9315, 9317, 9320, 9323, 9326, 9328, 9330, 9333, 9337, 9341, 9342, 9346, 9349, 9350, 9351, 9354, 9358, 9359, 9363, 9365, 9366, 9367, 9368, 9369, 9372, 9374, 9375, 9376, 9378, 9380, 9383, 9385, 9386, 9388, 9389, 9390, 9391, 9392, 9394, 9396, 9397, 9398, 9402, 9403, 9405, 9408, 9410, 9411, 9412, 9413, 9418, 9423, 9429, 9430, 9435, 9436, 9437, 9440, 9444, 9450, 9451, 9452, 9453, 9454, 9456, 9459, 9463, 9464, 9466, 9468, 9470, 9473, 9474, 9480, 9484, 9485, 9491, 9493, 9494, 9496, 9497, 9501, 9502, 9505, 9508, 9509, 9520, 9522, 9523, 9526, 9529, 9531, 9535, 9536, 9539, 9545, 9549, 9551, 9552, 9554, 9557, 9560, 9566, 9567, 9572, 9573, 9574, 9575, 9583, 9585, 9590, 9592, 9597, 9601, 9605, 9606, 9609, 9610, 9611, 9613, 9620, 9621, 9623, 9627, 9629, 9631, 9634, 9635, 9636, 9637, 9638, 9639, 9640, 9642, 9646, 9648, 9649, 9650, 9651, 9654, 9655, 9656, 9657, 9661, 9667, 9668, 9670, 9673, 9674, 9676, 9678, 9679, 9681, 9682, 9689, 9692, 9693, 9694, 9702, 9709, 9713, 9714, 9716, 9717, 9718, 9721, 9722, 9726, 9727, 9728, 9729, 9731, 9735, 9737, 9744, 9747, 9750, 9752, 9758, 9763, 9764, 9768, 9771, 9774, 9775, 9776, 9777, 9779, 9784, 9785, 9786, 9787, 9789, 9790, 9793, 9794, 9800, 9803, 9804, 9805, 9806, 9812, 9813, 9814, 9815, 9816, 9818, 9820, 9821, 9822, 9824, 9830, 9831, 9841, 9845, 9847, 9848, 9851, 9857, 9859, 9864, 9865, 9868, 9870, 9872, 9874, 9877, 9878, 9880, 9882, 9883, 9886, 9887, 9888, 9891, 9895, 9896, 9897, 9898, 9907, 9909, 9910, 9911, 9912, 9913, 9915, 9916, 9924, 9929, 9932, 9933, 9935, 9939, 9943, 9944, 9946, 9947, 9950, 9951, 9956, 9957, 9961, 9967, 9968, 9969, 9970, 9971, 9972, 9973, 9974, 9976, 9982, 9983, 9986, 9987, 9989, 9996, 9997, 10001, 10003, 10006, 10009, 10016, 10017, 10023, 10024, 10031, 10032, 10033, 10037, 10039, 10042, 10044, 10047, 10051, 10052, 10055, 10056, 10059, 10060, 10062, 10065, 10066, 10067, 10068, 10070, 10074, 10077, 10080, 10081, 10082, 10083, 10085, 10086, 10087, 10089, 10091, 10092, 10095, 10096, 10097, 10098, 10100, 10103, 10105, 10107, 10110, 10113, 10118, 10125, 10128, 10129, 10130, 10131, 10135, 10137, 10141, 10148, 10149, 10151, 10152, 10158, 10160, 10165, 10166, 10179, 10180, 10184, 10186, 10187, 10192, 10193, 10194, 10195, 10196, 10197, 10198, 10201, 10202, 10206, 10210, 10213, 10214, 10222, 10225, 10227, 10228, 10229, 10230, 10234, 10235, 10236, 10238, 10239, 10245, 10246, 10248, 10249, 10250, 10252, 10255, 10257, 10259, 10261, 10262, 10269, 10279, 10280, 10283, 10284, 10285, 10286, 10288, 10290, 10291, 10296, 10298, 10300, 10304, 10305, 10306, 10310, 10312, 10314, 10318, 10319, 10320, 10322, 10325, 10327, 10332, 10335, 10337, 10339, 10340, 10341, 10342, 10345, 10346, 10348, 10354, 10355, 10357, 10360, 10362, 10363, 10364, 10371, 10372, 10376, 10378, 10379, 10380, 10383, 10385, 10388, 10389, 10390, 10397, 10398, 10399, 10400, 10403, 10407, 10408, 10410, 10412, 10413, 10414, 10415, 10416, 10419, 10425, 10436, 10437, 10438, 10439, 10442, 10443, 10445, 10447, 10450, 10451, 10452, 10454, 10460, 10463, 10465, 10467, 10468, 10469, 10470, 10471, 10472, 10473, 10476, 10481, 10484, 10487, 10488, 10493, 10494, 10498, 10499, 10500, 10506, 10508, 10512, 10513, 10517, 10519, 10520, 10521, 10522, 10525, 10527, 10528, 10529, 10534, 10535, 10536, 10537, 10539, 10541, 10547, 10550, 10551, 10552, 10554, 10557, 10558, 10559, 10561, 10564, 10565, 10567, 10568, 10569, 10570, 10572, 10573, 10576, 10577, 10579, 10580, 10581, 10585, 10589, 10590, 10594, 10595, 10597, 10600, 10606, 10608, 10609, 10612, 10613, 10616, 10618, 10620, 10624, 10625, 10627, 10630, 10631, 10634, 10636, 10637, 10638, 10639, 10642, 10643, 10645, 10646, 10647, 10648, 10652, 10655, 10658, 10659, 10661, 10663, 10664, 10665, 10668, 10672, 10673, 10675, 10680, 10681, 10682, 10683, 10684, 10685, 10689, 10691, 10695, 10696, 10698, 10702, 10706, 10710, 10712, 10714, 10720, 10724, 10727, 10729, 10730, 10736, 10738, 10740, 10741, 10744, 10745, 10749, 10750, 10751, 10752, 10753, 10754, 10756, 10763, 10769, 10771, 10775, 10777, 10779, 10780, 10782, 10784, 10789, 10790, 10791, 10796, 10797, 10800, 10802, 10803, 10804, 10805, 10811, 10812, 10815, 10820, 10821, 10822, 10823, 10828, 10831, 10834, 10837, 10841, 10844, 10845, 10849, 10852, 10855, 10856, 10859, 10860, 10864, 10868, 10871, 10875, 10876, 10877, 10878, 10880, 10881, 10882, 10883, 10885, 10889, 10891, 10897, 10898, 10899, 10900, 10901, 10903, 10908, 10909, 10911, 10912, 10914, 10922, 10927, 10929, 10930, 10931, 10934, 10935, 10936, 10941, 10943, 10944, 10946, 10948, 10950, 10954, 10955, 10956, 10958, 10959, 10966, 10967, 10969, 10970, 10971, 10972, 10973, 10975, 10976, 10978, 10980, 10982, 10985, 10986, 10987, 10989, 10991, 10993, 10995, 10996, 10999, 11004, 11005, 11011, 11015, 11018, 11019, 11024, 11025, 11027, 11030, 11031, 11033, 11034, 11035, 11036, 11037, 11038, 11039, 11041, 11042, 11045, 11046, 11047, 11049, 11051, 11053, 11056, 11057, 11058, 11060, 11061, 11062, 11063, 11064, 11066, 11067, 11068, 11069, 11070, 11071, 11075, 11077, 11083, 11088, 11089, 11091, 11092, 11093, 11094, 11095, 11096, 11097, 11099, 11100, 11101, 11107, 11110, 11116, 11117, 11118, 11124, 11125, 11127, 11128, 11129, 11136, 11137, 11140, 11141, 11147, 11150, 11156, 11158, 11161, 11162, 11166, 11168, 11172, 11175, 11178, 11180, 11183, 11185, 11188, 11189, 11191, 11192, 11197, 11199, 11201, 11202, 11204, 11206, 11210, 11217, 11218, 11219, 11221, 11222, 11228, 11230, 11231, 11232, 11233, 11234, 11238, 11240, 11242, 11245, 11248, 11252, 11256, 11258, 11268, 11273, 11276, 11278, 11279, 11281, 11282, 11283, 11284, 11287, 11290, 11292, 11295, 11299, 11300, 11302, 11308, 11309, 11310, 11311, 11312, 11313, 11315, 11316, 11319, 11320, 11322, 11324, 11326, 11328, 11330, 11332, 11333, 11335, 11342, 11344, 11345, 11350, 11351, 11353, 11354, 11360, 11369, 11370, 11371, 11372, 11376, 11377, 11378, 11379, 11380, 11381, 11382, 11387, 11388, 11389, 11390, 11392, 11396, 11397, 11399, 11400, 11402, 11406, 11412, 11417, 11421, 11426, 11430, 11432, 11433, 11435, 11436, 11437, 11441, 11444, 11445, 11447, 11449, 11450, 11452, 11453, 11456, 11461, 11471, 11472, 11473, 11474, 11475, 11480, 11482, 11485, 11493, 11497, 11500, 11505, 11507, 11511, 11514, 11515, 11518, 11521, 11526, 11527, 11531, 11532, 11533, 11534, 11537, 11539, 11543, 11551, 11553, 11556, 11557, 11560, 11561, 11562, 11567, 11568, 11570, 11573, 11577, 11578, 11579, 11583, 11585, 11588, 11595, 11596, 11605, 11607, 11610, 11612, 11614, 11616, 11617, 11619, 11622, 11623, 11624, 11625, 11628, 11629, 11631, 11632, 11633, 11634, 11635, 11639, 11642, 11643, 11648, 11652, 11655, 11656, 11657, 11659, 11660, 11661, 11662, 11664, 11665, 11666, 11668, 11671, 11676, 11678, 11682, 11686, 11691, 11692, 11701, 11702, 11703, 11704, 11705, 11707, 11708, 11710, 11713, 11718, 11721, 11725, 11726, 11728, 11729, 11731, 11733, 11734, 11737, 11742, 11746, 11748, 11753, 11754, 11757, 11762, 11763, 11764, 11766, 11768, 11769, 11777, 11779, 11783, 11786, 11787, 11789, 11792, 11793, 11794, 11796, 11799, 11801, 11804, 11805, 11810, 11814, 11816, 11819, 11821, 11823, 11824, 11826, 11827, 11829, 11832, 11833, 11836, 11839, 11841, 11842, 11843, 11844, 11846, 11850, 11853, 11854, 11858, 11862, 11865, 11866, 11867, 11875, 11876, 11878, 11880, 11882, 11883, 11884, 11888, 11897, 11899, 11902, 11905, 11907, 11911, 11914, 11916, 11917, 11920, 11921, 11922, 11926, 11929, 11930, 11931, 11932, 11936, 11937, 11945, 11948, 11950, 11952, 11957, 11961, 11965, 11966, 11971, 11972, 11977, 11980, 11983, 11984, 11992, 11993, 11994, 11995, 11997, 12003, 12004, 12005, 12006, 12007, 12009, 12010, 12011, 12013, 12014, 12015, 12016, 12018, 12019, 12020, 12023, 12024, 12025, 12027, 12028, 12029, 12030, 12031, 12032, 12035, 12038, 12039, 12047, 12051, 12053, 12054, 12055, 12059, 12060, 12061, 12062, 12068, 12072, 12073, 12074, 12077, 12078, 12079, 12082, 12085, 12086, 12088, 12089, 12094, 12095, 12096, 12097, 12099, 12101, 12102, 12103, 12107, 12110, 12113, 12114, 12115, 12116, 12117, 12118, 12120, 12123, 12124, 12125, 12127, 12131, 12132, 12136, 12141, 12142, 12143, 12146, 12148, 12149, 12153, 12155, 12156, 12157, 12159, 12161, 12164, 12167, 12168, 12172, 12173, 12174, 12175, 12179, 12184, 12193, 12196, 12200, 12201, 12202, 12204, 12207, 12208, 12209, 12211, 12213, 12214, 12216, 12217, 12221, 12228, 12229, 12231, 12235, 12240, 12242, 12243, 12253, 12254, 12258, 12265, 12267, 12273, 12277, 12282, 12283, 12284, 12286, 12288, 12291, 12293, 12294, 12297, 12299, 12301, 12304, 12306, 12308, 12309, 12317, 12318, 12319, 12323, 12325, 12326, 12336, 12338, 12339, 12340, 12341, 12342, 12343, 12344, 12345, 12352, 12356, 12361, 12363, 12364, 12365, 12366, 12367, 12370, 12376, 12377, 12381, 12389, 12390, 12394, 12396, 12397, 12398, 12399, 12402, 12403, 12404, 12405, 12412, 12417, 12418, 12422, 12423, 12425, 12430, 12431, 12432, 12433, 12435, 12436, 12437, 12440, 12443, 12445, 12446, 12448, 12450, 12453, 12456, 12458, 12461, 12465, 12466, 12471, 12473, 12477, 12478, 12479, 12481, 12482, 12488, 12492, 12497, 12498], [], [11, 12, 86, 100, 104, 111, 135, 165, 221, 271, 301, 321, 402, 418, 461, 505, 514, 518, 544, 563, 582, 592, 611, 654, 655, 662, 684, 698, 722, 745, 767, 805, 850, 864, 893, 900, 931, 955, 979, 994, 999, 1024, 1125, 1142, 1153, 1162, 1170, 1181, 1224, 1272, 1297, 1315, 1381, 1390, 1421, 1609, 1676, 1700, 1725, 1747, 1762, 1763, 1813, 1884, 1974, 2153, 2155, 2163, 2198, 2228, 2232, 2251, 2309, 2337, 2442, 2492, 2499, 2506, 2559, 2585, 2603, 2608, 2620, 2629, 2632, 2647, 2660, 2682, 2691, 2720, 2729, 2750, 2756, 2757, 2779, 2829, 2832, 2842, 2861, 2887, 2935, 2942, 2943, 2944, 2956, 2964, 2979, 2996, 2997, 3006, 3065, 3118, 3179, 3208, 3213, 3317, 3350, 3351, 3361, 3398, 3403, 3415, 3422, 3456, 3588, 3595, 3600, 3686, 3701, 3726, 3781, 3809, 3846, 3876, 3880, 3994, 4134, 4147, 4186, 4188, 4203, 4258, 4265, 4309, 4334, 4335, 4362, 4390, 4399, 4433, 4446, 4465, 4527, 4528, 4532, 4536, 4569, 4592, 4618, 4651, 4671, 4694, 4710, 4735, 4740, 4758, 4764, 4776, 4898, 4931, 4934, 4968, 4978, 4997, 5004, 5019, 5027, 5060, 5079, 5095, 5132, 5145, 5177, 5230, 5253, 5263, 5309, 5326, 5356, 5381, 5436, 5486, 5489, 5494, 5506, 5523, 5533, 5542, 5676, 5692, 5797, 5804, 5813, 5845, 5867, 5935, 5960, 5996, 6028, 6038, 6041, 6108, 6136, 6164, 6211, 6242, 6256, 6382, 6383, 6456, 6462, 6555, 6559, 6563, 6615, 6643, 6648, 6677, 6715, 6717, 6721, 6734, 6770, 6848, 6870, 6873, 6878, 6929, 6935, 6955, 7083, 7096, 7154, 7161, 7240, 7262, 7267, 7281, 7285, 7305, 7340, 7341, 7394, 7492, 7538, 7539, 7560, 7568, 7574, 7576, 7615, 7630, 7659, 7673, 7683, 7697, 7709, 7713, 7734, 7797, 7798, 7847, 7851, 7902, 7906, 7977, 7980, 7984, 7991, 8011, 8023, 8050, 8062, 8067, 8073, 8086, 8089, 8118, 8158, 8164, 8194, 8213, 8274, 8280, 8283, 8284, 8319, 8342, 8356, 8385, 8387, 8428, 8472, 8494, 8502, 8517, 8531, 8535, 8544, 8590, 8597, 8623, 8656, 8681, 8707, 8710, 8802, 8818, 8834, 8853, 8868, 8897, 8906, 8959, 8997, 9014, 9027, 9057, 9075, 9085, 9095, 9116, 9130, 9139, 9166, 9190, 9219, 9237, 9282, 9379, 9409, 9420, 9434, 9479, 9584, 9626, 9749, 9753, 9798, 9802, 9828, 9829, 9832, 9840, 9901, 9904, 9930, 9990, 10018, 10049, 10050, 10057, 10073, 10088, 10122, 10144, 10171, 10223, 10276, 10282, 10287, 10356, 10393, 10441, 10466, 10504, 10523, 10531, 10607, 10623, 10629, 10667, 10674, 10725, 10737, 10793, 10810, 10826, 11001, 11003, 11020, 11104, 11154, 11226, 11298, 11323, 11343, 11347, 11408, 11411, 11457, 11470, 11489, 11496, 11517, 11554, 11571, 11599, 11649, 11679, 11699, 11715, 11743, 11755, 11822, 11840, 11900, 11906, 11990, 12075, 12135, 12187, 12212, 12215, 12237, 12346, 12355, 12415, 12421, 12434, 12495], [], [108, 334, 548, 605, 776, 803, 877, 914, 1008, 1077, 1298, 1770, 1831, 1836, 1899, 1913, 2278, 2445, 2752, 3188, 3447, 3502, 4332, 4488, 4552, 4558, 4846, 5563, 6166, 6482, 6519, 6634, 6895, 7245, 7256, 7426, 7628, 8038, 8416, 8439, 8440, 8453, 8501, 9134, 9216, 9419, 9483, 9504, 9603, 9966, 9981, 10204, 10209, 10516, 10774, 10785, 10867, 10879, 11182, 11859, 11982, 12274], [5, 8, 13, 18, 44, 60, 65, 72, 93, 94, 103, 107, 112, 113, 116, 126, 132, 137, 145, 147, 152, 159, 162, 168, 169, 183, 184, 197, 206, 211, 212, 216, 222, 246, 253, 260, 261, 273, 285, 288, 303, 305, 307, 312, 313, 314, 320, 328, 331, 354, 360, 371, 372, 376, 378, 380, 382, 386, 388, 394, 395, 399, 407, 426, 434, 441, 444, 448, 456, 458, 463, 480, 483, 503, 506, 507, 516, 521, 527, 540, 550, 551, 554, 557, 566, 568, 572, 578, 612, 620, 623, 635, 641, 643, 652, 656, 657, 658, 667, 669, 673, 674, 677, 678, 714, 717, 730, 733, 736, 738, 754, 757, 763, 765, 775, 793, 795, 798, 802, 809, 829, 836, 841, 844, 845, 846, 861, 872, 880, 883, 885, 891, 898, 934, 935, 941, 957, 958, 960, 966, 967, 970, 989, 996, 1003, 1006, 1010, 1021, 1026, 1032, 1051, 1067, 1070, 1072, 1080, 1096, 1097, 1108, 1112, 1138, 1139, 1152, 1156, 1175, 1186, 1193, 1195, 1199, 1202, 1209, 1215, 1239, 1250, 1252, 1256, 1271, 1277, 1286, 1303, 1310, 1314, 1323, 1347, 1353, 1354, 1361, 1362, 1367, 1387, 1393, 1396, 1407, 1418, 1435, 1439, 1442, 1444, 1448, 1449, 1483, 1484, 1485, 1490, 1499, 1502, 1528, 1529, 1536, 1538, 1550, 1555, 1561, 1563, 1567, 1575, 1581, 1591, 1608, 1613, 1623, 1629, 1646, 1651, 1656, 1658, 1666, 1672, 1686, 1701, 1713, 1716, 1724, 1729, 1732, 1742, 1744, 1753, 1759, 1774, 1783, 1797, 1804, 1811, 1817, 1824, 1833, 1834, 1840, 1841, 1844, 1845, 1847, 1849, 1858, 1865, 1869, 1896, 1900, 1916, 1941, 1946, 1948, 1952, 1954, 1957, 1976, 1990, 1991, 1995, 2014, 2037, 2047, 2050, 2052, 2083, 2084, 2099, 2109, 2118, 2124, 2129, 2139, 2142, 2172, 2174, 2183, 2184, 2195, 2199, 2201, 2204, 2234, 2237, 2244, 2249, 2253, 2254, 2272, 2282, 2283, 2289, 2294, 2313, 2323, 2335, 2343, 2351, 2357, 2364, 2365, 2375, 2386, 2391, 2420, 2430, 2449, 2457, 2459, 2466, 2476, 2482, 2495, 2504, 2515, 2516, 2543, 2558, 2562, 2567, 2589, 2595, 2610, 2630, 2658, 2663, 2665, 2667, 2671, 2673, 2686, 2692, 2702, 2706, 2710, 2721, 2723, 2726, 2730, 2741, 2751, 2766, 2768, 2771, 2774, 2785, 2792, 2801, 2802, 2804, 2806, 2812, 2822, 2825, 2838, 2841, 2843, 2859, 2862, 2866, 2874, 2878, 2885, 2895, 2899, 2901, 2906, 2908, 2914, 2918, 2919, 2929, 2934, 2958, 2959, 2971, 2974, 2988, 2999, 3001, 3015, 3056, 3058, 3064, 3067, 3072, 3076, 3085, 3087, 3096, 3103, 3114, 3125, 3127, 3131, 3133, 3142, 3143, 3164, 3165, 3173, 3184, 3197, 3200, 3207, 3214, 3221, 3241, 3243, 3244, 3245, 3253, 3255, 3259, 3261, 3262, 3276, 3277, 3278, 3279, 3284, 3288, 3289, 3290, 3292, 3301, 3302, 3310, 3323, 3328, 3333, 3334, 3338, 3340, 3343, 3344, 3353, 3374, 3380, 3384, 3385, 3397, 3408, 3412, 3413, 3426, 3441, 3448, 3495, 3500, 3515, 3521, 3523, 3537, 3538, 3545, 3555, 3574, 3579, 3580, 3581, 3585, 3605, 3607, 3608, 3610, 3614, 3637, 3644, 3649, 3679, 3688, 3692, 3710, 3711, 3714, 3735, 3738, 3742, 3778, 3780, 3798, 3799, 3807, 3818, 3836, 3841, 3852, 3865, 3866, 3894, 3896, 3909, 3932, 3934, 3941, 3951, 3953, 3956, 3966, 3979, 3984, 3991, 3995, 4004, 4008, 4014, 4017, 4022, 4031, 4032, 4035, 4038, 4068, 4077, 4080, 4086, 4088, 4091, 4115, 4118, 4120, 4131, 4140, 4144, 4148, 4150, 4155, 4162, 4166, 4167, 4171, 4174, 4180, 4181, 4189, 4215, 4217, 4220, 4222, 4240, 4247, 4264, 4268, 4271, 4273, 4281, 4288, 4290, 4302, 4303, 4306, 4312, 4321, 4344, 4350, 4357, 4370, 4372, 4376, 4377, 4378, 4386, 4395, 4397, 4401, 4407, 4409, 4414, 4440, 4445, 4456, 4459, 4475, 4478, 4487, 4496, 4506, 4510, 4512, 4516, 4525, 4526, 4540, 4544, 4546, 4563, 4578, 4586, 4587, 4601, 4611, 4627, 4628, 4635, 4643, 4683, 4693, 4709, 4712, 4718, 4720, 4723, 4739, 4750, 4762, 4765, 4785, 4786, 4789, 4801, 4805, 4806, 4831, 4833, 4834, 4835, 4842, 4849, 4851, 4852, 4857, 4865, 4870, 4892, 4893, 4921, 4933, 4939, 4945, 4946, 4953, 4957, 4964, 4972, 4976, 4980, 4981, 4996, 5021, 5030, 5032, 5034, 5036, 5058, 5071, 5074, 5098, 5107, 5118, 5120, 5133, 5147, 5152, 5154, 5160, 5180, 5199, 5202, 5210, 5214, 5234, 5235, 5242, 5258, 5259, 5275, 5281, 5293, 5332, 5333, 5358, 5367, 5371, 5376, 5383, 5390, 5399, 5406, 5421, 5434, 5454, 5457, 5468, 5469, 5478, 5505, 5516, 5532, 5552, 5554, 5565, 5566, 5576, 5585, 5591, 5598, 5599, 5606, 5609, 5616, 5618, 5630, 5631, 5639, 5653, 5670, 5696, 5702, 5704, 5706, 5715, 5733, 5734, 5743, 5746, 5752, 5753, 5761, 5767, 5794, 5805, 5810, 5826, 5836, 5850, 5854, 5862, 5874, 5877, 5881, 5886, 5887, 5892, 5902, 5913, 5922, 5941, 5953, 5965, 5973, 5994, 6001, 6009, 6010, 6021, 6024, 6027, 6031, 6036, 6039, 6042, 6043, 6052, 6057, 6062, 6066, 6070, 6077, 6078, 6103, 6107, 6117, 6125, 6132, 6151, 6169, 6171, 6177, 6179, 6190, 6191, 6197, 6212, 6217, 6222, 6225, 6240, 6251, 6260, 6270, 6281, 6284, 6302, 6309, 6311, 6312, 6325, 6327, 6329, 6331, 6349, 6352, 6364, 6366, 6373, 6381, 6392, 6393, 6410, 6419, 6430, 6443, 6445, 6449, 6466, 6470, 6477, 6484, 6490, 6492, 6493, 6500, 6507, 6514, 6516, 6528, 6566, 6573, 6580, 6583, 6586, 6592, 6596, 6597, 6599, 6604, 6610, 6611, 6621, 6632, 6633, 6636, 6637, 6650, 6651, 6678, 6690, 6696, 6707, 6716, 6718, 6726, 6731, 6750, 6754, 6760, 6766, 6784, 6794, 6799, 6801, 6803, 6804, 6809, 6816, 6818, 6832, 6841, 6862, 6871, 6874, 6879, 6880, 6890, 6891, 6905, 6908, 6910, 6945, 6948, 6950, 6956, 6967, 6969, 6972, 6978, 6982, 6989, 7001, 7005, 7012, 7013, 7035, 7037, 7043, 7045, 7050, 7058, 7059, 7060, 7065, 7067, 7069, 7070, 7072, 7077, 7080, 7081, 7087, 7093, 7105, 7108, 7114, 7139, 7162, 7165, 7168, 7169, 7172, 7174, 7176, 7183, 7189, 7190, 7218, 7223, 7225, 7226, 7233, 7235, 7238, 7246, 7279, 7296, 7300, 7304, 7309, 7311, 7313, 7325, 7336, 7343, 7351, 7355, 7359, 7360, 7364, 7377, 7384, 7387, 7396, 7399, 7408, 7418, 7421, 7427, 7434, 7441, 7446, 7456, 7462, 7466, 7477, 7482, 7486, 7503, 7515, 7516, 7518, 7549, 7572, 7585, 7591, 7601, 7602, 7616, 7617, 7618, 7619, 7626, 7635, 7638, 7641, 7642, 7643, 7648, 7650, 7653, 7685, 7712, 7715, 7717, 7738, 7751, 7752, 7756, 7757, 7760, 7771, 7791, 7801, 7805, 7806, 7810, 7811, 7813, 7845, 7861, 7863, 7866, 7868, 7872, 7888, 7900, 7904, 7941, 7953, 7956, 7963, 7971, 7985, 8001, 8004, 8008, 8014, 8015, 8028, 8035, 8042, 8077, 8079, 8081, 8095, 8113, 8129, 8133, 8139, 8197, 8214, 8221, 8230, 8238, 8243, 8265, 8269, 8275, 8278, 8281, 8286, 8293, 8296, 8301, 8302, 8304, 8307, 8312, 8314, 8325, 8328, 8329, 8332, 8337, 8343, 8344, 8348, 8349, 8360, 8371, 8373, 8384, 8397, 8400, 8407, 8409, 8423, 8445, 8449, 8457, 8459, 8468, 8488, 8492, 8498, 8500, 8528, 8529, 8530, 8533, 8559, 8567, 8583, 8596, 8610, 8621, 8635, 8636, 8679, 8682, 8687, 8694, 8727, 8728, 8736, 8765, 8779, 8793, 8796, 8828, 8833, 8850, 8854, 8858, 8860, 8862, 8885, 8891, 8904, 8907, 8922, 8941, 8945, 8948, 8950, 8956, 8967, 8971, 8972, 8981, 8992, 9016, 9026, 9036, 9037, 9052, 9055, 9063, 9076, 9097, 9099, 9102, 9111, 9112, 9118, 9119, 9124, 9142, 9151, 9160, 9161, 9163, 9168, 9184, 9187, 9188, 9192, 9207, 9208, 9221, 9226, 9250, 9253, 9266, 9268, 9276, 9285, 9290, 9292, 9296, 9301, 9303, 9307, 9309, 9327, 9335, 9336, 9377, 9381, 9384, 9400, 9407, 9416, 9421, 9424, 9425, 9445, 9458, 9461, 9467, 9487, 9490, 9507, 9511, 9521, 9527, 9528, 9534, 9556, 9559, 9561, 9563, 9564, 9565, 9581, 9588, 9591, 9594, 9607, 9612, 9617, 9619, 9622, 9624, 9625, 9632, 9647, 9663, 9664, 9666, 9671, 9677, 9680, 9684, 9691, 9703, 9704, 9705, 9710, 9719, 9724, 9725, 9738, 9740, 9745, 9754, 9766, 9767, 9770, 9772, 9773, 9795, 9810, 9819, 9844, 9879, 9884, 9902, 9917, 9920, 9921, 9926, 9927, 9934, 9938, 9949, 9960, 9980, 10002, 10013, 10020, 10022, 10034, 10053, 10076, 10084, 10094, 10099, 10111, 10121, 10127, 10132, 10134, 10139, 10142, 10156, 10163, 10208, 10216, 10240, 10260, 10264, 10271, 10272, 10289, 10301, 10303, 10323, 10334, 10338, 10347, 10358, 10365, 10375, 10386, 10409, 10420, 10421, 10422, 10429, 10430, 10458, 10461, 10475, 10486, 10490, 10491, 10501, 10509, 10518, 10532, 10544, 10553, 10563, 10566, 10574, 10582, 10583, 10593, 10596, 10598, 10601, 10602, 10604, 10617, 10619, 10628, 10651, 10656, 10657, 10677, 10688, 10692, 10693, 10711, 10718, 10722, 10742, 10760, 10768, 10783, 10788, 10816, 10825, 10843, 10846, 10847, 10850, 10854, 10858, 10866, 10869, 10884, 10906, 10907, 10918, 10921, 10937, 10957, 10961, 10983, 10997, 10998, 11022, 11028, 11043, 11048, 11052, 11054, 11059, 11076, 11081, 11084, 11090, 11102, 11108, 11120, 11126, 11132, 11144, 11155, 11167, 11171, 11181, 11187, 11193, 11194, 11207, 11209, 11246, 11260, 11262, 11272, 11274, 11275, 11280, 11301, 11305, 11318, 11327, 11337, 11341, 11385, 11394, 11403, 11410, 11413, 11418, 11423, 11425, 11439, 11462, 11467, 11481, 11483, 11491, 11498, 11513, 11520, 11525, 11536, 11563, 11569, 11572, 11574, 11576, 11581, 11584, 11600, 11603, 11611, 11627, 11637, 11651, 11667, 11670, 11685, 11689, 11727, 11736, 11744, 11745, 11761, 11781, 11788, 11803, 11847, 11860, 11861, 11870, 11871, 11873, 11874, 11877, 11881, 11886, 11903, 11908, 11924, 11934, 11935, 11938, 11940, 11953, 11973, 11978, 11986, 11998, 11999, 12037, 12041, 12064, 12066, 12067, 12070, 12080, 12081, 12098, 12100, 12106, 12121, 12152, 12160, 12178, 12180, 12183, 12186, 12188, 12192, 12197, 12223, 12224, 12234, 12236, 12241, 12247, 12250, 12251, 12268, 12271, 12275, 12276, 12280, 12285, 12290, 12298, 12305, 12307, 12316, 12327, 12329, 12335, 12354, 12362, 12371, 12375, 12391, 12395, 12401, 12410, 12413, 12428, 12441, 12447, 12454, 12462, 12467, 12474, 12484, 12486, 12491, 12494, 12499], [], [], [], [], [], [], [], [120, 536, 5756, 6100, 6524, 7280, 7898, 8821, 8954], [], [16, 19, 25, 29, 36, 53, 73, 82, 91, 95, 106, 124, 129, 133, 146, 148, 160, 174, 178, 180, 185, 186, 187, 192, 215, 229, 236, 237, 255, 292, 324, 325, 339, 350, 363, 366, 385, 401, 403, 413, 432, 436, 437, 449, 477, 497, 510, 522, 525, 526, 533, 539, 558, 559, 565, 584, 595, 597, 608, 610, 613, 616, 619, 626, 631, 659, 660, 668, 689, 707, 721, 725, 731, 743, 747, 752, 769, 792, 808, 810, 811, 813, 815, 821, 823, 848, 851, 886, 895, 905, 924, 939, 948, 974, 1001, 1016, 1022, 1031, 1045, 1049, 1052, 1057, 1085, 1099, 1107, 1126, 1128, 1137, 1155, 1172, 1178, 1183, 1188, 1207, 1211, 1214, 1219, 1222, 1227, 1248, 1255, 1264, 1288, 1289, 1290, 1295, 1320, 1326, 1343, 1349, 1356, 1395, 1409, 1416, 1430, 1436, 1446, 1459, 1465, 1492, 1506, 1521, 1531, 1537, 1539, 1547, 1564, 1576, 1583, 1596, 1618, 1622, 1633, 1637, 1647, 1648, 1659, 1663, 1667, 1683, 1694, 1696, 1712, 1714, 1719, 1754, 1765, 1766, 1785, 1803, 1815, 1826, 1859, 1866, 1868, 1873, 1880, 1885, 1886, 1939, 1947, 1968, 1971, 1978, 1983, 1985, 2000, 2007, 2011, 2030, 2043, 2058, 2114, 2126, 2146, 2147, 2161, 2167, 2178, 2194, 2203, 2216, 2221, 2225, 2250, 2256, 2257, 2260, 2276, 2277, 2279, 2280, 2316, 2319, 2329, 2332, 2338, 2360, 2370, 2407, 2412, 2438, 2447, 2452, 2460, 2464, 2468, 2479, 2487, 2507, 2510, 2512, 2514, 2532, 2533, 2542, 2544, 2549, 2563, 2564, 2579, 2587, 2590, 2606, 2616, 2623, 2625, 2627, 2631, 2669, 2674, 2679, 2687, 2694, 2700, 2722, 2728, 2758, 2767, 2778, 2791, 2793, 2818, 2828, 2834, 2840, 2845, 2863, 2867, 2877, 2881, 2911, 2957, 2967, 2968, 2981, 3020, 3029, 3047, 3053, 3082, 3088, 3090, 3100, 3108, 3123, 3129, 3163, 3176, 3186, 3203, 3204, 3216, 3218, 3242, 3268, 3274, 3286, 3298, 3303, 3342, 3345, 3346, 3349, 3368, 3383, 3392, 3395, 3400, 3458, 3462, 3464, 3466, 3470, 3478, 3491, 3494, 3496, 3511, 3519, 3522, 3539, 3560, 3591, 3602, 3632, 3653, 3655, 3656, 3675, 3678, 3682, 3718, 3731, 3739, 3750, 3774, 3786, 3788, 3803, 3811, 3812, 3825, 3830, 3832, 3835, 3842, 3843, 3864, 3872, 3873, 3883, 3901, 3902, 3904, 3918, 3944, 3949, 3959, 3970, 3972, 3975, 3998, 4024, 4041, 4047, 4049, 4050, 4053, 4062, 4064, 4073, 4075, 4099, 4108, 4110, 4116, 4119, 4145, 4158, 4160, 4161, 4165, 4190, 4194, 4195, 4197, 4218, 4224, 4231, 4232, 4234, 4257, 4259, 4274, 4286, 4287, 4307, 4311, 4345, 4347, 4358, 4368, 4375, 4384, 4385, 4393, 4396, 4412, 4419, 4471, 4473, 4486, 4500, 4529, 4535, 4561, 4565, 4567, 4576, 4605, 4616, 4621, 4624, 4629, 4649, 4657, 4676, 4678, 4688, 4708, 4733, 4741, 4742, 4743, 4748, 4754, 4779, 4782, 4784, 4809, 4814, 4823, 4826, 4828, 4829, 4837, 4875, 4886, 4902, 4924, 4942, 4958, 4963, 4994, 5001, 5002, 5020, 5037, 5051, 5063, 5068, 5073, 5082, 5083, 5090, 5100, 5102, 5114, 5122, 5156, 5157, 5196, 5211, 5220, 5225, 5247, 5266, 5268, 5269, 5291, 5300, 5327, 5348, 5362, 5366, 5368, 5373, 5391, 5395, 5396, 5404, 5414, 5453, 5465, 5466, 5492, 5520, 5521, 5522, 5527, 5530, 5534, 5535, 5555, 5561, 5562, 5568, 5593, 5596, 5603, 5607, 5649, 5654, 5662, 5664, 5679, 5685, 5709, 5716, 5737, 5742, 5754, 5755, 5758, 5765, 5772, 5784, 5801, 5814, 5816, 5818, 5824, 5830, 5847, 5859, 5875, 5885, 5898, 5908, 5914, 5945, 5946, 5964, 5976, 5977, 5991, 6016, 6019, 6026, 6045, 6048, 6050, 6067, 6071, 6084, 6087, 6093, 6097, 6111, 6116, 6118, 6126, 6138, 6143, 6148, 6167, 6184, 6189, 6192, 6198, 6205, 6228, 6237, 6257, 6258, 6259, 6265, 6269, 6271, 6275, 6293, 6304, 6317, 6321, 6335, 6336, 6342, 6357, 6376, 6378, 6394, 6397, 6404, 6408, 6417, 6428, 6431, 6446, 6447, 6455, 6458, 6471, 6483, 6489, 6498, 6510, 6526, 6529, 6530, 6550, 6560, 6565, 6595, 6647, 6660, 6666, 6667, 6702, 6746, 6755, 6763, 6774, 6775, 6777, 6783, 6798, 6817, 6834, 6835, 6836, 6845, 6850, 6851, 6889, 6893, 6900, 6911, 6920, 6931, 6937, 6953, 6984, 6988, 6991, 6993, 6997, 7002, 7007, 7033, 7082, 7102, 7121, 7127, 7142, 7163, 7164, 7167, 7179, 7194, 7213, 7237, 7259, 7261, 7275, 7292, 7307, 7323, 7324, 7352, 7398, 7402, 7407, 7411, 7413, 7422, 7459, 7468, 7474, 7490, 7495, 7513, 7533, 7541, 7544, 7547, 7564, 7580, 7581, 7583, 7592, 7608, 7636, 7660, 7670, 7690, 7704, 7707, 7708, 7720, 7729, 7739, 7741, 7743, 7749, 7754, 7780, 7781, 7785, 7792, 7815, 7830, 7844, 7848, 7856, 7860, 7878, 7879, 7885, 7887, 7897, 7907, 7914, 7923, 7930, 7940, 7950, 7967, 7970, 7986, 7987, 7990, 8018, 8021, 8027, 8030, 8033, 8040, 8046, 8047, 8058, 8059, 8068, 8103, 8112, 8123, 8131, 8142, 8147, 8149, 8155, 8167, 8169, 8179, 8185, 8215, 8223, 8272, 8308, 8313, 8336, 8352, 8363, 8398, 8399, 8406, 8415, 8422, 8424, 8455, 8460, 8462, 8474, 8480, 8482, 8487, 8490, 8491, 8493, 8507, 8510, 8574, 8576, 8580, 8582, 8586, 8591, 8598, 8601, 8606, 8612, 8616, 8622, 8626, 8641, 8642, 8645, 8649, 8651, 8665, 8690, 8696, 8704, 8718, 8739, 8744, 8752, 8759, 8764, 8769, 8787, 8792, 8797, 8804, 8810, 8815, 8822, 8825, 8838, 8844, 8878, 8881, 8883, 8888, 8890, 8898, 8908, 8921, 8946, 8955, 8961, 8965, 8966, 8974, 8982, 8993, 8999, 9001, 9003, 9013, 9015, 9025, 9048, 9053, 9089, 9105, 9107, 9117, 9126, 9133, 9141, 9146, 9155, 9167, 9170, 9177, 9213, 9249, 9259, 9262, 9267, 9288, 9311, 9313, 9329, 9334, 9352, 9355, 9356, 9357, 9360, 9364, 9428, 9431, 9439, 9455, 9462, 9465, 9495, 9499, 9516, 9518, 9524, 9537, 9543, 9550, 9553, 9593, 9599, 9600, 9602, 9614, 9628, 9633, 9644, 9688, 9698, 9723, 9732, 9733, 9734, 9741, 9748, 9755, 9760, 9762, 9765, 9778, 9823, 9833, 9834, 9835, 9849, 9856, 9871, 9875, 9881, 9892, 9906, 9914, 9922, 9936, 9937, 9958, 9979, 9988, 9995, 9998, 9999, 10025, 10028, 10036, 10041, 10043, 10045, 10058, 10072, 10075, 10093, 10102, 10109, 10117, 10119, 10146, 10153, 10154, 10161, 10172, 10183, 10219, 10247, 10263, 10265, 10270, 10294, 10299, 10307, 10311, 10324, 10326, 10331, 10352, 10368, 10395, 10411, 10427, 10448, 10456, 10462, 10485, 10502, 10546, 10548, 10556, 10562, 10611, 10622, 10654, 10660, 10669, 10671, 10676, 10687, 10708, 10719, 10726, 10728, 10735, 10746, 10758, 10761, 10764, 10776, 10798, 10832, 10838, 10839, 10851, 10857, 10873, 10886, 10888, 10895, 10902, 10917, 10933, 10942, 10949, 10952, 10984, 11007, 11012, 11013, 11026, 11029, 11074, 11080, 11086, 11119, 11133, 11135, 11145, 11146, 11157, 11184, 11186, 11190, 11198, 11223, 11224, 11229, 11237, 11247, 11251, 11257, 11266, 11267, 11271, 11286, 11296, 11303, 11338, 11339, 11355, 11358, 11365, 11384, 11386, 11393, 11395, 11398, 11401, 11428, 11429, 11431, 11440, 11446, 11460, 11463, 11501, 11510, 11516, 11529, 11535, 11538, 11545, 11552, 11559, 11575, 11587, 11592, 11602, 11608, 11618, 11630, 11644, 11653, 11680, 11683, 11684, 11695, 11709, 11712, 11724, 11730, 11739, 11747, 11750, 11756, 11767, 11771, 11772, 11778, 11784, 11785, 11790, 11808, 11815, 11825, 11830, 11837, 11849, 11856, 11857, 11864, 11872, 11879, 11898, 11919, 11943, 11955, 11956, 11959, 11963, 11968, 11969, 11975, 12026, 12044, 12046, 12056, 12130, 12134, 12137, 12139, 12140, 12147, 12177, 12181, 12182, 12185, 12190, 12210, 12220, 12222, 12225, 12227, 12232, 12257, 12262, 12300, 12303, 12312, 12314, 12347, 12348, 12369, 12374, 12378, 12409, 12416, 12419, 12420, 12424, 12451, 12452, 12457], [35, 68, 90, 92, 122, 128, 134, 172, 238, 248, 254, 262, 359, 365, 381, 400, 478, 482, 492, 511, 531, 556, 564, 570, 596, 664, 672, 718, 771, 800, 818, 832, 878, 896, 927, 932, 1007, 1012, 1015, 1056, 1058, 1078, 1084, 1087, 1091, 1094, 1143, 1165, 1177, 1179, 1185, 1216, 1244, 1246, 1265, 1270, 1274, 1311, 1313, 1328, 1352, 1363, 1366, 1370, 1403, 1428, 1447, 1454, 1504, 1524, 1534, 1535, 1559, 1585, 1619, 1641, 1657, 1670, 1688, 1699, 1746, 1748, 1777, 1784, 1789, 1806, 1850, 1853, 1855, 1871, 1908, 1914, 1919, 1932, 1933, 1949, 1953, 1961, 1979, 2066, 2093, 2105, 2113, 2173, 2211, 2241, 2243, 2252, 2287, 2318, 2331, 2362, 2374, 2406, 2416, 2446, 2455, 2469, 2473, 2475, 2484, 2526, 2531, 2537, 2548, 2550, 2570, 2571, 2573, 2607, 2614, 2622, 2624, 2635, 2666, 2718, 2724, 2725, 2732, 2783, 2788, 2811, 2815, 2816, 2890, 2892, 2894, 2905, 2928, 2947, 2950, 2955, 2982, 3049, 3122, 3141, 3153, 3175, 3223, 3275, 3299, 3316, 3352, 3438, 3452, 3454, 3465, 3489, 3553, 3563, 3586, 3641, 3642, 3645, 3647, 3687, 3706, 3725, 3732, 3744, 3827, 3861, 3887, 3935, 3967, 4000, 4028, 4044, 4057, 4069, 4071, 4109, 4142, 4152, 4168, 4170, 4175, 4216, 4219, 4227, 4229, 4241, 4262, 4278, 4284, 4292, 4293, 4298, 4304, 4310, 4320, 4349, 4398, 4417, 4432, 4434, 4443, 4452, 4457, 4495, 4504, 4507, 4531, 4549, 4593, 4594, 4603, 4606, 4609, 4619, 4659, 4697, 4715, 4728, 4732, 4795, 4811, 4815, 4830, 4854, 4867, 4881, 4882, 4967, 4983, 4999, 5013, 5016, 5044, 5069, 5077, 5092, 5169, 5183, 5188, 5217, 5223, 5232, 5236, 5240, 5251, 5297, 5310, 5321, 5354, 5361, 5370, 5415, 5420, 5432, 5449, 5451, 5467, 5470, 5484, 5519, 5548, 5612, 5629, 5665, 5672, 5719, 5732, 5789, 5821, 5828, 5835, 5846, 5928, 5929, 5930, 5940, 5943, 5955, 5978, 5984, 5998, 6017, 6018, 6049, 6054, 6127, 6159, 6199, 6208, 6248, 6273, 6274, 6291, 6308, 6341, 6351, 6356, 6371, 6398, 6401, 6409, 6432, 6441, 6473, 6481, 6485, 6509, 6513, 6525, 6536, 6574, 6576, 6581, 6582, 6598, 6616, 6626, 6649, 6676, 6691, 6693, 6786, 6806, 6813, 6815, 6825, 6838, 6846, 6847, 6857, 6882, 6898, 6913, 6941, 6958, 6959, 6961, 6971, 6981, 7008, 7088, 7106, 7118, 7144, 7152, 7159, 7170, 7184, 7186, 7206, 7241, 7331, 7376, 7380, 7390, 7400, 7417, 7460, 7478, 7488, 7555, 7558, 7570, 7610, 7622, 7627, 7658, 7676, 7688, 7740, 7750, 7768, 7820, 7825, 7831, 7840, 7842, 7864, 7920, 7926, 7957, 7966, 7995, 8002, 8039, 8064, 8075, 8105, 8127, 8137, 8181, 8183, 8189, 8240, 8254, 8255, 8273, 8289, 8420, 8421, 8473, 8475, 8499, 8509, 8520, 8588, 8613, 8633, 8648, 8683, 8688, 8692, 8730, 8735, 8742, 8757, 8780, 8790, 8814, 8817, 8852, 8855, 8876, 8896, 8905, 8930, 8932, 8935, 8944, 8962, 8963, 8964, 8995, 9018, 9023, 9136, 9138, 9144, 9180, 9195, 9215, 9232, 9236, 9257, 9275, 9305, 9321, 9345, 9382, 9406, 9443, 9457, 9460, 9519, 9525, 9530, 9558, 9659, 9662, 9697, 9730, 9756, 9769, 9788, 9792, 9797, 9809, 9854, 9903, 9905, 9928, 9955, 9975, 9985, 10005, 10114, 10157, 10167, 10169, 10182, 10189, 10205, 10220, 10226, 10237, 10258, 10267, 10268, 10293, 10317, 10343, 10344, 10353, 10391, 10402, 10404, 10418, 10423, 10428, 10440, 10455, 10510, 10524, 10542, 10555, 10586, 10587, 10591, 10603, 10621, 10632, 10649, 10653, 10666, 10690, 10699, 10734, 10748, 10781, 10787, 10794, 10848, 10863, 10915, 10928, 10939, 10964, 10974, 11002, 11072, 11087, 11105, 11106, 11111, 11179, 11196, 11214, 11215, 11236, 11261, 11306, 11329, 11334, 11340, 11364, 11490, 11499, 11508, 11550, 11565, 11589, 11593, 11594, 11601, 11604, 11641, 11681, 11698, 11700, 11711, 11719, 11720, 11722, 11740, 11759, 11795, 11797, 11800, 11834, 11845, 11885, 11893, 11928, 11979, 12017, 12040, 12058, 12076, 12084, 12093, 12108, 12112, 12154, 12205, 12219, 12249, 12261, 12264, 12281, 12289, 12331, 12333, 12368, 12383, 12385, 12386, 12400, 12439, 12463, 12490], [], [42, 46, 153, 167, 207, 210, 226, 231, 239, 315, 316, 338, 374, 387, 423, 454, 464, 469, 470, 486, 495, 496, 500, 512, 576, 585, 593, 607, 617, 661, 732, 750, 819, 842, 853, 858, 865, 868, 874, 889, 956, 981, 1037, 1075, 1117, 1129, 1167, 1168, 1200, 1218, 1291, 1330, 1336, 1344, 1345, 1373, 1374, 1377, 1385, 1386, 1388, 1391, 1406, 1410, 1412, 1415, 1423, 1440, 1463, 1467, 1503, 1505, 1507, 1512, 1526, 1549, 1588, 1603, 1620, 1627, 1669, 1674, 1682, 1695, 1726, 1767, 1819, 1848, 1856, 1897, 1911, 1917, 1921, 1922, 1951, 1972, 1981, 1988, 2023, 2039, 2042, 2046, 2067, 2108, 2125, 2150, 2219, 2223, 2273, 2290, 2295, 2303, 2314, 2315, 2326, 2327, 2341, 2345, 2356, 2381, 2411, 2413, 2423, 2440, 2456, 2471, 2483, 2491, 2521, 2529, 2547, 2554, 2617, 2619, 2634, 2640, 2651, 2677, 2690, 2814, 2817, 2868, 2871, 2876, 2903, 2946, 3008, 3037, 3039, 3043, 3048, 3054, 3063, 3066, 3083, 3107, 3136, 3144, 3196, 3209, 3225, 3238, 3251, 3258, 3266, 3282, 3304, 3326, 3423, 3431, 3443, 3446, 3459, 3490, 3517, 3556, 3590, 3596, 3620, 3622, 3623, 3685, 3689, 3693, 3696, 3708, 3712, 3736, 3752, 3767, 3787, 3808, 3858, 3860, 3868, 3874, 3912, 3924, 3954, 3996, 4066, 4070, 4078, 4098, 4111, 4125, 4184, 4213, 4269, 4316, 4337, 4383, 4392, 4453, 4461, 4483, 4484, 4502, 4517, 4533, 4534, 4548, 4566, 4585, 4625, 4642, 4650, 4652, 4665, 4699, 4716, 4721, 4729, 4745, 4773, 4774, 4780, 4836, 4847, 4873, 4894, 4897, 4913, 4920, 4949, 4988, 5033, 5035, 5040, 5062, 5096, 5101, 5134, 5138, 5146, 5163, 5181, 5213, 5219, 5261, 5271, 5272, 5292, 5317, 5339, 5372, 5424, 5430, 5452, 5458, 5480, 5538, 5544, 5570, 5575, 5590, 5642, 5693, 5717, 5725, 5825, 5834, 5938, 6047, 6075, 6083, 6101, 6145, 6161, 6163, 6176, 6181, 6182, 6188, 6204, 6206, 6214, 6231, 6253, 6261, 6264, 6278, 6280, 6299, 6400, 6474, 6491, 6539, 6542, 6552, 6620, 6652, 6662, 6681, 6699, 6708, 6722, 6742, 6764, 6877, 6886, 6897, 6904, 6960, 6964, 6995, 7036, 7046, 7056, 7061, 7073, 7103, 7128, 7138, 7211, 7215, 7252, 7253, 7274, 7295, 7303, 7322, 7326, 7366, 7392, 7440, 7447, 7470, 7480, 7481, 7485, 7588, 7594, 7639, 7693, 7746, 7769, 7775, 7776, 7794, 7849, 7865, 7875, 7895, 7933, 7936, 7951, 7952, 7975, 7997, 8010, 8034, 8036, 8084, 8122, 8138, 8172, 8198, 8199, 8225, 8276, 8311, 8334, 8346, 8357, 8391, 8396, 8402, 8418, 8441, 8443, 8456, 8561, 8573, 8581, 8592, 8630, 8647, 8678, 8703, 8706, 8741, 8816, 8839, 8867, 8869, 8886, 8900, 8953, 9021, 9032, 9033, 9051, 9064, 9083, 9120, 9122, 9148, 9154, 9176, 9183, 9191, 9203, 9206, 9210, 9212, 9222, 9243, 9263, 9264, 9281, 9295, 9310, 9314, 9324, 9395, 9414, 9503, 9506, 9577, 9595, 9596, 9615, 9618, 9686, 9687, 9746, 9757, 9761, 9780, 9781, 9782, 9783, 9796, 9811, 9837, 9839, 9860, 9923, 9941, 9953, 9977, 10030, 10046, 10069, 10133, 10168, 10170, 10176, 10218, 10253, 10297, 10315, 10367, 10401, 10405, 10431, 10444, 10474, 10479, 10503, 10505, 10511, 10538, 10571, 10592, 10678, 10707, 10717, 10723, 10772, 10778, 10795, 10807, 10813, 10861, 10872, 10910, 10925, 10926, 10932, 10962, 10979, 10992, 11017, 11021, 11050, 11121, 11122, 11153, 11169, 11235, 11244, 11249, 11255, 11263, 11269, 11277, 11293, 11325, 11331, 11348, 11361, 11424, 11448, 11459, 11476, 11495, 11547, 11549, 11580, 11590, 11597, 11609, 11638, 11658, 11706, 11735, 11749, 11758, 11774, 11791, 11813, 11831, 11889, 11894, 11904, 11925, 11927, 11942, 11960, 11970, 11988, 11991, 12050, 12052, 12091, 12133, 12144, 12165, 12169, 12189, 12191, 12218, 12246, 12270, 12302, 12315, 12322, 12350, 12357, 12358, 12359, 12372, 12384, 12387, 12408, 12470, 12475], [], [1, 55, 76, 83, 163, 294, 347, 356, 364, 369, 379, 389, 422, 430, 438, 457, 460, 494, 509, 519, 594, 797, 831, 837, 869, 881, 902, 913, 938, 947, 950, 951, 973, 1028, 1044, 1073, 1092, 1136, 1184, 1259, 1305, 1318, 1332, 1340, 1351, 1511, 1522, 1523, 1569, 1571, 1621, 1634, 1675, 1718, 1728, 1829, 1877, 1903, 2024, 2040, 2073, 2078, 2212, 2227, 2255, 2261, 2292, 2317, 2325, 2387, 2461, 2569, 2626, 2637, 2646, 2654, 2713, 2745, 2800, 2807, 2869, 2897, 2915, 2931, 2972, 2992, 3016, 3033, 3086, 3093, 3113, 3120, 3219, 3236, 3237, 3256, 3272, 3291, 3382, 3410, 3460, 3533, 3575, 3597, 3615, 3672, 3681, 3753, 3756, 3771, 3782, 3834, 3910, 3913, 3931, 3962, 3973, 3988, 4054, 4072, 4090, 4105, 4123, 4163, 4178, 4185, 4199, 4205, 4233, 4239, 4266, 4276, 4308, 4315, 4394, 4464, 4476, 4503, 4519, 4539, 4541, 4623, 4746, 4760, 4778, 4819, 4955, 5010, 5022, 5023, 5142, 5150, 5231, 5287, 5307, 5353, 5418, 5435, 5438, 5443, 5447, 5479, 5488, 5501, 5510, 5526, 5613, 5623, 5625, 5674, 5684, 5699, 5712, 5721, 5726, 5735, 5740, 5751, 5780, 5833, 5880, 5889, 5901, 5916, 5939, 5966, 5979, 5982, 6015, 6099, 6104, 6158, 6170, 6196, 6221, 6241, 6279, 6282, 6290, 6348, 6354, 6369, 6391, 6464, 6512, 6527, 6584, 6607, 6639, 6641, 6653, 6654, 6684, 6739, 6788, 6795, 6823, 6833, 6858, 6866, 6884, 6926, 7014, 7022, 7028, 7029, 7076, 7085, 7095, 7119, 7130, 7132, 7193, 7217, 7232, 7271, 7332, 7362, 7370, 7393, 7405, 7415, 7430, 7432, 7449, 7453, 7454, 7475, 7479, 7507, 7510, 7562, 7584, 7587, 7606, 7611, 7671, 7696, 7701, 7764, 7873, 7894, 7901, 7909, 7929, 7960, 8009, 8017, 8043, 8078, 8115, 8135, 8150, 8163, 8206, 8208, 8210, 8219, 8220, 8237, 8241, 8256, 8261, 8282, 8335, 8350, 8354, 8376, 8381, 8541, 8564, 8627, 8631, 8632, 8654, 8714, 8750, 8758, 8775, 8813, 8843, 8893, 8929, 8947, 9002, 9028, 9044, 9046, 9060, 9114, 9127, 9145, 9153, 9178, 9217, 9230, 9233, 9248, 9283, 9297, 9302, 9338, 9370, 9415, 9441, 9481, 9515, 9532, 9540, 9562, 9587, 9604, 9658, 9675, 9715, 9739, 9838, 9855, 9942, 9963, 9978, 10064, 10071, 10078, 10079, 10126, 10175, 10199, 10254, 10256, 10274, 10329, 10330, 10350, 10370, 10433, 10434, 10453, 10489, 10492, 10495, 10497, 10588, 10610, 10633, 10670, 10686, 10709, 10765, 10799, 10808, 10836, 10893, 11000, 11065, 11073, 11115, 11131, 11134, 11205, 11253, 11314, 11367, 11404, 11409, 11419, 11420, 11434, 11469, 11477, 11488, 11504, 11509, 11519, 11542, 11650, 11663, 11687, 11714, 11732, 11765, 11812, 11817, 11835, 11848, 11851, 11852, 11887, 11896, 11915, 11962, 11981, 11996, 12001, 12002, 12008, 12090, 12166, 12230, 12278, 12287, 12320, 12330, 12427, 12438, 12485], [41, 45, 59, 66, 75, 77, 87, 176, 191, 198, 213, 244, 299, 304, 310, 337, 342, 411, 429, 442, 450, 451, 577, 606, 636, 686, 693, 701, 739, 742, 768, 870, 903, 926, 944, 980, 1004, 1174, 1204, 1221, 1258, 1279, 1306, 1334, 1346, 1375, 1380, 1402, 1514, 1516, 1519, 1527, 1543, 1572, 1631, 1684, 1734, 1756, 1761, 1769, 1823, 1893, 1901, 1965, 2002, 2077, 2122, 2123, 2168, 2191, 2269, 2342, 2383, 2402, 2410, 2433, 2434, 2477, 2498, 2566, 2586, 2655, 2688, 2744, 2759, 2760, 2789, 2879, 2898, 2930, 2937, 2986, 3017, 3068, 3074, 3160, 3185, 3222, 3226, 3296, 3309, 3311, 3313, 3339, 3363, 3371, 3449, 3451, 3463, 3479, 3482, 3520, 3530, 3551, 3576, 3612, 3618, 3650, 3721, 3762, 3768, 3793, 3822, 3882, 3884, 3886, 3891, 3990, 4003, 4021, 4046, 4121, 4267, 4275, 4405, 4438, 4449, 4450, 4455, 4460, 4467, 4470, 4481, 4482, 4511, 4521, 4572, 4677, 4705, 4727, 4736, 4777, 4791, 4794, 4861, 4877, 4901, 4906, 4944, 5045, 5089, 5141, 5175, 5222, 5233, 5280, 5288, 5294, 5319, 5336, 5374, 5392, 5422, 5429, 5455, 5496, 5500, 5502, 5511, 5546, 5557, 5632, 5655, 5694, 5731, 5744, 5775, 5879, 5903, 5924, 5932, 5985, 6003, 6112, 6236, 6238, 6276, 6310, 6377, 6413, 6436, 6450, 6460, 6467, 6488, 6578, 6585, 6622, 6668, 6672, 6692, 6737, 6749, 6758, 6792, 6800, 6864, 6943, 6952, 6966, 6983, 6999, 7003, 7010, 7074, 7136, 7137, 7140, 7251, 7345, 7348, 7385, 7386, 7493, 7511, 7528, 7595, 7623, 7634, 7640, 7663, 7678, 7699, 7723, 7727, 7753, 7790, 7809, 7880, 7917, 7921, 8019, 8094, 8104, 8136, 8148, 8156, 8186, 8196, 8250, 8259, 8263, 8264, 8303, 8394, 8512, 8534, 8542, 8543, 8549, 8579, 8637, 8671, 8677, 8702, 8768, 8847, 8864, 8895, 8909, 8917, 8936, 8957, 9034, 9043, 9045, 9058, 9071, 9084, 9101, 9156, 9202, 9211, 9240, 9316, 9344, 9348, 9426, 9432, 9449, 9472, 9489, 9510, 9555, 9568, 9645, 9653, 9711, 9743, 9801, 9850, 9861, 9873, 9890, 9900, 9991, 10012, 10015, 10054, 10063, 10120, 10138, 10177, 10190, 10212, 10221, 10232, 10241, 10244, 10295, 10302, 10387, 10426, 10449, 10477, 10515, 10530, 10540, 10641, 10801, 10817, 10842, 10894, 10924, 10940, 11016, 11032, 11085, 11098, 11109, 11148, 11200, 11220, 11239, 11289, 11336, 11346, 11352, 11362, 11391, 11415, 11427, 11492, 11503, 11530, 11544, 11558, 11620, 11688, 11716, 11723, 11738, 11954, 11974, 11976, 12022, 12042, 12069, 12083, 12129, 12176, 12203, 12238, 12239, 12252, 12266, 12269, 12311, 12353, 12360, 12373, 12411, 12459], [], [], [], [], []]\n"
          ]
        }
      ],
      "source": [
        "print(clusters31)"
      ]
    },
    {
      "cell_type": "code",
      "execution_count": null,
      "metadata": {
        "id": "wGbSO8Re-Tul",
        "colab": {
          "base_uri": "https://localhost:8080/"
        },
        "outputId": "1c716d30-aafe-4f42-d69d-df84b9ec9848"
      },
      "outputs": [
        {
          "output_type": "stream",
          "name": "stdout",
          "text": [
            "(10000, 42)\n"
          ]
        }
      ],
      "source": [
        "print(test.shape)\n",
        "testclusters31,testconf31=predict(test,centroids31)"
      ]
    },
    {
      "cell_type": "code",
      "execution_count": null,
      "metadata": {
        "id": "Q5N7s2wl-Tul",
        "colab": {
          "base_uri": "https://localhost:8080/"
        },
        "outputId": "bec7ac99-1f5c-43b4-a4d7-6f70b9a15004"
      },
      "outputs": [
        {
          "output_type": "stream",
          "name": "stdout",
          "text": [
            "0.5151\n"
          ]
        }
      ],
      "source": [
        "# make confusion test matrix of k = 31 clusters\n",
        "testconfusion31=makeconftest(clusters31,testconf31,cllabel31)\n",
        "print(np.trace(testconfusion31)/sum(sum(testconfusion31)))"
      ]
    },
    {
      "cell_type": "markdown",
      "metadata": {
        "id": "KfGE9RU86C7m"
      },
      "source": [
        "K = 45"
      ]
    },
    {
      "cell_type": "code",
      "execution_count": null,
      "metadata": {
        "id": "gFDU317a53XC",
        "colab": {
          "base_uri": "https://localhost:8080/"
        },
        "outputId": "04c30728-f945-49b2-f01f-36b9bdee6da4"
      },
      "outputs": [
        {
          "output_type": "stream",
          "name": "stdout",
          "text": [
            "(12500, 42)\n",
            "79947165770056.44\n",
            "inf\n",
            "[  0.           2.           9.           0.         520.\n",
            "   0.           0.           0.           0.           0.\n",
            "   0.           0.           0.           0.           0.\n",
            "   0.           0.           0.           0.           0.\n",
            "   0.           0.         507.65602472 507.65602472   0.\n",
            "   0.           0.           0.           1.           0.\n",
            "   0.         255.         255.           1.           0.\n",
            "   1.           0.           0.           0.           0.\n",
            "   0.           4.        ]\n",
            "[  0.           2.           9.           0.         520.\n",
            "   0.           0.           0.           0.           0.\n",
            "   0.           0.           0.           0.           0.\n",
            "   0.           0.           0.           0.           0.\n",
            "   0.           0.         507.65602472 507.65602472   0.\n",
            "   0.           0.           0.           1.           0.\n",
            "   0.         255.         255.           1.           0.\n",
            "   1.           0.           0.           0.           0.\n",
            "   0.           4.        ]\n"
          ]
        }
      ],
      "source": [
        " # Use the k-means function with the train dataset, 45 clusters\n",
        "centroids45,clusters45,confusion45=kmeans(train,45,100,1)"
      ]
    },
    {
      "cell_type": "code",
      "execution_count": null,
      "metadata": {
        "id": "XJDAvr3H8J5c",
        "colab": {
          "base_uri": "https://localhost:8080/"
        },
        "outputId": "fcc1a0dd-41e4-442f-fe93-0b9264363156"
      },
      "outputs": [
        {
          "output_type": "stream",
          "name": "stdout",
          "text": [
            "0.974642028637709\n"
          ]
        }
      ],
      "source": [
        "# make confusion train matrix of k = 45 clusters\n",
        "trainconfusion45,cllabel45=makeconftrain(clusters45,confusion45,centroids45,45)\n",
        "print(np.trace(trainconfusion45)/sum(sum(trainconfusion45)))"
      ]
    },
    {
      "cell_type": "code",
      "execution_count": null,
      "metadata": {
        "id": "UxGyhz9UpHqc",
        "colab": {
          "base_uri": "https://localhost:8080/"
        },
        "outputId": "b3958120-13d1-458b-e015-50bfdb4229e2"
      },
      "outputs": [
        {
          "output_type": "stream",
          "name": "stdout",
          "text": [
            "[[0, 6, 20, 28, 40, 48, 51, 62, 70, 100, 101, 105, 110, 117, 151, 175, 177, 209, 228, 245, 259, 274, 282, 290, 317, 329, 335, 370, 375, 377, 392, 405, 421, 453, 455, 466, 471, 484, 490, 493, 524, 534, 541, 555, 561, 579, 611, 615, 638, 653, 682, 683, 695, 723, 749, 761, 784, 794, 799, 814, 825, 835, 843, 852, 856, 864, 893, 894, 897, 901, 916, 917, 921, 969, 971, 972, 977, 979, 983, 1011, 1013, 1023, 1024, 1035, 1047, 1061, 1068, 1113, 1123, 1135, 1142, 1149, 1150, 1169, 1187, 1191, 1198, 1213, 1225, 1231, 1247, 1257, 1283, 1284, 1294, 1300, 1301, 1308, 1341, 1359, 1364, 1417, 1426, 1456, 1466, 1474, 1481, 1495, 1496, 1551, 1570, 1579, 1582, 1586, 1593, 1610, 1624, 1632, 1640, 1662, 1664, 1707, 1711, 1730, 1740, 1757, 1768, 1775, 1776, 1786, 1788, 1790, 1796, 1809, 1825, 1857, 1874, 1887, 1891, 1895, 1905, 1907, 1938, 1958, 1966, 1977, 1980, 1984, 1992, 1993, 1994, 1996, 1997, 2003, 2010, 2015, 2017, 2020, 2051, 2056, 2061, 2086, 2091, 2098, 2102, 2107, 2115, 2128, 2136, 2137, 2138, 2148, 2164, 2165, 2170, 2177, 2210, 2213, 2222, 2246, 2262, 2298, 2308, 2310, 2311, 2376, 2414, 2415, 2419, 2421, 2462, 2474, 2505, 2517, 2518, 2524, 2525, 2535, 2541, 2555, 2582, 2592, 2604, 2608, 2621, 2668, 2675, 2678, 2680, 2685, 2689, 2716, 2739, 2764, 2799, 2830, 2844, 2847, 2848, 2852, 2887, 2902, 2920, 2948, 2961, 2978, 2985, 2989, 2993, 3005, 3019, 3024, 3036, 3051, 3073, 3078, 3089, 3091, 3094, 3097, 3101, 3104, 3105, 3126, 3137, 3147, 3151, 3154, 3157, 3158, 3168, 3169, 3178, 3190, 3194, 3198, 3293, 3308, 3327, 3364, 3370, 3379, 3418, 3419, 3420, 3424, 3427, 3461, 3468, 3509, 3544, 3549, 3554, 3557, 3599, 3648, 3657, 3683, 3691, 3698, 3707, 3737, 3754, 3763, 3765, 3777, 3781, 3796, 3814, 3816, 3824, 3837, 3838, 3840, 3853, 3871, 3890, 3903, 3908, 3921, 3938, 3942, 3961, 3992, 4001, 4002, 4006, 4011, 4015, 4040, 4056, 4095, 4097, 4112, 4127, 4129, 4153, 4176, 4193, 4244, 4250, 4260, 4263, 4309, 4318, 4322, 4325, 4326, 4341, 4343, 4365, 4380, 4382, 4391, 4402, 4403, 4404, 4406, 4408, 4421, 4436, 4466, 4554, 4555, 4557, 4573, 4581, 4591, 4595, 4613, 4617, 4636, 4666, 4680, 4686, 4687, 4692, 4701, 4730, 4744, 4749, 4753, 4797, 4798, 4825, 4850, 4856, 4860, 4864, 4869, 4900, 4907, 4912, 4930, 4938, 4959, 4970, 4982, 5004, 5011, 5014, 5019, 5042, 5047, 5060, 5078, 5087, 5104, 5105, 5109, 5115, 5136, 5149, 5200, 5205, 5209, 5241, 5244, 5283, 5299, 5315, 5397, 5410, 5412, 5423, 5464, 5472, 5476, 5491, 5509, 5513, 5536, 5541, 5547, 5580, 5594, 5622, 5624, 5636, 5644, 5651, 5661, 5677, 5680, 5683, 5697, 5698, 5703, 5707, 5745, 5776, 5783, 5785, 5803, 5827, 5832, 5839, 5841, 5849, 5866, 5872, 5876, 5891, 5906, 5907, 5920, 5931, 5948, 5950, 5951, 5954, 5975, 5980, 5997, 6012, 6023, 6040, 6056, 6058, 6060, 6088, 6098, 6110, 6114, 6120, 6122, 6124, 6137, 6139, 6140, 6165, 6175, 6178, 6180, 6183, 6210, 6233, 6250, 6307, 6318, 6323, 6343, 6344, 6347, 6355, 6412, 6418, 6422, 6426, 6442, 6457, 6459, 6505, 6506, 6511, 6518, 6520, 6540, 6551, 6553, 6561, 6569, 6587, 6588, 6589, 6591, 6605, 6627, 6674, 6694, 6697, 6710, 6713, 6728, 6745, 6747, 6751, 6752, 6759, 6780, 6789, 6790, 6797, 6810, 6828, 6839, 6899, 6902, 6919, 6928, 6933, 6947, 6957, 6970, 6973, 7004, 7020, 7021, 7026, 7044, 7057, 7063, 7086, 7091, 7141, 7147, 7156, 7157, 7166, 7173, 7175, 7229, 7244, 7250, 7263, 7272, 7298, 7301, 7305, 7310, 7328, 7337, 7342, 7346, 7369, 7409, 7410, 7423, 7435, 7439, 7476, 7500, 7509, 7521, 7523, 7525, 7543, 7545, 7548, 7552, 7554, 7563, 7569, 7576, 7578, 7600, 7604, 7607, 7624, 7649, 7654, 7656, 7662, 7666, 7675, 7682, 7687, 7692, 7694, 7706, 7719, 7734, 7772, 7786, 7789, 7828, 7829, 7851, 7853, 7857, 7869, 7874, 7891, 7893, 7899, 7913, 7919, 7931, 7945, 7974, 7996, 8000, 8023, 8031, 8052, 8054, 8062, 8082, 8098, 8099, 8128, 8152, 8164, 8190, 8191, 8204, 8205, 8228, 8234, 8277, 8288, 8291, 8306, 8318, 8351, 8353, 8369, 8377, 8378, 8379, 8382, 8410, 8412, 8427, 8429, 8432, 8437, 8442, 8470, 8472, 8495, 8522, 8544, 8548, 8550, 8552, 8555, 8562, 8563, 8565, 8571, 8639, 8644, 8650, 8660, 8667, 8695, 8712, 8721, 8722, 8725, 8733, 8746, 8751, 8761, 8771, 8791, 8798, 8805, 8820, 8829, 8831, 8863, 8865, 8871, 8914, 8923, 8933, 8938, 8939, 8969, 8970, 9067, 9078, 9098, 9104, 9106, 9128, 9157, 9166, 9169, 9196, 9199, 9220, 9261, 9270, 9271, 9298, 9306, 9319, 9339, 9340, 9343, 9347, 9353, 9362, 9371, 9393, 9417, 9422, 9438, 9469, 9475, 9486, 9488, 9514, 9517, 9533, 9548, 9570, 9579, 9582, 9586, 9598, 9641, 9672, 9683, 9690, 9695, 9696, 9700, 9701, 9706, 9708, 9742, 9807, 9808, 9817, 9827, 9836, 9843, 9846, 9852, 9866, 9867, 9869, 9876, 9885, 9889, 9918, 9931, 9959, 9992, 10004, 10007, 10010, 10011, 10027, 10038, 10048, 10061, 10106, 10108, 10112, 10115, 10123, 10143, 10145, 10162, 10173, 10174, 10178, 10181, 10188, 10217, 10251, 10266, 10276, 10277, 10292, 10308, 10321, 10333, 10336, 10359, 10374, 10382, 10384, 10424, 10446, 10457, 10483, 10526, 10578, 10614, 10626, 10629, 10679, 10694, 10697, 10701, 10713, 10737, 10743, 10747, 10755, 10757, 10762, 10766, 10770, 10786, 10792, 10806, 10830, 10833, 10835, 10853, 10862, 10870, 10896, 10916, 10919, 10945, 10981, 11010, 11020, 11023, 11055, 11112, 11123, 11130, 11138, 11151, 11152, 11160, 11164, 11195, 11208, 11211, 11226, 11241, 11250, 11270, 11285, 11291, 11294, 11297, 11298, 11307, 11349, 11356, 11373, 11383, 11405, 11454, 11455, 11458, 11464, 11465, 11468, 11487, 11522, 11523, 11546, 11548, 11566, 11582, 11606, 11640, 11645, 11669, 11673, 11675, 11677, 11690, 11694, 11697, 11741, 11751, 11760, 11773, 11775, 11776, 11782, 11798, 11802, 11807, 11828, 11838, 11890, 11892, 11901, 11923, 11939, 11947, 11949, 11958, 11967, 11985, 11987, 12000, 12012, 12043, 12057, 12063, 12109, 12111, 12126, 12138, 12145, 12151, 12158, 12163, 12171, 12194, 12245, 12248, 12259, 12260, 12272, 12295, 12296, 12324, 12334, 12337, 12349, 12380, 12392, 12407, 12414, 12415, 12426, 12429, 12444, 12449, 12468, 12469, 12472, 12480, 12487, 12493], [82, 124, 187, 229, 237, 324, 413, 477, 559, 597, 608, 616, 668, 707, 747, 810, 948, 1126, 1255, 1264, 1289, 1320, 1547, 1647, 1683, 1712, 1785, 2058, 2256, 2280, 2332, 2452, 2625, 2631, 2722, 2728, 2758, 2778, 2791, 2793, 2818, 2845, 3100, 3108, 3204, 3298, 3342, 3346, 3395, 3400, 3466, 3494, 3682, 3873, 3959, 3970, 3998, 4047, 4050, 4073, 4119, 4197, 4218, 4257, 4259, 4307, 4385, 4565, 4567, 4621, 4657, 4733, 4742, 4748, 4779, 4782, 5073, 5100, 5102, 5156, 5268, 5291, 5300, 5395, 5414, 5453, 5527, 5555, 5561, 5654, 5758, 5816, 6026, 6071, 6111, 6116, 6304, 6335, 6404, 6417, 6489, 6595, 6647, 6667, 6835, 6851, 6937, 6984, 6993, 7127, 7213, 7307, 7323, 7352, 7398, 7474, 7564, 7583, 7708, 7739, 7754, 7987, 8027, 8047, 8147, 8169, 8179, 8223, 8313, 8455, 8480, 8487, 8507, 8649, 8696, 8752, 8764, 8815, 8878, 8883, 8966, 8982, 8993, 8999, 9003, 9013, 9025, 9117, 9141, 9155, 9170, 9177, 9249, 9364, 9462, 9732, 9733, 9734, 9760, 9871, 9875, 9881, 9892, 9922, 9936, 9998, 9999, 10072, 10075, 10153, 10154, 10265, 10307, 10502, 10622, 10735, 10857, 10902, 11135, 11186, 11237, 11247, 11267, 11286, 11384, 11398, 11428, 11431, 11446, 11538, 11592, 11653, 11712, 11730, 11772, 11784, 11857, 11943, 11959, 11969, 12026, 12044, 12056, 12137, 12147, 12177, 12181, 12220, 12420], [9, 71, 89, 142, 344, 491, 501, 567, 628, 699, 734, 949, 1036, 1089, 1106, 1114, 1293, 1339, 1580, 1710, 1749, 1751, 1799, 1870, 1912, 1930, 1936, 1999, 2080, 2097, 2112, 2258, 2312, 2385, 2454, 2478, 2734, 3031, 3035, 3044, 3195, 3501, 3609, 3676, 3724, 3759, 3766, 3826, 3851, 3905, 3911, 3976, 3997, 4051, 4052, 4096, 4169, 4209, 4289, 4352, 4769, 5012, 5153, 5187, 5212, 5226, 5257, 5400, 5403, 5408, 5549, 5578, 5628, 5760, 5952, 6011, 6147, 6215, 6316, 6361, 6388, 6646, 6843, 7042, 7075, 7089, 7110, 7123, 7135, 7220, 7265, 7349, 7389, 7530, 7579, 7731, 7762, 7862, 7915, 7965, 7978, 8006, 8116, 8170, 8242, 8262, 8305, 8511, 8540, 8572, 8628, 8638, 8701, 8715, 8731, 8772, 8801, 8846, 8851, 8952, 8984, 8998, 9072, 9193, 9228, 9447, 9476, 9542, 9546, 9630, 9660, 9669, 9707, 9751, 9791, 9858, 9908, 9940, 9962, 10014, 10021, 10090, 10116, 10136, 10147, 10224, 10278, 10328, 10366, 10394, 10599, 10887, 11078, 11149, 11264, 11304, 11442, 11479, 11512, 11555, 11564, 11717, 11806, 11909, 11941, 11944, 11946, 12195, 12206, 12233, 12313, 12388, 12483], [2, 3, 4, 7, 14, 17, 21, 22, 23, 24, 26, 27, 30, 31, 32, 33, 34, 37, 39, 43, 47, 50, 54, 56, 57, 58, 63, 69, 79, 80, 85, 88, 96, 98, 99, 102, 109, 114, 115, 118, 119, 121, 123, 125, 130, 131, 136, 138, 139, 140, 141, 144, 149, 150, 154, 156, 157, 158, 161, 164, 166, 170, 171, 173, 179, 181, 182, 188, 189, 190, 193, 194, 195, 196, 199, 200, 201, 204, 205, 208, 217, 218, 219, 220, 223, 225, 227, 230, 232, 233, 234, 235, 240, 241, 243, 247, 249, 251, 256, 257, 263, 264, 266, 268, 270, 275, 276, 277, 279, 280, 281, 283, 284, 286, 287, 289, 291, 293, 295, 296, 300, 302, 306, 309, 311, 318, 319, 322, 323, 327, 330, 332, 333, 336, 340, 343, 345, 346, 348, 351, 355, 357, 358, 361, 362, 368, 373, 383, 384, 390, 391, 393, 396, 397, 398, 404, 406, 408, 409, 410, 412, 414, 416, 417, 419, 420, 424, 428, 431, 433, 435, 439, 440, 443, 445, 446, 447, 452, 459, 467, 468, 472, 473, 474, 475, 479, 481, 485, 487, 488, 489, 498, 499, 502, 513, 515, 517, 523, 530, 532, 535, 537, 538, 542, 545, 546, 549, 552, 553, 571, 573, 574, 575, 581, 583, 586, 587, 588, 590, 591, 599, 600, 603, 609, 618, 621, 622, 624, 625, 627, 629, 632, 633, 637, 639, 640, 642, 645, 646, 647, 648, 650, 651, 663, 665, 666, 670, 671, 675, 676, 680, 685, 688, 690, 691, 692, 696, 697, 700, 702, 704, 706, 708, 709, 710, 711, 712, 713, 715, 716, 724, 726, 728, 729, 735, 737, 740, 741, 744, 748, 751, 755, 756, 758, 759, 764, 766, 770, 772, 773, 774, 777, 778, 780, 783, 786, 787, 788, 790, 791, 801, 804, 806, 807, 812, 816, 817, 820, 822, 824, 826, 827, 828, 830, 833, 834, 838, 840, 854, 855, 857, 859, 860, 866, 867, 871, 875, 876, 879, 882, 884, 887, 890, 899, 904, 907, 908, 909, 910, 911, 912, 915, 918, 919, 920, 922, 923, 928, 929, 930, 936, 937, 940, 942, 943, 954, 959, 961, 962, 963, 964, 965, 968, 975, 976, 978, 984, 985, 986, 987, 988, 990, 991, 992, 993, 997, 1000, 1005, 1009, 1014, 1017, 1019, 1025, 1027, 1029, 1030, 1033, 1034, 1038, 1039, 1040, 1041, 1043, 1046, 1048, 1050, 1053, 1054, 1055, 1059, 1060, 1062, 1063, 1064, 1065, 1069, 1071, 1074, 1076, 1079, 1081, 1082, 1083, 1088, 1095, 1098, 1101, 1102, 1103, 1104, 1109, 1110, 1111, 1115, 1116, 1118, 1120, 1121, 1122, 1127, 1130, 1131, 1132, 1133, 1134, 1140, 1141, 1144, 1145, 1146, 1147, 1148, 1151, 1154, 1157, 1158, 1159, 1161, 1163, 1164, 1166, 1171, 1173, 1176, 1182, 1189, 1190, 1192, 1194, 1196, 1197, 1201, 1205, 1206, 1208, 1210, 1212, 1220, 1223, 1226, 1228, 1229, 1230, 1232, 1233, 1234, 1235, 1236, 1237, 1238, 1240, 1241, 1242, 1243, 1249, 1251, 1254, 1260, 1261, 1262, 1263, 1266, 1267, 1268, 1269, 1273, 1275, 1276, 1278, 1280, 1281, 1282, 1287, 1292, 1296, 1299, 1302, 1307, 1309, 1312, 1317, 1319, 1321, 1322, 1324, 1325, 1327, 1329, 1331, 1333, 1337, 1338, 1342, 1348, 1350, 1357, 1358, 1360, 1368, 1369, 1371, 1372, 1378, 1379, 1382, 1383, 1384, 1389, 1392, 1394, 1397, 1399, 1400, 1401, 1404, 1405, 1408, 1411, 1414, 1419, 1420, 1424, 1425, 1431, 1432, 1433, 1434, 1437, 1438, 1441, 1443, 1445, 1451, 1453, 1455, 1458, 1460, 1461, 1462, 1464, 1468, 1470, 1471, 1472, 1473, 1475, 1476, 1478, 1479, 1482, 1486, 1488, 1489, 1491, 1493, 1494, 1498, 1500, 1501, 1510, 1513, 1515, 1517, 1518, 1530, 1532, 1533, 1540, 1541, 1542, 1544, 1546, 1548, 1552, 1553, 1554, 1556, 1557, 1558, 1560, 1562, 1566, 1573, 1574, 1577, 1578, 1587, 1589, 1590, 1592, 1594, 1595, 1597, 1598, 1599, 1600, 1602, 1604, 1605, 1606, 1607, 1611, 1612, 1614, 1615, 1616, 1617, 1626, 1635, 1636, 1638, 1639, 1642, 1643, 1644, 1649, 1650, 1653, 1654, 1660, 1661, 1665, 1671, 1673, 1677, 1678, 1679, 1680, 1681, 1687, 1689, 1690, 1691, 1693, 1702, 1703, 1705, 1706, 1708, 1709, 1715, 1717, 1720, 1721, 1722, 1723, 1727, 1731, 1733, 1735, 1736, 1737, 1738, 1739, 1741, 1743, 1750, 1752, 1755, 1760, 1764, 1772, 1778, 1779, 1780, 1782, 1787, 1792, 1795, 1798, 1801, 1802, 1805, 1807, 1808, 1810, 1814, 1818, 1821, 1822, 1827, 1828, 1830, 1835, 1837, 1838, 1839, 1842, 1843, 1846, 1851, 1852, 1854, 1860, 1861, 1862, 1863, 1864, 1867, 1872, 1875, 1876, 1878, 1879, 1881, 1882, 1883, 1888, 1889, 1890, 1892, 1894, 1898, 1904, 1909, 1910, 1915, 1918, 1925, 1927, 1928, 1929, 1931, 1935, 1937, 1940, 1942, 1944, 1945, 1950, 1955, 1956, 1960, 1962, 1964, 1967, 1970, 1973, 1975, 1982, 1986, 1989, 2001, 2004, 2005, 2006, 2008, 2016, 2019, 2021, 2022, 2025, 2026, 2027, 2029, 2032, 2033, 2035, 2036, 2041, 2048, 2049, 2053, 2059, 2060, 2063, 2064, 2069, 2070, 2071, 2072, 2074, 2075, 2076, 2079, 2082, 2085, 2087, 2088, 2089, 2090, 2092, 2094, 2096, 2100, 2101, 2103, 2104, 2106, 2111, 2116, 2117, 2119, 2120, 2121, 2130, 2132, 2133, 2134, 2135, 2141, 2144, 2145, 2149, 2152, 2157, 2158, 2159, 2160, 2162, 2166, 2171, 2175, 2176, 2179, 2180, 2181, 2185, 2186, 2187, 2188, 2189, 2190, 2192, 2193, 2196, 2197, 2200, 2202, 2205, 2206, 2207, 2208, 2209, 2214, 2217, 2218, 2220, 2224, 2226, 2229, 2230, 2231, 2233, 2235, 2236, 2238, 2239, 2240, 2242, 2247, 2248, 2259, 2263, 2264, 2265, 2266, 2268, 2270, 2271, 2274, 2275, 2281, 2285, 2288, 2291, 2297, 2299, 2300, 2301, 2304, 2305, 2306, 2307, 2320, 2321, 2322, 2324, 2328, 2330, 2333, 2334, 2336, 2339, 2340, 2344, 2346, 2347, 2348, 2349, 2350, 2352, 2353, 2354, 2358, 2359, 2361, 2366, 2367, 2369, 2372, 2373, 2377, 2378, 2379, 2382, 2384, 2388, 2389, 2390, 2392, 2394, 2395, 2396, 2397, 2398, 2400, 2401, 2403, 2405, 2409, 2417, 2418, 2422, 2424, 2427, 2428, 2429, 2431, 2432, 2435, 2436, 2437, 2439, 2441, 2443, 2444, 2448, 2450, 2451, 2453, 2463, 2465, 2467, 2472, 2480, 2481, 2485, 2486, 2488, 2490, 2493, 2494, 2496, 2500, 2501, 2502, 2503, 2508, 2509, 2511, 2519, 2520, 2522, 2523, 2527, 2528, 2530, 2536, 2538, 2540, 2545, 2553, 2556, 2557, 2565, 2568, 2572, 2574, 2575, 2580, 2581, 2583, 2584, 2588, 2591, 2593, 2594, 2596, 2597, 2598, 2599, 2600, 2601, 2602, 2605, 2609, 2611, 2612, 2613, 2628, 2633, 2636, 2638, 2641, 2642, 2643, 2644, 2645, 2648, 2650, 2652, 2657, 2659, 2662, 2664, 2670, 2672, 2681, 2683, 2693, 2696, 2697, 2698, 2699, 2703, 2704, 2707, 2708, 2711, 2712, 2714, 2715, 2717, 2719, 2727, 2731, 2733, 2735, 2736, 2737, 2738, 2740, 2742, 2743, 2746, 2747, 2748, 2749, 2753, 2755, 2762, 2763, 2765, 2769, 2770, 2772, 2773, 2775, 2776, 2777, 2780, 2781, 2782, 2784, 2786, 2787, 2790, 2795, 2796, 2803, 2805, 2808, 2809, 2810, 2813, 2819, 2821, 2823, 2824, 2826, 2827, 2833, 2835, 2836, 2837, 2839, 2846, 2849, 2850, 2851, 2853, 2854, 2855, 2856, 2857, 2858, 2860, 2864, 2870, 2873, 2875, 2880, 2882, 2883, 2884, 2886, 2888, 2889, 2891, 2896, 2900, 2904, 2907, 2910, 2912, 2916, 2917, 2921, 2922, 2924, 2925, 2926, 2927, 2932, 2936, 2938, 2939, 2940, 2945, 2949, 2951, 2952, 2953, 2954, 2960, 2962, 2963, 2965, 2966, 2969, 2970, 2973, 2975, 2980, 2983, 2984, 2987, 2990, 2991, 2994, 2995, 3000, 3002, 3003, 3004, 3007, 3010, 3011, 3012, 3013, 3014, 3018, 3021, 3022, 3023, 3025, 3026, 3027, 3032, 3034, 3038, 3040, 3041, 3046, 3050, 3052, 3055, 3057, 3059, 3060, 3061, 3062, 3071, 3077, 3079, 3080, 3081, 3084, 3092, 3095, 3099, 3102, 3106, 3109, 3110, 3111, 3116, 3117, 3119, 3121, 3124, 3128, 3130, 3132, 3135, 3138, 3140, 3145, 3146, 3148, 3149, 3150, 3152, 3155, 3161, 3162, 3166, 3167, 3170, 3171, 3172, 3174, 3177, 3180, 3182, 3191, 3192, 3199, 3201, 3202, 3205, 3206, 3210, 3212, 3217, 3220, 3224, 3227, 3228, 3229, 3230, 3233, 3234, 3235, 3239, 3247, 3248, 3250, 3257, 3260, 3263, 3264, 3265, 3269, 3270, 3271, 3273, 3280, 3281, 3283, 3285, 3287, 3294, 3305, 3306, 3307, 3312, 3314, 3315, 3318, 3319, 3320, 3321, 3322, 3324, 3325, 3329, 3330, 3331, 3335, 3336, 3337, 3348, 3355, 3356, 3357, 3359, 3362, 3365, 3366, 3367, 3369, 3372, 3373, 3375, 3378, 3381, 3386, 3387, 3388, 3389, 3390, 3391, 3393, 3394, 3399, 3401, 3402, 3404, 3405, 3406, 3407, 3409, 3414, 3416, 3417, 3429, 3430, 3434, 3436, 3437, 3440, 3444, 3445, 3450, 3455, 3467, 3471, 3473, 3475, 3476, 3477, 3480, 3483, 3484, 3486, 3487, 3488, 3492, 3493, 3497, 3498, 3499, 3503, 3504, 3505, 3507, 3508, 3512, 3513, 3514, 3518, 3526, 3527, 3528, 3529, 3531, 3532, 3534, 3535, 3536, 3540, 3541, 3542, 3543, 3546, 3547, 3548, 3550, 3552, 3559, 3561, 3562, 3565, 3568, 3570, 3571, 3572, 3573, 3578, 3582, 3584, 3587, 3592, 3594, 3598, 3601, 3603, 3606, 3611, 3613, 3616, 3617, 3619, 3621, 3624, 3625, 3626, 3627, 3628, 3629, 3631, 3633, 3634, 3635, 3636, 3638, 3639, 3640, 3643, 3646, 3651, 3652, 3654, 3658, 3659, 3660, 3661, 3662, 3663, 3664, 3667, 3668, 3669, 3670, 3671, 3673, 3674, 3677, 3680, 3690, 3694, 3697, 3700, 3702, 3703, 3704, 3705, 3709, 3713, 3715, 3717, 3719, 3720, 3722, 3723, 3727, 3728, 3729, 3730, 3734, 3740, 3741, 3743, 3745, 3746, 3748, 3749, 3755, 3757, 3758, 3760, 3761, 3764, 3769, 3770, 3772, 3773, 3775, 3776, 3779, 3783, 3784, 3785, 3789, 3791, 3792, 3794, 3797, 3800, 3802, 3806, 3810, 3813, 3815, 3817, 3819, 3820, 3821, 3823, 3829, 3833, 3839, 3844, 3845, 3847, 3849, 3850, 3854, 3855, 3857, 3859, 3863, 3867, 3869, 3870, 3875, 3877, 3878, 3879, 3881, 3885, 3889, 3892, 3893, 3895, 3897, 3898, 3899, 3900, 3907, 3914, 3916, 3919, 3920, 3922, 3925, 3926, 3927, 3929, 3930, 3933, 3936, 3937, 3940, 3943, 3946, 3947, 3948, 3950, 3952, 3955, 3957, 3958, 3960, 3965, 3969, 3974, 3977, 3980, 3981, 3982, 3983, 3985, 3986, 3989, 3993, 3999, 4005, 4007, 4010, 4012, 4013, 4016, 4018, 4019, 4023, 4025, 4026, 4027, 4029, 4033, 4034, 4036, 4037, 4039, 4042, 4043, 4048, 4055, 4058, 4059, 4060, 4063, 4065, 4067, 4074, 4076, 4079, 4081, 4082, 4083, 4085, 4087, 4089, 4093, 4094, 4100, 4102, 4103, 4104, 4106, 4107, 4113, 4114, 4117, 4122, 4124, 4126, 4130, 4132, 4133, 4135, 4136, 4137, 4139, 4146, 4151, 4154, 4157, 4172, 4173, 4179, 4183, 4187, 4192, 4196, 4198, 4200, 4201, 4202, 4204, 4206, 4207, 4208, 4210, 4211, 4212, 4214, 4223, 4225, 4226, 4228, 4230, 4235, 4237, 4238, 4242, 4245, 4246, 4248, 4249, 4251, 4252, 4254, 4255, 4256, 4261, 4270, 4272, 4277, 4279, 4280, 4282, 4285, 4291, 4294, 4295, 4296, 4297, 4300, 4301, 4313, 4314, 4319, 4323, 4324, 4327, 4328, 4329, 4330, 4333, 4336, 4338, 4339, 4340, 4342, 4346, 4351, 4353, 4354, 4356, 4359, 4360, 4361, 4363, 4364, 4367, 4369, 4371, 4374, 4379, 4381, 4387, 4388, 4400, 4410, 4411, 4413, 4415, 4418, 4420, 4422, 4424, 4426, 4427, 4428, 4429, 4430, 4431, 4435, 4437, 4439, 4441, 4442, 4444, 4448, 4451, 4462, 4463, 4468, 4469, 4472, 4474, 4477, 4479, 4485, 4489, 4490, 4491, 4492, 4493, 4498, 4499, 4501, 4505, 4513, 4514, 4515, 4518, 4520, 4530, 4537, 4538, 4542, 4543, 4545, 4550, 4551, 4553, 4559, 4560, 4562, 4568, 4574, 4575, 4577, 4579, 4580, 4583, 4584, 4588, 4589, 4590, 4596, 4597, 4600, 4602, 4604, 4607, 4612, 4614, 4615, 4622, 4626, 4630, 4631, 4632, 4633, 4634, 4637, 4638, 4639, 4640, 4644, 4645, 4646, 4648, 4653, 4654, 4655, 4656, 4658, 4660, 4662, 4663, 4664, 4667, 4668, 4670, 4672, 4673, 4674, 4679, 4682, 4689, 4691, 4696, 4698, 4700, 4702, 4703, 4704, 4706, 4711, 4713, 4714, 4717, 4719, 4722, 4724, 4725, 4726, 4731, 4734, 4737, 4752, 4755, 4757, 4759, 4763, 4766, 4767, 4768, 4770, 4771, 4772, 4781, 4787, 4788, 4790, 4793, 4796, 4799, 4800, 4802, 4803, 4804, 4807, 4808, 4810, 4816, 4817, 4818, 4820, 4824, 4827, 4832, 4838, 4839, 4841, 4843, 4844, 4845, 4848, 4853, 4855, 4859, 4862, 4863, 4866, 4868, 4871, 4874, 4876, 4878, 4879, 4880, 4884, 4885, 4887, 4888, 4889, 4890, 4891, 4896, 4899, 4904, 4905, 4908, 4909, 4910, 4911, 4914, 4915, 4916, 4917, 4918, 4919, 4922, 4923, 4925, 4926, 4927, 4929, 4932, 4936, 4937, 4941, 4943, 4948, 4950, 4952, 4954, 4956, 4960, 4961, 4962, 4966, 4969, 4971, 4973, 4974, 4975, 4977, 4984, 4986, 4987, 4989, 4991, 4992, 4993, 4995, 4998, 5000, 5005, 5007, 5008, 5009, 5015, 5017, 5024, 5025, 5028, 5029, 5038, 5039, 5041, 5046, 5048, 5049, 5052, 5053, 5056, 5057, 5059, 5061, 5064, 5066, 5067, 5070, 5072, 5075, 5076, 5080, 5081, 5084, 5085, 5086, 5091, 5093, 5094, 5097, 5099, 5106, 5108, 5110, 5111, 5112, 5116, 5117, 5119, 5123, 5125, 5127, 5128, 5129, 5130, 5131, 5135, 5137, 5140, 5143, 5144, 5151, 5155, 5158, 5159, 5161, 5162, 5164, 5165, 5166, 5167, 5168, 5170, 5171, 5172, 5173, 5174, 5176, 5178, 5182, 5185, 5189, 5190, 5191, 5192, 5193, 5197, 5198, 5201, 5203, 5204, 5206, 5207, 5215, 5216, 5221, 5224, 5227, 5228, 5229, 5237, 5239, 5243, 5245, 5246, 5248, 5249, 5250, 5252, 5254, 5255, 5256, 5260, 5265, 5267, 5270, 5273, 5274, 5277, 5278, 5282, 5285, 5286, 5289, 5296, 5301, 5302, 5303, 5304, 5305, 5306, 5308, 5313, 5320, 5322, 5323, 5324, 5325, 5328, 5329, 5331, 5334, 5335, 5340, 5341, 5342, 5343, 5344, 5346, 5347, 5350, 5351, 5352, 5355, 5357, 5360, 5364, 5365, 5369, 5375, 5377, 5378, 5379, 5380, 5382, 5384, 5385, 5386, 5388, 5389, 5393, 5401, 5402, 5405, 5411, 5413, 5416, 5417, 5419, 5425, 5426, 5427, 5428, 5431, 5433, 5437, 5439, 5441, 5442, 5444, 5445, 5446, 5448, 5456, 5459, 5460, 5461, 5462, 5471, 5473, 5474, 5475, 5482, 5485, 5490, 5493, 5495, 5498, 5499, 5503, 5504, 5507, 5508, 5512, 5514, 5515, 5517, 5518, 5524, 5525, 5528, 5529, 5531, 5537, 5539, 5540, 5543, 5551, 5553, 5558, 5559, 5560, 5567, 5569, 5571, 5572, 5573, 5574, 5577, 5579, 5581, 5582, 5583, 5584, 5587, 5588, 5589, 5592, 5597, 5601, 5602, 5604, 5605, 5610, 5611, 5614, 5615, 5619, 5620, 5621, 5626, 5633, 5634, 5635, 5637, 5638, 5640, 5645, 5646, 5647, 5648, 5650, 5652, 5656, 5659, 5660, 5663, 5666, 5667, 5668, 5669, 5678, 5686, 5687, 5688, 5689, 5691, 5700, 5701, 5705, 5710, 5711, 5714, 5718, 5720, 5722, 5723, 5724, 5727, 5728, 5729, 5730, 5736, 5738, 5739, 5741, 5747, 5748, 5749, 5750, 5757, 5759, 5762, 5763, 5764, 5766, 5769, 5770, 5771, 5773, 5774, 5777, 5778, 5779, 5782, 5786, 5788, 5790, 5791, 5792, 5793, 5795, 5796, 5799, 5800, 5802, 5806, 5807, 5809, 5811, 5812, 5817, 5822, 5823, 5829, 5831, 5838, 5842, 5843, 5844, 5848, 5851, 5852, 5853, 5855, 5856, 5857, 5858, 5860, 5861, 5864, 5868, 5870, 5871, 5873, 5878, 5882, 5883, 5884, 5888, 5893, 5894, 5895, 5896, 5897, 5899, 5904, 5905, 5909, 5910, 5912, 5915, 5917, 5918, 5919, 5921, 5923, 5926, 5927, 5933, 5934, 5936, 5937, 5944, 5947, 5949, 5956, 5957, 5958, 5959, 5961, 5962, 5963, 5967, 5968, 5969, 5970, 5971, 5972, 5974, 5981, 5983, 5986, 5987, 5988, 5989, 5990, 5992, 5995, 5999, 6000, 6002, 6004, 6008, 6013, 6014, 6022, 6025, 6029, 6032, 6033, 6034, 6035, 6037, 6044, 6046, 6055, 6061, 6063, 6064, 6065, 6068, 6069, 6072, 6073, 6074, 6076, 6079, 6081, 6082, 6085, 6086, 6089, 6090, 6091, 6092, 6094, 6095, 6102, 6105, 6106, 6109, 6113, 6115, 6119, 6123, 6128, 6129, 6131, 6133, 6135, 6141, 6142, 6144, 6146, 6149, 6150, 6152, 6153, 6154, 6155, 6156, 6157, 6160, 6162, 6172, 6173, 6174, 6186, 6187, 6193, 6194, 6201, 6203, 6207, 6209, 6213, 6216, 6219, 6220, 6223, 6224, 6226, 6229, 6230, 6232, 6234, 6235, 6239, 6243, 6247, 6249, 6252, 6254, 6262, 6263, 6266, 6267, 6268, 6272, 6277, 6283, 6285, 6286, 6288, 6289, 6292, 6295, 6296, 6298, 6300, 6301, 6303, 6305, 6306, 6314, 6315, 6320, 6322, 6324, 6328, 6330, 6332, 6333, 6334, 6337, 6338, 6339, 6345, 6346, 6350, 6353, 6358, 6359, 6360, 6362, 6363, 6365, 6367, 6368, 6370, 6375, 6379, 6380, 6384, 6385, 6386, 6387, 6389, 6390, 6395, 6396, 6399, 6403, 6405, 6406, 6407, 6411, 6415, 6416, 6420, 6421, 6423, 6424, 6425, 6427, 6429, 6433, 6435, 6437, 6438, 6444, 6451, 6452, 6454, 6461, 6463, 6465, 6468, 6469, 6472, 6478, 6479, 6480, 6487, 6494, 6495, 6496, 6497, 6499, 6501, 6502, 6503, 6508, 6515, 6517, 6521, 6522, 6523, 6531, 6532, 6533, 6537, 6543, 6544, 6545, 6546, 6547, 6548, 6549, 6554, 6556, 6557, 6558, 6562, 6564, 6567, 6568, 6571, 6572, 6575, 6577, 6590, 6600, 6601, 6602, 6603, 6608, 6609, 6612, 6613, 6614, 6618, 6619, 6623, 6625, 6628, 6629, 6631, 6638, 6640, 6644, 6645, 6655, 6656, 6657, 6658, 6659, 6661, 6663, 6664, 6665, 6671, 6675, 6679, 6680, 6683, 6685, 6686, 6687, 6688, 6689, 6695, 6698, 6701, 6703, 6704, 6705, 6706, 6709, 6711, 6712, 6714, 6719, 6720, 6723, 6724, 6725, 6727, 6729, 6730, 6732, 6733, 6736, 6740, 6741, 6743, 6744, 6748, 6753, 6756, 6757, 6761, 6762, 6765, 6767, 6768, 6769, 6772, 6773, 6776, 6778, 6779, 6781, 6782, 6787, 6791, 6793, 6796, 6802, 6805, 6807, 6808, 6811, 6812, 6814, 6820, 6824, 6826, 6827, 6829, 6830, 6831, 6837, 6842, 6844, 6849, 6853, 6854, 6859, 6860, 6861, 6863, 6867, 6868, 6872, 6876, 6883, 6885, 6887, 6888, 6892, 6894, 6896, 6901, 6903, 6906, 6907, 6912, 6914, 6915, 6916, 6917, 6918, 6921, 6922, 6923, 6924, 6925, 6927, 6930, 6932, 6936, 6938, 6939, 6942, 6944, 6946, 6949, 6951, 6954, 6962, 6963, 6965, 6968, 6974, 6975, 6976, 6977, 6979, 6980, 6986, 6987, 6992, 6994, 6996, 7000, 7006, 7009, 7015, 7017, 7018, 7019, 7023, 7024, 7025, 7027, 7031, 7032, 7034, 7038, 7039, 7040, 7041, 7047, 7048, 7051, 7052, 7053, 7054, 7055, 7062, 7064, 7066, 7068, 7071, 7078, 7084, 7090, 7094, 7097, 7098, 7099, 7104, 7107, 7111, 7112, 7113, 7115, 7116, 7117, 7120, 7122, 7124, 7125, 7126, 7129, 7131, 7133, 7143, 7146, 7148, 7150, 7151, 7153, 7155, 7158, 7160, 7177, 7178, 7180, 7181, 7182, 7187, 7188, 7191, 7192, 7195, 7196, 7197, 7198, 7199, 7200, 7201, 7202, 7204, 7205, 7208, 7209, 7210, 7214, 7219, 7221, 7222, 7224, 7227, 7228, 7230, 7239, 7242, 7243, 7248, 7249, 7255, 7257, 7258, 7264, 7266, 7268, 7269, 7270, 7273, 7276, 7277, 7278, 7282, 7283, 7284, 7286, 7287, 7288, 7290, 7291, 7293, 7294, 7297, 7299, 7302, 7306, 7308, 7312, 7314, 7315, 7317, 7318, 7319, 7320, 7321, 7327, 7329, 7330, 7333, 7334, 7339, 7344, 7347, 7350, 7353, 7354, 7357, 7358, 7361, 7367, 7368, 7371, 7372, 7373, 7374, 7375, 7378, 7379, 7381, 7382, 7388, 7391, 7395, 7397, 7401, 7403, 7406, 7414, 7416, 7419, 7420, 7425, 7428, 7429, 7436, 7437, 7438, 7442, 7445, 7450, 7451, 7455, 7457, 7458, 7461, 7463, 7464, 7467, 7469, 7471, 7473, 7483, 7484, 7487, 7489, 7491, 7494, 7496, 7497, 7498, 7499, 7502, 7505, 7506, 7508, 7512, 7514, 7519, 7520, 7522, 7524, 7526, 7527, 7531, 7532, 7534, 7535, 7536, 7537, 7546, 7550, 7553, 7556, 7557, 7565, 7566, 7567, 7573, 7575, 7577, 7582, 7586, 7590, 7593, 7596, 7597, 7598, 7603, 7605, 7609, 7612, 7614, 7620, 7621, 7629, 7631, 7632, 7633, 7637, 7645, 7646, 7647, 7651, 7652, 7655, 7657, 7661, 7664, 7665, 7667, 7668, 7669, 7677, 7679, 7680, 7681, 7684, 7689, 7691, 7695, 7698, 7703, 7705, 7710, 7711, 7714, 7716, 7718, 7721, 7722, 7724, 7725, 7726, 7728, 7730, 7733, 7735, 7736, 7737, 7742, 7744, 7745, 7747, 7748, 7755, 7758, 7759, 7761, 7763, 7765, 7766, 7767, 7770, 7773, 7774, 7777, 7778, 7779, 7782, 7783, 7784, 7787, 7788, 7795, 7799, 7800, 7802, 7804, 7807, 7808, 7812, 7814, 7816, 7818, 7819, 7821, 7823, 7826, 7827, 7832, 7833, 7834, 7837, 7838, 7839, 7846, 7850, 7852, 7855, 7858, 7867, 7870, 7877, 7881, 7883, 7884, 7886, 7889, 7890, 7892, 7896, 7905, 7908, 7910, 7911, 7912, 7916, 7918, 7922, 7924, 7925, 7927, 7928, 7934, 7935, 7937, 7938, 7939, 7942, 7943, 7944, 7946, 7948, 7954, 7955, 7958, 7959, 7961, 7962, 7964, 7968, 7969, 7972, 7973, 7976, 7979, 7981, 7982, 7983, 7988, 7989, 7992, 7993, 7994, 7998, 7999, 8003, 8005, 8007, 8012, 8013, 8020, 8022, 8026, 8037, 8048, 8049, 8051, 8053, 8055, 8056, 8060, 8061, 8063, 8065, 8066, 8069, 8070, 8071, 8072, 8074, 8076, 8080, 8083, 8087, 8090, 8091, 8092, 8093, 8096, 8100, 8101, 8102, 8106, 8107, 8108, 8109, 8110, 8111, 8114, 8119, 8120, 8121, 8124, 8125, 8126, 8130, 8132, 8134, 8140, 8141, 8143, 8144, 8145, 8151, 8153, 8154, 8157, 8159, 8160, 8161, 8162, 8165, 8166, 8168, 8171, 8173, 8174, 8175, 8177, 8178, 8180, 8187, 8193, 8195, 8200, 8201, 8202, 8203, 8207, 8209, 8212, 8217, 8218, 8222, 8227, 8229, 8231, 8232, 8233, 8235, 8236, 8239, 8245, 8246, 8247, 8248, 8249, 8251, 8252, 8253, 8257, 8260, 8266, 8268, 8271, 8279, 8285, 8290, 8292, 8294, 8295, 8297, 8298, 8299, 8300, 8309, 8310, 8315, 8316, 8317, 8320, 8321, 8322, 8323, 8324, 8326, 8333, 8338, 8339, 8340, 8341, 8345, 8355, 8359, 8361, 8364, 8365, 8366, 8367, 8368, 8372, 8374, 8380, 8386, 8388, 8390, 8392, 8393, 8401, 8403, 8404, 8408, 8411, 8413, 8414, 8417, 8425, 8426, 8431, 8434, 8435, 8438, 8444, 8447, 8448, 8450, 8451, 8452, 8454, 8463, 8464, 8466, 8469, 8471, 8476, 8477, 8478, 8483, 8484, 8486, 8489, 8496, 8497, 8504, 8506, 8508, 8515, 8518, 8521, 8523, 8524, 8526, 8527, 8532, 8536, 8537, 8538, 8539, 8545, 8546, 8547, 8551, 8553, 8554, 8557, 8560, 8566, 8568, 8570, 8575, 8577, 8578, 8585, 8587, 8589, 8593, 8594, 8595, 8599, 8600, 8602, 8603, 8604, 8605, 8607, 8608, 8609, 8611, 8614, 8615, 8619, 8620, 8624, 8634, 8640, 8643, 8652, 8653, 8655, 8657, 8658, 8659, 8661, 8663, 8664, 8666, 8668, 8669, 8670, 8672, 8673, 8674, 8675, 8676, 8680, 8684, 8685, 8686, 8689, 8693, 8697, 8698, 8699, 8700, 8705, 8708, 8709, 8711, 8717, 8720, 8723, 8724, 8726, 8729, 8732, 8734, 8737, 8738, 8740, 8743, 8745, 8747, 8748, 8749, 8753, 8754, 8755, 8756, 8760, 8762, 8763, 8766, 8767, 8770, 8774, 8776, 8777, 8782, 8783, 8784, 8785, 8786, 8788, 8789, 8794, 8795, 8800, 8803, 8806, 8808, 8809, 8811, 8819, 8824, 8830, 8832, 8835, 8837, 8840, 8841, 8842, 8845, 8848, 8849, 8856, 8857, 8859, 8861, 8866, 8870, 8872, 8874, 8877, 8879, 8882, 8884, 8887, 8892, 8894, 8901, 8902, 8903, 8910, 8912, 8913, 8915, 8918, 8919, 8920, 8924, 8925, 8926, 8927, 8928, 8931, 8934, 8940, 8942, 8943, 8949, 8951, 8958, 8968, 8975, 8976, 8977, 8978, 8980, 8985, 8986, 8987, 8990, 8991, 8994, 8996, 9000, 9004, 9005, 9006, 9007, 9008, 9009, 9010, 9012, 9017, 9019, 9020, 9029, 9031, 9035, 9039, 9040, 9041, 9049, 9054, 9061, 9066, 9068, 9069, 9070, 9077, 9080, 9082, 9086, 9088, 9090, 9092, 9093, 9100, 9103, 9109, 9110, 9113, 9121, 9123, 9129, 9131, 9132, 9137, 9140, 9143, 9150, 9158, 9159, 9162, 9164, 9165, 9171, 9173, 9174, 9175, 9179, 9181, 9182, 9186, 9189, 9194, 9197, 9200, 9201, 9204, 9205, 9209, 9225, 9227, 9231, 9234, 9238, 9239, 9241, 9242, 9244, 9246, 9247, 9251, 9252, 9254, 9255, 9256, 9258, 9260, 9265, 9269, 9272, 9273, 9274, 9278, 9279, 9280, 9284, 9286, 9287, 9289, 9291, 9293, 9294, 9299, 9300, 9304, 9308, 9312, 9315, 9317, 9320, 9323, 9326, 9328, 9330, 9333, 9337, 9341, 9342, 9346, 9349, 9350, 9351, 9354, 9358, 9359, 9363, 9365, 9366, 9367, 9368, 9369, 9372, 9374, 9375, 9376, 9378, 9380, 9383, 9385, 9386, 9388, 9389, 9390, 9391, 9392, 9394, 9396, 9397, 9398, 9402, 9403, 9405, 9408, 9410, 9411, 9412, 9413, 9418, 9423, 9429, 9430, 9435, 9436, 9437, 9440, 9444, 9450, 9451, 9452, 9453, 9454, 9456, 9459, 9463, 9464, 9466, 9468, 9470, 9473, 9474, 9480, 9484, 9485, 9491, 9493, 9494, 9496, 9497, 9501, 9502, 9505, 9508, 9509, 9520, 9522, 9523, 9526, 9529, 9531, 9535, 9536, 9539, 9545, 9549, 9551, 9552, 9554, 9557, 9560, 9566, 9567, 9572, 9573, 9574, 9575, 9583, 9585, 9590, 9592, 9597, 9601, 9605, 9606, 9609, 9610, 9611, 9613, 9620, 9621, 9623, 9627, 9629, 9631, 9634, 9635, 9636, 9637, 9638, 9639, 9640, 9642, 9646, 9648, 9649, 9650, 9651, 9654, 9655, 9656, 9657, 9661, 9667, 9668, 9670, 9673, 9674, 9676, 9678, 9679, 9681, 9682, 9689, 9692, 9693, 9694, 9702, 9709, 9713, 9714, 9716, 9717, 9718, 9721, 9722, 9726, 9727, 9728, 9729, 9731, 9735, 9737, 9744, 9747, 9750, 9752, 9758, 9763, 9764, 9768, 9771, 9774, 9775, 9776, 9777, 9779, 9784, 9785, 9786, 9787, 9789, 9790, 9793, 9794, 9800, 9803, 9804, 9805, 9806, 9812, 9813, 9814, 9815, 9816, 9818, 9820, 9821, 9822, 9824, 9830, 9831, 9841, 9845, 9847, 9848, 9851, 9857, 9859, 9864, 9865, 9868, 9870, 9872, 9874, 9877, 9878, 9880, 9882, 9883, 9886, 9887, 9888, 9891, 9895, 9896, 9897, 9898, 9907, 9909, 9910, 9911, 9912, 9913, 9915, 9916, 9924, 9929, 9932, 9933, 9935, 9939, 9943, 9944, 9946, 9947, 9950, 9951, 9956, 9957, 9961, 9967, 9968, 9969, 9970, 9971, 9972, 9973, 9974, 9976, 9982, 9983, 9986, 9987, 9989, 9996, 9997, 10001, 10003, 10006, 10009, 10016, 10017, 10023, 10024, 10031, 10032, 10033, 10037, 10039, 10042, 10044, 10047, 10051, 10052, 10055, 10056, 10059, 10060, 10062, 10065, 10066, 10067, 10068, 10070, 10074, 10077, 10080, 10081, 10082, 10083, 10085, 10086, 10087, 10089, 10091, 10092, 10095, 10096, 10097, 10098, 10100, 10103, 10105, 10107, 10110, 10113, 10118, 10125, 10128, 10129, 10130, 10131, 10135, 10137, 10141, 10148, 10149, 10151, 10152, 10158, 10160, 10165, 10166, 10179, 10180, 10184, 10186, 10187, 10192, 10193, 10194, 10195, 10196, 10197, 10198, 10201, 10202, 10206, 10210, 10213, 10214, 10222, 10225, 10227, 10228, 10229, 10230, 10234, 10235, 10236, 10238, 10239, 10245, 10246, 10248, 10249, 10250, 10252, 10255, 10257, 10259, 10261, 10262, 10269, 10279, 10280, 10283, 10284, 10285, 10286, 10288, 10290, 10291, 10296, 10298, 10300, 10304, 10305, 10306, 10310, 10312, 10314, 10318, 10319, 10320, 10322, 10325, 10327, 10332, 10335, 10337, 10339, 10340, 10341, 10342, 10345, 10346, 10348, 10354, 10355, 10357, 10360, 10362, 10363, 10364, 10371, 10372, 10376, 10378, 10379, 10380, 10383, 10385, 10388, 10389, 10390, 10397, 10398, 10399, 10400, 10403, 10407, 10408, 10410, 10412, 10413, 10414, 10415, 10416, 10419, 10425, 10436, 10437, 10438, 10439, 10442, 10443, 10445, 10447, 10450, 10451, 10452, 10454, 10460, 10463, 10465, 10467, 10468, 10469, 10470, 10471, 10472, 10473, 10476, 10481, 10484, 10487, 10488, 10493, 10494, 10498, 10499, 10500, 10506, 10508, 10512, 10513, 10517, 10519, 10520, 10521, 10522, 10525, 10527, 10528, 10529, 10534, 10535, 10536, 10537, 10539, 10541, 10547, 10550, 10551, 10552, 10554, 10557, 10558, 10559, 10561, 10564, 10565, 10567, 10568, 10569, 10570, 10572, 10573, 10576, 10577, 10579, 10580, 10581, 10585, 10589, 10590, 10594, 10595, 10597, 10600, 10606, 10608, 10609, 10612, 10613, 10616, 10618, 10620, 10624, 10625, 10627, 10630, 10631, 10634, 10636, 10637, 10638, 10639, 10642, 10643, 10645, 10646, 10647, 10648, 10652, 10655, 10658, 10659, 10661, 10663, 10664, 10665, 10668, 10672, 10673, 10675, 10680, 10681, 10682, 10683, 10684, 10685, 10689, 10691, 10695, 10696, 10698, 10702, 10706, 10710, 10712, 10714, 10720, 10724, 10727, 10729, 10730, 10736, 10738, 10740, 10741, 10744, 10745, 10749, 10750, 10751, 10752, 10753, 10754, 10756, 10763, 10769, 10771, 10775, 10777, 10779, 10780, 10782, 10784, 10789, 10790, 10791, 10796, 10797, 10800, 10802, 10803, 10804, 10805, 10811, 10812, 10815, 10820, 10821, 10822, 10823, 10828, 10831, 10834, 10837, 10841, 10844, 10845, 10849, 10852, 10855, 10856, 10859, 10860, 10864, 10868, 10871, 10875, 10876, 10877, 10878, 10880, 10881, 10882, 10883, 10885, 10889, 10891, 10897, 10898, 10899, 10900, 10901, 10903, 10908, 10909, 10911, 10912, 10914, 10922, 10927, 10929, 10930, 10931, 10934, 10935, 10936, 10941, 10943, 10944, 10946, 10948, 10950, 10954, 10955, 10956, 10958, 10959, 10966, 10967, 10969, 10970, 10971, 10972, 10973, 10975, 10976, 10978, 10980, 10982, 10985, 10986, 10987, 10989, 10991, 10993, 10995, 10996, 10999, 11004, 11005, 11011, 11015, 11018, 11019, 11024, 11025, 11027, 11030, 11031, 11033, 11034, 11035, 11036, 11037, 11038, 11039, 11041, 11042, 11045, 11046, 11047, 11049, 11051, 11053, 11056, 11057, 11058, 11060, 11061, 11062, 11063, 11064, 11066, 11067, 11068, 11069, 11070, 11071, 11075, 11077, 11083, 11088, 11089, 11091, 11092, 11093, 11094, 11095, 11096, 11097, 11099, 11100, 11101, 11107, 11110, 11116, 11117, 11118, 11124, 11125, 11127, 11128, 11129, 11136, 11137, 11140, 11141, 11147, 11150, 11156, 11158, 11161, 11162, 11166, 11168, 11172, 11175, 11178, 11180, 11183, 11185, 11188, 11189, 11191, 11192, 11197, 11199, 11201, 11202, 11204, 11206, 11210, 11217, 11218, 11219, 11221, 11222, 11228, 11230, 11231, 11232, 11233, 11234, 11238, 11240, 11242, 11245, 11248, 11252, 11256, 11258, 11268, 11273, 11276, 11278, 11279, 11281, 11282, 11283, 11284, 11287, 11290, 11292, 11295, 11299, 11300, 11302, 11308, 11309, 11310, 11311, 11312, 11313, 11315, 11316, 11319, 11320, 11322, 11324, 11326, 11328, 11330, 11332, 11333, 11335, 11342, 11344, 11345, 11350, 11351, 11353, 11354, 11360, 11369, 11370, 11371, 11372, 11376, 11377, 11378, 11379, 11380, 11381, 11382, 11387, 11388, 11389, 11390, 11392, 11396, 11397, 11399, 11400, 11402, 11406, 11412, 11417, 11421, 11426, 11430, 11432, 11433, 11435, 11436, 11437, 11441, 11444, 11445, 11447, 11449, 11450, 11452, 11453, 11456, 11461, 11471, 11472, 11473, 11474, 11475, 11480, 11482, 11485, 11493, 11497, 11500, 11505, 11507, 11511, 11514, 11515, 11518, 11521, 11526, 11527, 11531, 11532, 11533, 11534, 11537, 11539, 11543, 11551, 11553, 11556, 11557, 11560, 11561, 11562, 11567, 11568, 11570, 11573, 11577, 11578, 11579, 11583, 11585, 11588, 11595, 11596, 11605, 11607, 11610, 11612, 11614, 11616, 11617, 11619, 11622, 11623, 11624, 11625, 11628, 11629, 11631, 11632, 11633, 11634, 11635, 11639, 11642, 11643, 11648, 11652, 11655, 11656, 11657, 11659, 11660, 11661, 11662, 11664, 11665, 11666, 11668, 11671, 11676, 11678, 11682, 11686, 11691, 11692, 11701, 11702, 11703, 11704, 11705, 11707, 11708, 11710, 11713, 11718, 11721, 11725, 11726, 11728, 11729, 11731, 11733, 11734, 11737, 11742, 11746, 11748, 11753, 11754, 11757, 11762, 11763, 11764, 11766, 11768, 11769, 11777, 11779, 11783, 11786, 11787, 11789, 11792, 11793, 11794, 11796, 11799, 11801, 11804, 11805, 11810, 11814, 11816, 11819, 11821, 11823, 11824, 11826, 11827, 11829, 11832, 11833, 11836, 11839, 11841, 11842, 11843, 11844, 11846, 11850, 11853, 11854, 11858, 11862, 11865, 11866, 11867, 11875, 11876, 11878, 11880, 11882, 11883, 11884, 11888, 11897, 11899, 11902, 11905, 11907, 11911, 11914, 11916, 11917, 11920, 11921, 11922, 11926, 11929, 11930, 11931, 11932, 11936, 11937, 11945, 11948, 11950, 11952, 11957, 11961, 11965, 11966, 11971, 11972, 11977, 11980, 11983, 11984, 11992, 11993, 11994, 11995, 11997, 12003, 12004, 12005, 12006, 12007, 12009, 12010, 12011, 12013, 12014, 12015, 12016, 12018, 12019, 12020, 12023, 12024, 12025, 12027, 12028, 12029, 12030, 12031, 12032, 12035, 12038, 12039, 12047, 12051, 12053, 12054, 12055, 12059, 12060, 12061, 12062, 12068, 12072, 12073, 12074, 12077, 12078, 12079, 12082, 12085, 12086, 12088, 12089, 12094, 12095, 12096, 12097, 12099, 12101, 12102, 12103, 12107, 12110, 12113, 12114, 12115, 12116, 12117, 12118, 12120, 12123, 12124, 12125, 12127, 12131, 12132, 12136, 12141, 12142, 12143, 12146, 12148, 12149, 12153, 12155, 12156, 12157, 12159, 12161, 12164, 12167, 12168, 12172, 12173, 12174, 12175, 12179, 12184, 12193, 12196, 12200, 12201, 12202, 12204, 12207, 12208, 12209, 12211, 12213, 12214, 12216, 12217, 12221, 12228, 12229, 12231, 12235, 12240, 12242, 12243, 12253, 12254, 12258, 12265, 12267, 12273, 12277, 12282, 12283, 12284, 12286, 12288, 12291, 12293, 12294, 12297, 12299, 12301, 12304, 12306, 12308, 12309, 12317, 12318, 12319, 12323, 12325, 12326, 12336, 12338, 12339, 12340, 12341, 12342, 12343, 12344, 12345, 12352, 12356, 12361, 12363, 12364, 12365, 12366, 12367, 12370, 12376, 12377, 12381, 12389, 12390, 12394, 12396, 12397, 12398, 12399, 12402, 12403, 12404, 12405, 12412, 12417, 12418, 12422, 12423, 12425, 12430, 12431, 12432, 12433, 12435, 12436, 12437, 12440, 12443, 12445, 12446, 12448, 12450, 12453, 12456, 12458, 12461, 12465, 12466, 12471, 12473, 12477, 12478, 12479, 12481, 12482, 12488, 12492, 12497, 12498], [], [41, 59, 75, 77, 213, 244, 278, 342, 415, 429, 450, 614, 636, 739, 870, 903, 906, 1004, 1203, 1204, 1306, 1375, 1380, 1402, 1487, 1516, 1519, 1543, 1684, 1734, 1756, 1769, 1901, 2077, 2122, 2191, 2383, 2393, 2402, 2410, 2566, 2578, 2655, 2656, 2688, 2760, 2761, 2789, 2879, 2930, 3017, 3042, 3074, 3185, 3222, 3313, 3339, 3363, 3371, 3451, 3463, 3520, 3612, 3822, 3882, 3884, 3891, 3990, 4021, 4046, 4405, 4438, 4449, 4450, 4455, 4460, 4464, 4470, 4481, 4511, 4572, 4705, 4727, 4861, 4877, 4906, 4940, 5045, 5088, 5126, 5179, 5338, 5374, 5455, 5500, 5511, 5546, 5557, 5632, 5655, 5775, 5808, 5863, 5932, 5985, 6236, 6434, 6504, 6534, 6578, 6593, 6653, 6668, 6672, 6749, 6852, 6943, 6952, 6966, 7003, 7074, 7136, 7137, 7203, 7345, 7348, 7595, 7625, 7634, 7644, 7663, 7671, 7723, 7727, 7790, 7854, 7880, 7917, 7921, 8019, 8117, 8196, 8250, 8264, 8416, 8534, 8579, 8677, 8843, 8864, 8917, 9045, 9058, 9211, 9240, 9316, 9344, 9472, 9568, 9711, 9739, 9850, 9853, 9861, 9900, 9945, 10015, 10120, 10138, 10190, 10209, 10212, 10215, 10221, 10232, 10241, 10242, 10295, 10351, 10387, 10703, 10801, 10894, 10951, 11016, 11032, 11044, 11114, 11148, 11182, 11200, 11220, 11227, 11289, 11336, 11352, 11415, 11503, 11544, 11688, 11696, 11723, 11738, 11974, 12129, 12162, 12176, 12203, 12252, 12269, 12311, 12373, 12442], [297, 508, 596, 672, 785, 803, 818, 1087, 1091, 1246, 1311, 1628, 1641, 1698, 1850, 1914, 1959, 2054, 2513, 2537, 2561, 2649, 2718, 2797, 3118, 3153, 3275, 3354, 3963, 3967, 3971, 4168, 4304, 4398, 4552, 4594, 4830, 4999, 5013, 5240, 5312, 5361, 5363, 5671, 5690, 5732, 5789, 5815, 5869, 5993, 6007, 6096, 6159, 6168, 6199, 6341, 6401, 6570, 6676, 6691, 6693, 6838, 6873, 6971, 7088, 7106, 7186, 7356, 7365, 7383, 7540, 7561, 7768, 7840, 7859, 7932, 8025, 8137, 8181, 8327, 8433, 8440, 8475, 8503, 8629, 8648, 8781, 8876, 8983, 9079, 9218, 9513, 9652, 9792, 9797, 9930, 10101, 10169, 10373, 10418, 10587, 10715, 10767, 10965, 10968, 11143, 11236, 11321, 11364, 11375, 11416, 11494, 11591, 11711, 11834, 12076, 12104, 12212, 12385, 12406], [], [42, 153, 167, 207, 210, 231, 316, 374, 387, 454, 464, 469, 470, 500, 512, 576, 593, 617, 661, 819, 842, 853, 858, 865, 874, 956, 981, 1075, 1129, 1200, 1218, 1291, 1330, 1344, 1345, 1373, 1374, 1377, 1385, 1388, 1406, 1412, 1423, 1440, 1463, 1467, 1503, 1505, 1507, 1512, 1588, 1603, 1620, 1669, 1674, 1682, 1726, 1911, 1917, 1921, 1922, 1972, 1981, 2023, 2039, 2042, 2067, 2108, 2223, 2273, 2290, 2295, 2314, 2326, 2327, 2345, 2356, 2381, 2411, 2423, 2440, 2456, 2471, 2483, 2491, 2521, 2529, 2547, 2617, 2651, 2677, 2690, 2817, 2868, 2871, 3043, 3054, 3063, 3066, 3107, 3136, 3196, 3209, 3238, 3258, 3282, 3304, 3326, 3423, 3431, 3446, 3459, 3490, 3517, 3556, 3590, 3596, 3623, 3685, 3689, 3708, 3712, 3752, 3787, 3858, 3860, 3868, 3874, 3912, 3924, 3954, 3996, 4066, 4078, 4111, 4125, 4184, 4269, 4316, 4337, 4453, 4461, 4483, 4484, 4502, 4534, 4548, 4566, 4585, 4625, 4642, 4652, 4699, 4721, 4729, 4773, 4774, 4780, 4836, 4873, 4894, 4897, 4913, 4920, 4949, 5033, 5035, 5040, 5062, 5096, 5134, 5138, 5163, 5181, 5213, 5219, 5261, 5292, 5317, 5339, 5372, 5452, 5480, 5538, 5575, 5590, 5642, 5693, 5725, 5938, 6075, 6083, 6145, 6161, 6163, 6181, 6188, 6204, 6214, 6231, 6253, 6261, 6278, 6280, 6400, 6474, 6491, 6539, 6542, 6552, 6620, 6662, 6681, 6722, 6742, 6897, 6904, 6964, 6995, 7036, 7046, 7056, 7073, 7103, 7138, 7211, 7252, 7253, 7295, 7303, 7326, 7366, 7392, 7440, 7447, 7480, 7481, 7485, 7588, 7594, 7794, 7849, 7865, 7875, 7936, 7952, 7975, 8010, 8198, 8199, 8225, 8311, 8346, 8357, 8391, 8396, 8418, 8443, 8456, 8561, 8581, 8592, 8630, 8647, 8678, 8706, 8741, 8816, 8867, 8869, 8886, 8900, 8953, 9021, 9032, 9051, 9064, 9083, 9122, 9148, 9191, 9203, 9206, 9212, 9222, 9243, 9264, 9281, 9310, 9314, 9324, 9577, 9596, 9687, 9781, 9783, 9796, 9837, 9839, 9860, 9941, 9953, 9977, 10030, 10069, 10133, 10168, 10176, 10218, 10253, 10297, 10315, 10401, 10444, 10474, 10479, 10503, 10511, 10538, 10571, 10592, 10678, 10707, 10723, 10778, 10807, 10813, 10861, 10925, 10926, 10932, 10962, 10992, 11017, 11021, 11050, 11153, 11235, 11244, 11263, 11269, 11277, 11293, 11348, 11424, 11448, 11476, 11495, 11547, 11549, 11580, 11590, 11609, 11638, 11706, 11735, 11749, 11791, 11813, 11831, 11889, 11904, 11925, 11927, 11960, 11970, 11991, 12052, 12091, 12133, 12189, 12191, 12218, 12302, 12315, 12357, 12358, 12359, 12372, 12384, 12387, 12408, 12470, 12475], [11, 12, 86, 104, 111, 135, 165, 221, 271, 301, 321, 402, 418, 461, 505, 514, 518, 544, 563, 582, 592, 654, 655, 662, 684, 698, 722, 745, 767, 805, 850, 900, 931, 955, 994, 999, 1125, 1153, 1162, 1170, 1181, 1224, 1272, 1297, 1315, 1381, 1390, 1421, 1609, 1676, 1700, 1725, 1747, 1762, 1763, 1813, 1884, 1974, 2153, 2155, 2163, 2198, 2228, 2232, 2251, 2309, 2337, 2442, 2492, 2499, 2506, 2559, 2585, 2603, 2620, 2629, 2632, 2647, 2660, 2682, 2691, 2720, 2729, 2750, 2756, 2757, 2779, 2829, 2832, 2842, 2861, 2935, 2942, 2943, 2944, 2956, 2964, 2979, 2996, 2997, 3006, 3065, 3179, 3208, 3213, 3317, 3350, 3351, 3361, 3398, 3403, 3415, 3422, 3456, 3588, 3595, 3600, 3686, 3701, 3726, 3809, 3846, 3876, 3880, 3994, 4134, 4147, 4186, 4188, 4203, 4258, 4265, 4334, 4335, 4362, 4390, 4399, 4433, 4446, 4465, 4527, 4528, 4532, 4536, 4569, 4592, 4618, 4651, 4671, 4694, 4710, 4735, 4740, 4758, 4764, 4776, 4898, 4931, 4934, 4968, 4978, 4997, 5027, 5079, 5095, 5132, 5145, 5177, 5230, 5253, 5263, 5309, 5326, 5356, 5381, 5436, 5486, 5489, 5494, 5506, 5523, 5533, 5542, 5676, 5692, 5797, 5804, 5813, 5845, 5867, 5935, 5960, 5996, 6028, 6038, 6041, 6108, 6136, 6164, 6211, 6242, 6256, 6382, 6383, 6456, 6462, 6555, 6559, 6563, 6615, 6643, 6648, 6677, 6715, 6717, 6721, 6734, 6770, 6848, 6870, 6878, 6929, 6935, 6955, 7083, 7096, 7154, 7161, 7240, 7262, 7267, 7281, 7285, 7340, 7341, 7394, 7492, 7538, 7539, 7560, 7568, 7574, 7615, 7630, 7659, 7673, 7683, 7697, 7709, 7713, 7797, 7798, 7847, 7902, 7906, 7977, 7980, 7984, 7991, 8011, 8050, 8067, 8073, 8086, 8089, 8118, 8158, 8194, 8213, 8274, 8280, 8283, 8284, 8319, 8342, 8356, 8385, 8387, 8428, 8494, 8502, 8517, 8531, 8535, 8590, 8597, 8623, 8656, 8681, 8707, 8710, 8802, 8818, 8834, 8853, 8868, 8897, 8906, 8959, 8997, 9014, 9027, 9057, 9075, 9085, 9095, 9116, 9130, 9139, 9190, 9219, 9237, 9282, 9379, 9409, 9420, 9434, 9479, 9584, 9626, 9749, 9753, 9798, 9802, 9828, 9829, 9832, 9840, 9901, 9904, 9990, 10018, 10049, 10050, 10057, 10073, 10088, 10122, 10144, 10171, 10223, 10282, 10287, 10356, 10393, 10441, 10466, 10504, 10523, 10531, 10607, 10623, 10667, 10674, 10725, 10793, 10810, 10826, 11001, 11003, 11104, 11154, 11323, 11343, 11347, 11408, 11411, 11457, 11470, 11489, 11496, 11517, 11554, 11571, 11599, 11649, 11679, 11699, 11715, 11743, 11755, 11822, 11840, 11900, 11906, 11990, 12075, 12135, 12187, 12215, 12237, 12346, 12355, 12421, 12434, 12495], [90, 92, 122, 128, 172, 262, 400, 478, 482, 771, 878, 932, 1012, 1084, 1094, 1165, 1177, 1185, 1216, 1244, 1265, 1270, 1274, 1313, 1328, 1352, 1366, 1370, 1403, 1428, 1454, 1534, 1559, 1585, 1746, 1748, 1853, 1855, 1908, 1919, 1932, 1961, 2066, 2113, 2278, 2287, 2318, 2331, 2469, 2475, 2526, 2550, 2570, 2573, 2622, 2666, 2724, 2732, 2783, 2815, 2816, 2890, 2955, 3316, 3352, 3438, 3452, 3454, 3465, 3563, 3645, 3687, 3725, 3744, 4000, 4028, 4057, 4175, 4227, 4229, 4241, 4284, 4310, 4320, 4349, 4443, 4452, 4457, 4495, 4507, 4603, 4609, 4619, 4659, 4732, 4811, 4815, 4867, 4881, 4967, 5044, 5092, 5217, 5236, 5251, 5297, 5321, 5354, 5370, 5420, 5432, 5449, 5451, 5467, 5519, 5548, 5629, 5665, 5672, 5828, 5929, 5930, 5940, 5943, 5955, 5978, 5998, 6017, 6054, 6273, 6371, 6473, 6482, 6485, 6509, 6525, 6574, 6616, 6626, 6815, 6825, 6847, 6857, 6898, 6913, 6941, 6958, 6959, 6961, 7118, 7206, 7241, 7380, 7390, 7400, 7460, 7478, 7488, 7558, 7570, 7627, 7688, 7740, 7825, 7926, 8075, 8183, 8240, 8254, 8255, 8289, 8420, 8683, 8688, 8730, 8742, 8757, 8814, 8930, 8932, 8962, 8963, 8964, 8995, 9018, 9136, 9215, 9232, 9257, 9275, 9321, 9443, 9460, 9525, 9659, 9903, 9928, 9975, 10205, 10220, 10237, 10268, 10293, 10317, 10343, 10344, 10353, 10391, 10404, 10428, 10440, 10510, 10555, 10586, 10603, 10621, 10649, 10748, 10781, 10794, 11002, 11072, 11087, 11196, 11215, 11306, 11329, 11340, 11499, 11508, 11550, 11565, 11589, 11594, 11641, 11681, 11719, 11720, 11740, 11795, 11797, 11845, 11893, 11979, 12017, 12084, 12108, 12112, 12154, 12205, 12289, 12331, 12333, 12368, 12463], [], [16, 19, 25, 29, 36, 73, 106, 129, 146, 148, 160, 178, 180, 185, 186, 192, 215, 236, 255, 292, 325, 339, 350, 363, 385, 401, 432, 436, 437, 449, 522, 525, 526, 533, 558, 565, 584, 613, 619, 626, 631, 659, 660, 689, 725, 731, 752, 792, 808, 813, 815, 821, 823, 851, 939, 974, 1001, 1016, 1022, 1031, 1045, 1057, 1085, 1099, 1128, 1137, 1155, 1172, 1178, 1183, 1188, 1207, 1214, 1219, 1227, 1288, 1295, 1326, 1343, 1349, 1356, 1395, 1409, 1416, 1430, 1436, 1446, 1459, 1465, 1492, 1506, 1521, 1537, 1576, 1583, 1618, 1622, 1633, 1648, 1659, 1663, 1694, 1696, 1714, 1719, 1754, 1765, 1766, 1815, 1826, 1859, 1866, 1868, 1873, 1880, 1885, 1939, 1947, 1971, 1978, 1983, 1985, 2007, 2011, 2043, 2114, 2126, 2146, 2147, 2161, 2178, 2225, 2250, 2257, 2260, 2276, 2277, 2279, 2316, 2319, 2329, 2360, 2370, 2407, 2412, 2447, 2460, 2464, 2487, 2510, 2514, 2542, 2544, 2564, 2579, 2590, 2606, 2616, 2623, 2627, 2669, 2674, 2687, 2694, 2700, 2828, 2834, 2840, 2863, 2877, 2881, 2911, 2957, 2967, 2981, 3020, 3029, 3047, 3082, 3088, 3090, 3123, 3129, 3163, 3176, 3203, 3218, 3242, 3268, 3274, 3303, 3345, 3349, 3368, 3462, 3470, 3511, 3519, 3522, 3539, 3560, 3591, 3602, 3632, 3655, 3675, 3678, 3718, 3739, 3786, 3788, 3803, 3812, 3825, 3830, 3835, 3842, 3843, 3864, 3872, 3901, 3918, 3944, 3949, 3972, 3975, 4041, 4049, 4053, 4064, 4075, 4116, 4158, 4160, 4161, 4165, 4190, 4194, 4224, 4274, 4286, 4287, 4311, 4347, 4358, 4368, 4384, 4393, 4412, 4419, 4471, 4473, 4500, 4535, 4561, 4576, 4605, 4616, 4629, 4676, 4678, 4688, 4708, 4743, 4754, 4784, 4809, 4814, 4823, 4826, 4829, 4837, 4875, 4886, 4902, 4924, 4942, 4958, 4963, 5002, 5020, 5037, 5051, 5063, 5082, 5083, 5090, 5122, 5157, 5196, 5220, 5247, 5266, 5269, 5348, 5362, 5366, 5368, 5373, 5391, 5404, 5465, 5521, 5522, 5530, 5534, 5535, 5562, 5568, 5603, 5649, 5664, 5679, 5685, 5709, 5716, 5754, 5765, 5772, 5830, 5847, 5885, 5898, 5908, 5914, 5946, 5964, 5976, 5977, 5991, 6016, 6019, 6045, 6048, 6050, 6067, 6084, 6087, 6093, 6097, 6118, 6138, 6167, 6189, 6192, 6228, 6257, 6259, 6265, 6275, 6293, 6321, 6336, 6357, 6376, 6394, 6397, 6428, 6446, 6471, 6483, 6498, 6510, 6526, 6530, 6550, 6560, 6565, 6660, 6702, 6746, 6755, 6763, 6774, 6783, 6798, 6817, 6834, 6836, 6845, 6889, 6893, 6900, 6911, 6920, 6953, 6988, 6997, 7002, 7082, 7102, 7142, 7163, 7164, 7179, 7194, 7237, 7261, 7292, 7324, 7402, 7407, 7411, 7413, 7459, 7468, 7490, 7533, 7541, 7544, 7580, 7608, 7670, 7690, 7720, 7729, 7741, 7749, 7780, 7785, 7792, 7815, 7830, 7844, 7848, 7856, 7860, 7878, 7879, 7887, 7907, 7914, 7986, 7990, 8021, 8030, 8033, 8046, 8059, 8103, 8112, 8131, 8142, 8149, 8167, 8185, 8272, 8336, 8363, 8398, 8406, 8415, 8422, 8424, 8460, 8462, 8482, 8491, 8510, 8586, 8598, 8606, 8616, 8622, 8626, 8645, 8651, 8665, 8704, 8739, 8744, 8759, 8769, 8787, 8792, 8797, 8804, 8810, 8822, 8825, 8838, 8881, 8888, 8890, 8898, 8908, 8921, 8946, 8955, 8961, 8965, 8974, 9053, 9105, 9107, 9126, 9167, 9213, 9259, 9262, 9267, 9311, 9313, 9329, 9355, 9360, 9428, 9495, 9499, 9518, 9524, 9537, 9550, 9602, 9614, 9628, 9633, 9688, 9698, 9723, 9741, 9748, 9755, 9762, 9765, 9778, 9823, 9849, 9856, 9979, 9995, 10025, 10028, 10036, 10043, 10045, 10058, 10109, 10146, 10172, 10183, 10219, 10263, 10299, 10311, 10324, 10331, 10368, 10395, 10411, 10427, 10448, 10462, 10546, 10556, 10611, 10669, 10676, 10719, 10726, 10728, 10746, 10758, 10761, 10776, 10839, 10851, 10873, 10886, 10888, 10895, 10917, 10933, 10942, 10949, 11007, 11012, 11013, 11026, 11029, 11074, 11086, 11133, 11145, 11146, 11157, 11184, 11223, 11224, 11229, 11251, 11271, 11339, 11355, 11365, 11401, 11440, 11501, 11510, 11516, 11529, 11602, 11608, 11618, 11630, 11683, 11695, 11709, 11724, 11739, 11747, 11750, 11771, 11785, 11808, 11815, 11825, 11837, 11849, 11856, 11864, 11879, 11898, 11919, 11963, 11968, 11975, 12130, 12139, 12140, 12182, 12185, 12210, 12222, 12225, 12227, 12232, 12257, 12300, 12303, 12312, 12314, 12374, 12378, 12409, 12416, 12419, 12424, 12451], [35, 49, 52, 61, 68, 78, 97, 134, 143, 214, 248, 250, 254, 267, 326, 341, 349, 352, 359, 365, 367, 381, 492, 504, 510, 511, 529, 531, 547, 556, 560, 564, 570, 604, 630, 634, 664, 679, 687, 694, 718, 719, 746, 782, 789, 800, 811, 847, 863, 892, 896, 925, 927, 998, 1007, 1015, 1018, 1042, 1056, 1058, 1078, 1086, 1090, 1105, 1143, 1217, 1304, 1335, 1363, 1398, 1447, 1452, 1469, 1504, 1508, 1524, 1545, 1565, 1568, 1619, 1625, 1655, 1668, 1670, 1685, 1688, 1699, 1777, 1784, 1789, 1800, 1806, 1812, 1820, 1871, 1933, 1949, 1953, 1963, 2009, 2012, 2018, 2031, 2034, 2044, 2065, 2068, 2081, 2093, 2105, 2154, 2169, 2173, 2211, 2241, 2243, 2252, 2296, 2302, 2362, 2374, 2399, 2406, 2416, 2425, 2426, 2446, 2455, 2470, 2484, 2489, 2531, 2546, 2548, 2549, 2551, 2571, 2607, 2614, 2635, 2661, 2684, 2695, 2701, 2754, 2788, 2798, 2811, 2872, 2909, 2913, 2928, 2933, 2947, 2950, 2977, 2982, 2998, 3028, 3030, 3049, 3112, 3141, 3156, 3175, 3183, 3187, 3189, 3193, 3211, 3215, 3223, 3231, 3240, 3246, 3249, 3286, 3297, 3299, 3300, 3358, 3376, 3377, 3411, 3425, 3435, 3453, 3474, 3485, 3489, 3506, 3516, 3553, 3564, 3583, 3586, 3589, 3604, 3630, 3641, 3642, 3647, 3665, 3695, 3706, 3716, 3732, 3747, 3751, 3795, 3827, 3831, 3861, 3862, 3888, 3906, 3915, 3923, 3928, 3935, 3945, 3978, 4030, 4044, 4069, 4071, 4109, 4142, 4149, 4152, 4170, 4191, 4216, 4219, 4221, 4236, 4243, 4253, 4262, 4278, 4283, 4292, 4293, 4298, 4305, 4317, 4366, 4425, 4432, 4434, 4497, 4504, 4508, 4522, 4531, 4547, 4549, 4570, 4593, 4606, 4624, 4641, 4681, 4697, 4715, 4728, 4747, 4775, 4795, 4854, 4872, 4882, 4903, 4951, 4979, 5016, 5054, 5069, 5103, 5124, 5148, 5169, 5183, 5184, 5188, 5194, 5223, 5225, 5238, 5284, 5290, 5295, 5310, 5345, 5387, 5394, 5398, 5407, 5415, 5440, 5450, 5470, 5483, 5484, 5545, 5612, 5643, 5681, 5713, 5820, 5821, 5835, 5846, 5890, 5928, 5984, 6051, 6053, 6080, 6121, 6202, 6208, 6248, 6274, 6291, 6294, 6308, 6351, 6356, 6374, 6398, 6409, 6432, 6441, 6481, 6513, 6535, 6536, 6576, 6581, 6582, 6594, 6598, 6624, 6649, 6700, 6786, 6806, 6813, 6819, 6822, 6840, 6846, 6855, 6882, 6909, 6981, 6985, 6998, 7008, 7092, 7101, 7144, 7152, 7159, 7170, 7171, 7184, 7234, 7316, 7331, 7338, 7376, 7404, 7417, 7422, 7448, 7452, 7465, 7472, 7501, 7504, 7517, 7555, 7571, 7589, 7610, 7613, 7622, 7658, 7674, 7676, 7686, 7702, 7750, 7793, 7820, 7824, 7831, 7835, 7836, 7842, 7864, 7885, 7903, 7920, 7957, 7966, 8002, 8039, 8041, 8044, 8064, 8085, 8088, 8105, 8127, 8176, 8189, 8211, 8215, 8224, 8244, 8267, 8273, 8287, 8308, 8370, 8421, 8461, 8473, 8481, 8485, 8499, 8505, 8509, 8513, 8519, 8520, 8625, 8633, 8692, 8713, 8716, 8735, 8773, 8778, 8780, 8790, 8807, 8812, 8817, 8826, 8852, 8855, 8889, 8896, 8905, 8935, 8937, 8944, 8960, 8973, 8979, 8989, 9001, 9011, 9022, 9023, 9024, 9038, 9065, 9073, 9094, 9115, 9125, 9138, 9144, 9152, 9180, 9195, 9214, 9223, 9236, 9277, 9305, 9345, 9373, 9382, 9399, 9406, 9427, 9433, 9446, 9457, 9478, 9482, 9492, 9500, 9519, 9538, 9547, 9558, 9578, 9608, 9643, 9662, 9665, 9685, 9697, 9699, 9720, 9730, 9756, 9759, 9769, 9788, 9809, 9825, 9842, 9863, 9905, 9925, 9948, 9955, 9985, 10000, 10005, 10035, 10040, 10114, 10117, 10140, 10157, 10167, 10182, 10185, 10189, 10207, 10226, 10231, 10258, 10275, 10281, 10309, 10369, 10402, 10417, 10423, 10455, 10496, 10507, 10524, 10542, 10545, 10575, 10591, 10605, 10615, 10644, 10653, 10662, 10666, 10690, 10699, 10721, 10731, 10734, 10739, 10759, 10787, 10814, 10818, 10824, 10832, 10840, 10848, 10863, 10892, 10920, 10923, 10928, 10938, 10939, 10960, 10964, 10974, 11014, 11082, 11105, 11106, 11111, 11159, 11173, 11176, 11177, 11179, 11203, 11213, 11214, 11216, 11261, 11265, 11368, 11374, 11407, 11490, 11502, 11524, 11540, 11541, 11586, 11593, 11598, 11601, 11621, 11646, 11674, 11684, 11693, 11698, 11700, 11722, 11752, 11759, 11770, 11800, 11863, 11885, 11910, 11918, 11928, 11951, 11989, 12021, 12033, 12034, 12040, 12045, 12058, 12093, 12105, 12199, 12219, 12244, 12249, 12256, 12261, 12262, 12279, 12281, 12292, 12386, 12400, 12439, 12455, 12490], [], [127, 202, 203, 242, 269, 308, 425, 465, 495, 528, 569, 601, 602, 703, 779, 873, 888, 953, 1002, 1117, 1180, 1245, 1316, 1355, 1376, 1422, 1520, 1601, 1630, 1767, 1773, 1832, 1897, 1920, 1923, 1924, 1988, 2057, 2293, 2341, 2380, 2497, 2552, 2619, 2705, 2709, 3009, 3098, 3115, 3159, 3232, 3360, 3428, 3432, 3433, 3525, 3566, 3577, 3828, 3856, 3939, 4009, 4101, 4138, 4182, 4373, 4454, 4556, 4571, 4669, 4675, 4695, 4783, 4822, 4988, 5003, 5031, 5121, 5208, 5262, 5314, 5330, 5481, 5497, 5564, 5608, 5627, 5658, 5673, 5781, 5787, 5819, 5825, 5911, 6047, 6195, 6227, 6255, 6326, 6402, 6439, 6453, 6475, 6630, 6821, 6856, 6881, 6886, 6940, 6990, 7231, 7431, 7817, 7871, 8146, 8216, 8389, 8419, 8436, 8446, 8458, 8465, 8467, 8617, 8646, 8827, 8873, 9030, 9047, 9056, 9062, 9096, 9120, 9135, 9147, 9183, 9235, 9245, 9404, 9589, 9616, 9686, 9761, 9826, 9862, 9919, 9952, 9984, 10008, 10026, 10150, 10164, 10233, 10243, 10273, 10313, 10349, 10584, 10635, 10640, 10650, 10733, 10809, 10890, 10910, 10947, 10963, 10979, 10994, 11006, 11008, 11139, 11169, 11170, 11174, 11225, 11331, 11357, 11466, 11528, 11818, 11855, 11895, 11912, 11933, 11964, 12087, 12092, 12122, 12128, 12198, 12350], [], [411, 442, 577, 606, 686, 768, 926, 980, 1346, 1514, 1631, 1634, 1761, 1893, 1965, 2123, 2168, 2342, 2433, 2744, 2898, 2986, 3068, 3160, 3226, 3551, 3650, 3768, 3793, 3886, 4003, 4267, 4777, 4901, 5175, 5288, 5294, 5336, 5496, 5694, 5731, 5879, 6112, 6436, 6758, 6983, 6999, 7140, 7385, 7386, 7493, 7528, 7623, 7640, 7678, 7699, 8104, 8156, 8259, 8394, 8512, 8543, 8637, 9043, 9156, 9202, 9432, 9555, 9645, 9653, 9801, 9873, 9991, 10012, 10515, 10540, 10641, 11085, 11109, 11391, 11427, 11530, 11620, 12238, 12353], [], [46, 226, 239, 315, 338, 486, 496, 585, 732, 868, 889, 1037, 1167, 1336, 1386, 1391, 1410, 1526, 1549, 1627, 1695, 1848, 1856, 2046, 2150, 2219, 2315, 2413, 2554, 2634, 2640, 2876, 2903, 2946, 3008, 3037, 3039, 3048, 3083, 3144, 3225, 3251, 3620, 3693, 3696, 3736, 3767, 3808, 4070, 4098, 4213, 4383, 4392, 4665, 4716, 4745, 4847, 5101, 5272, 5430, 5458, 5717, 6101, 6176, 6264, 6299, 6652, 6699, 6708, 6877, 6960, 7215, 7274, 7322, 7470, 7639, 7693, 7746, 7769, 7775, 7776, 7933, 7997, 8036, 8122, 8138, 8172, 8276, 8334, 8402, 8441, 8703, 8839, 9154, 9295, 9414, 9503, 9506, 9595, 9615, 9746, 9757, 9780, 9782, 9811, 9923, 10046, 10170, 10367, 10405, 10431, 10717, 10772, 10795, 10872, 11121, 11122, 11249, 11255, 11325, 11361, 11597, 11774, 11942, 11988, 12050, 12246], [], [], [53, 91, 497, 610, 769, 924, 1052, 1248, 1290, 1539, 1564, 1667, 1803, 2438, 2479, 2533, 2563, 2679, 2867, 2968, 3053, 3496, 3653, 4024, 4062, 4108, 4110, 4195, 4231, 4232, 4396, 4529, 4828, 4994, 5068, 5520, 5593, 5607, 5814, 6126, 6143, 6184, 6237, 6258, 6317, 6378, 6408, 6666, 6777, 6931, 7033, 7495, 7513, 7581, 7592, 7636, 7704, 7743, 7923, 7930, 7940, 7967, 8058, 8068, 8155, 8352, 8399, 8576, 8580, 8601, 8642, 8690, 8718, 9015, 9146, 9357, 9431, 9439, 9465, 9543, 9593, 9833, 9958, 10041, 10102, 10247, 10326, 10352, 10548, 10660, 11080, 11119, 11190, 11198, 11338, 11386, 11393, 11552, 11587, 11644, 11767, 11778, 11830, 12190, 12452], [], [238, 334, 548, 776, 832, 877, 1179, 1535, 1657, 1770, 1831, 1899, 1979, 2473, 2624, 2725, 2752, 2892, 2894, 2905, 3122, 3502, 3887, 4417, 4488, 4792, 4846, 4983, 5077, 5232, 5563, 5719, 6018, 6049, 6127, 6519, 7426, 7628, 7995, 8439, 8453, 8588, 8613, 9216, 9419, 9483, 9504, 9530, 9603, 9854, 9981, 10124, 10191, 10267, 10632, 10785, 10915, 11334, 11604, 12264, 12383], [], [13, 18, 72, 93, 103, 112, 113, 147, 197, 216, 222, 246, 253, 261, 285, 305, 314, 320, 331, 371, 372, 376, 388, 395, 407, 426, 441, 444, 503, 516, 540, 554, 566, 572, 612, 623, 652, 656, 658, 669, 673, 677, 678, 738, 765, 775, 793, 836, 841, 861, 883, 898, 941, 958, 996, 1003, 1010, 1032, 1070, 1096, 1097, 1138, 1152, 1156, 1193, 1209, 1252, 1303, 1347, 1367, 1387, 1439, 1448, 1483, 1528, 1529, 1538, 1550, 1623, 1646, 1651, 1656, 1716, 1744, 1797, 1817, 1833, 1844, 1845, 1849, 1858, 1941, 1952, 1990, 1991, 2050, 2083, 2084, 2124, 2142, 2174, 2234, 2244, 2249, 2272, 2283, 2289, 2294, 2343, 2357, 2365, 2375, 2386, 2391, 2430, 2466, 2476, 2482, 2495, 2504, 2567, 2658, 2665, 2667, 2673, 2686, 2692, 2726, 2730, 2751, 2812, 2841, 2859, 2895, 2901, 2906, 2914, 2918, 2929, 2958, 2959, 2974, 3001, 3058, 3096, 3103, 3114, 3127, 3142, 3164, 3184, 3221, 3244, 3245, 3253, 3262, 3277, 3288, 3292, 3301, 3323, 3333, 3340, 3343, 3344, 3374, 3500, 3574, 3580, 3607, 3608, 3610, 3637, 3649, 3688, 3735, 3778, 3799, 3865, 3932, 3953, 3966, 3984, 3991, 4017, 4022, 4031, 4035, 4068, 4088, 4118, 4144, 4148, 4155, 4162, 4167, 4217, 4220, 4222, 4264, 4268, 4281, 4377, 4395, 4397, 4407, 4414, 4456, 4478, 4506, 4512, 4526, 4586, 4601, 4611, 4627, 4683, 4720, 4765, 4805, 4831, 4835, 4851, 4865, 4893, 4933, 4953, 4964, 4976, 4981, 4996, 5036, 5074, 5107, 5118, 5160, 5180, 5210, 5275, 5293, 5333, 5371, 5390, 5399, 5434, 5454, 5478, 5565, 5566, 5576, 5585, 5591, 5606, 5631, 5702, 5704, 5743, 5752, 5767, 5794, 5810, 5826, 5854, 5874, 5892, 5902, 5922, 5953, 6021, 6024, 6042, 6043, 6062, 6066, 6078, 6103, 6132, 6151, 6177, 6197, 6217, 6222, 6225, 6240, 6260, 6281, 6284, 6325, 6327, 6349, 6364, 6373, 6393, 6410, 6430, 6466, 6470, 6477, 6484, 6490, 6507, 6514, 6573, 6580, 6583, 6604, 6610, 6632, 6636, 6766, 6794, 6799, 6832, 6874, 6891, 6908, 6948, 7005, 7035, 7069, 7072, 7077, 7081, 7087, 7105, 7114, 7139, 7162, 7168, 7174, 7190, 7218, 7279, 7343, 7355, 7359, 7364, 7377, 7384, 7387, 7418, 7486, 7572, 7585, 7602, 7617, 7618, 7619, 7641, 7643, 7648, 7650, 7712, 7717, 7738, 7751, 7760, 7813, 7868, 7872, 7956, 7971, 7985, 8001, 8004, 8042, 8077, 8095, 8139, 8214, 8265, 8275, 8286, 8293, 8307, 8325, 8343, 8349, 8360, 8371, 8397, 8407, 8459, 8528, 8533, 8559, 8736, 8854, 8858, 8862, 8904, 8907, 8948, 8992, 9052, 9055, 9063, 9076, 9097, 9102, 9111, 9118, 9119, 9124, 9160, 9163, 9184, 9188, 9250, 9276, 9285, 9290, 9296, 9301, 9307, 9309, 9327, 9335, 9381, 9400, 9416, 9421, 9445, 9467, 9507, 9521, 9556, 9559, 9564, 9565, 9581, 9591, 9594, 9607, 9617, 9619, 9664, 9677, 9680, 9684, 9691, 9703, 9705, 9710, 9719, 9725, 9738, 9745, 9767, 9770, 9772, 9819, 9879, 9902, 9921, 9938, 9960, 9980, 10020, 10084, 10099, 10111, 10134, 10216, 10271, 10289, 10334, 10375, 10420, 10422, 10430, 10458, 10491, 10532, 10563, 10566, 10593, 10601, 10656, 10688, 10692, 10711, 10718, 10760, 10788, 10846, 10858, 10869, 10884, 10907, 10957, 10961, 10983, 11028, 11048, 11052, 11054, 11102, 11120, 11132, 11209, 11246, 11275, 11280, 11327, 11394, 11413, 11418, 11439, 11462, 11467, 11483, 11536, 11572, 11574, 11611, 11627, 11667, 11736, 11788, 11803, 11860, 11861, 11870, 11873, 11877, 11881, 11924, 11938, 11940, 11953, 11986, 12037, 12041, 12081, 12098, 12183, 12188, 12197, 12223, 12234, 12268, 12275, 12290, 12354, 12371, 12413, 12428, 12447, 12454, 12491], [], [], [1, 76, 83, 87, 191, 347, 389, 422, 457, 460, 509, 594, 742, 797, 881, 902, 913, 951, 1028, 1092, 1184, 1221, 1258, 1279, 1305, 1318, 1351, 1527, 1675, 1823, 1829, 1903, 2040, 2073, 2078, 2255, 2292, 2317, 2387, 2586, 2646, 2745, 2759, 2869, 2992, 3086, 3093, 3113, 3120, 3219, 3237, 3272, 3291, 3311, 3482, 3530, 3533, 3576, 3597, 3615, 3672, 3753, 3762, 3910, 3913, 3931, 3962, 3973, 3988, 4105, 4178, 4185, 4239, 4308, 4482, 4539, 4541, 4677, 4746, 4760, 4791, 4955, 5022, 5089, 5233, 5287, 5353, 5418, 5479, 5510, 5613, 5625, 5684, 5699, 5712, 5751, 5901, 5939, 5979, 6015, 6099, 6158, 6196, 6238, 6241, 6282, 6310, 6354, 6391, 6450, 6488, 6527, 6584, 6607, 6622, 6641, 6654, 6692, 6739, 6792, 6823, 6833, 6866, 7014, 7028, 7076, 7085, 7095, 7119, 7130, 7132, 7232, 7271, 7362, 7393, 7405, 7430, 7453, 7479, 7510, 7611, 7696, 7701, 7753, 7901, 7909, 7929, 8017, 8135, 8136, 8148, 8163, 8208, 8210, 8261, 8282, 8335, 8350, 8541, 8542, 8549, 8627, 8671, 8702, 8758, 8775, 8813, 8893, 8895, 8909, 8947, 8957, 9002, 9044, 9046, 9101, 9127, 9153, 9217, 9230, 9297, 9302, 9338, 9348, 9415, 9489, 9515, 9540, 9562, 9658, 9715, 9743, 9838, 9855, 9890, 10064, 10071, 10078, 10126, 10175, 10177, 10254, 10274, 10302, 10329, 10370, 10433, 10434, 10449, 10453, 10477, 10495, 10530, 10588, 10686, 10836, 10940, 11131, 11253, 11314, 11367, 11419, 11434, 11469, 11488, 11504, 11509, 11650, 11663, 11714, 11812, 11817, 11848, 11896, 11962, 11996, 12008, 12090, 12266, 12278, 12287, 12330, 12360, 12411, 12427, 12438], [], [], [8, 44, 94, 116, 159, 169, 206, 211, 260, 273, 303, 313, 328, 382, 386, 394, 399, 448, 458, 483, 507, 521, 550, 551, 620, 674, 730, 798, 802, 809, 880, 891, 934, 935, 957, 1006, 1021, 1073, 1080, 1108, 1139, 1175, 1195, 1202, 1215, 1250, 1277, 1353, 1354, 1361, 1393, 1418, 1442, 1444, 1449, 1485, 1490, 1536, 1561, 1581, 1591, 1658, 1701, 1783, 1804, 1900, 1948, 1976, 2109, 2118, 2129, 2172, 2254, 2323, 2351, 2449, 2457, 2515, 2543, 2595, 2610, 2630, 2702, 2706, 2710, 2723, 2768, 2774, 2792, 2801, 2806, 2866, 2919, 2971, 2999, 3067, 3087, 3131, 3133, 3173, 3197, 3200, 3207, 3214, 3241, 3243, 3279, 3310, 3334, 3353, 3380, 3384, 3408, 3413, 3448, 3495, 3521, 3523, 3537, 3579, 3581, 3605, 3836, 3841, 3852, 3866, 3894, 3934, 3941, 3951, 3995, 4008, 4014, 4080, 4091, 4120, 4140, 4166, 4171, 4174, 4215, 4247, 4271, 4288, 4357, 4370, 4376, 4409, 4440, 4563, 4628, 4635, 4718, 4723, 4750, 4806, 4833, 4834, 4857, 4870, 4921, 4939, 4945, 4946, 4972, 5030, 5034, 5120, 5133, 5147, 5214, 5234, 5235, 5242, 5258, 5259, 5281, 5332, 5358, 5383, 5457, 5505, 5532, 5552, 5598, 5599, 5609, 5616, 5734, 5850, 5886, 5994, 6027, 6077, 6117, 6125, 6191, 6312, 6366, 6381, 6392, 6449, 6492, 6493, 6566, 6611, 6621, 6633, 6650, 6696, 6718, 6731, 6754, 6804, 6841, 6871, 6890, 6910, 6956, 6982, 7045, 7050, 7058, 7065, 7070, 7080, 7093, 7108, 7165, 7225, 7235, 7246, 7313, 7325, 7360, 7399, 7427, 7434, 7446, 7456, 7591, 7626, 7638, 7653, 7685, 7810, 7811, 7845, 7861, 7904, 7941, 8014, 8113, 8133, 8197, 8230, 8238, 8243, 8269, 8278, 8312, 8328, 8332, 8337, 8344, 8381, 8384, 8409, 8423, 8457, 8488, 8498, 8530, 8610, 8621, 8635, 8679, 8687, 8779, 8793, 8796, 8833, 8850, 8860, 8941, 8945, 8971, 9036, 9161, 9192, 9207, 9208, 9221, 9253, 9303, 9407, 9425, 9458, 9461, 9487, 9527, 9532, 9534, 9561, 9773, 9884, 9917, 9927, 9934, 10022, 10053, 10127, 10142, 10156, 10208, 10240, 10272, 10323, 10338, 10365, 10421, 10461, 10509, 10518, 10544, 10583, 10598, 10604, 10617, 10619, 10651, 10657, 10693, 10722, 10742, 10816, 10847, 10850, 10854, 10866, 10906, 10918, 10937, 10998, 11022, 11043, 11059, 11155, 11167, 11194, 11260, 11262, 11274, 11301, 11337, 11403, 11420, 11481, 11491, 11498, 11513, 11569, 11576, 11600, 11603, 11651, 11670, 11685, 11745, 11781, 11935, 11978, 11998, 12066, 12067, 12100, 12178, 12224, 12241, 12247, 12250, 12251, 12276, 12307, 12316, 12391, 12401, 12410, 12462, 12484, 12499], [], [120, 423, 536, 607, 750, 1168, 1415, 1819, 1951, 2125, 2303, 2814, 3266, 3443, 3622, 4517, 4533, 4650, 5146, 5271, 5424, 5544, 5570, 5756, 5834, 6100, 6182, 6206, 6524, 6764, 7061, 7128, 7280, 7895, 7898, 7951, 8034, 8084, 8573, 8821, 8954, 9033, 9176, 9210, 9263, 9395, 9618, 10505, 11459, 11658, 11758, 11894, 12144, 12165, 12169, 12270, 12322], [], [95, 133, 174, 366, 403, 539, 595, 721, 743, 848, 886, 895, 905, 1049, 1107, 1211, 1222, 1531, 1596, 1637, 1886, 1968, 2000, 2030, 2167, 2194, 2203, 2216, 2221, 2338, 2468, 2507, 2512, 2532, 2587, 2767, 3186, 3216, 3383, 3392, 3458, 3464, 3478, 3491, 3656, 3731, 3750, 3774, 3811, 3832, 3883, 3902, 3904, 4099, 4145, 4234, 4345, 4375, 4486, 4649, 4741, 5001, 5114, 5211, 5327, 5396, 5466, 5492, 5596, 5662, 5737, 5742, 5755, 5784, 5801, 5818, 5824, 5859, 5875, 5945, 6148, 6198, 6205, 6269, 6271, 6342, 6431, 6447, 6455, 6458, 6529, 6775, 6850, 6991, 7007, 7121, 7167, 7259, 7275, 7547, 7660, 7707, 7781, 7897, 7950, 7970, 8018, 8040, 8123, 8474, 8490, 8493, 8574, 8582, 8591, 8612, 8641, 8844, 9048, 9089, 9133, 9288, 9334, 9352, 9356, 9455, 9516, 9553, 9599, 9600, 9644, 9834, 9835, 9906, 9914, 9937, 9988, 10093, 10119, 10161, 10270, 10294, 10456, 10485, 10562, 10654, 10671, 10687, 10708, 10764, 10798, 10838, 10952, 10984, 11257, 11266, 11296, 11303, 11358, 11395, 11429, 11460, 11463, 11535, 11545, 11559, 11575, 11680, 11756, 11790, 11872, 11955, 11956, 12046, 12134, 12347, 12348, 12369, 12457], [], [], [45, 66, 81, 84, 176, 198, 258, 265, 299, 304, 310, 337, 427, 451, 462, 520, 649, 681, 693, 701, 705, 727, 796, 839, 944, 946, 982, 995, 1160, 1174, 1334, 1427, 1457, 1497, 1509, 1572, 1584, 1771, 1926, 1934, 2002, 2013, 2038, 2045, 2055, 2095, 2127, 2131, 2156, 2215, 2245, 2269, 2284, 2286, 2368, 2371, 2404, 2434, 2477, 2498, 2539, 2618, 2639, 2676, 2794, 2893, 2937, 3075, 3296, 3309, 3332, 3341, 3421, 3449, 3457, 3469, 3472, 3479, 3510, 3618, 3684, 3721, 3801, 3804, 3805, 3848, 3917, 3964, 3987, 4020, 4121, 4141, 4143, 4164, 4275, 4331, 4423, 4467, 4509, 4521, 4524, 4610, 4620, 4647, 4661, 4684, 4690, 4736, 4751, 4761, 4794, 4812, 4813, 4821, 4840, 4858, 4883, 4928, 4935, 4944, 4947, 4990, 5018, 5055, 5065, 5141, 5218, 5222, 5264, 5279, 5280, 5298, 5319, 5349, 5392, 5422, 5429, 5487, 5502, 5586, 5617, 5657, 5682, 5695, 5744, 5837, 5840, 5865, 5900, 5903, 5924, 6003, 6134, 6200, 6276, 6297, 6313, 6377, 6413, 6448, 6460, 6467, 6476, 6579, 6585, 6617, 6670, 6735, 6737, 6738, 6771, 6800, 6864, 6875, 6934, 7010, 7011, 7016, 7030, 7109, 7145, 7149, 7185, 7212, 7216, 7236, 7247, 7251, 7260, 7363, 7412, 7424, 7443, 7511, 7529, 7700, 7803, 7809, 7822, 7841, 7843, 7947, 8016, 8029, 8045, 8057, 8094, 8184, 8186, 8226, 8258, 8263, 8270, 8303, 8347, 8362, 8375, 8383, 8395, 8768, 8847, 8880, 8899, 8916, 8936, 9034, 9059, 9071, 9074, 9084, 9087, 9091, 9149, 9172, 9224, 9331, 9426, 9449, 9498, 9510, 9544, 9571, 9580, 9736, 9799, 9893, 9894, 9994, 10019, 10029, 10054, 10063, 10155, 10159, 10200, 10244, 10316, 10392, 10426, 10480, 10482, 10533, 10705, 10716, 10732, 10817, 10819, 10842, 10865, 10874, 10904, 10905, 10924, 10953, 10977, 11079, 11098, 11142, 11239, 11243, 11254, 11317, 11346, 11362, 11492, 11506, 11558, 11615, 11672, 11716, 11780, 11809, 11868, 11913, 11954, 11976, 12022, 12042, 12048, 12065, 12069, 12071, 12083, 12119, 12170, 12239, 12255, 12263, 12310, 12351, 12382, 12459, 12460, 12464, 12489, 12496], [38, 74, 272, 543, 753, 781, 933, 945, 1066, 1093, 1413, 1480, 1645, 1781, 1791, 1793, 1794, 1816, 1906, 1943, 1987, 2028, 2140, 2182, 2267, 2615, 2820, 2865, 2941, 2976, 3134, 3139, 3181, 3267, 3567, 3569, 3666, 3699, 4045, 4156, 4389, 4416, 4458, 4564, 4598, 4599, 4608, 4707, 4756, 4895, 5006, 5139, 5186, 5276, 5409, 5477, 5675, 5708, 5768, 5798, 6059, 6244, 6287, 6340, 6541, 6606, 6669, 6865, 7134, 7433, 7444, 8097, 8358, 8514, 8556, 8618, 8799, 8836, 8988, 9108, 9185, 9318, 9387, 9471, 9569, 9954, 9964, 10104, 10377, 10381, 10406, 10464, 10514, 10549, 10700, 10773, 10827, 11009, 11212, 11259, 11451, 11478, 11613, 11647, 11891, 12049, 12332, 12379], [10, 15, 64, 67, 108, 155, 224, 252, 298, 353, 476, 562, 580, 589, 598, 605, 644, 720, 760, 762, 849, 862, 914, 952, 1008, 1020, 1077, 1100, 1119, 1124, 1253, 1285, 1298, 1365, 1429, 1450, 1477, 1525, 1652, 1692, 1697, 1704, 1745, 1758, 1836, 1902, 1913, 1969, 1998, 2062, 2110, 2143, 2151, 2355, 2363, 2408, 2458, 2534, 2560, 2576, 2577, 2653, 2831, 2923, 3045, 3069, 3070, 3188, 3252, 3254, 3295, 3347, 3396, 3439, 3442, 3447, 3481, 3524, 3558, 3593, 3733, 3790, 3968, 4061, 4084, 4092, 4128, 4159, 4177, 4299, 4332, 4348, 4355, 4447, 4480, 4494, 4523, 4558, 4582, 4685, 4738, 4965, 4985, 5026, 5043, 5050, 5113, 5195, 5311, 5316, 5318, 5337, 5359, 5463, 5550, 5556, 5595, 5600, 5641, 5925, 5942, 6005, 6006, 6020, 6030, 6130, 6166, 6185, 6218, 6245, 6246, 6319, 6372, 6414, 6440, 6486, 6538, 6634, 6635, 6642, 6673, 6682, 6785, 6869, 6895, 7049, 7079, 7100, 7207, 7245, 7254, 7256, 7289, 7335, 7542, 7551, 7559, 7599, 7672, 7732, 7796, 7876, 7882, 7949, 8024, 8032, 8038, 8182, 8188, 8192, 8330, 8331, 8405, 8430, 8479, 8516, 8525, 8558, 8569, 8584, 8662, 8691, 8719, 8823, 8875, 8911, 9042, 9050, 9081, 9198, 9229, 9322, 9325, 9332, 9361, 9401, 9442, 9448, 9477, 9512, 9541, 9576, 9712, 9899, 9965, 9966, 9993, 10203, 10204, 10211, 10361, 10396, 10432, 10435, 10459, 10478, 10516, 10543, 10560, 10704, 10774, 10829, 10867, 10879, 10913, 10988, 10990, 11040, 11103, 11113, 11163, 11165, 11288, 11359, 11363, 11366, 11414, 11422, 11438, 11443, 11484, 11486, 11626, 11636, 11654, 11811, 11820, 11859, 11869, 11982, 12036, 12150, 12226, 12274, 12321, 12328, 12393, 12476], [55, 163, 294, 356, 364, 369, 379, 430, 438, 494, 519, 831, 837, 869, 938, 947, 950, 973, 1044, 1136, 1259, 1332, 1340, 1511, 1522, 1523, 1569, 1571, 1621, 1718, 1728, 1877, 2024, 2212, 2227, 2261, 2325, 2445, 2461, 2569, 2626, 2637, 2654, 2713, 2800, 2807, 2897, 2915, 2931, 2972, 3016, 3033, 3236, 3256, 3382, 3410, 3460, 3575, 3681, 3756, 3771, 3782, 3834, 4054, 4072, 4090, 4123, 4163, 4199, 4205, 4233, 4266, 4276, 4315, 4394, 4476, 4503, 4519, 4623, 4778, 4819, 5010, 5023, 5142, 5150, 5231, 5307, 5435, 5438, 5443, 5447, 5488, 5501, 5526, 5623, 5674, 5721, 5726, 5735, 5740, 5780, 5833, 5880, 5889, 5916, 5966, 5982, 6104, 6170, 6221, 6279, 6290, 6348, 6369, 6464, 6512, 6639, 6684, 6788, 6795, 6858, 6884, 6926, 7022, 7029, 7193, 7217, 7332, 7370, 7415, 7432, 7449, 7454, 7475, 7507, 7562, 7584, 7587, 7606, 7764, 7873, 7894, 7960, 8009, 8043, 8078, 8115, 8150, 8206, 8219, 8220, 8237, 8241, 8256, 8354, 8376, 8501, 8564, 8631, 8632, 8654, 8714, 8750, 8929, 9028, 9060, 9114, 9134, 9145, 9178, 9233, 9248, 9283, 9370, 9441, 9481, 9587, 9604, 9675, 9942, 9963, 9978, 10079, 10199, 10256, 10330, 10350, 10489, 10492, 10497, 10610, 10633, 10670, 10709, 10765, 10799, 10808, 10893, 11000, 11065, 11073, 11115, 11134, 11205, 11404, 11409, 11477, 11519, 11542, 11687, 11732, 11765, 11835, 11851, 11852, 11887, 11915, 11981, 12001, 12002, 12166, 12230, 12320, 12485], [], [5, 60, 65, 107, 126, 132, 137, 145, 152, 162, 168, 183, 184, 212, 288, 307, 312, 354, 360, 378, 380, 434, 456, 463, 480, 506, 527, 557, 568, 578, 635, 641, 643, 657, 667, 714, 717, 733, 736, 754, 757, 763, 795, 829, 844, 845, 846, 872, 885, 960, 966, 967, 970, 989, 1026, 1051, 1067, 1072, 1112, 1186, 1199, 1239, 1256, 1271, 1286, 1310, 1314, 1323, 1362, 1396, 1407, 1435, 1484, 1499, 1502, 1555, 1563, 1567, 1575, 1608, 1613, 1629, 1666, 1672, 1686, 1713, 1724, 1729, 1732, 1742, 1753, 1759, 1774, 1811, 1824, 1834, 1840, 1841, 1847, 1865, 1869, 1896, 1916, 1946, 1954, 1957, 1995, 2014, 2037, 2047, 2052, 2099, 2139, 2183, 2184, 2195, 2199, 2201, 2204, 2237, 2253, 2282, 2313, 2335, 2364, 2420, 2459, 2516, 2558, 2562, 2589, 2663, 2671, 2721, 2741, 2766, 2771, 2785, 2802, 2804, 2822, 2825, 2838, 2843, 2862, 2874, 2878, 2885, 2899, 2908, 2934, 2988, 3015, 3056, 3064, 3072, 3076, 3085, 3125, 3143, 3165, 3255, 3259, 3261, 3276, 3278, 3284, 3289, 3290, 3302, 3328, 3338, 3385, 3397, 3412, 3426, 3441, 3515, 3538, 3545, 3555, 3585, 3614, 3644, 3679, 3692, 3710, 3711, 3714, 3738, 3742, 3780, 3798, 3807, 3818, 3896, 3909, 3956, 3979, 4004, 4032, 4038, 4077, 4086, 4115, 4131, 4150, 4180, 4181, 4189, 4240, 4273, 4290, 4302, 4303, 4306, 4312, 4321, 4344, 4350, 4372, 4378, 4386, 4401, 4445, 4459, 4475, 4487, 4496, 4510, 4516, 4525, 4540, 4544, 4546, 4578, 4587, 4643, 4693, 4709, 4712, 4739, 4762, 4785, 4786, 4789, 4801, 4842, 4849, 4852, 4892, 4957, 4980, 5021, 5032, 5058, 5071, 5098, 5152, 5154, 5199, 5202, 5367, 5376, 5406, 5421, 5468, 5469, 5516, 5554, 5618, 5630, 5639, 5653, 5670, 5696, 5706, 5715, 5733, 5746, 5753, 5761, 5805, 5836, 5862, 5877, 5881, 5887, 5913, 5941, 5965, 5973, 6001, 6009, 6010, 6031, 6036, 6039, 6052, 6057, 6070, 6107, 6169, 6171, 6179, 6190, 6212, 6251, 6270, 6302, 6309, 6311, 6329, 6331, 6352, 6419, 6443, 6445, 6500, 6516, 6528, 6586, 6592, 6596, 6597, 6599, 6637, 6651, 6678, 6690, 6707, 6716, 6726, 6750, 6760, 6784, 6801, 6803, 6809, 6816, 6818, 6862, 6879, 6880, 6905, 6945, 6950, 6967, 6969, 6972, 6978, 6989, 7001, 7012, 7013, 7037, 7043, 7059, 7060, 7067, 7169, 7172, 7176, 7183, 7189, 7223, 7226, 7233, 7238, 7296, 7300, 7304, 7309, 7311, 7336, 7351, 7396, 7408, 7421, 7441, 7462, 7466, 7477, 7482, 7503, 7515, 7516, 7518, 7549, 7601, 7616, 7635, 7642, 7715, 7752, 7756, 7757, 7771, 7791, 7801, 7805, 7806, 7863, 7866, 7888, 7900, 7953, 7963, 8008, 8015, 8028, 8035, 8079, 8081, 8129, 8221, 8281, 8296, 8301, 8302, 8304, 8314, 8329, 8348, 8373, 8400, 8445, 8449, 8468, 8492, 8500, 8529, 8567, 8583, 8596, 8636, 8682, 8694, 8727, 8728, 8765, 8828, 8885, 8891, 8922, 8950, 8956, 8967, 8972, 8981, 9016, 9026, 9037, 9099, 9112, 9142, 9151, 9168, 9187, 9226, 9266, 9268, 9292, 9336, 9377, 9384, 9424, 9490, 9511, 9528, 9563, 9588, 9612, 9622, 9624, 9625, 9632, 9647, 9663, 9666, 9671, 9704, 9724, 9740, 9754, 9766, 9795, 9810, 9844, 9920, 9926, 9949, 10002, 10013, 10034, 10076, 10094, 10121, 10132, 10139, 10163, 10260, 10264, 10301, 10303, 10347, 10358, 10386, 10409, 10429, 10475, 10486, 10490, 10501, 10553, 10574, 10582, 10596, 10602, 10628, 10677, 10768, 10783, 10825, 10843, 10921, 10997, 11076, 11081, 11084, 11090, 11108, 11126, 11144, 11171, 11181, 11187, 11193, 11207, 11272, 11305, 11318, 11341, 11385, 11410, 11423, 11425, 11520, 11525, 11563, 11581, 11584, 11637, 11689, 11727, 11744, 11761, 11847, 11871, 11874, 11886, 11903, 11908, 11934, 11973, 11999, 12064, 12070, 12080, 12106, 12121, 12152, 12160, 12180, 12186, 12192, 12236, 12271, 12280, 12285, 12298, 12305, 12327, 12329, 12335, 12362, 12375, 12395, 12441, 12467, 12474, 12486, 12494]]\n"
          ]
        }
      ],
      "source": [
        "print(clusters45)"
      ]
    },
    {
      "cell_type": "code",
      "execution_count": null,
      "metadata": {
        "id": "7srFC6oA7jre",
        "colab": {
          "base_uri": "https://localhost:8080/"
        },
        "outputId": "96ed9d51-94a5-4794-f714-bf104fd18d09"
      },
      "outputs": [
        {
          "metadata": {
            "tags": null
          },
          "name": "stdout",
          "output_type": "stream",
          "text": [
            "(10000, 42)\n"
          ]
        }
      ],
      "source": [
        "print(test.shape)\n",
        "testclusters45,testconf45=predict(test,centroids45)"
      ]
    },
    {
      "cell_type": "code",
      "execution_count": null,
      "metadata": {
        "id": "SDS-3-aG7qbC",
        "colab": {
          "base_uri": "https://localhost:8080/"
        },
        "outputId": "6c6845ca-be22-4019-a83b-a8a32429793e"
      },
      "outputs": [
        {
          "output_type": "stream",
          "name": "stdout",
          "text": [
            "0.5228\n"
          ]
        }
      ],
      "source": [
        "# make confusion test matrix of k = 45 clusters\n",
        "testconfusion45=makeconftest(clusters45,testconf45,cllabel45)\n",
        "print(np.trace(testconfusion45)/sum(sum(testconfusion45)))"
      ]
    },
    {
      "cell_type": "markdown",
      "metadata": {
        "id": "zxVhEXTE73Iy"
      },
      "source": [
        "Normalized Cut"
      ]
    },
    {
      "cell_type": "code",
      "execution_count": null,
      "metadata": {
        "id": "j4H02JaQgDxD"
      },
      "outputs": [],
      "source": [
        "# split the train dataset into train2 and test2 sets with a ratio of 0.9975. \n",
        "#train2 and test2 contain the feature columns of the train dataset while ytrain2 and ytest2 contain the corresponding labels\n",
        "np.random.seed(42)\n",
        "random.seed(42)\n",
        "random_state = check_random_state(42)\n",
        "\n",
        "X = train.iloc[:, :-1]  # features\n",
        "y = train.iloc[:, -1]   # labels\n",
        "train2, test2, ytrain2, ytest2 = train_test_split(X, y, test_size=0.9975, random_state=random_state)"
      ]
    },
    {
      "cell_type": "code",
      "execution_count": null,
      "metadata": {
        "id": "VPx55-pMwrqG",
        "colab": {
          "base_uri": "https://localhost:8080/"
        },
        "outputId": "32677534-da3b-4dec-c04a-2c6f7191ce06"
      },
      "outputs": [
        {
          "output_type": "stream",
          "name": "stdout",
          "text": [
            "(31, 41)\n"
          ]
        }
      ],
      "source": [
        "print(train2.shape)"
      ]
    },
    {
      "cell_type": "code",
      "execution_count": null,
      "metadata": {
        "id": "3cHSs2HnwtQ_"
      },
      "outputs": [],
      "source": [
        "# A is the RBF kernel matrix computed from the training data\n",
        "A=rbf_kernel(train2)\n",
        "# D is the diagonal matrix of the row sums of A\n",
        "D=np.diag(np.sum(A,axis=1))\n",
        "# L is the graph Laplacian matrix\n",
        "L=D-A\n",
        "# Dinv is the inverse of D\n",
        "Dinv=np.linalg.inv(D)\n",
        "# L_norm is the normalized graph Laplacian\n",
        "L_norm = Dinv @ L"
      ]
    },
    {
      "cell_type": "code",
      "execution_count": null,
      "metadata": {
        "id": "agREH5kbwrPL",
        "colab": {
          "base_uri": "https://localhost:8080/"
        },
        "outputId": "167edc53-0360-41a4-fe31-e98929bdc50e"
      },
      "outputs": [
        {
          "output_type": "stream",
          "name": "stderr",
          "text": [
            "/usr/local/lib/python3.9/dist-packages/sklearn/cluster/_kmeans.py:870: FutureWarning: The default value of `n_init` will change from 10 to 'auto' in 1.4. Set the value of `n_init` explicitly to suppress the warning\n",
            "  warnings.warn(\n"
          ]
        }
      ],
      "source": [
        "# Compute the eigenvectors of the Laplacian matrix using sparse eigen decomposition\n",
        "_, X = eigs(L_norm, k=23, which=\"SM\")\n",
        "# Take the real part of the eigenvectors to remove any imaginary component\n",
        "X = np.real(X)\n",
        "# Normalize the eigenvectors to unit length\n",
        "X = normalize(X, axis=0)\n",
        "# Perform k-means clustering with 23 clusters on the normalized eigenvectors\n",
        "kmeans = KMeans(n_clusters=23).fit(X)\n",
        "# Reshape the cluster assignments to match the shape of the original training labels\n",
        "mask = np.reshape(kmeans.labels_, ytrain2.shape)\n",
        "# Get the cluster centers as the final embedding\n",
        "centers = kmeans.cluster_centers_"
      ]
    },
    {
      "cell_type": "code",
      "execution_count": null,
      "metadata": {
        "id": "OlyozjzZyQoS",
        "colab": {
          "base_uri": "https://localhost:8080/"
        },
        "outputId": "ec368f73-c41e-42be-f732-bd6757792084"
      },
      "outputs": [
        {
          "output_type": "stream",
          "name": "stdout",
          "text": [
            "(31, 23)\n"
          ]
        }
      ],
      "source": [
        "print(X.shape)"
      ]
    },
    {
      "cell_type": "code",
      "execution_count": null,
      "metadata": {
        "id": "sSGevOPOyTwo"
      },
      "outputs": [],
      "source": [
        "# normalise eigen vectors\n",
        "ncutconf=np.zeros((mask.shape[0],2))\n",
        "for i in range(mask.shape[0]):\n",
        "  ncutconf[i][0]=mask[i]\n",
        "  ncutconf[i][1]=ytrain2.iloc[i]"
      ]
    },
    {
      "cell_type": "code",
      "execution_count": null,
      "metadata": {
        "id": "r-O2xTIpyY9Y",
        "colab": {
          "base_uri": "https://localhost:8080/"
        },
        "outputId": "7c158be2-00ba-409e-d16f-d91e26fb8592"
      },
      "outputs": [
        {
          "output_type": "stream",
          "name": "stdout",
          "text": [
            "0.967741935483871\n"
          ]
        }
      ],
      "source": [
        "#computes the confusion matrix for the Ncut clustering method\n",
        "\n",
        "# Initialize the matching matrix with zeros\n",
        "matching=np.zeros((23,40))\n",
        "\n",
        "# Loop through each sample in the Ncut confusion matrix and update the matching matrix\n",
        "for sample in ncutconf:\n",
        "  matching[int(sample[0]),int(sample[1])]=  matching[int(sample[0]),int(sample[1])]+1\n",
        "\n",
        "# Find the cluster label for each cluster \n",
        "# by finding the index of the maximum value in the corresponding row of the matching matrix\n",
        "cllabel=np.ones(23)*-1\n",
        "for i in range(23):\n",
        "    cllabel[i]=np.argmax(matching[i,:])\n",
        "\n",
        "# Compute the confusion matrix for the training data using the computed cluster labels and the ground truth labels\n",
        "trainconfusionncut=np.zeros((40,40))\n",
        "for sample in ncutconf:\n",
        "  trainconfusionncut[int(sample[1]),int(cllabel[int(sample[0])])]=trainconfusionncut[int(sample[1]),int(cllabel[int(sample[0])])]+1\n",
        "# Compute the accuracy by dividing the trace of the confusion matrix by the sum of all its elements\n",
        "print(np.trace(trainconfusionncut)/sum(sum(trainconfusionncut)))"
      ]
    },
    {
      "cell_type": "markdown",
      "metadata": {
        "id": "7TGikuh9h207"
      },
      "source": [
        "# Evaluation of Kmeans and Normalized Cut Clustering"
      ]
    },
    {
      "cell_type": "markdown",
      "metadata": {
        "id": "o090hteFDORo"
      },
      "source": [
        "Kmeans Evaluation Using Train Dataset"
      ]
    },
    {
      "cell_type": "code",
      "execution_count": null,
      "metadata": {
        "id": "GokwP5D6DPGZ"
      },
      "outputs": [],
      "source": [
        "#Compute Precision, Recall, and F1 score\n",
        "def precision_recall_f1_train(trainconfusion):\n",
        "    eps=1e-9\n",
        "    tp = np.diagonal(trainconfusion)\n",
        "    fp = np.sum(trainconfusion, axis=0) - tp\n",
        "    fn = np.sum(trainconfusion, axis=1) - tp\n",
        "    precision = tp / (tp + fp + eps)\n",
        "    recall = tp / (tp + fn + eps)\n",
        "    f1_score = 2 * (precision * recall) / (precision + recall + eps)\n",
        "    return precision, recall, f1_score\n",
        "\n",
        "#Create a function to compute the Conditional Entropy\n",
        "def conditional_entropy_train(trainconfusion):\n",
        "    eps = 1e-10\n",
        "    # Normalize the confusion matrix\n",
        "    norm_confusion_matrix = trainconfusion / (np.sum(trainconfusion, axis=1, keepdims=True) + eps)\n",
        "    norm_confusion_matrix += eps\n",
        "    # Compute the conditional entropy\n",
        "    entropy = -np.sum(np.nan_to_num(norm_confusion_matrix * np.log2(norm_confusion_matrix), neginf=0), axis=1)\n",
        "    # Compute the overall conditional entropy\n",
        "    labels_count = np.sum(trainconfusion, axis=1)\n",
        "    total_samples = np.sum(labels_count)\n",
        "    overall_cond_entropy = np.sum(entropy * labels_count) / total_samples\n",
        "\n",
        "    return entropy, overall_cond_entropy\n"
      ]
    },
    {
      "cell_type": "code",
      "execution_count": null,
      "metadata": {
        "colab": {
          "base_uri": "https://localhost:8080/"
        },
        "id": "Mb9K8kDNtKqq",
        "outputId": "8abc8711-bd91-4505-becc-cf4205762eeb"
      },
      "outputs": [
        {
          "name": "stdout",
          "output_type": "stream",
          "text": [
            "K = 7\n",
            "Precision: 0.8753485585380245\n",
            "Recall: 0.8528917686583205\n",
            "F1 Score: 0.8245499513497646\n",
            "Conditional Entropy: 0.27351935786169007\n"
          ]
        }
      ],
      "source": [
        "# K = 7 \n",
        "#Calculate the Precision, Recall, F1 score, and Conditional Entropy\n",
        "precision, recall, f1_score = precision_recall_f1_train(trainconfusion7)\n",
        "cond_entropy, overall_cond_entropy_train = conditional_entropy_train(trainconfusion7)\n",
        "\n",
        "# Get the overall Precision, Recall, and F1 score\n",
        "labels_count_train = np.sum(trainconfusion7, axis=1)\n",
        "total_samples_train = np.sum(labels_count_train)\n",
        "\n",
        "# Weighted average\n",
        "weighted_precision_train = np.sum(precision * labels_count_train) / total_samples_train\n",
        "weighted_recall_train = np.sum(recall * labels_count_train) / total_samples_train\n",
        "weighted_f1_score_train = np.sum(f1_score * labels_count_train) / total_samples_train\n",
        "#weighted_cond_entropy = np.sum(cond_entropy * labels_count) / total_samples\n",
        "\n",
        "print(\"K = 7\")\n",
        "print(\"Precision:\", weighted_precision_train)\n",
        "print(\"Recall:\", weighted_recall_train)\n",
        "print(\"F1 Score:\", weighted_f1_score_train)\n",
        "print(\"Conditional Entropy:\", overall_cond_entropy_train)\n"
      ]
    },
    {
      "cell_type": "code",
      "execution_count": null,
      "metadata": {
        "colab": {
          "base_uri": "https://localhost:8080/"
        },
        "id": "BBsSIHSBEAKZ",
        "outputId": "a1103d54-549e-4fb7-d52c-6ce090a7c751"
      },
      "outputs": [
        {
          "name": "stdout",
          "output_type": "stream",
          "text": [
            "K = 15\n",
            "Precision: 0.8838379094741835\n",
            "Recall: 0.8611311095109799\n",
            "F1 Score: 0.836424159705755\n",
            "Conditional Entropy: 0.2739461317475885\n"
          ]
        }
      ],
      "source": [
        "# K = 15\n",
        "#Calculate the Precision, Recall, F1 score, and Conditional Entropy\n",
        "precision, recall, f1_score = precision_recall_f1_train(trainconfusion15)\n",
        "cond_entropy, overall_cond_entropy_train = conditional_entropy_train(trainconfusion15)\n",
        "\n",
        "# Get the overall Precision, Recall, and F1 score\n",
        "labels_count_train = np.sum(trainconfusion15, axis=1)\n",
        "total_samples_train = np.sum(labels_count_train)\n",
        "\n",
        "# Weighted average\n",
        "weighted_precision_train = np.sum(precision * labels_count_train) / total_samples_train\n",
        "weighted_recall_train = np.sum(recall * labels_count_train) / total_samples_train\n",
        "weighted_f1_score_train = np.sum(f1_score * labels_count_train) / total_samples_train\n",
        "#weighted_cond_entropy = np.sum(cond_entropy * labels_count) / total_samples\n",
        "\n",
        "print(\"K = 15\")\n",
        "print(\"Precision:\", weighted_precision_train)\n",
        "print(\"Recall:\", weighted_recall_train)\n",
        "print(\"F1 Score:\", weighted_f1_score_train)\n",
        "print(\"Conditional Entropy:\", overall_cond_entropy_train)\n"
      ]
    },
    {
      "cell_type": "code",
      "execution_count": null,
      "metadata": {
        "colab": {
          "base_uri": "https://localhost:8080/"
        },
        "id": "Vovk3uQ1EK8T",
        "outputId": "9f07ea97-bfa3-4629-8fec-ff4582c62326"
      },
      "outputs": [
        {
          "name": "stdout",
          "output_type": "stream",
          "text": [
            "K = 23\n",
            "Precision: 0.9398543372386294\n",
            "Recall: 0.9569330624175901\n",
            "F1 Score: 0.9482006514193213\n",
            "Conditional Entropy: 0.1448964873175516\n"
          ]
        }
      ],
      "source": [
        "# K = 23\n",
        "#Calculate the Precision, Recall, F1 score, and Conditional Entropy\n",
        "precision, recall, f1_score = precision_recall_f1_train(trainconfusion23)\n",
        "cond_entropy, overall_cond_entropy_train = conditional_entropy_train(trainconfusion23)\n",
        "\n",
        "# Get the overall Precision, Recall, and F1 score\n",
        "labels_count_train = np.sum(trainconfusion15, axis=1)\n",
        "total_samples_train = np.sum(labels_count_train)\n",
        "\n",
        "# Weighted average\n",
        "weighted_precision_train = np.sum(precision * labels_count_train) / total_samples_train\n",
        "weighted_recall_train = np.sum(recall * labels_count_train) / total_samples_train\n",
        "weighted_f1_score_train = np.sum(f1_score * labels_count_train) / total_samples_train\n",
        "#weighted_cond_entropy = np.sum(cond_entropy * labels_count) / total_samples\n",
        "\n",
        "print(\"K = 23\")\n",
        "print(\"Precision:\", weighted_precision_train)\n",
        "print(\"Recall:\", weighted_recall_train)\n",
        "print(\"F1 Score:\", weighted_f1_score_train)\n",
        "print(\"Conditional Entropy:\", overall_cond_entropy_train)\n"
      ]
    },
    {
      "cell_type": "code",
      "execution_count": null,
      "metadata": {
        "colab": {
          "base_uri": "https://localhost:8080/"
        },
        "id": "xWMAmWRzESP-",
        "outputId": "3cb18c1b-6d7c-47c9-a59d-f664fa44e0a4"
      },
      "outputs": [
        {
          "output_type": "stream",
          "name": "stdout",
          "text": [
            "K = 31\n",
            "Precision: 0.9282542759052373\n",
            "Recall: 0.9428845692342376\n",
            "F1 Score: 0.932946568686486\n",
            "Conditional Entropy: 0.18497176345029206\n"
          ]
        }
      ],
      "source": [
        "# K = 31\n",
        "#Calculate the Precision, Recall, F1 score, and Conditional Entropy\n",
        "precision, recall, f1_score = precision_recall_f1_train(trainconfusion31)\n",
        "cond_entropy, overall_cond_entropy_train = conditional_entropy_train(trainconfusion31)\n",
        "\n",
        "# Get the overall Precision, Recall, and F1 score\n",
        "labels_count_train = np.sum(trainconfusion31, axis=1)\n",
        "total_samples_train = np.sum(labels_count_train)\n",
        "\n",
        "# Weighted average\n",
        "weighted_precision_train = np.sum(precision * labels_count_train) / total_samples_train\n",
        "weighted_recall_train = np.sum(recall * labels_count_train) / total_samples_train\n",
        "weighted_f1_score_train = np.sum(f1_score * labels_count_train) / total_samples_train\n",
        "#weighted_cond_entropy = np.sum(cond_entropy * labels_count) / total_samples\n",
        "\n",
        "print(\"K = 31\")\n",
        "print(\"Precision:\", weighted_precision_train)\n",
        "print(\"Recall:\", weighted_recall_train)\n",
        "print(\"F1 Score:\", weighted_f1_score_train)\n",
        "print(\"Conditional Entropy:\", overall_cond_entropy_train)\n"
      ]
    },
    {
      "cell_type": "code",
      "execution_count": null,
      "metadata": {
        "colab": {
          "base_uri": "https://localhost:8080/"
        },
        "id": "tZQyBkwyEgxJ",
        "outputId": "170edde3-1eb3-4917-f59d-5288bbae6ac9"
      },
      "outputs": [
        {
          "output_type": "stream",
          "name": "stdout",
          "text": [
            "K = 45\n",
            "Precision: 0.9645692850955185\n",
            "Recall: 0.9746420286373932\n",
            "F1 Score: 0.9690723582552736\n",
            "Conditional Entropy: 0.09797305393375313\n"
          ]
        }
      ],
      "source": [
        "# K = 45\n",
        "#Calculate the Precision, Recall, F1 score, and Conditional Entropy\n",
        "precision, recall, f1_score = precision_recall_f1_train(trainconfusion45)\n",
        "cond_entropy, overall_cond_entropy_train = conditional_entropy_train(trainconfusion45)\n",
        "\n",
        "# Get the overall Precision, Recall, and F1 score\n",
        "labels_count_train = np.sum(trainconfusion45, axis=1)\n",
        "total_samples_train = np.sum(labels_count_train)\n",
        "\n",
        "# Weighted average\n",
        "weighted_precision_train = np.sum(precision * labels_count_train) / total_samples_train\n",
        "weighted_recall_train = np.sum(recall * labels_count_train) / total_samples_train\n",
        "weighted_f1_score_train = np.sum(f1_score * labels_count_train) / total_samples_train\n",
        "#weighted_cond_entropy = np.sum(cond_entropy * labels_count) / total_samples\n",
        "\n",
        "print(\"K = 45\")\n",
        "print(\"Precision:\", weighted_precision_train)\n",
        "print(\"Recall:\", weighted_recall_train)\n",
        "print(\"F1 Score:\", weighted_f1_score_train)\n",
        "print(\"Conditional Entropy:\", overall_cond_entropy_train)\n"
      ]
    },
    {
      "cell_type": "markdown",
      "metadata": {
        "id": "YZCC1opqDJz-"
      },
      "source": [
        "Kmeans Evaluation Using Test Dataset"
      ]
    },
    {
      "cell_type": "code",
      "execution_count": null,
      "metadata": {
        "id": "3Zuwo2SVBdbH"
      },
      "outputs": [],
      "source": [
        "#Compute Precision, Recall, and F1 score\n",
        "def precision_recall_f1_test(testconfusion):\n",
        "    eps=1e-9\n",
        "    tp = np.diagonal(testconfusion)\n",
        "    fp = np.sum(testconfusion, axis=0) - tp\n",
        "    fn = np.sum(testconfusion, axis=1) - tp\n",
        "    precision = tp / (tp + fp + eps)\n",
        "    recall = tp / (tp + fn + eps)\n",
        "    f1_score = 2 * (precision * recall) / (precision + recall + eps)\n",
        "    return precision, recall, f1_score\n",
        "\n",
        "#Create a function to compute the Conditional Entropy\n",
        "def conditional_entropy_test(testconfusion):\n",
        "    eps = 1e-10\n",
        "    # Normalize the confusion matrix\n",
        "    norm_confusion_matrix = testconfusion / (np.sum(testconfusion, axis=1, keepdims=True) + eps)\n",
        "    norm_confusion_matrix += eps\n",
        "    # Compute the conditional entropy\n",
        "    entropy = -np.sum(np.nan_to_num(norm_confusion_matrix * np.log2(norm_confusion_matrix), neginf=0), axis=1)\n",
        "    # Compute the overall conditional entropy\n",
        "    labels_count = np.sum(testconfusion, axis=1)\n",
        "    total_samples = np.sum(labels_count)\n",
        "    overall_cond_entropy = np.sum(entropy * labels_count) / total_samples\n",
        "\n",
        "    return entropy, overall_cond_entropy\n"
      ]
    },
    {
      "cell_type": "code",
      "execution_count": null,
      "metadata": {
        "colab": {
          "base_uri": "https://localhost:8080/"
        },
        "id": "DrEYJwlhzwh2",
        "outputId": "e65be3ad-ba64-4b2f-8ef9-9e34e48e8a5a"
      },
      "outputs": [
        {
          "name": "stdout",
          "output_type": "stream",
          "text": [
            "K = 7\n",
            "Precision: 0.5902959842837558\n",
            "Recall: 0.4466999999998263\n",
            "F1 Score: 0.43769704435247275\n",
            "Conditional Entropy: 0.720606644033084\n"
          ]
        }
      ],
      "source": [
        "# K = 7\n",
        "\n",
        "#Calculate the Precision, Recall, F1 score, and Conditional Entropy\n",
        "precision_test, recall_test, f1_score_test = precision_recall_f1_test(testconfusion7)\n",
        "cond_entropy_test, overall_cond_entropy_test = conditional_entropy_test(testconfusion7)\n",
        "\n",
        "# Get the overall Precision, Recall, and F1 score\n",
        "labels_count_test = np.sum(testconfusion7, axis=1)\n",
        "total_samples_test = np.sum(labels_count_test)\n",
        "\n",
        "# Weighted average\n",
        "weighted_precision_test = np.sum(precision_test * labels_count_test) / total_samples_test\n",
        "weighted_recall_test = np.sum(recall_test * labels_count_test) / total_samples_test\n",
        "weighted_f1_score_test = np.sum(f1_score_test * labels_count_test) / total_samples_test\n",
        "\n",
        "print(\"K = 7\")\n",
        "print(\"Precision:\", weighted_precision_test)\n",
        "print(\"Recall:\", weighted_recall_test)\n",
        "print(\"F1 Score:\", weighted_f1_score_test)\n",
        "print(\"Conditional Entropy:\", overall_cond_entropy_test)\n"
      ]
    },
    {
      "cell_type": "code",
      "execution_count": null,
      "metadata": {
        "colab": {
          "base_uri": "https://localhost:8080/"
        },
        "id": "r8Z8HDbLBohr",
        "outputId": "7b94e822-90d2-4a68-e09b-6784470c3212"
      },
      "outputs": [
        {
          "name": "stdout",
          "output_type": "stream",
          "text": [
            "K = 15\n",
            "Precision: 0.6163838679347801\n",
            "Recall: 0.4175999999997613\n",
            "F1 Score: 0.4218814275388331\n",
            "Conditional Entropy: 0.6871778404859293\n"
          ]
        }
      ],
      "source": [
        "# K = 15\n",
        "\n",
        "#Calculate the Precision, Recall, F1 score, and Conditional Entropy\n",
        "precision_test, recall_test, f1_score_test = precision_recall_f1_test(testconfusion15)\n",
        "cond_entropy_test, overall_cond_entropy_test = conditional_entropy_test(testconfusion15)\n",
        "\n",
        "# Get the overall Precision, Recall, and F1 score\n",
        "labels_count_test = np.sum(testconfusion15, axis=1)\n",
        "total_samples_test = np.sum(labels_count_test)\n",
        "\n",
        "# Weighted average\n",
        "weighted_precision_test = np.sum(precision_test * labels_count_test) / total_samples_test\n",
        "weighted_recall_test = np.sum(recall_test * labels_count_test) / total_samples_test\n",
        "weighted_f1_score_test = np.sum(f1_score_test * labels_count_test) / total_samples_test\n",
        "\n",
        "print(\"K = 15\")\n",
        "print(\"Precision:\", weighted_precision_test)\n",
        "print(\"Recall:\", weighted_recall_test)\n",
        "print(\"F1 Score:\", weighted_f1_score_test)\n",
        "print(\"Conditional Entropy:\", overall_cond_entropy_test)\n"
      ]
    },
    {
      "cell_type": "code",
      "execution_count": null,
      "metadata": {
        "colab": {
          "base_uri": "https://localhost:8080/"
        },
        "id": "kdM3qvQKBq2a",
        "outputId": "2f43dc31-397a-4b4e-de41-0b4a88b40171"
      },
      "outputs": [
        {
          "name": "stdout",
          "output_type": "stream",
          "text": [
            "K = 23\n",
            "Precision: 0.6832020384861281\n",
            "Recall: 0.672699999999762\n",
            "F1 Score: 0.6517474713250574\n",
            "Conditional Entropy: 0.7105107250074697\n"
          ]
        }
      ],
      "source": [
        "# K = 23\n",
        "\n",
        "#Calculate the Precision, Recall, F1 score, and Conditional Entropy\n",
        "precision_test, recall_test, f1_score_test = precision_recall_f1_test(testconfusion23)\n",
        "cond_entropy_test, overall_cond_entropy_test = conditional_entropy_test(testconfusion23)\n",
        "\n",
        "# Get the overall Precision, Recall, and F1 score\n",
        "labels_count_test = np.sum(testconfusion23, axis=1)\n",
        "total_samples_test = np.sum(labels_count_test)\n",
        "\n",
        "# Weighted average\n",
        "weighted_precision_test = np.sum(precision_test * labels_count_test) / total_samples_test\n",
        "weighted_recall_test = np.sum(recall_test * labels_count_test) / total_samples_test\n",
        "weighted_f1_score_test = np.sum(f1_score_test * labels_count_test) / total_samples_test\n",
        "\n",
        "print(\"K = 23\")\n",
        "print(\"Precision:\", weighted_precision_test)\n",
        "print(\"Recall:\", weighted_recall_test)\n",
        "print(\"F1 Score:\", weighted_f1_score_test)\n",
        "print(\"Conditional Entropy:\", overall_cond_entropy_test)\n"
      ]
    },
    {
      "cell_type": "code",
      "execution_count": null,
      "metadata": {
        "colab": {
          "base_uri": "https://localhost:8080/"
        },
        "id": "IY9_v3YVBtqm",
        "outputId": "a17c56e9-d247-40d5-93e9-4792ad38014c"
      },
      "outputs": [
        {
          "output_type": "stream",
          "name": "stdout",
          "text": [
            "K = 31\n",
            "Precision: 0.6621665626722625\n",
            "Recall: 0.5150999999997784\n",
            "F1 Score: 0.48089427506642535\n",
            "Conditional Entropy: 0.5219225885909471\n"
          ]
        }
      ],
      "source": [
        "# K = 31\n",
        "\n",
        "#Calculate the Precision, Recall, F1 score, and Conditional Entropy\n",
        "precision_test, recall_test, f1_score_test = precision_recall_f1_test(testconfusion31)\n",
        "cond_entropy_test, overall_cond_entropy_test = conditional_entropy_test(testconfusion31)\n",
        "\n",
        "# Get the overall Precision, Recall, and F1 score\n",
        "labels_count_test = np.sum(testconfusion31, axis=1)\n",
        "total_samples_test = np.sum(labels_count_test)\n",
        "\n",
        "# Weighted average\n",
        "weighted_precision_test = np.sum(precision_test * labels_count_test) / total_samples_test\n",
        "weighted_recall_test = np.sum(recall_test * labels_count_test) / total_samples_test\n",
        "weighted_f1_score_test = np.sum(f1_score_test * labels_count_test) / total_samples_test\n",
        "\n",
        "print(\"K = 31\")\n",
        "print(\"Precision:\", weighted_precision_test)\n",
        "print(\"Recall:\", weighted_recall_test)\n",
        "print(\"F1 Score:\", weighted_f1_score_test)\n",
        "print(\"Conditional Entropy:\", overall_cond_entropy_test)\n"
      ]
    },
    {
      "cell_type": "code",
      "execution_count": null,
      "metadata": {
        "colab": {
          "base_uri": "https://localhost:8080/"
        },
        "id": "_yEB6bFOBvGu",
        "outputId": "bff2beba-c354-46a1-b048-3ae79ea679ea"
      },
      "outputs": [
        {
          "output_type": "stream",
          "name": "stdout",
          "text": [
            "K = 45\n",
            "Precision: 0.754952084328548\n",
            "Recall: 0.5227999999997743\n",
            "F1 Score: 0.492891974162841\n",
            "Conditional Entropy: 0.46408371527860126\n"
          ]
        }
      ],
      "source": [
        "# K = 45\n",
        "\n",
        "#Calculate the Precision, Recall, F1 score, and Conditional Entropy\n",
        "precision_test, recall_test, f1_score_test = precision_recall_f1_test(testconfusion45)\n",
        "cond_entropy_test, overall_cond_entropy_test = conditional_entropy_test(testconfusion45)\n",
        "\n",
        "# Get the overall Precision, Recall, and F1 score\n",
        "labels_count_test = np.sum(testconfusion45, axis=1)\n",
        "total_samples_test = np.sum(labels_count_test)\n",
        "\n",
        "# Weighted average\n",
        "weighted_precision_test = np.sum(precision_test * labels_count_test) / total_samples_test\n",
        "weighted_recall_test = np.sum(recall_test * labels_count_test) / total_samples_test\n",
        "weighted_f1_score_test = np.sum(f1_score_test * labels_count_test) / total_samples_test\n",
        "\n",
        "print(\"K = 45\")\n",
        "print(\"Precision:\", weighted_precision_test)\n",
        "print(\"Recall:\", weighted_recall_test)\n",
        "print(\"F1 Score:\", weighted_f1_score_test)\n",
        "print(\"Conditional Entropy:\", overall_cond_entropy_test)\n"
      ]
    },
    {
      "cell_type": "markdown",
      "metadata": {
        "id": "ieZ_SHbrErrv"
      },
      "source": [
        "Normalized Cut Evaluation"
      ]
    },
    {
      "cell_type": "code",
      "execution_count": null,
      "metadata": {
        "colab": {
          "base_uri": "https://localhost:8080/"
        },
        "id": "R_WFceM6qfvK",
        "outputId": "ed7f95ed-02f8-450a-ff7b-b18643309a1e"
      },
      "outputs": [
        {
          "output_type": "stream",
          "name": "stdout",
          "text": [
            "Precision: 0.9695340500472123\n",
            "Recall:    0.967741935360215\n",
            "F1 Score:  0.9667364886912092\n",
            "Conditional Entropy: 0.12581092009846861\n"
          ]
        }
      ],
      "source": [
        "# Compute Precision, Recall, and F1 score\n",
        "def precision_recall_f1(trainconfusionncut):\n",
        "    eps=1e-9\n",
        "    tp = np.diagonal(trainconfusionncut)\n",
        "    fp = np.sum(trainconfusionncut, axis=0) - tp\n",
        "    fn = np.sum(trainconfusionncut, axis=1) - tp\n",
        "    precision = tp / (tp + fp + eps)\n",
        "    recall = tp / (tp + fn + eps)\n",
        "    f1_score = 2 * (precision * recall) / (precision + recall + eps)\n",
        "    return precision, recall, f1_score\n",
        "\n",
        "# Create a function to compute the Conditional Entropy\n",
        "def conditional_entropy(trainconfusionncut):\n",
        "    eps = 1e-10\n",
        "    # Normalize the confusion matrix\n",
        "    norm_confusion_matrix = trainconfusionncut / (np.sum(trainconfusionncut, axis=1, keepdims=True) + eps)\n",
        "    norm_confusion_matrix += eps\n",
        "    # Compute the conditional entropy\n",
        "    entropy = -np.sum(np.nan_to_num(norm_confusion_matrix * np.log2(norm_confusion_matrix), neginf=0), axis=1)\n",
        "    # Compute the overall conditional entropy\n",
        "    labels_count = np.sum(trainconfusionncut, axis=1)\n",
        "    total_samples = np.sum(labels_count)\n",
        "    overall_cond_entropy = np.sum(entropy * labels_count) / total_samples\n",
        "\n",
        "    return entropy, overall_cond_entropy\n",
        "\n",
        "# Calculate the Precision, Recall, F1 score, and Conditional Entropy\n",
        "precision, recall, f1_score = precision_recall_f1(trainconfusionncut)\n",
        "cond_entropy, overall_cond_entropy = conditional_entropy(trainconfusionncut)\n",
        "\n",
        "# Get the overall Precision, Recall, and F1 score\n",
        "labels_count = np.sum(trainconfusionncut, axis=1)\n",
        "total_samples = np.sum(labels_count)\n",
        "\n",
        "# Weighted average\n",
        "weighted_precision = np.sum(precision * labels_count) / total_samples\n",
        "weighted_recall = np.sum(recall * labels_count) / total_samples\n",
        "weighted_f1_score = np.sum(f1_score * labels_count) / total_samples\n",
        "\n",
        "# Print the evaluation metrics\n",
        "print(\"Precision:\", weighted_precision)\n",
        "print(\"Recall:   \", weighted_recall)\n",
        "print(\"F1 Score: \", weighted_f1_score)\n",
        "print(\"Conditional Entropy:\", overall_cond_entropy)\n"
      ]
    },
    {
      "cell_type": "markdown",
      "metadata": {
        "id": "xQEo-T06-uG9"
      },
      "source": [
        "# DBSCAN (New Clustering)"
      ]
    },
    {
      "cell_type": "code",
      "execution_count": null,
      "metadata": {
        "id": "eQj5lhR0-zTT"
      },
      "outputs": [],
      "source": [
        "import pandas as pd\n",
        "from sklearn.metrics.pairwise import pairwise_distances\n",
        "import numpy as np\n",
        "from time import time\n",
        "import matplotlib.pyplot as plt\n",
        "from sklearn.model_selection import train_test_split\n",
        "from sklearn.cluster import KMeans\n",
        "import random\n",
        "from sklearn.utils import check_random_state"
      ]
    },
    {
      "cell_type": "code",
      "execution_count": null,
      "metadata": {
        "id": "y7j6ltII-1D5"
      },
      "outputs": [],
      "source": [
        "col_names = [\"duration\",\"protocol_type\",\"service\",\"flag\",\"src_bytes\",\n",
        "    \"dst_bytes\",\"land\",\"wrong_fragment\",\"urgent\",\"hot\",\"num_failed_logins\",\n",
        "    \"logged_in\",\"num_compromised\",\"root_shell\",\"su_attempted\",\"num_root\",\n",
        "    \"num_file_creations\",\"num_shells\",\"num_access_files\",\"num_outbound_cmds\",\n",
        "    \"is_host_login\",\"is_guest_login\",\"count\",\"srv_count\",\"serror_rate\",\n",
        "    \"srv_serror_rate\",\"rerror_rate\",\"srv_rerror_rate\",\"same_srv_rate\",\n",
        "    \"diff_srv_rate\",\"srv_diff_host_rate\",\"dst_host_count\",\"dst_host_srv_count\",\n",
        "    \"dst_host_same_srv_rate\",\"dst_host_diff_srv_rate\",\"dst_host_same_src_port_rate\",\n",
        "    \"dst_host_srv_diff_host_rate\",\"dst_host_serror_rate\",\"dst_host_srv_serror_rate\",\n",
        "    \"dst_host_rerror_rate\",\"dst_host_srv_rerror_rate\",\"label\"]\n",
        "train = pd.read_csv(\"/content/drive/MyDrive/PR/assignment2/kddcup.data_10_percent.gz\", compression='gzip', header=None, names = col_names)\n"
      ]
    },
    {
      "cell_type": "code",
      "execution_count": null,
      "metadata": {
        "id": "RkBDjzkR-63Q"
      },
      "outputs": [],
      "source": [
        "train=pd.DataFrame(train).sample(frac=0.025).reset_index(drop=True)"
      ]
    },
    {
      "cell_type": "code",
      "execution_count": null,
      "metadata": {
        "colab": {
          "base_uri": "https://localhost:8080/"
        },
        "id": "etHal7niCksV",
        "outputId": "01acbd5e-6a11-4b36-d1d3-13748d3534c9"
      },
      "outputs": [
        {
          "name": "stdout",
          "output_type": "stream",
          "text": [
            "(12351, 42)\n"
          ]
        }
      ],
      "source": [
        "print(train.shape)"
      ]
    },
    {
      "cell_type": "code",
      "execution_count": null,
      "metadata": {
        "id": "eIOXdk49-8jU"
      },
      "outputs": [],
      "source": [
        "# labeltrain contains all the unique labels in the 'train' dataframe\n",
        "labeltrain=pd.concat([train['label']]).unique()\n",
        "labeltrain_num=np.zeros(len(labeltrain))\n",
        "# for loop replaces each unique label with an integer label.\n",
        "for i in range (len(labeltrain)):\n",
        "  labeltrain_num[i]=i\n",
        "\n",
        "train['label'].replace(labeltrain,\n",
        "                        labeltrain_num, inplace=True)\n",
        "\n",
        "# services contains all the unique services in the 'train' dataframe.\n",
        "# for loop replaces each unique service with an integer service.\n",
        "services=pd.concat([train['service']]).unique()\n",
        "services_num=np.zeros(len(services))\n",
        "for i in range (len(services)):\n",
        "  services_num[i]=i\n",
        "\n",
        "# flags contains all the unique flags in the 'train' dataframe.\n",
        "# for loop replaces each unique flag with an integer flag.\n",
        "flags=pd.concat([train['flag']]).unique()\n",
        "flags_num=np.zeros(len(flags))\n",
        "\n",
        "for i in range(len(flags)):\n",
        "  flags_num[i]=i\n",
        "\n",
        "# labels contains all the unique labels in the 'train' dataframe.\n",
        "# for loop replaces each unique label with an integer label.\n",
        "\n",
        "labels=pd.concat([train['label']]).unique()\n",
        "labels_num=np.zeros(len(labels))\n",
        "for i in range (len(labels)):\n",
        "  labels_num[i]=i\n",
        "\n",
        "train['protocol_type'].replace(['tcp', 'udp','icmp'],\n",
        "                        [0, 1,2], inplace=True)\n",
        "\n",
        "\n",
        "train['service'].replace(services,services_num, inplace=True)\n",
        "\n",
        "train['flag'].replace(flags,flags_num, inplace=True)"
      ]
    },
    {
      "cell_type": "code",
      "execution_count": null,
      "metadata": {
        "id": "2MWguqM9--rM"
      },
      "outputs": [],
      "source": [
        "import numpy as np\n",
        "\n",
        "def dbscan(X, eps, min_samples):\n",
        "    labels = np.zeros(len(X))\n",
        "    C = 0\n",
        "    for i in range(len(X)):\n",
        "        if labels[i] != 0:\n",
        "            continue\n",
        "        neighbors = get_neighbors(X, i, eps)\n",
        "        if len(neighbors) < min_samples:\n",
        "            labels[i] = -1\n",
        "            continue\n",
        "        C += 1\n",
        "        labels[i] = C\n",
        "        expand_cluster(X, labels, i, neighbors, C, eps, min_samples)\n",
        "    return labels\n",
        "\n",
        "def expand_cluster(X, labels, i, neighbors, C, eps, min_samples):\n",
        "    for j in neighbors:\n",
        "        if labels[j] == -1:\n",
        "            labels[j] = C\n",
        "        elif labels[j] != 0:\n",
        "            continue\n",
        "        labels[j] = C\n",
        "        new_neighbors = get_neighbors(X, j, eps)\n",
        "        if len(new_neighbors) >= min_samples:\n",
        "            neighbors = neighbors.union(new_neighbors)\n",
        "    return\n",
        "\n",
        "def get_neighbors(X, i, eps):\n",
        "    neighbors = set()\n",
        "    for j in range(len(X)):\n",
        "        if np.linalg.norm(X[i] - X[j]) < eps:\n",
        "            neighbors.add(j)\n",
        "    return neighbors"
      ]
    },
    {
      "cell_type": "code",
      "execution_count": null,
      "metadata": {
        "id": "Vr4d8b_J_AG1"
      },
      "outputs": [],
      "source": [
        "from sklearn.preprocessing import StandardScaler\n",
        "\n",
        "# create an instance of this class called scaler\n",
        "scaler = StandardScaler()\n",
        "# The train DataFrame is copied to train_10. Then, the label column is dropped from train_10 \n",
        "# and stored in a separate variable called label_true\n",
        "label_true=train['label']\n",
        "train_10=train.copy()\n",
        "train_10.drop('label', axis=1, inplace=True)\n",
        "# the fit_transform() method is used to scale the data in train_10 and store the scaled data \n",
        "# in a new DataFrame called train_10_scaled. The columns of train_10_scaled are set to be the same \n",
        "# as the columns of train_10\n",
        "train_10_scaled = pd.DataFrame(scaler.fit_transform(train_10), columns=train_10.columns)\n"
      ]
    },
    {
      "cell_type": "code",
      "execution_count": null,
      "metadata": {
        "id": "DyAYrmQc_FLe",
        "colab": {
          "base_uri": "https://localhost:8080/",
          "height": 249
        },
        "outputId": "f458e78f-4258-4397-99db-359baf2609e2"
      },
      "outputs": [
        {
          "output_type": "error",
          "ename": "KeyboardInterrupt",
          "evalue": "ignored",
          "traceback": [
            "\u001b[0;31m---------------------------------------------------------------------------\u001b[0m",
            "\u001b[0;31mKeyboardInterrupt\u001b[0m                         Traceback (most recent call last)",
            "\u001b[0;32m<ipython-input-144-1609f0fca013>\u001b[0m in \u001b[0;36m<cell line: 2>\u001b[0;34m()\u001b[0m\n\u001b[1;32m      1\u001b[0m \u001b[0mX\u001b[0m \u001b[0;34m=\u001b[0m \u001b[0mtrain_10_scaled\u001b[0m\u001b[0;34m.\u001b[0m\u001b[0mto_numpy\u001b[0m\u001b[0;34m(\u001b[0m\u001b[0;34m)\u001b[0m\u001b[0;34m\u001b[0m\u001b[0;34m\u001b[0m\u001b[0m\n\u001b[0;32m----> 2\u001b[0;31m \u001b[0mlabels\u001b[0m \u001b[0;34m=\u001b[0m \u001b[0mdbscan\u001b[0m\u001b[0;34m(\u001b[0m\u001b[0mX\u001b[0m\u001b[0;34m,\u001b[0m \u001b[0meps\u001b[0m\u001b[0;34m=\u001b[0m\u001b[0;36m2\u001b[0m\u001b[0;34m,\u001b[0m \u001b[0mmin_samples\u001b[0m\u001b[0;34m=\u001b[0m\u001b[0;36m5\u001b[0m\u001b[0;34m)\u001b[0m\u001b[0;34m\u001b[0m\u001b[0;34m\u001b[0m\u001b[0m\n\u001b[0m",
            "\u001b[0;32m<ipython-input-139-7a6a4504fced>\u001b[0m in \u001b[0;36mdbscan\u001b[0;34m(X, eps, min_samples)\u001b[0m\n\u001b[1;32m     13\u001b[0m         \u001b[0mC\u001b[0m \u001b[0;34m+=\u001b[0m \u001b[0;36m1\u001b[0m\u001b[0;34m\u001b[0m\u001b[0;34m\u001b[0m\u001b[0m\n\u001b[1;32m     14\u001b[0m         \u001b[0mlabels\u001b[0m\u001b[0;34m[\u001b[0m\u001b[0mi\u001b[0m\u001b[0;34m]\u001b[0m \u001b[0;34m=\u001b[0m \u001b[0mC\u001b[0m\u001b[0;34m\u001b[0m\u001b[0;34m\u001b[0m\u001b[0m\n\u001b[0;32m---> 15\u001b[0;31m         \u001b[0mexpand_cluster\u001b[0m\u001b[0;34m(\u001b[0m\u001b[0mX\u001b[0m\u001b[0;34m,\u001b[0m \u001b[0mlabels\u001b[0m\u001b[0;34m,\u001b[0m \u001b[0mi\u001b[0m\u001b[0;34m,\u001b[0m \u001b[0mneighbors\u001b[0m\u001b[0;34m,\u001b[0m \u001b[0mC\u001b[0m\u001b[0;34m,\u001b[0m \u001b[0meps\u001b[0m\u001b[0;34m,\u001b[0m \u001b[0mmin_samples\u001b[0m\u001b[0;34m)\u001b[0m\u001b[0;34m\u001b[0m\u001b[0;34m\u001b[0m\u001b[0m\n\u001b[0m\u001b[1;32m     16\u001b[0m     \u001b[0;32mreturn\u001b[0m \u001b[0mlabels\u001b[0m\u001b[0;34m\u001b[0m\u001b[0;34m\u001b[0m\u001b[0m\n\u001b[1;32m     17\u001b[0m \u001b[0;34m\u001b[0m\u001b[0m\n",
            "\u001b[0;32m<ipython-input-139-7a6a4504fced>\u001b[0m in \u001b[0;36mexpand_cluster\u001b[0;34m(X, labels, i, neighbors, C, eps, min_samples)\u001b[0m\n\u001b[1;32m     23\u001b[0m             \u001b[0;32mcontinue\u001b[0m\u001b[0;34m\u001b[0m\u001b[0;34m\u001b[0m\u001b[0m\n\u001b[1;32m     24\u001b[0m         \u001b[0mlabels\u001b[0m\u001b[0;34m[\u001b[0m\u001b[0mj\u001b[0m\u001b[0;34m]\u001b[0m \u001b[0;34m=\u001b[0m \u001b[0mC\u001b[0m\u001b[0;34m\u001b[0m\u001b[0;34m\u001b[0m\u001b[0m\n\u001b[0;32m---> 25\u001b[0;31m         \u001b[0mnew_neighbors\u001b[0m \u001b[0;34m=\u001b[0m \u001b[0mget_neighbors\u001b[0m\u001b[0;34m(\u001b[0m\u001b[0mX\u001b[0m\u001b[0;34m,\u001b[0m \u001b[0mj\u001b[0m\u001b[0;34m,\u001b[0m \u001b[0meps\u001b[0m\u001b[0;34m)\u001b[0m\u001b[0;34m\u001b[0m\u001b[0;34m\u001b[0m\u001b[0m\n\u001b[0m\u001b[1;32m     26\u001b[0m         \u001b[0;32mif\u001b[0m \u001b[0mlen\u001b[0m\u001b[0;34m(\u001b[0m\u001b[0mnew_neighbors\u001b[0m\u001b[0;34m)\u001b[0m \u001b[0;34m>=\u001b[0m \u001b[0mmin_samples\u001b[0m\u001b[0;34m:\u001b[0m\u001b[0;34m\u001b[0m\u001b[0;34m\u001b[0m\u001b[0m\n\u001b[1;32m     27\u001b[0m             \u001b[0mneighbors\u001b[0m \u001b[0;34m=\u001b[0m \u001b[0mneighbors\u001b[0m\u001b[0;34m.\u001b[0m\u001b[0munion\u001b[0m\u001b[0;34m(\u001b[0m\u001b[0mnew_neighbors\u001b[0m\u001b[0;34m)\u001b[0m\u001b[0;34m\u001b[0m\u001b[0;34m\u001b[0m\u001b[0m\n",
            "\u001b[0;32m<ipython-input-139-7a6a4504fced>\u001b[0m in \u001b[0;36mget_neighbors\u001b[0;34m(X, i, eps)\u001b[0m\n\u001b[1;32m     31\u001b[0m     \u001b[0mneighbors\u001b[0m \u001b[0;34m=\u001b[0m \u001b[0mset\u001b[0m\u001b[0;34m(\u001b[0m\u001b[0;34m)\u001b[0m\u001b[0;34m\u001b[0m\u001b[0;34m\u001b[0m\u001b[0m\n\u001b[1;32m     32\u001b[0m     \u001b[0;32mfor\u001b[0m \u001b[0mj\u001b[0m \u001b[0;32min\u001b[0m \u001b[0mrange\u001b[0m\u001b[0;34m(\u001b[0m\u001b[0mlen\u001b[0m\u001b[0;34m(\u001b[0m\u001b[0mX\u001b[0m\u001b[0;34m)\u001b[0m\u001b[0;34m)\u001b[0m\u001b[0;34m:\u001b[0m\u001b[0;34m\u001b[0m\u001b[0;34m\u001b[0m\u001b[0m\n\u001b[0;32m---> 33\u001b[0;31m         \u001b[0;32mif\u001b[0m \u001b[0mnp\u001b[0m\u001b[0;34m.\u001b[0m\u001b[0mlinalg\u001b[0m\u001b[0;34m.\u001b[0m\u001b[0mnorm\u001b[0m\u001b[0;34m(\u001b[0m\u001b[0mX\u001b[0m\u001b[0;34m[\u001b[0m\u001b[0mi\u001b[0m\u001b[0;34m]\u001b[0m \u001b[0;34m-\u001b[0m \u001b[0mX\u001b[0m\u001b[0;34m[\u001b[0m\u001b[0mj\u001b[0m\u001b[0;34m]\u001b[0m\u001b[0;34m)\u001b[0m \u001b[0;34m<\u001b[0m \u001b[0meps\u001b[0m\u001b[0;34m:\u001b[0m\u001b[0;34m\u001b[0m\u001b[0;34m\u001b[0m\u001b[0m\n\u001b[0m\u001b[1;32m     34\u001b[0m             \u001b[0mneighbors\u001b[0m\u001b[0;34m.\u001b[0m\u001b[0madd\u001b[0m\u001b[0;34m(\u001b[0m\u001b[0mj\u001b[0m\u001b[0;34m)\u001b[0m\u001b[0;34m\u001b[0m\u001b[0;34m\u001b[0m\u001b[0m\n\u001b[1;32m     35\u001b[0m     \u001b[0;32mreturn\u001b[0m \u001b[0mneighbors\u001b[0m\u001b[0;34m\u001b[0m\u001b[0;34m\u001b[0m\u001b[0m\n",
            "\u001b[0;32m/usr/local/lib/python3.9/dist-packages/numpy/core/overrides.py\u001b[0m in \u001b[0;36mnorm\u001b[0;34m(*args, **kwargs)\u001b[0m\n",
            "\u001b[0;32m/usr/local/lib/python3.9/dist-packages/numpy/linalg/linalg.py\u001b[0m in \u001b[0;36mnorm\u001b[0;34m(x, ord, axis, keepdims)\u001b[0m\n\u001b[1;32m   2514\u001b[0m                 \u001b[0msqnorm\u001b[0m \u001b[0;34m=\u001b[0m \u001b[0mdot\u001b[0m\u001b[0;34m(\u001b[0m\u001b[0mx\u001b[0m\u001b[0;34m.\u001b[0m\u001b[0mreal\u001b[0m\u001b[0;34m,\u001b[0m \u001b[0mx\u001b[0m\u001b[0;34m.\u001b[0m\u001b[0mreal\u001b[0m\u001b[0;34m)\u001b[0m \u001b[0;34m+\u001b[0m \u001b[0mdot\u001b[0m\u001b[0;34m(\u001b[0m\u001b[0mx\u001b[0m\u001b[0;34m.\u001b[0m\u001b[0mimag\u001b[0m\u001b[0;34m,\u001b[0m \u001b[0mx\u001b[0m\u001b[0;34m.\u001b[0m\u001b[0mimag\u001b[0m\u001b[0;34m)\u001b[0m\u001b[0;34m\u001b[0m\u001b[0;34m\u001b[0m\u001b[0m\n\u001b[1;32m   2515\u001b[0m             \u001b[0;32melse\u001b[0m\u001b[0;34m:\u001b[0m\u001b[0;34m\u001b[0m\u001b[0;34m\u001b[0m\u001b[0m\n\u001b[0;32m-> 2516\u001b[0;31m                 \u001b[0msqnorm\u001b[0m \u001b[0;34m=\u001b[0m \u001b[0mdot\u001b[0m\u001b[0;34m(\u001b[0m\u001b[0mx\u001b[0m\u001b[0;34m,\u001b[0m \u001b[0mx\u001b[0m\u001b[0;34m)\u001b[0m\u001b[0;34m\u001b[0m\u001b[0;34m\u001b[0m\u001b[0m\n\u001b[0m\u001b[1;32m   2517\u001b[0m             \u001b[0mret\u001b[0m \u001b[0;34m=\u001b[0m \u001b[0msqrt\u001b[0m\u001b[0;34m(\u001b[0m\u001b[0msqnorm\u001b[0m\u001b[0;34m)\u001b[0m\u001b[0;34m\u001b[0m\u001b[0;34m\u001b[0m\u001b[0m\n\u001b[1;32m   2518\u001b[0m             \u001b[0;32mif\u001b[0m \u001b[0mkeepdims\u001b[0m\u001b[0;34m:\u001b[0m\u001b[0;34m\u001b[0m\u001b[0;34m\u001b[0m\u001b[0m\n",
            "\u001b[0;32m/usr/local/lib/python3.9/dist-packages/numpy/core/overrides.py\u001b[0m in \u001b[0;36mdot\u001b[0;34m(*args, **kwargs)\u001b[0m\n",
            "\u001b[0;31mKeyboardInterrupt\u001b[0m: "
          ]
        }
      ],
      "source": [
        "X = train_10_scaled.to_numpy()\n",
        "labels = dbscan(X, eps=2, min_samples=5)"
      ]
    },
    {
      "cell_type": "code",
      "execution_count": null,
      "metadata": {
        "colab": {
          "base_uri": "https://localhost:8080/"
        },
        "id": "97t-Ji3j_Gbm",
        "outputId": "49819604-70fb-4789-c8ba-f00c0e3ffab7"
      },
      "outputs": [
        {
          "name": "stdout",
          "output_type": "stream",
          "text": [
            "24702\n",
            "[[1. 0.]\n",
            " [2. 1.]\n",
            " [3. 2.]\n",
            " ...\n",
            " [3. 2.]\n",
            " [3. 2.]\n",
            " [2. 1.]]\n"
          ]
        }
      ],
      "source": [
        "# C is a 2D array\n",
        "# one column containing the predicted labels and another column containing the true labels\n",
        "# The first column is populated with the predicted labels obtained from a clustering algorithm\n",
        "# and the second column is populated with the true labels of the data points\n",
        "c=np.zeros((labels.size,2))\n",
        "c[:,0]=labels\n",
        "c[:,1]=label_true\n",
        "print(c.size)\n",
        "print(c)"
      ]
    },
    {
      "cell_type": "code",
      "execution_count": null,
      "metadata": {
        "colab": {
          "base_uri": "https://localhost:8080/"
        },
        "id": "J7YAAanPCEQE",
        "outputId": "cd37f87a-f70e-42db-b067-a0eaa0e45087"
      },
      "outputs": [
        {
          "name": "stdout",
          "output_type": "stream",
          "text": [
            "0.9940085823010283\n"
          ]
        }
      ],
      "source": [
        "# creates a set of unique labels assigned by the clustering algorithm to different data points.\n",
        "unique_labels = set(labels)\n",
        "# initializes a 2D array of zeros to store the matching results between true labels and clustering labels\n",
        "matching=np.zeros ((len(unique_labels),len(labeltrain)))\n",
        "# populates the matching array with the count of how many times a true label appears in a given cluster label\n",
        "for sample in c:\n",
        "  matching [int (sample [0]),int (sample [1])]= matching [int (sample [0]),int (sample[1])]+1\n",
        "\n",
        "# initializes an array of -1 to store the final assigned labels for each cluster.\n",
        "cllabel=np.ones (len(unique_labels))*-1 \n",
        "# assigns the final label to each cluster based on the maximum count of true labels assigned to the cluster\n",
        "for i in range (len(unique_labels)):\n",
        "  cllabel[i]=np.argmax(matching[i,:])\n",
        "\n",
        "#  initializes a 2D array of zeros to store the confusion matrix for the clustering algorithm.\n",
        "trainconfusion=np.zeros ( (labels.size,labels.size))\n",
        "# populates the confusion matrix with the count of data points that belong to each true label and the clustering label\n",
        "for sample in c:\n",
        "  trainconfusion [int (sample [1]),int(cllabel [int (sample [0])])]=trainconfusion [int (sample [1]),int (cllabel[int (sample[0])])]+1\n",
        "# computes the clustering accuracy by taking the ratio of the sum of diagonal elements to the total number of data points\n",
        "print(np.trace(trainconfusion)/sum(sum(trainconfusion)))"
      ]
    },
    {
      "cell_type": "code",
      "execution_count": null,
      "metadata": {
        "id": "L5r4TJmLCF37"
      },
      "outputs": [],
      "source": [
        "#Compute Precision, Recall, and F1 score \n",
        "def precision_recall_f1(trainconfusion):\n",
        "  eps=1e-9\n",
        "  tp = np.diagonal (trainconfusion)\n",
        "  fp = np. sum(trainconfusion, axis=0) - tp\n",
        "  fn = np. sum(trainconfusion, axis=1)- tp\n",
        "  p = tp / (tp + fp + eps)\n",
        "  r = tp / (tp + fn + eps)\n",
        "  f1_score = 2 * (p * r) / (p + r + eps)\n",
        "  return p, r"
      ]
    },
    {
      "cell_type": "code",
      "execution_count": null,
      "metadata": {
        "colab": {
          "base_uri": "https://localhost:8080/"
        },
        "id": "S6dkeC7RCHDw",
        "outputId": "c3fdd4a7-2112-4198-c77f-e1d04b905bb0"
      },
      "outputs": [
        {
          "name": "stdout",
          "output_type": "stream",
          "text": [
            "Precision: 0.993\n",
            "Recall: 0.994\n"
          ]
        }
      ],
      "source": [
        "p,r=precision_recall_f1(trainconfusion)\n",
        "\n",
        "count=np.sum(trainconfusion,axis=1)\n",
        "total=np.sum(count)\n",
        "p=np.sum(p*count)/total\n",
        "r=np.sum(r*count)/total\n",
        "print(\"Precision: {:.3f}\".format(p))\n",
        "print(\"Recall: {:.3f}\".format(r))"
      ]
    },
    {
      "cell_type": "code",
      "execution_count": null,
      "metadata": {
        "colab": {
          "base_uri": "https://localhost:8080/"
        },
        "id": "RS4qeE2jCIWY",
        "outputId": "15efa71e-f7fc-4ccd-bf72-c995ec4aef37"
      },
      "outputs": [
        {
          "name": "stdout",
          "output_type": "stream",
          "text": [
            "f1: 0.994\n"
          ]
        }
      ],
      "source": [
        "f1 = 2 * (p * r) / (p + r)\n",
        "print(\"f1: {:.3f}\".format(f1))"
      ]
    },
    {
      "cell_type": "code",
      "execution_count": null,
      "metadata": {
        "colab": {
          "base_uri": "https://localhost:8080/"
        },
        "id": "WUs7EA8fCJl2",
        "outputId": "2195f5ea-96bb-49a1-8c66-58fe52ff51bc"
      },
      "outputs": [
        {
          "name": "stdout",
          "output_type": "stream",
          "text": [
            "Conditional entropy: 0.059\n"
          ]
        }
      ],
      "source": [
        "# Compute the conditional entropy\n",
        "n = np.sum(trainconfusion)\n",
        "ce = 0\n",
        "for i in range(trainconfusion.shape[0]):\n",
        "    for j in range(trainconfusion.shape[1]):\n",
        "        if trainconfusion[i,j] > 0:\n",
        "            p_ij = trainconfusion[i,j] / n\n",
        "            p_j = np.sum(trainconfusion[:,j]) / n\n",
        "            ce += p_ij * np.log2(p_j / p_ij)\n",
        "\n",
        "print(\"Conditional entropy: {:.3f}\".format(ce))"
      ]
    }
  ],
  "metadata": {
    "colab": {
      "provenance": [],
      "collapsed_sections": [
        "ihUgeAKdO4XQ"
      ]
    },
    "kernelspec": {
      "display_name": "Python 3",
      "name": "python3"
    },
    "language_info": {
      "name": "python"
    }
  },
  "nbformat": 4,
  "nbformat_minor": 0
}